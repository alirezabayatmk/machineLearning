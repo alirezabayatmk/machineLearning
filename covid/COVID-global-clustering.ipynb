{
 "cells": [
  {
   "cell_type": "markdown",
   "metadata": {},
   "source": [
    "# COVID Global Clustering Scratchpad \n",
    "\n",
    "Do the same using Global data from John Hopkins University\n",
    "\n",
    "https://github.com/CSSEGISandData/COVID-19   \n",
    "\n",
    "https://raw.githubusercontent.com/CSSEGISandData/COVID-19/master/csse_covid_19_data/csse_covid_19_time_series/time_series_covid19_confirmed_global.csv\n",
    "\n",
    "\n",
    "## Clustering thoughts\n",
    "- Take case + death counts\n",
    "- Trending pattern (?  what is a good single value metric.. rolling 3 day or some momentum value?)\n",
    "- Adding population data\n",
    "- Population density ?\n",
    "- Median age and age distributions\n",
    "\n",
    "Attempt to cluster the countries ?\n"
   ]
  },
  {
   "cell_type": "code",
   "execution_count": 72,
   "metadata": {},
   "outputs": [
    {
     "data": {
      "text/plain": [
       "'cases'"
      ]
     },
     "metadata": {},
     "output_type": "display_data"
    },
    {
     "data": {
      "text/html": [
       "<div>\n",
       "<style scoped>\n",
       "    .dataframe tbody tr th:only-of-type {\n",
       "        vertical-align: middle;\n",
       "    }\n",
       "\n",
       "    .dataframe tbody tr th {\n",
       "        vertical-align: top;\n",
       "    }\n",
       "\n",
       "    .dataframe thead th {\n",
       "        text-align: right;\n",
       "    }\n",
       "</style>\n",
       "<table border=\"1\" class=\"dataframe\">\n",
       "  <thead>\n",
       "    <tr style=\"text-align: right;\">\n",
       "      <th>Country/Region</th>\n",
       "      <th>US</th>\n",
       "      <th>Spain</th>\n",
       "      <th>Italy</th>\n",
       "      <th>France</th>\n",
       "      <th>Germany</th>\n",
       "      <th>United Kingdom</th>\n",
       "      <th>China</th>\n",
       "      <th>Iran</th>\n",
       "      <th>Turkey</th>\n",
       "      <th>Belgium</th>\n",
       "      <th>...</th>\n",
       "      <th>MS Zaandam</th>\n",
       "      <th>Holy See</th>\n",
       "      <th>Papua New Guinea</th>\n",
       "      <th>Mauritania</th>\n",
       "      <th>Western Sahara</th>\n",
       "      <th>Burundi</th>\n",
       "      <th>Bhutan</th>\n",
       "      <th>Sao Tome and Principe</th>\n",
       "      <th>South Sudan</th>\n",
       "      <th>Yemen</th>\n",
       "    </tr>\n",
       "  </thead>\n",
       "  <tbody>\n",
       "    <tr>\n",
       "      <td>2020-04-12</td>\n",
       "      <td>555313</td>\n",
       "      <td>166831</td>\n",
       "      <td>156363</td>\n",
       "      <td>121712</td>\n",
       "      <td>127854</td>\n",
       "      <td>85206</td>\n",
       "      <td>83134</td>\n",
       "      <td>71686</td>\n",
       "      <td>56956</td>\n",
       "      <td>29647</td>\n",
       "      <td>...</td>\n",
       "      <td>9</td>\n",
       "      <td>8</td>\n",
       "      <td>2</td>\n",
       "      <td>7</td>\n",
       "      <td>6</td>\n",
       "      <td>5</td>\n",
       "      <td>5</td>\n",
       "      <td>4</td>\n",
       "      <td>4</td>\n",
       "      <td>1</td>\n",
       "    </tr>\n",
       "    <tr>\n",
       "      <td>2020-04-13</td>\n",
       "      <td>580619</td>\n",
       "      <td>170099</td>\n",
       "      <td>159516</td>\n",
       "      <td>125394</td>\n",
       "      <td>130072</td>\n",
       "      <td>89570</td>\n",
       "      <td>83213</td>\n",
       "      <td>73303</td>\n",
       "      <td>61049</td>\n",
       "      <td>30589</td>\n",
       "      <td>...</td>\n",
       "      <td>9</td>\n",
       "      <td>8</td>\n",
       "      <td>2</td>\n",
       "      <td>7</td>\n",
       "      <td>6</td>\n",
       "      <td>5</td>\n",
       "      <td>5</td>\n",
       "      <td>4</td>\n",
       "      <td>4</td>\n",
       "      <td>1</td>\n",
       "    </tr>\n",
       "    <tr>\n",
       "      <td>2020-04-14</td>\n",
       "      <td>607670</td>\n",
       "      <td>172541</td>\n",
       "      <td>162488</td>\n",
       "      <td>131361</td>\n",
       "      <td>131359</td>\n",
       "      <td>94845</td>\n",
       "      <td>83306</td>\n",
       "      <td>74877</td>\n",
       "      <td>65111</td>\n",
       "      <td>31119</td>\n",
       "      <td>...</td>\n",
       "      <td>9</td>\n",
       "      <td>8</td>\n",
       "      <td>2</td>\n",
       "      <td>7</td>\n",
       "      <td>6</td>\n",
       "      <td>5</td>\n",
       "      <td>5</td>\n",
       "      <td>4</td>\n",
       "      <td>4</td>\n",
       "      <td>1</td>\n",
       "    </tr>\n",
       "    <tr>\n",
       "      <td>2020-04-15</td>\n",
       "      <td>636350</td>\n",
       "      <td>177644</td>\n",
       "      <td>165155</td>\n",
       "      <td>134582</td>\n",
       "      <td>134753</td>\n",
       "      <td>99483</td>\n",
       "      <td>83356</td>\n",
       "      <td>76389</td>\n",
       "      <td>69392</td>\n",
       "      <td>33573</td>\n",
       "      <td>...</td>\n",
       "      <td>9</td>\n",
       "      <td>8</td>\n",
       "      <td>2</td>\n",
       "      <td>7</td>\n",
       "      <td>6</td>\n",
       "      <td>5</td>\n",
       "      <td>5</td>\n",
       "      <td>4</td>\n",
       "      <td>4</td>\n",
       "      <td>1</td>\n",
       "    </tr>\n",
       "    <tr>\n",
       "      <td>2020-04-16</td>\n",
       "      <td>667801</td>\n",
       "      <td>184948</td>\n",
       "      <td>168941</td>\n",
       "      <td>147091</td>\n",
       "      <td>137698</td>\n",
       "      <td>104145</td>\n",
       "      <td>83403</td>\n",
       "      <td>77995</td>\n",
       "      <td>74193</td>\n",
       "      <td>34809</td>\n",
       "      <td>...</td>\n",
       "      <td>9</td>\n",
       "      <td>8</td>\n",
       "      <td>7</td>\n",
       "      <td>7</td>\n",
       "      <td>6</td>\n",
       "      <td>5</td>\n",
       "      <td>5</td>\n",
       "      <td>4</td>\n",
       "      <td>4</td>\n",
       "      <td>1</td>\n",
       "    </tr>\n",
       "  </tbody>\n",
       "</table>\n",
       "<p>5 rows × 185 columns</p>\n",
       "</div>"
      ],
      "text/plain": [
       "Country/Region      US   Spain   Italy  France  Germany  United Kingdom  \\\n",
       "2020-04-12      555313  166831  156363  121712   127854           85206   \n",
       "2020-04-13      580619  170099  159516  125394   130072           89570   \n",
       "2020-04-14      607670  172541  162488  131361   131359           94845   \n",
       "2020-04-15      636350  177644  165155  134582   134753           99483   \n",
       "2020-04-16      667801  184948  168941  147091   137698          104145   \n",
       "\n",
       "Country/Region  China   Iran  Turkey  Belgium  ...  MS Zaandam  Holy See  \\\n",
       "2020-04-12      83134  71686   56956    29647  ...           9         8   \n",
       "2020-04-13      83213  73303   61049    30589  ...           9         8   \n",
       "2020-04-14      83306  74877   65111    31119  ...           9         8   \n",
       "2020-04-15      83356  76389   69392    33573  ...           9         8   \n",
       "2020-04-16      83403  77995   74193    34809  ...           9         8   \n",
       "\n",
       "Country/Region  Papua New Guinea  Mauritania  Western Sahara  Burundi  Bhutan  \\\n",
       "2020-04-12                     2           7               6        5       5   \n",
       "2020-04-13                     2           7               6        5       5   \n",
       "2020-04-14                     2           7               6        5       5   \n",
       "2020-04-15                     2           7               6        5       5   \n",
       "2020-04-16                     7           7               6        5       5   \n",
       "\n",
       "Country/Region  Sao Tome and Principe  South Sudan  Yemen  \n",
       "2020-04-12                          4            4      1  \n",
       "2020-04-13                          4            4      1  \n",
       "2020-04-14                          4            4      1  \n",
       "2020-04-15                          4            4      1  \n",
       "2020-04-16                          4            4      1  \n",
       "\n",
       "[5 rows x 185 columns]"
      ]
     },
     "metadata": {},
     "output_type": "display_data"
    },
    {
     "data": {
      "text/plain": [
       "'chg in cases'"
      ]
     },
     "metadata": {},
     "output_type": "display_data"
    },
    {
     "data": {
      "text/html": [
       "<div>\n",
       "<style scoped>\n",
       "    .dataframe tbody tr th:only-of-type {\n",
       "        vertical-align: middle;\n",
       "    }\n",
       "\n",
       "    .dataframe tbody tr th {\n",
       "        vertical-align: top;\n",
       "    }\n",
       "\n",
       "    .dataframe thead th {\n",
       "        text-align: right;\n",
       "    }\n",
       "</style>\n",
       "<table border=\"1\" class=\"dataframe\">\n",
       "  <thead>\n",
       "    <tr style=\"text-align: right;\">\n",
       "      <th>Country/Region</th>\n",
       "      <th>US</th>\n",
       "      <th>Spain</th>\n",
       "      <th>Italy</th>\n",
       "      <th>France</th>\n",
       "      <th>Germany</th>\n",
       "      <th>United Kingdom</th>\n",
       "      <th>China</th>\n",
       "      <th>Iran</th>\n",
       "      <th>Turkey</th>\n",
       "      <th>Belgium</th>\n",
       "      <th>...</th>\n",
       "      <th>MS Zaandam</th>\n",
       "      <th>Holy See</th>\n",
       "      <th>Papua New Guinea</th>\n",
       "      <th>Mauritania</th>\n",
       "      <th>Western Sahara</th>\n",
       "      <th>Burundi</th>\n",
       "      <th>Bhutan</th>\n",
       "      <th>Sao Tome and Principe</th>\n",
       "      <th>South Sudan</th>\n",
       "      <th>Yemen</th>\n",
       "    </tr>\n",
       "  </thead>\n",
       "  <tbody>\n",
       "    <tr>\n",
       "      <td>2020-04-12</td>\n",
       "      <td>NaN</td>\n",
       "      <td>NaN</td>\n",
       "      <td>NaN</td>\n",
       "      <td>NaN</td>\n",
       "      <td>NaN</td>\n",
       "      <td>NaN</td>\n",
       "      <td>NaN</td>\n",
       "      <td>NaN</td>\n",
       "      <td>NaN</td>\n",
       "      <td>NaN</td>\n",
       "      <td>...</td>\n",
       "      <td>NaN</td>\n",
       "      <td>NaN</td>\n",
       "      <td>NaN</td>\n",
       "      <td>NaN</td>\n",
       "      <td>NaN</td>\n",
       "      <td>NaN</td>\n",
       "      <td>NaN</td>\n",
       "      <td>NaN</td>\n",
       "      <td>NaN</td>\n",
       "      <td>NaN</td>\n",
       "    </tr>\n",
       "    <tr>\n",
       "      <td>2020-04-13</td>\n",
       "      <td>25306.0</td>\n",
       "      <td>3268.0</td>\n",
       "      <td>3153.0</td>\n",
       "      <td>3682.0</td>\n",
       "      <td>2218.0</td>\n",
       "      <td>4364.0</td>\n",
       "      <td>79.0</td>\n",
       "      <td>1617.0</td>\n",
       "      <td>4093.0</td>\n",
       "      <td>942.0</td>\n",
       "      <td>...</td>\n",
       "      <td>0.0</td>\n",
       "      <td>0.0</td>\n",
       "      <td>0.0</td>\n",
       "      <td>0.0</td>\n",
       "      <td>0.0</td>\n",
       "      <td>0.0</td>\n",
       "      <td>0.0</td>\n",
       "      <td>0.0</td>\n",
       "      <td>0.0</td>\n",
       "      <td>0.0</td>\n",
       "    </tr>\n",
       "    <tr>\n",
       "      <td>2020-04-14</td>\n",
       "      <td>27051.0</td>\n",
       "      <td>2442.0</td>\n",
       "      <td>2972.0</td>\n",
       "      <td>5967.0</td>\n",
       "      <td>1287.0</td>\n",
       "      <td>5275.0</td>\n",
       "      <td>93.0</td>\n",
       "      <td>1574.0</td>\n",
       "      <td>4062.0</td>\n",
       "      <td>530.0</td>\n",
       "      <td>...</td>\n",
       "      <td>0.0</td>\n",
       "      <td>0.0</td>\n",
       "      <td>0.0</td>\n",
       "      <td>0.0</td>\n",
       "      <td>0.0</td>\n",
       "      <td>0.0</td>\n",
       "      <td>0.0</td>\n",
       "      <td>0.0</td>\n",
       "      <td>0.0</td>\n",
       "      <td>0.0</td>\n",
       "    </tr>\n",
       "    <tr>\n",
       "      <td>2020-04-15</td>\n",
       "      <td>28680.0</td>\n",
       "      <td>5103.0</td>\n",
       "      <td>2667.0</td>\n",
       "      <td>3221.0</td>\n",
       "      <td>3394.0</td>\n",
       "      <td>4638.0</td>\n",
       "      <td>50.0</td>\n",
       "      <td>1512.0</td>\n",
       "      <td>4281.0</td>\n",
       "      <td>2454.0</td>\n",
       "      <td>...</td>\n",
       "      <td>0.0</td>\n",
       "      <td>0.0</td>\n",
       "      <td>0.0</td>\n",
       "      <td>0.0</td>\n",
       "      <td>0.0</td>\n",
       "      <td>0.0</td>\n",
       "      <td>0.0</td>\n",
       "      <td>0.0</td>\n",
       "      <td>0.0</td>\n",
       "      <td>0.0</td>\n",
       "    </tr>\n",
       "    <tr>\n",
       "      <td>2020-04-16</td>\n",
       "      <td>31451.0</td>\n",
       "      <td>7304.0</td>\n",
       "      <td>3786.0</td>\n",
       "      <td>12509.0</td>\n",
       "      <td>2945.0</td>\n",
       "      <td>4662.0</td>\n",
       "      <td>47.0</td>\n",
       "      <td>1606.0</td>\n",
       "      <td>4801.0</td>\n",
       "      <td>1236.0</td>\n",
       "      <td>...</td>\n",
       "      <td>0.0</td>\n",
       "      <td>0.0</td>\n",
       "      <td>5.0</td>\n",
       "      <td>0.0</td>\n",
       "      <td>0.0</td>\n",
       "      <td>0.0</td>\n",
       "      <td>0.0</td>\n",
       "      <td>0.0</td>\n",
       "      <td>0.0</td>\n",
       "      <td>0.0</td>\n",
       "    </tr>\n",
       "  </tbody>\n",
       "</table>\n",
       "<p>5 rows × 185 columns</p>\n",
       "</div>"
      ],
      "text/plain": [
       "Country/Region       US   Spain   Italy   France  Germany  United Kingdom  \\\n",
       "2020-04-12          NaN     NaN     NaN      NaN      NaN             NaN   \n",
       "2020-04-13      25306.0  3268.0  3153.0   3682.0   2218.0          4364.0   \n",
       "2020-04-14      27051.0  2442.0  2972.0   5967.0   1287.0          5275.0   \n",
       "2020-04-15      28680.0  5103.0  2667.0   3221.0   3394.0          4638.0   \n",
       "2020-04-16      31451.0  7304.0  3786.0  12509.0   2945.0          4662.0   \n",
       "\n",
       "Country/Region  China    Iran  Turkey  Belgium  ...  MS Zaandam  Holy See  \\\n",
       "2020-04-12        NaN     NaN     NaN      NaN  ...         NaN       NaN   \n",
       "2020-04-13       79.0  1617.0  4093.0    942.0  ...         0.0       0.0   \n",
       "2020-04-14       93.0  1574.0  4062.0    530.0  ...         0.0       0.0   \n",
       "2020-04-15       50.0  1512.0  4281.0   2454.0  ...         0.0       0.0   \n",
       "2020-04-16       47.0  1606.0  4801.0   1236.0  ...         0.0       0.0   \n",
       "\n",
       "Country/Region  Papua New Guinea  Mauritania  Western Sahara  Burundi  Bhutan  \\\n",
       "2020-04-12                   NaN         NaN             NaN      NaN     NaN   \n",
       "2020-04-13                   0.0         0.0             0.0      0.0     0.0   \n",
       "2020-04-14                   0.0         0.0             0.0      0.0     0.0   \n",
       "2020-04-15                   0.0         0.0             0.0      0.0     0.0   \n",
       "2020-04-16                   5.0         0.0             0.0      0.0     0.0   \n",
       "\n",
       "Country/Region  Sao Tome and Principe  South Sudan  Yemen  \n",
       "2020-04-12                        NaN          NaN    NaN  \n",
       "2020-04-13                        0.0          0.0    0.0  \n",
       "2020-04-14                        0.0          0.0    0.0  \n",
       "2020-04-15                        0.0          0.0    0.0  \n",
       "2020-04-16                        0.0          0.0    0.0  \n",
       "\n",
       "[5 rows x 185 columns]"
      ]
     },
     "metadata": {},
     "output_type": "display_data"
    },
    {
     "data": {
      "text/plain": [
       "'deaths'"
      ]
     },
     "metadata": {},
     "output_type": "display_data"
    },
    {
     "data": {
      "text/html": [
       "<div>\n",
       "<style scoped>\n",
       "    .dataframe tbody tr th:only-of-type {\n",
       "        vertical-align: middle;\n",
       "    }\n",
       "\n",
       "    .dataframe tbody tr th {\n",
       "        vertical-align: top;\n",
       "    }\n",
       "\n",
       "    .dataframe thead th {\n",
       "        text-align: right;\n",
       "    }\n",
       "</style>\n",
       "<table border=\"1\" class=\"dataframe\">\n",
       "  <thead>\n",
       "    <tr style=\"text-align: right;\">\n",
       "      <th>Country/Region</th>\n",
       "      <th>US</th>\n",
       "      <th>Italy</th>\n",
       "      <th>Spain</th>\n",
       "      <th>France</th>\n",
       "      <th>United Kingdom</th>\n",
       "      <th>Iran</th>\n",
       "      <th>Belgium</th>\n",
       "      <th>Germany</th>\n",
       "      <th>China</th>\n",
       "      <th>Netherlands</th>\n",
       "      <th>...</th>\n",
       "      <th>Fiji</th>\n",
       "      <th>Saint Vincent and the Grenadines</th>\n",
       "      <th>Chad</th>\n",
       "      <th>Saint Lucia</th>\n",
       "      <th>Eritrea</th>\n",
       "      <th>Equatorial Guinea</th>\n",
       "      <th>Saint Kitts and Nevis</th>\n",
       "      <th>Dominica</th>\n",
       "      <th>Rwanda</th>\n",
       "      <th>Central African Republic</th>\n",
       "    </tr>\n",
       "  </thead>\n",
       "  <tbody>\n",
       "    <tr>\n",
       "      <td>2020-04-12</td>\n",
       "      <td>22019</td>\n",
       "      <td>19899</td>\n",
       "      <td>17209</td>\n",
       "      <td>14412</td>\n",
       "      <td>10629</td>\n",
       "      <td>4474</td>\n",
       "      <td>3600</td>\n",
       "      <td>3022</td>\n",
       "      <td>3343</td>\n",
       "      <td>2747</td>\n",
       "      <td>...</td>\n",
       "      <td>0</td>\n",
       "      <td>0</td>\n",
       "      <td>0</td>\n",
       "      <td>0</td>\n",
       "      <td>0</td>\n",
       "      <td>0</td>\n",
       "      <td>0</td>\n",
       "      <td>0</td>\n",
       "      <td>0</td>\n",
       "      <td>0</td>\n",
       "    </tr>\n",
       "    <tr>\n",
       "      <td>2020-04-13</td>\n",
       "      <td>23528</td>\n",
       "      <td>20465</td>\n",
       "      <td>17756</td>\n",
       "      <td>14986</td>\n",
       "      <td>11347</td>\n",
       "      <td>4585</td>\n",
       "      <td>3903</td>\n",
       "      <td>3194</td>\n",
       "      <td>3345</td>\n",
       "      <td>2833</td>\n",
       "      <td>...</td>\n",
       "      <td>0</td>\n",
       "      <td>0</td>\n",
       "      <td>0</td>\n",
       "      <td>0</td>\n",
       "      <td>0</td>\n",
       "      <td>0</td>\n",
       "      <td>0</td>\n",
       "      <td>0</td>\n",
       "      <td>0</td>\n",
       "      <td>0</td>\n",
       "    </tr>\n",
       "    <tr>\n",
       "      <td>2020-04-14</td>\n",
       "      <td>25831</td>\n",
       "      <td>21067</td>\n",
       "      <td>18056</td>\n",
       "      <td>15748</td>\n",
       "      <td>12129</td>\n",
       "      <td>4683</td>\n",
       "      <td>4157</td>\n",
       "      <td>3294</td>\n",
       "      <td>3345</td>\n",
       "      <td>2955</td>\n",
       "      <td>...</td>\n",
       "      <td>0</td>\n",
       "      <td>0</td>\n",
       "      <td>0</td>\n",
       "      <td>0</td>\n",
       "      <td>0</td>\n",
       "      <td>0</td>\n",
       "      <td>0</td>\n",
       "      <td>0</td>\n",
       "      <td>0</td>\n",
       "      <td>0</td>\n",
       "    </tr>\n",
       "    <tr>\n",
       "      <td>2020-04-15</td>\n",
       "      <td>28325</td>\n",
       "      <td>21645</td>\n",
       "      <td>18708</td>\n",
       "      <td>17188</td>\n",
       "      <td>12894</td>\n",
       "      <td>4777</td>\n",
       "      <td>4440</td>\n",
       "      <td>3804</td>\n",
       "      <td>3346</td>\n",
       "      <td>3145</td>\n",
       "      <td>...</td>\n",
       "      <td>0</td>\n",
       "      <td>0</td>\n",
       "      <td>0</td>\n",
       "      <td>0</td>\n",
       "      <td>0</td>\n",
       "      <td>0</td>\n",
       "      <td>0</td>\n",
       "      <td>0</td>\n",
       "      <td>0</td>\n",
       "      <td>0</td>\n",
       "    </tr>\n",
       "    <tr>\n",
       "      <td>2020-04-16</td>\n",
       "      <td>32916</td>\n",
       "      <td>22170</td>\n",
       "      <td>19315</td>\n",
       "      <td>17941</td>\n",
       "      <td>13759</td>\n",
       "      <td>4869</td>\n",
       "      <td>4857</td>\n",
       "      <td>4052</td>\n",
       "      <td>3346</td>\n",
       "      <td>3327</td>\n",
       "      <td>...</td>\n",
       "      <td>0</td>\n",
       "      <td>0</td>\n",
       "      <td>0</td>\n",
       "      <td>0</td>\n",
       "      <td>0</td>\n",
       "      <td>0</td>\n",
       "      <td>0</td>\n",
       "      <td>0</td>\n",
       "      <td>0</td>\n",
       "      <td>0</td>\n",
       "    </tr>\n",
       "  </tbody>\n",
       "</table>\n",
       "<p>5 rows × 185 columns</p>\n",
       "</div>"
      ],
      "text/plain": [
       "Country/Region     US  Italy  Spain  France  United Kingdom  Iran  Belgium  \\\n",
       "2020-04-12      22019  19899  17209   14412           10629  4474     3600   \n",
       "2020-04-13      23528  20465  17756   14986           11347  4585     3903   \n",
       "2020-04-14      25831  21067  18056   15748           12129  4683     4157   \n",
       "2020-04-15      28325  21645  18708   17188           12894  4777     4440   \n",
       "2020-04-16      32916  22170  19315   17941           13759  4869     4857   \n",
       "\n",
       "Country/Region  Germany  China  Netherlands  ...  Fiji  \\\n",
       "2020-04-12         3022   3343         2747  ...     0   \n",
       "2020-04-13         3194   3345         2833  ...     0   \n",
       "2020-04-14         3294   3345         2955  ...     0   \n",
       "2020-04-15         3804   3346         3145  ...     0   \n",
       "2020-04-16         4052   3346         3327  ...     0   \n",
       "\n",
       "Country/Region  Saint Vincent and the Grenadines  Chad  Saint Lucia  Eritrea  \\\n",
       "2020-04-12                                     0     0            0        0   \n",
       "2020-04-13                                     0     0            0        0   \n",
       "2020-04-14                                     0     0            0        0   \n",
       "2020-04-15                                     0     0            0        0   \n",
       "2020-04-16                                     0     0            0        0   \n",
       "\n",
       "Country/Region  Equatorial Guinea  Saint Kitts and Nevis  Dominica  Rwanda  \\\n",
       "2020-04-12                      0                      0         0       0   \n",
       "2020-04-13                      0                      0         0       0   \n",
       "2020-04-14                      0                      0         0       0   \n",
       "2020-04-15                      0                      0         0       0   \n",
       "2020-04-16                      0                      0         0       0   \n",
       "\n",
       "Country/Region  Central African Republic  \n",
       "2020-04-12                             0  \n",
       "2020-04-13                             0  \n",
       "2020-04-14                             0  \n",
       "2020-04-15                             0  \n",
       "2020-04-16                             0  \n",
       "\n",
       "[5 rows x 185 columns]"
      ]
     },
     "metadata": {},
     "output_type": "display_data"
    },
    {
     "data": {
      "text/plain": [
       "'chg in deaths'"
      ]
     },
     "metadata": {},
     "output_type": "display_data"
    },
    {
     "data": {
      "text/html": [
       "<div>\n",
       "<style scoped>\n",
       "    .dataframe tbody tr th:only-of-type {\n",
       "        vertical-align: middle;\n",
       "    }\n",
       "\n",
       "    .dataframe tbody tr th {\n",
       "        vertical-align: top;\n",
       "    }\n",
       "\n",
       "    .dataframe thead th {\n",
       "        text-align: right;\n",
       "    }\n",
       "</style>\n",
       "<table border=\"1\" class=\"dataframe\">\n",
       "  <thead>\n",
       "    <tr style=\"text-align: right;\">\n",
       "      <th>Country/Region</th>\n",
       "      <th>US</th>\n",
       "      <th>Italy</th>\n",
       "      <th>Spain</th>\n",
       "      <th>France</th>\n",
       "      <th>United Kingdom</th>\n",
       "      <th>Iran</th>\n",
       "      <th>Belgium</th>\n",
       "      <th>Germany</th>\n",
       "      <th>China</th>\n",
       "      <th>Netherlands</th>\n",
       "      <th>...</th>\n",
       "      <th>Fiji</th>\n",
       "      <th>Saint Vincent and the Grenadines</th>\n",
       "      <th>Chad</th>\n",
       "      <th>Saint Lucia</th>\n",
       "      <th>Eritrea</th>\n",
       "      <th>Equatorial Guinea</th>\n",
       "      <th>Saint Kitts and Nevis</th>\n",
       "      <th>Dominica</th>\n",
       "      <th>Rwanda</th>\n",
       "      <th>Central African Republic</th>\n",
       "    </tr>\n",
       "  </thead>\n",
       "  <tbody>\n",
       "    <tr>\n",
       "      <td>2020-04-12</td>\n",
       "      <td>NaN</td>\n",
       "      <td>NaN</td>\n",
       "      <td>NaN</td>\n",
       "      <td>NaN</td>\n",
       "      <td>NaN</td>\n",
       "      <td>NaN</td>\n",
       "      <td>NaN</td>\n",
       "      <td>NaN</td>\n",
       "      <td>NaN</td>\n",
       "      <td>NaN</td>\n",
       "      <td>...</td>\n",
       "      <td>NaN</td>\n",
       "      <td>NaN</td>\n",
       "      <td>NaN</td>\n",
       "      <td>NaN</td>\n",
       "      <td>NaN</td>\n",
       "      <td>NaN</td>\n",
       "      <td>NaN</td>\n",
       "      <td>NaN</td>\n",
       "      <td>NaN</td>\n",
       "      <td>NaN</td>\n",
       "    </tr>\n",
       "    <tr>\n",
       "      <td>2020-04-13</td>\n",
       "      <td>1509.0</td>\n",
       "      <td>566.0</td>\n",
       "      <td>547.0</td>\n",
       "      <td>574.0</td>\n",
       "      <td>718.0</td>\n",
       "      <td>111.0</td>\n",
       "      <td>303.0</td>\n",
       "      <td>172.0</td>\n",
       "      <td>2.0</td>\n",
       "      <td>86.0</td>\n",
       "      <td>...</td>\n",
       "      <td>0.0</td>\n",
       "      <td>0.0</td>\n",
       "      <td>0.0</td>\n",
       "      <td>0.0</td>\n",
       "      <td>0.0</td>\n",
       "      <td>0.0</td>\n",
       "      <td>0.0</td>\n",
       "      <td>0.0</td>\n",
       "      <td>0.0</td>\n",
       "      <td>0.0</td>\n",
       "    </tr>\n",
       "    <tr>\n",
       "      <td>2020-04-14</td>\n",
       "      <td>2303.0</td>\n",
       "      <td>602.0</td>\n",
       "      <td>300.0</td>\n",
       "      <td>762.0</td>\n",
       "      <td>782.0</td>\n",
       "      <td>98.0</td>\n",
       "      <td>254.0</td>\n",
       "      <td>100.0</td>\n",
       "      <td>0.0</td>\n",
       "      <td>122.0</td>\n",
       "      <td>...</td>\n",
       "      <td>0.0</td>\n",
       "      <td>0.0</td>\n",
       "      <td>0.0</td>\n",
       "      <td>0.0</td>\n",
       "      <td>0.0</td>\n",
       "      <td>0.0</td>\n",
       "      <td>0.0</td>\n",
       "      <td>0.0</td>\n",
       "      <td>0.0</td>\n",
       "      <td>0.0</td>\n",
       "    </tr>\n",
       "    <tr>\n",
       "      <td>2020-04-15</td>\n",
       "      <td>2494.0</td>\n",
       "      <td>578.0</td>\n",
       "      <td>652.0</td>\n",
       "      <td>1440.0</td>\n",
       "      <td>765.0</td>\n",
       "      <td>94.0</td>\n",
       "      <td>283.0</td>\n",
       "      <td>510.0</td>\n",
       "      <td>1.0</td>\n",
       "      <td>190.0</td>\n",
       "      <td>...</td>\n",
       "      <td>0.0</td>\n",
       "      <td>0.0</td>\n",
       "      <td>0.0</td>\n",
       "      <td>0.0</td>\n",
       "      <td>0.0</td>\n",
       "      <td>0.0</td>\n",
       "      <td>0.0</td>\n",
       "      <td>0.0</td>\n",
       "      <td>0.0</td>\n",
       "      <td>0.0</td>\n",
       "    </tr>\n",
       "    <tr>\n",
       "      <td>2020-04-16</td>\n",
       "      <td>4591.0</td>\n",
       "      <td>525.0</td>\n",
       "      <td>607.0</td>\n",
       "      <td>753.0</td>\n",
       "      <td>865.0</td>\n",
       "      <td>92.0</td>\n",
       "      <td>417.0</td>\n",
       "      <td>248.0</td>\n",
       "      <td>0.0</td>\n",
       "      <td>182.0</td>\n",
       "      <td>...</td>\n",
       "      <td>0.0</td>\n",
       "      <td>0.0</td>\n",
       "      <td>0.0</td>\n",
       "      <td>0.0</td>\n",
       "      <td>0.0</td>\n",
       "      <td>0.0</td>\n",
       "      <td>0.0</td>\n",
       "      <td>0.0</td>\n",
       "      <td>0.0</td>\n",
       "      <td>0.0</td>\n",
       "    </tr>\n",
       "  </tbody>\n",
       "</table>\n",
       "<p>5 rows × 185 columns</p>\n",
       "</div>"
      ],
      "text/plain": [
       "Country/Region      US  Italy  Spain  France  United Kingdom   Iran  Belgium  \\\n",
       "2020-04-12         NaN    NaN    NaN     NaN             NaN    NaN      NaN   \n",
       "2020-04-13      1509.0  566.0  547.0   574.0           718.0  111.0    303.0   \n",
       "2020-04-14      2303.0  602.0  300.0   762.0           782.0   98.0    254.0   \n",
       "2020-04-15      2494.0  578.0  652.0  1440.0           765.0   94.0    283.0   \n",
       "2020-04-16      4591.0  525.0  607.0   753.0           865.0   92.0    417.0   \n",
       "\n",
       "Country/Region  Germany  China  Netherlands  ...  Fiji  \\\n",
       "2020-04-12          NaN    NaN          NaN  ...   NaN   \n",
       "2020-04-13        172.0    2.0         86.0  ...   0.0   \n",
       "2020-04-14        100.0    0.0        122.0  ...   0.0   \n",
       "2020-04-15        510.0    1.0        190.0  ...   0.0   \n",
       "2020-04-16        248.0    0.0        182.0  ...   0.0   \n",
       "\n",
       "Country/Region  Saint Vincent and the Grenadines  Chad  Saint Lucia  Eritrea  \\\n",
       "2020-04-12                                   NaN   NaN          NaN      NaN   \n",
       "2020-04-13                                   0.0   0.0          0.0      0.0   \n",
       "2020-04-14                                   0.0   0.0          0.0      0.0   \n",
       "2020-04-15                                   0.0   0.0          0.0      0.0   \n",
       "2020-04-16                                   0.0   0.0          0.0      0.0   \n",
       "\n",
       "Country/Region  Equatorial Guinea  Saint Kitts and Nevis  Dominica  Rwanda  \\\n",
       "2020-04-12                    NaN                    NaN       NaN     NaN   \n",
       "2020-04-13                    0.0                    0.0       0.0     0.0   \n",
       "2020-04-14                    0.0                    0.0       0.0     0.0   \n",
       "2020-04-15                    0.0                    0.0       0.0     0.0   \n",
       "2020-04-16                    0.0                    0.0       0.0     0.0   \n",
       "\n",
       "Country/Region  Central African Republic  \n",
       "2020-04-12                           NaN  \n",
       "2020-04-13                           0.0  \n",
       "2020-04-14                           0.0  \n",
       "2020-04-15                           0.0  \n",
       "2020-04-16                           0.0  \n",
       "\n",
       "[5 rows x 185 columns]"
      ]
     },
     "metadata": {},
     "output_type": "display_data"
    }
   ],
   "source": [
    "import pandas as pd\n",
    "import numpy as np\n",
    "import matplotlib.pyplot as plt\n",
    "from io import StringIO\n",
    "import pandas as pd\n",
    "import requests\n",
    "\n",
    "dfc_graw = pd.read_csv('https://raw.githubusercontent.com/CSSEGISandData/COVID-19/master/csse_covid_19_data/csse_covid_19_time_series/time_series_covid19_confirmed_global.csv')\n",
    "dfd_graw = pd.read_csv('https://raw.githubusercontent.com/CSSEGISandData/COVID-19/master/csse_covid_19_data/csse_covid_19_time_series/time_series_covid19_deaths_global.csv')\n",
    "\n",
    "dfc_g = dfc_graw.drop(columns=['Lat','Long','Province/State']).groupby(['Country/Region']).sum().sort_values(dfc_graw.columns[-1], ascending=False)\n",
    "dfc_g = dfc_g.transpose()  \n",
    "dfc_g.index = pd.to_datetime(dfc_g.index)\n",
    "display('cases',dfc_g.tail())\n",
    "display('chg in cases',dfc_g.tail().diff(axis=0))\n",
    "\n",
    "dfd_g = dfd_graw.drop(columns=['Lat','Long','Province/State']).groupby(['Country/Region']).sum().sort_values(dfd_graw.columns[-1], ascending=False)\n",
    "dfd_g = dfd_g.transpose().tail(40)  # last 40 days ?\n",
    "dfd_g.index = pd.to_datetime(dfd_g.index) \n",
    "display('deaths',dfd_g.tail())\n",
    "display('chg in deaths',dfd_g.tail().diff(axis=0))\n",
    "\n",
    "#display('details of', dfd_g['Sudan'].tail(15), dfc_g['Sudan'].tail(15))\n"
   ]
  },
  {
   "cell_type": "markdown",
   "metadata": {},
   "source": [
    "# Global Population Comparisons"
   ]
  },
  {
   "cell_type": "code",
   "execution_count": 73,
   "metadata": {
    "scrolled": false
   },
   "outputs": [
    {
     "data": {
      "text/html": [
       "<div>\n",
       "<style scoped>\n",
       "    .dataframe tbody tr th:only-of-type {\n",
       "        vertical-align: middle;\n",
       "    }\n",
       "\n",
       "    .dataframe tbody tr th {\n",
       "        vertical-align: top;\n",
       "    }\n",
       "\n",
       "    .dataframe thead th {\n",
       "        text-align: right;\n",
       "    }\n",
       "</style>\n",
       "<table border=\"1\" class=\"dataframe\">\n",
       "  <thead>\n",
       "    <tr style=\"text-align: right;\">\n",
       "      <th></th>\n",
       "      <th>Country/Region</th>\n",
       "      <th>Country Code</th>\n",
       "      <th>Year</th>\n",
       "      <th>Value</th>\n",
       "    </tr>\n",
       "  </thead>\n",
       "  <tbody>\n",
       "    <tr>\n",
       "      <td>2711</td>\n",
       "      <td>World</td>\n",
       "      <td>WLD</td>\n",
       "      <td>2016</td>\n",
       "      <td>7426103221</td>\n",
       "    </tr>\n",
       "    <tr>\n",
       "      <td>1000</td>\n",
       "      <td>IDA &amp; IBRD total</td>\n",
       "      <td>IBT</td>\n",
       "      <td>2016</td>\n",
       "      <td>6256138021</td>\n",
       "    </tr>\n",
       "    <tr>\n",
       "      <td>1531</td>\n",
       "      <td>Low &amp; middle income</td>\n",
       "      <td>LMY</td>\n",
       "      <td>2016</td>\n",
       "      <td>6227752871</td>\n",
       "    </tr>\n",
       "    <tr>\n",
       "      <td>1885</td>\n",
       "      <td>Middle income</td>\n",
       "      <td>MIC</td>\n",
       "      <td>2016</td>\n",
       "      <td>5557635482</td>\n",
       "    </tr>\n",
       "    <tr>\n",
       "      <td>941</td>\n",
       "      <td>IBRD only</td>\n",
       "      <td>IBD</td>\n",
       "      <td>2016</td>\n",
       "      <td>4687686335</td>\n",
       "    </tr>\n",
       "  </tbody>\n",
       "</table>\n",
       "</div>"
      ],
      "text/plain": [
       "           Country/Region Country Code  Year       Value\n",
       "2711                World          WLD  2016  7426103221\n",
       "1000     IDA & IBRD total          IBT  2016  6256138021\n",
       "1531  Low & middle income          LMY  2016  6227752871\n",
       "1885        Middle income          MIC  2016  5557635482\n",
       "941             IBRD only          IBD  2016  4687686335"
      ]
     },
     "metadata": {},
     "output_type": "display_data"
    },
    {
     "data": {
      "text/plain": [
       "2020-04-16    185\n",
       "dtype: int64"
      ]
     },
     "metadata": {},
     "output_type": "display_data"
    },
    {
     "data": {
      "text/html": [
       "<div>\n",
       "<style scoped>\n",
       "    .dataframe tbody tr th:only-of-type {\n",
       "        vertical-align: middle;\n",
       "    }\n",
       "\n",
       "    .dataframe tbody tr th {\n",
       "        vertical-align: top;\n",
       "    }\n",
       "\n",
       "    .dataframe thead th {\n",
       "        text-align: right;\n",
       "    }\n",
       "</style>\n",
       "<table border=\"1\" class=\"dataframe\">\n",
       "  <thead>\n",
       "    <tr style=\"text-align: right;\">\n",
       "      <th></th>\n",
       "      <th>Country/Region</th>\n",
       "      <th>Cases</th>\n",
       "      <th>Country Code</th>\n",
       "      <th>Year</th>\n",
       "      <th>Population</th>\n",
       "    </tr>\n",
       "  </thead>\n",
       "  <tbody>\n",
       "    <tr>\n",
       "      <td>6</td>\n",
       "      <td>China</td>\n",
       "      <td>83403</td>\n",
       "      <td>CHN</td>\n",
       "      <td>2016</td>\n",
       "      <td>1378665000</td>\n",
       "    </tr>\n",
       "    <tr>\n",
       "      <td>15</td>\n",
       "      <td>India</td>\n",
       "      <td>13430</td>\n",
       "      <td>IND</td>\n",
       "      <td>2016</td>\n",
       "      <td>1324509589</td>\n",
       "    </tr>\n",
       "    <tr>\n",
       "      <td>0</td>\n",
       "      <td>United States</td>\n",
       "      <td>667801</td>\n",
       "      <td>USA</td>\n",
       "      <td>2016</td>\n",
       "      <td>322941311</td>\n",
       "    </tr>\n",
       "    <tr>\n",
       "      <td>33</td>\n",
       "      <td>Indonesia</td>\n",
       "      <td>5516</td>\n",
       "      <td>IDN</td>\n",
       "      <td>2016</td>\n",
       "      <td>261554226</td>\n",
       "    </tr>\n",
       "    <tr>\n",
       "      <td>10</td>\n",
       "      <td>Brazil</td>\n",
       "      <td>30425</td>\n",
       "      <td>BRA</td>\n",
       "      <td>2016</td>\n",
       "      <td>206163058</td>\n",
       "    </tr>\n",
       "  </tbody>\n",
       "</table>\n",
       "</div>"
      ],
      "text/plain": [
       "   Country/Region   Cases Country Code  Year  Population\n",
       "6           China   83403          CHN  2016  1378665000\n",
       "15          India   13430          IND  2016  1324509589\n",
       "0   United States  667801          USA  2016   322941311\n",
       "33      Indonesia    5516          IDN  2016   261554226\n",
       "10         Brazil   30425          BRA  2016   206163058"
      ]
     },
     "metadata": {},
     "output_type": "display_data"
    },
    {
     "data": {
      "text/html": [
       "<div>\n",
       "<style scoped>\n",
       "    .dataframe tbody tr th:only-of-type {\n",
       "        vertical-align: middle;\n",
       "    }\n",
       "\n",
       "    .dataframe tbody tr th {\n",
       "        vertical-align: top;\n",
       "    }\n",
       "\n",
       "    .dataframe thead th {\n",
       "        text-align: right;\n",
       "    }\n",
       "</style>\n",
       "<table border=\"1\" class=\"dataframe\">\n",
       "  <thead>\n",
       "    <tr style=\"text-align: right;\">\n",
       "      <th></th>\n",
       "      <th>Country/Region</th>\n",
       "      <th>Deaths</th>\n",
       "      <th>Cases</th>\n",
       "      <th>Country Code</th>\n",
       "      <th>Year</th>\n",
       "      <th>Population</th>\n",
       "    </tr>\n",
       "  </thead>\n",
       "  <tbody>\n",
       "    <tr>\n",
       "      <td>7</td>\n",
       "      <td>China</td>\n",
       "      <td>3346</td>\n",
       "      <td>83403</td>\n",
       "      <td>CHN</td>\n",
       "      <td>2016</td>\n",
       "      <td>1378665000</td>\n",
       "    </tr>\n",
       "    <tr>\n",
       "      <td>18</td>\n",
       "      <td>India</td>\n",
       "      <td>448</td>\n",
       "      <td>13430</td>\n",
       "      <td>IND</td>\n",
       "      <td>2016</td>\n",
       "      <td>1324509589</td>\n",
       "    </tr>\n",
       "    <tr>\n",
       "      <td>0</td>\n",
       "      <td>United States</td>\n",
       "      <td>32916</td>\n",
       "      <td>667801</td>\n",
       "      <td>USA</td>\n",
       "      <td>2016</td>\n",
       "      <td>322941311</td>\n",
       "    </tr>\n",
       "    <tr>\n",
       "      <td>15</td>\n",
       "      <td>Indonesia</td>\n",
       "      <td>496</td>\n",
       "      <td>5516</td>\n",
       "      <td>IDN</td>\n",
       "      <td>2016</td>\n",
       "      <td>261554226</td>\n",
       "    </tr>\n",
       "    <tr>\n",
       "      <td>9</td>\n",
       "      <td>Brazil</td>\n",
       "      <td>1924</td>\n",
       "      <td>30425</td>\n",
       "      <td>BRA</td>\n",
       "      <td>2016</td>\n",
       "      <td>206163058</td>\n",
       "    </tr>\n",
       "  </tbody>\n",
       "</table>\n",
       "</div>"
      ],
      "text/plain": [
       "   Country/Region  Deaths   Cases Country Code  Year  Population\n",
       "7           China    3346   83403          CHN  2016  1378665000\n",
       "18          India     448   13430          IND  2016  1324509589\n",
       "0   United States   32916  667801          USA  2016   322941311\n",
       "15      Indonesia     496    5516          IDN  2016   261554226\n",
       "9          Brazil    1924   30425          BRA  2016   206163058"
      ]
     },
     "metadata": {},
     "output_type": "display_data"
    },
    {
     "data": {
      "text/plain": [
       "158    6\n",
       "dtype: int64"
      ]
     },
     "metadata": {},
     "output_type": "display_data"
    }
   ],
   "source": [
    "# GLobal Population \n",
    "# https://github.com/datasets/population/blob/master/data/population.csv\n",
    "\n",
    "df_gpop = pd.read_csv('https://raw.githubusercontent.com/datasets/population/master/data/population.csv')\n",
    "df_gpop_2016 = df_gpop[df_gpop['Year'] == 2016]\n",
    "df_gpop_2016 = df_gpop_2016.rename(columns={'Country Name': 'Country/Region'})\n",
    "\n",
    "display(df_gpop_2016.sort_values(by=['Value'], ascending=False).head(), dfc_g.tail(1).transpose().count())  #262 countries / n countries\n",
    "df_gmerged = pd.merge(left=dfc_g.rename(columns={'US':'United States'}).tail(1).transpose(), right=df_gpop_2016, on='Country/Region').rename(columns={'Value':'Population'})\n",
    "df_gmerged = df_gmerged.rename(columns={ df_gmerged.columns[1]: \"Cases\" })\n",
    "\n",
    "display(df_gmerged.rename(columns={'US':'United States'}).sort_values(by=['Population'], ascending=False).head())\n",
    "\n",
    "df_gmerged = pd.merge(left=dfd_g.rename(columns={'US':'United States'}).tail(1).transpose(), right=df_gmerged, on='Country/Region')\n",
    "df_gmerged = df_gmerged.rename(columns={ df_gmerged.columns[1]: \"Deaths\" })\n",
    "       \n",
    "display(df_gmerged.sort_values(by=['Population'], ascending=False).head(), df_gmerged.tail(1).transpose().count())\n",
    "\n"
   ]
  },
  {
   "cell_type": "markdown",
   "metadata": {},
   "source": [
    "## Add Population Density from worldbank"
   ]
  },
  {
   "cell_type": "code",
   "execution_count": 74,
   "metadata": {
    "scrolled": false
   },
   "outputs": [],
   "source": [
    "# population density source\n",
    "# http://api.worldbank.org/v2/en/indicator/EN.POP.DNST?downloadformat=csv   \n",
    "from zipfile import ZipFile\n",
    "import requests, zipfile, io\n",
    "import urllib.request\n",
    "\n",
    "def get_zip(url):\n",
    "    urllib.request.urlretrieve(url, \"GDP.zip\")\n",
    "    compressed_file = zipfile.ZipFile('GDP.zip')\n",
    "    files = compressed_file.namelist()\n",
    "    for f in files:\n",
    "        if (f.find('API') == 0):\n",
    "            csv_file = compressed_file.open(f)  # pattern match how?\n",
    "            return pd.read_csv(csv_file, header=2)\n",
    "    return None\n",
    "\n",
    "def isfloat(value):\n",
    "  try:\n",
    "    float(value)\n",
    "    return True\n",
    "  except ValueError:\n",
    "    return False\n",
    "\n",
    "def add_metric(indicator, colname, dfm, year='2019', debug=True):\n",
    "    dfnew = get_zip('http://api.worldbank.org/v2/en/indicator/'+indicator+'?downloadformat=csv')\n",
    "    dfnew = dfnew.fillna(method='ffill', axis=1)[['Country Code', year]].rename(columns={year:colname})\n",
    "\n",
    "    dfm = pd.merge(left=dfm , right=dfnew, on ='Country Code') \n",
    "    display(dfm[dfm['Country/Region'].isin(['Dominica','Japan'])].head()) if debug else None\n",
    "\n",
    "    dfm[colname] = dfm[colname].astype(str).apply(lambda x: float(x) if isfloat(x) else 0.0).round(2)\n",
    "    return dfm\n"
   ]
  },
  {
   "cell_type": "markdown",
   "metadata": {},
   "source": [
    "## Add demographics from worldbank"
   ]
  },
  {
   "cell_type": "code",
   "execution_count": 75,
   "metadata": {
    "scrolled": false
   },
   "outputs": [
    {
     "data": {
      "text/plain": [
       "(159, 20)"
      ]
     },
     "metadata": {},
     "output_type": "display_data"
    },
    {
     "data": {
      "text/html": [
       "<div>\n",
       "<style scoped>\n",
       "    .dataframe tbody tr th:only-of-type {\n",
       "        vertical-align: middle;\n",
       "    }\n",
       "\n",
       "    .dataframe tbody tr th {\n",
       "        vertical-align: top;\n",
       "    }\n",
       "\n",
       "    .dataframe thead th {\n",
       "        text-align: right;\n",
       "    }\n",
       "</style>\n",
       "<table border=\"1\" class=\"dataframe\">\n",
       "  <thead>\n",
       "    <tr style=\"text-align: right;\">\n",
       "      <th></th>\n",
       "      <th>Country/Region</th>\n",
       "      <th>Cases</th>\n",
       "      <th>flights</th>\n",
       "      <th>railways</th>\n",
       "      <th>hospbeds</th>\n",
       "      <th>popdensity%</th>\n",
       "      <th>pop% &gt;= 65</th>\n",
       "      <th>pollution</th>\n",
       "      <th>GDP/cap</th>\n",
       "      <th>COD disease</th>\n",
       "      <th>urbanpop%</th>\n",
       "      <th>unemp%</th>\n",
       "    </tr>\n",
       "  </thead>\n",
       "  <tbody>\n",
       "    <tr>\n",
       "      <td>0</td>\n",
       "      <td>United States</td>\n",
       "      <td>667801</td>\n",
       "      <td>9879630.00</td>\n",
       "      <td>150462.3</td>\n",
       "      <td>2.9</td>\n",
       "      <td>35.77</td>\n",
       "      <td>15.81</td>\n",
       "      <td>7.41</td>\n",
       "      <td>62794.59</td>\n",
       "      <td>5.2</td>\n",
       "      <td>82.26</td>\n",
       "      <td>3.68</td>\n",
       "    </tr>\n",
       "    <tr>\n",
       "      <td>2</td>\n",
       "      <td>Spain</td>\n",
       "      <td>184948</td>\n",
       "      <td>641020.00</td>\n",
       "      <td>15618.0</td>\n",
       "      <td>3.0</td>\n",
       "      <td>93.53</td>\n",
       "      <td>19.38</td>\n",
       "      <td>9.70</td>\n",
       "      <td>39715.44</td>\n",
       "      <td>5.1</td>\n",
       "      <td>80.32</td>\n",
       "      <td>13.96</td>\n",
       "    </tr>\n",
       "    <tr>\n",
       "      <td>1</td>\n",
       "      <td>Italy</td>\n",
       "      <td>168941</td>\n",
       "      <td>256596.00</td>\n",
       "      <td>16788.3</td>\n",
       "      <td>3.4</td>\n",
       "      <td>205.45</td>\n",
       "      <td>22.75</td>\n",
       "      <td>16.75</td>\n",
       "      <td>41830.43</td>\n",
       "      <td>4.9</td>\n",
       "      <td>70.44</td>\n",
       "      <td>9.89</td>\n",
       "    </tr>\n",
       "    <tr>\n",
       "      <td>3</td>\n",
       "      <td>France</td>\n",
       "      <td>147091</td>\n",
       "      <td>597412.00</td>\n",
       "      <td>28241.0</td>\n",
       "      <td>6.5</td>\n",
       "      <td>122.34</td>\n",
       "      <td>20.03</td>\n",
       "      <td>11.81</td>\n",
       "      <td>45342.40</td>\n",
       "      <td>6.0</td>\n",
       "      <td>80.44</td>\n",
       "      <td>8.43</td>\n",
       "    </tr>\n",
       "    <tr>\n",
       "      <td>6</td>\n",
       "      <td>Germany</td>\n",
       "      <td>137698</td>\n",
       "      <td>922648.64</td>\n",
       "      <td>33440.0</td>\n",
       "      <td>8.3</td>\n",
       "      <td>237.37</td>\n",
       "      <td>21.46</td>\n",
       "      <td>12.03</td>\n",
       "      <td>53074.54</td>\n",
       "      <td>4.8</td>\n",
       "      <td>77.31</td>\n",
       "      <td>3.04</td>\n",
       "    </tr>\n",
       "    <tr>\n",
       "      <td>4</td>\n",
       "      <td>United Kingdom</td>\n",
       "      <td>104145</td>\n",
       "      <td>1242985.00</td>\n",
       "      <td>15961.0</td>\n",
       "      <td>2.8</td>\n",
       "      <td>274.83</td>\n",
       "      <td>18.40</td>\n",
       "      <td>10.47</td>\n",
       "      <td>45973.57</td>\n",
       "      <td>7.7</td>\n",
       "      <td>83.40</td>\n",
       "      <td>3.85</td>\n",
       "    </tr>\n",
       "    <tr>\n",
       "      <td>7</td>\n",
       "      <td>China</td>\n",
       "      <td>83403</td>\n",
       "      <td>4692008.00</td>\n",
       "      <td>67515.0</td>\n",
       "      <td>4.2</td>\n",
       "      <td>148.35</td>\n",
       "      <td>10.92</td>\n",
       "      <td>52.66</td>\n",
       "      <td>18236.61</td>\n",
       "      <td>3.8</td>\n",
       "      <td>59.15</td>\n",
       "      <td>4.32</td>\n",
       "    </tr>\n",
       "    <tr>\n",
       "      <td>10</td>\n",
       "      <td>Turkey</td>\n",
       "      <td>74193</td>\n",
       "      <td>772925.54</td>\n",
       "      <td>10315.0</td>\n",
       "      <td>2.7</td>\n",
       "      <td>106.96</td>\n",
       "      <td>8.48</td>\n",
       "      <td>44.31</td>\n",
       "      <td>28068.86</td>\n",
       "      <td>4.4</td>\n",
       "      <td>75.14</td>\n",
       "      <td>13.49</td>\n",
       "    </tr>\n",
       "    <tr>\n",
       "      <td>5</td>\n",
       "      <td>Belgium</td>\n",
       "      <td>34809</td>\n",
       "      <td>140674.00</td>\n",
       "      <td>3605.0</td>\n",
       "      <td>6.2</td>\n",
       "      <td>377.21</td>\n",
       "      <td>18.79</td>\n",
       "      <td>12.89</td>\n",
       "      <td>51408.00</td>\n",
       "      <td>7.9</td>\n",
       "      <td>98.00</td>\n",
       "      <td>5.59</td>\n",
       "    </tr>\n",
       "    <tr>\n",
       "      <td>13</td>\n",
       "      <td>Canada</td>\n",
       "      <td>30808</td>\n",
       "      <td>1475062.59</td>\n",
       "      <td>47687.4</td>\n",
       "      <td>2.7</td>\n",
       "      <td>4.08</td>\n",
       "      <td>17.23</td>\n",
       "      <td>6.43</td>\n",
       "      <td>48130.26</td>\n",
       "      <td>5.6</td>\n",
       "      <td>81.41</td>\n",
       "      <td>5.56</td>\n",
       "    </tr>\n",
       "    <tr>\n",
       "      <td>0</td>\n",
       "      <td>United States</td>\n",
       "      <td>667801</td>\n",
       "      <td>9879630.00</td>\n",
       "      <td>150462.3</td>\n",
       "      <td>2.9</td>\n",
       "      <td>35.77</td>\n",
       "      <td>15.81</td>\n",
       "      <td>7.41</td>\n",
       "      <td>62794.59</td>\n",
       "      <td>5.2</td>\n",
       "      <td>82.26</td>\n",
       "      <td>3.68</td>\n",
       "    </tr>\n",
       "    <tr>\n",
       "      <td>28</td>\n",
       "      <td>Japan</td>\n",
       "      <td>8626</td>\n",
       "      <td>999594.00</td>\n",
       "      <td>16851.7</td>\n",
       "      <td>13.4</td>\n",
       "      <td>347.07</td>\n",
       "      <td>27.58</td>\n",
       "      <td>11.70</td>\n",
       "      <td>42797.46</td>\n",
       "      <td>12.7</td>\n",
       "      <td>91.62</td>\n",
       "      <td>2.29</td>\n",
       "    </tr>\n",
       "    <tr>\n",
       "      <td>156</td>\n",
       "      <td>Dominica</td>\n",
       "      <td>16</td>\n",
       "      <td>0.00</td>\n",
       "      <td>0.0</td>\n",
       "      <td>3.8</td>\n",
       "      <td>95.50</td>\n",
       "      <td>0.00</td>\n",
       "      <td>19.49</td>\n",
       "      <td>11129.86</td>\n",
       "      <td>0.0</td>\n",
       "      <td>70.48</td>\n",
       "      <td>0.00</td>\n",
       "    </tr>\n",
       "  </tbody>\n",
       "</table>\n",
       "</div>"
      ],
      "text/plain": [
       "     Country/Region   Cases     flights  railways  hospbeds  popdensity%  \\\n",
       "0     United States  667801  9879630.00  150462.3       2.9        35.77   \n",
       "2             Spain  184948   641020.00   15618.0       3.0        93.53   \n",
       "1             Italy  168941   256596.00   16788.3       3.4       205.45   \n",
       "3            France  147091   597412.00   28241.0       6.5       122.34   \n",
       "6           Germany  137698   922648.64   33440.0       8.3       237.37   \n",
       "4    United Kingdom  104145  1242985.00   15961.0       2.8       274.83   \n",
       "7             China   83403  4692008.00   67515.0       4.2       148.35   \n",
       "10           Turkey   74193   772925.54   10315.0       2.7       106.96   \n",
       "5           Belgium   34809   140674.00    3605.0       6.2       377.21   \n",
       "13           Canada   30808  1475062.59   47687.4       2.7         4.08   \n",
       "0     United States  667801  9879630.00  150462.3       2.9        35.77   \n",
       "28            Japan    8626   999594.00   16851.7      13.4       347.07   \n",
       "156        Dominica      16        0.00       0.0       3.8        95.50   \n",
       "\n",
       "     pop% >= 65  pollution   GDP/cap  COD disease  urbanpop%  unemp%  \n",
       "0         15.81       7.41  62794.59          5.2      82.26    3.68  \n",
       "2         19.38       9.70  39715.44          5.1      80.32   13.96  \n",
       "1         22.75      16.75  41830.43          4.9      70.44    9.89  \n",
       "3         20.03      11.81  45342.40          6.0      80.44    8.43  \n",
       "6         21.46      12.03  53074.54          4.8      77.31    3.04  \n",
       "4         18.40      10.47  45973.57          7.7      83.40    3.85  \n",
       "7         10.92      52.66  18236.61          3.8      59.15    4.32  \n",
       "10         8.48      44.31  28068.86          4.4      75.14   13.49  \n",
       "5         18.79      12.89  51408.00          7.9      98.00    5.59  \n",
       "13        17.23       6.43  48130.26          5.6      81.41    5.56  \n",
       "0         15.81       7.41  62794.59          5.2      82.26    3.68  \n",
       "28        27.58      11.70  42797.46         12.7      91.62    2.29  \n",
       "156        0.00      19.49  11129.86          0.0      70.48    0.00  "
      ]
     },
     "metadata": {},
     "output_type": "display_data"
    }
   ],
   "source": [
    "#  -- all available https://data.worldbank.org/indicator\n",
    "#  API docs https://datahelpdesk.worldbank.org/knowledgebase/articles/898581-api-basic-call-structures\n",
    "#\n",
    "#   Examples:\n",
    "# unemployment data http://api.worldbank.org/v2/en/indicator/SL.UEM.TOTL.ZS?downloadformat=csv\n",
    "# hospital beds http://api.worldbank.org/v2/en/indicator/SH.MED.BEDS.ZS?downloadformat=csv\n",
    "# air flights http://api.worldbank.org/v2/en/indicator/IS.AIR.DPRT?downloadformat=csv\n",
    "# rail lines http://api.worldbank.org/v2/en/indicator/IS.RRS.TOTL.KM?downloadformat=csv\n",
    "# employment F http://api.worldbank.org/v2/en/indicator/SL.TLF.CACT.FE.ZS?downloadformat=csv\n",
    "# employment M http://api.worldbank.org/v2/en/indicator/SL.TLF.CACT.MA.ZS?downloadformat=csv\n",
    "# unemployment http://api.worldbank.org/v2/en/indicator/SL.UEM.TOTL.ZS?downloadformat=csv\n",
    "# urban pop% http://api.worldbank.org/v2/en/indicator/SP.URB.TOTL.IN.ZS?downloadformat=csv\n",
    "# pollution EN.ATM.PM25.MC.M3\n",
    "# slum% indicator/ EN.POP.SLUM.UR.ZS\n",
    "\n",
    "df_gmerged3 = df_gmerged.copy()  # df_gmerged2 no longer needed\n",
    "\n",
    "df_gmerged3 = add_metric('IS.AIR.DPRT', 'flights', df_gmerged3, year='2019', debug=False)\n",
    "df_gmerged3 = add_metric('EN.ATM.PM25.MC.M3', 'pollution', df_gmerged3, year='2019', debug=False)\n",
    "df_gmerged3 = add_metric('SL.UEM.TOTL.ZS', 'unemp%', df_gmerged3, year='2019', debug=False)\n",
    "df_gmerged3 = add_metric('SH.MED.BEDS.ZS', 'hospbeds', df_gmerged3, year='2019', debug=False)\n",
    "df_gmerged3 = add_metric('IS.RRS.TOTL.KM', 'railways', df_gmerged3, year='2019', debug=False)\n",
    "df_gmerged3 = add_metric('SP.URB.TOTL.IN.ZS', 'urbanpop%', df_gmerged3, year='2019', debug=False)\n",
    "df_gmerged3 = add_metric('EN.POP.SLUM.UR.ZS', 'slum%', df_gmerged3, year='2019', debug=False)\n",
    "df_gmerged3 = add_metric('EN.POP.DNST', 'popdensity%', df_gmerged3, year='2019', debug=False)\n",
    "df_gmerged3 = add_metric('NY.GDP.PCAP.PP.CD', 'GDP/cap', df_gmerged3, year='2019', debug=False)\n",
    "df_gmerged3 = add_metric('SE.ADT.LITR.ZS', 'literacy', df_gmerged3, year='2019', debug=False)\n",
    "df_gmerged3 = add_metric('FR.INR.DPST', 'deposit rate', df_gmerged3, year='2019', debug=False)\n",
    "df_gmerged3 = add_metric('SH.DTH.COMM.ZS', 'COD disease', df_gmerged3, year='2019', debug=False)\n",
    "df_gmerged3 = add_metric('SH.IMM.IDPT', 'DTP immunized', df_gmerged3, year='2019', debug=False)\n",
    "df_gmerged3 = add_metric('SP.POP.65UP.TO.ZS', 'pop% >= 65', df_gmerged3, year='2019', debug=False)\n",
    "df_gmerged3 = add_metric('TG.VAL.TOTL.GD.ZS', 'trade%', df_gmerged3, year='2019', debug=False)\n",
    "\n",
    "\n",
    "df_gmerged3 = df_gmerged3.sort_values(by='Cases', ascending=False).drop(columns=['Year'])\n",
    "\n",
    "df_x = pd.concat([df_gmerged3.head(10), df_gmerged3[df_gmerged3['Country/Region'].isin(['Japan','United States','Dominica'])]], axis=0)\n",
    "\n",
    "display(df_gmerged3.shape, df_x[['Country/Region','Cases','flights','railways','hospbeds','popdensity%','pop% >= 65','pollution','GDP/cap','COD disease','urbanpop%','unemp%']])\n"
   ]
  },
  {
   "cell_type": "code",
   "execution_count": 76,
   "metadata": {},
   "outputs": [
    {
     "data": {
      "text/html": [
       "<div>\n",
       "<style scoped>\n",
       "    .dataframe tbody tr th:only-of-type {\n",
       "        vertical-align: middle;\n",
       "    }\n",
       "\n",
       "    .dataframe tbody tr th {\n",
       "        vertical-align: top;\n",
       "    }\n",
       "\n",
       "    .dataframe thead th {\n",
       "        text-align: right;\n",
       "    }\n",
       "</style>\n",
       "<table border=\"1\" class=\"dataframe\">\n",
       "  <thead>\n",
       "    <tr style=\"text-align: right;\">\n",
       "      <th></th>\n",
       "      <th>0</th>\n",
       "      <th>2</th>\n",
       "      <th>3</th>\n",
       "      <th>18</th>\n",
       "      <th>11</th>\n",
       "      <th>28</th>\n",
       "      <th>25</th>\n",
       "      <th>54</th>\n",
       "      <th>50</th>\n",
       "    </tr>\n",
       "  </thead>\n",
       "  <tbody>\n",
       "    <tr>\n",
       "      <td>Country/Region</td>\n",
       "      <td>United States</td>\n",
       "      <td>Spain</td>\n",
       "      <td>France</td>\n",
       "      <td>India</td>\n",
       "      <td>Sweden</td>\n",
       "      <td>Japan</td>\n",
       "      <td>Poland</td>\n",
       "      <td>Belarus</td>\n",
       "      <td>South Africa</td>\n",
       "    </tr>\n",
       "    <tr>\n",
       "      <td>Deaths</td>\n",
       "      <td>32916</td>\n",
       "      <td>19315</td>\n",
       "      <td>17941</td>\n",
       "      <td>448</td>\n",
       "      <td>1333</td>\n",
       "      <td>178</td>\n",
       "      <td>314</td>\n",
       "      <td>40</td>\n",
       "      <td>48</td>\n",
       "    </tr>\n",
       "    <tr>\n",
       "      <td>Cases</td>\n",
       "      <td>667801</td>\n",
       "      <td>184948</td>\n",
       "      <td>147091</td>\n",
       "      <td>13430</td>\n",
       "      <td>12540</td>\n",
       "      <td>8626</td>\n",
       "      <td>7918</td>\n",
       "      <td>4204</td>\n",
       "      <td>2605</td>\n",
       "    </tr>\n",
       "    <tr>\n",
       "      <td>Country Code</td>\n",
       "      <td>USA</td>\n",
       "      <td>ESP</td>\n",
       "      <td>FRA</td>\n",
       "      <td>IND</td>\n",
       "      <td>SWE</td>\n",
       "      <td>JPN</td>\n",
       "      <td>POL</td>\n",
       "      <td>BLR</td>\n",
       "      <td>ZAF</td>\n",
       "    </tr>\n",
       "    <tr>\n",
       "      <td>Population</td>\n",
       "      <td>322941311</td>\n",
       "      <td>46484062</td>\n",
       "      <td>66721256</td>\n",
       "      <td>1324509589</td>\n",
       "      <td>9923085</td>\n",
       "      <td>126994511</td>\n",
       "      <td>37970087</td>\n",
       "      <td>9501534</td>\n",
       "      <td>56203654</td>\n",
       "    </tr>\n",
       "    <tr>\n",
       "      <td>flights</td>\n",
       "      <td>9.87963e+06</td>\n",
       "      <td>641020</td>\n",
       "      <td>597412</td>\n",
       "      <td>1.20011e+06</td>\n",
       "      <td>190315</td>\n",
       "      <td>999594</td>\n",
       "      <td>123903</td>\n",
       "      <td>31676</td>\n",
       "      <td>180317</td>\n",
       "    </tr>\n",
       "    <tr>\n",
       "      <td>pollution</td>\n",
       "      <td>7.41</td>\n",
       "      <td>9.7</td>\n",
       "      <td>11.81</td>\n",
       "      <td>90.87</td>\n",
       "      <td>6.18</td>\n",
       "      <td>11.7</td>\n",
       "      <td>20.88</td>\n",
       "      <td>18.77</td>\n",
       "      <td>25.1</td>\n",
       "    </tr>\n",
       "    <tr>\n",
       "      <td>unemp%</td>\n",
       "      <td>3.68</td>\n",
       "      <td>13.96</td>\n",
       "      <td>8.43</td>\n",
       "      <td>5.36</td>\n",
       "      <td>6.48</td>\n",
       "      <td>2.29</td>\n",
       "      <td>3.47</td>\n",
       "      <td>4.59</td>\n",
       "      <td>28.18</td>\n",
       "    </tr>\n",
       "    <tr>\n",
       "      <td>hospbeds</td>\n",
       "      <td>2.9</td>\n",
       "      <td>3</td>\n",
       "      <td>6.5</td>\n",
       "      <td>0.7</td>\n",
       "      <td>2.6</td>\n",
       "      <td>13.4</td>\n",
       "      <td>6.5</td>\n",
       "      <td>11</td>\n",
       "      <td>2.8</td>\n",
       "    </tr>\n",
       "    <tr>\n",
       "      <td>railways</td>\n",
       "      <td>150462</td>\n",
       "      <td>15618</td>\n",
       "      <td>28241</td>\n",
       "      <td>68443</td>\n",
       "      <td>9708</td>\n",
       "      <td>16851.7</td>\n",
       "      <td>18536</td>\n",
       "      <td>5459</td>\n",
       "      <td>20953</td>\n",
       "    </tr>\n",
       "    <tr>\n",
       "      <td>urbanpop%</td>\n",
       "      <td>82.26</td>\n",
       "      <td>80.32</td>\n",
       "      <td>80.44</td>\n",
       "      <td>34.03</td>\n",
       "      <td>87.43</td>\n",
       "      <td>91.62</td>\n",
       "      <td>60.06</td>\n",
       "      <td>78.6</td>\n",
       "      <td>66.36</td>\n",
       "    </tr>\n",
       "    <tr>\n",
       "      <td>slum%</td>\n",
       "      <td>0</td>\n",
       "      <td>0</td>\n",
       "      <td>0</td>\n",
       "      <td>24</td>\n",
       "      <td>0</td>\n",
       "      <td>0</td>\n",
       "      <td>0</td>\n",
       "      <td>0</td>\n",
       "      <td>23</td>\n",
       "    </tr>\n",
       "    <tr>\n",
       "      <td>popdensity%</td>\n",
       "      <td>35.77</td>\n",
       "      <td>93.53</td>\n",
       "      <td>122.34</td>\n",
       "      <td>454.94</td>\n",
       "      <td>25</td>\n",
       "      <td>347.07</td>\n",
       "      <td>124.04</td>\n",
       "      <td>46.73</td>\n",
       "      <td>47.63</td>\n",
       "    </tr>\n",
       "    <tr>\n",
       "      <td>GDP/cap</td>\n",
       "      <td>62794.6</td>\n",
       "      <td>39715.4</td>\n",
       "      <td>45342.4</td>\n",
       "      <td>7762.88</td>\n",
       "      <td>53208.9</td>\n",
       "      <td>42797.5</td>\n",
       "      <td>31336.6</td>\n",
       "      <td>19994.8</td>\n",
       "      <td>13686.9</td>\n",
       "    </tr>\n",
       "    <tr>\n",
       "      <td>literacy</td>\n",
       "      <td>0</td>\n",
       "      <td>98.44</td>\n",
       "      <td>0</td>\n",
       "      <td>74.37</td>\n",
       "      <td>0</td>\n",
       "      <td>0</td>\n",
       "      <td>98.74</td>\n",
       "      <td>99.76</td>\n",
       "      <td>87.05</td>\n",
       "    </tr>\n",
       "    <tr>\n",
       "      <td>deposit rate</td>\n",
       "      <td>0</td>\n",
       "      <td>0</td>\n",
       "      <td>0.79</td>\n",
       "      <td>0</td>\n",
       "      <td>1.09</td>\n",
       "      <td>0.32</td>\n",
       "      <td>0</td>\n",
       "      <td>5.92</td>\n",
       "      <td>7</td>\n",
       "    </tr>\n",
       "    <tr>\n",
       "      <td>COD disease</td>\n",
       "      <td>5.2</td>\n",
       "      <td>5.1</td>\n",
       "      <td>6</td>\n",
       "      <td>26</td>\n",
       "      <td>5.2</td>\n",
       "      <td>12.7</td>\n",
       "      <td>5</td>\n",
       "      <td>2.5</td>\n",
       "      <td>39.6</td>\n",
       "    </tr>\n",
       "    <tr>\n",
       "      <td>DTP immunized</td>\n",
       "      <td>94</td>\n",
       "      <td>93</td>\n",
       "      <td>96</td>\n",
       "      <td>89</td>\n",
       "      <td>97</td>\n",
       "      <td>99</td>\n",
       "      <td>95</td>\n",
       "      <td>97</td>\n",
       "      <td>74</td>\n",
       "    </tr>\n",
       "    <tr>\n",
       "      <td>pop% &gt;= 65</td>\n",
       "      <td>15.81</td>\n",
       "      <td>19.38</td>\n",
       "      <td>20.03</td>\n",
       "      <td>6.18</td>\n",
       "      <td>20.1</td>\n",
       "      <td>27.58</td>\n",
       "      <td>17.52</td>\n",
       "      <td>14.85</td>\n",
       "      <td>5.32</td>\n",
       "    </tr>\n",
       "    <tr>\n",
       "      <td>trade%</td>\n",
       "      <td>20.83</td>\n",
       "      <td>51.67</td>\n",
       "      <td>45.16</td>\n",
       "      <td>30.76</td>\n",
       "      <td>60.44</td>\n",
       "      <td>29.91</td>\n",
       "      <td>90</td>\n",
       "      <td>120.86</td>\n",
       "      <td>56.46</td>\n",
       "    </tr>\n",
       "  </tbody>\n",
       "</table>\n",
       "</div>"
      ],
      "text/plain": [
       "                           0         2         3            18       11  \\\n",
       "Country/Region  United States     Spain    France        India   Sweden   \n",
       "Deaths                  32916     19315     17941          448     1333   \n",
       "Cases                  667801    184948    147091        13430    12540   \n",
       "Country Code              USA       ESP       FRA          IND      SWE   \n",
       "Population          322941311  46484062  66721256   1324509589  9923085   \n",
       "flights           9.87963e+06    641020    597412  1.20011e+06   190315   \n",
       "pollution                7.41       9.7     11.81        90.87     6.18   \n",
       "unemp%                   3.68     13.96      8.43         5.36     6.48   \n",
       "hospbeds                  2.9         3       6.5          0.7      2.6   \n",
       "railways               150462     15618     28241        68443     9708   \n",
       "urbanpop%               82.26     80.32     80.44        34.03    87.43   \n",
       "slum%                       0         0         0           24        0   \n",
       "popdensity%             35.77     93.53    122.34       454.94       25   \n",
       "GDP/cap               62794.6   39715.4   45342.4      7762.88  53208.9   \n",
       "literacy                    0     98.44         0        74.37        0   \n",
       "deposit rate                0         0      0.79            0     1.09   \n",
       "COD disease               5.2       5.1         6           26      5.2   \n",
       "DTP immunized              94        93        96           89       97   \n",
       "pop% >= 65              15.81     19.38     20.03         6.18     20.1   \n",
       "trade%                  20.83     51.67     45.16        30.76    60.44   \n",
       "\n",
       "                       28        25       54            50  \n",
       "Country/Region      Japan    Poland  Belarus  South Africa  \n",
       "Deaths                178       314       40            48  \n",
       "Cases                8626      7918     4204          2605  \n",
       "Country Code          JPN       POL      BLR           ZAF  \n",
       "Population      126994511  37970087  9501534      56203654  \n",
       "flights            999594    123903    31676        180317  \n",
       "pollution            11.7     20.88    18.77          25.1  \n",
       "unemp%               2.29      3.47     4.59         28.18  \n",
       "hospbeds             13.4       6.5       11           2.8  \n",
       "railways          16851.7     18536     5459         20953  \n",
       "urbanpop%           91.62     60.06     78.6         66.36  \n",
       "slum%                   0         0        0            23  \n",
       "popdensity%        347.07    124.04    46.73         47.63  \n",
       "GDP/cap           42797.5   31336.6  19994.8       13686.9  \n",
       "literacy                0     98.74    99.76         87.05  \n",
       "deposit rate         0.32         0     5.92             7  \n",
       "COD disease          12.7         5      2.5          39.6  \n",
       "DTP immunized          99        95       97            74  \n",
       "pop% >= 65          27.58     17.52    14.85          5.32  \n",
       "trade%              29.91        90   120.86         56.46  "
      ]
     },
     "execution_count": 76,
     "metadata": {},
     "output_type": "execute_result"
    }
   ],
   "source": [
    "# df_gmerged4 ready to go\n",
    "df_gmerged4 = df_gmerged3.copy()\n",
    "df_gmerged4[df_gmerged4['Country/Region'].isin(['Belarus','Poland','Spain','France','Sweden','India','Korea, South','Japan','United States','South Africa'])].transpose()\n"
   ]
  },
  {
   "cell_type": "markdown",
   "metadata": {},
   "source": [
    "# Correlation Matrix"
   ]
  },
  {
   "cell_type": "code",
   "execution_count": 77,
   "metadata": {},
   "outputs": [
    {
     "data": {
      "text/html": [
       "<div>\n",
       "<style scoped>\n",
       "    .dataframe tbody tr th:only-of-type {\n",
       "        vertical-align: middle;\n",
       "    }\n",
       "\n",
       "    .dataframe tbody tr th {\n",
       "        vertical-align: top;\n",
       "    }\n",
       "\n",
       "    .dataframe thead th {\n",
       "        text-align: right;\n",
       "    }\n",
       "</style>\n",
       "<table border=\"1\" class=\"dataframe\">\n",
       "  <thead>\n",
       "    <tr style=\"text-align: right;\">\n",
       "      <th></th>\n",
       "      <th>Deaths</th>\n",
       "      <th>Cases</th>\n",
       "      <th>Population</th>\n",
       "      <th>flights</th>\n",
       "      <th>pollution</th>\n",
       "      <th>unemp%</th>\n",
       "      <th>hospbeds</th>\n",
       "      <th>railways</th>\n",
       "      <th>urbanpop%</th>\n",
       "      <th>slum%</th>\n",
       "      <th>popdensity%</th>\n",
       "      <th>GDP/cap</th>\n",
       "      <th>literacy</th>\n",
       "      <th>deposit rate</th>\n",
       "      <th>COD disease</th>\n",
       "      <th>DTP immunized</th>\n",
       "      <th>pop% &gt;= 65</th>\n",
       "      <th>trade%</th>\n",
       "    </tr>\n",
       "  </thead>\n",
       "  <tbody>\n",
       "    <tr>\n",
       "      <td>Deaths</td>\n",
       "      <td>1.000000</td>\n",
       "      <td>0.903648</td>\n",
       "      <td>0.164206</td>\n",
       "      <td>0.671890</td>\n",
       "      <td>-0.159426</td>\n",
       "      <td>0.027217</td>\n",
       "      <td>0.090008</td>\n",
       "      <td>0.662163</td>\n",
       "      <td>0.180630</td>\n",
       "      <td>-0.181630</td>\n",
       "      <td>-0.025627</td>\n",
       "      <td>0.248461</td>\n",
       "      <td>-0.192909</td>\n",
       "      <td>-0.120976</td>\n",
       "      <td>-0.162095</td>\n",
       "      <td>0.091469</td>\n",
       "      <td>0.317097</td>\n",
       "      <td>-0.073405</td>\n",
       "    </tr>\n",
       "    <tr>\n",
       "      <td>Cases</td>\n",
       "      <td>0.903648</td>\n",
       "      <td>1.000000</td>\n",
       "      <td>0.229261</td>\n",
       "      <td>0.873542</td>\n",
       "      <td>-0.131218</td>\n",
       "      <td>-0.010429</td>\n",
       "      <td>0.085331</td>\n",
       "      <td>0.821645</td>\n",
       "      <td>0.166588</td>\n",
       "      <td>-0.164552</td>\n",
       "      <td>-0.025279</td>\n",
       "      <td>0.249347</td>\n",
       "      <td>-0.204643</td>\n",
       "      <td>-0.092794</td>\n",
       "      <td>-0.153924</td>\n",
       "      <td>0.085385</td>\n",
       "      <td>0.258520</td>\n",
       "      <td>-0.089705</td>\n",
       "    </tr>\n",
       "    <tr>\n",
       "      <td>Population</td>\n",
       "      <td>0.164206</td>\n",
       "      <td>0.229261</td>\n",
       "      <td>1.000000</td>\n",
       "      <td>0.503798</td>\n",
       "      <td>0.267416</td>\n",
       "      <td>-0.049807</td>\n",
       "      <td>-0.036975</td>\n",
       "      <td>0.612453</td>\n",
       "      <td>-0.060774</td>\n",
       "      <td>0.009955</td>\n",
       "      <td>-0.017312</td>\n",
       "      <td>-0.042647</td>\n",
       "      <td>0.024591</td>\n",
       "      <td>-0.026367</td>\n",
       "      <td>-0.018070</td>\n",
       "      <td>0.029798</td>\n",
       "      <td>0.010736</td>\n",
       "      <td>-0.141224</td>\n",
       "    </tr>\n",
       "    <tr>\n",
       "      <td>flights</td>\n",
       "      <td>0.671890</td>\n",
       "      <td>0.873542</td>\n",
       "      <td>0.503798</td>\n",
       "      <td>1.000000</td>\n",
       "      <td>-0.055782</td>\n",
       "      <td>-0.070206</td>\n",
       "      <td>0.057644</td>\n",
       "      <td>0.910928</td>\n",
       "      <td>0.141160</td>\n",
       "      <td>-0.138750</td>\n",
       "      <td>-0.024821</td>\n",
       "      <td>0.222829</td>\n",
       "      <td>-0.182516</td>\n",
       "      <td>-0.089135</td>\n",
       "      <td>-0.146960</td>\n",
       "      <td>0.089789</td>\n",
       "      <td>0.181807</td>\n",
       "      <td>-0.101634</td>\n",
       "    </tr>\n",
       "    <tr>\n",
       "      <td>pollution</td>\n",
       "      <td>-0.159426</td>\n",
       "      <td>-0.131218</td>\n",
       "      <td>0.267416</td>\n",
       "      <td>-0.055782</td>\n",
       "      <td>1.000000</td>\n",
       "      <td>0.034698</td>\n",
       "      <td>-0.385119</td>\n",
       "      <td>-0.033383</td>\n",
       "      <td>-0.230348</td>\n",
       "      <td>0.477390</td>\n",
       "      <td>-0.100991</td>\n",
       "      <td>-0.172031</td>\n",
       "      <td>0.132855</td>\n",
       "      <td>0.111566</td>\n",
       "      <td>0.416183</td>\n",
       "      <td>-0.111487</td>\n",
       "      <td>-0.466812</td>\n",
       "      <td>-0.100274</td>\n",
       "    </tr>\n",
       "    <tr>\n",
       "      <td>unemp%</td>\n",
       "      <td>0.027217</td>\n",
       "      <td>-0.010429</td>\n",
       "      <td>-0.049807</td>\n",
       "      <td>-0.070206</td>\n",
       "      <td>0.034698</td>\n",
       "      <td>1.000000</td>\n",
       "      <td>-0.002011</td>\n",
       "      <td>-0.011623</td>\n",
       "      <td>0.120080</td>\n",
       "      <td>0.026280</td>\n",
       "      <td>-0.125099</td>\n",
       "      <td>-0.148474</td>\n",
       "      <td>0.237484</td>\n",
       "      <td>0.130979</td>\n",
       "      <td>0.009034</td>\n",
       "      <td>-0.098822</td>\n",
       "      <td>0.062347</td>\n",
       "      <td>-0.019466</td>\n",
       "    </tr>\n",
       "    <tr>\n",
       "      <td>hospbeds</td>\n",
       "      <td>0.090008</td>\n",
       "      <td>0.085331</td>\n",
       "      <td>-0.036975</td>\n",
       "      <td>0.057644</td>\n",
       "      <td>-0.385119</td>\n",
       "      <td>-0.002011</td>\n",
       "      <td>1.000000</td>\n",
       "      <td>0.138858</td>\n",
       "      <td>0.388271</td>\n",
       "      <td>-0.565877</td>\n",
       "      <td>0.332303</td>\n",
       "      <td>0.305930</td>\n",
       "      <td>-0.010130</td>\n",
       "      <td>-0.163978</td>\n",
       "      <td>-0.513351</td>\n",
       "      <td>0.295807</td>\n",
       "      <td>0.601188</td>\n",
       "      <td>0.223852</td>\n",
       "    </tr>\n",
       "    <tr>\n",
       "      <td>railways</td>\n",
       "      <td>0.662163</td>\n",
       "      <td>0.821645</td>\n",
       "      <td>0.612453</td>\n",
       "      <td>0.910928</td>\n",
       "      <td>-0.033383</td>\n",
       "      <td>-0.011623</td>\n",
       "      <td>0.138858</td>\n",
       "      <td>1.000000</td>\n",
       "      <td>0.142949</td>\n",
       "      <td>-0.172386</td>\n",
       "      <td>-0.042580</td>\n",
       "      <td>0.182165</td>\n",
       "      <td>-0.167972</td>\n",
       "      <td>-0.069401</td>\n",
       "      <td>-0.162519</td>\n",
       "      <td>0.078569</td>\n",
       "      <td>0.251617</td>\n",
       "      <td>-0.128805</td>\n",
       "    </tr>\n",
       "    <tr>\n",
       "      <td>urbanpop%</td>\n",
       "      <td>0.180630</td>\n",
       "      <td>0.166588</td>\n",
       "      <td>-0.060774</td>\n",
       "      <td>0.141160</td>\n",
       "      <td>-0.230348</td>\n",
       "      <td>0.120080</td>\n",
       "      <td>0.388271</td>\n",
       "      <td>0.142949</td>\n",
       "      <td>1.000000</td>\n",
       "      <td>-0.478795</td>\n",
       "      <td>0.181979</td>\n",
       "      <td>0.606855</td>\n",
       "      <td>-0.022595</td>\n",
       "      <td>-0.110195</td>\n",
       "      <td>-0.532877</td>\n",
       "      <td>0.334991</td>\n",
       "      <td>0.408456</td>\n",
       "      <td>0.181994</td>\n",
       "    </tr>\n",
       "    <tr>\n",
       "      <td>slum%</td>\n",
       "      <td>-0.181630</td>\n",
       "      <td>-0.164552</td>\n",
       "      <td>0.009955</td>\n",
       "      <td>-0.138750</td>\n",
       "      <td>0.477390</td>\n",
       "      <td>0.026280</td>\n",
       "      <td>-0.565877</td>\n",
       "      <td>-0.172386</td>\n",
       "      <td>-0.478795</td>\n",
       "      <td>1.000000</td>\n",
       "      <td>-0.113728</td>\n",
       "      <td>-0.551982</td>\n",
       "      <td>-0.078594</td>\n",
       "      <td>0.289491</td>\n",
       "      <td>0.799900</td>\n",
       "      <td>-0.276597</td>\n",
       "      <td>-0.605509</td>\n",
       "      <td>-0.244386</td>\n",
       "    </tr>\n",
       "    <tr>\n",
       "      <td>popdensity%</td>\n",
       "      <td>-0.025627</td>\n",
       "      <td>-0.025279</td>\n",
       "      <td>-0.017312</td>\n",
       "      <td>-0.024821</td>\n",
       "      <td>-0.100991</td>\n",
       "      <td>-0.125099</td>\n",
       "      <td>0.332303</td>\n",
       "      <td>-0.042580</td>\n",
       "      <td>0.181979</td>\n",
       "      <td>-0.113728</td>\n",
       "      <td>1.000000</td>\n",
       "      <td>0.052606</td>\n",
       "      <td>-0.101932</td>\n",
       "      <td>-0.097350</td>\n",
       "      <td>-0.100512</td>\n",
       "      <td>0.074506</td>\n",
       "      <td>-0.085263</td>\n",
       "      <td>-0.000087</td>\n",
       "    </tr>\n",
       "    <tr>\n",
       "      <td>GDP/cap</td>\n",
       "      <td>0.248461</td>\n",
       "      <td>0.249347</td>\n",
       "      <td>-0.042647</td>\n",
       "      <td>0.222829</td>\n",
       "      <td>-0.172031</td>\n",
       "      <td>-0.148474</td>\n",
       "      <td>0.305930</td>\n",
       "      <td>0.182165</td>\n",
       "      <td>0.606855</td>\n",
       "      <td>-0.551982</td>\n",
       "      <td>0.052606</td>\n",
       "      <td>1.000000</td>\n",
       "      <td>-0.188607</td>\n",
       "      <td>-0.312460</td>\n",
       "      <td>-0.497036</td>\n",
       "      <td>0.319142</td>\n",
       "      <td>0.488619</td>\n",
       "      <td>0.307387</td>\n",
       "    </tr>\n",
       "    <tr>\n",
       "      <td>literacy</td>\n",
       "      <td>-0.192909</td>\n",
       "      <td>-0.204643</td>\n",
       "      <td>0.024591</td>\n",
       "      <td>-0.182516</td>\n",
       "      <td>0.132855</td>\n",
       "      <td>0.237484</td>\n",
       "      <td>-0.010130</td>\n",
       "      <td>-0.167972</td>\n",
       "      <td>-0.022595</td>\n",
       "      <td>-0.078594</td>\n",
       "      <td>-0.101932</td>\n",
       "      <td>-0.188607</td>\n",
       "      <td>1.000000</td>\n",
       "      <td>0.144148</td>\n",
       "      <td>-0.123136</td>\n",
       "      <td>0.204583</td>\n",
       "      <td>-0.077869</td>\n",
       "      <td>0.221559</td>\n",
       "    </tr>\n",
       "    <tr>\n",
       "      <td>deposit rate</td>\n",
       "      <td>-0.120976</td>\n",
       "      <td>-0.092794</td>\n",
       "      <td>-0.026367</td>\n",
       "      <td>-0.089135</td>\n",
       "      <td>0.111566</td>\n",
       "      <td>0.130979</td>\n",
       "      <td>-0.163978</td>\n",
       "      <td>-0.069401</td>\n",
       "      <td>-0.110195</td>\n",
       "      <td>0.289491</td>\n",
       "      <td>-0.097350</td>\n",
       "      <td>-0.312460</td>\n",
       "      <td>0.144148</td>\n",
       "      <td>1.000000</td>\n",
       "      <td>0.300171</td>\n",
       "      <td>-0.116945</td>\n",
       "      <td>-0.262964</td>\n",
       "      <td>-0.138829</td>\n",
       "    </tr>\n",
       "    <tr>\n",
       "      <td>COD disease</td>\n",
       "      <td>-0.162095</td>\n",
       "      <td>-0.153924</td>\n",
       "      <td>-0.018070</td>\n",
       "      <td>-0.146960</td>\n",
       "      <td>0.416183</td>\n",
       "      <td>0.009034</td>\n",
       "      <td>-0.513351</td>\n",
       "      <td>-0.162519</td>\n",
       "      <td>-0.532877</td>\n",
       "      <td>0.799900</td>\n",
       "      <td>-0.100512</td>\n",
       "      <td>-0.497036</td>\n",
       "      <td>-0.123136</td>\n",
       "      <td>0.300171</td>\n",
       "      <td>1.000000</td>\n",
       "      <td>-0.317593</td>\n",
       "      <td>-0.584033</td>\n",
       "      <td>-0.251678</td>\n",
       "    </tr>\n",
       "    <tr>\n",
       "      <td>DTP immunized</td>\n",
       "      <td>0.091469</td>\n",
       "      <td>0.085385</td>\n",
       "      <td>0.029798</td>\n",
       "      <td>0.089789</td>\n",
       "      <td>-0.111487</td>\n",
       "      <td>-0.098822</td>\n",
       "      <td>0.295807</td>\n",
       "      <td>0.078569</td>\n",
       "      <td>0.334991</td>\n",
       "      <td>-0.276597</td>\n",
       "      <td>0.074506</td>\n",
       "      <td>0.319142</td>\n",
       "      <td>0.204583</td>\n",
       "      <td>-0.116945</td>\n",
       "      <td>-0.317593</td>\n",
       "      <td>1.000000</td>\n",
       "      <td>0.330820</td>\n",
       "      <td>0.299557</td>\n",
       "    </tr>\n",
       "    <tr>\n",
       "      <td>pop% &gt;= 65</td>\n",
       "      <td>0.317097</td>\n",
       "      <td>0.258520</td>\n",
       "      <td>0.010736</td>\n",
       "      <td>0.181807</td>\n",
       "      <td>-0.466812</td>\n",
       "      <td>0.062347</td>\n",
       "      <td>0.601188</td>\n",
       "      <td>0.251617</td>\n",
       "      <td>0.408456</td>\n",
       "      <td>-0.605509</td>\n",
       "      <td>-0.085263</td>\n",
       "      <td>0.488619</td>\n",
       "      <td>-0.077869</td>\n",
       "      <td>-0.262964</td>\n",
       "      <td>-0.584033</td>\n",
       "      <td>0.330820</td>\n",
       "      <td>1.000000</td>\n",
       "      <td>0.296153</td>\n",
       "    </tr>\n",
       "    <tr>\n",
       "      <td>trade%</td>\n",
       "      <td>-0.073405</td>\n",
       "      <td>-0.089705</td>\n",
       "      <td>-0.141224</td>\n",
       "      <td>-0.101634</td>\n",
       "      <td>-0.100274</td>\n",
       "      <td>-0.019466</td>\n",
       "      <td>0.223852</td>\n",
       "      <td>-0.128805</td>\n",
       "      <td>0.181994</td>\n",
       "      <td>-0.244386</td>\n",
       "      <td>-0.000087</td>\n",
       "      <td>0.307387</td>\n",
       "      <td>0.221559</td>\n",
       "      <td>-0.138829</td>\n",
       "      <td>-0.251678</td>\n",
       "      <td>0.299557</td>\n",
       "      <td>0.296153</td>\n",
       "      <td>1.000000</td>\n",
       "    </tr>\n",
       "  </tbody>\n",
       "</table>\n",
       "</div>"
      ],
      "text/plain": [
       "                 Deaths     Cases  Population   flights  pollution    unemp%  \\\n",
       "Deaths         1.000000  0.903648    0.164206  0.671890  -0.159426  0.027217   \n",
       "Cases          0.903648  1.000000    0.229261  0.873542  -0.131218 -0.010429   \n",
       "Population     0.164206  0.229261    1.000000  0.503798   0.267416 -0.049807   \n",
       "flights        0.671890  0.873542    0.503798  1.000000  -0.055782 -0.070206   \n",
       "pollution     -0.159426 -0.131218    0.267416 -0.055782   1.000000  0.034698   \n",
       "unemp%         0.027217 -0.010429   -0.049807 -0.070206   0.034698  1.000000   \n",
       "hospbeds       0.090008  0.085331   -0.036975  0.057644  -0.385119 -0.002011   \n",
       "railways       0.662163  0.821645    0.612453  0.910928  -0.033383 -0.011623   \n",
       "urbanpop%      0.180630  0.166588   -0.060774  0.141160  -0.230348  0.120080   \n",
       "slum%         -0.181630 -0.164552    0.009955 -0.138750   0.477390  0.026280   \n",
       "popdensity%   -0.025627 -0.025279   -0.017312 -0.024821  -0.100991 -0.125099   \n",
       "GDP/cap        0.248461  0.249347   -0.042647  0.222829  -0.172031 -0.148474   \n",
       "literacy      -0.192909 -0.204643    0.024591 -0.182516   0.132855  0.237484   \n",
       "deposit rate  -0.120976 -0.092794   -0.026367 -0.089135   0.111566  0.130979   \n",
       "COD disease   -0.162095 -0.153924   -0.018070 -0.146960   0.416183  0.009034   \n",
       "DTP immunized  0.091469  0.085385    0.029798  0.089789  -0.111487 -0.098822   \n",
       "pop% >= 65     0.317097  0.258520    0.010736  0.181807  -0.466812  0.062347   \n",
       "trade%        -0.073405 -0.089705   -0.141224 -0.101634  -0.100274 -0.019466   \n",
       "\n",
       "               hospbeds  railways  urbanpop%     slum%  popdensity%   GDP/cap  \\\n",
       "Deaths         0.090008  0.662163   0.180630 -0.181630    -0.025627  0.248461   \n",
       "Cases          0.085331  0.821645   0.166588 -0.164552    -0.025279  0.249347   \n",
       "Population    -0.036975  0.612453  -0.060774  0.009955    -0.017312 -0.042647   \n",
       "flights        0.057644  0.910928   0.141160 -0.138750    -0.024821  0.222829   \n",
       "pollution     -0.385119 -0.033383  -0.230348  0.477390    -0.100991 -0.172031   \n",
       "unemp%        -0.002011 -0.011623   0.120080  0.026280    -0.125099 -0.148474   \n",
       "hospbeds       1.000000  0.138858   0.388271 -0.565877     0.332303  0.305930   \n",
       "railways       0.138858  1.000000   0.142949 -0.172386    -0.042580  0.182165   \n",
       "urbanpop%      0.388271  0.142949   1.000000 -0.478795     0.181979  0.606855   \n",
       "slum%         -0.565877 -0.172386  -0.478795  1.000000    -0.113728 -0.551982   \n",
       "popdensity%    0.332303 -0.042580   0.181979 -0.113728     1.000000  0.052606   \n",
       "GDP/cap        0.305930  0.182165   0.606855 -0.551982     0.052606  1.000000   \n",
       "literacy      -0.010130 -0.167972  -0.022595 -0.078594    -0.101932 -0.188607   \n",
       "deposit rate  -0.163978 -0.069401  -0.110195  0.289491    -0.097350 -0.312460   \n",
       "COD disease   -0.513351 -0.162519  -0.532877  0.799900    -0.100512 -0.497036   \n",
       "DTP immunized  0.295807  0.078569   0.334991 -0.276597     0.074506  0.319142   \n",
       "pop% >= 65     0.601188  0.251617   0.408456 -0.605509    -0.085263  0.488619   \n",
       "trade%         0.223852 -0.128805   0.181994 -0.244386    -0.000087  0.307387   \n",
       "\n",
       "               literacy  deposit rate  COD disease  DTP immunized  pop% >= 65  \\\n",
       "Deaths        -0.192909     -0.120976    -0.162095       0.091469    0.317097   \n",
       "Cases         -0.204643     -0.092794    -0.153924       0.085385    0.258520   \n",
       "Population     0.024591     -0.026367    -0.018070       0.029798    0.010736   \n",
       "flights       -0.182516     -0.089135    -0.146960       0.089789    0.181807   \n",
       "pollution      0.132855      0.111566     0.416183      -0.111487   -0.466812   \n",
       "unemp%         0.237484      0.130979     0.009034      -0.098822    0.062347   \n",
       "hospbeds      -0.010130     -0.163978    -0.513351       0.295807    0.601188   \n",
       "railways      -0.167972     -0.069401    -0.162519       0.078569    0.251617   \n",
       "urbanpop%     -0.022595     -0.110195    -0.532877       0.334991    0.408456   \n",
       "slum%         -0.078594      0.289491     0.799900      -0.276597   -0.605509   \n",
       "popdensity%   -0.101932     -0.097350    -0.100512       0.074506   -0.085263   \n",
       "GDP/cap       -0.188607     -0.312460    -0.497036       0.319142    0.488619   \n",
       "literacy       1.000000      0.144148    -0.123136       0.204583   -0.077869   \n",
       "deposit rate   0.144148      1.000000     0.300171      -0.116945   -0.262964   \n",
       "COD disease   -0.123136      0.300171     1.000000      -0.317593   -0.584033   \n",
       "DTP immunized  0.204583     -0.116945    -0.317593       1.000000    0.330820   \n",
       "pop% >= 65    -0.077869     -0.262964    -0.584033       0.330820    1.000000   \n",
       "trade%         0.221559     -0.138829    -0.251678       0.299557    0.296153   \n",
       "\n",
       "                 trade%  \n",
       "Deaths        -0.073405  \n",
       "Cases         -0.089705  \n",
       "Population    -0.141224  \n",
       "flights       -0.101634  \n",
       "pollution     -0.100274  \n",
       "unemp%        -0.019466  \n",
       "hospbeds       0.223852  \n",
       "railways      -0.128805  \n",
       "urbanpop%      0.181994  \n",
       "slum%         -0.244386  \n",
       "popdensity%   -0.000087  \n",
       "GDP/cap        0.307387  \n",
       "literacy       0.221559  \n",
       "deposit rate  -0.138829  \n",
       "COD disease   -0.251678  \n",
       "DTP immunized  0.299557  \n",
       "pop% >= 65     0.296153  \n",
       "trade%         1.000000  "
      ]
     },
     "execution_count": 77,
     "metadata": {},
     "output_type": "execute_result"
    },
    {
     "data": {
      "image/png": "[encoded data removed]",
      "text/plain": [
       "<Figure size 720x576 with 2 Axes>"
      ]
     },
     "metadata": {
      "needs_background": "light"
     },
     "output_type": "display_data"
    },
    {
     "data": {
      "image/png": "[encoded data removed]",
      "text/plain": [
       "<Figure size 792x648 with 2 Axes>"
      ]
     },
     "metadata": {
      "needs_background": "light"
     },
     "output_type": "display_data"
    }
   ],
   "source": [
    "import seaborn as sns\n",
    "\n",
    "df_corr = df_gmerged4.corr()\n",
    "\n",
    "f, ax = plt.subplots(figsize=(10, 8))\n",
    "sns.heatmap(df_corr.iloc[0:2,:], mask=np.zeros_like(df_corr.iloc[0:2,:], dtype=np.bool), cmap=sns.diverging_palette(220, 10, as_cmap=True),\n",
    "            square=True, ax=ax)\n",
    "\n",
    "mask = np.triu(np.ones_like(df_corr, dtype=np.bool))\n",
    "f, ax = plt.subplots(figsize=(11, 9))\n",
    "cmap = sns.diverging_palette(220, 10, as_cmap=True)\n",
    "sns.heatmap(df_corr, mask=mask, cmap=cmap, center=0,\n",
    "            square=True, linewidths=.5, cbar_kws={\"shrink\": .5})\n",
    "\n",
    "df_corr\n"
   ]
  },
  {
   "cell_type": "markdown",
   "metadata": {},
   "source": [
    "## Scaling / Normalization"
   ]
  },
  {
   "cell_type": "code",
   "execution_count": 78,
   "metadata": {},
   "outputs": [
    {
     "data": {
      "text/plain": [
       "'orig'"
      ]
     },
     "metadata": {},
     "output_type": "display_data"
    },
    {
     "data": {
      "text/html": [
       "<div>\n",
       "<style scoped>\n",
       "    .dataframe tbody tr th:only-of-type {\n",
       "        vertical-align: middle;\n",
       "    }\n",
       "\n",
       "    .dataframe tbody tr th {\n",
       "        vertical-align: top;\n",
       "    }\n",
       "\n",
       "    .dataframe thead th {\n",
       "        text-align: right;\n",
       "    }\n",
       "</style>\n",
       "<table border=\"1\" class=\"dataframe\">\n",
       "  <thead>\n",
       "    <tr style=\"text-align: right;\">\n",
       "      <th></th>\n",
       "      <th>Deaths</th>\n",
       "      <th>Cases</th>\n",
       "      <th>Population</th>\n",
       "      <th>flights</th>\n",
       "      <th>pollution</th>\n",
       "      <th>unemp%</th>\n",
       "      <th>hospbeds</th>\n",
       "      <th>railways</th>\n",
       "      <th>urbanpop%</th>\n",
       "      <th>slum%</th>\n",
       "      <th>popdensity%</th>\n",
       "      <th>GDP/cap</th>\n",
       "      <th>literacy</th>\n",
       "      <th>deposit rate</th>\n",
       "      <th>COD disease</th>\n",
       "      <th>DTP immunized</th>\n",
       "      <th>pop% &gt;= 65</th>\n",
       "      <th>trade%</th>\n",
       "    </tr>\n",
       "    <tr>\n",
       "      <th>Country/Region</th>\n",
       "      <th></th>\n",
       "      <th></th>\n",
       "      <th></th>\n",
       "      <th></th>\n",
       "      <th></th>\n",
       "      <th></th>\n",
       "      <th></th>\n",
       "      <th></th>\n",
       "      <th></th>\n",
       "      <th></th>\n",
       "      <th></th>\n",
       "      <th></th>\n",
       "      <th></th>\n",
       "      <th></th>\n",
       "      <th></th>\n",
       "      <th></th>\n",
       "      <th></th>\n",
       "      <th></th>\n",
       "    </tr>\n",
       "  </thead>\n",
       "  <tbody>\n",
       "    <tr>\n",
       "      <td>United States</td>\n",
       "      <td>32916</td>\n",
       "      <td>667801</td>\n",
       "      <td>322941311</td>\n",
       "      <td>9879630.0</td>\n",
       "      <td>7.41</td>\n",
       "      <td>3.68</td>\n",
       "      <td>2.9</td>\n",
       "      <td>150462.3</td>\n",
       "      <td>82.26</td>\n",
       "      <td>0.0</td>\n",
       "      <td>35.77</td>\n",
       "      <td>62794.59</td>\n",
       "      <td>0.00</td>\n",
       "      <td>0.0</td>\n",
       "      <td>5.2</td>\n",
       "      <td>94.0</td>\n",
       "      <td>15.81</td>\n",
       "      <td>20.83</td>\n",
       "    </tr>\n",
       "    <tr>\n",
       "      <td>Spain</td>\n",
       "      <td>19315</td>\n",
       "      <td>184948</td>\n",
       "      <td>46484062</td>\n",
       "      <td>641020.0</td>\n",
       "      <td>9.70</td>\n",
       "      <td>13.96</td>\n",
       "      <td>3.0</td>\n",
       "      <td>15618.0</td>\n",
       "      <td>80.32</td>\n",
       "      <td>0.0</td>\n",
       "      <td>93.53</td>\n",
       "      <td>39715.44</td>\n",
       "      <td>98.44</td>\n",
       "      <td>0.0</td>\n",
       "      <td>5.1</td>\n",
       "      <td>93.0</td>\n",
       "      <td>19.38</td>\n",
       "      <td>51.67</td>\n",
       "    </tr>\n",
       "  </tbody>\n",
       "</table>\n",
       "</div>"
      ],
      "text/plain": [
       "                Deaths   Cases  Population    flights  pollution  unemp%  \\\n",
       "Country/Region                                                             \n",
       "United States    32916  667801   322941311  9879630.0       7.41    3.68   \n",
       "Spain            19315  184948    46484062   641020.0       9.70   13.96   \n",
       "\n",
       "                hospbeds  railways  urbanpop%  slum%  popdensity%   GDP/cap  \\\n",
       "Country/Region                                                                \n",
       "United States        2.9  150462.3      82.26    0.0        35.77  62794.59   \n",
       "Spain                3.0   15618.0      80.32    0.0        93.53  39715.44   \n",
       "\n",
       "                literacy  deposit rate  COD disease  DTP immunized  \\\n",
       "Country/Region                                                       \n",
       "United States       0.00           0.0          5.2           94.0   \n",
       "Spain              98.44           0.0          5.1           93.0   \n",
       "\n",
       "                pop% >= 65  trade%  \n",
       "Country/Region                      \n",
       "United States        15.81   20.83  \n",
       "Spain                19.38   51.67  "
      ]
     },
     "metadata": {},
     "output_type": "display_data"
    },
    {
     "data": {
      "text/plain": [
       "'scale'"
      ]
     },
     "metadata": {},
     "output_type": "display_data"
    },
    {
     "data": {
      "text/html": [
       "<div>\n",
       "<style scoped>\n",
       "    .dataframe tbody tr th:only-of-type {\n",
       "        vertical-align: middle;\n",
       "    }\n",
       "\n",
       "    .dataframe tbody tr th {\n",
       "        vertical-align: top;\n",
       "    }\n",
       "\n",
       "    .dataframe thead th {\n",
       "        text-align: right;\n",
       "    }\n",
       "</style>\n",
       "<table border=\"1\" class=\"dataframe\">\n",
       "  <thead>\n",
       "    <tr style=\"text-align: right;\">\n",
       "      <th></th>\n",
       "      <th>Deaths</th>\n",
       "      <th>Cases</th>\n",
       "      <th>Population</th>\n",
       "      <th>flights</th>\n",
       "      <th>pollution</th>\n",
       "      <th>unemp%</th>\n",
       "      <th>hospbeds</th>\n",
       "      <th>railways</th>\n",
       "      <th>urbanpop%</th>\n",
       "      <th>slum%</th>\n",
       "      <th>popdensity%</th>\n",
       "      <th>GDP/cap</th>\n",
       "      <th>literacy</th>\n",
       "      <th>deposit rate</th>\n",
       "      <th>COD disease</th>\n",
       "      <th>DTP immunized</th>\n",
       "      <th>pop% &gt;= 65</th>\n",
       "      <th>trade%</th>\n",
       "    </tr>\n",
       "    <tr>\n",
       "      <th>Country/Region</th>\n",
       "      <th></th>\n",
       "      <th></th>\n",
       "      <th></th>\n",
       "      <th></th>\n",
       "      <th></th>\n",
       "      <th></th>\n",
       "      <th></th>\n",
       "      <th></th>\n",
       "      <th></th>\n",
       "      <th></th>\n",
       "      <th></th>\n",
       "      <th></th>\n",
       "      <th></th>\n",
       "      <th></th>\n",
       "      <th></th>\n",
       "      <th></th>\n",
       "      <th></th>\n",
       "      <th></th>\n",
       "    </tr>\n",
       "  </thead>\n",
       "  <tbody>\n",
       "    <tr>\n",
       "      <td>United States</td>\n",
       "      <td>8.221962</td>\n",
       "      <td>11.098789</td>\n",
       "      <td>1.809402</td>\n",
       "      <td>10.876939</td>\n",
       "      <td>-1.012400</td>\n",
       "      <td>-0.533644</td>\n",
       "      <td>0.018517</td>\n",
       "      <td>9.518885</td>\n",
       "      <td>0.955201</td>\n",
       "      <td>-0.882278</td>\n",
       "      <td>-0.183451</td>\n",
       "      <td>1.814318</td>\n",
       "      <td>-1.967469</td>\n",
       "      <td>-0.814337</td>\n",
       "      <td>-0.772788</td>\n",
       "      <td>0.406128</td>\n",
       "      <td>1.074007</td>\n",
       "      <td>-1.121848</td>\n",
       "    </tr>\n",
       "    <tr>\n",
       "      <td>Spain</td>\n",
       "      <td>4.732600</td>\n",
       "      <td>2.917920</td>\n",
       "      <td>0.026889</td>\n",
       "      <td>0.472386</td>\n",
       "      <td>-0.894881</td>\n",
       "      <td>1.370712</td>\n",
       "      <td>0.060101</td>\n",
       "      <td>0.686980</td>\n",
       "      <td>0.871687</td>\n",
       "      <td>-0.882278</td>\n",
       "      <td>-0.148344</td>\n",
       "      <td>0.800173</td>\n",
       "      <td>0.798922</td>\n",
       "      <td>-0.814337</td>\n",
       "      <td>-0.777583</td>\n",
       "      <td>0.350364</td>\n",
       "      <td>1.614246</td>\n",
       "      <td>-0.266125</td>\n",
       "    </tr>\n",
       "  </tbody>\n",
       "</table>\n",
       "</div>"
      ],
      "text/plain": [
       "                  Deaths      Cases  Population    flights  pollution  \\\n",
       "Country/Region                                                          \n",
       "United States   8.221962  11.098789    1.809402  10.876939  -1.012400   \n",
       "Spain           4.732600   2.917920    0.026889   0.472386  -0.894881   \n",
       "\n",
       "                  unemp%  hospbeds  railways  urbanpop%     slum%  \\\n",
       "Country/Region                                                      \n",
       "United States  -0.533644  0.018517  9.518885   0.955201 -0.882278   \n",
       "Spain           1.370712  0.060101  0.686980   0.871687 -0.882278   \n",
       "\n",
       "                popdensity%   GDP/cap  literacy  deposit rate  COD disease  \\\n",
       "Country/Region                                                               \n",
       "United States     -0.183451  1.814318 -1.967469     -0.814337    -0.772788   \n",
       "Spain             -0.148344  0.800173  0.798922     -0.814337    -0.777583   \n",
       "\n",
       "                DTP immunized  pop% >= 65    trade%  \n",
       "Country/Region                                       \n",
       "United States        0.406128    1.074007 -1.121848  \n",
       "Spain                0.350364    1.614246 -0.266125  "
      ]
     },
     "metadata": {},
     "output_type": "display_data"
    }
   ],
   "source": [
    "from sklearn.preprocessing import StandardScaler #used for 'Feature Scaling'\n",
    "scaler = StandardScaler()\n",
    "\n",
    "df_sc = df_gmerged4.copy().set_index('Country/Region').drop(columns=['Country Code'])\n",
    "display('orig',df_sc.head(2))\n",
    "\n",
    "df_sc = pd.DataFrame(scaler.fit_transform(df_sc), index=df_sc.index, columns=df_sc.columns)\n",
    "display('scale',df_sc.head(2))\n",
    "\n",
    "# df_sc = pd.DataFrame(scaler.inverse_transform(df_sc), index=df_sc.index, columns=df_sc.columns)\n",
    "# display('inverse',df_sc.head(2))"
   ]
  },
  {
   "cell_type": "markdown",
   "metadata": {},
   "source": [
    "# Misc Clustering Techniques"
   ]
  },
  {
   "cell_type": "code",
   "execution_count": 79,
   "metadata": {},
   "outputs": [
    {
     "data": {
      "text/plain": [
       "'train'"
      ]
     },
     "metadata": {},
     "output_type": "display_data"
    },
    {
     "data": {
      "text/html": [
       "<div>\n",
       "<style scoped>\n",
       "    .dataframe tbody tr th:only-of-type {\n",
       "        vertical-align: middle;\n",
       "    }\n",
       "\n",
       "    .dataframe tbody tr th {\n",
       "        vertical-align: top;\n",
       "    }\n",
       "\n",
       "    .dataframe thead th {\n",
       "        text-align: right;\n",
       "    }\n",
       "</style>\n",
       "<table border=\"1\" class=\"dataframe\">\n",
       "  <thead>\n",
       "    <tr style=\"text-align: right;\">\n",
       "      <th></th>\n",
       "      <th>hospbeds</th>\n",
       "      <th>railways</th>\n",
       "      <th>urbanpop%</th>\n",
       "      <th>slum%</th>\n",
       "    </tr>\n",
       "    <tr>\n",
       "      <th>Country/Region</th>\n",
       "      <th></th>\n",
       "      <th></th>\n",
       "      <th></th>\n",
       "      <th></th>\n",
       "    </tr>\n",
       "  </thead>\n",
       "  <tbody>\n",
       "    <tr>\n",
       "      <td>United States</td>\n",
       "      <td>0.018517</td>\n",
       "      <td>9.518885</td>\n",
       "      <td>0.955201</td>\n",
       "      <td>-0.882278</td>\n",
       "    </tr>\n",
       "    <tr>\n",
       "      <td>Spain</td>\n",
       "      <td>0.060101</td>\n",
       "      <td>0.686980</td>\n",
       "      <td>0.871687</td>\n",
       "      <td>-0.882278</td>\n",
       "    </tr>\n",
       "    <tr>\n",
       "      <td>Italy</td>\n",
       "      <td>0.226437</td>\n",
       "      <td>0.763632</td>\n",
       "      <td>0.446370</td>\n",
       "      <td>-0.882278</td>\n",
       "    </tr>\n",
       "    <tr>\n",
       "      <td>France</td>\n",
       "      <td>1.515545</td>\n",
       "      <td>1.513750</td>\n",
       "      <td>0.876853</td>\n",
       "      <td>-0.882278</td>\n",
       "    </tr>\n",
       "    <tr>\n",
       "      <td>Germany</td>\n",
       "      <td>2.264060</td>\n",
       "      <td>1.854269</td>\n",
       "      <td>0.742112</td>\n",
       "      <td>-0.882278</td>\n",
       "    </tr>\n",
       "    <tr>\n",
       "      <td>United Kingdom</td>\n",
       "      <td>-0.023067</td>\n",
       "      <td>0.709446</td>\n",
       "      <td>1.004276</td>\n",
       "      <td>-0.882278</td>\n",
       "    </tr>\n",
       "    <tr>\n",
       "      <td>China</td>\n",
       "      <td>0.559110</td>\n",
       "      <td>4.086081</td>\n",
       "      <td>-0.039645</td>\n",
       "      <td>0.007618</td>\n",
       "    </tr>\n",
       "    <tr>\n",
       "      <td>Turkey</td>\n",
       "      <td>-0.064652</td>\n",
       "      <td>0.339650</td>\n",
       "      <td>0.648697</td>\n",
       "      <td>-0.462049</td>\n",
       "    </tr>\n",
       "    <tr>\n",
       "      <td>Belgium</td>\n",
       "      <td>1.390793</td>\n",
       "      <td>-0.099836</td>\n",
       "      <td>1.632781</td>\n",
       "      <td>-0.882278</td>\n",
       "    </tr>\n",
       "    <tr>\n",
       "      <td>Canada</td>\n",
       "      <td>-0.064652</td>\n",
       "      <td>2.787432</td>\n",
       "      <td>0.918610</td>\n",
       "      <td>-0.882278</td>\n",
       "    </tr>\n",
       "    <tr>\n",
       "      <td>Japan</td>\n",
       "      <td>4.384850</td>\n",
       "      <td>0.767784</td>\n",
       "      <td>1.358133</td>\n",
       "      <td>-0.882278</td>\n",
       "    </tr>\n",
       "    <tr>\n",
       "      <td>Pakistan</td>\n",
       "      <td>-0.937918</td>\n",
       "      <td>0.174335</td>\n",
       "      <td>-1.007371</td>\n",
       "      <td>0.724479</td>\n",
       "    </tr>\n",
       "    <tr>\n",
       "      <td>France</td>\n",
       "      <td>1.515545</td>\n",
       "      <td>1.513750</td>\n",
       "      <td>0.876853</td>\n",
       "      <td>-0.882278</td>\n",
       "    </tr>\n",
       "    <tr>\n",
       "      <td>Italy</td>\n",
       "      <td>0.226437</td>\n",
       "      <td>0.763632</td>\n",
       "      <td>0.446370</td>\n",
       "      <td>-0.882278</td>\n",
       "    </tr>\n",
       "  </tbody>\n",
       "</table>\n",
       "</div>"
      ],
      "text/plain": [
       "                hospbeds  railways  urbanpop%     slum%\n",
       "Country/Region                                         \n",
       "United States   0.018517  9.518885   0.955201 -0.882278\n",
       "Spain           0.060101  0.686980   0.871687 -0.882278\n",
       "Italy           0.226437  0.763632   0.446370 -0.882278\n",
       "France          1.515545  1.513750   0.876853 -0.882278\n",
       "Germany         2.264060  1.854269   0.742112 -0.882278\n",
       "United Kingdom -0.023067  0.709446   1.004276 -0.882278\n",
       "China           0.559110  4.086081  -0.039645  0.007618\n",
       "Turkey         -0.064652  0.339650   0.648697 -0.462049\n",
       "Belgium         1.390793 -0.099836   1.632781 -0.882278\n",
       "Canada         -0.064652  2.787432   0.918610 -0.882278\n",
       "Japan           4.384850  0.767784   1.358133 -0.882278\n",
       "Pakistan       -0.937918  0.174335  -1.007371  0.724479\n",
       "France          1.515545  1.513750   0.876853 -0.882278\n",
       "Italy           0.226437  0.763632   0.446370 -0.882278"
      ]
     },
     "metadata": {},
     "output_type": "display_data"
    },
    {
     "data": {
      "text/plain": [
       "'test'"
      ]
     },
     "metadata": {},
     "output_type": "display_data"
    },
    {
     "data": {
      "text/html": [
       "<div>\n",
       "<style scoped>\n",
       "    .dataframe tbody tr th:only-of-type {\n",
       "        vertical-align: middle;\n",
       "    }\n",
       "\n",
       "    .dataframe tbody tr th {\n",
       "        vertical-align: top;\n",
       "    }\n",
       "\n",
       "    .dataframe thead th {\n",
       "        text-align: right;\n",
       "    }\n",
       "</style>\n",
       "<table border=\"1\" class=\"dataframe\">\n",
       "  <thead>\n",
       "    <tr style=\"text-align: right;\">\n",
       "      <th></th>\n",
       "      <th>hospbeds</th>\n",
       "      <th>railways</th>\n",
       "      <th>urbanpop%</th>\n",
       "      <th>slum%</th>\n",
       "    </tr>\n",
       "    <tr>\n",
       "      <th>Country/Region</th>\n",
       "      <th></th>\n",
       "      <th></th>\n",
       "      <th></th>\n",
       "      <th></th>\n",
       "    </tr>\n",
       "  </thead>\n",
       "  <tbody>\n",
       "    <tr>\n",
       "      <td>Chile</td>\n",
       "      <td>-0.272572</td>\n",
       "      <td>-0.197099</td>\n",
       "      <td>1.183357</td>\n",
       "      <td>-0.564458</td>\n",
       "    </tr>\n",
       "    <tr>\n",
       "      <td>Japan</td>\n",
       "      <td>4.384850</td>\n",
       "      <td>0.767784</td>\n",
       "      <td>1.358133</td>\n",
       "      <td>-0.882278</td>\n",
       "    </tr>\n",
       "  </tbody>\n",
       "</table>\n",
       "</div>"
      ],
      "text/plain": [
       "                hospbeds  railways  urbanpop%     slum%\n",
       "Country/Region                                         \n",
       "Chile          -0.272572 -0.197099   1.183357 -0.564458\n",
       "Japan           4.384850  0.767784   1.358133 -0.882278"
      ]
     },
     "metadata": {},
     "output_type": "display_data"
    },
    {
     "data": {
      "text/plain": [
       "'inertia: 29.76007997253885 iters: 2'"
      ]
     },
     "metadata": {},
     "output_type": "display_data"
    },
    {
     "data": {
      "text/plain": [
       "'labels: [1 0 0 2 2 0 0 0 2 0 2 0 2 0]'"
      ]
     },
     "metadata": {},
     "output_type": "display_data"
    },
    {
     "data": {
      "text/plain": [
       "array([[-2.27535807e-03,  1.28889838e+00,  4.11124453e-01,\n",
       "        -5.17667889e-01],\n",
       "       [ 1.85167070e-02,  9.51888537e+00,  9.55201141e-01,\n",
       "        -8.82278029e-01],\n",
       "       [ 2.21415878e+00,  1.10994338e+00,  1.09734662e+00,\n",
       "        -8.82278029e-01]])"
      ]
     },
     "metadata": {},
     "output_type": "display_data"
    },
    {
     "data": {
      "text/plain": [
       "'kmeans.predict x2: [0 2]'"
      ]
     },
     "metadata": {},
     "output_type": "display_data"
    },
    {
     "data": {
      "text/plain": [
       "'score -7.776765452089066'"
      ]
     },
     "metadata": {},
     "output_type": "display_data"
    },
    {
     "data": {
      "text/plain": [
       "'transform: [[1.69699171 9.72821399 2.8285328 ]\\n [4.53301207 9.78820703 2.21291315]]'"
      ]
     },
     "metadata": {},
     "output_type": "display_data"
    },
    {
     "data": {
      "text/plain": [
       "'train'"
      ]
     },
     "metadata": {},
     "output_type": "display_data"
    },
    {
     "data": {
      "text/html": [
       "<div>\n",
       "<style scoped>\n",
       "    .dataframe tbody tr th:only-of-type {\n",
       "        vertical-align: middle;\n",
       "    }\n",
       "\n",
       "    .dataframe tbody tr th {\n",
       "        vertical-align: top;\n",
       "    }\n",
       "\n",
       "    .dataframe thead th {\n",
       "        text-align: right;\n",
       "    }\n",
       "</style>\n",
       "<table border=\"1\" class=\"dataframe\">\n",
       "  <thead>\n",
       "    <tr style=\"text-align: right;\">\n",
       "      <th></th>\n",
       "      <th>hospbeds</th>\n",
       "      <th>railways</th>\n",
       "      <th>urbanpop%</th>\n",
       "      <th>slum%</th>\n",
       "      <th>cluster</th>\n",
       "    </tr>\n",
       "    <tr>\n",
       "      <th>Country/Region</th>\n",
       "      <th></th>\n",
       "      <th></th>\n",
       "      <th></th>\n",
       "      <th></th>\n",
       "      <th></th>\n",
       "    </tr>\n",
       "  </thead>\n",
       "  <tbody>\n",
       "    <tr>\n",
       "      <td>United States</td>\n",
       "      <td>0.018517</td>\n",
       "      <td>9.518885</td>\n",
       "      <td>0.955201</td>\n",
       "      <td>-0.882278</td>\n",
       "      <td>1</td>\n",
       "    </tr>\n",
       "    <tr>\n",
       "      <td>Spain</td>\n",
       "      <td>0.060101</td>\n",
       "      <td>0.686980</td>\n",
       "      <td>0.871687</td>\n",
       "      <td>-0.882278</td>\n",
       "      <td>0</td>\n",
       "    </tr>\n",
       "    <tr>\n",
       "      <td>Italy</td>\n",
       "      <td>0.226437</td>\n",
       "      <td>0.763632</td>\n",
       "      <td>0.446370</td>\n",
       "      <td>-0.882278</td>\n",
       "      <td>0</td>\n",
       "    </tr>\n",
       "    <tr>\n",
       "      <td>France</td>\n",
       "      <td>1.515545</td>\n",
       "      <td>1.513750</td>\n",
       "      <td>0.876853</td>\n",
       "      <td>-0.882278</td>\n",
       "      <td>2</td>\n",
       "    </tr>\n",
       "    <tr>\n",
       "      <td>Germany</td>\n",
       "      <td>2.264060</td>\n",
       "      <td>1.854269</td>\n",
       "      <td>0.742112</td>\n",
       "      <td>-0.882278</td>\n",
       "      <td>2</td>\n",
       "    </tr>\n",
       "    <tr>\n",
       "      <td>United Kingdom</td>\n",
       "      <td>-0.023067</td>\n",
       "      <td>0.709446</td>\n",
       "      <td>1.004276</td>\n",
       "      <td>-0.882278</td>\n",
       "      <td>0</td>\n",
       "    </tr>\n",
       "    <tr>\n",
       "      <td>China</td>\n",
       "      <td>0.559110</td>\n",
       "      <td>4.086081</td>\n",
       "      <td>-0.039645</td>\n",
       "      <td>0.007618</td>\n",
       "      <td>0</td>\n",
       "    </tr>\n",
       "    <tr>\n",
       "      <td>Turkey</td>\n",
       "      <td>-0.064652</td>\n",
       "      <td>0.339650</td>\n",
       "      <td>0.648697</td>\n",
       "      <td>-0.462049</td>\n",
       "      <td>0</td>\n",
       "    </tr>\n",
       "    <tr>\n",
       "      <td>Belgium</td>\n",
       "      <td>1.390793</td>\n",
       "      <td>-0.099836</td>\n",
       "      <td>1.632781</td>\n",
       "      <td>-0.882278</td>\n",
       "      <td>2</td>\n",
       "    </tr>\n",
       "    <tr>\n",
       "      <td>Canada</td>\n",
       "      <td>-0.064652</td>\n",
       "      <td>2.787432</td>\n",
       "      <td>0.918610</td>\n",
       "      <td>-0.882278</td>\n",
       "      <td>0</td>\n",
       "    </tr>\n",
       "    <tr>\n",
       "      <td>Japan</td>\n",
       "      <td>4.384850</td>\n",
       "      <td>0.767784</td>\n",
       "      <td>1.358133</td>\n",
       "      <td>-0.882278</td>\n",
       "      <td>2</td>\n",
       "    </tr>\n",
       "    <tr>\n",
       "      <td>Pakistan</td>\n",
       "      <td>-0.937918</td>\n",
       "      <td>0.174335</td>\n",
       "      <td>-1.007371</td>\n",
       "      <td>0.724479</td>\n",
       "      <td>0</td>\n",
       "    </tr>\n",
       "    <tr>\n",
       "      <td>France</td>\n",
       "      <td>1.515545</td>\n",
       "      <td>1.513750</td>\n",
       "      <td>0.876853</td>\n",
       "      <td>-0.882278</td>\n",
       "      <td>2</td>\n",
       "    </tr>\n",
       "    <tr>\n",
       "      <td>Italy</td>\n",
       "      <td>0.226437</td>\n",
       "      <td>0.763632</td>\n",
       "      <td>0.446370</td>\n",
       "      <td>-0.882278</td>\n",
       "      <td>0</td>\n",
       "    </tr>\n",
       "  </tbody>\n",
       "</table>\n",
       "</div>"
      ],
      "text/plain": [
       "                hospbeds  railways  urbanpop%     slum%  cluster\n",
       "Country/Region                                                  \n",
       "United States   0.018517  9.518885   0.955201 -0.882278        1\n",
       "Spain           0.060101  0.686980   0.871687 -0.882278        0\n",
       "Italy           0.226437  0.763632   0.446370 -0.882278        0\n",
       "France          1.515545  1.513750   0.876853 -0.882278        2\n",
       "Germany         2.264060  1.854269   0.742112 -0.882278        2\n",
       "United Kingdom -0.023067  0.709446   1.004276 -0.882278        0\n",
       "China           0.559110  4.086081  -0.039645  0.007618        0\n",
       "Turkey         -0.064652  0.339650   0.648697 -0.462049        0\n",
       "Belgium         1.390793 -0.099836   1.632781 -0.882278        2\n",
       "Canada         -0.064652  2.787432   0.918610 -0.882278        0\n",
       "Japan           4.384850  0.767784   1.358133 -0.882278        2\n",
       "Pakistan       -0.937918  0.174335  -1.007371  0.724479        0\n",
       "France          1.515545  1.513750   0.876853 -0.882278        2\n",
       "Italy           0.226437  0.763632   0.446370 -0.882278        0"
      ]
     },
     "metadata": {},
     "output_type": "display_data"
    },
    {
     "data": {
      "text/plain": [
       "'test'"
      ]
     },
     "metadata": {},
     "output_type": "display_data"
    },
    {
     "data": {
      "text/html": [
       "<div>\n",
       "<style scoped>\n",
       "    .dataframe tbody tr th:only-of-type {\n",
       "        vertical-align: middle;\n",
       "    }\n",
       "\n",
       "    .dataframe tbody tr th {\n",
       "        vertical-align: top;\n",
       "    }\n",
       "\n",
       "    .dataframe thead th {\n",
       "        text-align: right;\n",
       "    }\n",
       "</style>\n",
       "<table border=\"1\" class=\"dataframe\">\n",
       "  <thead>\n",
       "    <tr style=\"text-align: right;\">\n",
       "      <th></th>\n",
       "      <th>hospbeds</th>\n",
       "      <th>railways</th>\n",
       "      <th>urbanpop%</th>\n",
       "      <th>slum%</th>\n",
       "      <th>cluster</th>\n",
       "    </tr>\n",
       "    <tr>\n",
       "      <th>Country/Region</th>\n",
       "      <th></th>\n",
       "      <th></th>\n",
       "      <th></th>\n",
       "      <th></th>\n",
       "      <th></th>\n",
       "    </tr>\n",
       "  </thead>\n",
       "  <tbody>\n",
       "    <tr>\n",
       "      <td>Chile</td>\n",
       "      <td>-0.272572</td>\n",
       "      <td>-0.197099</td>\n",
       "      <td>1.183357</td>\n",
       "      <td>-0.564458</td>\n",
       "      <td>0</td>\n",
       "    </tr>\n",
       "    <tr>\n",
       "      <td>Japan</td>\n",
       "      <td>4.384850</td>\n",
       "      <td>0.767784</td>\n",
       "      <td>1.358133</td>\n",
       "      <td>-0.882278</td>\n",
       "      <td>2</td>\n",
       "    </tr>\n",
       "  </tbody>\n",
       "</table>\n",
       "</div>"
      ],
      "text/plain": [
       "                hospbeds  railways  urbanpop%     slum%  cluster\n",
       "Country/Region                                                  \n",
       "Chile          -0.272572 -0.197099   1.183357 -0.564458        0\n",
       "Japan           4.384850  0.767784   1.358133 -0.882278        2"
      ]
     },
     "metadata": {},
     "output_type": "display_data"
    }
   ],
   "source": [
    "# kmeans apply to a subset of my data\n",
    "\n",
    "df_gm5 = df_sc.copy()\n",
    "df_train = pd.concat([df_gm5.iloc[0:10,6:10],df_gm5.loc[['Japan','Pakistan','France','Italy']].iloc[:,6:10]], axis=0)\n",
    "df_test = df_gm5.iloc[20:22,6:10]\n",
    "\n",
    "display('train',df_train)\n",
    "display('test',df_test)\n",
    "\n",
    "kmeans = KMeans(n_clusters=3, random_state=0).fit(df_train) # train on sample rows\n",
    "\n",
    "display(f'inertia: {kmeans.inertia_} iters: {kmeans.n_iter_}')    # training info \n",
    "display(f'labels: {kmeans.labels_}')                       # k-labels\n",
    "display(kmeans.cluster_centers_)                           # k-centers\n",
    "display(f'kmeans.predict x2: {kmeans.predict(df_test)}')  # evaluate 2 arb points\n",
    "display(f'score {kmeans.score(df_test)}') # score\n",
    "display(f'transform: {kmeans.transform(df_test)}')  # what does this do, distance of each pt ?\n",
    "\n",
    "df_train['cluster'] = kmeans.labels_\n",
    "df_test['cluster'] = kmeans.predict(df_test)\n",
    "display('train',df_train)\n",
    "display('test',df_test)"
   ]
  },
  {
   "cell_type": "code",
   "execution_count": 88,
   "metadata": {
    "scrolled": false
   },
   "outputs": [
    {
     "data": {
      "text/plain": [
       "'train'"
      ]
     },
     "metadata": {},
     "output_type": "display_data"
    },
    {
     "data": {
      "text/plain": [
       "(127, 18)"
      ]
     },
     "metadata": {},
     "output_type": "display_data"
    },
    {
     "data": {
      "text/html": [
       "<div>\n",
       "<style scoped>\n",
       "    .dataframe tbody tr th:only-of-type {\n",
       "        vertical-align: middle;\n",
       "    }\n",
       "\n",
       "    .dataframe tbody tr th {\n",
       "        vertical-align: top;\n",
       "    }\n",
       "\n",
       "    .dataframe thead th {\n",
       "        text-align: right;\n",
       "    }\n",
       "</style>\n",
       "<table border=\"1\" class=\"dataframe\">\n",
       "  <thead>\n",
       "    <tr style=\"text-align: right;\">\n",
       "      <th></th>\n",
       "      <th>Deaths</th>\n",
       "      <th>Cases</th>\n",
       "      <th>Population</th>\n",
       "      <th>flights</th>\n",
       "      <th>pollution</th>\n",
       "      <th>unemp%</th>\n",
       "      <th>hospbeds</th>\n",
       "      <th>railways</th>\n",
       "      <th>urbanpop%</th>\n",
       "      <th>slum%</th>\n",
       "      <th>popdensity%</th>\n",
       "      <th>GDP/cap</th>\n",
       "      <th>literacy</th>\n",
       "      <th>deposit rate</th>\n",
       "      <th>COD disease</th>\n",
       "      <th>DTP immunized</th>\n",
       "      <th>pop% &gt;= 65</th>\n",
       "      <th>trade%</th>\n",
       "    </tr>\n",
       "    <tr>\n",
       "      <th>Country/Region</th>\n",
       "      <th></th>\n",
       "      <th></th>\n",
       "      <th></th>\n",
       "      <th></th>\n",
       "      <th></th>\n",
       "      <th></th>\n",
       "      <th></th>\n",
       "      <th></th>\n",
       "      <th></th>\n",
       "      <th></th>\n",
       "      <th></th>\n",
       "      <th></th>\n",
       "      <th></th>\n",
       "      <th></th>\n",
       "      <th></th>\n",
       "      <th></th>\n",
       "      <th></th>\n",
       "      <th></th>\n",
       "    </tr>\n",
       "  </thead>\n",
       "  <tbody>\n",
       "    <tr>\n",
       "      <td>Slovenia</td>\n",
       "      <td>-0.207050</td>\n",
       "      <td>-0.194129</td>\n",
       "      <td>-0.259512</td>\n",
       "      <td>-0.228762</td>\n",
       "      <td>-0.570548</td>\n",
       "      <td>-0.437315</td>\n",
       "      <td>0.725447</td>\n",
       "      <td>-0.256767</td>\n",
       "      <td>-0.238098</td>\n",
       "      <td>-0.882278</td>\n",
       "      <td>-0.142807</td>\n",
       "      <td>0.726936</td>\n",
       "      <td>0.834331</td>\n",
       "      <td>-0.814337</td>\n",
       "      <td>-0.782378</td>\n",
       "      <td>0.350364</td>\n",
       "      <td>1.649051</td>\n",
       "      <td>2.741391</td>\n",
       "    </tr>\n",
       "    <tr>\n",
       "      <td>Sierra Leone</td>\n",
       "      <td>-0.222700</td>\n",
       "      <td>-0.215358</td>\n",
       "      <td>-0.225572</td>\n",
       "      <td>-0.247118</td>\n",
       "      <td>-0.282652</td>\n",
       "      <td>-0.394708</td>\n",
       "      <td>-1.021087</td>\n",
       "      <td>-0.335953</td>\n",
       "      <td>-0.775340</td>\n",
       "      <td>1.787410</td>\n",
       "      <td>-0.140771</td>\n",
       "      <td>-0.874612</td>\n",
       "      <td>-0.753168</td>\n",
       "      <td>0.109123</td>\n",
       "      <td>1.754402</td>\n",
       "      <td>0.183073</td>\n",
       "      <td>-0.869039</td>\n",
       "      <td>-0.168178</td>\n",
       "    </tr>\n",
       "    <tr>\n",
       "      <td>Kenya</td>\n",
       "      <td>-0.219878</td>\n",
       "      <td>-0.211648</td>\n",
       "      <td>0.043444</td>\n",
       "      <td>-0.094565</td>\n",
       "      <td>0.074012</td>\n",
       "      <td>-0.726303</td>\n",
       "      <td>-0.605245</td>\n",
       "      <td>-0.210395</td>\n",
       "      <td>-1.422356</td>\n",
       "      <td>1.095268</td>\n",
       "      <td>-0.150307</td>\n",
       "      <td>-0.792634</td>\n",
       "      <td>0.323712</td>\n",
       "      <td>1.066618</td>\n",
       "      <td>2.013355</td>\n",
       "      <td>0.294600</td>\n",
       "      <td>-0.964375</td>\n",
       "      <td>-0.962857</td>\n",
       "    </tr>\n",
       "  </tbody>\n",
       "</table>\n",
       "</div>"
      ],
      "text/plain": [
       "                  Deaths     Cases  Population   flights  pollution    unemp%  \\\n",
       "Country/Region                                                                  \n",
       "Slovenia       -0.207050 -0.194129   -0.259512 -0.228762  -0.570548 -0.437315   \n",
       "Sierra Leone   -0.222700 -0.215358   -0.225572 -0.247118  -0.282652 -0.394708   \n",
       "Kenya          -0.219878 -0.211648    0.043444 -0.094565   0.074012 -0.726303   \n",
       "\n",
       "                hospbeds  railways  urbanpop%     slum%  popdensity%  \\\n",
       "Country/Region                                                         \n",
       "Slovenia        0.725447 -0.256767  -0.238098 -0.882278    -0.142807   \n",
       "Sierra Leone   -1.021087 -0.335953  -0.775340  1.787410    -0.140771   \n",
       "Kenya          -0.605245 -0.210395  -1.422356  1.095268    -0.150307   \n",
       "\n",
       "                 GDP/cap  literacy  deposit rate  COD disease  DTP immunized  \\\n",
       "Country/Region                                                                 \n",
       "Slovenia        0.726936  0.834331     -0.814337    -0.782378       0.350364   \n",
       "Sierra Leone   -0.874612 -0.753168      0.109123     1.754402       0.183073   \n",
       "Kenya          -0.792634  0.323712      1.066618     2.013355       0.294600   \n",
       "\n",
       "                pop% >= 65    trade%  \n",
       "Country/Region                        \n",
       "Slovenia          1.649051  2.741391  \n",
       "Sierra Leone     -0.869039 -0.168178  \n",
       "Kenya            -0.964375 -0.962857  "
      ]
     },
     "metadata": {},
     "output_type": "display_data"
    },
    {
     "data": {
      "text/plain": [
       "'test'"
      ]
     },
     "metadata": {},
     "output_type": "display_data"
    },
    {
     "data": {
      "text/plain": [
       "(32, 18)"
      ]
     },
     "metadata": {},
     "output_type": "display_data"
    },
    {
     "data": {
      "text/html": [
       "<div>\n",
       "<style scoped>\n",
       "    .dataframe tbody tr th:only-of-type {\n",
       "        vertical-align: middle;\n",
       "    }\n",
       "\n",
       "    .dataframe tbody tr th {\n",
       "        vertical-align: top;\n",
       "    }\n",
       "\n",
       "    .dataframe thead th {\n",
       "        text-align: right;\n",
       "    }\n",
       "</style>\n",
       "<table border=\"1\" class=\"dataframe\">\n",
       "  <thead>\n",
       "    <tr style=\"text-align: right;\">\n",
       "      <th></th>\n",
       "      <th>Deaths</th>\n",
       "      <th>Cases</th>\n",
       "      <th>Population</th>\n",
       "      <th>flights</th>\n",
       "      <th>pollution</th>\n",
       "      <th>unemp%</th>\n",
       "      <th>hospbeds</th>\n",
       "      <th>railways</th>\n",
       "      <th>urbanpop%</th>\n",
       "      <th>slum%</th>\n",
       "      <th>popdensity%</th>\n",
       "      <th>GDP/cap</th>\n",
       "      <th>literacy</th>\n",
       "      <th>deposit rate</th>\n",
       "      <th>COD disease</th>\n",
       "      <th>DTP immunized</th>\n",
       "      <th>pop% &gt;= 65</th>\n",
       "      <th>trade%</th>\n",
       "    </tr>\n",
       "    <tr>\n",
       "      <th>Country/Region</th>\n",
       "      <th></th>\n",
       "      <th></th>\n",
       "      <th></th>\n",
       "      <th></th>\n",
       "      <th></th>\n",
       "      <th></th>\n",
       "      <th></th>\n",
       "      <th></th>\n",
       "      <th></th>\n",
       "      <th></th>\n",
       "      <th></th>\n",
       "      <th></th>\n",
       "      <th></th>\n",
       "      <th></th>\n",
       "      <th></th>\n",
       "      <th></th>\n",
       "      <th></th>\n",
       "      <th></th>\n",
       "    </tr>\n",
       "  </thead>\n",
       "  <tbody>\n",
       "    <tr>\n",
       "      <td>Romania</td>\n",
       "      <td>-0.122132</td>\n",
       "      <td>-0.085034</td>\n",
       "      <td>-0.145791</td>\n",
       "      <td>-0.186875</td>\n",
       "      <td>-0.642907</td>\n",
       "      <td>-0.478070</td>\n",
       "      <td>1.432377</td>\n",
       "      <td>0.369123</td>\n",
       "      <td>-0.261344</td>\n",
       "      <td>-0.882278</td>\n",
       "      <td>-0.153747</td>\n",
       "      <td>0.294440</td>\n",
       "      <td>0.810163</td>\n",
       "      <td>-0.519374</td>\n",
       "      <td>-0.820742</td>\n",
       "      <td>-0.039981</td>\n",
       "      <td>1.456865</td>\n",
       "      <td>0.355412</td>\n",
       "    </tr>\n",
       "    <tr>\n",
       "      <td>Libya</td>\n",
       "      <td>-0.222443</td>\n",
       "      <td>-0.214782</td>\n",
       "      <td>-0.230967</td>\n",
       "      <td>-0.241185</td>\n",
       "      <td>1.391356</td>\n",
       "      <td>2.222855</td>\n",
       "      <td>0.351190</td>\n",
       "      <td>-0.335953</td>\n",
       "      <td>0.862217</td>\n",
       "      <td>0.360751</td>\n",
       "      <td>-0.202882</td>\n",
       "      <td>-0.032585</td>\n",
       "      <td>0.452140</td>\n",
       "      <td>-0.247101</td>\n",
       "      <td>-0.638516</td>\n",
       "      <td>0.573418</td>\n",
       "      <td>-0.654154</td>\n",
       "      <td>0.236099</td>\n",
       "    </tr>\n",
       "    <tr>\n",
       "      <td>South Sudan</td>\n",
       "      <td>-0.222700</td>\n",
       "      <td>-0.215545</td>\n",
       "      <td>-0.202982</td>\n",
       "      <td>-0.249533</td>\n",
       "      <td>0.946425</td>\n",
       "      <td>1.052084</td>\n",
       "      <td>-1.187423</td>\n",
       "      <td>-0.335953</td>\n",
       "      <td>-1.741775</td>\n",
       "      <td>2.493676</td>\n",
       "      <td>-0.205192</td>\n",
       "      <td>-0.860609</td>\n",
       "      <td>-0.997378</td>\n",
       "      <td>-0.773496</td>\n",
       "      <td>2.018151</td>\n",
       "      <td>-2.103236</td>\n",
       "      <td>-0.803968</td>\n",
       "      <td>-1.699822</td>\n",
       "    </tr>\n",
       "  </tbody>\n",
       "</table>\n",
       "</div>"
      ],
      "text/plain": [
       "                  Deaths     Cases  Population   flights  pollution    unemp%  \\\n",
       "Country/Region                                                                  \n",
       "Romania        -0.122132 -0.085034   -0.145791 -0.186875  -0.642907 -0.478070   \n",
       "Libya          -0.222443 -0.214782   -0.230967 -0.241185   1.391356  2.222855   \n",
       "South Sudan    -0.222700 -0.215545   -0.202982 -0.249533   0.946425  1.052084   \n",
       "\n",
       "                hospbeds  railways  urbanpop%     slum%  popdensity%  \\\n",
       "Country/Region                                                         \n",
       "Romania         1.432377  0.369123  -0.261344 -0.882278    -0.153747   \n",
       "Libya           0.351190 -0.335953   0.862217  0.360751    -0.202882   \n",
       "South Sudan    -1.187423 -0.335953  -1.741775  2.493676    -0.205192   \n",
       "\n",
       "                 GDP/cap  literacy  deposit rate  COD disease  DTP immunized  \\\n",
       "Country/Region                                                                 \n",
       "Romania         0.294440  0.810163     -0.519374    -0.820742      -0.039981   \n",
       "Libya          -0.032585  0.452140     -0.247101    -0.638516       0.573418   \n",
       "South Sudan    -0.860609 -0.997378     -0.773496     2.018151      -2.103236   \n",
       "\n",
       "                pop% >= 65    trade%  \n",
       "Country/Region                        \n",
       "Romania           1.456865  0.355412  \n",
       "Libya            -0.654154  0.236099  \n",
       "South Sudan      -0.803968 -1.699822  "
      ]
     },
     "metadata": {},
     "output_type": "display_data"
    },
    {
     "data": {
      "text/plain": [
       "'inertia: 1630.6267289442712 iters: 6'"
      ]
     },
     "metadata": {},
     "output_type": "display_data"
    },
    {
     "data": {
      "text/plain": [
       "'labels: [2 0 0 2 2 2 0 0 2 2 0 2 2 1 0 0 2 2 0 2 0 0 2 2 0 2 2 0 2 0 2 2 2 2 2 0 2\\n 2 2 0 0 2 0 0 0 2 2 2 2 0 0 2 2 2 0 2 2 2 2 2 0 0 2 0 0 2 0 0 2 2 2 0 0 0\\n 2 0 2 2 2 2 0 2 2 0 2 2 2 0 2 0 2 0 2 2 2 2 2 2 0 2 2 2 2 2 2 2 0 2 0 2 0\\n 2 0 0 2 2 2 0 2 0 2 0 0 0 0 0 0]'"
      ]
     },
     "metadata": {},
     "output_type": "display_data"
    },
    {
     "data": {
      "text/plain": [
       "array([[-2.13750817e-01, -2.01097377e-01,  8.26989504e-02,\n",
       "        -1.74969840e-01,  3.71638480e-01, -3.57886932e-03,\n",
       "        -6.64604553e-01, -1.60912398e-01, -7.72909512e-01,\n",
       "         9.19878953e-01, -1.14228595e-01, -7.10295671e-01,\n",
       "        -1.45998731e-01,  3.04653078e-01,  9.84501302e-01,\n",
       "        -6.56661634e-01, -7.75275043e-01, -4.03952357e-01],\n",
       "       [ 8.22196213e+00,  1.10987888e+01,  1.80940168e+00,\n",
       "         1.08769391e+01, -1.01240022e+00, -5.33644231e-01,\n",
       "         1.85167070e-02,  9.51888537e+00,  9.55201141e-01,\n",
       "        -8.82278029e-01, -1.83450514e-01,  1.81431816e+00,\n",
       "        -1.96746930e+00, -8.14337189e-01, -7.72787555e-01,\n",
       "         4.06127582e-01,  1.07400666e+00, -1.12184793e+00],\n",
       "       [ 1.15565429e-01,  5.48331704e-02, -2.91775299e-02,\n",
       "         3.11208422e-04, -3.12765412e-01, -1.26517129e-01,\n",
       "         4.62635217e-01,  1.01822012e-02,  5.32323351e-01,\n",
       "        -5.98876778e-01,  1.36139059e-01,  4.32359682e-01,\n",
       "         1.41391811e-01, -1.87503328e-01, -6.54947934e-01,\n",
       "         4.14306248e-01,  4.70492314e-01,  2.27560056e-01]])"
      ]
     },
     "metadata": {},
     "output_type": "display_data"
    },
    {
     "data": {
      "text/plain": [
       "'kmeans.predict x2: [2 2 0 0 2 2 2 2 2 2 0 0 2 2 2 0 2 0 2 2 2 0 0 2 0 2 2 0 2 2 2 0]'"
      ]
     },
     "metadata": {},
     "output_type": "display_data"
    },
    {
     "data": {
      "text/plain": [
       "'score -299.7305812600098'"
      ]
     },
     "metadata": {},
     "output_type": "display_data"
    },
    {
     "data": {
      "text/plain": [
       "'transform: [[ 4.61725044 20.51615575  2.00507773]\\n [ 3.98115267 21.30031795  3.40488227]\\n [ 3.46569062 21.83608191  6.56381834]\\n [ 4.01850525 21.70719995  5.60223338]\\n [ 3.29383121 20.70623218  2.18726603]\\n [ 3.41490522 21.11569655  3.16691924]\\n [ 4.81478158 21.45485628  4.54601969]\\n [ 5.14973323 21.1042725   3.62573036]\\n [ 4.10955086 21.09375067  2.19583502]\\n [ 4.19705465 21.03888343  2.14755015]\\n [ 1.38909788 21.35539183  4.05591147]\\n [ 2.70667386 21.20411816  3.50412291]\\n [ 3.67304371 21.1790966   2.87857016]\\n [ 5.1213316  19.87163685  2.82710682]\\n [ 5.34644414 20.95511798  2.47992134]\\n [ 1.71284226 21.30992048  4.29309857]\\n [ 5.5565365  19.90216352  3.45885756]\\n [ 2.87118365 21.49159212  5.63892527]\\n [ 4.52757772 21.25724813  3.28852721]\\n [ 4.14934775 21.09823781  2.68478372]\\n [ 5.69346083 20.0836607   3.07573994]\\n [ 2.93543173 21.17363738  4.50493235]\\n [ 3.56076195 21.60906457  4.76279438]\\n [ 4.80575499 21.28832771  3.08491835]\\n [ 2.2114633  21.4593574   4.93943432]\\n [ 4.22398334 20.69489253  2.34108038]\\n [ 6.0774634  21.06781309  5.5583237 ]\\n [ 3.08201876 21.310168    3.87795173]\\n [ 6.02692251 17.95051613  4.14928441]\\n [ 4.92370864 20.26595638  2.12513282]\\n [ 4.82396067 20.39747972  2.71477875]\\n [ 2.21577761 21.57492096  4.94042729]]'"
      ]
     },
     "metadata": {},
     "output_type": "display_data"
    },
    {
     "name": "stderr",
     "output_type": "stream",
     "text": [
      "C:\\Users\\dougc\\Anaconda3\\lib\\site-packages\\ipykernel_launcher.py:21: SettingWithCopyWarning: \n",
      "A value is trying to be set on a copy of a slice from a DataFrame.\n",
      "Try using .loc[row_indexer,col_indexer] = value instead\n",
      "\n",
      "See the caveats in the documentation: http://pandas.pydata.org/pandas-docs/stable/user_guide/indexing.html#returning-a-view-versus-a-copy\n",
      "C:\\Users\\dougc\\Anaconda3\\lib\\site-packages\\ipykernel_launcher.py:22: SettingWithCopyWarning: \n",
      "A value is trying to be set on a copy of a slice from a DataFrame.\n",
      "Try using .loc[row_indexer,col_indexer] = value instead\n",
      "\n",
      "See the caveats in the documentation: http://pandas.pydata.org/pandas-docs/stable/user_guide/indexing.html#returning-a-view-versus-a-copy\n"
     ]
    },
    {
     "data": {
      "text/plain": [
       "'train'"
      ]
     },
     "metadata": {},
     "output_type": "display_data"
    },
    {
     "data": {
      "text/html": [
       "<div>\n",
       "<style scoped>\n",
       "    .dataframe tbody tr th:only-of-type {\n",
       "        vertical-align: middle;\n",
       "    }\n",
       "\n",
       "    .dataframe tbody tr th {\n",
       "        vertical-align: top;\n",
       "    }\n",
       "\n",
       "    .dataframe thead th {\n",
       "        text-align: right;\n",
       "    }\n",
       "</style>\n",
       "<table border=\"1\" class=\"dataframe\">\n",
       "  <thead>\n",
       "    <tr style=\"text-align: right;\">\n",
       "      <th></th>\n",
       "      <th>Deaths</th>\n",
       "      <th>Cases</th>\n",
       "      <th>Population</th>\n",
       "      <th>trade%</th>\n",
       "      <th>cluster</th>\n",
       "    </tr>\n",
       "    <tr>\n",
       "      <th>Country/Region</th>\n",
       "      <th></th>\n",
       "      <th></th>\n",
       "      <th></th>\n",
       "      <th></th>\n",
       "      <th></th>\n",
       "    </tr>\n",
       "  </thead>\n",
       "  <tbody>\n",
       "    <tr>\n",
       "      <td>Slovenia</td>\n",
       "      <td>-0.207050</td>\n",
       "      <td>-0.194129</td>\n",
       "      <td>-0.259512</td>\n",
       "      <td>2.741391</td>\n",
       "      <td>2</td>\n",
       "    </tr>\n",
       "    <tr>\n",
       "      <td>Sierra Leone</td>\n",
       "      <td>-0.222700</td>\n",
       "      <td>-0.215358</td>\n",
       "      <td>-0.225572</td>\n",
       "      <td>-0.168178</td>\n",
       "      <td>0</td>\n",
       "    </tr>\n",
       "    <tr>\n",
       "      <td>Kenya</td>\n",
       "      <td>-0.219878</td>\n",
       "      <td>-0.211648</td>\n",
       "      <td>0.043444</td>\n",
       "      <td>-0.962857</td>\n",
       "      <td>0</td>\n",
       "    </tr>\n",
       "    <tr>\n",
       "      <td>Fiji</td>\n",
       "      <td>-0.222700</td>\n",
       "      <td>-0.215324</td>\n",
       "      <td>-0.267202</td>\n",
       "      <td>0.169506</td>\n",
       "      <td>2</td>\n",
       "    </tr>\n",
       "    <tr>\n",
       "      <td>Malta</td>\n",
       "      <td>-0.221930</td>\n",
       "      <td>-0.208632</td>\n",
       "      <td>-0.269891</td>\n",
       "      <td>0.079882</td>\n",
       "      <td>2</td>\n",
       "    </tr>\n",
       "    <tr>\n",
       "      <td>Paraguay</td>\n",
       "      <td>-0.220648</td>\n",
       "      <td>-0.212664</td>\n",
       "      <td>-0.229125</td>\n",
       "      <td>-0.164293</td>\n",
       "      <td>2</td>\n",
       "    </tr>\n",
       "    <tr>\n",
       "      <td>Liechtenstein</td>\n",
       "      <td>-0.222443</td>\n",
       "      <td>-0.214274</td>\n",
       "      <td>-0.272584</td>\n",
       "      <td>-1.699822</td>\n",
       "      <td>0</td>\n",
       "    </tr>\n",
       "    <tr>\n",
       "      <td>Ethiopia</td>\n",
       "      <td>-0.221930</td>\n",
       "      <td>-0.214054</td>\n",
       "      <td>0.395178</td>\n",
       "      <td>-1.107697</td>\n",
       "      <td>0</td>\n",
       "    </tr>\n",
       "    <tr>\n",
       "      <td>Croatia</td>\n",
       "      <td>-0.213721</td>\n",
       "      <td>-0.185268</td>\n",
       "      <td>-0.245912</td>\n",
       "      <td>0.369563</td>\n",
       "      <td>2</td>\n",
       "    </tr>\n",
       "    <tr>\n",
       "      <td>Mongolia</td>\n",
       "      <td>-0.222700</td>\n",
       "      <td>-0.215087</td>\n",
       "      <td>-0.253120</td>\n",
       "      <td>1.036605</td>\n",
       "      <td>2</td>\n",
       "    </tr>\n",
       "  </tbody>\n",
       "</table>\n",
       "</div>"
      ],
      "text/plain": [
       "                  Deaths     Cases  Population    trade%  cluster\n",
       "Country/Region                                                   \n",
       "Slovenia       -0.207050 -0.194129   -0.259512  2.741391        2\n",
       "Sierra Leone   -0.222700 -0.215358   -0.225572 -0.168178        0\n",
       "Kenya          -0.219878 -0.211648    0.043444 -0.962857        0\n",
       "Fiji           -0.222700 -0.215324   -0.267202  0.169506        2\n",
       "Malta          -0.221930 -0.208632   -0.269891  0.079882        2\n",
       "Paraguay       -0.220648 -0.212664   -0.229125 -0.164293        2\n",
       "Liechtenstein  -0.222443 -0.214274   -0.272584 -1.699822        0\n",
       "Ethiopia       -0.221930 -0.214054    0.395178 -1.107697        0\n",
       "Croatia        -0.213721 -0.185268   -0.245912  0.369563        2\n",
       "Mongolia       -0.222700 -0.215087   -0.253120  1.036605        2"
      ]
     },
     "metadata": {},
     "output_type": "display_data"
    },
    {
     "data": {
      "text/plain": [
       "'test'"
      ]
     },
     "metadata": {},
     "output_type": "display_data"
    },
    {
     "data": {
      "text/html": [
       "<div>\n",
       "<style scoped>\n",
       "    .dataframe tbody tr th:only-of-type {\n",
       "        vertical-align: middle;\n",
       "    }\n",
       "\n",
       "    .dataframe tbody tr th {\n",
       "        vertical-align: top;\n",
       "    }\n",
       "\n",
       "    .dataframe thead th {\n",
       "        text-align: right;\n",
       "    }\n",
       "</style>\n",
       "<table border=\"1\" class=\"dataframe\">\n",
       "  <thead>\n",
       "    <tr style=\"text-align: right;\">\n",
       "      <th></th>\n",
       "      <th>Deaths</th>\n",
       "      <th>Cases</th>\n",
       "      <th>Population</th>\n",
       "      <th>trade%</th>\n",
       "      <th>cluster</th>\n",
       "    </tr>\n",
       "    <tr>\n",
       "      <th>Country/Region</th>\n",
       "      <th></th>\n",
       "      <th></th>\n",
       "      <th></th>\n",
       "      <th></th>\n",
       "      <th></th>\n",
       "    </tr>\n",
       "  </thead>\n",
       "  <tbody>\n",
       "    <tr>\n",
       "      <td>Romania</td>\n",
       "      <td>-0.122132</td>\n",
       "      <td>-0.085034</td>\n",
       "      <td>-0.145791</td>\n",
       "      <td>0.355412</td>\n",
       "      <td>2</td>\n",
       "    </tr>\n",
       "    <tr>\n",
       "      <td>Libya</td>\n",
       "      <td>-0.222443</td>\n",
       "      <td>-0.214782</td>\n",
       "      <td>-0.230967</td>\n",
       "      <td>0.236099</td>\n",
       "      <td>2</td>\n",
       "    </tr>\n",
       "    <tr>\n",
       "      <td>South Sudan</td>\n",
       "      <td>-0.222700</td>\n",
       "      <td>-0.215545</td>\n",
       "      <td>-0.202982</td>\n",
       "      <td>-1.699822</td>\n",
       "      <td>0</td>\n",
       "    </tr>\n",
       "  </tbody>\n",
       "</table>\n",
       "</div>"
      ],
      "text/plain": [
       "                  Deaths     Cases  Population    trade%  cluster\n",
       "Country/Region                                                   \n",
       "Romania        -0.122132 -0.085034   -0.145791  0.355412        2\n",
       "Libya          -0.222443 -0.214782   -0.230967  0.236099        2\n",
       "South Sudan    -0.222700 -0.215545   -0.202982 -1.699822        0"
      ]
     },
     "metadata": {},
     "output_type": "display_data"
    }
   ],
   "source": [
    "## apply to all cols\n",
    "from sklearn.model_selection import train_test_split\n",
    "df_gm5 = df_sc.copy()\n",
    "df_train,df_test = train_test_split(df_gm5,test_size=0.2)\n",
    "\n",
    "display('train',df_train.shape, df_train.head(3))\n",
    "display('test',df_test.shape, df_test.head(3))\n",
    "\n",
    "kmeans = KMeans(n_clusters=3, random_state=0).fit(df_train) # train on sample rows\n",
    "\n",
    "display(f'inertia: {kmeans.inertia_} iters: {kmeans.n_iter_}')    # training info \n",
    "display(f'labels: {kmeans.labels_}')                       # k-labels\n",
    "display(kmeans.cluster_centers_)                           # k-centers\n",
    "display(f'kmeans.predict x2: {kmeans.predict(df_test)}')  # evaluate 2 arb points\n",
    "display(f'score {kmeans.score(df_test)}') # score\n",
    "display(f'transform: {kmeans.transform(df_test)}')  # what does this do, distance of each pt ?\n",
    "\n",
    "def fl_col(df):\n",
    "    return pd.concat([df.iloc[:,0:3],df.iloc[:,-2:]], axis=1)\n",
    "    \n",
    "df_train['cluster'] = kmeans.labels_\n",
    "df_test['cluster'] = kmeans.predict(df_test)\n",
    "display('train',fl_col(df_train).head(10))\n",
    "display('test',fl_col(df_test).head(3))\n"
   ]
  },
  {
   "cell_type": "markdown",
   "metadata": {},
   "source": [
    "## Dimension Reduction"
   ]
  },
  {
   "cell_type": "code",
   "execution_count": 107,
   "metadata": {
    "scrolled": false
   },
   "outputs": [
    {
     "data": {
      "text/html": [
       "<div>\n",
       "<style scoped>\n",
       "    .dataframe tbody tr th:only-of-type {\n",
       "        vertical-align: middle;\n",
       "    }\n",
       "\n",
       "    .dataframe tbody tr th {\n",
       "        vertical-align: top;\n",
       "    }\n",
       "\n",
       "    .dataframe thead th {\n",
       "        text-align: right;\n",
       "    }\n",
       "</style>\n",
       "<table border=\"1\" class=\"dataframe\">\n",
       "  <thead>\n",
       "    <tr style=\"text-align: right;\">\n",
       "      <th></th>\n",
       "      <th>Deaths</th>\n",
       "      <th>Cases</th>\n",
       "      <th>Population</th>\n",
       "      <th>flights</th>\n",
       "      <th>pollution</th>\n",
       "      <th>unemp%</th>\n",
       "      <th>hospbeds</th>\n",
       "      <th>railways</th>\n",
       "      <th>urbanpop%</th>\n",
       "      <th>slum%</th>\n",
       "      <th>...</th>\n",
       "      <th>pop% &gt;= 65</th>\n",
       "      <th>trade%</th>\n",
       "      <th>cluster</th>\n",
       "      <th>PC1_1d</th>\n",
       "      <th>PC1_2d</th>\n",
       "      <th>PC2_2d</th>\n",
       "      <th>PC1_3d</th>\n",
       "      <th>PC2_3d</th>\n",
       "      <th>PC3_3d</th>\n",
       "      <th>dummy</th>\n",
       "    </tr>\n",
       "    <tr>\n",
       "      <th>Country/Region</th>\n",
       "      <th></th>\n",
       "      <th></th>\n",
       "      <th></th>\n",
       "      <th></th>\n",
       "      <th></th>\n",
       "      <th></th>\n",
       "      <th></th>\n",
       "      <th></th>\n",
       "      <th></th>\n",
       "      <th></th>\n",
       "      <th></th>\n",
       "      <th></th>\n",
       "      <th></th>\n",
       "      <th></th>\n",
       "      <th></th>\n",
       "      <th></th>\n",
       "      <th></th>\n",
       "      <th></th>\n",
       "      <th></th>\n",
       "      <th></th>\n",
       "      <th></th>\n",
       "    </tr>\n",
       "  </thead>\n",
       "  <tbody>\n",
       "    <tr>\n",
       "      <td>Slovenia</td>\n",
       "      <td>-0.207050</td>\n",
       "      <td>-0.194129</td>\n",
       "      <td>-0.259512</td>\n",
       "      <td>-0.228762</td>\n",
       "      <td>-0.570548</td>\n",
       "      <td>-0.437315</td>\n",
       "      <td>0.725447</td>\n",
       "      <td>-0.256767</td>\n",
       "      <td>-0.238098</td>\n",
       "      <td>-0.882278</td>\n",
       "      <td>...</td>\n",
       "      <td>1.649051</td>\n",
       "      <td>2.741391</td>\n",
       "      <td>2</td>\n",
       "      <td>1.197500</td>\n",
       "      <td>1.197500</td>\n",
       "      <td>-2.482055</td>\n",
       "      <td>1.197500</td>\n",
       "      <td>-2.482055</td>\n",
       "      <td>-1.115298</td>\n",
       "      <td>0</td>\n",
       "    </tr>\n",
       "    <tr>\n",
       "      <td>Fiji</td>\n",
       "      <td>-0.222700</td>\n",
       "      <td>-0.215324</td>\n",
       "      <td>-0.267202</td>\n",
       "      <td>-0.222354</td>\n",
       "      <td>-0.836378</td>\n",
       "      <td>-0.455840</td>\n",
       "      <td>-0.230988</td>\n",
       "      <td>-0.335953</td>\n",
       "      <td>-0.164485</td>\n",
       "      <td>-0.882278</td>\n",
       "      <td>...</td>\n",
       "      <td>-0.493747</td>\n",
       "      <td>0.169506</td>\n",
       "      <td>2</td>\n",
       "      <td>-0.215037</td>\n",
       "      <td>-0.215037</td>\n",
       "      <td>-0.909273</td>\n",
       "      <td>-0.215037</td>\n",
       "      <td>-0.909273</td>\n",
       "      <td>-0.435466</td>\n",
       "      <td>0</td>\n",
       "    </tr>\n",
       "    <tr>\n",
       "      <td>Malta</td>\n",
       "      <td>-0.221930</td>\n",
       "      <td>-0.208632</td>\n",
       "      <td>-0.269891</td>\n",
       "      <td>-0.225992</td>\n",
       "      <td>-0.678830</td>\n",
       "      <td>-0.572546</td>\n",
       "      <td>0.767031</td>\n",
       "      <td>-0.335953</td>\n",
       "      <td>1.486848</td>\n",
       "      <td>-0.882278</td>\n",
       "      <td>...</td>\n",
       "      <td>1.761034</td>\n",
       "      <td>0.079882</td>\n",
       "      <td>2</td>\n",
       "      <td>1.583487</td>\n",
       "      <td>1.583487</td>\n",
       "      <td>-2.515716</td>\n",
       "      <td>1.583487</td>\n",
       "      <td>-2.515716</td>\n",
       "      <td>-0.054282</td>\n",
       "      <td>0</td>\n",
       "    </tr>\n",
       "    <tr>\n",
       "      <td>Paraguay</td>\n",
       "      <td>-0.220648</td>\n",
       "      <td>-0.212664</td>\n",
       "      <td>-0.229125</td>\n",
       "      <td>-0.244786</td>\n",
       "      <td>-0.781467</td>\n",
       "      <td>-0.324313</td>\n",
       "      <td>-0.646829</td>\n",
       "      <td>-0.307068</td>\n",
       "      <td>0.064962</td>\n",
       "      <td>-0.260763</td>\n",
       "      <td>...</td>\n",
       "      <td>-0.345446</td>\n",
       "      <td>-0.164293</td>\n",
       "      <td>2</td>\n",
       "      <td>-0.523164</td>\n",
       "      <td>-0.523164</td>\n",
       "      <td>-0.436292</td>\n",
       "      <td>-0.523164</td>\n",
       "      <td>-0.436292</td>\n",
       "      <td>-0.228285</td>\n",
       "      <td>0</td>\n",
       "    </tr>\n",
       "    <tr>\n",
       "      <td>Croatia</td>\n",
       "      <td>-0.213721</td>\n",
       "      <td>-0.185268</td>\n",
       "      <td>-0.245912</td>\n",
       "      <td>-0.218913</td>\n",
       "      <td>-0.474070</td>\n",
       "      <td>0.068414</td>\n",
       "      <td>1.141288</td>\n",
       "      <td>-0.165333</td>\n",
       "      <td>-0.134351</td>\n",
       "      <td>-0.882278</td>\n",
       "      <td>...</td>\n",
       "      <td>1.776166</td>\n",
       "      <td>0.369563</td>\n",
       "      <td>2</td>\n",
       "      <td>1.097202</td>\n",
       "      <td>1.097202</td>\n",
       "      <td>-1.930190</td>\n",
       "      <td>1.097202</td>\n",
       "      <td>-1.930190</td>\n",
       "      <td>-0.663947</td>\n",
       "      <td>0</td>\n",
       "    </tr>\n",
       "  </tbody>\n",
       "</table>\n",
       "<p>5 rows × 26 columns</p>\n",
       "</div>"
      ],
      "text/plain": [
       "                  Deaths     Cases  Population   flights  pollution    unemp%  \\\n",
       "Country/Region                                                                  \n",
       "Slovenia       -0.207050 -0.194129   -0.259512 -0.228762  -0.570548 -0.437315   \n",
       "Fiji           -0.222700 -0.215324   -0.267202 -0.222354  -0.836378 -0.455840   \n",
       "Malta          -0.221930 -0.208632   -0.269891 -0.225992  -0.678830 -0.572546   \n",
       "Paraguay       -0.220648 -0.212664   -0.229125 -0.244786  -0.781467 -0.324313   \n",
       "Croatia        -0.213721 -0.185268   -0.245912 -0.218913  -0.474070  0.068414   \n",
       "\n",
       "                hospbeds  railways  urbanpop%     slum%  ...  pop% >= 65  \\\n",
       "Country/Region                                           ...               \n",
       "Slovenia        0.725447 -0.256767  -0.238098 -0.882278  ...    1.649051   \n",
       "Fiji           -0.230988 -0.335953  -0.164485 -0.882278  ...   -0.493747   \n",
       "Malta           0.767031 -0.335953   1.486848 -0.882278  ...    1.761034   \n",
       "Paraguay       -0.646829 -0.307068   0.064962 -0.260763  ...   -0.345446   \n",
       "Croatia         1.141288 -0.165333  -0.134351 -0.882278  ...    1.776166   \n",
       "\n",
       "                  trade%  cluster    PC1_1d    PC1_2d    PC2_2d    PC1_3d  \\\n",
       "Country/Region                                                              \n",
       "Slovenia        2.741391        2  1.197500  1.197500 -2.482055  1.197500   \n",
       "Fiji            0.169506        2 -0.215037 -0.215037 -0.909273 -0.215037   \n",
       "Malta           0.079882        2  1.583487  1.583487 -2.515716  1.583487   \n",
       "Paraguay       -0.164293        2 -0.523164 -0.523164 -0.436292 -0.523164   \n",
       "Croatia         0.369563        2  1.097202  1.097202 -1.930190  1.097202   \n",
       "\n",
       "                  PC2_3d    PC3_3d  dummy  \n",
       "Country/Region                             \n",
       "Slovenia       -2.482055 -1.115298      0  \n",
       "Fiji           -0.909273 -0.435466      0  \n",
       "Malta          -2.515716 -0.054282      0  \n",
       "Paraguay       -0.436292 -0.228285      0  \n",
       "Croatia        -1.930190 -0.663947      0  \n",
       "\n",
       "[5 rows x 26 columns]"
      ]
     },
     "execution_count": 107,
     "metadata": {},
     "output_type": "execute_result"
    }
   ],
   "source": [
    "# method copied from kaggle: https://www.kaggle.com/minc33/visualizing-high-dimensional-clusters\n",
    "#sklearn imports\n",
    "from sklearn.decomposition import PCA #Principal Component Analysis\n",
    "from sklearn.manifold import TSNE #T-Distributed Stochastic Neighbor Embedding\n",
    "from sklearn.cluster import KMeans #K-Means Clustering\n",
    "from sklearn.preprocessing import StandardScaler #used for 'Feature Scaling'\n",
    "\n",
    "plotX = df_train.copy()\n",
    "\n",
    "pca_1d = PCA(n_components=1)\n",
    "pca_2d = PCA(n_components=2)\n",
    "pca_3d = PCA(n_components=3)\n",
    "\n",
    "PCs_1d = pd.DataFrame(pca_1d.fit_transform(plotX.drop([\"cluster\"], axis=1)), index=plotX.index)\n",
    "PCs_2d = pd.DataFrame(pca_2d.fit_transform(plotX.drop([\"cluster\"], axis=1)), index=plotX.index)\n",
    "PCs_3d = pd.DataFrame(pca_3d.fit_transform(plotX.drop([\"cluster\"], axis=1)), index=plotX.index)\n",
    "\n",
    "PCs_1d.columns = [\"PC1_1d\"]\n",
    "PCs_2d.columns = [\"PC1_2d\", \"PC2_2d\"]\n",
    "PCs_3d.columns = [\"PC1_3d\", \"PC2_3d\", \"PC3_3d\"]\n",
    "\n",
    "plotX = pd.concat([plotX,PCs_1d,PCs_2d,PCs_3d], axis=1, join='inner')\n",
    "plotX[\"dummy\"] = 0\n",
    "cluster0 = plotX[plotX[\"cluster\"] == 0]\n",
    "cluster1 = plotX[plotX[\"cluster\"] == 1]\n",
    "cluster2 = plotX[plotX[\"cluster\"] == 2]\n",
    "\n",
    "\n",
    "cluster2.head()\n"
   ]
  },
  {
   "cell_type": "code",
   "execution_count": 109,
   "metadata": {},
   "outputs": [
    {
     "data": {
      "text/html": [
       "        <script type=\"text/javascript\">\n",
       "        window.PlotlyConfig = {MathJaxConfig: 'local'};\n",
       "        if (window.MathJax) {MathJax.Hub.Config({SVG: {font: \"STIX-Web\"}});}\n",
       "        if (typeof require !== 'undefined') {\n",
       "        require.undef(\"plotly\");\n",
       "        requirejs.config({\n",
       "            paths: {\n",
       "                'plotly': ['https://cdn.plot.ly/plotly-latest.min']\n",
       "            }\n",
       "        });\n",
       "        require(['plotly'], function(Plotly) {\n",
       "            window._Plotly = Plotly;\n",
       "        });\n",
       "        }\n",
       "        </script>\n",
       "        "
      ]
     },
     "metadata": {},
     "output_type": "display_data"
    },
    {
     "data": {
      "application/vnd.plotly.v1+json": {
       "config": {
        "linkText": "Export to plot.ly",
        "plotlyServerURL": "https://plot.ly",
        "showLink": false
       },
       "data": [
        {
         "marker": {
          "color": "rgba(255, 128, 255, 0.8)"
         },
         "mode": "markers",
         "name": "Cluster 0",
         "text": [
          "Sierra Leone",
          "Kenya",
          "Liechtenstein",
          "Ethiopia",
          "Sudan",
          "Benin",
          "West Bank and Gaza",
          "India",
          "Somalia",
          "Honduras",
          "Equatorial Guinea",
          "Bolivia",
          "Guinea-Bissau",
          "Zambia",
          "Bangladesh",
          "Indonesia",
          "Jamaica",
          "South Africa",
          "Angola",
          "Cote d'Ivoire",
          "Timor-Leste",
          "Kosovo",
          "Mali",
          "Gabon",
          "Malawi",
          "Mauritania",
          "Mozambique",
          "Haiti",
          "Guyana",
          "Philippines",
          "Ghana",
          "Madagascar",
          "Central African Republic",
          "Namibia",
          "Guatemala",
          "Cambodia",
          "Burundi",
          "Tanzania",
          "Zimbabwe",
          "Sao Tome and Principe",
          "Burkina Faso",
          "Senegal",
          "Papua New Guinea",
          "Guinea",
          "Rwanda",
          "Chad",
          "Niger",
          "Bhutan",
          "Cabo Verde",
          "Cameroon",
          "Pakistan"
         ],
         "type": "scatter",
         "x": [
          -2.177284523870218,
          -2.2838048285140324,
          -1.7135136137592706,
          -2.4773462467144483,
          -2.067025758262745,
          -2.216408068974392,
          -1.2644037751173307,
          1.7374713538830227,
          -3.4199849927569574,
          -1.016676100493426,
          -2.206298428722183,
          -0.9025650960110025,
          -2.413558441598424,
          -2.0196099536237133,
          -1.5622108234010215,
          -0.11740355704182194,
          -0.7828611919769302,
          -0.5050474824219434,
          -2.2386192795025095,
          -1.9660453596506093,
          -0.8181767257216281,
          -1.7682942547883351,
          -2.419332157894093,
          -0.8492722934095444,
          -2.1725503337418925,
          -2.2921789567989523,
          -2.6598012889213503,
          -1.8431086250330506,
          -1.010657497079745,
          -1.1070452383479503,
          -1.8350189309048546,
          -2.5733332642333617,
          -3.0206525564452593,
          -1.3825729562392588,
          -1.2691369391330707,
          -1.4467562964586604,
          -2.341567892978231,
          -2.086501184159709,
          -1.6516331438408474,
          -1.548735125342281,
          -2.412145726181726,
          -1.910114074389845,
          -1.1836015039372842,
          -2.2535811322213624,
          -2.098671243152892,
          -3.264202430003111,
          -3.1677679135098136,
          -1.3304956114780935,
          -1.1676762786099248,
          -2.0129335801775436,
          -1.6177309049426494
         ],
         "y": [
          0,
          0,
          0,
          0,
          0,
          0,
          0,
          0,
          0,
          0,
          0,
          0,
          0,
          0,
          0,
          0,
          0,
          0,
          0,
          0,
          0,
          0,
          0,
          0,
          0,
          0,
          0,
          0,
          0,
          0,
          0,
          0,
          0,
          0,
          0,
          0,
          0,
          0,
          0,
          0,
          0,
          0,
          0,
          0,
          0,
          0,
          0,
          0,
          0,
          0,
          0
         ]
        },
        {
         "marker": {
          "color": "rgba(255, 128, 2, 0.8)"
         },
         "mode": "markers",
         "name": "Cluster 1",
         "text": [
          "United States"
         ],
         "type": "scatter",
         "x": [
          16.11691309315417
         ],
         "y": [
          0
         ]
        },
        {
         "marker": {
          "color": "rgba(0, 255, 200, 0.8)"
         },
         "mode": "markers",
         "name": "Cluster 2",
         "text": [
          "Slovenia",
          "Fiji",
          "Malta",
          "Paraguay",
          "Croatia",
          "Mongolia",
          "Denmark",
          "Ukraine",
          "Germany",
          "Algeria",
          "Azerbaijan",
          "Cyprus",
          "Bahrain",
          "Belgium",
          "Singapore",
          "Japan",
          "Andorra",
          "Morocco",
          "Spain",
          "Chile",
          "Brazil",
          "Kazakhstan",
          "Monaco",
          "Dominican Republic",
          "Mexico",
          "Mauritius",
          "Nicaragua",
          "Tunisia",
          "Uzbekistan",
          "Lebanon",
          "Finland",
          "Georgia",
          "Saudi Arabia",
          "Italy",
          "United Kingdom",
          "United Arab Emirates",
          "Albania",
          "Peru",
          "Suriname",
          "Moldova",
          "Lithuania",
          "Israel",
          "Netherlands",
          "Maldives",
          "Greece",
          "Serbia",
          "Turkey",
          "Antigua and Barbuda",
          "Estonia",
          "Cuba",
          "Ecuador",
          "Belarus",
          "Latvia",
          "Austria",
          "France",
          "Grenada",
          "Portugal",
          "Luxembourg",
          "Sweden",
          "Iceland",
          "San Marino",
          "El Salvador",
          "Belize",
          "Panama",
          "Costa Rica",
          "Dominica",
          "Hungary",
          "Qatar",
          "Oman",
          "Trinidad and Tobago",
          "Armenia",
          "China",
          "Uruguay",
          "Thailand",
          "Norway"
         ],
         "type": "scatter",
         "x": [
          1.197499606754023,
          -0.21503680797660787,
          1.58348693407272,
          -0.5231642695095009,
          1.0972019935459345,
          -0.5213306301856749,
          1.7546038181652213,
          0.8552888378893608,
          4.475587933841333,
          -0.1997672632747716,
          -0.13689450269506667,
          0.8084940388682352,
          0.18166943706815786,
          2.902606504903773,
          1.9982427005372492,
          3.6543036365922417,
          0.168934915689243,
          -0.36904962735198993,
          4.678319066061324,
          0.5193484682787993,
          1.2840055113465605,
          1.016125381892435,
          1.8853351533061342,
          -0.27332578878251246,
          0.6155346206041717,
          0.15650634916185516,
          -0.7642743296653749,
          0.05785777384753681,
          -0.0985964613863787,
          -0.5970574533073553,
          1.9856250694331865,
          0.06058077731511054,
          0.07703102608917026,
          4.807550002894758,
          3.9762490256125167,
          0.8355748894507649,
          0.3889736128740537,
          -0.39604391860264027,
          -0.3103290097486013,
          0.18951124256449453,
          1.5461550444807122,
          0.9788101017162406,
          2.553201325163996,
          -0.14212053832937088,
          1.281138591997597,
          0.5281047909405151,
          0.5599694094361125,
          -0.21248111863888042,
          1.3553628173879984,
          0.670898476300222,
          -0.5965175178880048,
          1.5165493047219887,
          1.3666661575445067,
          1.9804191707918808,
          5.177791254485726,
          -0.21903614122320259,
          1.399899149173564,
          2.3388728884421828,
          2.083675622212648,
          1.5269100813580916,
          0.78487237402544,
          -0.43945726407539487,
          -0.661042753923393,
          -0.126840471638914,
          0.05891123528114499,
          -0.08978766304909858,
          1.7906613630310526,
          0.8459292683538703,
          -0.503037607189619,
          0.06268810303567854,
          -0.17507252352494782,
          5.277738909926889,
          0.6579048903844469,
          0.13701802444124256,
          1.8895961141252933
         ],
         "y": [
          0,
          0,
          0,
          0,
          0,
          0,
          0,
          0,
          0,
          0,
          0,
          0,
          0,
          0,
          0,
          0,
          0,
          0,
          0,
          0,
          0,
          0,
          0,
          0,
          0,
          0,
          0,
          0,
          0,
          0,
          0,
          0,
          0,
          0,
          0,
          0,
          0,
          0,
          0,
          0,
          0,
          0,
          0,
          0,
          0,
          0,
          0,
          0,
          0,
          0,
          0,
          0,
          0,
          0,
          0,
          0,
          0,
          0,
          0,
          0,
          0,
          0,
          0,
          0,
          0,
          0,
          0,
          0,
          0,
          0,
          0,
          0,
          0,
          0,
          0
         ]
        }
       ],
       "layout": {
        "template": {
         "data": {
          "bar": [
           {
            "error_x": {
             "color": "#2a3f5f"
            },
            "error_y": {
             "color": "#2a3f5f"
            },
            "marker": {
             "line": {
              "color": "#E5ECF6",
              "width": 0.5
             }
            },
            "type": "bar"
           }
          ],
          "barpolar": [
           {
            "marker": {
             "line": {
              "color": "#E5ECF6",
              "width": 0.5
             }
            },
            "type": "barpolar"
           }
          ],
          "carpet": [
           {
            "aaxis": {
             "endlinecolor": "#2a3f5f",
             "gridcolor": "white",
             "linecolor": "white",
             "minorgridcolor": "white",
             "startlinecolor": "#2a3f5f"
            },
            "baxis": {
             "endlinecolor": "#2a3f5f",
             "gridcolor": "white",
             "linecolor": "white",
             "minorgridcolor": "white",
             "startlinecolor": "#2a3f5f"
            },
            "type": "carpet"
           }
          ],
          "choropleth": [
           {
            "colorbar": {
             "outlinewidth": 0,
             "ticks": ""
            },
            "type": "choropleth"
           }
          ],
          "contour": [
           {
            "colorbar": {
             "outlinewidth": 0,
             "ticks": ""
            },
            "colorscale": [
             [
              0,
              "#0d0887"
             ],
             [
              0.1111111111111111,
              "#46039f"
             ],
             [
              0.2222222222222222,
              "#7201a8"
             ],
             [
              0.3333333333333333,
              "#9c179e"
             ],
             [
              0.4444444444444444,
              "#bd3786"
             ],
             [
              0.5555555555555556,
              "#d8576b"
             ],
             [
              0.6666666666666666,
              "#ed7953"
             ],
             [
              0.7777777777777778,
              "#fb9f3a"
             ],
             [
              0.8888888888888888,
              "#fdca26"
             ],
             [
              1,
              "#f0f921"
             ]
            ],
            "type": "contour"
           }
          ],
          "contourcarpet": [
           {
            "colorbar": {
             "outlinewidth": 0,
             "ticks": ""
            },
            "type": "contourcarpet"
           }
          ],
          "heatmap": [
           {
            "colorbar": {
             "outlinewidth": 0,
             "ticks": ""
            },
            "colorscale": [
             [
              0,
              "#0d0887"
             ],
             [
              0.1111111111111111,
              "#46039f"
             ],
             [
              0.2222222222222222,
              "#7201a8"
             ],
             [
              0.3333333333333333,
              "#9c179e"
             ],
             [
              0.4444444444444444,
              "#bd3786"
             ],
             [
              0.5555555555555556,
              "#d8576b"
             ],
             [
              0.6666666666666666,
              "#ed7953"
             ],
             [
              0.7777777777777778,
              "#fb9f3a"
             ],
             [
              0.8888888888888888,
              "#fdca26"
             ],
             [
              1,
              "#f0f921"
             ]
            ],
            "type": "heatmap"
           }
          ],
          "heatmapgl": [
           {
            "colorbar": {
             "outlinewidth": 0,
             "ticks": ""
            },
            "colorscale": [
             [
              0,
              "#0d0887"
             ],
             [
              0.1111111111111111,
              "#46039f"
             ],
             [
              0.2222222222222222,
              "#7201a8"
             ],
             [
              0.3333333333333333,
              "#9c179e"
             ],
             [
              0.4444444444444444,
              "#bd3786"
             ],
             [
              0.5555555555555556,
              "#d8576b"
             ],
             [
              0.6666666666666666,
              "#ed7953"
             ],
             [
              0.7777777777777778,
              "#fb9f3a"
             ],
             [
              0.8888888888888888,
              "#fdca26"
             ],
             [
              1,
              "#f0f921"
             ]
            ],
            "type": "heatmapgl"
           }
          ],
          "histogram": [
           {
            "marker": {
             "colorbar": {
              "outlinewidth": 0,
              "ticks": ""
             }
            },
            "type": "histogram"
           }
          ],
          "histogram2d": [
           {
            "colorbar": {
             "outlinewidth": 0,
             "ticks": ""
            },
            "colorscale": [
             [
              0,
              "#0d0887"
             ],
             [
              0.1111111111111111,
              "#46039f"
             ],
             [
              0.2222222222222222,
              "#7201a8"
             ],
             [
              0.3333333333333333,
              "#9c179e"
             ],
             [
              0.4444444444444444,
              "#bd3786"
             ],
             [
              0.5555555555555556,
              "#d8576b"
             ],
             [
              0.6666666666666666,
              "#ed7953"
             ],
             [
              0.7777777777777778,
              "#fb9f3a"
             ],
             [
              0.8888888888888888,
              "#fdca26"
             ],
             [
              1,
              "#f0f921"
             ]
            ],
            "type": "histogram2d"
           }
          ],
          "histogram2dcontour": [
           {
            "colorbar": {
             "outlinewidth": 0,
             "ticks": ""
            },
            "colorscale": [
             [
              0,
              "#0d0887"
             ],
             [
              0.1111111111111111,
              "#46039f"
             ],
             [
              0.2222222222222222,
              "#7201a8"
             ],
             [
              0.3333333333333333,
              "#9c179e"
             ],
             [
              0.4444444444444444,
              "#bd3786"
             ],
             [
              0.5555555555555556,
              "#d8576b"
             ],
             [
              0.6666666666666666,
              "#ed7953"
             ],
             [
              0.7777777777777778,
              "#fb9f3a"
             ],
             [
              0.8888888888888888,
              "#fdca26"
             ],
             [
              1,
              "#f0f921"
             ]
            ],
            "type": "histogram2dcontour"
           }
          ],
          "mesh3d": [
           {
            "colorbar": {
             "outlinewidth": 0,
             "ticks": ""
            },
            "type": "mesh3d"
           }
          ],
          "parcoords": [
           {
            "line": {
             "colorbar": {
              "outlinewidth": 0,
              "ticks": ""
             }
            },
            "type": "parcoords"
           }
          ],
          "pie": [
           {
            "automargin": true,
            "type": "pie"
           }
          ],
          "scatter": [
           {
            "marker": {
             "colorbar": {
              "outlinewidth": 0,
              "ticks": ""
             }
            },
            "type": "scatter"
           }
          ],
          "scatter3d": [
           {
            "line": {
             "colorbar": {
              "outlinewidth": 0,
              "ticks": ""
             }
            },
            "marker": {
             "colorbar": {
              "outlinewidth": 0,
              "ticks": ""
             }
            },
            "type": "scatter3d"
           }
          ],
          "scattercarpet": [
           {
            "marker": {
             "colorbar": {
              "outlinewidth": 0,
              "ticks": ""
             }
            },
            "type": "scattercarpet"
           }
          ],
          "scattergeo": [
           {
            "marker": {
             "colorbar": {
              "outlinewidth": 0,
              "ticks": ""
             }
            },
            "type": "scattergeo"
           }
          ],
          "scattergl": [
           {
            "marker": {
             "colorbar": {
              "outlinewidth": 0,
              "ticks": ""
             }
            },
            "type": "scattergl"
           }
          ],
          "scattermapbox": [
           {
            "marker": {
             "colorbar": {
              "outlinewidth": 0,
              "ticks": ""
             }
            },
            "type": "scattermapbox"
           }
          ],
          "scatterpolar": [
           {
            "marker": {
             "colorbar": {
              "outlinewidth": 0,
              "ticks": ""
             }
            },
            "type": "scatterpolar"
           }
          ],
          "scatterpolargl": [
           {
            "marker": {
             "colorbar": {
              "outlinewidth": 0,
              "ticks": ""
             }
            },
            "type": "scatterpolargl"
           }
          ],
          "scatterternary": [
           {
            "marker": {
             "colorbar": {
              "outlinewidth": 0,
              "ticks": ""
             }
            },
            "type": "scatterternary"
           }
          ],
          "surface": [
           {
            "colorbar": {
             "outlinewidth": 0,
             "ticks": ""
            },
            "colorscale": [
             [
              0,
              "#0d0887"
             ],
             [
              0.1111111111111111,
              "#46039f"
             ],
             [
              0.2222222222222222,
              "#7201a8"
             ],
             [
              0.3333333333333333,
              "#9c179e"
             ],
             [
              0.4444444444444444,
              "#bd3786"
             ],
             [
              0.5555555555555556,
              "#d8576b"
             ],
             [
              0.6666666666666666,
              "#ed7953"
             ],
             [
              0.7777777777777778,
              "#fb9f3a"
             ],
             [
              0.8888888888888888,
              "#fdca26"
             ],
             [
              1,
              "#f0f921"
             ]
            ],
            "type": "surface"
           }
          ],
          "table": [
           {
            "cells": {
             "fill": {
              "color": "#EBF0F8"
             },
             "line": {
              "color": "white"
             }
            },
            "header": {
             "fill": {
              "color": "#C8D4E3"
             },
             "line": {
              "color": "white"
             }
            },
            "type": "table"
           }
          ]
         },
         "layout": {
          "annotationdefaults": {
           "arrowcolor": "#2a3f5f",
           "arrowhead": 0,
           "arrowwidth": 1
          },
          "coloraxis": {
           "colorbar": {
            "outlinewidth": 0,
            "ticks": ""
           }
          },
          "colorscale": {
           "diverging": [
            [
             0,
             "#8e0152"
            ],
            [
             0.1,
             "#c51b7d"
            ],
            [
             0.2,
             "#de77ae"
            ],
            [
             0.3,
             "#f1b6da"
            ],
            [
             0.4,
             "#fde0ef"
            ],
            [
             0.5,
             "#f7f7f7"
            ],
            [
             0.6,
             "#e6f5d0"
            ],
            [
             0.7,
             "#b8e186"
            ],
            [
             0.8,
             "#7fbc41"
            ],
            [
             0.9,
             "#4d9221"
            ],
            [
             1,
             "#276419"
            ]
           ],
           "sequential": [
            [
             0,
             "#0d0887"
            ],
            [
             0.1111111111111111,
             "#46039f"
            ],
            [
             0.2222222222222222,
             "#7201a8"
            ],
            [
             0.3333333333333333,
             "#9c179e"
            ],
            [
             0.4444444444444444,
             "#bd3786"
            ],
            [
             0.5555555555555556,
             "#d8576b"
            ],
            [
             0.6666666666666666,
             "#ed7953"
            ],
            [
             0.7777777777777778,
             "#fb9f3a"
            ],
            [
             0.8888888888888888,
             "#fdca26"
            ],
            [
             1,
             "#f0f921"
            ]
           ],
           "sequentialminus": [
            [
             0,
             "#0d0887"
            ],
            [
             0.1111111111111111,
             "#46039f"
            ],
            [
             0.2222222222222222,
             "#7201a8"
            ],
            [
             0.3333333333333333,
             "#9c179e"
            ],
            [
             0.4444444444444444,
             "#bd3786"
            ],
            [
             0.5555555555555556,
             "#d8576b"
            ],
            [
             0.6666666666666666,
             "#ed7953"
            ],
            [
             0.7777777777777778,
             "#fb9f3a"
            ],
            [
             0.8888888888888888,
             "#fdca26"
            ],
            [
             1,
             "#f0f921"
            ]
           ]
          },
          "colorway": [
           "#636efa",
           "#EF553B",
           "#00cc96",
           "#ab63fa",
           "#FFA15A",
           "#19d3f3",
           "#FF6692",
           "#B6E880",
           "#FF97FF",
           "#FECB52"
          ],
          "font": {
           "color": "#2a3f5f"
          },
          "geo": {
           "bgcolor": "white",
           "lakecolor": "white",
           "landcolor": "#E5ECF6",
           "showlakes": true,
           "showland": true,
           "subunitcolor": "white"
          },
          "hoverlabel": {
           "align": "left"
          },
          "hovermode": "closest",
          "mapbox": {
           "style": "light"
          },
          "paper_bgcolor": "white",
          "plot_bgcolor": "#E5ECF6",
          "polar": {
           "angularaxis": {
            "gridcolor": "white",
            "linecolor": "white",
            "ticks": ""
           },
           "bgcolor": "#E5ECF6",
           "radialaxis": {
            "gridcolor": "white",
            "linecolor": "white",
            "ticks": ""
           }
          },
          "scene": {
           "xaxis": {
            "backgroundcolor": "#E5ECF6",
            "gridcolor": "white",
            "gridwidth": 2,
            "linecolor": "white",
            "showbackground": true,
            "ticks": "",
            "zerolinecolor": "white"
           },
           "yaxis": {
            "backgroundcolor": "#E5ECF6",
            "gridcolor": "white",
            "gridwidth": 2,
            "linecolor": "white",
            "showbackground": true,
            "ticks": "",
            "zerolinecolor": "white"
           },
           "zaxis": {
            "backgroundcolor": "#E5ECF6",
            "gridcolor": "white",
            "gridwidth": 2,
            "linecolor": "white",
            "showbackground": true,
            "ticks": "",
            "zerolinecolor": "white"
           }
          },
          "shapedefaults": {
           "line": {
            "color": "#2a3f5f"
           }
          },
          "ternary": {
           "aaxis": {
            "gridcolor": "white",
            "linecolor": "white",
            "ticks": ""
           },
           "baxis": {
            "gridcolor": "white",
            "linecolor": "white",
            "ticks": ""
           },
           "bgcolor": "#E5ECF6",
           "caxis": {
            "gridcolor": "white",
            "linecolor": "white",
            "ticks": ""
           }
          },
          "title": {
           "x": 0.05
          },
          "xaxis": {
           "automargin": true,
           "gridcolor": "white",
           "linecolor": "white",
           "ticks": "",
           "title": {
            "standoff": 15
           },
           "zerolinecolor": "white",
           "zerolinewidth": 2
          },
          "yaxis": {
           "automargin": true,
           "gridcolor": "white",
           "linecolor": "white",
           "ticks": "",
           "title": {
            "standoff": 15
           },
           "zerolinecolor": "white",
           "zerolinewidth": 2
          }
         }
        },
        "title": {
         "text": "Visualizing Clusters in One Dimension Using PCA"
        },
        "xaxis": {
         "ticklen": 5,
         "title": {
          "text": "PC1"
         },
         "zeroline": false
        },
        "yaxis": {
         "ticklen": 5,
         "title": {
          "text": ""
         },
         "zeroline": false
        }
       }
      },
      "text/html": [
       "<div>\n",
       "        \n",
       "        \n",
       "            <div id=\"8458e789-df3b-4dce-9cb0-c30b6c6c9379\" class=\"plotly-graph-div\" style=\"height:525px; width:100%;\"></div>\n",
       "            <script type=\"text/javascript\">\n",
       "                require([\"plotly\"], function(Plotly) {\n",
       "                    window.PLOTLYENV=window.PLOTLYENV || {};\n",
       "                    \n",
       "                if (document.getElementById(\"8458e789-df3b-4dce-9cb0-c30b6c6c9379\")) {\n",
       "                    Plotly.newPlot(\n",
       "                        '8458e789-df3b-4dce-9cb0-c30b6c6c9379',\n",
       "                        [{\"marker\": {\"color\": \"rgba(255, 128, 255, 0.8)\"}, \"mode\": \"markers\", \"name\": \"Cluster 0\", \"text\": [\"Sierra Leone\", \"Kenya\", \"Liechtenstein\", \"Ethiopia\", \"Sudan\", \"Benin\", \"West Bank and Gaza\", \"India\", \"Somalia\", \"Honduras\", \"Equatorial Guinea\", \"Bolivia\", \"Guinea-Bissau\", \"Zambia\", \"Bangladesh\", \"Indonesia\", \"Jamaica\", \"South Africa\", \"Angola\", \"Cote d'Ivoire\", \"Timor-Leste\", \"Kosovo\", \"Mali\", \"Gabon\", \"Malawi\", \"Mauritania\", \"Mozambique\", \"Haiti\", \"Guyana\", \"Philippines\", \"Ghana\", \"Madagascar\", \"Central African Republic\", \"Namibia\", \"Guatemala\", \"Cambodia\", \"Burundi\", \"Tanzania\", \"Zimbabwe\", \"Sao Tome and Principe\", \"Burkina Faso\", \"Senegal\", \"Papua New Guinea\", \"Guinea\", \"Rwanda\", \"Chad\", \"Niger\", \"Bhutan\", \"Cabo Verde\", \"Cameroon\", \"Pakistan\"], \"type\": \"scatter\", \"x\": [-2.177284523870218, -2.2838048285140324, -1.7135136137592706, -2.4773462467144483, -2.067025758262745, -2.216408068974392, -1.2644037751173307, 1.7374713538830227, -3.4199849927569574, -1.016676100493426, -2.206298428722183, -0.9025650960110025, -2.413558441598424, -2.0196099536237133, -1.5622108234010215, -0.11740355704182194, -0.7828611919769302, -0.5050474824219434, -2.2386192795025095, -1.9660453596506093, -0.8181767257216281, -1.7682942547883351, -2.419332157894093, -0.8492722934095444, -2.1725503337418925, -2.2921789567989523, -2.6598012889213503, -1.8431086250330506, -1.010657497079745, -1.1070452383479503, -1.8350189309048546, -2.5733332642333617, -3.0206525564452593, -1.3825729562392588, -1.2691369391330707, -1.4467562964586604, -2.341567892978231, -2.086501184159709, -1.6516331438408474, -1.548735125342281, -2.412145726181726, -1.910114074389845, -1.1836015039372842, -2.2535811322213624, -2.098671243152892, -3.264202430003111, -3.1677679135098136, -1.3304956114780935, -1.1676762786099248, -2.0129335801775436, -1.6177309049426494], \"y\": [0, 0, 0, 0, 0, 0, 0, 0, 0, 0, 0, 0, 0, 0, 0, 0, 0, 0, 0, 0, 0, 0, 0, 0, 0, 0, 0, 0, 0, 0, 0, 0, 0, 0, 0, 0, 0, 0, 0, 0, 0, 0, 0, 0, 0, 0, 0, 0, 0, 0, 0]}, {\"marker\": {\"color\": \"rgba(255, 128, 2, 0.8)\"}, \"mode\": \"markers\", \"name\": \"Cluster 1\", \"text\": [\"United States\"], \"type\": \"scatter\", \"x\": [16.11691309315417], \"y\": [0]}, {\"marker\": {\"color\": \"rgba(0, 255, 200, 0.8)\"}, \"mode\": \"markers\", \"name\": \"Cluster 2\", \"text\": [\"Slovenia\", \"Fiji\", \"Malta\", \"Paraguay\", \"Croatia\", \"Mongolia\", \"Denmark\", \"Ukraine\", \"Germany\", \"Algeria\", \"Azerbaijan\", \"Cyprus\", \"Bahrain\", \"Belgium\", \"Singapore\", \"Japan\", \"Andorra\", \"Morocco\", \"Spain\", \"Chile\", \"Brazil\", \"Kazakhstan\", \"Monaco\", \"Dominican Republic\", \"Mexico\", \"Mauritius\", \"Nicaragua\", \"Tunisia\", \"Uzbekistan\", \"Lebanon\", \"Finland\", \"Georgia\", \"Saudi Arabia\", \"Italy\", \"United Kingdom\", \"United Arab Emirates\", \"Albania\", \"Peru\", \"Suriname\", \"Moldova\", \"Lithuania\", \"Israel\", \"Netherlands\", \"Maldives\", \"Greece\", \"Serbia\", \"Turkey\", \"Antigua and Barbuda\", \"Estonia\", \"Cuba\", \"Ecuador\", \"Belarus\", \"Latvia\", \"Austria\", \"France\", \"Grenada\", \"Portugal\", \"Luxembourg\", \"Sweden\", \"Iceland\", \"San Marino\", \"El Salvador\", \"Belize\", \"Panama\", \"Costa Rica\", \"Dominica\", \"Hungary\", \"Qatar\", \"Oman\", \"Trinidad and Tobago\", \"Armenia\", \"China\", \"Uruguay\", \"Thailand\", \"Norway\"], \"type\": \"scatter\", \"x\": [1.197499606754023, -0.21503680797660787, 1.58348693407272, -0.5231642695095009, 1.0972019935459345, -0.5213306301856749, 1.7546038181652213, 0.8552888378893608, 4.475587933841333, -0.1997672632747716, -0.13689450269506667, 0.8084940388682352, 0.18166943706815786, 2.902606504903773, 1.9982427005372492, 3.6543036365922417, 0.168934915689243, -0.36904962735198993, 4.678319066061324, 0.5193484682787993, 1.2840055113465605, 1.016125381892435, 1.8853351533061342, -0.27332578878251246, 0.6155346206041717, 0.15650634916185516, -0.7642743296653749, 0.05785777384753681, -0.0985964613863787, -0.5970574533073553, 1.9856250694331865, 0.06058077731511054, 0.07703102608917026, 4.807550002894758, 3.9762490256125167, 0.8355748894507649, 0.3889736128740537, -0.39604391860264027, -0.3103290097486013, 0.18951124256449453, 1.5461550444807122, 0.9788101017162406, 2.553201325163996, -0.14212053832937088, 1.281138591997597, 0.5281047909405151, 0.5599694094361125, -0.21248111863888042, 1.3553628173879984, 0.670898476300222, -0.5965175178880048, 1.5165493047219887, 1.3666661575445067, 1.9804191707918808, 5.177791254485726, -0.21903614122320259, 1.399899149173564, 2.3388728884421828, 2.083675622212648, 1.5269100813580916, 0.78487237402544, -0.43945726407539487, -0.661042753923393, -0.126840471638914, 0.05891123528114499, -0.08978766304909858, 1.7906613630310526, 0.8459292683538703, -0.503037607189619, 0.06268810303567854, -0.17507252352494782, 5.277738909926889, 0.6579048903844469, 0.13701802444124256, 1.8895961141252933], \"y\": [0, 0, 0, 0, 0, 0, 0, 0, 0, 0, 0, 0, 0, 0, 0, 0, 0, 0, 0, 0, 0, 0, 0, 0, 0, 0, 0, 0, 0, 0, 0, 0, 0, 0, 0, 0, 0, 0, 0, 0, 0, 0, 0, 0, 0, 0, 0, 0, 0, 0, 0, 0, 0, 0, 0, 0, 0, 0, 0, 0, 0, 0, 0, 0, 0, 0, 0, 0, 0, 0, 0, 0, 0, 0, 0]}],\n",
       "                        {\"template\": {\"data\": {\"bar\": [{\"error_x\": {\"color\": \"#2a3f5f\"}, \"error_y\": {\"color\": \"#2a3f5f\"}, \"marker\": {\"line\": {\"color\": \"#E5ECF6\", \"width\": 0.5}}, \"type\": \"bar\"}], \"barpolar\": [{\"marker\": {\"line\": {\"color\": \"#E5ECF6\", \"width\": 0.5}}, \"type\": \"barpolar\"}], \"carpet\": [{\"aaxis\": {\"endlinecolor\": \"#2a3f5f\", \"gridcolor\": \"white\", \"linecolor\": \"white\", \"minorgridcolor\": \"white\", \"startlinecolor\": \"#2a3f5f\"}, \"baxis\": {\"endlinecolor\": \"#2a3f5f\", \"gridcolor\": \"white\", \"linecolor\": \"white\", \"minorgridcolor\": \"white\", \"startlinecolor\": \"#2a3f5f\"}, \"type\": \"carpet\"}], \"choropleth\": [{\"colorbar\": {\"outlinewidth\": 0, \"ticks\": \"\"}, \"type\": \"choropleth\"}], \"contour\": [{\"colorbar\": {\"outlinewidth\": 0, \"ticks\": \"\"}, \"colorscale\": [[0.0, \"#0d0887\"], [0.1111111111111111, \"#46039f\"], [0.2222222222222222, \"#7201a8\"], [0.3333333333333333, \"#9c179e\"], [0.4444444444444444, \"#bd3786\"], [0.5555555555555556, \"#d8576b\"], [0.6666666666666666, \"#ed7953\"], [0.7777777777777778, \"#fb9f3a\"], [0.8888888888888888, \"#fdca26\"], [1.0, \"#f0f921\"]], \"type\": \"contour\"}], \"contourcarpet\": [{\"colorbar\": {\"outlinewidth\": 0, \"ticks\": \"\"}, \"type\": \"contourcarpet\"}], \"heatmap\": [{\"colorbar\": {\"outlinewidth\": 0, \"ticks\": \"\"}, \"colorscale\": [[0.0, \"#0d0887\"], [0.1111111111111111, \"#46039f\"], [0.2222222222222222, \"#7201a8\"], [0.3333333333333333, \"#9c179e\"], [0.4444444444444444, \"#bd3786\"], [0.5555555555555556, \"#d8576b\"], [0.6666666666666666, \"#ed7953\"], [0.7777777777777778, \"#fb9f3a\"], [0.8888888888888888, \"#fdca26\"], [1.0, \"#f0f921\"]], \"type\": \"heatmap\"}], \"heatmapgl\": [{\"colorbar\": {\"outlinewidth\": 0, \"ticks\": \"\"}, \"colorscale\": [[0.0, \"#0d0887\"], [0.1111111111111111, \"#46039f\"], [0.2222222222222222, \"#7201a8\"], [0.3333333333333333, \"#9c179e\"], [0.4444444444444444, \"#bd3786\"], [0.5555555555555556, \"#d8576b\"], [0.6666666666666666, \"#ed7953\"], [0.7777777777777778, \"#fb9f3a\"], [0.8888888888888888, \"#fdca26\"], [1.0, \"#f0f921\"]], \"type\": \"heatmapgl\"}], \"histogram\": [{\"marker\": {\"colorbar\": {\"outlinewidth\": 0, \"ticks\": \"\"}}, \"type\": \"histogram\"}], \"histogram2d\": [{\"colorbar\": {\"outlinewidth\": 0, \"ticks\": \"\"}, \"colorscale\": [[0.0, \"#0d0887\"], [0.1111111111111111, \"#46039f\"], [0.2222222222222222, \"#7201a8\"], [0.3333333333333333, \"#9c179e\"], [0.4444444444444444, \"#bd3786\"], [0.5555555555555556, \"#d8576b\"], [0.6666666666666666, \"#ed7953\"], [0.7777777777777778, \"#fb9f3a\"], [0.8888888888888888, \"#fdca26\"], [1.0, \"#f0f921\"]], \"type\": \"histogram2d\"}], \"histogram2dcontour\": [{\"colorbar\": {\"outlinewidth\": 0, \"ticks\": \"\"}, \"colorscale\": [[0.0, \"#0d0887\"], [0.1111111111111111, \"#46039f\"], [0.2222222222222222, \"#7201a8\"], [0.3333333333333333, \"#9c179e\"], [0.4444444444444444, \"#bd3786\"], [0.5555555555555556, \"#d8576b\"], [0.6666666666666666, \"#ed7953\"], [0.7777777777777778, \"#fb9f3a\"], [0.8888888888888888, \"#fdca26\"], [1.0, \"#f0f921\"]], \"type\": \"histogram2dcontour\"}], \"mesh3d\": [{\"colorbar\": {\"outlinewidth\": 0, \"ticks\": \"\"}, \"type\": \"mesh3d\"}], \"parcoords\": [{\"line\": {\"colorbar\": {\"outlinewidth\": 0, \"ticks\": \"\"}}, \"type\": \"parcoords\"}], \"pie\": [{\"automargin\": true, \"type\": \"pie\"}], \"scatter\": [{\"marker\": {\"colorbar\": {\"outlinewidth\": 0, \"ticks\": \"\"}}, \"type\": \"scatter\"}], \"scatter3d\": [{\"line\": {\"colorbar\": {\"outlinewidth\": 0, \"ticks\": \"\"}}, \"marker\": {\"colorbar\": {\"outlinewidth\": 0, \"ticks\": \"\"}}, \"type\": \"scatter3d\"}], \"scattercarpet\": [{\"marker\": {\"colorbar\": {\"outlinewidth\": 0, \"ticks\": \"\"}}, \"type\": \"scattercarpet\"}], \"scattergeo\": [{\"marker\": {\"colorbar\": {\"outlinewidth\": 0, \"ticks\": \"\"}}, \"type\": \"scattergeo\"}], \"scattergl\": [{\"marker\": {\"colorbar\": {\"outlinewidth\": 0, \"ticks\": \"\"}}, \"type\": \"scattergl\"}], \"scattermapbox\": [{\"marker\": {\"colorbar\": {\"outlinewidth\": 0, \"ticks\": \"\"}}, \"type\": \"scattermapbox\"}], \"scatterpolar\": [{\"marker\": {\"colorbar\": {\"outlinewidth\": 0, \"ticks\": \"\"}}, \"type\": \"scatterpolar\"}], \"scatterpolargl\": [{\"marker\": {\"colorbar\": {\"outlinewidth\": 0, \"ticks\": \"\"}}, \"type\": \"scatterpolargl\"}], \"scatterternary\": [{\"marker\": {\"colorbar\": {\"outlinewidth\": 0, \"ticks\": \"\"}}, \"type\": \"scatterternary\"}], \"surface\": [{\"colorbar\": {\"outlinewidth\": 0, \"ticks\": \"\"}, \"colorscale\": [[0.0, \"#0d0887\"], [0.1111111111111111, \"#46039f\"], [0.2222222222222222, \"#7201a8\"], [0.3333333333333333, \"#9c179e\"], [0.4444444444444444, \"#bd3786\"], [0.5555555555555556, \"#d8576b\"], [0.6666666666666666, \"#ed7953\"], [0.7777777777777778, \"#fb9f3a\"], [0.8888888888888888, \"#fdca26\"], [1.0, \"#f0f921\"]], \"type\": \"surface\"}], \"table\": [{\"cells\": {\"fill\": {\"color\": \"#EBF0F8\"}, \"line\": {\"color\": \"white\"}}, \"header\": {\"fill\": {\"color\": \"#C8D4E3\"}, \"line\": {\"color\": \"white\"}}, \"type\": \"table\"}]}, \"layout\": {\"annotationdefaults\": {\"arrowcolor\": \"#2a3f5f\", \"arrowhead\": 0, \"arrowwidth\": 1}, \"coloraxis\": {\"colorbar\": {\"outlinewidth\": 0, \"ticks\": \"\"}}, \"colorscale\": {\"diverging\": [[0, \"#8e0152\"], [0.1, \"#c51b7d\"], [0.2, \"#de77ae\"], [0.3, \"#f1b6da\"], [0.4, \"#fde0ef\"], [0.5, \"#f7f7f7\"], [0.6, \"#e6f5d0\"], [0.7, \"#b8e186\"], [0.8, \"#7fbc41\"], [0.9, \"#4d9221\"], [1, \"#276419\"]], \"sequential\": [[0.0, \"#0d0887\"], [0.1111111111111111, \"#46039f\"], [0.2222222222222222, \"#7201a8\"], [0.3333333333333333, \"#9c179e\"], [0.4444444444444444, \"#bd3786\"], [0.5555555555555556, \"#d8576b\"], [0.6666666666666666, \"#ed7953\"], [0.7777777777777778, \"#fb9f3a\"], [0.8888888888888888, \"#fdca26\"], [1.0, \"#f0f921\"]], \"sequentialminus\": [[0.0, \"#0d0887\"], [0.1111111111111111, \"#46039f\"], [0.2222222222222222, \"#7201a8\"], [0.3333333333333333, \"#9c179e\"], [0.4444444444444444, \"#bd3786\"], [0.5555555555555556, \"#d8576b\"], [0.6666666666666666, \"#ed7953\"], [0.7777777777777778, \"#fb9f3a\"], [0.8888888888888888, \"#fdca26\"], [1.0, \"#f0f921\"]]}, \"colorway\": [\"#636efa\", \"#EF553B\", \"#00cc96\", \"#ab63fa\", \"#FFA15A\", \"#19d3f3\", \"#FF6692\", \"#B6E880\", \"#FF97FF\", \"#FECB52\"], \"font\": {\"color\": \"#2a3f5f\"}, \"geo\": {\"bgcolor\": \"white\", \"lakecolor\": \"white\", \"landcolor\": \"#E5ECF6\", \"showlakes\": true, \"showland\": true, \"subunitcolor\": \"white\"}, \"hoverlabel\": {\"align\": \"left\"}, \"hovermode\": \"closest\", \"mapbox\": {\"style\": \"light\"}, \"paper_bgcolor\": \"white\", \"plot_bgcolor\": \"#E5ECF6\", \"polar\": {\"angularaxis\": {\"gridcolor\": \"white\", \"linecolor\": \"white\", \"ticks\": \"\"}, \"bgcolor\": \"#E5ECF6\", \"radialaxis\": {\"gridcolor\": \"white\", \"linecolor\": \"white\", \"ticks\": \"\"}}, \"scene\": {\"xaxis\": {\"backgroundcolor\": \"#E5ECF6\", \"gridcolor\": \"white\", \"gridwidth\": 2, \"linecolor\": \"white\", \"showbackground\": true, \"ticks\": \"\", \"zerolinecolor\": \"white\"}, \"yaxis\": {\"backgroundcolor\": \"#E5ECF6\", \"gridcolor\": \"white\", \"gridwidth\": 2, \"linecolor\": \"white\", \"showbackground\": true, \"ticks\": \"\", \"zerolinecolor\": \"white\"}, \"zaxis\": {\"backgroundcolor\": \"#E5ECF6\", \"gridcolor\": \"white\", \"gridwidth\": 2, \"linecolor\": \"white\", \"showbackground\": true, \"ticks\": \"\", \"zerolinecolor\": \"white\"}}, \"shapedefaults\": {\"line\": {\"color\": \"#2a3f5f\"}}, \"ternary\": {\"aaxis\": {\"gridcolor\": \"white\", \"linecolor\": \"white\", \"ticks\": \"\"}, \"baxis\": {\"gridcolor\": \"white\", \"linecolor\": \"white\", \"ticks\": \"\"}, \"bgcolor\": \"#E5ECF6\", \"caxis\": {\"gridcolor\": \"white\", \"linecolor\": \"white\", \"ticks\": \"\"}}, \"title\": {\"x\": 0.05}, \"xaxis\": {\"automargin\": true, \"gridcolor\": \"white\", \"linecolor\": \"white\", \"ticks\": \"\", \"title\": {\"standoff\": 15}, \"zerolinecolor\": \"white\", \"zerolinewidth\": 2}, \"yaxis\": {\"automargin\": true, \"gridcolor\": \"white\", \"linecolor\": \"white\", \"ticks\": \"\", \"title\": {\"standoff\": 15}, \"zerolinecolor\": \"white\", \"zerolinewidth\": 2}}}, \"title\": {\"text\": \"Visualizing Clusters in One Dimension Using PCA\"}, \"xaxis\": {\"ticklen\": 5, \"title\": {\"text\": \"PC1\"}, \"zeroline\": false}, \"yaxis\": {\"ticklen\": 5, \"title\": {\"text\": \"\"}, \"zeroline\": false}},\n",
       "                        {\"responsive\": true}\n",
       "                    ).then(function(){\n",
       "                            \n",
       "var gd = document.getElementById('8458e789-df3b-4dce-9cb0-c30b6c6c9379');\n",
       "var x = new MutationObserver(function (mutations, observer) {{\n",
       "        var display = window.getComputedStyle(gd).display;\n",
       "        if (!display || display === 'none') {{\n",
       "            console.log([gd, 'removed!']);\n",
       "            Plotly.purge(gd);\n",
       "            observer.disconnect();\n",
       "        }}\n",
       "}});\n",
       "\n",
       "// Listen for the removal of the full notebook cells\n",
       "var notebookContainer = gd.closest('#notebook-container');\n",
       "if (notebookContainer) {{\n",
       "    x.observe(notebookContainer, {childList: true});\n",
       "}}\n",
       "\n",
       "// Listen for the clearing of the current output cell\n",
       "var outputEl = gd.closest('.output');\n",
       "if (outputEl) {{\n",
       "    x.observe(outputEl, {childList: true});\n",
       "}}\n",
       "\n",
       "                        })\n",
       "                };\n",
       "                });\n",
       "            </script>\n",
       "        </div>"
      ]
     },
     "metadata": {},
     "output_type": "display_data"
    }
   ],
   "source": [
    "# 1d visual\n",
    "import plotly as py\n",
    "import plotly.graph_objs as go\n",
    "from plotly.offline import download_plotlyjs, init_notebook_mode, plot, iplot\n",
    "\n",
    "#pyplot hack\n",
    "init_notebook_mode(connected=True)\n",
    "\n",
    "#trace1 is for 'Cluster 0'\n",
    "trace1 = go.Scatter(\n",
    "                    x = cluster0[\"PC1_1d\"],\n",
    "                    y = cluster0[\"dummy\"],\n",
    "                    mode = \"markers\",\n",
    "                    name = \"Cluster 0\",\n",
    "                    marker = dict(color = 'rgba(255, 128, 255, 0.8)'),\n",
    "                    text = cluster0.index)\n",
    "\n",
    "#trace2 is for 'Cluster 1'\n",
    "trace2 = go.Scatter(\n",
    "                    x = cluster1[\"PC1_1d\"],\n",
    "                    y = cluster1[\"dummy\"],\n",
    "                    mode = \"markers\",\n",
    "                    name = \"Cluster 1\",\n",
    "                    marker = dict(color = 'rgba(255, 128, 2, 0.8)'),\n",
    "                    text = cluster1.index)\n",
    "\n",
    "#trace3 is for 'Cluster 2'\n",
    "trace3 = go.Scatter(\n",
    "                    x = cluster2[\"PC1_1d\"],\n",
    "                    y = cluster2[\"dummy\"],\n",
    "                    mode = \"markers\",\n",
    "                    name = \"Cluster 2\",\n",
    "                    marker = dict(color = 'rgba(0, 255, 200, 0.8)'),\n",
    "                    text = cluster2.index)\n",
    "\n",
    "data = [trace1, trace2, trace3]\n",
    "\n",
    "title = \"Visualizing Clusters in One Dimension Using PCA\"\n",
    "\n",
    "layout = dict(title = title,\n",
    "              xaxis= dict(title= 'PC1',ticklen= 5,zeroline= False),\n",
    "              yaxis= dict(title= '',ticklen= 5,zeroline= False)\n",
    "             )\n",
    "\n",
    "fig = dict(data = data, layout = layout)\n",
    "\n",
    "iplot(fig)"
   ]
  },
  {
   "cell_type": "code",
   "execution_count": 110,
   "metadata": {},
   "outputs": [
    {
     "data": {
      "application/vnd.plotly.v1+json": {
       "config": {
        "linkText": "Export to plot.ly",
        "plotlyServerURL": "https://plot.ly",
        "showLink": false
       },
       "data": [
        {
         "marker": {
          "color": "rgba(255, 128, 255, 0.8)"
         },
         "mode": "markers",
         "name": "Cluster 0",
         "text": [
          "Sierra Leone",
          "Kenya",
          "Liechtenstein",
          "Ethiopia",
          "Sudan",
          "Benin",
          "West Bank and Gaza",
          "India",
          "Somalia",
          "Honduras",
          "Equatorial Guinea",
          "Bolivia",
          "Guinea-Bissau",
          "Zambia",
          "Bangladesh",
          "Indonesia",
          "Jamaica",
          "South Africa",
          "Angola",
          "Cote d'Ivoire",
          "Timor-Leste",
          "Kosovo",
          "Mali",
          "Gabon",
          "Malawi",
          "Mauritania",
          "Mozambique",
          "Haiti",
          "Guyana",
          "Philippines",
          "Ghana",
          "Madagascar",
          "Central African Republic",
          "Namibia",
          "Guatemala",
          "Cambodia",
          "Burundi",
          "Tanzania",
          "Zimbabwe",
          "Sao Tome and Principe",
          "Burkina Faso",
          "Senegal",
          "Papua New Guinea",
          "Guinea",
          "Rwanda",
          "Chad",
          "Niger",
          "Bhutan",
          "Cabo Verde",
          "Cameroon",
          "Pakistan"
         ],
         "type": "scatter",
         "x": [
          -2.177284523870218,
          -2.2838048285140324,
          -1.7135136137592706,
          -2.4773462467144483,
          -2.067025758262745,
          -2.216408068974392,
          -1.2644037751173307,
          1.7374713538830227,
          -3.4199849927569574,
          -1.016676100493426,
          -2.206298428722183,
          -0.9025650960110025,
          -2.413558441598424,
          -2.0196099536237133,
          -1.5622108234010215,
          -0.11740355704182194,
          -0.7828611919769302,
          -0.5050474824219434,
          -2.2386192795025095,
          -1.9660453596506093,
          -0.8181767257216281,
          -1.7682942547883351,
          -2.419332157894093,
          -0.8492722934095444,
          -2.1725503337418925,
          -2.2921789567989523,
          -2.6598012889213503,
          -1.8431086250330506,
          -1.010657497079745,
          -1.1070452383479503,
          -1.8350189309048546,
          -2.5733332642333617,
          -3.0206525564452593,
          -1.3825729562392588,
          -1.2691369391330707,
          -1.4467562964586604,
          -2.341567892978231,
          -2.086501184159709,
          -1.6516331438408474,
          -1.548735125342281,
          -2.412145726181726,
          -1.910114074389845,
          -1.1836015039372842,
          -2.2535811322213624,
          -2.098671243152892,
          -3.264202430003111,
          -3.1677679135098136,
          -1.3304956114780935,
          -1.1676762786099248,
          -2.0129335801775436,
          -1.6177309049426494
         ],
         "y": [
          1.4250193930747967,
          1.7771137958969376,
          1.4126910469686957,
          2.3148505559503767,
          1.764188373238008,
          1.5472672338839437,
          0.5807093345289264,
          5.545246357680421,
          3.0706684706261873,
          -0.1094025005789873,
          1.374803663074302,
          0.13222227606286435,
          1.6824626369386464,
          1.0330085686322918,
          1.4437640132564324,
          1.180376648038768,
          -0.16103815186970394,
          0.7616484187808985,
          1.498306175142891,
          1.3142901541970222,
          -0.00031167580348544975,
          1.5066282650325964,
          1.87077793809943,
          -0.08702094168683319,
          1.3993613857796947,
          1.4486883196534088,
          1.8560638825167985,
          0.9642817184557758,
          -0.06095893917474226,
          0.7631182823883128,
          1.0613180944069651,
          1.7595494484203904,
          2.581251964413558,
          0.19224633450068043,
          0.484687444773968,
          0.22256737064637758,
          1.635957543600273,
          1.6072811769977984,
          0.9408121786747522,
          0.5623991226776826,
          1.7814143451696478,
          1.2703827112993276,
          0.3388301543927938,
          1.557024062265587,
          1.3113846134776146,
          2.888006448024563,
          2.802018141266468,
          0.4700190610301344,
          0.2571920519916036,
          1.5085087626868023,
          2.069404155721936
         ]
        },
        {
         "marker": {
          "color": "rgba(255, 128, 2, 0.8)"
         },
         "mode": "markers",
         "name": "Cluster 1",
         "text": [
          "United States"
         ],
         "type": "scatter",
         "x": [
          16.11691309315417
         ],
         "y": [
          11.514088622708696
         ]
        },
        {
         "marker": {
          "color": "rgba(0, 255, 200, 0.8)"
         },
         "mode": "markers",
         "name": "Cluster 2",
         "text": [
          "Slovenia",
          "Fiji",
          "Malta",
          "Paraguay",
          "Croatia",
          "Mongolia",
          "Denmark",
          "Ukraine",
          "Germany",
          "Algeria",
          "Azerbaijan",
          "Cyprus",
          "Bahrain",
          "Belgium",
          "Singapore",
          "Japan",
          "Andorra",
          "Morocco",
          "Spain",
          "Chile",
          "Brazil",
          "Kazakhstan",
          "Monaco",
          "Dominican Republic",
          "Mexico",
          "Mauritius",
          "Nicaragua",
          "Tunisia",
          "Uzbekistan",
          "Lebanon",
          "Finland",
          "Georgia",
          "Saudi Arabia",
          "Italy",
          "United Kingdom",
          "United Arab Emirates",
          "Albania",
          "Peru",
          "Suriname",
          "Moldova",
          "Lithuania",
          "Israel",
          "Netherlands",
          "Maldives",
          "Greece",
          "Serbia",
          "Turkey",
          "Antigua and Barbuda",
          "Estonia",
          "Cuba",
          "Ecuador",
          "Belarus",
          "Latvia",
          "Austria",
          "France",
          "Grenada",
          "Portugal",
          "Luxembourg",
          "Sweden",
          "Iceland",
          "San Marino",
          "El Salvador",
          "Belize",
          "Panama",
          "Costa Rica",
          "Dominica",
          "Hungary",
          "Qatar",
          "Oman",
          "Trinidad and Tobago",
          "Armenia",
          "China",
          "Uruguay",
          "Thailand",
          "Norway"
         ],
         "type": "scatter",
         "x": [
          1.197499606754023,
          -0.21503680797660787,
          1.58348693407272,
          -0.5231642695095009,
          1.0972019935459345,
          -0.5213306301856749,
          1.7546038181652213,
          0.8552888378893608,
          4.475587933841333,
          -0.1997672632747716,
          -0.13689450269506667,
          0.8084940388682352,
          0.18166943706815786,
          2.902606504903773,
          1.9982427005372492,
          3.6543036365922417,
          0.168934915689243,
          -0.36904962735198993,
          4.678319066061324,
          0.5193484682787993,
          1.2840055113465605,
          1.016125381892435,
          1.8853351533061342,
          -0.27332578878251246,
          0.6155346206041717,
          0.15650634916185516,
          -0.7642743296653749,
          0.05785777384753681,
          -0.0985964613863787,
          -0.5970574533073553,
          1.9856250694331865,
          0.06058077731511054,
          0.07703102608917026,
          4.807550002894758,
          3.9762490256125167,
          0.8355748894507649,
          0.3889736128740537,
          -0.39604391860264027,
          -0.3103290097486013,
          0.18951124256449453,
          1.5461550444807122,
          0.9788101017162406,
          2.553201325163996,
          -0.14212053832937088,
          1.281138591997597,
          0.5281047909405151,
          0.5599694094361125,
          -0.21248111863888042,
          1.3553628173879984,
          0.670898476300222,
          -0.5965175178880048,
          1.5165493047219887,
          1.3666661575445067,
          1.9804191707918808,
          5.177791254485726,
          -0.21903614122320259,
          1.399899149173564,
          2.3388728884421828,
          2.083675622212648,
          1.5269100813580916,
          0.78487237402544,
          -0.43945726407539487,
          -0.661042753923393,
          -0.126840471638914,
          0.05891123528114499,
          -0.08978766304909858,
          1.7906613630310526,
          0.8459292683538703,
          -0.503037607189619,
          0.06268810303567854,
          -0.17507252352494782,
          5.277738909926889,
          0.6579048903844469,
          0.13701802444124256,
          1.8895961141252933
         ],
         "y": [
          -2.482055242645868,
          -0.9092726321935686,
          -2.5157160425666274,
          -0.43629192771734454,
          -1.930190051452617,
          -0.7582277812871254,
          -1.7985831204726515,
          -0.8657502850149023,
          -0.3991881161924213,
          -0.22721433389810436,
          -0.9103913880903293,
          -1.7388438062994422,
          -1.192963075769516,
          -2.487745128289753,
          -3.6817823028849137,
          -2.07066762658119,
          -0.8483698755238815,
          -0.2585956157270647,
          0.8243410787559385,
          -1.0577491468337632,
          1.1741872581580015,
          -1.2438475894922676,
          -3.6204287324406716,
          -0.5607267358865247,
          -0.10709469942187329,
          -1.1345938896153738,
          -0.3463340656424066,
          -0.957650052410063,
          -0.658909680456749,
          -0.3128071372337117,
          -1.946810927026701,
          -1.0532918145015517,
          -0.30748221887972166,
          0.7924032317588189,
          0.7946223363258349,
          -1.6288780453154437,
          -1.3387792705973254,
          -0.021153275284272997,
          -0.9782766269172332,
          -1.2792013989961353,
          -2.752690032387768,
          -1.4893516592356755,
          -2.166485345633333,
          -1.103785451773649,
          -1.8343975275211897,
          -1.4423188631646655,
          0.7957835259284773,
          -0.6756506230988977,
          -2.497074624256484,
          -1.2153370142209925,
          -0.03487277355473301,
          -2.6425837391764664,
          -2.3786952050662307,
          -1.9913613690768222,
          0.6975339784144716,
          -0.7246503735572134,
          -1.6969056785525742,
          -2.547595514998152,
          -1.5181585293085966,
          -1.846318782842412,
          -1.5830807319254772,
          -0.4779140211379022,
          -0.22415983537668988,
          -0.6492158566776935,
          -0.9091954529041028,
          -0.5852799904325404,
          -2.7163479579856005,
          -1.2151875555539091,
          -0.4919248667952641,
          -1.05983014294667,
          -0.8390293495840007,
          5.818343558598762,
          -1.3993651770486153,
          -0.45324259891308416,
          -1.7345131716060904
         ]
        }
       ],
       "layout": {
        "template": {
         "data": {
          "bar": [
           {
            "error_x": {
             "color": "#2a3f5f"
            },
            "error_y": {
             "color": "#2a3f5f"
            },
            "marker": {
             "line": {
              "color": "#E5ECF6",
              "width": 0.5
             }
            },
            "type": "bar"
           }
          ],
          "barpolar": [
           {
            "marker": {
             "line": {
              "color": "#E5ECF6",
              "width": 0.5
             }
            },
            "type": "barpolar"
           }
          ],
          "carpet": [
           {
            "aaxis": {
             "endlinecolor": "#2a3f5f",
             "gridcolor": "white",
             "linecolor": "white",
             "minorgridcolor": "white",
             "startlinecolor": "#2a3f5f"
            },
            "baxis": {
             "endlinecolor": "#2a3f5f",
             "gridcolor": "white",
             "linecolor": "white",
             "minorgridcolor": "white",
             "startlinecolor": "#2a3f5f"
            },
            "type": "carpet"
           }
          ],
          "choropleth": [
           {
            "colorbar": {
             "outlinewidth": 0,
             "ticks": ""
            },
            "type": "choropleth"
           }
          ],
          "contour": [
           {
            "colorbar": {
             "outlinewidth": 0,
             "ticks": ""
            },
            "colorscale": [
             [
              0,
              "#0d0887"
             ],
             [
              0.1111111111111111,
              "#46039f"
             ],
             [
              0.2222222222222222,
              "#7201a8"
             ],
             [
              0.3333333333333333,
              "#9c179e"
             ],
             [
              0.4444444444444444,
              "#bd3786"
             ],
             [
              0.5555555555555556,
              "#d8576b"
             ],
             [
              0.6666666666666666,
              "#ed7953"
             ],
             [
              0.7777777777777778,
              "#fb9f3a"
             ],
             [
              0.8888888888888888,
              "#fdca26"
             ],
             [
              1,
              "#f0f921"
             ]
            ],
            "type": "contour"
           }
          ],
          "contourcarpet": [
           {
            "colorbar": {
             "outlinewidth": 0,
             "ticks": ""
            },
            "type": "contourcarpet"
           }
          ],
          "heatmap": [
           {
            "colorbar": {
             "outlinewidth": 0,
             "ticks": ""
            },
            "colorscale": [
             [
              0,
              "#0d0887"
             ],
             [
              0.1111111111111111,
              "#46039f"
             ],
             [
              0.2222222222222222,
              "#7201a8"
             ],
             [
              0.3333333333333333,
              "#9c179e"
             ],
             [
              0.4444444444444444,
              "#bd3786"
             ],
             [
              0.5555555555555556,
              "#d8576b"
             ],
             [
              0.6666666666666666,
              "#ed7953"
             ],
             [
              0.7777777777777778,
              "#fb9f3a"
             ],
             [
              0.8888888888888888,
              "#fdca26"
             ],
             [
              1,
              "#f0f921"
             ]
            ],
            "type": "heatmap"
           }
          ],
          "heatmapgl": [
           {
            "colorbar": {
             "outlinewidth": 0,
             "ticks": ""
            },
            "colorscale": [
             [
              0,
              "#0d0887"
             ],
             [
              0.1111111111111111,
              "#46039f"
             ],
             [
              0.2222222222222222,
              "#7201a8"
             ],
             [
              0.3333333333333333,
              "#9c179e"
             ],
             [
              0.4444444444444444,
              "#bd3786"
             ],
             [
              0.5555555555555556,
              "#d8576b"
             ],
             [
              0.6666666666666666,
              "#ed7953"
             ],
             [
              0.7777777777777778,
              "#fb9f3a"
             ],
             [
              0.8888888888888888,
              "#fdca26"
             ],
             [
              1,
              "#f0f921"
             ]
            ],
            "type": "heatmapgl"
           }
          ],
          "histogram": [
           {
            "marker": {
             "colorbar": {
              "outlinewidth": 0,
              "ticks": ""
             }
            },
            "type": "histogram"
           }
          ],
          "histogram2d": [
           {
            "colorbar": {
             "outlinewidth": 0,
             "ticks": ""
            },
            "colorscale": [
             [
              0,
              "#0d0887"
             ],
             [
              0.1111111111111111,
              "#46039f"
             ],
             [
              0.2222222222222222,
              "#7201a8"
             ],
             [
              0.3333333333333333,
              "#9c179e"
             ],
             [
              0.4444444444444444,
              "#bd3786"
             ],
             [
              0.5555555555555556,
              "#d8576b"
             ],
             [
              0.6666666666666666,
              "#ed7953"
             ],
             [
              0.7777777777777778,
              "#fb9f3a"
             ],
             [
              0.8888888888888888,
              "#fdca26"
             ],
             [
              1,
              "#f0f921"
             ]
            ],
            "type": "histogram2d"
           }
          ],
          "histogram2dcontour": [
           {
            "colorbar": {
             "outlinewidth": 0,
             "ticks": ""
            },
            "colorscale": [
             [
              0,
              "#0d0887"
             ],
             [
              0.1111111111111111,
              "#46039f"
             ],
             [
              0.2222222222222222,
              "#7201a8"
             ],
             [
              0.3333333333333333,
              "#9c179e"
             ],
             [
              0.4444444444444444,
              "#bd3786"
             ],
             [
              0.5555555555555556,
              "#d8576b"
             ],
             [
              0.6666666666666666,
              "#ed7953"
             ],
             [
              0.7777777777777778,
              "#fb9f3a"
             ],
             [
              0.8888888888888888,
              "#fdca26"
             ],
             [
              1,
              "#f0f921"
             ]
            ],
            "type": "histogram2dcontour"
           }
          ],
          "mesh3d": [
           {
            "colorbar": {
             "outlinewidth": 0,
             "ticks": ""
            },
            "type": "mesh3d"
           }
          ],
          "parcoords": [
           {
            "line": {
             "colorbar": {
              "outlinewidth": 0,
              "ticks": ""
             }
            },
            "type": "parcoords"
           }
          ],
          "pie": [
           {
            "automargin": true,
            "type": "pie"
           }
          ],
          "scatter": [
           {
            "marker": {
             "colorbar": {
              "outlinewidth": 0,
              "ticks": ""
             }
            },
            "type": "scatter"
           }
          ],
          "scatter3d": [
           {
            "line": {
             "colorbar": {
              "outlinewidth": 0,
              "ticks": ""
             }
            },
            "marker": {
             "colorbar": {
              "outlinewidth": 0,
              "ticks": ""
             }
            },
            "type": "scatter3d"
           }
          ],
          "scattercarpet": [
           {
            "marker": {
             "colorbar": {
              "outlinewidth": 0,
              "ticks": ""
             }
            },
            "type": "scattercarpet"
           }
          ],
          "scattergeo": [
           {
            "marker": {
             "colorbar": {
              "outlinewidth": 0,
              "ticks": ""
             }
            },
            "type": "scattergeo"
           }
          ],
          "scattergl": [
           {
            "marker": {
             "colorbar": {
              "outlinewidth": 0,
              "ticks": ""
             }
            },
            "type": "scattergl"
           }
          ],
          "scattermapbox": [
           {
            "marker": {
             "colorbar": {
              "outlinewidth": 0,
              "ticks": ""
             }
            },
            "type": "scattermapbox"
           }
          ],
          "scatterpolar": [
           {
            "marker": {
             "colorbar": {
              "outlinewidth": 0,
              "ticks": ""
             }
            },
            "type": "scatterpolar"
           }
          ],
          "scatterpolargl": [
           {
            "marker": {
             "colorbar": {
              "outlinewidth": 0,
              "ticks": ""
             }
            },
            "type": "scatterpolargl"
           }
          ],
          "scatterternary": [
           {
            "marker": {
             "colorbar": {
              "outlinewidth": 0,
              "ticks": ""
             }
            },
            "type": "scatterternary"
           }
          ],
          "surface": [
           {
            "colorbar": {
             "outlinewidth": 0,
             "ticks": ""
            },
            "colorscale": [
             [
              0,
              "#0d0887"
             ],
             [
              0.1111111111111111,
              "#46039f"
             ],
             [
              0.2222222222222222,
              "#7201a8"
             ],
             [
              0.3333333333333333,
              "#9c179e"
             ],
             [
              0.4444444444444444,
              "#bd3786"
             ],
             [
              0.5555555555555556,
              "#d8576b"
             ],
             [
              0.6666666666666666,
              "#ed7953"
             ],
             [
              0.7777777777777778,
              "#fb9f3a"
             ],
             [
              0.8888888888888888,
              "#fdca26"
             ],
             [
              1,
              "#f0f921"
             ]
            ],
            "type": "surface"
           }
          ],
          "table": [
           {
            "cells": {
             "fill": {
              "color": "#EBF0F8"
             },
             "line": {
              "color": "white"
             }
            },
            "header": {
             "fill": {
              "color": "#C8D4E3"
             },
             "line": {
              "color": "white"
             }
            },
            "type": "table"
           }
          ]
         },
         "layout": {
          "annotationdefaults": {
           "arrowcolor": "#2a3f5f",
           "arrowhead": 0,
           "arrowwidth": 1
          },
          "coloraxis": {
           "colorbar": {
            "outlinewidth": 0,
            "ticks": ""
           }
          },
          "colorscale": {
           "diverging": [
            [
             0,
             "#8e0152"
            ],
            [
             0.1,
             "#c51b7d"
            ],
            [
             0.2,
             "#de77ae"
            ],
            [
             0.3,
             "#f1b6da"
            ],
            [
             0.4,
             "#fde0ef"
            ],
            [
             0.5,
             "#f7f7f7"
            ],
            [
             0.6,
             "#e6f5d0"
            ],
            [
             0.7,
             "#b8e186"
            ],
            [
             0.8,
             "#7fbc41"
            ],
            [
             0.9,
             "#4d9221"
            ],
            [
             1,
             "#276419"
            ]
           ],
           "sequential": [
            [
             0,
             "#0d0887"
            ],
            [
             0.1111111111111111,
             "#46039f"
            ],
            [
             0.2222222222222222,
             "#7201a8"
            ],
            [
             0.3333333333333333,
             "#9c179e"
            ],
            [
             0.4444444444444444,
             "#bd3786"
            ],
            [
             0.5555555555555556,
             "#d8576b"
            ],
            [
             0.6666666666666666,
             "#ed7953"
            ],
            [
             0.7777777777777778,
             "#fb9f3a"
            ],
            [
             0.8888888888888888,
             "#fdca26"
            ],
            [
             1,
             "#f0f921"
            ]
           ],
           "sequentialminus": [
            [
             0,
             "#0d0887"
            ],
            [
             0.1111111111111111,
             "#46039f"
            ],
            [
             0.2222222222222222,
             "#7201a8"
            ],
            [
             0.3333333333333333,
             "#9c179e"
            ],
            [
             0.4444444444444444,
             "#bd3786"
            ],
            [
             0.5555555555555556,
             "#d8576b"
            ],
            [
             0.6666666666666666,
             "#ed7953"
            ],
            [
             0.7777777777777778,
             "#fb9f3a"
            ],
            [
             0.8888888888888888,
             "#fdca26"
            ],
            [
             1,
             "#f0f921"
            ]
           ]
          },
          "colorway": [
           "#636efa",
           "#EF553B",
           "#00cc96",
           "#ab63fa",
           "#FFA15A",
           "#19d3f3",
           "#FF6692",
           "#B6E880",
           "#FF97FF",
           "#FECB52"
          ],
          "font": {
           "color": "#2a3f5f"
          },
          "geo": {
           "bgcolor": "white",
           "lakecolor": "white",
           "landcolor": "#E5ECF6",
           "showlakes": true,
           "showland": true,
           "subunitcolor": "white"
          },
          "hoverlabel": {
           "align": "left"
          },
          "hovermode": "closest",
          "mapbox": {
           "style": "light"
          },
          "paper_bgcolor": "white",
          "plot_bgcolor": "#E5ECF6",
          "polar": {
           "angularaxis": {
            "gridcolor": "white",
            "linecolor": "white",
            "ticks": ""
           },
           "bgcolor": "#E5ECF6",
           "radialaxis": {
            "gridcolor": "white",
            "linecolor": "white",
            "ticks": ""
           }
          },
          "scene": {
           "xaxis": {
            "backgroundcolor": "#E5ECF6",
            "gridcolor": "white",
            "gridwidth": 2,
            "linecolor": "white",
            "showbackground": true,
            "ticks": "",
            "zerolinecolor": "white"
           },
           "yaxis": {
            "backgroundcolor": "#E5ECF6",
            "gridcolor": "white",
            "gridwidth": 2,
            "linecolor": "white",
            "showbackground": true,
            "ticks": "",
            "zerolinecolor": "white"
           },
           "zaxis": {
            "backgroundcolor": "#E5ECF6",
            "gridcolor": "white",
            "gridwidth": 2,
            "linecolor": "white",
            "showbackground": true,
            "ticks": "",
            "zerolinecolor": "white"
           }
          },
          "shapedefaults": {
           "line": {
            "color": "#2a3f5f"
           }
          },
          "ternary": {
           "aaxis": {
            "gridcolor": "white",
            "linecolor": "white",
            "ticks": ""
           },
           "baxis": {
            "gridcolor": "white",
            "linecolor": "white",
            "ticks": ""
           },
           "bgcolor": "#E5ECF6",
           "caxis": {
            "gridcolor": "white",
            "linecolor": "white",
            "ticks": ""
           }
          },
          "title": {
           "x": 0.05
          },
          "xaxis": {
           "automargin": true,
           "gridcolor": "white",
           "linecolor": "white",
           "ticks": "",
           "title": {
            "standoff": 15
           },
           "zerolinecolor": "white",
           "zerolinewidth": 2
          },
          "yaxis": {
           "automargin": true,
           "gridcolor": "white",
           "linecolor": "white",
           "ticks": "",
           "title": {
            "standoff": 15
           },
           "zerolinecolor": "white",
           "zerolinewidth": 2
          }
         }
        },
        "title": {
         "text": "Visualizing Clusters in Two Dimensions Using PCA"
        },
        "xaxis": {
         "ticklen": 5,
         "title": {
          "text": "PC1"
         },
         "zeroline": false
        },
        "yaxis": {
         "ticklen": 5,
         "title": {
          "text": "PC2"
         },
         "zeroline": false
        }
       }
      },
      "text/html": [
       "<div>\n",
       "        \n",
       "        \n",
       "            <div id=\"7a52884c-d638-46dd-bc46-3258586fc3b6\" class=\"plotly-graph-div\" style=\"height:525px; width:100%;\"></div>\n",
       "            <script type=\"text/javascript\">\n",
       "                require([\"plotly\"], function(Plotly) {\n",
       "                    window.PLOTLYENV=window.PLOTLYENV || {};\n",
       "                    \n",
       "                if (document.getElementById(\"7a52884c-d638-46dd-bc46-3258586fc3b6\")) {\n",
       "                    Plotly.newPlot(\n",
       "                        '7a52884c-d638-46dd-bc46-3258586fc3b6',\n",
       "                        [{\"marker\": {\"color\": \"rgba(255, 128, 255, 0.8)\"}, \"mode\": \"markers\", \"name\": \"Cluster 0\", \"text\": [\"Sierra Leone\", \"Kenya\", \"Liechtenstein\", \"Ethiopia\", \"Sudan\", \"Benin\", \"West Bank and Gaza\", \"India\", \"Somalia\", \"Honduras\", \"Equatorial Guinea\", \"Bolivia\", \"Guinea-Bissau\", \"Zambia\", \"Bangladesh\", \"Indonesia\", \"Jamaica\", \"South Africa\", \"Angola\", \"Cote d'Ivoire\", \"Timor-Leste\", \"Kosovo\", \"Mali\", \"Gabon\", \"Malawi\", \"Mauritania\", \"Mozambique\", \"Haiti\", \"Guyana\", \"Philippines\", \"Ghana\", \"Madagascar\", \"Central African Republic\", \"Namibia\", \"Guatemala\", \"Cambodia\", \"Burundi\", \"Tanzania\", \"Zimbabwe\", \"Sao Tome and Principe\", \"Burkina Faso\", \"Senegal\", \"Papua New Guinea\", \"Guinea\", \"Rwanda\", \"Chad\", \"Niger\", \"Bhutan\", \"Cabo Verde\", \"Cameroon\", \"Pakistan\"], \"type\": \"scatter\", \"x\": [-2.177284523870218, -2.2838048285140324, -1.7135136137592706, -2.4773462467144483, -2.067025758262745, -2.216408068974392, -1.2644037751173307, 1.7374713538830227, -3.4199849927569574, -1.016676100493426, -2.206298428722183, -0.9025650960110025, -2.413558441598424, -2.0196099536237133, -1.5622108234010215, -0.11740355704182194, -0.7828611919769302, -0.5050474824219434, -2.2386192795025095, -1.9660453596506093, -0.8181767257216281, -1.7682942547883351, -2.419332157894093, -0.8492722934095444, -2.1725503337418925, -2.2921789567989523, -2.6598012889213503, -1.8431086250330506, -1.010657497079745, -1.1070452383479503, -1.8350189309048546, -2.5733332642333617, -3.0206525564452593, -1.3825729562392588, -1.2691369391330707, -1.4467562964586604, -2.341567892978231, -2.086501184159709, -1.6516331438408474, -1.548735125342281, -2.412145726181726, -1.910114074389845, -1.1836015039372842, -2.2535811322213624, -2.098671243152892, -3.264202430003111, -3.1677679135098136, -1.3304956114780935, -1.1676762786099248, -2.0129335801775436, -1.6177309049426494], \"y\": [1.4250193930747967, 1.7771137958969376, 1.4126910469686957, 2.3148505559503767, 1.764188373238008, 1.5472672338839437, 0.5807093345289264, 5.545246357680421, 3.0706684706261873, -0.1094025005789873, 1.374803663074302, 0.13222227606286435, 1.6824626369386464, 1.0330085686322918, 1.4437640132564324, 1.180376648038768, -0.16103815186970394, 0.7616484187808985, 1.498306175142891, 1.3142901541970222, -0.00031167580348544975, 1.5066282650325964, 1.87077793809943, -0.08702094168683319, 1.3993613857796947, 1.4486883196534088, 1.8560638825167985, 0.9642817184557758, -0.06095893917474226, 0.7631182823883128, 1.0613180944069651, 1.7595494484203904, 2.581251964413558, 0.19224633450068043, 0.484687444773968, 0.22256737064637758, 1.635957543600273, 1.6072811769977984, 0.9408121786747522, 0.5623991226776826, 1.7814143451696478, 1.2703827112993276, 0.3388301543927938, 1.557024062265587, 1.3113846134776146, 2.888006448024563, 2.802018141266468, 0.4700190610301344, 0.2571920519916036, 1.5085087626868023, 2.069404155721936]}, {\"marker\": {\"color\": \"rgba(255, 128, 2, 0.8)\"}, \"mode\": \"markers\", \"name\": \"Cluster 1\", \"text\": [\"United States\"], \"type\": \"scatter\", \"x\": [16.11691309315417], \"y\": [11.514088622708696]}, {\"marker\": {\"color\": \"rgba(0, 255, 200, 0.8)\"}, \"mode\": \"markers\", \"name\": \"Cluster 2\", \"text\": [\"Slovenia\", \"Fiji\", \"Malta\", \"Paraguay\", \"Croatia\", \"Mongolia\", \"Denmark\", \"Ukraine\", \"Germany\", \"Algeria\", \"Azerbaijan\", \"Cyprus\", \"Bahrain\", \"Belgium\", \"Singapore\", \"Japan\", \"Andorra\", \"Morocco\", \"Spain\", \"Chile\", \"Brazil\", \"Kazakhstan\", \"Monaco\", \"Dominican Republic\", \"Mexico\", \"Mauritius\", \"Nicaragua\", \"Tunisia\", \"Uzbekistan\", \"Lebanon\", \"Finland\", \"Georgia\", \"Saudi Arabia\", \"Italy\", \"United Kingdom\", \"United Arab Emirates\", \"Albania\", \"Peru\", \"Suriname\", \"Moldova\", \"Lithuania\", \"Israel\", \"Netherlands\", \"Maldives\", \"Greece\", \"Serbia\", \"Turkey\", \"Antigua and Barbuda\", \"Estonia\", \"Cuba\", \"Ecuador\", \"Belarus\", \"Latvia\", \"Austria\", \"France\", \"Grenada\", \"Portugal\", \"Luxembourg\", \"Sweden\", \"Iceland\", \"San Marino\", \"El Salvador\", \"Belize\", \"Panama\", \"Costa Rica\", \"Dominica\", \"Hungary\", \"Qatar\", \"Oman\", \"Trinidad and Tobago\", \"Armenia\", \"China\", \"Uruguay\", \"Thailand\", \"Norway\"], \"type\": \"scatter\", \"x\": [1.197499606754023, -0.21503680797660787, 1.58348693407272, -0.5231642695095009, 1.0972019935459345, -0.5213306301856749, 1.7546038181652213, 0.8552888378893608, 4.475587933841333, -0.1997672632747716, -0.13689450269506667, 0.8084940388682352, 0.18166943706815786, 2.902606504903773, 1.9982427005372492, 3.6543036365922417, 0.168934915689243, -0.36904962735198993, 4.678319066061324, 0.5193484682787993, 1.2840055113465605, 1.016125381892435, 1.8853351533061342, -0.27332578878251246, 0.6155346206041717, 0.15650634916185516, -0.7642743296653749, 0.05785777384753681, -0.0985964613863787, -0.5970574533073553, 1.9856250694331865, 0.06058077731511054, 0.07703102608917026, 4.807550002894758, 3.9762490256125167, 0.8355748894507649, 0.3889736128740537, -0.39604391860264027, -0.3103290097486013, 0.18951124256449453, 1.5461550444807122, 0.9788101017162406, 2.553201325163996, -0.14212053832937088, 1.281138591997597, 0.5281047909405151, 0.5599694094361125, -0.21248111863888042, 1.3553628173879984, 0.670898476300222, -0.5965175178880048, 1.5165493047219887, 1.3666661575445067, 1.9804191707918808, 5.177791254485726, -0.21903614122320259, 1.399899149173564, 2.3388728884421828, 2.083675622212648, 1.5269100813580916, 0.78487237402544, -0.43945726407539487, -0.661042753923393, -0.126840471638914, 0.05891123528114499, -0.08978766304909858, 1.7906613630310526, 0.8459292683538703, -0.503037607189619, 0.06268810303567854, -0.17507252352494782, 5.277738909926889, 0.6579048903844469, 0.13701802444124256, 1.8895961141252933], \"y\": [-2.482055242645868, -0.9092726321935686, -2.5157160425666274, -0.43629192771734454, -1.930190051452617, -0.7582277812871254, -1.7985831204726515, -0.8657502850149023, -0.3991881161924213, -0.22721433389810436, -0.9103913880903293, -1.7388438062994422, -1.192963075769516, -2.487745128289753, -3.6817823028849137, -2.07066762658119, -0.8483698755238815, -0.2585956157270647, 0.8243410787559385, -1.0577491468337632, 1.1741872581580015, -1.2438475894922676, -3.6204287324406716, -0.5607267358865247, -0.10709469942187329, -1.1345938896153738, -0.3463340656424066, -0.957650052410063, -0.658909680456749, -0.3128071372337117, -1.946810927026701, -1.0532918145015517, -0.30748221887972166, 0.7924032317588189, 0.7946223363258349, -1.6288780453154437, -1.3387792705973254, -0.021153275284272997, -0.9782766269172332, -1.2792013989961353, -2.752690032387768, -1.4893516592356755, -2.166485345633333, -1.103785451773649, -1.8343975275211897, -1.4423188631646655, 0.7957835259284773, -0.6756506230988977, -2.497074624256484, -1.2153370142209925, -0.03487277355473301, -2.6425837391764664, -2.3786952050662307, -1.9913613690768222, 0.6975339784144716, -0.7246503735572134, -1.6969056785525742, -2.547595514998152, -1.5181585293085966, -1.846318782842412, -1.5830807319254772, -0.4779140211379022, -0.22415983537668988, -0.6492158566776935, -0.9091954529041028, -0.5852799904325404, -2.7163479579856005, -1.2151875555539091, -0.4919248667952641, -1.05983014294667, -0.8390293495840007, 5.818343558598762, -1.3993651770486153, -0.45324259891308416, -1.7345131716060904]}],\n",
       "                        {\"template\": {\"data\": {\"bar\": [{\"error_x\": {\"color\": \"#2a3f5f\"}, \"error_y\": {\"color\": \"#2a3f5f\"}, \"marker\": {\"line\": {\"color\": \"#E5ECF6\", \"width\": 0.5}}, \"type\": \"bar\"}], \"barpolar\": [{\"marker\": {\"line\": {\"color\": \"#E5ECF6\", \"width\": 0.5}}, \"type\": \"barpolar\"}], \"carpet\": [{\"aaxis\": {\"endlinecolor\": \"#2a3f5f\", \"gridcolor\": \"white\", \"linecolor\": \"white\", \"minorgridcolor\": \"white\", \"startlinecolor\": \"#2a3f5f\"}, \"baxis\": {\"endlinecolor\": \"#2a3f5f\", \"gridcolor\": \"white\", \"linecolor\": \"white\", \"minorgridcolor\": \"white\", \"startlinecolor\": \"#2a3f5f\"}, \"type\": \"carpet\"}], \"choropleth\": [{\"colorbar\": {\"outlinewidth\": 0, \"ticks\": \"\"}, \"type\": \"choropleth\"}], \"contour\": [{\"colorbar\": {\"outlinewidth\": 0, \"ticks\": \"\"}, \"colorscale\": [[0.0, \"#0d0887\"], [0.1111111111111111, \"#46039f\"], [0.2222222222222222, \"#7201a8\"], [0.3333333333333333, \"#9c179e\"], [0.4444444444444444, \"#bd3786\"], [0.5555555555555556, \"#d8576b\"], [0.6666666666666666, \"#ed7953\"], [0.7777777777777778, \"#fb9f3a\"], [0.8888888888888888, \"#fdca26\"], [1.0, \"#f0f921\"]], \"type\": \"contour\"}], \"contourcarpet\": [{\"colorbar\": {\"outlinewidth\": 0, \"ticks\": \"\"}, \"type\": \"contourcarpet\"}], \"heatmap\": [{\"colorbar\": {\"outlinewidth\": 0, \"ticks\": \"\"}, \"colorscale\": [[0.0, \"#0d0887\"], [0.1111111111111111, \"#46039f\"], [0.2222222222222222, \"#7201a8\"], [0.3333333333333333, \"#9c179e\"], [0.4444444444444444, \"#bd3786\"], [0.5555555555555556, \"#d8576b\"], [0.6666666666666666, \"#ed7953\"], [0.7777777777777778, \"#fb9f3a\"], [0.8888888888888888, \"#fdca26\"], [1.0, \"#f0f921\"]], \"type\": \"heatmap\"}], \"heatmapgl\": [{\"colorbar\": {\"outlinewidth\": 0, \"ticks\": \"\"}, \"colorscale\": [[0.0, \"#0d0887\"], [0.1111111111111111, \"#46039f\"], [0.2222222222222222, \"#7201a8\"], [0.3333333333333333, \"#9c179e\"], [0.4444444444444444, \"#bd3786\"], [0.5555555555555556, \"#d8576b\"], [0.6666666666666666, \"#ed7953\"], [0.7777777777777778, \"#fb9f3a\"], [0.8888888888888888, \"#fdca26\"], [1.0, \"#f0f921\"]], \"type\": \"heatmapgl\"}], \"histogram\": [{\"marker\": {\"colorbar\": {\"outlinewidth\": 0, \"ticks\": \"\"}}, \"type\": \"histogram\"}], \"histogram2d\": [{\"colorbar\": {\"outlinewidth\": 0, \"ticks\": \"\"}, \"colorscale\": [[0.0, \"#0d0887\"], [0.1111111111111111, \"#46039f\"], [0.2222222222222222, \"#7201a8\"], [0.3333333333333333, \"#9c179e\"], [0.4444444444444444, \"#bd3786\"], [0.5555555555555556, \"#d8576b\"], [0.6666666666666666, \"#ed7953\"], [0.7777777777777778, \"#fb9f3a\"], [0.8888888888888888, \"#fdca26\"], [1.0, \"#f0f921\"]], \"type\": \"histogram2d\"}], \"histogram2dcontour\": [{\"colorbar\": {\"outlinewidth\": 0, \"ticks\": \"\"}, \"colorscale\": [[0.0, \"#0d0887\"], [0.1111111111111111, \"#46039f\"], [0.2222222222222222, \"#7201a8\"], [0.3333333333333333, \"#9c179e\"], [0.4444444444444444, \"#bd3786\"], [0.5555555555555556, \"#d8576b\"], [0.6666666666666666, \"#ed7953\"], [0.7777777777777778, \"#fb9f3a\"], [0.8888888888888888, \"#fdca26\"], [1.0, \"#f0f921\"]], \"type\": \"histogram2dcontour\"}], \"mesh3d\": [{\"colorbar\": {\"outlinewidth\": 0, \"ticks\": \"\"}, \"type\": \"mesh3d\"}], \"parcoords\": [{\"line\": {\"colorbar\": {\"outlinewidth\": 0, \"ticks\": \"\"}}, \"type\": \"parcoords\"}], \"pie\": [{\"automargin\": true, \"type\": \"pie\"}], \"scatter\": [{\"marker\": {\"colorbar\": {\"outlinewidth\": 0, \"ticks\": \"\"}}, \"type\": \"scatter\"}], \"scatter3d\": [{\"line\": {\"colorbar\": {\"outlinewidth\": 0, \"ticks\": \"\"}}, \"marker\": {\"colorbar\": {\"outlinewidth\": 0, \"ticks\": \"\"}}, \"type\": \"scatter3d\"}], \"scattercarpet\": [{\"marker\": {\"colorbar\": {\"outlinewidth\": 0, \"ticks\": \"\"}}, \"type\": \"scattercarpet\"}], \"scattergeo\": [{\"marker\": {\"colorbar\": {\"outlinewidth\": 0, \"ticks\": \"\"}}, \"type\": \"scattergeo\"}], \"scattergl\": [{\"marker\": {\"colorbar\": {\"outlinewidth\": 0, \"ticks\": \"\"}}, \"type\": \"scattergl\"}], \"scattermapbox\": [{\"marker\": {\"colorbar\": {\"outlinewidth\": 0, \"ticks\": \"\"}}, \"type\": \"scattermapbox\"}], \"scatterpolar\": [{\"marker\": {\"colorbar\": {\"outlinewidth\": 0, \"ticks\": \"\"}}, \"type\": \"scatterpolar\"}], \"scatterpolargl\": [{\"marker\": {\"colorbar\": {\"outlinewidth\": 0, \"ticks\": \"\"}}, \"type\": \"scatterpolargl\"}], \"scatterternary\": [{\"marker\": {\"colorbar\": {\"outlinewidth\": 0, \"ticks\": \"\"}}, \"type\": \"scatterternary\"}], \"surface\": [{\"colorbar\": {\"outlinewidth\": 0, \"ticks\": \"\"}, \"colorscale\": [[0.0, \"#0d0887\"], [0.1111111111111111, \"#46039f\"], [0.2222222222222222, \"#7201a8\"], [0.3333333333333333, \"#9c179e\"], [0.4444444444444444, \"#bd3786\"], [0.5555555555555556, \"#d8576b\"], [0.6666666666666666, \"#ed7953\"], [0.7777777777777778, \"#fb9f3a\"], [0.8888888888888888, \"#fdca26\"], [1.0, \"#f0f921\"]], \"type\": \"surface\"}], \"table\": [{\"cells\": {\"fill\": {\"color\": \"#EBF0F8\"}, \"line\": {\"color\": \"white\"}}, \"header\": {\"fill\": {\"color\": \"#C8D4E3\"}, \"line\": {\"color\": \"white\"}}, \"type\": \"table\"}]}, \"layout\": {\"annotationdefaults\": {\"arrowcolor\": \"#2a3f5f\", \"arrowhead\": 0, \"arrowwidth\": 1}, \"coloraxis\": {\"colorbar\": {\"outlinewidth\": 0, \"ticks\": \"\"}}, \"colorscale\": {\"diverging\": [[0, \"#8e0152\"], [0.1, \"#c51b7d\"], [0.2, \"#de77ae\"], [0.3, \"#f1b6da\"], [0.4, \"#fde0ef\"], [0.5, \"#f7f7f7\"], [0.6, \"#e6f5d0\"], [0.7, \"#b8e186\"], [0.8, \"#7fbc41\"], [0.9, \"#4d9221\"], [1, \"#276419\"]], \"sequential\": [[0.0, \"#0d0887\"], [0.1111111111111111, \"#46039f\"], [0.2222222222222222, \"#7201a8\"], [0.3333333333333333, \"#9c179e\"], [0.4444444444444444, \"#bd3786\"], [0.5555555555555556, \"#d8576b\"], [0.6666666666666666, \"#ed7953\"], [0.7777777777777778, \"#fb9f3a\"], [0.8888888888888888, \"#fdca26\"], [1.0, \"#f0f921\"]], \"sequentialminus\": [[0.0, \"#0d0887\"], [0.1111111111111111, \"#46039f\"], [0.2222222222222222, \"#7201a8\"], [0.3333333333333333, \"#9c179e\"], [0.4444444444444444, \"#bd3786\"], [0.5555555555555556, \"#d8576b\"], [0.6666666666666666, \"#ed7953\"], [0.7777777777777778, \"#fb9f3a\"], [0.8888888888888888, \"#fdca26\"], [1.0, \"#f0f921\"]]}, \"colorway\": [\"#636efa\", \"#EF553B\", \"#00cc96\", \"#ab63fa\", \"#FFA15A\", \"#19d3f3\", \"#FF6692\", \"#B6E880\", \"#FF97FF\", \"#FECB52\"], \"font\": {\"color\": \"#2a3f5f\"}, \"geo\": {\"bgcolor\": \"white\", \"lakecolor\": \"white\", \"landcolor\": \"#E5ECF6\", \"showlakes\": true, \"showland\": true, \"subunitcolor\": \"white\"}, \"hoverlabel\": {\"align\": \"left\"}, \"hovermode\": \"closest\", \"mapbox\": {\"style\": \"light\"}, \"paper_bgcolor\": \"white\", \"plot_bgcolor\": \"#E5ECF6\", \"polar\": {\"angularaxis\": {\"gridcolor\": \"white\", \"linecolor\": \"white\", \"ticks\": \"\"}, \"bgcolor\": \"#E5ECF6\", \"radialaxis\": {\"gridcolor\": \"white\", \"linecolor\": \"white\", \"ticks\": \"\"}}, \"scene\": {\"xaxis\": {\"backgroundcolor\": \"#E5ECF6\", \"gridcolor\": \"white\", \"gridwidth\": 2, \"linecolor\": \"white\", \"showbackground\": true, \"ticks\": \"\", \"zerolinecolor\": \"white\"}, \"yaxis\": {\"backgroundcolor\": \"#E5ECF6\", \"gridcolor\": \"white\", \"gridwidth\": 2, \"linecolor\": \"white\", \"showbackground\": true, \"ticks\": \"\", \"zerolinecolor\": \"white\"}, \"zaxis\": {\"backgroundcolor\": \"#E5ECF6\", \"gridcolor\": \"white\", \"gridwidth\": 2, \"linecolor\": \"white\", \"showbackground\": true, \"ticks\": \"\", \"zerolinecolor\": \"white\"}}, \"shapedefaults\": {\"line\": {\"color\": \"#2a3f5f\"}}, \"ternary\": {\"aaxis\": {\"gridcolor\": \"white\", \"linecolor\": \"white\", \"ticks\": \"\"}, \"baxis\": {\"gridcolor\": \"white\", \"linecolor\": \"white\", \"ticks\": \"\"}, \"bgcolor\": \"#E5ECF6\", \"caxis\": {\"gridcolor\": \"white\", \"linecolor\": \"white\", \"ticks\": \"\"}}, \"title\": {\"x\": 0.05}, \"xaxis\": {\"automargin\": true, \"gridcolor\": \"white\", \"linecolor\": \"white\", \"ticks\": \"\", \"title\": {\"standoff\": 15}, \"zerolinecolor\": \"white\", \"zerolinewidth\": 2}, \"yaxis\": {\"automargin\": true, \"gridcolor\": \"white\", \"linecolor\": \"white\", \"ticks\": \"\", \"title\": {\"standoff\": 15}, \"zerolinecolor\": \"white\", \"zerolinewidth\": 2}}}, \"title\": {\"text\": \"Visualizing Clusters in Two Dimensions Using PCA\"}, \"xaxis\": {\"ticklen\": 5, \"title\": {\"text\": \"PC1\"}, \"zeroline\": false}, \"yaxis\": {\"ticklen\": 5, \"title\": {\"text\": \"PC2\"}, \"zeroline\": false}},\n",
       "                        {\"responsive\": true}\n",
       "                    ).then(function(){\n",
       "                            \n",
       "var gd = document.getElementById('7a52884c-d638-46dd-bc46-3258586fc3b6');\n",
       "var x = new MutationObserver(function (mutations, observer) {{\n",
       "        var display = window.getComputedStyle(gd).display;\n",
       "        if (!display || display === 'none') {{\n",
       "            console.log([gd, 'removed!']);\n",
       "            Plotly.purge(gd);\n",
       "            observer.disconnect();\n",
       "        }}\n",
       "}});\n",
       "\n",
       "// Listen for the removal of the full notebook cells\n",
       "var notebookContainer = gd.closest('#notebook-container');\n",
       "if (notebookContainer) {{\n",
       "    x.observe(notebookContainer, {childList: true});\n",
       "}}\n",
       "\n",
       "// Listen for the clearing of the current output cell\n",
       "var outputEl = gd.closest('.output');\n",
       "if (outputEl) {{\n",
       "    x.observe(outputEl, {childList: true});\n",
       "}}\n",
       "\n",
       "                        })\n",
       "                };\n",
       "                });\n",
       "            </script>\n",
       "        </div>"
      ]
     },
     "metadata": {},
     "output_type": "display_data"
    }
   ],
   "source": [
    "#Instructions for building the 2-D plot\n",
    "\n",
    "#trace1 is for 'Cluster 0'\n",
    "trace1 = go.Scatter(\n",
    "                    x = cluster0[\"PC1_2d\"],\n",
    "                    y = cluster0[\"PC2_2d\"],\n",
    "                    mode = \"markers\",\n",
    "                    name = \"Cluster 0\",\n",
    "                    marker = dict(color = 'rgba(255, 128, 255, 0.8)'),\n",
    "                    text = cluster0.index)\n",
    "\n",
    "#trace2 is for 'Cluster 1'\n",
    "trace2 = go.Scatter(\n",
    "                    x = cluster1[\"PC1_2d\"],\n",
    "                    y = cluster1[\"PC2_2d\"],\n",
    "                    mode = \"markers\",\n",
    "                    name = \"Cluster 1\",\n",
    "                    marker = dict(color = 'rgba(255, 128, 2, 0.8)'),\n",
    "                    text = cluster1.index)\n",
    "\n",
    "#trace3 is for 'Cluster 2'\n",
    "trace3 = go.Scatter(\n",
    "                    x = cluster2[\"PC1_2d\"],\n",
    "                    y = cluster2[\"PC2_2d\"],\n",
    "                    mode = \"markers\",\n",
    "                    name = \"Cluster 2\",\n",
    "                    marker = dict(color = 'rgba(0, 255, 200, 0.8)'),\n",
    "                    text = cluster2.index)\n",
    "\n",
    "data = [trace1, trace2, trace3]\n",
    "\n",
    "title = \"Visualizing Clusters in Two Dimensions Using PCA\"\n",
    "\n",
    "layout = dict(title = title,\n",
    "              xaxis= dict(title= 'PC1',ticklen= 5,zeroline= False),\n",
    "              yaxis= dict(title= 'PC2',ticklen= 5,zeroline= False)\n",
    "             )\n",
    "\n",
    "fig = dict(data = data, layout = layout)\n",
    "\n",
    "iplot(fig)"
   ]
  },
  {
   "cell_type": "code",
   "execution_count": 113,
   "metadata": {},
   "outputs": [
    {
     "data": {
      "application/vnd.plotly.v1+json": {
       "config": {
        "linkText": "Export to plot.ly",
        "plotlyServerURL": "https://plot.ly",
        "showLink": false
       },
       "data": [
        {
         "marker": {
          "color": "rgba(255, 128, 255, 0.8)"
         },
         "mode": "markers",
         "name": "Cluster 0",
         "text": [
          "Sierra Leone",
          "Kenya",
          "Liechtenstein",
          "Ethiopia",
          "Sudan",
          "Benin",
          "West Bank and Gaza",
          "India",
          "Somalia",
          "Honduras",
          "Equatorial Guinea",
          "Bolivia",
          "Guinea-Bissau",
          "Zambia",
          "Bangladesh",
          "Indonesia",
          "Jamaica",
          "South Africa",
          "Angola",
          "Cote d'Ivoire",
          "Timor-Leste",
          "Kosovo",
          "Mali",
          "Gabon",
          "Malawi",
          "Mauritania",
          "Mozambique",
          "Haiti",
          "Guyana",
          "Philippines",
          "Ghana",
          "Madagascar",
          "Central African Republic",
          "Namibia",
          "Guatemala",
          "Cambodia",
          "Burundi",
          "Tanzania",
          "Zimbabwe",
          "Sao Tome and Principe",
          "Burkina Faso",
          "Senegal",
          "Papua New Guinea",
          "Guinea",
          "Rwanda",
          "Chad",
          "Niger",
          "Bhutan",
          "Cabo Verde",
          "Cameroon",
          "Pakistan"
         ],
         "type": "scatter3d",
         "x": [
          -2.177284523870218,
          -2.2838048285140324,
          -1.7135136137592706,
          -2.4773462467144483,
          -2.067025758262745,
          -2.216408068974392,
          -1.2644037751173307,
          1.7374713538830227,
          -3.4199849927569574,
          -1.016676100493426,
          -2.206298428722183,
          -0.9025650960110025,
          -2.413558441598424,
          -2.0196099536237133,
          -1.5622108234010215,
          -0.11740355704182194,
          -0.7828611919769302,
          -0.5050474824219434,
          -2.2386192795025095,
          -1.9660453596506093,
          -0.8181767257216281,
          -1.7682942547883351,
          -2.419332157894093,
          -0.8492722934095444,
          -2.1725503337418925,
          -2.2921789567989523,
          -2.6598012889213503,
          -1.8431086250330506,
          -1.010657497079745,
          -1.1070452383479503,
          -1.8350189309048546,
          -2.5733332642333617,
          -3.0206525564452593,
          -1.3825729562392588,
          -1.2691369391330707,
          -1.4467562964586604,
          -2.341567892978231,
          -2.086501184159709,
          -1.6516331438408474,
          -1.548735125342281,
          -2.412145726181726,
          -1.910114074389845,
          -1.1836015039372842,
          -2.2535811322213624,
          -2.098671243152892,
          -3.264202430003111,
          -3.1677679135098136,
          -1.3304956114780935,
          -1.1676762786099248,
          -2.0129335801775436,
          -1.6177309049426494
         ],
         "y": [
          1.4250193930747967,
          1.7771137958969376,
          1.4126910469686957,
          2.3148505559503767,
          1.764188373238008,
          1.5472672338839437,
          0.5807093345289264,
          5.545246357680421,
          3.0706684706261873,
          -0.1094025005789873,
          1.374803663074302,
          0.13222227606286435,
          1.6824626369386464,
          1.0330085686322918,
          1.4437640132564324,
          1.180376648038768,
          -0.16103815186970394,
          0.7616484187808985,
          1.498306175142891,
          1.3142901541970222,
          -0.00031167580348544975,
          1.5066282650325964,
          1.87077793809943,
          -0.08702094168683319,
          1.3993613857796947,
          1.4486883196534088,
          1.8560638825167985,
          0.9642817184557758,
          -0.06095893917474226,
          0.7631182823883128,
          1.0613180944069651,
          1.7595494484203904,
          2.581251964413558,
          0.19224633450068043,
          0.484687444773968,
          0.22256737064637758,
          1.635957543600273,
          1.6072811769977984,
          0.9408121786747522,
          0.5623991226776826,
          1.7814143451696478,
          1.2703827112993276,
          0.3388301543927938,
          1.557024062265587,
          1.3113846134776146,
          2.888006448024563,
          2.802018141266468,
          0.4700190610301344,
          0.2571920519916036,
          1.5085087626868023,
          2.069404155721936
         ],
         "z": [
          0.6311358575482188,
          0.11416491853878855,
          3.9615748653460643,
          0.760554165745756,
          -0.5929816278070893,
          0.6431814293800899,
          0.7473186374734258,
          -3.3296219815258823,
          1.4650294418651988,
          -0.6374764388953855,
          0.5373011898306891,
          -0.11444821101959278,
          0.6564652125092555,
          -0.5570765307211379,
          -0.5407761787766385,
          -0.48864981504129923,
          -0.3427032802133985,
          -1.2436229487697037,
          0.46145660039919933,
          0.590983374648691,
          1.0121620293419835,
          3.9195912884870516,
          0.6880821653481399,
          -0.49383295144765815,
          0.46822328455581613,
          -0.30122136837558505,
          0.15448807323128,
          0.3327733776821732,
          -0.6835806608054703,
          0.22734524866712885,
          -0.4662555164835925,
          0.24616118093678668,
          1.3631366709318937,
          -1.146489627492773,
          0.10725542450769186,
          -0.44905566986800666,
          0.6172563487167941,
          0.01220542781020193,
          0.2071967486462642,
          -0.5870593942624012,
          0.20164292513263224,
          0.2006915155874604,
          1.4087743517979217,
          1.482342951741459,
          0.16295377998449884,
          1.538348503046745,
          0.26775184733448015,
          -0.13626279671299688,
          -0.7092269950939216,
          -0.1241993895859475,
          -0.08770854079629439
         ]
        },
        {
         "marker": {
          "color": "rgba(255, 128, 2, 0.8)"
         },
         "mode": "markers",
         "name": "Cluster 1",
         "text": [
          "United States"
         ],
         "type": "scatter3d",
         "x": [
          16.11691309315417
         ],
         "y": [
          11.514088622708696
         ],
         "z": [
          1.592708665151608
         ]
        },
        {
         "marker": {
          "color": "rgba(0, 255, 200, 0.8)"
         },
         "mode": "markers",
         "name": "Cluster 2",
         "text": [
          "Slovenia",
          "Fiji",
          "Malta",
          "Paraguay",
          "Croatia",
          "Mongolia",
          "Denmark",
          "Ukraine",
          "Germany",
          "Algeria",
          "Azerbaijan",
          "Cyprus",
          "Bahrain",
          "Belgium",
          "Singapore",
          "Japan",
          "Andorra",
          "Morocco",
          "Spain",
          "Chile",
          "Brazil",
          "Kazakhstan",
          "Monaco",
          "Dominican Republic",
          "Mexico",
          "Mauritius",
          "Nicaragua",
          "Tunisia",
          "Uzbekistan",
          "Lebanon",
          "Finland",
          "Georgia",
          "Saudi Arabia",
          "Italy",
          "United Kingdom",
          "United Arab Emirates",
          "Albania",
          "Peru",
          "Suriname",
          "Moldova",
          "Lithuania",
          "Israel",
          "Netherlands",
          "Maldives",
          "Greece",
          "Serbia",
          "Turkey",
          "Antigua and Barbuda",
          "Estonia",
          "Cuba",
          "Ecuador",
          "Belarus",
          "Latvia",
          "Austria",
          "France",
          "Grenada",
          "Portugal",
          "Luxembourg",
          "Sweden",
          "Iceland",
          "San Marino",
          "El Salvador",
          "Belize",
          "Panama",
          "Costa Rica",
          "Dominica",
          "Hungary",
          "Qatar",
          "Oman",
          "Trinidad and Tobago",
          "Armenia",
          "China",
          "Uruguay",
          "Thailand",
          "Norway"
         ],
         "type": "scatter3d",
         "x": [
          1.197499606754023,
          -0.21503680797660787,
          1.58348693407272,
          -0.5231642695095009,
          1.0972019935459345,
          -0.5213306301856749,
          1.7546038181652213,
          0.8552888378893608,
          4.475587933841333,
          -0.1997672632747716,
          -0.13689450269506667,
          0.8084940388682352,
          0.18166943706815786,
          2.902606504903773,
          1.9982427005372492,
          3.6543036365922417,
          0.168934915689243,
          -0.36904962735198993,
          4.678319066061324,
          0.5193484682787993,
          1.2840055113465605,
          1.016125381892435,
          1.8853351533061342,
          -0.27332578878251246,
          0.6155346206041717,
          0.15650634916185516,
          -0.7642743296653749,
          0.05785777384753681,
          -0.0985964613863787,
          -0.5970574533073553,
          1.9856250694331865,
          0.06058077731511054,
          0.07703102608917026,
          4.807550002894758,
          3.9762490256125167,
          0.8355748894507649,
          0.3889736128740537,
          -0.39604391860264027,
          -0.3103290097486013,
          0.18951124256449453,
          1.5461550444807122,
          0.9788101017162406,
          2.553201325163996,
          -0.14212053832937088,
          1.281138591997597,
          0.5281047909405151,
          0.5599694094361125,
          -0.21248111863888042,
          1.3553628173879984,
          0.670898476300222,
          -0.5965175178880048,
          1.5165493047219887,
          1.3666661575445067,
          1.9804191707918808,
          5.177791254485726,
          -0.21903614122320259,
          1.399899149173564,
          2.3388728884421828,
          2.083675622212648,
          1.5269100813580916,
          0.78487237402544,
          -0.43945726407539487,
          -0.661042753923393,
          -0.126840471638914,
          0.05891123528114499,
          -0.08978766304909858,
          1.7906613630310526,
          0.8459292683538703,
          -0.503037607189619,
          0.06268810303567854,
          -0.17507252352494782,
          5.277738909926889,
          0.6579048903844469,
          0.13701802444124256,
          1.8895961141252933
         ],
         "y": [
          -2.482055242645868,
          -0.9092726321935686,
          -2.5157160425666274,
          -0.43629192771734454,
          -1.930190051452617,
          -0.7582277812871254,
          -1.7985831204726515,
          -0.8657502850149023,
          -0.3991881161924213,
          -0.22721433389810436,
          -0.9103913880903293,
          -1.7388438062994422,
          -1.192963075769516,
          -2.487745128289753,
          -3.6817823028849137,
          -2.07066762658119,
          -0.8483698755238815,
          -0.2585956157270647,
          0.8243410787559385,
          -1.0577491468337632,
          1.1741872581580015,
          -1.2438475894922676,
          -3.6204287324406716,
          -0.5607267358865247,
          -0.10709469942187329,
          -1.1345938896153738,
          -0.3463340656424066,
          -0.957650052410063,
          -0.658909680456749,
          -0.3128071372337117,
          -1.946810927026701,
          -1.0532918145015517,
          -0.30748221887972166,
          0.7924032317588189,
          0.7946223363258349,
          -1.6288780453154437,
          -1.3387792705973254,
          -0.021153275284272997,
          -0.9782766269172332,
          -1.2792013989961353,
          -2.752690032387768,
          -1.4893516592356755,
          -2.166485345633333,
          -1.103785451773649,
          -1.8343975275211897,
          -1.4423188631646655,
          0.7957835259284773,
          -0.6756506230988977,
          -2.497074624256484,
          -1.2153370142209925,
          -0.03487277355473301,
          -2.6425837391764664,
          -2.3786952050662307,
          -1.9913613690768222,
          0.6975339784144716,
          -0.7246503735572134,
          -1.6969056785525742,
          -2.547595514998152,
          -1.5181585293085966,
          -1.846318782842412,
          -1.5830807319254772,
          -0.4779140211379022,
          -0.22415983537668988,
          -0.6492158566776935,
          -0.9091954529041028,
          -0.5852799904325404,
          -2.7163479579856005,
          -1.2151875555539091,
          -0.4919248667952641,
          -1.05983014294667,
          -0.8390293495840007,
          5.818343558598762,
          -1.3993651770486153,
          -0.45324259891308416,
          -1.7345131716060904
         ],
         "z": [
          -1.1152984023857166,
          -0.4354663490858533,
          -0.054282168995391636,
          -0.22828523296992465,
          -0.6639472476447955,
          -1.1686210328865798,
          0.8707994662464112,
          -0.21772924267171792,
          1.2512239326320886,
          -0.7648536359122419,
          -0.6617846426974281,
          -0.6789456768139989,
          -0.7134200187884312,
          0.42325973740700507,
          0.5563537720844457,
          1.4172588032192805,
          1.5292600819809237,
          -0.7400976672154659,
          -0.2601061443501936,
          -0.7078238087766942,
          -0.826096538560336,
          -0.23435129756505993,
          8.166726592830967,
          -0.3553333578745177,
          -0.7697380849057507,
          -0.2373104229001948,
          -0.5770017429392542,
          -1.25563443296371,
          -0.5288350697497562,
          -0.31929229636285794,
          1.002688287571355,
          -1.3250516202222908,
          -1.4628364920972117,
          -0.15359800805534074,
          1.3708326625941225,
          -1.3149847035032551,
          -0.9042255075492598,
          -0.18636431969445694,
          -1.0846942152246408,
          -0.40450683879521737,
          -0.8331647076086646,
          -0.24966611558347973,
          0.5968814850826909,
          0.21168876557051028,
          -1.1293223381841522,
          -1.4764650707713518,
          -1.8910206865202683,
          0.1372925844494569,
          -0.7436276031471546,
          -0.021291316176626243,
          -0.028678791118170524,
          -0.7721010238557044,
          -0.8236855357379673,
          1.2586385914456493,
          1.43899033995243,
          0.04040353990423845,
          -0.5808054012264873,
          0.9877945195431257,
          0.7686313871511568,
          1.2559477110604178,
          0.7139262692285685,
          -0.11560759434398164,
          -0.22641538649537932,
          -0.10753043008622346,
          -0.8270055622175124,
          1.5073443518990322,
          -1.0943958560129354,
          -1.4857638511283424,
          -1.0321784015694526,
          -0.5535557247577158,
          -1.3322624292640826,
          -3.4676454948350894,
          -0.5032241660096338,
          -0.7659295819198345,
          1.1579088286432666
         ]
        }
       ],
       "layout": {
        "template": {
         "data": {
          "bar": [
           {
            "error_x": {
             "color": "#2a3f5f"
            },
            "error_y": {
             "color": "#2a3f5f"
            },
            "marker": {
             "line": {
              "color": "#E5ECF6",
              "width": 0.5
             }
            },
            "type": "bar"
           }
          ],
          "barpolar": [
           {
            "marker": {
             "line": {
              "color": "#E5ECF6",
              "width": 0.5
             }
            },
            "type": "barpolar"
           }
          ],
          "carpet": [
           {
            "aaxis": {
             "endlinecolor": "#2a3f5f",
             "gridcolor": "white",
             "linecolor": "white",
             "minorgridcolor": "white",
             "startlinecolor": "#2a3f5f"
            },
            "baxis": {
             "endlinecolor": "#2a3f5f",
             "gridcolor": "white",
             "linecolor": "white",
             "minorgridcolor": "white",
             "startlinecolor": "#2a3f5f"
            },
            "type": "carpet"
           }
          ],
          "choropleth": [
           {
            "colorbar": {
             "outlinewidth": 0,
             "ticks": ""
            },
            "type": "choropleth"
           }
          ],
          "contour": [
           {
            "colorbar": {
             "outlinewidth": 0,
             "ticks": ""
            },
            "colorscale": [
             [
              0,
              "#0d0887"
             ],
             [
              0.1111111111111111,
              "#46039f"
             ],
             [
              0.2222222222222222,
              "#7201a8"
             ],
             [
              0.3333333333333333,
              "#9c179e"
             ],
             [
              0.4444444444444444,
              "#bd3786"
             ],
             [
              0.5555555555555556,
              "#d8576b"
             ],
             [
              0.6666666666666666,
              "#ed7953"
             ],
             [
              0.7777777777777778,
              "#fb9f3a"
             ],
             [
              0.8888888888888888,
              "#fdca26"
             ],
             [
              1,
              "#f0f921"
             ]
            ],
            "type": "contour"
           }
          ],
          "contourcarpet": [
           {
            "colorbar": {
             "outlinewidth": 0,
             "ticks": ""
            },
            "type": "contourcarpet"
           }
          ],
          "heatmap": [
           {
            "colorbar": {
             "outlinewidth": 0,
             "ticks": ""
            },
            "colorscale": [
             [
              0,
              "#0d0887"
             ],
             [
              0.1111111111111111,
              "#46039f"
             ],
             [
              0.2222222222222222,
              "#7201a8"
             ],
             [
              0.3333333333333333,
              "#9c179e"
             ],
             [
              0.4444444444444444,
              "#bd3786"
             ],
             [
              0.5555555555555556,
              "#d8576b"
             ],
             [
              0.6666666666666666,
              "#ed7953"
             ],
             [
              0.7777777777777778,
              "#fb9f3a"
             ],
             [
              0.8888888888888888,
              "#fdca26"
             ],
             [
              1,
              "#f0f921"
             ]
            ],
            "type": "heatmap"
           }
          ],
          "heatmapgl": [
           {
            "colorbar": {
             "outlinewidth": 0,
             "ticks": ""
            },
            "colorscale": [
             [
              0,
              "#0d0887"
             ],
             [
              0.1111111111111111,
              "#46039f"
             ],
             [
              0.2222222222222222,
              "#7201a8"
             ],
             [
              0.3333333333333333,
              "#9c179e"
             ],
             [
              0.4444444444444444,
              "#bd3786"
             ],
             [
              0.5555555555555556,
              "#d8576b"
             ],
             [
              0.6666666666666666,
              "#ed7953"
             ],
             [
              0.7777777777777778,
              "#fb9f3a"
             ],
             [
              0.8888888888888888,
              "#fdca26"
             ],
             [
              1,
              "#f0f921"
             ]
            ],
            "type": "heatmapgl"
           }
          ],
          "histogram": [
           {
            "marker": {
             "colorbar": {
              "outlinewidth": 0,
              "ticks": ""
             }
            },
            "type": "histogram"
           }
          ],
          "histogram2d": [
           {
            "colorbar": {
             "outlinewidth": 0,
             "ticks": ""
            },
            "colorscale": [
             [
              0,
              "#0d0887"
             ],
             [
              0.1111111111111111,
              "#46039f"
             ],
             [
              0.2222222222222222,
              "#7201a8"
             ],
             [
              0.3333333333333333,
              "#9c179e"
             ],
             [
              0.4444444444444444,
              "#bd3786"
             ],
             [
              0.5555555555555556,
              "#d8576b"
             ],
             [
              0.6666666666666666,
              "#ed7953"
             ],
             [
              0.7777777777777778,
              "#fb9f3a"
             ],
             [
              0.8888888888888888,
              "#fdca26"
             ],
             [
              1,
              "#f0f921"
             ]
            ],
            "type": "histogram2d"
           }
          ],
          "histogram2dcontour": [
           {
            "colorbar": {
             "outlinewidth": 0,
             "ticks": ""
            },
            "colorscale": [
             [
              0,
              "#0d0887"
             ],
             [
              0.1111111111111111,
              "#46039f"
             ],
             [
              0.2222222222222222,
              "#7201a8"
             ],
             [
              0.3333333333333333,
              "#9c179e"
             ],
             [
              0.4444444444444444,
              "#bd3786"
             ],
             [
              0.5555555555555556,
              "#d8576b"
             ],
             [
              0.6666666666666666,
              "#ed7953"
             ],
             [
              0.7777777777777778,
              "#fb9f3a"
             ],
             [
              0.8888888888888888,
              "#fdca26"
             ],
             [
              1,
              "#f0f921"
             ]
            ],
            "type": "histogram2dcontour"
           }
          ],
          "mesh3d": [
           {
            "colorbar": {
             "outlinewidth": 0,
             "ticks": ""
            },
            "type": "mesh3d"
           }
          ],
          "parcoords": [
           {
            "line": {
             "colorbar": {
              "outlinewidth": 0,
              "ticks": ""
             }
            },
            "type": "parcoords"
           }
          ],
          "pie": [
           {
            "automargin": true,
            "type": "pie"
           }
          ],
          "scatter": [
           {
            "marker": {
             "colorbar": {
              "outlinewidth": 0,
              "ticks": ""
             }
            },
            "type": "scatter"
           }
          ],
          "scatter3d": [
           {
            "line": {
             "colorbar": {
              "outlinewidth": 0,
              "ticks": ""
             }
            },
            "marker": {
             "colorbar": {
              "outlinewidth": 0,
              "ticks": ""
             }
            },
            "type": "scatter3d"
           }
          ],
          "scattercarpet": [
           {
            "marker": {
             "colorbar": {
              "outlinewidth": 0,
              "ticks": ""
             }
            },
            "type": "scattercarpet"
           }
          ],
          "scattergeo": [
           {
            "marker": {
             "colorbar": {
              "outlinewidth": 0,
              "ticks": ""
             }
            },
            "type": "scattergeo"
           }
          ],
          "scattergl": [
           {
            "marker": {
             "colorbar": {
              "outlinewidth": 0,
              "ticks": ""
             }
            },
            "type": "scattergl"
           }
          ],
          "scattermapbox": [
           {
            "marker": {
             "colorbar": {
              "outlinewidth": 0,
              "ticks": ""
             }
            },
            "type": "scattermapbox"
           }
          ],
          "scatterpolar": [
           {
            "marker": {
             "colorbar": {
              "outlinewidth": 0,
              "ticks": ""
             }
            },
            "type": "scatterpolar"
           }
          ],
          "scatterpolargl": [
           {
            "marker": {
             "colorbar": {
              "outlinewidth": 0,
              "ticks": ""
             }
            },
            "type": "scatterpolargl"
           }
          ],
          "scatterternary": [
           {
            "marker": {
             "colorbar": {
              "outlinewidth": 0,
              "ticks": ""
             }
            },
            "type": "scatterternary"
           }
          ],
          "surface": [
           {
            "colorbar": {
             "outlinewidth": 0,
             "ticks": ""
            },
            "colorscale": [
             [
              0,
              "#0d0887"
             ],
             [
              0.1111111111111111,
              "#46039f"
             ],
             [
              0.2222222222222222,
              "#7201a8"
             ],
             [
              0.3333333333333333,
              "#9c179e"
             ],
             [
              0.4444444444444444,
              "#bd3786"
             ],
             [
              0.5555555555555556,
              "#d8576b"
             ],
             [
              0.6666666666666666,
              "#ed7953"
             ],
             [
              0.7777777777777778,
              "#fb9f3a"
             ],
             [
              0.8888888888888888,
              "#fdca26"
             ],
             [
              1,
              "#f0f921"
             ]
            ],
            "type": "surface"
           }
          ],
          "table": [
           {
            "cells": {
             "fill": {
              "color": "#EBF0F8"
             },
             "line": {
              "color": "white"
             }
            },
            "header": {
             "fill": {
              "color": "#C8D4E3"
             },
             "line": {
              "color": "white"
             }
            },
            "type": "table"
           }
          ]
         },
         "layout": {
          "annotationdefaults": {
           "arrowcolor": "#2a3f5f",
           "arrowhead": 0,
           "arrowwidth": 1
          },
          "coloraxis": {
           "colorbar": {
            "outlinewidth": 0,
            "ticks": ""
           }
          },
          "colorscale": {
           "diverging": [
            [
             0,
             "#8e0152"
            ],
            [
             0.1,
             "#c51b7d"
            ],
            [
             0.2,
             "#de77ae"
            ],
            [
             0.3,
             "#f1b6da"
            ],
            [
             0.4,
             "#fde0ef"
            ],
            [
             0.5,
             "#f7f7f7"
            ],
            [
             0.6,
             "#e6f5d0"
            ],
            [
             0.7,
             "#b8e186"
            ],
            [
             0.8,
             "#7fbc41"
            ],
            [
             0.9,
             "#4d9221"
            ],
            [
             1,
             "#276419"
            ]
           ],
           "sequential": [
            [
             0,
             "#0d0887"
            ],
            [
             0.1111111111111111,
             "#46039f"
            ],
            [
             0.2222222222222222,
             "#7201a8"
            ],
            [
             0.3333333333333333,
             "#9c179e"
            ],
            [
             0.4444444444444444,
             "#bd3786"
            ],
            [
             0.5555555555555556,
             "#d8576b"
            ],
            [
             0.6666666666666666,
             "#ed7953"
            ],
            [
             0.7777777777777778,
             "#fb9f3a"
            ],
            [
             0.8888888888888888,
             "#fdca26"
            ],
            [
             1,
             "#f0f921"
            ]
           ],
           "sequentialminus": [
            [
             0,
             "#0d0887"
            ],
            [
             0.1111111111111111,
             "#46039f"
            ],
            [
             0.2222222222222222,
             "#7201a8"
            ],
            [
             0.3333333333333333,
             "#9c179e"
            ],
            [
             0.4444444444444444,
             "#bd3786"
            ],
            [
             0.5555555555555556,
             "#d8576b"
            ],
            [
             0.6666666666666666,
             "#ed7953"
            ],
            [
             0.7777777777777778,
             "#fb9f3a"
            ],
            [
             0.8888888888888888,
             "#fdca26"
            ],
            [
             1,
             "#f0f921"
            ]
           ]
          },
          "colorway": [
           "#636efa",
           "#EF553B",
           "#00cc96",
           "#ab63fa",
           "#FFA15A",
           "#19d3f3",
           "#FF6692",
           "#B6E880",
           "#FF97FF",
           "#FECB52"
          ],
          "font": {
           "color": "#2a3f5f"
          },
          "geo": {
           "bgcolor": "white",
           "lakecolor": "white",
           "landcolor": "#E5ECF6",
           "showlakes": true,
           "showland": true,
           "subunitcolor": "white"
          },
          "hoverlabel": {
           "align": "left"
          },
          "hovermode": "closest",
          "mapbox": {
           "style": "light"
          },
          "paper_bgcolor": "white",
          "plot_bgcolor": "#E5ECF6",
          "polar": {
           "angularaxis": {
            "gridcolor": "white",
            "linecolor": "white",
            "ticks": ""
           },
           "bgcolor": "#E5ECF6",
           "radialaxis": {
            "gridcolor": "white",
            "linecolor": "white",
            "ticks": ""
           }
          },
          "scene": {
           "xaxis": {
            "backgroundcolor": "#E5ECF6",
            "gridcolor": "white",
            "gridwidth": 2,
            "linecolor": "white",
            "showbackground": true,
            "ticks": "",
            "zerolinecolor": "white"
           },
           "yaxis": {
            "backgroundcolor": "#E5ECF6",
            "gridcolor": "white",
            "gridwidth": 2,
            "linecolor": "white",
            "showbackground": true,
            "ticks": "",
            "zerolinecolor": "white"
           },
           "zaxis": {
            "backgroundcolor": "#E5ECF6",
            "gridcolor": "white",
            "gridwidth": 2,
            "linecolor": "white",
            "showbackground": true,
            "ticks": "",
            "zerolinecolor": "white"
           }
          },
          "shapedefaults": {
           "line": {
            "color": "#2a3f5f"
           }
          },
          "ternary": {
           "aaxis": {
            "gridcolor": "white",
            "linecolor": "white",
            "ticks": ""
           },
           "baxis": {
            "gridcolor": "white",
            "linecolor": "white",
            "ticks": ""
           },
           "bgcolor": "#E5ECF6",
           "caxis": {
            "gridcolor": "white",
            "linecolor": "white",
            "ticks": ""
           }
          },
          "title": {
           "x": 0.05
          },
          "xaxis": {
           "automargin": true,
           "gridcolor": "white",
           "linecolor": "white",
           "ticks": "",
           "title": {
            "standoff": 15
           },
           "zerolinecolor": "white",
           "zerolinewidth": 2
          },
          "yaxis": {
           "automargin": true,
           "gridcolor": "white",
           "linecolor": "white",
           "ticks": "",
           "title": {
            "standoff": 15
           },
           "zerolinecolor": "white",
           "zerolinewidth": 2
          }
         }
        },
        "title": {
         "text": "Visualizing Clusters in Three Dimensions Using PCA"
        },
        "xaxis": {
         "ticklen": 5,
         "title": {
          "text": "PC1"
         },
         "zeroline": false
        },
        "yaxis": {
         "ticklen": 5,
         "title": {
          "text": "PC2"
         },
         "zeroline": false
        }
       }
      },
      "text/html": [
       "<div>\n",
       "        \n",
       "        \n",
       "            <div id=\"a6accb32-f158-479c-a705-e395b28f4e63\" class=\"plotly-graph-div\" style=\"height:525px; width:100%;\"></div>\n",
       "            <script type=\"text/javascript\">\n",
       "                require([\"plotly\"], function(Plotly) {\n",
       "                    window.PLOTLYENV=window.PLOTLYENV || {};\n",
       "                    \n",
       "                if (document.getElementById(\"a6accb32-f158-479c-a705-e395b28f4e63\")) {\n",
       "                    Plotly.newPlot(\n",
       "                        'a6accb32-f158-479c-a705-e395b28f4e63',\n",
       "                        [{\"marker\": {\"color\": \"rgba(255, 128, 255, 0.8)\"}, \"mode\": \"markers\", \"name\": \"Cluster 0\", \"text\": [\"Sierra Leone\", \"Kenya\", \"Liechtenstein\", \"Ethiopia\", \"Sudan\", \"Benin\", \"West Bank and Gaza\", \"India\", \"Somalia\", \"Honduras\", \"Equatorial Guinea\", \"Bolivia\", \"Guinea-Bissau\", \"Zambia\", \"Bangladesh\", \"Indonesia\", \"Jamaica\", \"South Africa\", \"Angola\", \"Cote d'Ivoire\", \"Timor-Leste\", \"Kosovo\", \"Mali\", \"Gabon\", \"Malawi\", \"Mauritania\", \"Mozambique\", \"Haiti\", \"Guyana\", \"Philippines\", \"Ghana\", \"Madagascar\", \"Central African Republic\", \"Namibia\", \"Guatemala\", \"Cambodia\", \"Burundi\", \"Tanzania\", \"Zimbabwe\", \"Sao Tome and Principe\", \"Burkina Faso\", \"Senegal\", \"Papua New Guinea\", \"Guinea\", \"Rwanda\", \"Chad\", \"Niger\", \"Bhutan\", \"Cabo Verde\", \"Cameroon\", \"Pakistan\"], \"type\": \"scatter3d\", \"x\": [-2.177284523870218, -2.2838048285140324, -1.7135136137592706, -2.4773462467144483, -2.067025758262745, -2.216408068974392, -1.2644037751173307, 1.7374713538830227, -3.4199849927569574, -1.016676100493426, -2.206298428722183, -0.9025650960110025, -2.413558441598424, -2.0196099536237133, -1.5622108234010215, -0.11740355704182194, -0.7828611919769302, -0.5050474824219434, -2.2386192795025095, -1.9660453596506093, -0.8181767257216281, -1.7682942547883351, -2.419332157894093, -0.8492722934095444, -2.1725503337418925, -2.2921789567989523, -2.6598012889213503, -1.8431086250330506, -1.010657497079745, -1.1070452383479503, -1.8350189309048546, -2.5733332642333617, -3.0206525564452593, -1.3825729562392588, -1.2691369391330707, -1.4467562964586604, -2.341567892978231, -2.086501184159709, -1.6516331438408474, -1.548735125342281, -2.412145726181726, -1.910114074389845, -1.1836015039372842, -2.2535811322213624, -2.098671243152892, -3.264202430003111, -3.1677679135098136, -1.3304956114780935, -1.1676762786099248, -2.0129335801775436, -1.6177309049426494], \"y\": [1.4250193930747967, 1.7771137958969376, 1.4126910469686957, 2.3148505559503767, 1.764188373238008, 1.5472672338839437, 0.5807093345289264, 5.545246357680421, 3.0706684706261873, -0.1094025005789873, 1.374803663074302, 0.13222227606286435, 1.6824626369386464, 1.0330085686322918, 1.4437640132564324, 1.180376648038768, -0.16103815186970394, 0.7616484187808985, 1.498306175142891, 1.3142901541970222, -0.00031167580348544975, 1.5066282650325964, 1.87077793809943, -0.08702094168683319, 1.3993613857796947, 1.4486883196534088, 1.8560638825167985, 0.9642817184557758, -0.06095893917474226, 0.7631182823883128, 1.0613180944069651, 1.7595494484203904, 2.581251964413558, 0.19224633450068043, 0.484687444773968, 0.22256737064637758, 1.635957543600273, 1.6072811769977984, 0.9408121786747522, 0.5623991226776826, 1.7814143451696478, 1.2703827112993276, 0.3388301543927938, 1.557024062265587, 1.3113846134776146, 2.888006448024563, 2.802018141266468, 0.4700190610301344, 0.2571920519916036, 1.5085087626868023, 2.069404155721936], \"z\": [0.6311358575482188, 0.11416491853878855, 3.9615748653460643, 0.760554165745756, -0.5929816278070893, 0.6431814293800899, 0.7473186374734258, -3.3296219815258823, 1.4650294418651988, -0.6374764388953855, 0.5373011898306891, -0.11444821101959278, 0.6564652125092555, -0.5570765307211379, -0.5407761787766385, -0.48864981504129923, -0.3427032802133985, -1.2436229487697037, 0.46145660039919933, 0.590983374648691, 1.0121620293419835, 3.9195912884870516, 0.6880821653481399, -0.49383295144765815, 0.46822328455581613, -0.30122136837558505, 0.15448807323128, 0.3327733776821732, -0.6835806608054703, 0.22734524866712885, -0.4662555164835925, 0.24616118093678668, 1.3631366709318937, -1.146489627492773, 0.10725542450769186, -0.44905566986800666, 0.6172563487167941, 0.01220542781020193, 0.2071967486462642, -0.5870593942624012, 0.20164292513263224, 0.2006915155874604, 1.4087743517979217, 1.482342951741459, 0.16295377998449884, 1.538348503046745, 0.26775184733448015, -0.13626279671299688, -0.7092269950939216, -0.1241993895859475, -0.08770854079629439]}, {\"marker\": {\"color\": \"rgba(255, 128, 2, 0.8)\"}, \"mode\": \"markers\", \"name\": \"Cluster 1\", \"text\": [\"United States\"], \"type\": \"scatter3d\", \"x\": [16.11691309315417], \"y\": [11.514088622708696], \"z\": [1.592708665151608]}, {\"marker\": {\"color\": \"rgba(0, 255, 200, 0.8)\"}, \"mode\": \"markers\", \"name\": \"Cluster 2\", \"text\": [\"Slovenia\", \"Fiji\", \"Malta\", \"Paraguay\", \"Croatia\", \"Mongolia\", \"Denmark\", \"Ukraine\", \"Germany\", \"Algeria\", \"Azerbaijan\", \"Cyprus\", \"Bahrain\", \"Belgium\", \"Singapore\", \"Japan\", \"Andorra\", \"Morocco\", \"Spain\", \"Chile\", \"Brazil\", \"Kazakhstan\", \"Monaco\", \"Dominican Republic\", \"Mexico\", \"Mauritius\", \"Nicaragua\", \"Tunisia\", \"Uzbekistan\", \"Lebanon\", \"Finland\", \"Georgia\", \"Saudi Arabia\", \"Italy\", \"United Kingdom\", \"United Arab Emirates\", \"Albania\", \"Peru\", \"Suriname\", \"Moldova\", \"Lithuania\", \"Israel\", \"Netherlands\", \"Maldives\", \"Greece\", \"Serbia\", \"Turkey\", \"Antigua and Barbuda\", \"Estonia\", \"Cuba\", \"Ecuador\", \"Belarus\", \"Latvia\", \"Austria\", \"France\", \"Grenada\", \"Portugal\", \"Luxembourg\", \"Sweden\", \"Iceland\", \"San Marino\", \"El Salvador\", \"Belize\", \"Panama\", \"Costa Rica\", \"Dominica\", \"Hungary\", \"Qatar\", \"Oman\", \"Trinidad and Tobago\", \"Armenia\", \"China\", \"Uruguay\", \"Thailand\", \"Norway\"], \"type\": \"scatter3d\", \"x\": [1.197499606754023, -0.21503680797660787, 1.58348693407272, -0.5231642695095009, 1.0972019935459345, -0.5213306301856749, 1.7546038181652213, 0.8552888378893608, 4.475587933841333, -0.1997672632747716, -0.13689450269506667, 0.8084940388682352, 0.18166943706815786, 2.902606504903773, 1.9982427005372492, 3.6543036365922417, 0.168934915689243, -0.36904962735198993, 4.678319066061324, 0.5193484682787993, 1.2840055113465605, 1.016125381892435, 1.8853351533061342, -0.27332578878251246, 0.6155346206041717, 0.15650634916185516, -0.7642743296653749, 0.05785777384753681, -0.0985964613863787, -0.5970574533073553, 1.9856250694331865, 0.06058077731511054, 0.07703102608917026, 4.807550002894758, 3.9762490256125167, 0.8355748894507649, 0.3889736128740537, -0.39604391860264027, -0.3103290097486013, 0.18951124256449453, 1.5461550444807122, 0.9788101017162406, 2.553201325163996, -0.14212053832937088, 1.281138591997597, 0.5281047909405151, 0.5599694094361125, -0.21248111863888042, 1.3553628173879984, 0.670898476300222, -0.5965175178880048, 1.5165493047219887, 1.3666661575445067, 1.9804191707918808, 5.177791254485726, -0.21903614122320259, 1.399899149173564, 2.3388728884421828, 2.083675622212648, 1.5269100813580916, 0.78487237402544, -0.43945726407539487, -0.661042753923393, -0.126840471638914, 0.05891123528114499, -0.08978766304909858, 1.7906613630310526, 0.8459292683538703, -0.503037607189619, 0.06268810303567854, -0.17507252352494782, 5.277738909926889, 0.6579048903844469, 0.13701802444124256, 1.8895961141252933], \"y\": [-2.482055242645868, -0.9092726321935686, -2.5157160425666274, -0.43629192771734454, -1.930190051452617, -0.7582277812871254, -1.7985831204726515, -0.8657502850149023, -0.3991881161924213, -0.22721433389810436, -0.9103913880903293, -1.7388438062994422, -1.192963075769516, -2.487745128289753, -3.6817823028849137, -2.07066762658119, -0.8483698755238815, -0.2585956157270647, 0.8243410787559385, -1.0577491468337632, 1.1741872581580015, -1.2438475894922676, -3.6204287324406716, -0.5607267358865247, -0.10709469942187329, -1.1345938896153738, -0.3463340656424066, -0.957650052410063, -0.658909680456749, -0.3128071372337117, -1.946810927026701, -1.0532918145015517, -0.30748221887972166, 0.7924032317588189, 0.7946223363258349, -1.6288780453154437, -1.3387792705973254, -0.021153275284272997, -0.9782766269172332, -1.2792013989961353, -2.752690032387768, -1.4893516592356755, -2.166485345633333, -1.103785451773649, -1.8343975275211897, -1.4423188631646655, 0.7957835259284773, -0.6756506230988977, -2.497074624256484, -1.2153370142209925, -0.03487277355473301, -2.6425837391764664, -2.3786952050662307, -1.9913613690768222, 0.6975339784144716, -0.7246503735572134, -1.6969056785525742, -2.547595514998152, -1.5181585293085966, -1.846318782842412, -1.5830807319254772, -0.4779140211379022, -0.22415983537668988, -0.6492158566776935, -0.9091954529041028, -0.5852799904325404, -2.7163479579856005, -1.2151875555539091, -0.4919248667952641, -1.05983014294667, -0.8390293495840007, 5.818343558598762, -1.3993651770486153, -0.45324259891308416, -1.7345131716060904], \"z\": [-1.1152984023857166, -0.4354663490858533, -0.054282168995391636, -0.22828523296992465, -0.6639472476447955, -1.1686210328865798, 0.8707994662464112, -0.21772924267171792, 1.2512239326320886, -0.7648536359122419, -0.6617846426974281, -0.6789456768139989, -0.7134200187884312, 0.42325973740700507, 0.5563537720844457, 1.4172588032192805, 1.5292600819809237, -0.7400976672154659, -0.2601061443501936, -0.7078238087766942, -0.826096538560336, -0.23435129756505993, 8.166726592830967, -0.3553333578745177, -0.7697380849057507, -0.2373104229001948, -0.5770017429392542, -1.25563443296371, -0.5288350697497562, -0.31929229636285794, 1.002688287571355, -1.3250516202222908, -1.4628364920972117, -0.15359800805534074, 1.3708326625941225, -1.3149847035032551, -0.9042255075492598, -0.18636431969445694, -1.0846942152246408, -0.40450683879521737, -0.8331647076086646, -0.24966611558347973, 0.5968814850826909, 0.21168876557051028, -1.1293223381841522, -1.4764650707713518, -1.8910206865202683, 0.1372925844494569, -0.7436276031471546, -0.021291316176626243, -0.028678791118170524, -0.7721010238557044, -0.8236855357379673, 1.2586385914456493, 1.43899033995243, 0.04040353990423845, -0.5808054012264873, 0.9877945195431257, 0.7686313871511568, 1.2559477110604178, 0.7139262692285685, -0.11560759434398164, -0.22641538649537932, -0.10753043008622346, -0.8270055622175124, 1.5073443518990322, -1.0943958560129354, -1.4857638511283424, -1.0321784015694526, -0.5535557247577158, -1.3322624292640826, -3.4676454948350894, -0.5032241660096338, -0.7659295819198345, 1.1579088286432666]}],\n",
       "                        {\"template\": {\"data\": {\"bar\": [{\"error_x\": {\"color\": \"#2a3f5f\"}, \"error_y\": {\"color\": \"#2a3f5f\"}, \"marker\": {\"line\": {\"color\": \"#E5ECF6\", \"width\": 0.5}}, \"type\": \"bar\"}], \"barpolar\": [{\"marker\": {\"line\": {\"color\": \"#E5ECF6\", \"width\": 0.5}}, \"type\": \"barpolar\"}], \"carpet\": [{\"aaxis\": {\"endlinecolor\": \"#2a3f5f\", \"gridcolor\": \"white\", \"linecolor\": \"white\", \"minorgridcolor\": \"white\", \"startlinecolor\": \"#2a3f5f\"}, \"baxis\": {\"endlinecolor\": \"#2a3f5f\", \"gridcolor\": \"white\", \"linecolor\": \"white\", \"minorgridcolor\": \"white\", \"startlinecolor\": \"#2a3f5f\"}, \"type\": \"carpet\"}], \"choropleth\": [{\"colorbar\": {\"outlinewidth\": 0, \"ticks\": \"\"}, \"type\": \"choropleth\"}], \"contour\": [{\"colorbar\": {\"outlinewidth\": 0, \"ticks\": \"\"}, \"colorscale\": [[0.0, \"#0d0887\"], [0.1111111111111111, \"#46039f\"], [0.2222222222222222, \"#7201a8\"], [0.3333333333333333, \"#9c179e\"], [0.4444444444444444, \"#bd3786\"], [0.5555555555555556, \"#d8576b\"], [0.6666666666666666, \"#ed7953\"], [0.7777777777777778, \"#fb9f3a\"], [0.8888888888888888, \"#fdca26\"], [1.0, \"#f0f921\"]], \"type\": \"contour\"}], \"contourcarpet\": [{\"colorbar\": {\"outlinewidth\": 0, \"ticks\": \"\"}, \"type\": \"contourcarpet\"}], \"heatmap\": [{\"colorbar\": {\"outlinewidth\": 0, \"ticks\": \"\"}, \"colorscale\": [[0.0, \"#0d0887\"], [0.1111111111111111, \"#46039f\"], [0.2222222222222222, \"#7201a8\"], [0.3333333333333333, \"#9c179e\"], [0.4444444444444444, \"#bd3786\"], [0.5555555555555556, \"#d8576b\"], [0.6666666666666666, \"#ed7953\"], [0.7777777777777778, \"#fb9f3a\"], [0.8888888888888888, \"#fdca26\"], [1.0, \"#f0f921\"]], \"type\": \"heatmap\"}], \"heatmapgl\": [{\"colorbar\": {\"outlinewidth\": 0, \"ticks\": \"\"}, \"colorscale\": [[0.0, \"#0d0887\"], [0.1111111111111111, \"#46039f\"], [0.2222222222222222, \"#7201a8\"], [0.3333333333333333, \"#9c179e\"], [0.4444444444444444, \"#bd3786\"], [0.5555555555555556, \"#d8576b\"], [0.6666666666666666, \"#ed7953\"], [0.7777777777777778, \"#fb9f3a\"], [0.8888888888888888, \"#fdca26\"], [1.0, \"#f0f921\"]], \"type\": \"heatmapgl\"}], \"histogram\": [{\"marker\": {\"colorbar\": {\"outlinewidth\": 0, \"ticks\": \"\"}}, \"type\": \"histogram\"}], \"histogram2d\": [{\"colorbar\": {\"outlinewidth\": 0, \"ticks\": \"\"}, \"colorscale\": [[0.0, \"#0d0887\"], [0.1111111111111111, \"#46039f\"], [0.2222222222222222, \"#7201a8\"], [0.3333333333333333, \"#9c179e\"], [0.4444444444444444, \"#bd3786\"], [0.5555555555555556, \"#d8576b\"], [0.6666666666666666, \"#ed7953\"], [0.7777777777777778, \"#fb9f3a\"], [0.8888888888888888, \"#fdca26\"], [1.0, \"#f0f921\"]], \"type\": \"histogram2d\"}], \"histogram2dcontour\": [{\"colorbar\": {\"outlinewidth\": 0, \"ticks\": \"\"}, \"colorscale\": [[0.0, \"#0d0887\"], [0.1111111111111111, \"#46039f\"], [0.2222222222222222, \"#7201a8\"], [0.3333333333333333, \"#9c179e\"], [0.4444444444444444, \"#bd3786\"], [0.5555555555555556, \"#d8576b\"], [0.6666666666666666, \"#ed7953\"], [0.7777777777777778, \"#fb9f3a\"], [0.8888888888888888, \"#fdca26\"], [1.0, \"#f0f921\"]], \"type\": \"histogram2dcontour\"}], \"mesh3d\": [{\"colorbar\": {\"outlinewidth\": 0, \"ticks\": \"\"}, \"type\": \"mesh3d\"}], \"parcoords\": [{\"line\": {\"colorbar\": {\"outlinewidth\": 0, \"ticks\": \"\"}}, \"type\": \"parcoords\"}], \"pie\": [{\"automargin\": true, \"type\": \"pie\"}], \"scatter\": [{\"marker\": {\"colorbar\": {\"outlinewidth\": 0, \"ticks\": \"\"}}, \"type\": \"scatter\"}], \"scatter3d\": [{\"line\": {\"colorbar\": {\"outlinewidth\": 0, \"ticks\": \"\"}}, \"marker\": {\"colorbar\": {\"outlinewidth\": 0, \"ticks\": \"\"}}, \"type\": \"scatter3d\"}], \"scattercarpet\": [{\"marker\": {\"colorbar\": {\"outlinewidth\": 0, \"ticks\": \"\"}}, \"type\": \"scattercarpet\"}], \"scattergeo\": [{\"marker\": {\"colorbar\": {\"outlinewidth\": 0, \"ticks\": \"\"}}, \"type\": \"scattergeo\"}], \"scattergl\": [{\"marker\": {\"colorbar\": {\"outlinewidth\": 0, \"ticks\": \"\"}}, \"type\": \"scattergl\"}], \"scattermapbox\": [{\"marker\": {\"colorbar\": {\"outlinewidth\": 0, \"ticks\": \"\"}}, \"type\": \"scattermapbox\"}], \"scatterpolar\": [{\"marker\": {\"colorbar\": {\"outlinewidth\": 0, \"ticks\": \"\"}}, \"type\": \"scatterpolar\"}], \"scatterpolargl\": [{\"marker\": {\"colorbar\": {\"outlinewidth\": 0, \"ticks\": \"\"}}, \"type\": \"scatterpolargl\"}], \"scatterternary\": [{\"marker\": {\"colorbar\": {\"outlinewidth\": 0, \"ticks\": \"\"}}, \"type\": \"scatterternary\"}], \"surface\": [{\"colorbar\": {\"outlinewidth\": 0, \"ticks\": \"\"}, \"colorscale\": [[0.0, \"#0d0887\"], [0.1111111111111111, \"#46039f\"], [0.2222222222222222, \"#7201a8\"], [0.3333333333333333, \"#9c179e\"], [0.4444444444444444, \"#bd3786\"], [0.5555555555555556, \"#d8576b\"], [0.6666666666666666, \"#ed7953\"], [0.7777777777777778, \"#fb9f3a\"], [0.8888888888888888, \"#fdca26\"], [1.0, \"#f0f921\"]], \"type\": \"surface\"}], \"table\": [{\"cells\": {\"fill\": {\"color\": \"#EBF0F8\"}, \"line\": {\"color\": \"white\"}}, \"header\": {\"fill\": {\"color\": \"#C8D4E3\"}, \"line\": {\"color\": \"white\"}}, \"type\": \"table\"}]}, \"layout\": {\"annotationdefaults\": {\"arrowcolor\": \"#2a3f5f\", \"arrowhead\": 0, \"arrowwidth\": 1}, \"coloraxis\": {\"colorbar\": {\"outlinewidth\": 0, \"ticks\": \"\"}}, \"colorscale\": {\"diverging\": [[0, \"#8e0152\"], [0.1, \"#c51b7d\"], [0.2, \"#de77ae\"], [0.3, \"#f1b6da\"], [0.4, \"#fde0ef\"], [0.5, \"#f7f7f7\"], [0.6, \"#e6f5d0\"], [0.7, \"#b8e186\"], [0.8, \"#7fbc41\"], [0.9, \"#4d9221\"], [1, \"#276419\"]], \"sequential\": [[0.0, \"#0d0887\"], [0.1111111111111111, \"#46039f\"], [0.2222222222222222, \"#7201a8\"], [0.3333333333333333, \"#9c179e\"], [0.4444444444444444, \"#bd3786\"], [0.5555555555555556, \"#d8576b\"], [0.6666666666666666, \"#ed7953\"], [0.7777777777777778, \"#fb9f3a\"], [0.8888888888888888, \"#fdca26\"], [1.0, \"#f0f921\"]], \"sequentialminus\": [[0.0, \"#0d0887\"], [0.1111111111111111, \"#46039f\"], [0.2222222222222222, \"#7201a8\"], [0.3333333333333333, \"#9c179e\"], [0.4444444444444444, \"#bd3786\"], [0.5555555555555556, \"#d8576b\"], [0.6666666666666666, \"#ed7953\"], [0.7777777777777778, \"#fb9f3a\"], [0.8888888888888888, \"#fdca26\"], [1.0, \"#f0f921\"]]}, \"colorway\": [\"#636efa\", \"#EF553B\", \"#00cc96\", \"#ab63fa\", \"#FFA15A\", \"#19d3f3\", \"#FF6692\", \"#B6E880\", \"#FF97FF\", \"#FECB52\"], \"font\": {\"color\": \"#2a3f5f\"}, \"geo\": {\"bgcolor\": \"white\", \"lakecolor\": \"white\", \"landcolor\": \"#E5ECF6\", \"showlakes\": true, \"showland\": true, \"subunitcolor\": \"white\"}, \"hoverlabel\": {\"align\": \"left\"}, \"hovermode\": \"closest\", \"mapbox\": {\"style\": \"light\"}, \"paper_bgcolor\": \"white\", \"plot_bgcolor\": \"#E5ECF6\", \"polar\": {\"angularaxis\": {\"gridcolor\": \"white\", \"linecolor\": \"white\", \"ticks\": \"\"}, \"bgcolor\": \"#E5ECF6\", \"radialaxis\": {\"gridcolor\": \"white\", \"linecolor\": \"white\", \"ticks\": \"\"}}, \"scene\": {\"xaxis\": {\"backgroundcolor\": \"#E5ECF6\", \"gridcolor\": \"white\", \"gridwidth\": 2, \"linecolor\": \"white\", \"showbackground\": true, \"ticks\": \"\", \"zerolinecolor\": \"white\"}, \"yaxis\": {\"backgroundcolor\": \"#E5ECF6\", \"gridcolor\": \"white\", \"gridwidth\": 2, \"linecolor\": \"white\", \"showbackground\": true, \"ticks\": \"\", \"zerolinecolor\": \"white\"}, \"zaxis\": {\"backgroundcolor\": \"#E5ECF6\", \"gridcolor\": \"white\", \"gridwidth\": 2, \"linecolor\": \"white\", \"showbackground\": true, \"ticks\": \"\", \"zerolinecolor\": \"white\"}}, \"shapedefaults\": {\"line\": {\"color\": \"#2a3f5f\"}}, \"ternary\": {\"aaxis\": {\"gridcolor\": \"white\", \"linecolor\": \"white\", \"ticks\": \"\"}, \"baxis\": {\"gridcolor\": \"white\", \"linecolor\": \"white\", \"ticks\": \"\"}, \"bgcolor\": \"#E5ECF6\", \"caxis\": {\"gridcolor\": \"white\", \"linecolor\": \"white\", \"ticks\": \"\"}}, \"title\": {\"x\": 0.05}, \"xaxis\": {\"automargin\": true, \"gridcolor\": \"white\", \"linecolor\": \"white\", \"ticks\": \"\", \"title\": {\"standoff\": 15}, \"zerolinecolor\": \"white\", \"zerolinewidth\": 2}, \"yaxis\": {\"automargin\": true, \"gridcolor\": \"white\", \"linecolor\": \"white\", \"ticks\": \"\", \"title\": {\"standoff\": 15}, \"zerolinecolor\": \"white\", \"zerolinewidth\": 2}}}, \"title\": {\"text\": \"Visualizing Clusters in Three Dimensions Using PCA\"}, \"xaxis\": {\"ticklen\": 5, \"title\": {\"text\": \"PC1\"}, \"zeroline\": false}, \"yaxis\": {\"ticklen\": 5, \"title\": {\"text\": \"PC2\"}, \"zeroline\": false}},\n",
       "                        {\"responsive\": true}\n",
       "                    ).then(function(){\n",
       "                            \n",
       "var gd = document.getElementById('a6accb32-f158-479c-a705-e395b28f4e63');\n",
       "var x = new MutationObserver(function (mutations, observer) {{\n",
       "        var display = window.getComputedStyle(gd).display;\n",
       "        if (!display || display === 'none') {{\n",
       "            console.log([gd, 'removed!']);\n",
       "            Plotly.purge(gd);\n",
       "            observer.disconnect();\n",
       "        }}\n",
       "}});\n",
       "\n",
       "// Listen for the removal of the full notebook cells\n",
       "var notebookContainer = gd.closest('#notebook-container');\n",
       "if (notebookContainer) {{\n",
       "    x.observe(notebookContainer, {childList: true});\n",
       "}}\n",
       "\n",
       "// Listen for the clearing of the current output cell\n",
       "var outputEl = gd.closest('.output');\n",
       "if (outputEl) {{\n",
       "    x.observe(outputEl, {childList: true});\n",
       "}}\n",
       "\n",
       "                        })\n",
       "                };\n",
       "                });\n",
       "            </script>\n",
       "        </div>"
      ]
     },
     "metadata": {},
     "output_type": "display_data"
    }
   ],
   "source": [
    "#Instructions for building the 3-D plot\n",
    "\n",
    "#trace1 is for 'Cluster 0'\n",
    "trace1 = go.Scatter3d(\n",
    "                    x = cluster0[\"PC1_3d\"],\n",
    "                    y = cluster0[\"PC2_3d\"],\n",
    "                    z = cluster0[\"PC3_3d\"],\n",
    "                    mode = \"markers\",\n",
    "                    name = \"Cluster 0\",\n",
    "                    marker = dict(color = 'rgba(255, 128, 255, 0.8)'),\n",
    "                    text = cluster0.index)\n",
    "\n",
    "#trace2 is for 'Cluster 1'\n",
    "trace2 = go.Scatter3d(\n",
    "                    x = cluster1[\"PC1_3d\"],\n",
    "                    y = cluster1[\"PC2_3d\"],\n",
    "                    z = cluster1[\"PC3_3d\"],\n",
    "                    mode = \"markers\",\n",
    "                    name = \"Cluster 1\",\n",
    "                    marker = dict(color = 'rgba(255, 128, 2, 0.8)'),\n",
    "                    text = cluster1.index)\n",
    "\n",
    "#trace3 is for 'Cluster 2'\n",
    "trace3 = go.Scatter3d(\n",
    "                    x = cluster2[\"PC1_3d\"],\n",
    "                    y = cluster2[\"PC2_3d\"],\n",
    "                    z = cluster2[\"PC3_3d\"],\n",
    "                    mode = \"markers\",\n",
    "                    name = \"Cluster 2\",\n",
    "                    marker = dict(color = 'rgba(0, 255, 200, 0.8)'),\n",
    "                    text = cluster2.index)\n",
    "\n",
    "data = [trace1, trace2, trace3]\n",
    "\n",
    "title = \"Visualizing Clusters in Three Dimensions Using PCA\"\n",
    "\n",
    "layout = dict(title = title,\n",
    "              xaxis= dict(title= 'PC1',ticklen= 5,zeroline= False),\n",
    "              yaxis= dict(title= 'PC2',ticklen= 5,zeroline= False)\n",
    "             )\n",
    "\n",
    "fig = dict(data = data, layout = layout)\n",
    "\n",
    "iplot(fig)\n"
   ]
  },
  {
   "cell_type": "markdown",
   "metadata": {},
   "source": [
    "## T-Distributed Stochastic Neighbor Embedding (T-SNE)"
   ]
  },
  {
   "cell_type": "code",
   "execution_count": 172,
   "metadata": {},
   "outputs": [
    {
     "data": {
      "text/html": [
       "<div>\n",
       "<style scoped>\n",
       "    .dataframe tbody tr th:only-of-type {\n",
       "        vertical-align: middle;\n",
       "    }\n",
       "\n",
       "    .dataframe tbody tr th {\n",
       "        vertical-align: top;\n",
       "    }\n",
       "\n",
       "    .dataframe thead th {\n",
       "        text-align: right;\n",
       "    }\n",
       "</style>\n",
       "<table border=\"1\" class=\"dataframe\">\n",
       "  <thead>\n",
       "    <tr style=\"text-align: right;\">\n",
       "      <th></th>\n",
       "      <th>Deaths</th>\n",
       "      <th>Cases</th>\n",
       "      <th>Population</th>\n",
       "      <th>flights</th>\n",
       "      <th>pollution</th>\n",
       "      <th>unemp%</th>\n",
       "      <th>hospbeds</th>\n",
       "      <th>railways</th>\n",
       "      <th>urbanpop%</th>\n",
       "      <th>slum%</th>\n",
       "      <th>...</th>\n",
       "      <th>pop% &gt;= 65</th>\n",
       "      <th>trade%</th>\n",
       "      <th>cluster</th>\n",
       "      <th>TC1_1d</th>\n",
       "      <th>TC1_2d</th>\n",
       "      <th>TC2_2d</th>\n",
       "      <th>TC1_3d</th>\n",
       "      <th>TC2_3d</th>\n",
       "      <th>TC3_3d</th>\n",
       "      <th>dummy</th>\n",
       "    </tr>\n",
       "    <tr>\n",
       "      <th>Country/Region</th>\n",
       "      <th></th>\n",
       "      <th></th>\n",
       "      <th></th>\n",
       "      <th></th>\n",
       "      <th></th>\n",
       "      <th></th>\n",
       "      <th></th>\n",
       "      <th></th>\n",
       "      <th></th>\n",
       "      <th></th>\n",
       "      <th></th>\n",
       "      <th></th>\n",
       "      <th></th>\n",
       "      <th></th>\n",
       "      <th></th>\n",
       "      <th></th>\n",
       "      <th></th>\n",
       "      <th></th>\n",
       "      <th></th>\n",
       "      <th></th>\n",
       "      <th></th>\n",
       "    </tr>\n",
       "  </thead>\n",
       "  <tbody>\n",
       "    <tr>\n",
       "      <td>Slovenia</td>\n",
       "      <td>-0.207050</td>\n",
       "      <td>-0.194129</td>\n",
       "      <td>-0.259512</td>\n",
       "      <td>-0.228762</td>\n",
       "      <td>-0.570548</td>\n",
       "      <td>-0.437315</td>\n",
       "      <td>0.725447</td>\n",
       "      <td>-0.256767</td>\n",
       "      <td>-0.238098</td>\n",
       "      <td>-0.882278</td>\n",
       "      <td>...</td>\n",
       "      <td>1.649051</td>\n",
       "      <td>2.741391</td>\n",
       "      <td>2</td>\n",
       "      <td>1.402566</td>\n",
       "      <td>-1.652789</td>\n",
       "      <td>-6.037773</td>\n",
       "      <td>-99.628227</td>\n",
       "      <td>121.655449</td>\n",
       "      <td>-102.109207</td>\n",
       "      <td>0</td>\n",
       "    </tr>\n",
       "    <tr>\n",
       "      <td>Fiji</td>\n",
       "      <td>-0.222700</td>\n",
       "      <td>-0.215324</td>\n",
       "      <td>-0.267202</td>\n",
       "      <td>-0.222354</td>\n",
       "      <td>-0.836378</td>\n",
       "      <td>-0.455840</td>\n",
       "      <td>-0.230988</td>\n",
       "      <td>-0.335953</td>\n",
       "      <td>-0.164485</td>\n",
       "      <td>-0.882278</td>\n",
       "      <td>...</td>\n",
       "      <td>-0.493747</td>\n",
       "      <td>0.169506</td>\n",
       "      <td>2</td>\n",
       "      <td>-0.303091</td>\n",
       "      <td>-1.343791</td>\n",
       "      <td>-3.410419</td>\n",
       "      <td>112.501442</td>\n",
       "      <td>-9.030202</td>\n",
       "      <td>-33.700157</td>\n",
       "      <td>0</td>\n",
       "    </tr>\n",
       "    <tr>\n",
       "      <td>Malta</td>\n",
       "      <td>-0.221930</td>\n",
       "      <td>-0.208632</td>\n",
       "      <td>-0.269891</td>\n",
       "      <td>-0.225992</td>\n",
       "      <td>-0.678830</td>\n",
       "      <td>-0.572546</td>\n",
       "      <td>0.767031</td>\n",
       "      <td>-0.335953</td>\n",
       "      <td>1.486848</td>\n",
       "      <td>-0.882278</td>\n",
       "      <td>...</td>\n",
       "      <td>1.761034</td>\n",
       "      <td>0.079882</td>\n",
       "      <td>2</td>\n",
       "      <td>1.273174</td>\n",
       "      <td>-0.679174</td>\n",
       "      <td>-5.713120</td>\n",
       "      <td>7.131299</td>\n",
       "      <td>-55.189606</td>\n",
       "      <td>-172.118042</td>\n",
       "      <td>0</td>\n",
       "    </tr>\n",
       "    <tr>\n",
       "      <td>Paraguay</td>\n",
       "      <td>-0.220648</td>\n",
       "      <td>-0.212664</td>\n",
       "      <td>-0.229125</td>\n",
       "      <td>-0.244786</td>\n",
       "      <td>-0.781467</td>\n",
       "      <td>-0.324313</td>\n",
       "      <td>-0.646829</td>\n",
       "      <td>-0.307068</td>\n",
       "      <td>0.064962</td>\n",
       "      <td>-0.260763</td>\n",
       "      <td>...</td>\n",
       "      <td>-0.345446</td>\n",
       "      <td>-0.164293</td>\n",
       "      <td>2</td>\n",
       "      <td>-0.634506</td>\n",
       "      <td>-1.054347</td>\n",
       "      <td>-2.828087</td>\n",
       "      <td>-22.338705</td>\n",
       "      <td>135.523438</td>\n",
       "      <td>-99.832535</td>\n",
       "      <td>0</td>\n",
       "    </tr>\n",
       "    <tr>\n",
       "      <td>Croatia</td>\n",
       "      <td>-0.213721</td>\n",
       "      <td>-0.185268</td>\n",
       "      <td>-0.245912</td>\n",
       "      <td>-0.218913</td>\n",
       "      <td>-0.474070</td>\n",
       "      <td>0.068414</td>\n",
       "      <td>1.141288</td>\n",
       "      <td>-0.165333</td>\n",
       "      <td>-0.134351</td>\n",
       "      <td>-0.882278</td>\n",
       "      <td>...</td>\n",
       "      <td>1.776166</td>\n",
       "      <td>0.369563</td>\n",
       "      <td>2</td>\n",
       "      <td>0.950417</td>\n",
       "      <td>-1.297036</td>\n",
       "      <td>-5.346607</td>\n",
       "      <td>-16.754509</td>\n",
       "      <td>48.807331</td>\n",
       "      <td>131.611694</td>\n",
       "      <td>0</td>\n",
       "    </tr>\n",
       "  </tbody>\n",
       "</table>\n",
       "<p>5 rows × 26 columns</p>\n",
       "</div>"
      ],
      "text/plain": [
       "                  Deaths     Cases  Population   flights  pollution    unemp%  \\\n",
       "Country/Region                                                                  \n",
       "Slovenia       -0.207050 -0.194129   -0.259512 -0.228762  -0.570548 -0.437315   \n",
       "Fiji           -0.222700 -0.215324   -0.267202 -0.222354  -0.836378 -0.455840   \n",
       "Malta          -0.221930 -0.208632   -0.269891 -0.225992  -0.678830 -0.572546   \n",
       "Paraguay       -0.220648 -0.212664   -0.229125 -0.244786  -0.781467 -0.324313   \n",
       "Croatia        -0.213721 -0.185268   -0.245912 -0.218913  -0.474070  0.068414   \n",
       "\n",
       "                hospbeds  railways  urbanpop%     slum%  ...  pop% >= 65  \\\n",
       "Country/Region                                           ...               \n",
       "Slovenia        0.725447 -0.256767  -0.238098 -0.882278  ...    1.649051   \n",
       "Fiji           -0.230988 -0.335953  -0.164485 -0.882278  ...   -0.493747   \n",
       "Malta           0.767031 -0.335953   1.486848 -0.882278  ...    1.761034   \n",
       "Paraguay       -0.646829 -0.307068   0.064962 -0.260763  ...   -0.345446   \n",
       "Croatia         1.141288 -0.165333  -0.134351 -0.882278  ...    1.776166   \n",
       "\n",
       "                  trade%  cluster    TC1_1d    TC1_2d    TC2_2d      TC1_3d  \\\n",
       "Country/Region                                                                \n",
       "Slovenia        2.741391        2  1.402566 -1.652789 -6.037773  -99.628227   \n",
       "Fiji            0.169506        2 -0.303091 -1.343791 -3.410419  112.501442   \n",
       "Malta           0.079882        2  1.273174 -0.679174 -5.713120    7.131299   \n",
       "Paraguay       -0.164293        2 -0.634506 -1.054347 -2.828087  -22.338705   \n",
       "Croatia         0.369563        2  0.950417 -1.297036 -5.346607  -16.754509   \n",
       "\n",
       "                    TC2_3d      TC3_3d  dummy  \n",
       "Country/Region                                 \n",
       "Slovenia        121.655449 -102.109207      0  \n",
       "Fiji             -9.030202  -33.700157      0  \n",
       "Malta           -55.189606 -172.118042      0  \n",
       "Paraguay        135.523438  -99.832535      0  \n",
       "Croatia          48.807331  131.611694      0  \n",
       "\n",
       "[5 rows x 26 columns]"
      ]
     },
     "execution_count": 172,
     "metadata": {},
     "output_type": "execute_result"
    }
   ],
   "source": [
    "plotX = df_train.copy()\n",
    "perplexity = 50\n",
    "\n",
    "tsne_1d = TSNE(n_components=1, perplexity=perplexity)\n",
    "tsne_2d = TSNE(n_components=2, perplexity=perplexity)\n",
    "tsne_3d = TSNE(n_components=3, perplexity=perplexity)\n",
    "\n",
    "TCs_1d = pd.DataFrame(tsne_1d.fit_transform(plotX.drop([\"cluster\"], axis=1)), index=plotX.index)\n",
    "TCs_2d = pd.DataFrame(tsne_2d.fit_transform(plotX.drop([\"cluster\"], axis=1)), index=plotX.index)\n",
    "TCs_3d = pd.DataFrame(tsne_3d.fit_transform(plotX.drop([\"cluster\"], axis=1)), index=plotX.index)\n",
    "\n",
    "TCs_1d.columns = [\"TC1_1d\"]\n",
    "PCs_1d.columns = [\"PC1_1d\"]\n",
    "TCs_2d.columns = [\"TC1_2d\",\"TC2_2d\"]\n",
    "TCs_3d.columns = [\"TC1_3d\",\"TC2_3d\",\"TC3_3d\"]\n",
    "\n",
    "plotX = pd.concat([plotX,TCs_1d,TCs_2d,TCs_3d], axis=1, join='inner')\n",
    "plotX[\"dummy\"] = 0\n",
    "\n",
    "cluster0 = plotX[plotX[\"cluster\"] == 0]\n",
    "cluster1 = plotX[plotX[\"cluster\"] == 1]\n",
    "cluster2 = plotX[plotX[\"cluster\"] == 2]\n",
    "\n",
    "cluster2.head()"
   ]
  },
  {
   "cell_type": "code",
   "execution_count": 174,
   "metadata": {},
   "outputs": [
    {
     "data": {
      "application/vnd.plotly.v1+json": {
       "config": {
        "linkText": "Export to plot.ly",
        "plotlyServerURL": "https://plot.ly",
        "showLink": false
       },
       "data": [
        {
         "marker": {
          "color": "rgba(255, 128, 255, 0.8)"
         },
         "mode": "markers",
         "name": "Cluster 0",
         "text": [
          "Sierra Leone",
          "Kenya",
          "Liechtenstein",
          "Ethiopia",
          "Sudan",
          "Benin",
          "West Bank and Gaza",
          "India",
          "Somalia",
          "Honduras",
          "Equatorial Guinea",
          "Bolivia",
          "Guinea-Bissau",
          "Zambia",
          "Bangladesh",
          "Indonesia",
          "Jamaica",
          "South Africa",
          "Angola",
          "Cote d'Ivoire",
          "Timor-Leste",
          "Kosovo",
          "Mali",
          "Gabon",
          "Malawi",
          "Mauritania",
          "Mozambique",
          "Haiti",
          "Guyana",
          "Philippines",
          "Ghana",
          "Madagascar",
          "Central African Republic",
          "Namibia",
          "Guatemala",
          "Cambodia",
          "Burundi",
          "Tanzania",
          "Zimbabwe",
          "Sao Tome and Principe",
          "Burkina Faso",
          "Senegal",
          "Papua New Guinea",
          "Guinea",
          "Rwanda",
          "Chad",
          "Niger",
          "Bhutan",
          "Cabo Verde",
          "Cameroon",
          "Pakistan"
         ],
         "type": "scatter",
         "x": [
          -2.6983273029327393,
          -2.653428077697754,
          2.776360511779785,
          -2.8009002208709717,
          -2.4728634357452393,
          -2.796889543533325,
          -4.1840596199035645,
          -1.4806724786758423,
          -3.5554704666137695,
          -0.9158520698547363,
          -3.538844108581543,
          -1.0756478309631348,
          -2.792949914932251,
          -2.765228033065796,
          -2.3712081909179688,
          -1.1143015623092651,
          -1.0848815441131592,
          -4.016815185546875,
          -3.035914182662964,
          -2.6639230251312256,
          -1.5169161558151245,
          -1.6871321201324463,
          -2.9028234481811523,
          -3.936556339263916,
          -2.544459104537964,
          -2.8816797733306885,
          -3.0016841888427734,
          -2.9101147651672363,
          -1.1746625900268555,
          -1.4633911848068237,
          -2.5453500747680664,
          -2.8780517578125,
          -3.2606072425842285,
          -3.6457784175872803,
          -1.4340794086456299,
          -1.6664392948150635,
          -2.558318853378296,
          -2.569495916366577,
          -2.179107904434204,
          -2.0326828956604004,
          -2.7583346366882324,
          -2.616816997528076,
          -1.6451655626296997,
          -3.081606388092041,
          -2.472074031829834,
          -3.3230271339416504,
          -3.223503589630127,
          -1.8315054178237915,
          -1.6531862020492554,
          -2.767467737197876,
          -2.6024889945983887
         ],
         "y": [
          0,
          0,
          0,
          0,
          0,
          0,
          0,
          0,
          0,
          0,
          0,
          0,
          0,
          0,
          0,
          0,
          0,
          0,
          0,
          0,
          0,
          0,
          0,
          0,
          0,
          0,
          0,
          0,
          0,
          0,
          0,
          0,
          0,
          0,
          0,
          0,
          0,
          0,
          0,
          0,
          0,
          0,
          0,
          0,
          0,
          0,
          0,
          0,
          0,
          0,
          0
         ]
        },
        {
         "marker": {
          "color": "rgba(255, 128, 2, 0.8)"
         },
         "mode": "markers",
         "name": "Cluster 1",
         "text": [
          "United States"
         ],
         "type": "scatter",
         "x": [
          3.4837136268615723
         ],
         "y": [
          0
         ]
        },
        {
         "marker": {
          "color": "rgba(0, 255, 200, 0.8)"
         },
         "mode": "markers",
         "name": "Cluster 2",
         "text": [
          "Slovenia",
          "Fiji",
          "Malta",
          "Paraguay",
          "Croatia",
          "Mongolia",
          "Denmark",
          "Ukraine",
          "Germany",
          "Algeria",
          "Azerbaijan",
          "Cyprus",
          "Bahrain",
          "Belgium",
          "Singapore",
          "Japan",
          "Andorra",
          "Morocco",
          "Spain",
          "Chile",
          "Brazil",
          "Kazakhstan",
          "Monaco",
          "Dominican Republic",
          "Mexico",
          "Mauritius",
          "Nicaragua",
          "Tunisia",
          "Uzbekistan",
          "Lebanon",
          "Finland",
          "Georgia",
          "Saudi Arabia",
          "Italy",
          "United Kingdom",
          "United Arab Emirates",
          "Albania",
          "Peru",
          "Suriname",
          "Moldova",
          "Lithuania",
          "Israel",
          "Netherlands",
          "Maldives",
          "Greece",
          "Serbia",
          "Turkey",
          "Antigua and Barbuda",
          "Estonia",
          "Cuba",
          "Ecuador",
          "Belarus",
          "Latvia",
          "Austria",
          "France",
          "Grenada",
          "Portugal",
          "Luxembourg",
          "Sweden",
          "Iceland",
          "San Marino",
          "El Salvador",
          "Belize",
          "Panama",
          "Costa Rica",
          "Dominica",
          "Hungary",
          "Qatar",
          "Oman",
          "Trinidad and Tobago",
          "Armenia",
          "China",
          "Uruguay",
          "Thailand",
          "Norway"
         ],
         "type": "scatter",
         "x": [
          1.4025657176971436,
          -0.3030911087989807,
          1.2731742858886719,
          -0.6345064043998718,
          0.9504173398017883,
          0.06356988102197647,
          2.149972438812256,
          0.8417086601257324,
          -5.005069732666016,
          -0.44204553961753845,
          0.016004618257284164,
          0.5687206983566284,
          0.9206787347793579,
          2.1239237785339355,
          1.7645975351333618,
          2.2385759353637695,
          -0.714857280254364,
          -0.5685647130012512,
          3.3852176666259766,
          0.08345586806535721,
          -0.6258759498596191,
          0.4521058201789856,
          1.8600986003875732,
          -0.4531654417514801,
          -0.38151079416275024,
          0.07642990350723267,
          -0.9611777663230896,
          -0.04808184877038002,
          -0.2000642865896225,
          -0.8194449543952942,
          2.1365139484405518,
          0.24370811879634857,
          0.8794896602630615,
          3.388188362121582,
          3.0175387859344482,
          1.1379059553146362,
          0.2770838439464569,
          -0.8014863729476929,
          -0.09610959887504578,
          0.2743048071861267,
          1.375759482383728,
          0.5643537640571594,
          2.1278953552246094,
          -0.08296620100736618,
          0.8824499249458313,
          0.5544554591178894,
          -4.361639499664307,
          -0.19369691610336304,
          1.2829017639160156,
          0.46798330545425415,
          -0.874057412147522,
          1.2941813468933105,
          1.1833086013793945,
          2.108253002166748,
          -4.9934892654418945,
          -0.19815537333488464,
          0.9980608224868774,
          2.242626190185547,
          2.169528007507324,
          2.1429965496063232,
          -4.465919494628906,
          -0.6854154467582703,
          -0.7936411499977112,
          -0.4700174927711487,
          -0.10708886384963989,
          -0.7607308030128479,
          1.4445046186447144,
          1.1871379613876343,
          -0.6926006078720093,
          -0.08558999001979828,
          0.15975934267044067,
          2.9267396926879883,
          0.3639240860939026,
          -0.3409101963043213,
          2.1667027473449707
         ],
         "y": [
          0,
          0,
          0,
          0,
          0,
          0,
          0,
          0,
          0,
          0,
          0,
          0,
          0,
          0,
          0,
          0,
          0,
          0,
          0,
          0,
          0,
          0,
          0,
          0,
          0,
          0,
          0,
          0,
          0,
          0,
          0,
          0,
          0,
          0,
          0,
          0,
          0,
          0,
          0,
          0,
          0,
          0,
          0,
          0,
          0,
          0,
          0,
          0,
          0,
          0,
          0,
          0,
          0,
          0,
          0,
          0,
          0,
          0,
          0,
          0,
          0,
          0,
          0,
          0,
          0,
          0,
          0,
          0,
          0,
          0,
          0,
          0,
          0,
          0,
          0
         ]
        }
       ],
       "layout": {
        "template": {
         "data": {
          "bar": [
           {
            "error_x": {
             "color": "#2a3f5f"
            },
            "error_y": {
             "color": "#2a3f5f"
            },
            "marker": {
             "line": {
              "color": "#E5ECF6",
              "width": 0.5
             }
            },
            "type": "bar"
           }
          ],
          "barpolar": [
           {
            "marker": {
             "line": {
              "color": "#E5ECF6",
              "width": 0.5
             }
            },
            "type": "barpolar"
           }
          ],
          "carpet": [
           {
            "aaxis": {
             "endlinecolor": "#2a3f5f",
             "gridcolor": "white",
             "linecolor": "white",
             "minorgridcolor": "white",
             "startlinecolor": "#2a3f5f"
            },
            "baxis": {
             "endlinecolor": "#2a3f5f",
             "gridcolor": "white",
             "linecolor": "white",
             "minorgridcolor": "white",
             "startlinecolor": "#2a3f5f"
            },
            "type": "carpet"
           }
          ],
          "choropleth": [
           {
            "colorbar": {
             "outlinewidth": 0,
             "ticks": ""
            },
            "type": "choropleth"
           }
          ],
          "contour": [
           {
            "colorbar": {
             "outlinewidth": 0,
             "ticks": ""
            },
            "colorscale": [
             [
              0,
              "#0d0887"
             ],
             [
              0.1111111111111111,
              "#46039f"
             ],
             [
              0.2222222222222222,
              "#7201a8"
             ],
             [
              0.3333333333333333,
              "#9c179e"
             ],
             [
              0.4444444444444444,
              "#bd3786"
             ],
             [
              0.5555555555555556,
              "#d8576b"
             ],
             [
              0.6666666666666666,
              "#ed7953"
             ],
             [
              0.7777777777777778,
              "#fb9f3a"
             ],
             [
              0.8888888888888888,
              "#fdca26"
             ],
             [
              1,
              "#f0f921"
             ]
            ],
            "type": "contour"
           }
          ],
          "contourcarpet": [
           {
            "colorbar": {
             "outlinewidth": 0,
             "ticks": ""
            },
            "type": "contourcarpet"
           }
          ],
          "heatmap": [
           {
            "colorbar": {
             "outlinewidth": 0,
             "ticks": ""
            },
            "colorscale": [
             [
              0,
              "#0d0887"
             ],
             [
              0.1111111111111111,
              "#46039f"
             ],
             [
              0.2222222222222222,
              "#7201a8"
             ],
             [
              0.3333333333333333,
              "#9c179e"
             ],
             [
              0.4444444444444444,
              "#bd3786"
             ],
             [
              0.5555555555555556,
              "#d8576b"
             ],
             [
              0.6666666666666666,
              "#ed7953"
             ],
             [
              0.7777777777777778,
              "#fb9f3a"
             ],
             [
              0.8888888888888888,
              "#fdca26"
             ],
             [
              1,
              "#f0f921"
             ]
            ],
            "type": "heatmap"
           }
          ],
          "heatmapgl": [
           {
            "colorbar": {
             "outlinewidth": 0,
             "ticks": ""
            },
            "colorscale": [
             [
              0,
              "#0d0887"
             ],
             [
              0.1111111111111111,
              "#46039f"
             ],
             [
              0.2222222222222222,
              "#7201a8"
             ],
             [
              0.3333333333333333,
              "#9c179e"
             ],
             [
              0.4444444444444444,
              "#bd3786"
             ],
             [
              0.5555555555555556,
              "#d8576b"
             ],
             [
              0.6666666666666666,
              "#ed7953"
             ],
             [
              0.7777777777777778,
              "#fb9f3a"
             ],
             [
              0.8888888888888888,
              "#fdca26"
             ],
             [
              1,
              "#f0f921"
             ]
            ],
            "type": "heatmapgl"
           }
          ],
          "histogram": [
           {
            "marker": {
             "colorbar": {
              "outlinewidth": 0,
              "ticks": ""
             }
            },
            "type": "histogram"
           }
          ],
          "histogram2d": [
           {
            "colorbar": {
             "outlinewidth": 0,
             "ticks": ""
            },
            "colorscale": [
             [
              0,
              "#0d0887"
             ],
             [
              0.1111111111111111,
              "#46039f"
             ],
             [
              0.2222222222222222,
              "#7201a8"
             ],
             [
              0.3333333333333333,
              "#9c179e"
             ],
             [
              0.4444444444444444,
              "#bd3786"
             ],
             [
              0.5555555555555556,
              "#d8576b"
             ],
             [
              0.6666666666666666,
              "#ed7953"
             ],
             [
              0.7777777777777778,
              "#fb9f3a"
             ],
             [
              0.8888888888888888,
              "#fdca26"
             ],
             [
              1,
              "#f0f921"
             ]
            ],
            "type": "histogram2d"
           }
          ],
          "histogram2dcontour": [
           {
            "colorbar": {
             "outlinewidth": 0,
             "ticks": ""
            },
            "colorscale": [
             [
              0,
              "#0d0887"
             ],
             [
              0.1111111111111111,
              "#46039f"
             ],
             [
              0.2222222222222222,
              "#7201a8"
             ],
             [
              0.3333333333333333,
              "#9c179e"
             ],
             [
              0.4444444444444444,
              "#bd3786"
             ],
             [
              0.5555555555555556,
              "#d8576b"
             ],
             [
              0.6666666666666666,
              "#ed7953"
             ],
             [
              0.7777777777777778,
              "#fb9f3a"
             ],
             [
              0.8888888888888888,
              "#fdca26"
             ],
             [
              1,
              "#f0f921"
             ]
            ],
            "type": "histogram2dcontour"
           }
          ],
          "mesh3d": [
           {
            "colorbar": {
             "outlinewidth": 0,
             "ticks": ""
            },
            "type": "mesh3d"
           }
          ],
          "parcoords": [
           {
            "line": {
             "colorbar": {
              "outlinewidth": 0,
              "ticks": ""
             }
            },
            "type": "parcoords"
           }
          ],
          "pie": [
           {
            "automargin": true,
            "type": "pie"
           }
          ],
          "scatter": [
           {
            "marker": {
             "colorbar": {
              "outlinewidth": 0,
              "ticks": ""
             }
            },
            "type": "scatter"
           }
          ],
          "scatter3d": [
           {
            "line": {
             "colorbar": {
              "outlinewidth": 0,
              "ticks": ""
             }
            },
            "marker": {
             "colorbar": {
              "outlinewidth": 0,
              "ticks": ""
             }
            },
            "type": "scatter3d"
           }
          ],
          "scattercarpet": [
           {
            "marker": {
             "colorbar": {
              "outlinewidth": 0,
              "ticks": ""
             }
            },
            "type": "scattercarpet"
           }
          ],
          "scattergeo": [
           {
            "marker": {
             "colorbar": {
              "outlinewidth": 0,
              "ticks": ""
             }
            },
            "type": "scattergeo"
           }
          ],
          "scattergl": [
           {
            "marker": {
             "colorbar": {
              "outlinewidth": 0,
              "ticks": ""
             }
            },
            "type": "scattergl"
           }
          ],
          "scattermapbox": [
           {
            "marker": {
             "colorbar": {
              "outlinewidth": 0,
              "ticks": ""
             }
            },
            "type": "scattermapbox"
           }
          ],
          "scatterpolar": [
           {
            "marker": {
             "colorbar": {
              "outlinewidth": 0,
              "ticks": ""
             }
            },
            "type": "scatterpolar"
           }
          ],
          "scatterpolargl": [
           {
            "marker": {
             "colorbar": {
              "outlinewidth": 0,
              "ticks": ""
             }
            },
            "type": "scatterpolargl"
           }
          ],
          "scatterternary": [
           {
            "marker": {
             "colorbar": {
              "outlinewidth": 0,
              "ticks": ""
             }
            },
            "type": "scatterternary"
           }
          ],
          "surface": [
           {
            "colorbar": {
             "outlinewidth": 0,
             "ticks": ""
            },
            "colorscale": [
             [
              0,
              "#0d0887"
             ],
             [
              0.1111111111111111,
              "#46039f"
             ],
             [
              0.2222222222222222,
              "#7201a8"
             ],
             [
              0.3333333333333333,
              "#9c179e"
             ],
             [
              0.4444444444444444,
              "#bd3786"
             ],
             [
              0.5555555555555556,
              "#d8576b"
             ],
             [
              0.6666666666666666,
              "#ed7953"
             ],
             [
              0.7777777777777778,
              "#fb9f3a"
             ],
             [
              0.8888888888888888,
              "#fdca26"
             ],
             [
              1,
              "#f0f921"
             ]
            ],
            "type": "surface"
           }
          ],
          "table": [
           {
            "cells": {
             "fill": {
              "color": "#EBF0F8"
             },
             "line": {
              "color": "white"
             }
            },
            "header": {
             "fill": {
              "color": "#C8D4E3"
             },
             "line": {
              "color": "white"
             }
            },
            "type": "table"
           }
          ]
         },
         "layout": {
          "annotationdefaults": {
           "arrowcolor": "#2a3f5f",
           "arrowhead": 0,
           "arrowwidth": 1
          },
          "coloraxis": {
           "colorbar": {
            "outlinewidth": 0,
            "ticks": ""
           }
          },
          "colorscale": {
           "diverging": [
            [
             0,
             "#8e0152"
            ],
            [
             0.1,
             "#c51b7d"
            ],
            [
             0.2,
             "#de77ae"
            ],
            [
             0.3,
             "#f1b6da"
            ],
            [
             0.4,
             "#fde0ef"
            ],
            [
             0.5,
             "#f7f7f7"
            ],
            [
             0.6,
             "#e6f5d0"
            ],
            [
             0.7,
             "#b8e186"
            ],
            [
             0.8,
             "#7fbc41"
            ],
            [
             0.9,
             "#4d9221"
            ],
            [
             1,
             "#276419"
            ]
           ],
           "sequential": [
            [
             0,
             "#0d0887"
            ],
            [
             0.1111111111111111,
             "#46039f"
            ],
            [
             0.2222222222222222,
             "#7201a8"
            ],
            [
             0.3333333333333333,
             "#9c179e"
            ],
            [
             0.4444444444444444,
             "#bd3786"
            ],
            [
             0.5555555555555556,
             "#d8576b"
            ],
            [
             0.6666666666666666,
             "#ed7953"
            ],
            [
             0.7777777777777778,
             "#fb9f3a"
            ],
            [
             0.8888888888888888,
             "#fdca26"
            ],
            [
             1,
             "#f0f921"
            ]
           ],
           "sequentialminus": [
            [
             0,
             "#0d0887"
            ],
            [
             0.1111111111111111,
             "#46039f"
            ],
            [
             0.2222222222222222,
             "#7201a8"
            ],
            [
             0.3333333333333333,
             "#9c179e"
            ],
            [
             0.4444444444444444,
             "#bd3786"
            ],
            [
             0.5555555555555556,
             "#d8576b"
            ],
            [
             0.6666666666666666,
             "#ed7953"
            ],
            [
             0.7777777777777778,
             "#fb9f3a"
            ],
            [
             0.8888888888888888,
             "#fdca26"
            ],
            [
             1,
             "#f0f921"
            ]
           ]
          },
          "colorway": [
           "#636efa",
           "#EF553B",
           "#00cc96",
           "#ab63fa",
           "#FFA15A",
           "#19d3f3",
           "#FF6692",
           "#B6E880",
           "#FF97FF",
           "#FECB52"
          ],
          "font": {
           "color": "#2a3f5f"
          },
          "geo": {
           "bgcolor": "white",
           "lakecolor": "white",
           "landcolor": "#E5ECF6",
           "showlakes": true,
           "showland": true,
           "subunitcolor": "white"
          },
          "hoverlabel": {
           "align": "left"
          },
          "hovermode": "closest",
          "mapbox": {
           "style": "light"
          },
          "paper_bgcolor": "white",
          "plot_bgcolor": "#E5ECF6",
          "polar": {
           "angularaxis": {
            "gridcolor": "white",
            "linecolor": "white",
            "ticks": ""
           },
           "bgcolor": "#E5ECF6",
           "radialaxis": {
            "gridcolor": "white",
            "linecolor": "white",
            "ticks": ""
           }
          },
          "scene": {
           "xaxis": {
            "backgroundcolor": "#E5ECF6",
            "gridcolor": "white",
            "gridwidth": 2,
            "linecolor": "white",
            "showbackground": true,
            "ticks": "",
            "zerolinecolor": "white"
           },
           "yaxis": {
            "backgroundcolor": "#E5ECF6",
            "gridcolor": "white",
            "gridwidth": 2,
            "linecolor": "white",
            "showbackground": true,
            "ticks": "",
            "zerolinecolor": "white"
           },
           "zaxis": {
            "backgroundcolor": "#E5ECF6",
            "gridcolor": "white",
            "gridwidth": 2,
            "linecolor": "white",
            "showbackground": true,
            "ticks": "",
            "zerolinecolor": "white"
           }
          },
          "shapedefaults": {
           "line": {
            "color": "#2a3f5f"
           }
          },
          "ternary": {
           "aaxis": {
            "gridcolor": "white",
            "linecolor": "white",
            "ticks": ""
           },
           "baxis": {
            "gridcolor": "white",
            "linecolor": "white",
            "ticks": ""
           },
           "bgcolor": "#E5ECF6",
           "caxis": {
            "gridcolor": "white",
            "linecolor": "white",
            "ticks": ""
           }
          },
          "title": {
           "x": 0.05
          },
          "xaxis": {
           "automargin": true,
           "gridcolor": "white",
           "linecolor": "white",
           "ticks": "",
           "title": {
            "standoff": 15
           },
           "zerolinecolor": "white",
           "zerolinewidth": 2
          },
          "yaxis": {
           "automargin": true,
           "gridcolor": "white",
           "linecolor": "white",
           "ticks": "",
           "title": {
            "standoff": 15
           },
           "zerolinecolor": "white",
           "zerolinewidth": 2
          }
         }
        },
        "title": {
         "text": "Visualizing Clusters in One Dimension Using T-SNE (perplexity=50)"
        },
        "xaxis": {
         "ticklen": 5,
         "title": {
          "text": "TC1"
         },
         "zeroline": false
        },
        "yaxis": {
         "ticklen": 5,
         "title": {
          "text": ""
         },
         "zeroline": false
        }
       }
      },
      "text/html": [
       "<div>\n",
       "        \n",
       "        \n",
       "            <div id=\"ca3fa4b2-7833-4805-9575-694a238f1e81\" class=\"plotly-graph-div\" style=\"height:525px; width:100%;\"></div>\n",
       "            <script type=\"text/javascript\">\n",
       "                require([\"plotly\"], function(Plotly) {\n",
       "                    window.PLOTLYENV=window.PLOTLYENV || {};\n",
       "                    \n",
       "                if (document.getElementById(\"ca3fa4b2-7833-4805-9575-694a238f1e81\")) {\n",
       "                    Plotly.newPlot(\n",
       "                        'ca3fa4b2-7833-4805-9575-694a238f1e81',\n",
       "                        [{\"marker\": {\"color\": \"rgba(255, 128, 255, 0.8)\"}, \"mode\": \"markers\", \"name\": \"Cluster 0\", \"text\": [\"Sierra Leone\", \"Kenya\", \"Liechtenstein\", \"Ethiopia\", \"Sudan\", \"Benin\", \"West Bank and Gaza\", \"India\", \"Somalia\", \"Honduras\", \"Equatorial Guinea\", \"Bolivia\", \"Guinea-Bissau\", \"Zambia\", \"Bangladesh\", \"Indonesia\", \"Jamaica\", \"South Africa\", \"Angola\", \"Cote d'Ivoire\", \"Timor-Leste\", \"Kosovo\", \"Mali\", \"Gabon\", \"Malawi\", \"Mauritania\", \"Mozambique\", \"Haiti\", \"Guyana\", \"Philippines\", \"Ghana\", \"Madagascar\", \"Central African Republic\", \"Namibia\", \"Guatemala\", \"Cambodia\", \"Burundi\", \"Tanzania\", \"Zimbabwe\", \"Sao Tome and Principe\", \"Burkina Faso\", \"Senegal\", \"Papua New Guinea\", \"Guinea\", \"Rwanda\", \"Chad\", \"Niger\", \"Bhutan\", \"Cabo Verde\", \"Cameroon\", \"Pakistan\"], \"type\": \"scatter\", \"x\": [-2.6983273029327393, -2.653428077697754, 2.776360511779785, -2.8009002208709717, -2.4728634357452393, -2.796889543533325, -4.1840596199035645, -1.4806724786758423, -3.5554704666137695, -0.9158520698547363, -3.538844108581543, -1.0756478309631348, -2.792949914932251, -2.765228033065796, -2.3712081909179688, -1.1143015623092651, -1.0848815441131592, -4.016815185546875, -3.035914182662964, -2.6639230251312256, -1.5169161558151245, -1.6871321201324463, -2.9028234481811523, -3.936556339263916, -2.544459104537964, -2.8816797733306885, -3.0016841888427734, -2.9101147651672363, -1.1746625900268555, -1.4633911848068237, -2.5453500747680664, -2.8780517578125, -3.2606072425842285, -3.6457784175872803, -1.4340794086456299, -1.6664392948150635, -2.558318853378296, -2.569495916366577, -2.179107904434204, -2.0326828956604004, -2.7583346366882324, -2.616816997528076, -1.6451655626296997, -3.081606388092041, -2.472074031829834, -3.3230271339416504, -3.223503589630127, -1.8315054178237915, -1.6531862020492554, -2.767467737197876, -2.6024889945983887], \"y\": [0, 0, 0, 0, 0, 0, 0, 0, 0, 0, 0, 0, 0, 0, 0, 0, 0, 0, 0, 0, 0, 0, 0, 0, 0, 0, 0, 0, 0, 0, 0, 0, 0, 0, 0, 0, 0, 0, 0, 0, 0, 0, 0, 0, 0, 0, 0, 0, 0, 0, 0]}, {\"marker\": {\"color\": \"rgba(255, 128, 2, 0.8)\"}, \"mode\": \"markers\", \"name\": \"Cluster 1\", \"text\": [\"United States\"], \"type\": \"scatter\", \"x\": [3.4837136268615723], \"y\": [0]}, {\"marker\": {\"color\": \"rgba(0, 255, 200, 0.8)\"}, \"mode\": \"markers\", \"name\": \"Cluster 2\", \"text\": [\"Slovenia\", \"Fiji\", \"Malta\", \"Paraguay\", \"Croatia\", \"Mongolia\", \"Denmark\", \"Ukraine\", \"Germany\", \"Algeria\", \"Azerbaijan\", \"Cyprus\", \"Bahrain\", \"Belgium\", \"Singapore\", \"Japan\", \"Andorra\", \"Morocco\", \"Spain\", \"Chile\", \"Brazil\", \"Kazakhstan\", \"Monaco\", \"Dominican Republic\", \"Mexico\", \"Mauritius\", \"Nicaragua\", \"Tunisia\", \"Uzbekistan\", \"Lebanon\", \"Finland\", \"Georgia\", \"Saudi Arabia\", \"Italy\", \"United Kingdom\", \"United Arab Emirates\", \"Albania\", \"Peru\", \"Suriname\", \"Moldova\", \"Lithuania\", \"Israel\", \"Netherlands\", \"Maldives\", \"Greece\", \"Serbia\", \"Turkey\", \"Antigua and Barbuda\", \"Estonia\", \"Cuba\", \"Ecuador\", \"Belarus\", \"Latvia\", \"Austria\", \"France\", \"Grenada\", \"Portugal\", \"Luxembourg\", \"Sweden\", \"Iceland\", \"San Marino\", \"El Salvador\", \"Belize\", \"Panama\", \"Costa Rica\", \"Dominica\", \"Hungary\", \"Qatar\", \"Oman\", \"Trinidad and Tobago\", \"Armenia\", \"China\", \"Uruguay\", \"Thailand\", \"Norway\"], \"type\": \"scatter\", \"x\": [1.4025657176971436, -0.3030911087989807, 1.2731742858886719, -0.6345064043998718, 0.9504173398017883, 0.06356988102197647, 2.149972438812256, 0.8417086601257324, -5.005069732666016, -0.44204553961753845, 0.016004618257284164, 0.5687206983566284, 0.9206787347793579, 2.1239237785339355, 1.7645975351333618, 2.2385759353637695, -0.714857280254364, -0.5685647130012512, 3.3852176666259766, 0.08345586806535721, -0.6258759498596191, 0.4521058201789856, 1.8600986003875732, -0.4531654417514801, -0.38151079416275024, 0.07642990350723267, -0.9611777663230896, -0.04808184877038002, -0.2000642865896225, -0.8194449543952942, 2.1365139484405518, 0.24370811879634857, 0.8794896602630615, 3.388188362121582, 3.0175387859344482, 1.1379059553146362, 0.2770838439464569, -0.8014863729476929, -0.09610959887504578, 0.2743048071861267, 1.375759482383728, 0.5643537640571594, 2.1278953552246094, -0.08296620100736618, 0.8824499249458313, 0.5544554591178894, -4.361639499664307, -0.19369691610336304, 1.2829017639160156, 0.46798330545425415, -0.874057412147522, 1.2941813468933105, 1.1833086013793945, 2.108253002166748, -4.9934892654418945, -0.19815537333488464, 0.9980608224868774, 2.242626190185547, 2.169528007507324, 2.1429965496063232, -4.465919494628906, -0.6854154467582703, -0.7936411499977112, -0.4700174927711487, -0.10708886384963989, -0.7607308030128479, 1.4445046186447144, 1.1871379613876343, -0.6926006078720093, -0.08558999001979828, 0.15975934267044067, 2.9267396926879883, 0.3639240860939026, -0.3409101963043213, 2.1667027473449707], \"y\": [0, 0, 0, 0, 0, 0, 0, 0, 0, 0, 0, 0, 0, 0, 0, 0, 0, 0, 0, 0, 0, 0, 0, 0, 0, 0, 0, 0, 0, 0, 0, 0, 0, 0, 0, 0, 0, 0, 0, 0, 0, 0, 0, 0, 0, 0, 0, 0, 0, 0, 0, 0, 0, 0, 0, 0, 0, 0, 0, 0, 0, 0, 0, 0, 0, 0, 0, 0, 0, 0, 0, 0, 0, 0, 0]}],\n",
       "                        {\"template\": {\"data\": {\"bar\": [{\"error_x\": {\"color\": \"#2a3f5f\"}, \"error_y\": {\"color\": \"#2a3f5f\"}, \"marker\": {\"line\": {\"color\": \"#E5ECF6\", \"width\": 0.5}}, \"type\": \"bar\"}], \"barpolar\": [{\"marker\": {\"line\": {\"color\": \"#E5ECF6\", \"width\": 0.5}}, \"type\": \"barpolar\"}], \"carpet\": [{\"aaxis\": {\"endlinecolor\": \"#2a3f5f\", \"gridcolor\": \"white\", \"linecolor\": \"white\", \"minorgridcolor\": \"white\", \"startlinecolor\": \"#2a3f5f\"}, \"baxis\": {\"endlinecolor\": \"#2a3f5f\", \"gridcolor\": \"white\", \"linecolor\": \"white\", \"minorgridcolor\": \"white\", \"startlinecolor\": \"#2a3f5f\"}, \"type\": \"carpet\"}], \"choropleth\": [{\"colorbar\": {\"outlinewidth\": 0, \"ticks\": \"\"}, \"type\": \"choropleth\"}], \"contour\": [{\"colorbar\": {\"outlinewidth\": 0, \"ticks\": \"\"}, \"colorscale\": [[0.0, \"#0d0887\"], [0.1111111111111111, \"#46039f\"], [0.2222222222222222, \"#7201a8\"], [0.3333333333333333, \"#9c179e\"], [0.4444444444444444, \"#bd3786\"], [0.5555555555555556, \"#d8576b\"], [0.6666666666666666, \"#ed7953\"], [0.7777777777777778, \"#fb9f3a\"], [0.8888888888888888, \"#fdca26\"], [1.0, \"#f0f921\"]], \"type\": \"contour\"}], \"contourcarpet\": [{\"colorbar\": {\"outlinewidth\": 0, \"ticks\": \"\"}, \"type\": \"contourcarpet\"}], \"heatmap\": [{\"colorbar\": {\"outlinewidth\": 0, \"ticks\": \"\"}, \"colorscale\": [[0.0, \"#0d0887\"], [0.1111111111111111, \"#46039f\"], [0.2222222222222222, \"#7201a8\"], [0.3333333333333333, \"#9c179e\"], [0.4444444444444444, \"#bd3786\"], [0.5555555555555556, \"#d8576b\"], [0.6666666666666666, \"#ed7953\"], [0.7777777777777778, \"#fb9f3a\"], [0.8888888888888888, \"#fdca26\"], [1.0, \"#f0f921\"]], \"type\": \"heatmap\"}], \"heatmapgl\": [{\"colorbar\": {\"outlinewidth\": 0, \"ticks\": \"\"}, \"colorscale\": [[0.0, \"#0d0887\"], [0.1111111111111111, \"#46039f\"], [0.2222222222222222, \"#7201a8\"], [0.3333333333333333, \"#9c179e\"], [0.4444444444444444, \"#bd3786\"], [0.5555555555555556, \"#d8576b\"], [0.6666666666666666, \"#ed7953\"], [0.7777777777777778, \"#fb9f3a\"], [0.8888888888888888, \"#fdca26\"], [1.0, \"#f0f921\"]], \"type\": \"heatmapgl\"}], \"histogram\": [{\"marker\": {\"colorbar\": {\"outlinewidth\": 0, \"ticks\": \"\"}}, \"type\": \"histogram\"}], \"histogram2d\": [{\"colorbar\": {\"outlinewidth\": 0, \"ticks\": \"\"}, \"colorscale\": [[0.0, \"#0d0887\"], [0.1111111111111111, \"#46039f\"], [0.2222222222222222, \"#7201a8\"], [0.3333333333333333, \"#9c179e\"], [0.4444444444444444, \"#bd3786\"], [0.5555555555555556, \"#d8576b\"], [0.6666666666666666, \"#ed7953\"], [0.7777777777777778, \"#fb9f3a\"], [0.8888888888888888, \"#fdca26\"], [1.0, \"#f0f921\"]], \"type\": \"histogram2d\"}], \"histogram2dcontour\": [{\"colorbar\": {\"outlinewidth\": 0, \"ticks\": \"\"}, \"colorscale\": [[0.0, \"#0d0887\"], [0.1111111111111111, \"#46039f\"], [0.2222222222222222, \"#7201a8\"], [0.3333333333333333, \"#9c179e\"], [0.4444444444444444, \"#bd3786\"], [0.5555555555555556, \"#d8576b\"], [0.6666666666666666, \"#ed7953\"], [0.7777777777777778, \"#fb9f3a\"], [0.8888888888888888, \"#fdca26\"], [1.0, \"#f0f921\"]], \"type\": \"histogram2dcontour\"}], \"mesh3d\": [{\"colorbar\": {\"outlinewidth\": 0, \"ticks\": \"\"}, \"type\": \"mesh3d\"}], \"parcoords\": [{\"line\": {\"colorbar\": {\"outlinewidth\": 0, \"ticks\": \"\"}}, \"type\": \"parcoords\"}], \"pie\": [{\"automargin\": true, \"type\": \"pie\"}], \"scatter\": [{\"marker\": {\"colorbar\": {\"outlinewidth\": 0, \"ticks\": \"\"}}, \"type\": \"scatter\"}], \"scatter3d\": [{\"line\": {\"colorbar\": {\"outlinewidth\": 0, \"ticks\": \"\"}}, \"marker\": {\"colorbar\": {\"outlinewidth\": 0, \"ticks\": \"\"}}, \"type\": \"scatter3d\"}], \"scattercarpet\": [{\"marker\": {\"colorbar\": {\"outlinewidth\": 0, \"ticks\": \"\"}}, \"type\": \"scattercarpet\"}], \"scattergeo\": [{\"marker\": {\"colorbar\": {\"outlinewidth\": 0, \"ticks\": \"\"}}, \"type\": \"scattergeo\"}], \"scattergl\": [{\"marker\": {\"colorbar\": {\"outlinewidth\": 0, \"ticks\": \"\"}}, \"type\": \"scattergl\"}], \"scattermapbox\": [{\"marker\": {\"colorbar\": {\"outlinewidth\": 0, \"ticks\": \"\"}}, \"type\": \"scattermapbox\"}], \"scatterpolar\": [{\"marker\": {\"colorbar\": {\"outlinewidth\": 0, \"ticks\": \"\"}}, \"type\": \"scatterpolar\"}], \"scatterpolargl\": [{\"marker\": {\"colorbar\": {\"outlinewidth\": 0, \"ticks\": \"\"}}, \"type\": \"scatterpolargl\"}], \"scatterternary\": [{\"marker\": {\"colorbar\": {\"outlinewidth\": 0, \"ticks\": \"\"}}, \"type\": \"scatterternary\"}], \"surface\": [{\"colorbar\": {\"outlinewidth\": 0, \"ticks\": \"\"}, \"colorscale\": [[0.0, \"#0d0887\"], [0.1111111111111111, \"#46039f\"], [0.2222222222222222, \"#7201a8\"], [0.3333333333333333, \"#9c179e\"], [0.4444444444444444, \"#bd3786\"], [0.5555555555555556, \"#d8576b\"], [0.6666666666666666, \"#ed7953\"], [0.7777777777777778, \"#fb9f3a\"], [0.8888888888888888, \"#fdca26\"], [1.0, \"#f0f921\"]], \"type\": \"surface\"}], \"table\": [{\"cells\": {\"fill\": {\"color\": \"#EBF0F8\"}, \"line\": {\"color\": \"white\"}}, \"header\": {\"fill\": {\"color\": \"#C8D4E3\"}, \"line\": {\"color\": \"white\"}}, \"type\": \"table\"}]}, \"layout\": {\"annotationdefaults\": {\"arrowcolor\": \"#2a3f5f\", \"arrowhead\": 0, \"arrowwidth\": 1}, \"coloraxis\": {\"colorbar\": {\"outlinewidth\": 0, \"ticks\": \"\"}}, \"colorscale\": {\"diverging\": [[0, \"#8e0152\"], [0.1, \"#c51b7d\"], [0.2, \"#de77ae\"], [0.3, \"#f1b6da\"], [0.4, \"#fde0ef\"], [0.5, \"#f7f7f7\"], [0.6, \"#e6f5d0\"], [0.7, \"#b8e186\"], [0.8, \"#7fbc41\"], [0.9, \"#4d9221\"], [1, \"#276419\"]], \"sequential\": [[0.0, \"#0d0887\"], [0.1111111111111111, \"#46039f\"], [0.2222222222222222, \"#7201a8\"], [0.3333333333333333, \"#9c179e\"], [0.4444444444444444, \"#bd3786\"], [0.5555555555555556, \"#d8576b\"], [0.6666666666666666, \"#ed7953\"], [0.7777777777777778, \"#fb9f3a\"], [0.8888888888888888, \"#fdca26\"], [1.0, \"#f0f921\"]], \"sequentialminus\": [[0.0, \"#0d0887\"], [0.1111111111111111, \"#46039f\"], [0.2222222222222222, \"#7201a8\"], [0.3333333333333333, \"#9c179e\"], [0.4444444444444444, \"#bd3786\"], [0.5555555555555556, \"#d8576b\"], [0.6666666666666666, \"#ed7953\"], [0.7777777777777778, \"#fb9f3a\"], [0.8888888888888888, \"#fdca26\"], [1.0, \"#f0f921\"]]}, \"colorway\": [\"#636efa\", \"#EF553B\", \"#00cc96\", \"#ab63fa\", \"#FFA15A\", \"#19d3f3\", \"#FF6692\", \"#B6E880\", \"#FF97FF\", \"#FECB52\"], \"font\": {\"color\": \"#2a3f5f\"}, \"geo\": {\"bgcolor\": \"white\", \"lakecolor\": \"white\", \"landcolor\": \"#E5ECF6\", \"showlakes\": true, \"showland\": true, \"subunitcolor\": \"white\"}, \"hoverlabel\": {\"align\": \"left\"}, \"hovermode\": \"closest\", \"mapbox\": {\"style\": \"light\"}, \"paper_bgcolor\": \"white\", \"plot_bgcolor\": \"#E5ECF6\", \"polar\": {\"angularaxis\": {\"gridcolor\": \"white\", \"linecolor\": \"white\", \"ticks\": \"\"}, \"bgcolor\": \"#E5ECF6\", \"radialaxis\": {\"gridcolor\": \"white\", \"linecolor\": \"white\", \"ticks\": \"\"}}, \"scene\": {\"xaxis\": {\"backgroundcolor\": \"#E5ECF6\", \"gridcolor\": \"white\", \"gridwidth\": 2, \"linecolor\": \"white\", \"showbackground\": true, \"ticks\": \"\", \"zerolinecolor\": \"white\"}, \"yaxis\": {\"backgroundcolor\": \"#E5ECF6\", \"gridcolor\": \"white\", \"gridwidth\": 2, \"linecolor\": \"white\", \"showbackground\": true, \"ticks\": \"\", \"zerolinecolor\": \"white\"}, \"zaxis\": {\"backgroundcolor\": \"#E5ECF6\", \"gridcolor\": \"white\", \"gridwidth\": 2, \"linecolor\": \"white\", \"showbackground\": true, \"ticks\": \"\", \"zerolinecolor\": \"white\"}}, \"shapedefaults\": {\"line\": {\"color\": \"#2a3f5f\"}}, \"ternary\": {\"aaxis\": {\"gridcolor\": \"white\", \"linecolor\": \"white\", \"ticks\": \"\"}, \"baxis\": {\"gridcolor\": \"white\", \"linecolor\": \"white\", \"ticks\": \"\"}, \"bgcolor\": \"#E5ECF6\", \"caxis\": {\"gridcolor\": \"white\", \"linecolor\": \"white\", \"ticks\": \"\"}}, \"title\": {\"x\": 0.05}, \"xaxis\": {\"automargin\": true, \"gridcolor\": \"white\", \"linecolor\": \"white\", \"ticks\": \"\", \"title\": {\"standoff\": 15}, \"zerolinecolor\": \"white\", \"zerolinewidth\": 2}, \"yaxis\": {\"automargin\": true, \"gridcolor\": \"white\", \"linecolor\": \"white\", \"ticks\": \"\", \"title\": {\"standoff\": 15}, \"zerolinecolor\": \"white\", \"zerolinewidth\": 2}}}, \"title\": {\"text\": \"Visualizing Clusters in One Dimension Using T-SNE (perplexity=50)\"}, \"xaxis\": {\"ticklen\": 5, \"title\": {\"text\": \"TC1\"}, \"zeroline\": false}, \"yaxis\": {\"ticklen\": 5, \"title\": {\"text\": \"\"}, \"zeroline\": false}},\n",
       "                        {\"responsive\": true}\n",
       "                    ).then(function(){\n",
       "                            \n",
       "var gd = document.getElementById('ca3fa4b2-7833-4805-9575-694a238f1e81');\n",
       "var x = new MutationObserver(function (mutations, observer) {{\n",
       "        var display = window.getComputedStyle(gd).display;\n",
       "        if (!display || display === 'none') {{\n",
       "            console.log([gd, 'removed!']);\n",
       "            Plotly.purge(gd);\n",
       "            observer.disconnect();\n",
       "        }}\n",
       "}});\n",
       "\n",
       "// Listen for the removal of the full notebook cells\n",
       "var notebookContainer = gd.closest('#notebook-container');\n",
       "if (notebookContainer) {{\n",
       "    x.observe(notebookContainer, {childList: true});\n",
       "}}\n",
       "\n",
       "// Listen for the clearing of the current output cell\n",
       "var outputEl = gd.closest('.output');\n",
       "if (outputEl) {{\n",
       "    x.observe(outputEl, {childList: true});\n",
       "}}\n",
       "\n",
       "                        })\n",
       "                };\n",
       "                });\n",
       "            </script>\n",
       "        </div>"
      ]
     },
     "metadata": {},
     "output_type": "display_data"
    }
   ],
   "source": [
    "# 1d\n",
    "#trace1 is for 'Cluster 0'\n",
    "trace1 = go.Scatter(\n",
    "                    x = cluster0[\"TC1_1d\"],\n",
    "                    y = cluster0[\"dummy\"],\n",
    "                    mode = \"markers\",\n",
    "                    name = \"Cluster 0\",\n",
    "                    marker = dict(color = 'rgba(255, 128, 255, 0.8)'),\n",
    "                    text = cluster0.index)\n",
    "\n",
    "#trace2 is for 'Cluster 1'\n",
    "trace2 = go.Scatter(\n",
    "                    x = cluster1[\"TC1_1d\"],\n",
    "                    y = cluster1[\"dummy\"],\n",
    "                    mode = \"markers\",\n",
    "                    name = \"Cluster 1\",\n",
    "                    marker = dict(color = 'rgba(255, 128, 2, 0.8)'),\n",
    "                    text = cluster1.index)\n",
    "\n",
    "#trace3 is for 'Cluster 2'\n",
    "trace3 = go.Scatter(\n",
    "                    x = cluster2[\"TC1_1d\"],\n",
    "                    y = cluster2[\"dummy\"],\n",
    "                    mode = \"markers\",\n",
    "                    name = \"Cluster 2\",\n",
    "                    marker = dict(color = 'rgba(0, 255, 200, 0.8)'),\n",
    "                    text = cluster2.index)\n",
    "\n",
    "data = [trace1, trace2, trace3]\n",
    "\n",
    "title = \"Visualizing Clusters in One Dimension Using T-SNE (perplexity=\" + str(perplexity) + \")\"\n",
    "\n",
    "layout = dict(title = title,\n",
    "              xaxis= dict(title= 'TC1',ticklen= 5,zeroline= False),\n",
    "              yaxis= dict(title= '',ticklen= 5,zeroline= False)\n",
    "             )\n",
    "\n",
    "fig = dict(data = data, layout = layout)\n",
    "\n",
    "iplot(fig)\n"
   ]
  },
  {
   "cell_type": "code",
   "execution_count": 175,
   "metadata": {},
   "outputs": [
    {
     "data": {
      "application/vnd.plotly.v1+json": {
       "config": {
        "linkText": "Export to plot.ly",
        "plotlyServerURL": "https://plot.ly",
        "showLink": false
       },
       "data": [
        {
         "marker": {
          "color": "rgba(255, 128, 255, 0.8)"
         },
         "mode": "markers",
         "name": "Cluster: 0",
         "text": [
          "Sierra Leone",
          "Kenya",
          "Liechtenstein",
          "Ethiopia",
          "Sudan",
          "Benin",
          "West Bank and Gaza",
          "India",
          "Somalia",
          "Honduras",
          "Equatorial Guinea",
          "Bolivia",
          "Guinea-Bissau",
          "Zambia",
          "Bangladesh",
          "Indonesia",
          "Jamaica",
          "South Africa",
          "Angola",
          "Cote d'Ivoire",
          "Timor-Leste",
          "Kosovo",
          "Mali",
          "Gabon",
          "Malawi",
          "Mauritania",
          "Mozambique",
          "Haiti",
          "Guyana",
          "Philippines",
          "Ghana",
          "Madagascar",
          "Central African Republic",
          "Namibia",
          "Guatemala",
          "Cambodia",
          "Burundi",
          "Tanzania",
          "Zimbabwe",
          "Sao Tome and Principe",
          "Burkina Faso",
          "Senegal",
          "Papua New Guinea",
          "Guinea",
          "Rwanda",
          "Chad",
          "Niger",
          "Bhutan",
          "Cabo Verde",
          "Cameroon",
          "Pakistan"
         ],
         "type": "scatter",
         "x": [
          -1.27272367477417,
          -1.4330639839172363,
          -4.503443717956543,
          -1.867601752281189,
          -2.7912285327911377,
          -1.3362919092178345,
          -4.059589385986328,
          2.4584615230560303,
          0.0003510389942675829,
          -1.1835421323776245,
          -1.3515000343322754,
          -0.9267036318778992,
          -1.2541950941085815,
          -0.6684287786483765,
          -2.304694175720215,
          -0.12172774970531464,
          -0.8959437608718872,
          -3.4174821376800537,
          -0.9600072503089905,
          -1.1526581048965454,
          -2.966724157333374,
          -4.504114627838135,
          -1.2951894998550415,
          0.6114489436149597,
          -1.896435022354126,
          -0.8604378700256348,
          -0.4785776138305664,
          -0.22754605114459991,
          -1.7695553302764893,
          -1.2671558856964111,
          -0.7625438570976257,
          -0.5651130080223083,
          -1.7679250240325928,
          0.23891226947307587,
          -1.2137945890426636,
          -2.177475929260254,
          -2.1203079223632812,
          -1.4386017322540283,
          -1.7723456621170044,
          -0.2856810688972473,
          -1.5222632884979248,
          -1.2971611022949219,
          -3.0292487144470215,
          -1.3573025465011597,
          -1.932848334312439,
          -1.9365664720535278,
          -2.4167799949645996,
          -1.6806076765060425,
          -0.48917368054389954,
          -2.353785991668701,
          -2.236891508102417
         ],
         "y": [
          0.492301881313324,
          0.2266097068786621,
          -0.08242212235927582,
          0.9134091138839722,
          0.27358266711235046,
          0.8401271104812622,
          -1.232243299484253,
          -1.4194183349609375,
          1.6290441751480103,
          -2.324028491973877,
          2.1398255825042725,
          -2.0475733280181885,
          0.7333417534828186,
          -0.014999320730566978,
          0.1177029237151146,
          -2.0302321910858154,
          -1.9540647268295288,
          -1.2566509246826172,
          1.1984188556671143,
          0.4518890082836151,
          -2.171621799468994,
          -0.07558442652225494,
          0.9913402199745178,
          -0.9018399119377136,
          0.04404180869460106,
          0.735650897026062,
          1.0024383068084717,
          -0.0454951673746109,
          -2.0163092613220215,
          -1.4893747568130493,
          0.022910499945282936,
          0.8543141484260559,
          1.782928228378296,
          -0.7359727621078491,
          -1.524452805519104,
          -1.3451563119888306,
          0.242226704955101,
          0.08224479109048843,
          -0.5081775188446045,
          -0.856314480304718,
          0.6305131912231445,
          0.287445604801178,
          -1.9053966999053955,
          1.5758134126663208,
          0.034584082663059235,
          1.873255968093872,
          1.565646767616272,
          -1.0187395811080933,
          -1.2431046962738037,
          0.9467124938964844,
          0.6748157143592834
         ]
        },
        {
         "marker": {
          "color": "rgba(255, 128, 2, 0.8)"
         },
         "mode": "markers",
         "name": "Cluster: 1",
         "text": [
          "United States"
         ],
         "type": "scatter",
         "x": [
          -2.336851119995117
         ],
         "y": [
          -8.53368854522705
         ]
        },
        {
         "marker": {
          "color": "rgba(0, 255, 200, 0.8)"
         },
         "mode": "markers",
         "name": "Cluster: 2",
         "text": [
          "Slovenia",
          "Fiji",
          "Malta",
          "Paraguay",
          "Croatia",
          "Mongolia",
          "Denmark",
          "Ukraine",
          "Germany",
          "Algeria",
          "Azerbaijan",
          "Cyprus",
          "Bahrain",
          "Belgium",
          "Singapore",
          "Japan",
          "Andorra",
          "Morocco",
          "Spain",
          "Chile",
          "Brazil",
          "Kazakhstan",
          "Monaco",
          "Dominican Republic",
          "Mexico",
          "Mauritius",
          "Nicaragua",
          "Tunisia",
          "Uzbekistan",
          "Lebanon",
          "Finland",
          "Georgia",
          "Saudi Arabia",
          "Italy",
          "United Kingdom",
          "United Arab Emirates",
          "Albania",
          "Peru",
          "Suriname",
          "Moldova",
          "Lithuania",
          "Israel",
          "Netherlands",
          "Maldives",
          "Greece",
          "Serbia",
          "Turkey",
          "Antigua and Barbuda",
          "Estonia",
          "Cuba",
          "Ecuador",
          "Belarus",
          "Latvia",
          "Austria",
          "France",
          "Grenada",
          "Portugal",
          "Luxembourg",
          "Sweden",
          "Iceland",
          "San Marino",
          "El Salvador",
          "Belize",
          "Panama",
          "Costa Rica",
          "Dominica",
          "Hungary",
          "Qatar",
          "Oman",
          "Trinidad and Tobago",
          "Armenia",
          "China",
          "Uruguay",
          "Thailand",
          "Norway"
         ],
         "type": "scatter",
         "x": [
          -1.6527886390686035,
          -1.3437906503677368,
          -0.67917400598526,
          -1.0543465614318848,
          -1.2970364093780518,
          -2.697025775909424,
          -0.19227829575538635,
          -2.7875473499298096,
          -1.0221593379974365,
          -0.2967323362827301,
          -1.302371621131897,
          -0.9291409254074097,
          0.8135191798210144,
          -1.025732398033142,
          1.30156409740448,
          -0.5382610559463501,
          1.7692811489105225,
          -0.7687596678733826,
          -2.2876720428466797,
          -0.5338588356971741,
          0.671631932258606,
          -1.7448915243148804,
          1.6674026250839233,
          -0.42070600390434265,
          -0.6518098711967468,
          -1.448876976966858,
          -1.4025782346725464,
          0.06701935827732086,
          -1.6502525806427002,
          -0.1751609891653061,
          -0.29849734902381897,
          0.1334245800971985,
          -3.6465961933135986,
          -2.2880425453186035,
          -1.8184770345687866,
          0.8682370781898499,
          -0.6894116401672363,
          -0.7531502842903137,
          -0.9066284894943237,
          -1.7369922399520874,
          -1.6262702941894531,
          -0.4553373157978058,
          -0.8678944110870361,
          -1.8254880905151367,
          -0.4613194167613983,
          0.46355536580085754,
          1.3366622924804688,
          -2.2734735012054443,
          -1.3935019969940186,
          -1.2536767721176147,
          -0.9219945669174194,
          -2.245664596557617,
          -1.3590651750564575,
          -0.5806373357772827,
          -1.9844075441360474,
          -2.068087100982666,
          -0.9567309021949768,
          0.11696331948041916,
          -0.25284865498542786,
          -0.09331618994474411,
          0.41808193922042847,
          -1.0566941499710083,
          -1.5147510766983032,
          -1.0675526857376099,
          -0.319612979888916,
          1.7384321689605713,
          -1.7279597520828247,
          -3.9103803634643555,
          -2.184109926223755,
          -1.5451420545578003,
          0.32105961441993713,
          2.4628214836120605,
          -0.30173322558403015,
          -1.8189983367919922,
          -0.1696363091468811
         ],
         "y": [
          -6.0377726554870605,
          -3.4104185104370117,
          -5.713119983673096,
          -2.8280866146087646,
          -5.346606731414795,
          -4.103817939758301,
          -6.9540910720825195,
          -5.3312296867370605,
          -7.797175407409668,
          -3.0461978912353516,
          -3.8970322608947754,
          -4.796698093414307,
          -5.174921989440918,
          -7.067564487457275,
          -6.189079761505127,
          -7.885095596313477,
          -4.245617389678955,
          -2.9150390625,
          -8.175728797912598,
          -4.030457496643066,
          -2.5997438430786133,
          -4.640676021575928,
          -6.209173202514648,
          -3.128784656524658,
          -3.2174766063690186,
          -4.0554327964782715,
          -2.245312213897705,
          -3.387887716293335,
          -3.6060597896575928,
          -2.3633008003234863,
          -7.007658004760742,
          -3.85457706451416,
          -4.048841953277588,
          -8.174761772155762,
          -8.084602355957031,
          -5.446170330047607,
          -4.288678169250488,
          -2.4826483726501465,
          -3.6152026653289795,
          -4.344254493713379,
          -5.978093147277832,
          -4.830206871032715,
          -7.060577869415283,
          -3.833050012588501,
          -5.211650371551514,
          -4.047857284545898,
          -2.9567410945892334,
          -3.5825719833374023,
          -5.830646514892578,
          -4.71847677230835,
          -2.3733298778533936,
          -5.815566539764404,
          -5.681392669677734,
          -7.151651382446289,
          -8.153203010559082,
          -3.6046969890594482,
          -5.412510395050049,
          -7.163329124450684,
          -6.997265815734863,
          -6.920300006866455,
          -4.906449794769287,
          -2.6802737712860107,
          -2.598289728164673,
          -3.1039178371429443,
          -3.640340566635132,
          -4.211541175842285,
          -6.092584609985352,
          -4.298678398132324,
          -2.6377594470977783,
          -3.6516575813293457,
          -3.625864267349243,
          -1.4465433359146118,
          -4.4186224937438965,
          -3.143202066421509,
          -7.022540092468262
         ]
        }
       ],
       "layout": {
        "template": {
         "data": {
          "bar": [
           {
            "error_x": {
             "color": "#2a3f5f"
            },
            "error_y": {
             "color": "#2a3f5f"
            },
            "marker": {
             "line": {
              "color": "#E5ECF6",
              "width": 0.5
             }
            },
            "type": "bar"
           }
          ],
          "barpolar": [
           {
            "marker": {
             "line": {
              "color": "#E5ECF6",
              "width": 0.5
             }
            },
            "type": "barpolar"
           }
          ],
          "carpet": [
           {
            "aaxis": {
             "endlinecolor": "#2a3f5f",
             "gridcolor": "white",
             "linecolor": "white",
             "minorgridcolor": "white",
             "startlinecolor": "#2a3f5f"
            },
            "baxis": {
             "endlinecolor": "#2a3f5f",
             "gridcolor": "white",
             "linecolor": "white",
             "minorgridcolor": "white",
             "startlinecolor": "#2a3f5f"
            },
            "type": "carpet"
           }
          ],
          "choropleth": [
           {
            "colorbar": {
             "outlinewidth": 0,
             "ticks": ""
            },
            "type": "choropleth"
           }
          ],
          "contour": [
           {
            "colorbar": {
             "outlinewidth": 0,
             "ticks": ""
            },
            "colorscale": [
             [
              0,
              "#0d0887"
             ],
             [
              0.1111111111111111,
              "#46039f"
             ],
             [
              0.2222222222222222,
              "#7201a8"
             ],
             [
              0.3333333333333333,
              "#9c179e"
             ],
             [
              0.4444444444444444,
              "#bd3786"
             ],
             [
              0.5555555555555556,
              "#d8576b"
             ],
             [
              0.6666666666666666,
              "#ed7953"
             ],
             [
              0.7777777777777778,
              "#fb9f3a"
             ],
             [
              0.8888888888888888,
              "#fdca26"
             ],
             [
              1,
              "#f0f921"
             ]
            ],
            "type": "contour"
           }
          ],
          "contourcarpet": [
           {
            "colorbar": {
             "outlinewidth": 0,
             "ticks": ""
            },
            "type": "contourcarpet"
           }
          ],
          "heatmap": [
           {
            "colorbar": {
             "outlinewidth": 0,
             "ticks": ""
            },
            "colorscale": [
             [
              0,
              "#0d0887"
             ],
             [
              0.1111111111111111,
              "#46039f"
             ],
             [
              0.2222222222222222,
              "#7201a8"
             ],
             [
              0.3333333333333333,
              "#9c179e"
             ],
             [
              0.4444444444444444,
              "#bd3786"
             ],
             [
              0.5555555555555556,
              "#d8576b"
             ],
             [
              0.6666666666666666,
              "#ed7953"
             ],
             [
              0.7777777777777778,
              "#fb9f3a"
             ],
             [
              0.8888888888888888,
              "#fdca26"
             ],
             [
              1,
              "#f0f921"
             ]
            ],
            "type": "heatmap"
           }
          ],
          "heatmapgl": [
           {
            "colorbar": {
             "outlinewidth": 0,
             "ticks": ""
            },
            "colorscale": [
             [
              0,
              "#0d0887"
             ],
             [
              0.1111111111111111,
              "#46039f"
             ],
             [
              0.2222222222222222,
              "#7201a8"
             ],
             [
              0.3333333333333333,
              "#9c179e"
             ],
             [
              0.4444444444444444,
              "#bd3786"
             ],
             [
              0.5555555555555556,
              "#d8576b"
             ],
             [
              0.6666666666666666,
              "#ed7953"
             ],
             [
              0.7777777777777778,
              "#fb9f3a"
             ],
             [
              0.8888888888888888,
              "#fdca26"
             ],
             [
              1,
              "#f0f921"
             ]
            ],
            "type": "heatmapgl"
           }
          ],
          "histogram": [
           {
            "marker": {
             "colorbar": {
              "outlinewidth": 0,
              "ticks": ""
             }
            },
            "type": "histogram"
           }
          ],
          "histogram2d": [
           {
            "colorbar": {
             "outlinewidth": 0,
             "ticks": ""
            },
            "colorscale": [
             [
              0,
              "#0d0887"
             ],
             [
              0.1111111111111111,
              "#46039f"
             ],
             [
              0.2222222222222222,
              "#7201a8"
             ],
             [
              0.3333333333333333,
              "#9c179e"
             ],
             [
              0.4444444444444444,
              "#bd3786"
             ],
             [
              0.5555555555555556,
              "#d8576b"
             ],
             [
              0.6666666666666666,
              "#ed7953"
             ],
             [
              0.7777777777777778,
              "#fb9f3a"
             ],
             [
              0.8888888888888888,
              "#fdca26"
             ],
             [
              1,
              "#f0f921"
             ]
            ],
            "type": "histogram2d"
           }
          ],
          "histogram2dcontour": [
           {
            "colorbar": {
             "outlinewidth": 0,
             "ticks": ""
            },
            "colorscale": [
             [
              0,
              "#0d0887"
             ],
             [
              0.1111111111111111,
              "#46039f"
             ],
             [
              0.2222222222222222,
              "#7201a8"
             ],
             [
              0.3333333333333333,
              "#9c179e"
             ],
             [
              0.4444444444444444,
              "#bd3786"
             ],
             [
              0.5555555555555556,
              "#d8576b"
             ],
             [
              0.6666666666666666,
              "#ed7953"
             ],
             [
              0.7777777777777778,
              "#fb9f3a"
             ],
             [
              0.8888888888888888,
              "#fdca26"
             ],
             [
              1,
              "#f0f921"
             ]
            ],
            "type": "histogram2dcontour"
           }
          ],
          "mesh3d": [
           {
            "colorbar": {
             "outlinewidth": 0,
             "ticks": ""
            },
            "type": "mesh3d"
           }
          ],
          "parcoords": [
           {
            "line": {
             "colorbar": {
              "outlinewidth": 0,
              "ticks": ""
             }
            },
            "type": "parcoords"
           }
          ],
          "pie": [
           {
            "automargin": true,
            "type": "pie"
           }
          ],
          "scatter": [
           {
            "marker": {
             "colorbar": {
              "outlinewidth": 0,
              "ticks": ""
             }
            },
            "type": "scatter"
           }
          ],
          "scatter3d": [
           {
            "line": {
             "colorbar": {
              "outlinewidth": 0,
              "ticks": ""
             }
            },
            "marker": {
             "colorbar": {
              "outlinewidth": 0,
              "ticks": ""
             }
            },
            "type": "scatter3d"
           }
          ],
          "scattercarpet": [
           {
            "marker": {
             "colorbar": {
              "outlinewidth": 0,
              "ticks": ""
             }
            },
            "type": "scattercarpet"
           }
          ],
          "scattergeo": [
           {
            "marker": {
             "colorbar": {
              "outlinewidth": 0,
              "ticks": ""
             }
            },
            "type": "scattergeo"
           }
          ],
          "scattergl": [
           {
            "marker": {
             "colorbar": {
              "outlinewidth": 0,
              "ticks": ""
             }
            },
            "type": "scattergl"
           }
          ],
          "scattermapbox": [
           {
            "marker": {
             "colorbar": {
              "outlinewidth": 0,
              "ticks": ""
             }
            },
            "type": "scattermapbox"
           }
          ],
          "scatterpolar": [
           {
            "marker": {
             "colorbar": {
              "outlinewidth": 0,
              "ticks": ""
             }
            },
            "type": "scatterpolar"
           }
          ],
          "scatterpolargl": [
           {
            "marker": {
             "colorbar": {
              "outlinewidth": 0,
              "ticks": ""
             }
            },
            "type": "scatterpolargl"
           }
          ],
          "scatterternary": [
           {
            "marker": {
             "colorbar": {
              "outlinewidth": 0,
              "ticks": ""
             }
            },
            "type": "scatterternary"
           }
          ],
          "surface": [
           {
            "colorbar": {
             "outlinewidth": 0,
             "ticks": ""
            },
            "colorscale": [
             [
              0,
              "#0d0887"
             ],
             [
              0.1111111111111111,
              "#46039f"
             ],
             [
              0.2222222222222222,
              "#7201a8"
             ],
             [
              0.3333333333333333,
              "#9c179e"
             ],
             [
              0.4444444444444444,
              "#bd3786"
             ],
             [
              0.5555555555555556,
              "#d8576b"
             ],
             [
              0.6666666666666666,
              "#ed7953"
             ],
             [
              0.7777777777777778,
              "#fb9f3a"
             ],
             [
              0.8888888888888888,
              "#fdca26"
             ],
             [
              1,
              "#f0f921"
             ]
            ],
            "type": "surface"
           }
          ],
          "table": [
           {
            "cells": {
             "fill": {
              "color": "#EBF0F8"
             },
             "line": {
              "color": "white"
             }
            },
            "header": {
             "fill": {
              "color": "#C8D4E3"
             },
             "line": {
              "color": "white"
             }
            },
            "type": "table"
           }
          ]
         },
         "layout": {
          "annotationdefaults": {
           "arrowcolor": "#2a3f5f",
           "arrowhead": 0,
           "arrowwidth": 1
          },
          "coloraxis": {
           "colorbar": {
            "outlinewidth": 0,
            "ticks": ""
           }
          },
          "colorscale": {
           "diverging": [
            [
             0,
             "#8e0152"
            ],
            [
             0.1,
             "#c51b7d"
            ],
            [
             0.2,
             "#de77ae"
            ],
            [
             0.3,
             "#f1b6da"
            ],
            [
             0.4,
             "#fde0ef"
            ],
            [
             0.5,
             "#f7f7f7"
            ],
            [
             0.6,
             "#e6f5d0"
            ],
            [
             0.7,
             "#b8e186"
            ],
            [
             0.8,
             "#7fbc41"
            ],
            [
             0.9,
             "#4d9221"
            ],
            [
             1,
             "#276419"
            ]
           ],
           "sequential": [
            [
             0,
             "#0d0887"
            ],
            [
             0.1111111111111111,
             "#46039f"
            ],
            [
             0.2222222222222222,
             "#7201a8"
            ],
            [
             0.3333333333333333,
             "#9c179e"
            ],
            [
             0.4444444444444444,
             "#bd3786"
            ],
            [
             0.5555555555555556,
             "#d8576b"
            ],
            [
             0.6666666666666666,
             "#ed7953"
            ],
            [
             0.7777777777777778,
             "#fb9f3a"
            ],
            [
             0.8888888888888888,
             "#fdca26"
            ],
            [
             1,
             "#f0f921"
            ]
           ],
           "sequentialminus": [
            [
             0,
             "#0d0887"
            ],
            [
             0.1111111111111111,
             "#46039f"
            ],
            [
             0.2222222222222222,
             "#7201a8"
            ],
            [
             0.3333333333333333,
             "#9c179e"
            ],
            [
             0.4444444444444444,
             "#bd3786"
            ],
            [
             0.5555555555555556,
             "#d8576b"
            ],
            [
             0.6666666666666666,
             "#ed7953"
            ],
            [
             0.7777777777777778,
             "#fb9f3a"
            ],
            [
             0.8888888888888888,
             "#fdca26"
            ],
            [
             1,
             "#f0f921"
            ]
           ]
          },
          "colorway": [
           "#636efa",
           "#EF553B",
           "#00cc96",
           "#ab63fa",
           "#FFA15A",
           "#19d3f3",
           "#FF6692",
           "#B6E880",
           "#FF97FF",
           "#FECB52"
          ],
          "font": {
           "color": "#2a3f5f"
          },
          "geo": {
           "bgcolor": "white",
           "lakecolor": "white",
           "landcolor": "#E5ECF6",
           "showlakes": true,
           "showland": true,
           "subunitcolor": "white"
          },
          "hoverlabel": {
           "align": "left"
          },
          "hovermode": "closest",
          "mapbox": {
           "style": "light"
          },
          "paper_bgcolor": "white",
          "plot_bgcolor": "#E5ECF6",
          "polar": {
           "angularaxis": {
            "gridcolor": "white",
            "linecolor": "white",
            "ticks": ""
           },
           "bgcolor": "#E5ECF6",
           "radialaxis": {
            "gridcolor": "white",
            "linecolor": "white",
            "ticks": ""
           }
          },
          "scene": {
           "xaxis": {
            "backgroundcolor": "#E5ECF6",
            "gridcolor": "white",
            "gridwidth": 2,
            "linecolor": "white",
            "showbackground": true,
            "ticks": "",
            "zerolinecolor": "white"
           },
           "yaxis": {
            "backgroundcolor": "#E5ECF6",
            "gridcolor": "white",
            "gridwidth": 2,
            "linecolor": "white",
            "showbackground": true,
            "ticks": "",
            "zerolinecolor": "white"
           },
           "zaxis": {
            "backgroundcolor": "#E5ECF6",
            "gridcolor": "white",
            "gridwidth": 2,
            "linecolor": "white",
            "showbackground": true,
            "ticks": "",
            "zerolinecolor": "white"
           }
          },
          "shapedefaults": {
           "line": {
            "color": "#2a3f5f"
           }
          },
          "ternary": {
           "aaxis": {
            "gridcolor": "white",
            "linecolor": "white",
            "ticks": ""
           },
           "baxis": {
            "gridcolor": "white",
            "linecolor": "white",
            "ticks": ""
           },
           "bgcolor": "#E5ECF6",
           "caxis": {
            "gridcolor": "white",
            "linecolor": "white",
            "ticks": ""
           }
          },
          "title": {
           "x": 0.05
          },
          "xaxis": {
           "automargin": true,
           "gridcolor": "white",
           "linecolor": "white",
           "ticks": "",
           "title": {
            "standoff": 15
           },
           "zerolinecolor": "white",
           "zerolinewidth": 2
          },
          "yaxis": {
           "automargin": true,
           "gridcolor": "white",
           "linecolor": "white",
           "ticks": "",
           "title": {
            "standoff": 15
           },
           "zerolinecolor": "white",
           "zerolinewidth": 2
          }
         }
        },
        "title": {
         "text": "Visualizing Clusters in Two Dimensions Using T-SNE (perplexity=50)"
        },
        "xaxis": {
         "ticklen": 5,
         "title": {
          "text": "TC1"
         },
         "zeroline": false
        },
        "yaxis": {
         "ticklen": 5,
         "title": {
          "text": "TC2"
         },
         "zeroline": false
        }
       }
      },
      "text/html": [
       "<div>\n",
       "        \n",
       "        \n",
       "            <div id=\"12194624-27a4-450d-82de-e6d47c4b2f70\" class=\"plotly-graph-div\" style=\"height:525px; width:100%;\"></div>\n",
       "            <script type=\"text/javascript\">\n",
       "                require([\"plotly\"], function(Plotly) {\n",
       "                    window.PLOTLYENV=window.PLOTLYENV || {};\n",
       "                    \n",
       "                if (document.getElementById(\"12194624-27a4-450d-82de-e6d47c4b2f70\")) {\n",
       "                    Plotly.newPlot(\n",
       "                        '12194624-27a4-450d-82de-e6d47c4b2f70',\n",
       "                        [{\"marker\": {\"color\": \"rgba(255, 128, 255, 0.8)\"}, \"mode\": \"markers\", \"name\": \"Cluster: 0\", \"text\": [\"Sierra Leone\", \"Kenya\", \"Liechtenstein\", \"Ethiopia\", \"Sudan\", \"Benin\", \"West Bank and Gaza\", \"India\", \"Somalia\", \"Honduras\", \"Equatorial Guinea\", \"Bolivia\", \"Guinea-Bissau\", \"Zambia\", \"Bangladesh\", \"Indonesia\", \"Jamaica\", \"South Africa\", \"Angola\", \"Cote d'Ivoire\", \"Timor-Leste\", \"Kosovo\", \"Mali\", \"Gabon\", \"Malawi\", \"Mauritania\", \"Mozambique\", \"Haiti\", \"Guyana\", \"Philippines\", \"Ghana\", \"Madagascar\", \"Central African Republic\", \"Namibia\", \"Guatemala\", \"Cambodia\", \"Burundi\", \"Tanzania\", \"Zimbabwe\", \"Sao Tome and Principe\", \"Burkina Faso\", \"Senegal\", \"Papua New Guinea\", \"Guinea\", \"Rwanda\", \"Chad\", \"Niger\", \"Bhutan\", \"Cabo Verde\", \"Cameroon\", \"Pakistan\"], \"type\": \"scatter\", \"x\": [-1.27272367477417, -1.4330639839172363, -4.503443717956543, -1.867601752281189, -2.7912285327911377, -1.3362919092178345, -4.059589385986328, 2.4584615230560303, 0.0003510389942675829, -1.1835421323776245, -1.3515000343322754, -0.9267036318778992, -1.2541950941085815, -0.6684287786483765, -2.304694175720215, -0.12172774970531464, -0.8959437608718872, -3.4174821376800537, -0.9600072503089905, -1.1526581048965454, -2.966724157333374, -4.504114627838135, -1.2951894998550415, 0.6114489436149597, -1.896435022354126, -0.8604378700256348, -0.4785776138305664, -0.22754605114459991, -1.7695553302764893, -1.2671558856964111, -0.7625438570976257, -0.5651130080223083, -1.7679250240325928, 0.23891226947307587, -1.2137945890426636, -2.177475929260254, -2.1203079223632812, -1.4386017322540283, -1.7723456621170044, -0.2856810688972473, -1.5222632884979248, -1.2971611022949219, -3.0292487144470215, -1.3573025465011597, -1.932848334312439, -1.9365664720535278, -2.4167799949645996, -1.6806076765060425, -0.48917368054389954, -2.353785991668701, -2.236891508102417], \"y\": [0.492301881313324, 0.2266097068786621, -0.08242212235927582, 0.9134091138839722, 0.27358266711235046, 0.8401271104812622, -1.232243299484253, -1.4194183349609375, 1.6290441751480103, -2.324028491973877, 2.1398255825042725, -2.0475733280181885, 0.7333417534828186, -0.014999320730566978, 0.1177029237151146, -2.0302321910858154, -1.9540647268295288, -1.2566509246826172, 1.1984188556671143, 0.4518890082836151, -2.171621799468994, -0.07558442652225494, 0.9913402199745178, -0.9018399119377136, 0.04404180869460106, 0.735650897026062, 1.0024383068084717, -0.0454951673746109, -2.0163092613220215, -1.4893747568130493, 0.022910499945282936, 0.8543141484260559, 1.782928228378296, -0.7359727621078491, -1.524452805519104, -1.3451563119888306, 0.242226704955101, 0.08224479109048843, -0.5081775188446045, -0.856314480304718, 0.6305131912231445, 0.287445604801178, -1.9053966999053955, 1.5758134126663208, 0.034584082663059235, 1.873255968093872, 1.565646767616272, -1.0187395811080933, -1.2431046962738037, 0.9467124938964844, 0.6748157143592834]}, {\"marker\": {\"color\": \"rgba(255, 128, 2, 0.8)\"}, \"mode\": \"markers\", \"name\": \"Cluster: 1\", \"text\": [\"United States\"], \"type\": \"scatter\", \"x\": [-2.336851119995117], \"y\": [-8.53368854522705]}, {\"marker\": {\"color\": \"rgba(0, 255, 200, 0.8)\"}, \"mode\": \"markers\", \"name\": \"Cluster: 2\", \"text\": [\"Slovenia\", \"Fiji\", \"Malta\", \"Paraguay\", \"Croatia\", \"Mongolia\", \"Denmark\", \"Ukraine\", \"Germany\", \"Algeria\", \"Azerbaijan\", \"Cyprus\", \"Bahrain\", \"Belgium\", \"Singapore\", \"Japan\", \"Andorra\", \"Morocco\", \"Spain\", \"Chile\", \"Brazil\", \"Kazakhstan\", \"Monaco\", \"Dominican Republic\", \"Mexico\", \"Mauritius\", \"Nicaragua\", \"Tunisia\", \"Uzbekistan\", \"Lebanon\", \"Finland\", \"Georgia\", \"Saudi Arabia\", \"Italy\", \"United Kingdom\", \"United Arab Emirates\", \"Albania\", \"Peru\", \"Suriname\", \"Moldova\", \"Lithuania\", \"Israel\", \"Netherlands\", \"Maldives\", \"Greece\", \"Serbia\", \"Turkey\", \"Antigua and Barbuda\", \"Estonia\", \"Cuba\", \"Ecuador\", \"Belarus\", \"Latvia\", \"Austria\", \"France\", \"Grenada\", \"Portugal\", \"Luxembourg\", \"Sweden\", \"Iceland\", \"San Marino\", \"El Salvador\", \"Belize\", \"Panama\", \"Costa Rica\", \"Dominica\", \"Hungary\", \"Qatar\", \"Oman\", \"Trinidad and Tobago\", \"Armenia\", \"China\", \"Uruguay\", \"Thailand\", \"Norway\"], \"type\": \"scatter\", \"x\": [-1.6527886390686035, -1.3437906503677368, -0.67917400598526, -1.0543465614318848, -1.2970364093780518, -2.697025775909424, -0.19227829575538635, -2.7875473499298096, -1.0221593379974365, -0.2967323362827301, -1.302371621131897, -0.9291409254074097, 0.8135191798210144, -1.025732398033142, 1.30156409740448, -0.5382610559463501, 1.7692811489105225, -0.7687596678733826, -2.2876720428466797, -0.5338588356971741, 0.671631932258606, -1.7448915243148804, 1.6674026250839233, -0.42070600390434265, -0.6518098711967468, -1.448876976966858, -1.4025782346725464, 0.06701935827732086, -1.6502525806427002, -0.1751609891653061, -0.29849734902381897, 0.1334245800971985, -3.6465961933135986, -2.2880425453186035, -1.8184770345687866, 0.8682370781898499, -0.6894116401672363, -0.7531502842903137, -0.9066284894943237, -1.7369922399520874, -1.6262702941894531, -0.4553373157978058, -0.8678944110870361, -1.8254880905151367, -0.4613194167613983, 0.46355536580085754, 1.3366622924804688, -2.2734735012054443, -1.3935019969940186, -1.2536767721176147, -0.9219945669174194, -2.245664596557617, -1.3590651750564575, -0.5806373357772827, -1.9844075441360474, -2.068087100982666, -0.9567309021949768, 0.11696331948041916, -0.25284865498542786, -0.09331618994474411, 0.41808193922042847, -1.0566941499710083, -1.5147510766983032, -1.0675526857376099, -0.319612979888916, 1.7384321689605713, -1.7279597520828247, -3.9103803634643555, -2.184109926223755, -1.5451420545578003, 0.32105961441993713, 2.4628214836120605, -0.30173322558403015, -1.8189983367919922, -0.1696363091468811], \"y\": [-6.0377726554870605, -3.4104185104370117, -5.713119983673096, -2.8280866146087646, -5.346606731414795, -4.103817939758301, -6.9540910720825195, -5.3312296867370605, -7.797175407409668, -3.0461978912353516, -3.8970322608947754, -4.796698093414307, -5.174921989440918, -7.067564487457275, -6.189079761505127, -7.885095596313477, -4.245617389678955, -2.9150390625, -8.175728797912598, -4.030457496643066, -2.5997438430786133, -4.640676021575928, -6.209173202514648, -3.128784656524658, -3.2174766063690186, -4.0554327964782715, -2.245312213897705, -3.387887716293335, -3.6060597896575928, -2.3633008003234863, -7.007658004760742, -3.85457706451416, -4.048841953277588, -8.174761772155762, -8.084602355957031, -5.446170330047607, -4.288678169250488, -2.4826483726501465, -3.6152026653289795, -4.344254493713379, -5.978093147277832, -4.830206871032715, -7.060577869415283, -3.833050012588501, -5.211650371551514, -4.047857284545898, -2.9567410945892334, -3.5825719833374023, -5.830646514892578, -4.71847677230835, -2.3733298778533936, -5.815566539764404, -5.681392669677734, -7.151651382446289, -8.153203010559082, -3.6046969890594482, -5.412510395050049, -7.163329124450684, -6.997265815734863, -6.920300006866455, -4.906449794769287, -2.6802737712860107, -2.598289728164673, -3.1039178371429443, -3.640340566635132, -4.211541175842285, -6.092584609985352, -4.298678398132324, -2.6377594470977783, -3.6516575813293457, -3.625864267349243, -1.4465433359146118, -4.4186224937438965, -3.143202066421509, -7.022540092468262]}],\n",
       "                        {\"template\": {\"data\": {\"bar\": [{\"error_x\": {\"color\": \"#2a3f5f\"}, \"error_y\": {\"color\": \"#2a3f5f\"}, \"marker\": {\"line\": {\"color\": \"#E5ECF6\", \"width\": 0.5}}, \"type\": \"bar\"}], \"barpolar\": [{\"marker\": {\"line\": {\"color\": \"#E5ECF6\", \"width\": 0.5}}, \"type\": \"barpolar\"}], \"carpet\": [{\"aaxis\": {\"endlinecolor\": \"#2a3f5f\", \"gridcolor\": \"white\", \"linecolor\": \"white\", \"minorgridcolor\": \"white\", \"startlinecolor\": \"#2a3f5f\"}, \"baxis\": {\"endlinecolor\": \"#2a3f5f\", \"gridcolor\": \"white\", \"linecolor\": \"white\", \"minorgridcolor\": \"white\", \"startlinecolor\": \"#2a3f5f\"}, \"type\": \"carpet\"}], \"choropleth\": [{\"colorbar\": {\"outlinewidth\": 0, \"ticks\": \"\"}, \"type\": \"choropleth\"}], \"contour\": [{\"colorbar\": {\"outlinewidth\": 0, \"ticks\": \"\"}, \"colorscale\": [[0.0, \"#0d0887\"], [0.1111111111111111, \"#46039f\"], [0.2222222222222222, \"#7201a8\"], [0.3333333333333333, \"#9c179e\"], [0.4444444444444444, \"#bd3786\"], [0.5555555555555556, \"#d8576b\"], [0.6666666666666666, \"#ed7953\"], [0.7777777777777778, \"#fb9f3a\"], [0.8888888888888888, \"#fdca26\"], [1.0, \"#f0f921\"]], \"type\": \"contour\"}], \"contourcarpet\": [{\"colorbar\": {\"outlinewidth\": 0, \"ticks\": \"\"}, \"type\": \"contourcarpet\"}], \"heatmap\": [{\"colorbar\": {\"outlinewidth\": 0, \"ticks\": \"\"}, \"colorscale\": [[0.0, \"#0d0887\"], [0.1111111111111111, \"#46039f\"], [0.2222222222222222, \"#7201a8\"], [0.3333333333333333, \"#9c179e\"], [0.4444444444444444, \"#bd3786\"], [0.5555555555555556, \"#d8576b\"], [0.6666666666666666, \"#ed7953\"], [0.7777777777777778, \"#fb9f3a\"], [0.8888888888888888, \"#fdca26\"], [1.0, \"#f0f921\"]], \"type\": \"heatmap\"}], \"heatmapgl\": [{\"colorbar\": {\"outlinewidth\": 0, \"ticks\": \"\"}, \"colorscale\": [[0.0, \"#0d0887\"], [0.1111111111111111, \"#46039f\"], [0.2222222222222222, \"#7201a8\"], [0.3333333333333333, \"#9c179e\"], [0.4444444444444444, \"#bd3786\"], [0.5555555555555556, \"#d8576b\"], [0.6666666666666666, \"#ed7953\"], [0.7777777777777778, \"#fb9f3a\"], [0.8888888888888888, \"#fdca26\"], [1.0, \"#f0f921\"]], \"type\": \"heatmapgl\"}], \"histogram\": [{\"marker\": {\"colorbar\": {\"outlinewidth\": 0, \"ticks\": \"\"}}, \"type\": \"histogram\"}], \"histogram2d\": [{\"colorbar\": {\"outlinewidth\": 0, \"ticks\": \"\"}, \"colorscale\": [[0.0, \"#0d0887\"], [0.1111111111111111, \"#46039f\"], [0.2222222222222222, \"#7201a8\"], [0.3333333333333333, \"#9c179e\"], [0.4444444444444444, \"#bd3786\"], [0.5555555555555556, \"#d8576b\"], [0.6666666666666666, \"#ed7953\"], [0.7777777777777778, \"#fb9f3a\"], [0.8888888888888888, \"#fdca26\"], [1.0, \"#f0f921\"]], \"type\": \"histogram2d\"}], \"histogram2dcontour\": [{\"colorbar\": {\"outlinewidth\": 0, \"ticks\": \"\"}, \"colorscale\": [[0.0, \"#0d0887\"], [0.1111111111111111, \"#46039f\"], [0.2222222222222222, \"#7201a8\"], [0.3333333333333333, \"#9c179e\"], [0.4444444444444444, \"#bd3786\"], [0.5555555555555556, \"#d8576b\"], [0.6666666666666666, \"#ed7953\"], [0.7777777777777778, \"#fb9f3a\"], [0.8888888888888888, \"#fdca26\"], [1.0, \"#f0f921\"]], \"type\": \"histogram2dcontour\"}], \"mesh3d\": [{\"colorbar\": {\"outlinewidth\": 0, \"ticks\": \"\"}, \"type\": \"mesh3d\"}], \"parcoords\": [{\"line\": {\"colorbar\": {\"outlinewidth\": 0, \"ticks\": \"\"}}, \"type\": \"parcoords\"}], \"pie\": [{\"automargin\": true, \"type\": \"pie\"}], \"scatter\": [{\"marker\": {\"colorbar\": {\"outlinewidth\": 0, \"ticks\": \"\"}}, \"type\": \"scatter\"}], \"scatter3d\": [{\"line\": {\"colorbar\": {\"outlinewidth\": 0, \"ticks\": \"\"}}, \"marker\": {\"colorbar\": {\"outlinewidth\": 0, \"ticks\": \"\"}}, \"type\": \"scatter3d\"}], \"scattercarpet\": [{\"marker\": {\"colorbar\": {\"outlinewidth\": 0, \"ticks\": \"\"}}, \"type\": \"scattercarpet\"}], \"scattergeo\": [{\"marker\": {\"colorbar\": {\"outlinewidth\": 0, \"ticks\": \"\"}}, \"type\": \"scattergeo\"}], \"scattergl\": [{\"marker\": {\"colorbar\": {\"outlinewidth\": 0, \"ticks\": \"\"}}, \"type\": \"scattergl\"}], \"scattermapbox\": [{\"marker\": {\"colorbar\": {\"outlinewidth\": 0, \"ticks\": \"\"}}, \"type\": \"scattermapbox\"}], \"scatterpolar\": [{\"marker\": {\"colorbar\": {\"outlinewidth\": 0, \"ticks\": \"\"}}, \"type\": \"scatterpolar\"}], \"scatterpolargl\": [{\"marker\": {\"colorbar\": {\"outlinewidth\": 0, \"ticks\": \"\"}}, \"type\": \"scatterpolargl\"}], \"scatterternary\": [{\"marker\": {\"colorbar\": {\"outlinewidth\": 0, \"ticks\": \"\"}}, \"type\": \"scatterternary\"}], \"surface\": [{\"colorbar\": {\"outlinewidth\": 0, \"ticks\": \"\"}, \"colorscale\": [[0.0, \"#0d0887\"], [0.1111111111111111, \"#46039f\"], [0.2222222222222222, \"#7201a8\"], [0.3333333333333333, \"#9c179e\"], [0.4444444444444444, \"#bd3786\"], [0.5555555555555556, \"#d8576b\"], [0.6666666666666666, \"#ed7953\"], [0.7777777777777778, \"#fb9f3a\"], [0.8888888888888888, \"#fdca26\"], [1.0, \"#f0f921\"]], \"type\": \"surface\"}], \"table\": [{\"cells\": {\"fill\": {\"color\": \"#EBF0F8\"}, \"line\": {\"color\": \"white\"}}, \"header\": {\"fill\": {\"color\": \"#C8D4E3\"}, \"line\": {\"color\": \"white\"}}, \"type\": \"table\"}]}, \"layout\": {\"annotationdefaults\": {\"arrowcolor\": \"#2a3f5f\", \"arrowhead\": 0, \"arrowwidth\": 1}, \"coloraxis\": {\"colorbar\": {\"outlinewidth\": 0, \"ticks\": \"\"}}, \"colorscale\": {\"diverging\": [[0, \"#8e0152\"], [0.1, \"#c51b7d\"], [0.2, \"#de77ae\"], [0.3, \"#f1b6da\"], [0.4, \"#fde0ef\"], [0.5, \"#f7f7f7\"], [0.6, \"#e6f5d0\"], [0.7, \"#b8e186\"], [0.8, \"#7fbc41\"], [0.9, \"#4d9221\"], [1, \"#276419\"]], \"sequential\": [[0.0, \"#0d0887\"], [0.1111111111111111, \"#46039f\"], [0.2222222222222222, \"#7201a8\"], [0.3333333333333333, \"#9c179e\"], [0.4444444444444444, \"#bd3786\"], [0.5555555555555556, \"#d8576b\"], [0.6666666666666666, \"#ed7953\"], [0.7777777777777778, \"#fb9f3a\"], [0.8888888888888888, \"#fdca26\"], [1.0, \"#f0f921\"]], \"sequentialminus\": [[0.0, \"#0d0887\"], [0.1111111111111111, \"#46039f\"], [0.2222222222222222, \"#7201a8\"], [0.3333333333333333, \"#9c179e\"], [0.4444444444444444, \"#bd3786\"], [0.5555555555555556, \"#d8576b\"], [0.6666666666666666, \"#ed7953\"], [0.7777777777777778, \"#fb9f3a\"], [0.8888888888888888, \"#fdca26\"], [1.0, \"#f0f921\"]]}, \"colorway\": [\"#636efa\", \"#EF553B\", \"#00cc96\", \"#ab63fa\", \"#FFA15A\", \"#19d3f3\", \"#FF6692\", \"#B6E880\", \"#FF97FF\", \"#FECB52\"], \"font\": {\"color\": \"#2a3f5f\"}, \"geo\": {\"bgcolor\": \"white\", \"lakecolor\": \"white\", \"landcolor\": \"#E5ECF6\", \"showlakes\": true, \"showland\": true, \"subunitcolor\": \"white\"}, \"hoverlabel\": {\"align\": \"left\"}, \"hovermode\": \"closest\", \"mapbox\": {\"style\": \"light\"}, \"paper_bgcolor\": \"white\", \"plot_bgcolor\": \"#E5ECF6\", \"polar\": {\"angularaxis\": {\"gridcolor\": \"white\", \"linecolor\": \"white\", \"ticks\": \"\"}, \"bgcolor\": \"#E5ECF6\", \"radialaxis\": {\"gridcolor\": \"white\", \"linecolor\": \"white\", \"ticks\": \"\"}}, \"scene\": {\"xaxis\": {\"backgroundcolor\": \"#E5ECF6\", \"gridcolor\": \"white\", \"gridwidth\": 2, \"linecolor\": \"white\", \"showbackground\": true, \"ticks\": \"\", \"zerolinecolor\": \"white\"}, \"yaxis\": {\"backgroundcolor\": \"#E5ECF6\", \"gridcolor\": \"white\", \"gridwidth\": 2, \"linecolor\": \"white\", \"showbackground\": true, \"ticks\": \"\", \"zerolinecolor\": \"white\"}, \"zaxis\": {\"backgroundcolor\": \"#E5ECF6\", \"gridcolor\": \"white\", \"gridwidth\": 2, \"linecolor\": \"white\", \"showbackground\": true, \"ticks\": \"\", \"zerolinecolor\": \"white\"}}, \"shapedefaults\": {\"line\": {\"color\": \"#2a3f5f\"}}, \"ternary\": {\"aaxis\": {\"gridcolor\": \"white\", \"linecolor\": \"white\", \"ticks\": \"\"}, \"baxis\": {\"gridcolor\": \"white\", \"linecolor\": \"white\", \"ticks\": \"\"}, \"bgcolor\": \"#E5ECF6\", \"caxis\": {\"gridcolor\": \"white\", \"linecolor\": \"white\", \"ticks\": \"\"}}, \"title\": {\"x\": 0.05}, \"xaxis\": {\"automargin\": true, \"gridcolor\": \"white\", \"linecolor\": \"white\", \"ticks\": \"\", \"title\": {\"standoff\": 15}, \"zerolinecolor\": \"white\", \"zerolinewidth\": 2}, \"yaxis\": {\"automargin\": true, \"gridcolor\": \"white\", \"linecolor\": \"white\", \"ticks\": \"\", \"title\": {\"standoff\": 15}, \"zerolinecolor\": \"white\", \"zerolinewidth\": 2}}}, \"title\": {\"text\": \"Visualizing Clusters in Two Dimensions Using T-SNE (perplexity=50)\"}, \"xaxis\": {\"ticklen\": 5, \"title\": {\"text\": \"TC1\"}, \"zeroline\": false}, \"yaxis\": {\"ticklen\": 5, \"title\": {\"text\": \"TC2\"}, \"zeroline\": false}},\n",
       "                        {\"responsive\": true}\n",
       "                    ).then(function(){\n",
       "                            \n",
       "var gd = document.getElementById('12194624-27a4-450d-82de-e6d47c4b2f70');\n",
       "var x = new MutationObserver(function (mutations, observer) {{\n",
       "        var display = window.getComputedStyle(gd).display;\n",
       "        if (!display || display === 'none') {{\n",
       "            console.log([gd, 'removed!']);\n",
       "            Plotly.purge(gd);\n",
       "            observer.disconnect();\n",
       "        }}\n",
       "}});\n",
       "\n",
       "// Listen for the removal of the full notebook cells\n",
       "var notebookContainer = gd.closest('#notebook-container');\n",
       "if (notebookContainer) {{\n",
       "    x.observe(notebookContainer, {childList: true});\n",
       "}}\n",
       "\n",
       "// Listen for the clearing of the current output cell\n",
       "var outputEl = gd.closest('.output');\n",
       "if (outputEl) {{\n",
       "    x.observe(outputEl, {childList: true});\n",
       "}}\n",
       "\n",
       "                        })\n",
       "                };\n",
       "                });\n",
       "            </script>\n",
       "        </div>"
      ]
     },
     "metadata": {},
     "output_type": "display_data"
    }
   ],
   "source": [
    "def make_scat(cid, rgb_color, cluster):\n",
    "    return go.Scatter(\n",
    "                x = cluster[\"TC1_2d\"],\n",
    "                y = cluster[\"TC2_2d\"],\n",
    "                mode = \"markers\",\n",
    "                name = \"Cluster: \"+str(cid),\n",
    "                marker =rgb_color,\n",
    "                text = cluster.index)\n",
    "    \n",
    "\n",
    "data = [\n",
    "    make_scat(0, dict(color = 'rgba(255, 128, 255, 0.8)'), cluster0),\n",
    "    make_scat(1, dict(color ='rgba(255, 128, 2, 0.8)'), cluster1),\n",
    "    make_scat(2, dict(color ='rgba(0, 255, 200, 0.8)'), cluster2),\n",
    "]\n",
    "\n",
    "#data = [trace1, trace2, trace3]\n",
    "\n",
    "title = \"Visualizing Clusters in Two Dimensions Using T-SNE (perplexity=\" + str(perplexity) + \")\"\n",
    "\n",
    "layout = dict(title = title,\n",
    "              xaxis= dict(title= 'TC1',ticklen= 5,zeroline= False),\n",
    "              yaxis= dict(title= 'TC2',ticklen= 5,zeroline= False)\n",
    "             )\n",
    "\n",
    "fig = dict(data = data, layout = layout)\n",
    "\n",
    "iplot(fig)"
   ]
  },
  {
   "cell_type": "code",
   "execution_count": 176,
   "metadata": {
    "scrolled": true
   },
   "outputs": [
    {
     "data": {
      "application/vnd.plotly.v1+json": {
       "config": {
        "linkText": "Export to plot.ly",
        "plotlyServerURL": "https://plot.ly",
        "showLink": false
       },
       "data": [
        {
         "marker": {
          "color": "rgba(255, 128, 255, 0.8)"
         },
         "mode": "markers",
         "name": "Cluster 0",
         "text": [
          "Sierra Leone",
          "Kenya",
          "Liechtenstein",
          "Ethiopia",
          "Sudan",
          "Benin",
          "West Bank and Gaza",
          "India",
          "Somalia",
          "Honduras",
          "Equatorial Guinea",
          "Bolivia",
          "Guinea-Bissau",
          "Zambia",
          "Bangladesh",
          "Indonesia",
          "Jamaica",
          "South Africa",
          "Angola",
          "Cote d'Ivoire",
          "Timor-Leste",
          "Kosovo",
          "Mali",
          "Gabon",
          "Malawi",
          "Mauritania",
          "Mozambique",
          "Haiti",
          "Guyana",
          "Philippines",
          "Ghana",
          "Madagascar",
          "Central African Republic",
          "Namibia",
          "Guatemala",
          "Cambodia",
          "Burundi",
          "Tanzania",
          "Zimbabwe",
          "Sao Tome and Principe",
          "Burkina Faso",
          "Senegal",
          "Papua New Guinea",
          "Guinea",
          "Rwanda",
          "Chad",
          "Niger",
          "Bhutan",
          "Cabo Verde",
          "Cameroon",
          "Pakistan"
         ],
         "type": "scatter3d",
         "x": [
          5.176925182342529,
          2.153106689453125,
          161.6424560546875,
          -50.606834411621094,
          -54.57862091064453,
          -101.19509887695312,
          144.5527801513672,
          -21.943317413330078,
          -90.62905883789062,
          30.810646057128906,
          -91.8426742553711,
          -155.7477569580078,
          -27.843372344970703,
          -21.787513732910156,
          27.45342445373535,
          162.92294311523438,
          20.910219192504883,
          -99.89647674560547,
          -65.09524536132812,
          41.11615753173828,
          101.72234344482422,
          -70.80663299560547,
          60.67216491699219,
          121.75973510742188,
          60.677589416503906,
          50.94921875,
          -51.34117126464844,
          60.68560791015625,
          -37.67375183105469,
          -95.65608215332031,
          187.36439514160156,
          -15.613419532775879,
          8.038833618164062,
          83.32219696044922,
          39.189571380615234,
          -159.1136474609375,
          -108.20098876953125,
          -80.77794647216797,
          4.262075424194336,
          -146.55503845214844,
          -2.838994026184082,
          60.65850067138672,
          62.49641036987305,
          -25.809368133544922,
          13.924880981445312,
          -41.689064025878906,
          -24.411672592163086,
          -103.18431854248047,
          -115.74581146240234,
          -165.60858154296875,
          -110.65884399414062
         ],
         "y": [
          -165.59768676757812,
          -96.38642120361328,
          -39.20634841918945,
          -144.2238311767578,
          3.3058111667633057,
          -91.35177612304688,
          -147.02845764160156,
          5.675459861755371,
          -119.26494598388672,
          -58.29278564453125,
          -159.4370880126953,
          81.64234161376953,
          -56.06556701660156,
          -111.0732650756836,
          81.03376007080078,
          -75.42891693115234,
          -55.56148910522461,
          55.57203674316406,
          -109.0206298828125,
          136.11041259765625,
          -92.49161529541016,
          58.171932220458984,
          -35.67498016357422,
          -112.11145782470703,
          -100.30461883544922,
          -128.05650329589844,
          -129.1318359375,
          -164.1071014404297,
          -43.90231704711914,
          -54.13349914550781,
          11.520303726196289,
          -165.88804626464844,
          -129.8458709716797,
          -108.6465835571289,
          125.76606750488281,
          -87.8587875366211,
          95.40086364746094,
          -76.96640014648438,
          168.4769287109375,
          -27.434343338012695,
          -103.20124053955078,
          21.806711196899414,
          -172.9248809814453,
          -154.6739044189453,
          -30.934850692749023,
          -102.22710418701172,
          -196.45840454101562,
          74.1552734375,
          14.36476993560791,
          90.54619598388672,
          -135.53277587890625
         ],
         "z": [
          -24.877670288085938,
          -109.96392059326172,
          115.32969665527344,
          1.241410255432129,
          -68.38843536376953,
          60.922340393066406,
          18.68973159790039,
          -208.4190216064453,
          -43.01953887939453,
          -29.36594009399414,
          85.1436538696289,
          -8.934616088867188,
          -71.09808349609375,
          -56.751617431640625,
          -97.55412292480469,
          -59.98075485229492,
          32.45137023925781,
          -154.42247009277344,
          114.32344055175781,
          130.57073974609375,
          -41.38889694213867,
          190.05270385742188,
          -71.0185775756836,
          88.04839324951172,
          -98.28426361083984,
          -16.673294067382812,
          -119.84044647216797,
          -67.81333923339844,
          -7.991589546203613,
          -21.219825744628906,
          -46.106285095214844,
          -86.26602935791016,
          48.83266830444336,
          37.45796585083008,
          42.23051452636719,
          -24.948993682861328,
          31.684560775756836,
          -91.33032989501953,
          80.0776138305664,
          -72.59415435791016,
          -6.720268726348877,
          -92.9810562133789,
          61.13182067871094,
          91.34219360351562,
          -105.82823944091797,
          44.37710952758789,
          29.825767517089844,
          -43.90743637084961,
          -51.05458068847656,
          68.71891784667969,
          17.770414352416992
         ]
        },
        {
         "marker": {
          "color": "rgba(255, 128, 2, 0.8)"
         },
         "mode": "markers",
         "name": "Cluster 1",
         "text": [
          "United States"
         ],
         "type": "scatter3d",
         "x": [
          -67.72337341308594
         ],
         "y": [
          148.78941345214844
         ],
         "z": [
          48.20668411254883
         ]
        },
        {
         "marker": {
          "color": "rgba(0, 255, 200, 0.8)"
         },
         "mode": "markers",
         "name": "Cluster 2",
         "text": [
          "Slovenia",
          "Fiji",
          "Malta",
          "Paraguay",
          "Croatia",
          "Mongolia",
          "Denmark",
          "Ukraine",
          "Germany",
          "Algeria",
          "Azerbaijan",
          "Cyprus",
          "Bahrain",
          "Belgium",
          "Singapore",
          "Japan",
          "Andorra",
          "Morocco",
          "Spain",
          "Chile",
          "Brazil",
          "Kazakhstan",
          "Monaco",
          "Dominican Republic",
          "Mexico",
          "Mauritius",
          "Nicaragua",
          "Tunisia",
          "Uzbekistan",
          "Lebanon",
          "Finland",
          "Georgia",
          "Saudi Arabia",
          "Italy",
          "United Kingdom",
          "United Arab Emirates",
          "Albania",
          "Peru",
          "Suriname",
          "Moldova",
          "Lithuania",
          "Israel",
          "Netherlands",
          "Maldives",
          "Greece",
          "Serbia",
          "Turkey",
          "Antigua and Barbuda",
          "Estonia",
          "Cuba",
          "Ecuador",
          "Belarus",
          "Latvia",
          "Austria",
          "France",
          "Grenada",
          "Portugal",
          "Luxembourg",
          "Sweden",
          "Iceland",
          "San Marino",
          "El Salvador",
          "Belize",
          "Panama",
          "Costa Rica",
          "Dominica",
          "Hungary",
          "Qatar",
          "Oman",
          "Trinidad and Tobago",
          "Armenia",
          "China",
          "Uruguay",
          "Thailand",
          "Norway"
         ],
         "type": "scatter3d",
         "x": [
          -99.62822723388672,
          112.5014419555664,
          7.1312994956970215,
          -22.33870506286621,
          -16.75450897216797,
          36.85349655151367,
          15.879565238952637,
          71.19196319580078,
          -11.168347358703613,
          -161.2632293701172,
          -98.70487213134766,
          16.413190841674805,
          74.72875213623047,
          -80.196533203125,
          -6.833341121673584,
          167.69476318359375,
          127.73792266845703,
          69.26533508300781,
          -29.323322296142578,
          113.09016418457031,
          -17.739295959472656,
          -57.085960388183594,
          138.49888610839844,
          -103.37239837646484,
          -100.99068450927734,
          -112.8753662109375,
          47.230491638183594,
          68.09912109375,
          90.37000274658203,
          65.0829086303711,
          -1.8085037469863892,
          70.97264862060547,
          11.6688871383667,
          -105.31011962890625,
          -93.37179565429688,
          97.0826187133789,
          -98.45997619628906,
          -128.251220703125,
          29.80974769592285,
          66.3281478881836,
          -38.58500671386719,
          -40.63052749633789,
          113.22277069091797,
          10.908026695251465,
          28.636512756347656,
          121.35135650634766,
          86.79798889160156,
          -16.271610260009766,
          -37.29573059082031,
          70.45263671875,
          84.64653778076172,
          -163.23843383789062,
          -67.35668182373047,
          -43.75465774536133,
          -56.864044189453125,
          -74.51481628417969,
          -53.29017639160156,
          74.26766967773438,
          -47.620819091796875,
          -15.598003387451172,
          104.34408569335938,
          124.65098571777344,
          -66.77294158935547,
          28.4722957611084,
          -21.614465713500977,
          149.99034118652344,
          -20.967103958129883,
          66.5302734375,
          5.772446632385254,
          -42.46964645385742,
          143.07400512695312,
          -177.648681640625,
          134.83087158203125,
          10.80229663848877,
          174.22262573242188
         ],
         "y": [
          121.65544891357422,
          -9.03020191192627,
          -55.189605712890625,
          135.5234375,
          48.80733108520508,
          75.472900390625,
          164.46046447753906,
          96.48042297363281,
          180.90292358398438,
          3.621262550354004,
          -34.644325256347656,
          -13.406880378723145,
          70.9489974975586,
          193.3233642578125,
          -61.432254791259766,
          129.13525390625,
          -9.973647117614746,
          67.66510009765625,
          120.46709442138672,
          -38.0609130859375,
          -12.40214729309082,
          45.520751953125,
          60.90951156616211,
          27.703157424926758,
          -1.7443667650222778,
          26.279314041137695,
          -1.8724546432495117,
          -7.573526382446289,
          98.52031707763672,
          30.503803253173828,
          113.48046112060547,
          -55.363914489746094,
          81.65643310546875,
          103.66377258300781,
          166.72418212890625,
          172.58697509765625,
          -173.05601501464844,
          -37.93792724609375,
          80.72257232666016,
          160.59429931640625,
          83.4728012084961,
          4.71002197265625,
          11.833480834960938,
          -5.532367706298828,
          -95.60645294189453,
          118.17997741699219,
          -46.3432502746582,
          40.2940559387207,
          -0.05855749547481537,
          -50.492916107177734,
          43.02503204345703,
          69.22457885742188,
          -49.094520568847656,
          81.18708801269531,
          136.21273803710938,
          -19.227460861206055,
          85.7063980102539,
          14.915980339050293,
          148.04864501953125,
          60.023155212402344,
          106.9413070678711,
          51.24112319946289,
          9.44300651550293,
          6.6599931716918945,
          -57.47119140625,
          5.035786151885986,
          103.9303970336914,
          133.98593139648438,
          35.12739944458008,
          -9.048545837402344,
          -69.9037857055664,
          -18.464797973632812,
          20.43364715576172,
          38.48686218261719,
          66.17609405517578
         ],
         "z": [
          -102.10920715332031,
          -33.700157165527344,
          -172.1180419921875,
          -99.83253479003906,
          131.6116943359375,
          5.986273288726807,
          -54.9522590637207,
          -52.73040771484375,
          9.690169334411621,
          -6.7854905128479,
          118.65948486328125,
          97.29741668701172,
          -150.3872833251953,
          -3.54260516166687,
          186.7814178466797,
          4.900491237640381,
          61.440643310546875,
          134.62925720214844,
          -170.54222106933594,
          -109.21139526367188,
          41.418235778808594,
          49.45859146118164,
          -31.324417114257812,
          104.69845581054688,
          -114.29893493652344,
          38.369415283203125,
          31.95314598083496,
          -161.08493041992188,
          72.63983917236328,
          -24.785442352294922,
          -33.75430679321289,
          77.2738265991211,
          188.25193786621094,
          122.12593078613281,
          99.25666046142578,
          70.93994903564453,
          -75.26148223876953,
          28.92298126220703,
          88.72935485839844,
          -7.982706546783447,
          90.97498321533203,
          96.52959442138672,
          159.56846618652344,
          -17.584171295166016,
          120.4224624633789,
          -76.13431549072266,
          8.470179557800293,
          1.8591060638427734,
          -137.24826049804688,
          151.73648071289062,
          33.225059509277344,
          -87.64408111572266,
          -159.76715087890625,
          -74.55724334716797,
          120.07865905761719,
          51.23341751098633,
          -7.39256477355957,
          98.24735260009766,
          -38.94280242919922,
          -136.26193237304688,
          5.62523889541626,
          89.67952728271484,
          -6.670990467071533,
          149.78195190429688,
          92.33210754394531,
          22.77259635925293,
          41.146121978759766,
          -133.33706665039062,
          -61.531192779541016,
          151.89715576171875,
          26.411149978637695,
          81.94168090820312,
          -103.4135513305664,
          58.32813262939453,
          41.7298583984375
         ]
        }
       ],
       "layout": {
        "template": {
         "data": {
          "bar": [
           {
            "error_x": {
             "color": "#2a3f5f"
            },
            "error_y": {
             "color": "#2a3f5f"
            },
            "marker": {
             "line": {
              "color": "#E5ECF6",
              "width": 0.5
             }
            },
            "type": "bar"
           }
          ],
          "barpolar": [
           {
            "marker": {
             "line": {
              "color": "#E5ECF6",
              "width": 0.5
             }
            },
            "type": "barpolar"
           }
          ],
          "carpet": [
           {
            "aaxis": {
             "endlinecolor": "#2a3f5f",
             "gridcolor": "white",
             "linecolor": "white",
             "minorgridcolor": "white",
             "startlinecolor": "#2a3f5f"
            },
            "baxis": {
             "endlinecolor": "#2a3f5f",
             "gridcolor": "white",
             "linecolor": "white",
             "minorgridcolor": "white",
             "startlinecolor": "#2a3f5f"
            },
            "type": "carpet"
           }
          ],
          "choropleth": [
           {
            "colorbar": {
             "outlinewidth": 0,
             "ticks": ""
            },
            "type": "choropleth"
           }
          ],
          "contour": [
           {
            "colorbar": {
             "outlinewidth": 0,
             "ticks": ""
            },
            "colorscale": [
             [
              0,
              "#0d0887"
             ],
             [
              0.1111111111111111,
              "#46039f"
             ],
             [
              0.2222222222222222,
              "#7201a8"
             ],
             [
              0.3333333333333333,
              "#9c179e"
             ],
             [
              0.4444444444444444,
              "#bd3786"
             ],
             [
              0.5555555555555556,
              "#d8576b"
             ],
             [
              0.6666666666666666,
              "#ed7953"
             ],
             [
              0.7777777777777778,
              "#fb9f3a"
             ],
             [
              0.8888888888888888,
              "#fdca26"
             ],
             [
              1,
              "#f0f921"
             ]
            ],
            "type": "contour"
           }
          ],
          "contourcarpet": [
           {
            "colorbar": {
             "outlinewidth": 0,
             "ticks": ""
            },
            "type": "contourcarpet"
           }
          ],
          "heatmap": [
           {
            "colorbar": {
             "outlinewidth": 0,
             "ticks": ""
            },
            "colorscale": [
             [
              0,
              "#0d0887"
             ],
             [
              0.1111111111111111,
              "#46039f"
             ],
             [
              0.2222222222222222,
              "#7201a8"
             ],
             [
              0.3333333333333333,
              "#9c179e"
             ],
             [
              0.4444444444444444,
              "#bd3786"
             ],
             [
              0.5555555555555556,
              "#d8576b"
             ],
             [
              0.6666666666666666,
              "#ed7953"
             ],
             [
              0.7777777777777778,
              "#fb9f3a"
             ],
             [
              0.8888888888888888,
              "#fdca26"
             ],
             [
              1,
              "#f0f921"
             ]
            ],
            "type": "heatmap"
           }
          ],
          "heatmapgl": [
           {
            "colorbar": {
             "outlinewidth": 0,
             "ticks": ""
            },
            "colorscale": [
             [
              0,
              "#0d0887"
             ],
             [
              0.1111111111111111,
              "#46039f"
             ],
             [
              0.2222222222222222,
              "#7201a8"
             ],
             [
              0.3333333333333333,
              "#9c179e"
             ],
             [
              0.4444444444444444,
              "#bd3786"
             ],
             [
              0.5555555555555556,
              "#d8576b"
             ],
             [
              0.6666666666666666,
              "#ed7953"
             ],
             [
              0.7777777777777778,
              "#fb9f3a"
             ],
             [
              0.8888888888888888,
              "#fdca26"
             ],
             [
              1,
              "#f0f921"
             ]
            ],
            "type": "heatmapgl"
           }
          ],
          "histogram": [
           {
            "marker": {
             "colorbar": {
              "outlinewidth": 0,
              "ticks": ""
             }
            },
            "type": "histogram"
           }
          ],
          "histogram2d": [
           {
            "colorbar": {
             "outlinewidth": 0,
             "ticks": ""
            },
            "colorscale": [
             [
              0,
              "#0d0887"
             ],
             [
              0.1111111111111111,
              "#46039f"
             ],
             [
              0.2222222222222222,
              "#7201a8"
             ],
             [
              0.3333333333333333,
              "#9c179e"
             ],
             [
              0.4444444444444444,
              "#bd3786"
             ],
             [
              0.5555555555555556,
              "#d8576b"
             ],
             [
              0.6666666666666666,
              "#ed7953"
             ],
             [
              0.7777777777777778,
              "#fb9f3a"
             ],
             [
              0.8888888888888888,
              "#fdca26"
             ],
             [
              1,
              "#f0f921"
             ]
            ],
            "type": "histogram2d"
           }
          ],
          "histogram2dcontour": [
           {
            "colorbar": {
             "outlinewidth": 0,
             "ticks": ""
            },
            "colorscale": [
             [
              0,
              "#0d0887"
             ],
             [
              0.1111111111111111,
              "#46039f"
             ],
             [
              0.2222222222222222,
              "#7201a8"
             ],
             [
              0.3333333333333333,
              "#9c179e"
             ],
             [
              0.4444444444444444,
              "#bd3786"
             ],
             [
              0.5555555555555556,
              "#d8576b"
             ],
             [
              0.6666666666666666,
              "#ed7953"
             ],
             [
              0.7777777777777778,
              "#fb9f3a"
             ],
             [
              0.8888888888888888,
              "#fdca26"
             ],
             [
              1,
              "#f0f921"
             ]
            ],
            "type": "histogram2dcontour"
           }
          ],
          "mesh3d": [
           {
            "colorbar": {
             "outlinewidth": 0,
             "ticks": ""
            },
            "type": "mesh3d"
           }
          ],
          "parcoords": [
           {
            "line": {
             "colorbar": {
              "outlinewidth": 0,
              "ticks": ""
             }
            },
            "type": "parcoords"
           }
          ],
          "pie": [
           {
            "automargin": true,
            "type": "pie"
           }
          ],
          "scatter": [
           {
            "marker": {
             "colorbar": {
              "outlinewidth": 0,
              "ticks": ""
             }
            },
            "type": "scatter"
           }
          ],
          "scatter3d": [
           {
            "line": {
             "colorbar": {
              "outlinewidth": 0,
              "ticks": ""
             }
            },
            "marker": {
             "colorbar": {
              "outlinewidth": 0,
              "ticks": ""
             }
            },
            "type": "scatter3d"
           }
          ],
          "scattercarpet": [
           {
            "marker": {
             "colorbar": {
              "outlinewidth": 0,
              "ticks": ""
             }
            },
            "type": "scattercarpet"
           }
          ],
          "scattergeo": [
           {
            "marker": {
             "colorbar": {
              "outlinewidth": 0,
              "ticks": ""
             }
            },
            "type": "scattergeo"
           }
          ],
          "scattergl": [
           {
            "marker": {
             "colorbar": {
              "outlinewidth": 0,
              "ticks": ""
             }
            },
            "type": "scattergl"
           }
          ],
          "scattermapbox": [
           {
            "marker": {
             "colorbar": {
              "outlinewidth": 0,
              "ticks": ""
             }
            },
            "type": "scattermapbox"
           }
          ],
          "scatterpolar": [
           {
            "marker": {
             "colorbar": {
              "outlinewidth": 0,
              "ticks": ""
             }
            },
            "type": "scatterpolar"
           }
          ],
          "scatterpolargl": [
           {
            "marker": {
             "colorbar": {
              "outlinewidth": 0,
              "ticks": ""
             }
            },
            "type": "scatterpolargl"
           }
          ],
          "scatterternary": [
           {
            "marker": {
             "colorbar": {
              "outlinewidth": 0,
              "ticks": ""
             }
            },
            "type": "scatterternary"
           }
          ],
          "surface": [
           {
            "colorbar": {
             "outlinewidth": 0,
             "ticks": ""
            },
            "colorscale": [
             [
              0,
              "#0d0887"
             ],
             [
              0.1111111111111111,
              "#46039f"
             ],
             [
              0.2222222222222222,
              "#7201a8"
             ],
             [
              0.3333333333333333,
              "#9c179e"
             ],
             [
              0.4444444444444444,
              "#bd3786"
             ],
             [
              0.5555555555555556,
              "#d8576b"
             ],
             [
              0.6666666666666666,
              "#ed7953"
             ],
             [
              0.7777777777777778,
              "#fb9f3a"
             ],
             [
              0.8888888888888888,
              "#fdca26"
             ],
             [
              1,
              "#f0f921"
             ]
            ],
            "type": "surface"
           }
          ],
          "table": [
           {
            "cells": {
             "fill": {
              "color": "#EBF0F8"
             },
             "line": {
              "color": "white"
             }
            },
            "header": {
             "fill": {
              "color": "#C8D4E3"
             },
             "line": {
              "color": "white"
             }
            },
            "type": "table"
           }
          ]
         },
         "layout": {
          "annotationdefaults": {
           "arrowcolor": "#2a3f5f",
           "arrowhead": 0,
           "arrowwidth": 1
          },
          "coloraxis": {
           "colorbar": {
            "outlinewidth": 0,
            "ticks": ""
           }
          },
          "colorscale": {
           "diverging": [
            [
             0,
             "#8e0152"
            ],
            [
             0.1,
             "#c51b7d"
            ],
            [
             0.2,
             "#de77ae"
            ],
            [
             0.3,
             "#f1b6da"
            ],
            [
             0.4,
             "#fde0ef"
            ],
            [
             0.5,
             "#f7f7f7"
            ],
            [
             0.6,
             "#e6f5d0"
            ],
            [
             0.7,
             "#b8e186"
            ],
            [
             0.8,
             "#7fbc41"
            ],
            [
             0.9,
             "#4d9221"
            ],
            [
             1,
             "#276419"
            ]
           ],
           "sequential": [
            [
             0,
             "#0d0887"
            ],
            [
             0.1111111111111111,
             "#46039f"
            ],
            [
             0.2222222222222222,
             "#7201a8"
            ],
            [
             0.3333333333333333,
             "#9c179e"
            ],
            [
             0.4444444444444444,
             "#bd3786"
            ],
            [
             0.5555555555555556,
             "#d8576b"
            ],
            [
             0.6666666666666666,
             "#ed7953"
            ],
            [
             0.7777777777777778,
             "#fb9f3a"
            ],
            [
             0.8888888888888888,
             "#fdca26"
            ],
            [
             1,
             "#f0f921"
            ]
           ],
           "sequentialminus": [
            [
             0,
             "#0d0887"
            ],
            [
             0.1111111111111111,
             "#46039f"
            ],
            [
             0.2222222222222222,
             "#7201a8"
            ],
            [
             0.3333333333333333,
             "#9c179e"
            ],
            [
             0.4444444444444444,
             "#bd3786"
            ],
            [
             0.5555555555555556,
             "#d8576b"
            ],
            [
             0.6666666666666666,
             "#ed7953"
            ],
            [
             0.7777777777777778,
             "#fb9f3a"
            ],
            [
             0.8888888888888888,
             "#fdca26"
            ],
            [
             1,
             "#f0f921"
            ]
           ]
          },
          "colorway": [
           "#636efa",
           "#EF553B",
           "#00cc96",
           "#ab63fa",
           "#FFA15A",
           "#19d3f3",
           "#FF6692",
           "#B6E880",
           "#FF97FF",
           "#FECB52"
          ],
          "font": {
           "color": "#2a3f5f"
          },
          "geo": {
           "bgcolor": "white",
           "lakecolor": "white",
           "landcolor": "#E5ECF6",
           "showlakes": true,
           "showland": true,
           "subunitcolor": "white"
          },
          "hoverlabel": {
           "align": "left"
          },
          "hovermode": "closest",
          "mapbox": {
           "style": "light"
          },
          "paper_bgcolor": "white",
          "plot_bgcolor": "#E5ECF6",
          "polar": {
           "angularaxis": {
            "gridcolor": "white",
            "linecolor": "white",
            "ticks": ""
           },
           "bgcolor": "#E5ECF6",
           "radialaxis": {
            "gridcolor": "white",
            "linecolor": "white",
            "ticks": ""
           }
          },
          "scene": {
           "xaxis": {
            "backgroundcolor": "#E5ECF6",
            "gridcolor": "white",
            "gridwidth": 2,
            "linecolor": "white",
            "showbackground": true,
            "ticks": "",
            "zerolinecolor": "white"
           },
           "yaxis": {
            "backgroundcolor": "#E5ECF6",
            "gridcolor": "white",
            "gridwidth": 2,
            "linecolor": "white",
            "showbackground": true,
            "ticks": "",
            "zerolinecolor": "white"
           },
           "zaxis": {
            "backgroundcolor": "#E5ECF6",
            "gridcolor": "white",
            "gridwidth": 2,
            "linecolor": "white",
            "showbackground": true,
            "ticks": "",
            "zerolinecolor": "white"
           }
          },
          "shapedefaults": {
           "line": {
            "color": "#2a3f5f"
           }
          },
          "ternary": {
           "aaxis": {
            "gridcolor": "white",
            "linecolor": "white",
            "ticks": ""
           },
           "baxis": {
            "gridcolor": "white",
            "linecolor": "white",
            "ticks": ""
           },
           "bgcolor": "#E5ECF6",
           "caxis": {
            "gridcolor": "white",
            "linecolor": "white",
            "ticks": ""
           }
          },
          "title": {
           "x": 0.05
          },
          "xaxis": {
           "automargin": true,
           "gridcolor": "white",
           "linecolor": "white",
           "ticks": "",
           "title": {
            "standoff": 15
           },
           "zerolinecolor": "white",
           "zerolinewidth": 2
          },
          "yaxis": {
           "automargin": true,
           "gridcolor": "white",
           "linecolor": "white",
           "ticks": "",
           "title": {
            "standoff": 15
           },
           "zerolinecolor": "white",
           "zerolinewidth": 2
          }
         }
        },
        "title": {
         "text": "Visualizing Clusters in Three Dimensions Using T-SNE (perplexity=50)"
        },
        "xaxis": {
         "ticklen": 5,
         "title": {
          "text": "TC1"
         },
         "zeroline": false
        },
        "yaxis": {
         "ticklen": 5,
         "title": {
          "text": "TC2"
         },
         "zeroline": false
        }
       }
      },
      "text/html": [
       "<div>\n",
       "        \n",
       "        \n",
       "            <div id=\"c7c301dc-2577-47ce-b925-df6ad63c4d1a\" class=\"plotly-graph-div\" style=\"height:525px; width:100%;\"></div>\n",
       "            <script type=\"text/javascript\">\n",
       "                require([\"plotly\"], function(Plotly) {\n",
       "                    window.PLOTLYENV=window.PLOTLYENV || {};\n",
       "                    \n",
       "                if (document.getElementById(\"c7c301dc-2577-47ce-b925-df6ad63c4d1a\")) {\n",
       "                    Plotly.newPlot(\n",
       "                        'c7c301dc-2577-47ce-b925-df6ad63c4d1a',\n",
       "                        [{\"marker\": {\"color\": \"rgba(255, 128, 255, 0.8)\"}, \"mode\": \"markers\", \"name\": \"Cluster 0\", \"text\": [\"Sierra Leone\", \"Kenya\", \"Liechtenstein\", \"Ethiopia\", \"Sudan\", \"Benin\", \"West Bank and Gaza\", \"India\", \"Somalia\", \"Honduras\", \"Equatorial Guinea\", \"Bolivia\", \"Guinea-Bissau\", \"Zambia\", \"Bangladesh\", \"Indonesia\", \"Jamaica\", \"South Africa\", \"Angola\", \"Cote d'Ivoire\", \"Timor-Leste\", \"Kosovo\", \"Mali\", \"Gabon\", \"Malawi\", \"Mauritania\", \"Mozambique\", \"Haiti\", \"Guyana\", \"Philippines\", \"Ghana\", \"Madagascar\", \"Central African Republic\", \"Namibia\", \"Guatemala\", \"Cambodia\", \"Burundi\", \"Tanzania\", \"Zimbabwe\", \"Sao Tome and Principe\", \"Burkina Faso\", \"Senegal\", \"Papua New Guinea\", \"Guinea\", \"Rwanda\", \"Chad\", \"Niger\", \"Bhutan\", \"Cabo Verde\", \"Cameroon\", \"Pakistan\"], \"type\": \"scatter3d\", \"x\": [5.176925182342529, 2.153106689453125, 161.6424560546875, -50.606834411621094, -54.57862091064453, -101.19509887695312, 144.5527801513672, -21.943317413330078, -90.62905883789062, 30.810646057128906, -91.8426742553711, -155.7477569580078, -27.843372344970703, -21.787513732910156, 27.45342445373535, 162.92294311523438, 20.910219192504883, -99.89647674560547, -65.09524536132812, 41.11615753173828, 101.72234344482422, -70.80663299560547, 60.67216491699219, 121.75973510742188, 60.677589416503906, 50.94921875, -51.34117126464844, 60.68560791015625, -37.67375183105469, -95.65608215332031, 187.36439514160156, -15.613419532775879, 8.038833618164062, 83.32219696044922, 39.189571380615234, -159.1136474609375, -108.20098876953125, -80.77794647216797, 4.262075424194336, -146.55503845214844, -2.838994026184082, 60.65850067138672, 62.49641036987305, -25.809368133544922, 13.924880981445312, -41.689064025878906, -24.411672592163086, -103.18431854248047, -115.74581146240234, -165.60858154296875, -110.65884399414062], \"y\": [-165.59768676757812, -96.38642120361328, -39.20634841918945, -144.2238311767578, 3.3058111667633057, -91.35177612304688, -147.02845764160156, 5.675459861755371, -119.26494598388672, -58.29278564453125, -159.4370880126953, 81.64234161376953, -56.06556701660156, -111.0732650756836, 81.03376007080078, -75.42891693115234, -55.56148910522461, 55.57203674316406, -109.0206298828125, 136.11041259765625, -92.49161529541016, 58.171932220458984, -35.67498016357422, -112.11145782470703, -100.30461883544922, -128.05650329589844, -129.1318359375, -164.1071014404297, -43.90231704711914, -54.13349914550781, 11.520303726196289, -165.88804626464844, -129.8458709716797, -108.6465835571289, 125.76606750488281, -87.8587875366211, 95.40086364746094, -76.96640014648438, 168.4769287109375, -27.434343338012695, -103.20124053955078, 21.806711196899414, -172.9248809814453, -154.6739044189453, -30.934850692749023, -102.22710418701172, -196.45840454101562, 74.1552734375, 14.36476993560791, 90.54619598388672, -135.53277587890625], \"z\": [-24.877670288085938, -109.96392059326172, 115.32969665527344, 1.241410255432129, -68.38843536376953, 60.922340393066406, 18.68973159790039, -208.4190216064453, -43.01953887939453, -29.36594009399414, 85.1436538696289, -8.934616088867188, -71.09808349609375, -56.751617431640625, -97.55412292480469, -59.98075485229492, 32.45137023925781, -154.42247009277344, 114.32344055175781, 130.57073974609375, -41.38889694213867, 190.05270385742188, -71.0185775756836, 88.04839324951172, -98.28426361083984, -16.673294067382812, -119.84044647216797, -67.81333923339844, -7.991589546203613, -21.219825744628906, -46.106285095214844, -86.26602935791016, 48.83266830444336, 37.45796585083008, 42.23051452636719, -24.948993682861328, 31.684560775756836, -91.33032989501953, 80.0776138305664, -72.59415435791016, -6.720268726348877, -92.9810562133789, 61.13182067871094, 91.34219360351562, -105.82823944091797, 44.37710952758789, 29.825767517089844, -43.90743637084961, -51.05458068847656, 68.71891784667969, 17.770414352416992]}, {\"marker\": {\"color\": \"rgba(255, 128, 2, 0.8)\"}, \"mode\": \"markers\", \"name\": \"Cluster 1\", \"text\": [\"United States\"], \"type\": \"scatter3d\", \"x\": [-67.72337341308594], \"y\": [148.78941345214844], \"z\": [48.20668411254883]}, {\"marker\": {\"color\": \"rgba(0, 255, 200, 0.8)\"}, \"mode\": \"markers\", \"name\": \"Cluster 2\", \"text\": [\"Slovenia\", \"Fiji\", \"Malta\", \"Paraguay\", \"Croatia\", \"Mongolia\", \"Denmark\", \"Ukraine\", \"Germany\", \"Algeria\", \"Azerbaijan\", \"Cyprus\", \"Bahrain\", \"Belgium\", \"Singapore\", \"Japan\", \"Andorra\", \"Morocco\", \"Spain\", \"Chile\", \"Brazil\", \"Kazakhstan\", \"Monaco\", \"Dominican Republic\", \"Mexico\", \"Mauritius\", \"Nicaragua\", \"Tunisia\", \"Uzbekistan\", \"Lebanon\", \"Finland\", \"Georgia\", \"Saudi Arabia\", \"Italy\", \"United Kingdom\", \"United Arab Emirates\", \"Albania\", \"Peru\", \"Suriname\", \"Moldova\", \"Lithuania\", \"Israel\", \"Netherlands\", \"Maldives\", \"Greece\", \"Serbia\", \"Turkey\", \"Antigua and Barbuda\", \"Estonia\", \"Cuba\", \"Ecuador\", \"Belarus\", \"Latvia\", \"Austria\", \"France\", \"Grenada\", \"Portugal\", \"Luxembourg\", \"Sweden\", \"Iceland\", \"San Marino\", \"El Salvador\", \"Belize\", \"Panama\", \"Costa Rica\", \"Dominica\", \"Hungary\", \"Qatar\", \"Oman\", \"Trinidad and Tobago\", \"Armenia\", \"China\", \"Uruguay\", \"Thailand\", \"Norway\"], \"type\": \"scatter3d\", \"x\": [-99.62822723388672, 112.5014419555664, 7.1312994956970215, -22.33870506286621, -16.75450897216797, 36.85349655151367, 15.879565238952637, 71.19196319580078, -11.168347358703613, -161.2632293701172, -98.70487213134766, 16.413190841674805, 74.72875213623047, -80.196533203125, -6.833341121673584, 167.69476318359375, 127.73792266845703, 69.26533508300781, -29.323322296142578, 113.09016418457031, -17.739295959472656, -57.085960388183594, 138.49888610839844, -103.37239837646484, -100.99068450927734, -112.8753662109375, 47.230491638183594, 68.09912109375, 90.37000274658203, 65.0829086303711, -1.8085037469863892, 70.97264862060547, 11.6688871383667, -105.31011962890625, -93.37179565429688, 97.0826187133789, -98.45997619628906, -128.251220703125, 29.80974769592285, 66.3281478881836, -38.58500671386719, -40.63052749633789, 113.22277069091797, 10.908026695251465, 28.636512756347656, 121.35135650634766, 86.79798889160156, -16.271610260009766, -37.29573059082031, 70.45263671875, 84.64653778076172, -163.23843383789062, -67.35668182373047, -43.75465774536133, -56.864044189453125, -74.51481628417969, -53.29017639160156, 74.26766967773438, -47.620819091796875, -15.598003387451172, 104.34408569335938, 124.65098571777344, -66.77294158935547, 28.4722957611084, -21.614465713500977, 149.99034118652344, -20.967103958129883, 66.5302734375, 5.772446632385254, -42.46964645385742, 143.07400512695312, -177.648681640625, 134.83087158203125, 10.80229663848877, 174.22262573242188], \"y\": [121.65544891357422, -9.03020191192627, -55.189605712890625, 135.5234375, 48.80733108520508, 75.472900390625, 164.46046447753906, 96.48042297363281, 180.90292358398438, 3.621262550354004, -34.644325256347656, -13.406880378723145, 70.9489974975586, 193.3233642578125, -61.432254791259766, 129.13525390625, -9.973647117614746, 67.66510009765625, 120.46709442138672, -38.0609130859375, -12.40214729309082, 45.520751953125, 60.90951156616211, 27.703157424926758, -1.7443667650222778, 26.279314041137695, -1.8724546432495117, -7.573526382446289, 98.52031707763672, 30.503803253173828, 113.48046112060547, -55.363914489746094, 81.65643310546875, 103.66377258300781, 166.72418212890625, 172.58697509765625, -173.05601501464844, -37.93792724609375, 80.72257232666016, 160.59429931640625, 83.4728012084961, 4.71002197265625, 11.833480834960938, -5.532367706298828, -95.60645294189453, 118.17997741699219, -46.3432502746582, 40.2940559387207, -0.05855749547481537, -50.492916107177734, 43.02503204345703, 69.22457885742188, -49.094520568847656, 81.18708801269531, 136.21273803710938, -19.227460861206055, 85.7063980102539, 14.915980339050293, 148.04864501953125, 60.023155212402344, 106.9413070678711, 51.24112319946289, 9.44300651550293, 6.6599931716918945, -57.47119140625, 5.035786151885986, 103.9303970336914, 133.98593139648438, 35.12739944458008, -9.048545837402344, -69.9037857055664, -18.464797973632812, 20.43364715576172, 38.48686218261719, 66.17609405517578], \"z\": [-102.10920715332031, -33.700157165527344, -172.1180419921875, -99.83253479003906, 131.6116943359375, 5.986273288726807, -54.9522590637207, -52.73040771484375, 9.690169334411621, -6.7854905128479, 118.65948486328125, 97.29741668701172, -150.3872833251953, -3.54260516166687, 186.7814178466797, 4.900491237640381, 61.440643310546875, 134.62925720214844, -170.54222106933594, -109.21139526367188, 41.418235778808594, 49.45859146118164, -31.324417114257812, 104.69845581054688, -114.29893493652344, 38.369415283203125, 31.95314598083496, -161.08493041992188, 72.63983917236328, -24.785442352294922, -33.75430679321289, 77.2738265991211, 188.25193786621094, 122.12593078613281, 99.25666046142578, 70.93994903564453, -75.26148223876953, 28.92298126220703, 88.72935485839844, -7.982706546783447, 90.97498321533203, 96.52959442138672, 159.56846618652344, -17.584171295166016, 120.4224624633789, -76.13431549072266, 8.470179557800293, 1.8591060638427734, -137.24826049804688, 151.73648071289062, 33.225059509277344, -87.64408111572266, -159.76715087890625, -74.55724334716797, 120.07865905761719, 51.23341751098633, -7.39256477355957, 98.24735260009766, -38.94280242919922, -136.26193237304688, 5.62523889541626, 89.67952728271484, -6.670990467071533, 149.78195190429688, 92.33210754394531, 22.77259635925293, 41.146121978759766, -133.33706665039062, -61.531192779541016, 151.89715576171875, 26.411149978637695, 81.94168090820312, -103.4135513305664, 58.32813262939453, 41.7298583984375]}],\n",
       "                        {\"template\": {\"data\": {\"bar\": [{\"error_x\": {\"color\": \"#2a3f5f\"}, \"error_y\": {\"color\": \"#2a3f5f\"}, \"marker\": {\"line\": {\"color\": \"#E5ECF6\", \"width\": 0.5}}, \"type\": \"bar\"}], \"barpolar\": [{\"marker\": {\"line\": {\"color\": \"#E5ECF6\", \"width\": 0.5}}, \"type\": \"barpolar\"}], \"carpet\": [{\"aaxis\": {\"endlinecolor\": \"#2a3f5f\", \"gridcolor\": \"white\", \"linecolor\": \"white\", \"minorgridcolor\": \"white\", \"startlinecolor\": \"#2a3f5f\"}, \"baxis\": {\"endlinecolor\": \"#2a3f5f\", \"gridcolor\": \"white\", \"linecolor\": \"white\", \"minorgridcolor\": \"white\", \"startlinecolor\": \"#2a3f5f\"}, \"type\": \"carpet\"}], \"choropleth\": [{\"colorbar\": {\"outlinewidth\": 0, \"ticks\": \"\"}, \"type\": \"choropleth\"}], \"contour\": [{\"colorbar\": {\"outlinewidth\": 0, \"ticks\": \"\"}, \"colorscale\": [[0.0, \"#0d0887\"], [0.1111111111111111, \"#46039f\"], [0.2222222222222222, \"#7201a8\"], [0.3333333333333333, \"#9c179e\"], [0.4444444444444444, \"#bd3786\"], [0.5555555555555556, \"#d8576b\"], [0.6666666666666666, \"#ed7953\"], [0.7777777777777778, \"#fb9f3a\"], [0.8888888888888888, \"#fdca26\"], [1.0, \"#f0f921\"]], \"type\": \"contour\"}], \"contourcarpet\": [{\"colorbar\": {\"outlinewidth\": 0, \"ticks\": \"\"}, \"type\": \"contourcarpet\"}], \"heatmap\": [{\"colorbar\": {\"outlinewidth\": 0, \"ticks\": \"\"}, \"colorscale\": [[0.0, \"#0d0887\"], [0.1111111111111111, \"#46039f\"], [0.2222222222222222, \"#7201a8\"], [0.3333333333333333, \"#9c179e\"], [0.4444444444444444, \"#bd3786\"], [0.5555555555555556, \"#d8576b\"], [0.6666666666666666, \"#ed7953\"], [0.7777777777777778, \"#fb9f3a\"], [0.8888888888888888, \"#fdca26\"], [1.0, \"#f0f921\"]], \"type\": \"heatmap\"}], \"heatmapgl\": [{\"colorbar\": {\"outlinewidth\": 0, \"ticks\": \"\"}, \"colorscale\": [[0.0, \"#0d0887\"], [0.1111111111111111, \"#46039f\"], [0.2222222222222222, \"#7201a8\"], [0.3333333333333333, \"#9c179e\"], [0.4444444444444444, \"#bd3786\"], [0.5555555555555556, \"#d8576b\"], [0.6666666666666666, \"#ed7953\"], [0.7777777777777778, \"#fb9f3a\"], [0.8888888888888888, \"#fdca26\"], [1.0, \"#f0f921\"]], \"type\": \"heatmapgl\"}], \"histogram\": [{\"marker\": {\"colorbar\": {\"outlinewidth\": 0, \"ticks\": \"\"}}, \"type\": \"histogram\"}], \"histogram2d\": [{\"colorbar\": {\"outlinewidth\": 0, \"ticks\": \"\"}, \"colorscale\": [[0.0, \"#0d0887\"], [0.1111111111111111, \"#46039f\"], [0.2222222222222222, \"#7201a8\"], [0.3333333333333333, \"#9c179e\"], [0.4444444444444444, \"#bd3786\"], [0.5555555555555556, \"#d8576b\"], [0.6666666666666666, \"#ed7953\"], [0.7777777777777778, \"#fb9f3a\"], [0.8888888888888888, \"#fdca26\"], [1.0, \"#f0f921\"]], \"type\": \"histogram2d\"}], \"histogram2dcontour\": [{\"colorbar\": {\"outlinewidth\": 0, \"ticks\": \"\"}, \"colorscale\": [[0.0, \"#0d0887\"], [0.1111111111111111, \"#46039f\"], [0.2222222222222222, \"#7201a8\"], [0.3333333333333333, \"#9c179e\"], [0.4444444444444444, \"#bd3786\"], [0.5555555555555556, \"#d8576b\"], [0.6666666666666666, \"#ed7953\"], [0.7777777777777778, \"#fb9f3a\"], [0.8888888888888888, \"#fdca26\"], [1.0, \"#f0f921\"]], \"type\": \"histogram2dcontour\"}], \"mesh3d\": [{\"colorbar\": {\"outlinewidth\": 0, \"ticks\": \"\"}, \"type\": \"mesh3d\"}], \"parcoords\": [{\"line\": {\"colorbar\": {\"outlinewidth\": 0, \"ticks\": \"\"}}, \"type\": \"parcoords\"}], \"pie\": [{\"automargin\": true, \"type\": \"pie\"}], \"scatter\": [{\"marker\": {\"colorbar\": {\"outlinewidth\": 0, \"ticks\": \"\"}}, \"type\": \"scatter\"}], \"scatter3d\": [{\"line\": {\"colorbar\": {\"outlinewidth\": 0, \"ticks\": \"\"}}, \"marker\": {\"colorbar\": {\"outlinewidth\": 0, \"ticks\": \"\"}}, \"type\": \"scatter3d\"}], \"scattercarpet\": [{\"marker\": {\"colorbar\": {\"outlinewidth\": 0, \"ticks\": \"\"}}, \"type\": \"scattercarpet\"}], \"scattergeo\": [{\"marker\": {\"colorbar\": {\"outlinewidth\": 0, \"ticks\": \"\"}}, \"type\": \"scattergeo\"}], \"scattergl\": [{\"marker\": {\"colorbar\": {\"outlinewidth\": 0, \"ticks\": \"\"}}, \"type\": \"scattergl\"}], \"scattermapbox\": [{\"marker\": {\"colorbar\": {\"outlinewidth\": 0, \"ticks\": \"\"}}, \"type\": \"scattermapbox\"}], \"scatterpolar\": [{\"marker\": {\"colorbar\": {\"outlinewidth\": 0, \"ticks\": \"\"}}, \"type\": \"scatterpolar\"}], \"scatterpolargl\": [{\"marker\": {\"colorbar\": {\"outlinewidth\": 0, \"ticks\": \"\"}}, \"type\": \"scatterpolargl\"}], \"scatterternary\": [{\"marker\": {\"colorbar\": {\"outlinewidth\": 0, \"ticks\": \"\"}}, \"type\": \"scatterternary\"}], \"surface\": [{\"colorbar\": {\"outlinewidth\": 0, \"ticks\": \"\"}, \"colorscale\": [[0.0, \"#0d0887\"], [0.1111111111111111, \"#46039f\"], [0.2222222222222222, \"#7201a8\"], [0.3333333333333333, \"#9c179e\"], [0.4444444444444444, \"#bd3786\"], [0.5555555555555556, \"#d8576b\"], [0.6666666666666666, \"#ed7953\"], [0.7777777777777778, \"#fb9f3a\"], [0.8888888888888888, \"#fdca26\"], [1.0, \"#f0f921\"]], \"type\": \"surface\"}], \"table\": [{\"cells\": {\"fill\": {\"color\": \"#EBF0F8\"}, \"line\": {\"color\": \"white\"}}, \"header\": {\"fill\": {\"color\": \"#C8D4E3\"}, \"line\": {\"color\": \"white\"}}, \"type\": \"table\"}]}, \"layout\": {\"annotationdefaults\": {\"arrowcolor\": \"#2a3f5f\", \"arrowhead\": 0, \"arrowwidth\": 1}, \"coloraxis\": {\"colorbar\": {\"outlinewidth\": 0, \"ticks\": \"\"}}, \"colorscale\": {\"diverging\": [[0, \"#8e0152\"], [0.1, \"#c51b7d\"], [0.2, \"#de77ae\"], [0.3, \"#f1b6da\"], [0.4, \"#fde0ef\"], [0.5, \"#f7f7f7\"], [0.6, \"#e6f5d0\"], [0.7, \"#b8e186\"], [0.8, \"#7fbc41\"], [0.9, \"#4d9221\"], [1, \"#276419\"]], \"sequential\": [[0.0, \"#0d0887\"], [0.1111111111111111, \"#46039f\"], [0.2222222222222222, \"#7201a8\"], [0.3333333333333333, \"#9c179e\"], [0.4444444444444444, \"#bd3786\"], [0.5555555555555556, \"#d8576b\"], [0.6666666666666666, \"#ed7953\"], [0.7777777777777778, \"#fb9f3a\"], [0.8888888888888888, \"#fdca26\"], [1.0, \"#f0f921\"]], \"sequentialminus\": [[0.0, \"#0d0887\"], [0.1111111111111111, \"#46039f\"], [0.2222222222222222, \"#7201a8\"], [0.3333333333333333, \"#9c179e\"], [0.4444444444444444, \"#bd3786\"], [0.5555555555555556, \"#d8576b\"], [0.6666666666666666, \"#ed7953\"], [0.7777777777777778, \"#fb9f3a\"], [0.8888888888888888, \"#fdca26\"], [1.0, \"#f0f921\"]]}, \"colorway\": [\"#636efa\", \"#EF553B\", \"#00cc96\", \"#ab63fa\", \"#FFA15A\", \"#19d3f3\", \"#FF6692\", \"#B6E880\", \"#FF97FF\", \"#FECB52\"], \"font\": {\"color\": \"#2a3f5f\"}, \"geo\": {\"bgcolor\": \"white\", \"lakecolor\": \"white\", \"landcolor\": \"#E5ECF6\", \"showlakes\": true, \"showland\": true, \"subunitcolor\": \"white\"}, \"hoverlabel\": {\"align\": \"left\"}, \"hovermode\": \"closest\", \"mapbox\": {\"style\": \"light\"}, \"paper_bgcolor\": \"white\", \"plot_bgcolor\": \"#E5ECF6\", \"polar\": {\"angularaxis\": {\"gridcolor\": \"white\", \"linecolor\": \"white\", \"ticks\": \"\"}, \"bgcolor\": \"#E5ECF6\", \"radialaxis\": {\"gridcolor\": \"white\", \"linecolor\": \"white\", \"ticks\": \"\"}}, \"scene\": {\"xaxis\": {\"backgroundcolor\": \"#E5ECF6\", \"gridcolor\": \"white\", \"gridwidth\": 2, \"linecolor\": \"white\", \"showbackground\": true, \"ticks\": \"\", \"zerolinecolor\": \"white\"}, \"yaxis\": {\"backgroundcolor\": \"#E5ECF6\", \"gridcolor\": \"white\", \"gridwidth\": 2, \"linecolor\": \"white\", \"showbackground\": true, \"ticks\": \"\", \"zerolinecolor\": \"white\"}, \"zaxis\": {\"backgroundcolor\": \"#E5ECF6\", \"gridcolor\": \"white\", \"gridwidth\": 2, \"linecolor\": \"white\", \"showbackground\": true, \"ticks\": \"\", \"zerolinecolor\": \"white\"}}, \"shapedefaults\": {\"line\": {\"color\": \"#2a3f5f\"}}, \"ternary\": {\"aaxis\": {\"gridcolor\": \"white\", \"linecolor\": \"white\", \"ticks\": \"\"}, \"baxis\": {\"gridcolor\": \"white\", \"linecolor\": \"white\", \"ticks\": \"\"}, \"bgcolor\": \"#E5ECF6\", \"caxis\": {\"gridcolor\": \"white\", \"linecolor\": \"white\", \"ticks\": \"\"}}, \"title\": {\"x\": 0.05}, \"xaxis\": {\"automargin\": true, \"gridcolor\": \"white\", \"linecolor\": \"white\", \"ticks\": \"\", \"title\": {\"standoff\": 15}, \"zerolinecolor\": \"white\", \"zerolinewidth\": 2}, \"yaxis\": {\"automargin\": true, \"gridcolor\": \"white\", \"linecolor\": \"white\", \"ticks\": \"\", \"title\": {\"standoff\": 15}, \"zerolinecolor\": \"white\", \"zerolinewidth\": 2}}}, \"title\": {\"text\": \"Visualizing Clusters in Three Dimensions Using T-SNE (perplexity=50)\"}, \"xaxis\": {\"ticklen\": 5, \"title\": {\"text\": \"TC1\"}, \"zeroline\": false}, \"yaxis\": {\"ticklen\": 5, \"title\": {\"text\": \"TC2\"}, \"zeroline\": false}},\n",
       "                        {\"responsive\": true}\n",
       "                    ).then(function(){\n",
       "                            \n",
       "var gd = document.getElementById('c7c301dc-2577-47ce-b925-df6ad63c4d1a');\n",
       "var x = new MutationObserver(function (mutations, observer) {{\n",
       "        var display = window.getComputedStyle(gd).display;\n",
       "        if (!display || display === 'none') {{\n",
       "            console.log([gd, 'removed!']);\n",
       "            Plotly.purge(gd);\n",
       "            observer.disconnect();\n",
       "        }}\n",
       "}});\n",
       "\n",
       "// Listen for the removal of the full notebook cells\n",
       "var notebookContainer = gd.closest('#notebook-container');\n",
       "if (notebookContainer) {{\n",
       "    x.observe(notebookContainer, {childList: true});\n",
       "}}\n",
       "\n",
       "// Listen for the clearing of the current output cell\n",
       "var outputEl = gd.closest('.output');\n",
       "if (outputEl) {{\n",
       "    x.observe(outputEl, {childList: true});\n",
       "}}\n",
       "\n",
       "                        })\n",
       "                };\n",
       "                });\n",
       "            </script>\n",
       "        </div>"
      ]
     },
     "metadata": {},
     "output_type": "display_data"
    }
   ],
   "source": [
    "\n",
    "#trace1 is for 'Cluster 0'\n",
    "trace1 = go.Scatter3d(\n",
    "                    x = cluster0[\"TC1_3d\"],\n",
    "                    y = cluster0[\"TC2_3d\"],\n",
    "                    z = cluster0[\"TC3_3d\"],\n",
    "                    mode = \"markers\",\n",
    "                    name = \"Cluster 0\",\n",
    "                    marker = dict(color = 'rgba(255, 128, 255, 0.8)'),\n",
    "                    text = cluster0.index)\n",
    "\n",
    "#trace2 is for 'Cluster 1'\n",
    "trace2 = go.Scatter3d(\n",
    "                    x = cluster1[\"TC1_3d\"],\n",
    "                    y = cluster1[\"TC2_3d\"],\n",
    "                    z = cluster1[\"TC3_3d\"],\n",
    "                    mode = \"markers\",\n",
    "                    name = \"Cluster 1\",\n",
    "                    marker = dict(color = 'rgba(255, 128, 2, 0.8)'),\n",
    "                    text = cluster1.index)\n",
    "\n",
    "#trace3 is for 'Cluster 2'\n",
    "trace3 = go.Scatter3d(\n",
    "                    x = cluster2[\"TC1_3d\"],\n",
    "                    y = cluster2[\"TC2_3d\"],\n",
    "                    z = cluster2[\"TC3_3d\"],\n",
    "                    mode = \"markers\",\n",
    "                    name = \"Cluster 2\",\n",
    "                    marker = dict(color = 'rgba(0, 255, 200, 0.8)'),\n",
    "                    text = cluster2.index)\n",
    "\n",
    "data = [trace1, trace2, trace3]\n",
    "\n",
    "title = \"Visualizing Clusters in Three Dimensions Using T-SNE (perplexity=\" + str(perplexity) + \")\"\n",
    "\n",
    "layout = dict(title = title,\n",
    "              xaxis= dict(title= 'TC1',ticklen= 5,zeroline= False),\n",
    "              yaxis= dict(title= 'TC2',ticklen= 5,zeroline= False)\n",
    "             )\n",
    "\n",
    "fig = dict(data = data, layout = layout)\n",
    "\n",
    "iplot(fig)"
   ]
  },
  {
   "cell_type": "markdown",
   "metadata": {},
   "source": [
    "## Tuning the Perplexity level in 2D?\n",
    "\n"
   ]
  },
  {
   "cell_type": "code",
   "execution_count": 187,
   "metadata": {
    "scrolled": false
   },
   "outputs": [
    {
     "data": {
      "text/html": [
       "        <script type=\"text/javascript\">\n",
       "        window.PlotlyConfig = {MathJaxConfig: 'local'};\n",
       "        if (window.MathJax) {MathJax.Hub.Config({SVG: {font: \"STIX-Web\"}});}\n",
       "        if (typeof require !== 'undefined') {\n",
       "        require.undef(\"plotly\");\n",
       "        requirejs.config({\n",
       "            paths: {\n",
       "                'plotly': ['https://cdn.plot.ly/plotly-latest.min']\n",
       "            }\n",
       "        });\n",
       "        require(['plotly'], function(Plotly) {\n",
       "            window._Plotly = Plotly;\n",
       "        });\n",
       "        }\n",
       "        </script>\n",
       "        "
      ]
     },
     "metadata": {},
     "output_type": "display_data"
    },
    {
     "data": {
      "application/vnd.plotly.v1+json": {
       "config": {
        "linkText": "Export to plot.ly",
        "plotlyServerURL": "https://plot.ly",
        "showLink": false
       },
       "data": [
        {
         "marker": {
          "color": "rgba(255, 128, 255, 0.8)"
         },
         "mode": "markers",
         "name": "Cluster: 0",
         "text": [
          "Sierra Leone",
          "Kenya",
          "Liechtenstein",
          "Ethiopia",
          "Sudan",
          "Benin",
          "West Bank and Gaza",
          "India",
          "Somalia",
          "Honduras",
          "Equatorial Guinea",
          "Bolivia",
          "Guinea-Bissau",
          "Zambia",
          "Bangladesh",
          "Indonesia",
          "Jamaica",
          "South Africa",
          "Angola",
          "Cote d'Ivoire",
          "Timor-Leste",
          "Kosovo",
          "Mali",
          "Gabon",
          "Malawi",
          "Mauritania",
          "Mozambique",
          "Haiti",
          "Guyana",
          "Philippines",
          "Ghana",
          "Madagascar",
          "Central African Republic",
          "Namibia",
          "Guatemala",
          "Cambodia",
          "Burundi",
          "Tanzania",
          "Zimbabwe",
          "Sao Tome and Principe",
          "Burkina Faso",
          "Senegal",
          "Papua New Guinea",
          "Guinea",
          "Rwanda",
          "Chad",
          "Niger",
          "Bhutan",
          "Cabo Verde",
          "Cameroon",
          "Pakistan"
         ],
         "type": "scatter",
         "x": [
          19.886560440063477,
          19.983091354370117,
          5.216983795166016,
          22.698854446411133,
          11.140215873718262,
          19.43366813659668,
          7.932979106903076,
          -2.085869550704956,
          14.957618713378906,
          5.110111236572266,
          19.775798797607422,
          2.8422138690948486,
          18.972103118896484,
          13.113924980163574,
          26.25531578063965,
          0.9745873212814331,
          6.334615230560303,
          9.64905834197998,
          18.25221824645996,
          18.485746383666992,
          19.337268829345703,
          5.525513172149658,
          18.972352981567383,
          9.66119384765625,
          22.21780014038086,
          15.81878662109375,
          14.074646949768066,
          13.424010276794434,
          8.883870124816895,
          2.5201566219329834,
          17.37036895751953,
          14.923697471618652,
          22.829450607299805,
          11.31305980682373,
          3.3735995292663574,
          10.14593505859375,
          22.890443801879883,
          19.24300193786621,
          20.2373104095459,
          9.06246566772461,
          20.490001678466797,
          17.784969329833984,
          18.945892333984375,
          20.21807861328125,
          22.092180252075195,
          23.589855194091797,
          25.187082290649414,
          8.527841567993164,
          9.32240104675293,
          26.054492950439453,
          25.849599838256836
         ],
         "y": [
          -16.829437255859375,
          -13.153520584106445,
          -23.239370346069336,
          -18.6674747467041,
          -9.11577320098877,
          -19.58031463623047,
          -16.71435546875,
          26.96369743347168,
          -25.007936477661133,
          7.318883419036865,
          -24.95661735534668,
          -1.807179570198059,
          -17.281532287597656,
          -16.126005172729492,
          -17.233966827392578,
          -5.442018032073975,
          -2.414097547531128,
          -15.769574165344238,
          -22.453121185302734,
          -18.72452163696289,
          -6.803464412689209,
          -23.728727340698242,
          -20.842655181884766,
          -14.144396781921387,
          -15.398707389831543,
          -18.292497634887695,
          -23.132192611694336,
          -19.098766326904297,
          0.5685914754867554,
          -4.8561320304870605,
          -13.57705020904541,
          -22.900819778442383,
          -24.42374038696289,
          -15.45732593536377,
          -3.335684061050415,
          -2.3921563625335693,
          -14.460672378540039,
          -13.0118989944458,
          -10.786235809326172,
          -9.441970825195312,
          -18.422212600708008,
          -19.893648147583008,
          -6.055469989776611,
          -22.475841522216797,
          -13.166460037231445,
          -24.057445526123047,
          -22.605613708496094,
          -3.5987472534179688,
          -8.659453392028809,
          -19.957782745361328,
          -18.329566955566406
         ]
        },
        {
         "marker": {
          "color": "rgba(255, 128, 2, 0.8)"
         },
         "mode": "markers",
         "name": "Cluster: 1",
         "text": [
          "United States"
         ],
         "type": "scatter",
         "x": [
          -29.931577682495117
         ],
         "y": [
          12.495492935180664
         ]
        },
        {
         "marker": {
          "color": "rgba(0, 255, 200, 0.8)"
         },
         "mode": "markers",
         "name": "Cluster: 2",
         "text": [
          "Slovenia",
          "Fiji",
          "Malta",
          "Paraguay",
          "Croatia",
          "Mongolia",
          "Denmark",
          "Ukraine",
          "Germany",
          "Algeria",
          "Azerbaijan",
          "Cyprus",
          "Bahrain",
          "Belgium",
          "Singapore",
          "Japan",
          "Andorra",
          "Morocco",
          "Spain",
          "Chile",
          "Brazil",
          "Kazakhstan",
          "Monaco",
          "Dominican Republic",
          "Mexico",
          "Mauritius",
          "Nicaragua",
          "Tunisia",
          "Uzbekistan",
          "Lebanon",
          "Finland",
          "Georgia",
          "Saudi Arabia",
          "Italy",
          "United Kingdom",
          "United Arab Emirates",
          "Albania",
          "Peru",
          "Suriname",
          "Moldova",
          "Lithuania",
          "Israel",
          "Netherlands",
          "Maldives",
          "Greece",
          "Serbia",
          "Turkey",
          "Antigua and Barbuda",
          "Estonia",
          "Cuba",
          "Ecuador",
          "Belarus",
          "Latvia",
          "Austria",
          "France",
          "Grenada",
          "Portugal",
          "Luxembourg",
          "Sweden",
          "Iceland",
          "San Marino",
          "El Salvador",
          "Belize",
          "Panama",
          "Costa Rica",
          "Dominica",
          "Hungary",
          "Qatar",
          "Oman",
          "Trinidad and Tobago",
          "Armenia",
          "China",
          "Uruguay",
          "Thailand",
          "Norway"
         ],
         "type": "scatter",
         "x": [
          -15.902440071105957,
          -4.052733898162842,
          -10.827033996582031,
          -0.0404651053249836,
          -13.360628128051758,
          6.441608905792236,
          -23.97263526916504,
          2.637758731842041,
          -24.773805618286133,
          7.308760166168213,
          4.689133644104004,
          -9.7677640914917,
          -5.621435165405273,
          -28.056171417236328,
          -9.680109024047852,
          -23.020193099975586,
          14.62684154510498,
          7.363613128662109,
          -28.098682403564453,
          -4.616469860076904,
          0.9729086756706238,
          -8.056802749633789,
          -11.219219207763672,
          -1.6417335271835327,
          0.4824637472629547,
          -8.158106803894043,
          7.109989643096924,
          8.63303279876709,
          -5.879378795623779,
          -0.287568598985672,
          -23.9061279296875,
          2.069119930267334,
          -4.782445907592773,
          -27.32838249206543,
          -27.180578231811523,
          -7.232099533081055,
          -9.656829833984375,
          2.084432363510132,
          5.0145111083984375,
          -9.239643096923828,
          -16.03952980041504,
          -6.349831581115723,
          -27.318801879882812,
          -7.405686378479004,
          -11.682523727416992,
          3.2366321086883545,
          5.220765113830566,
          -6.241940498352051,
          -14.686314582824707,
          -6.665879726409912,
          1.54862642288208,
          -17.681825637817383,
          -14.36844253540039,
          -23.86967658996582,
          -27.424209594726562,
          -5.889612674713135,
          -11.822990417480469,
          -20.973983764648438,
          -24.728809356689453,
          -22.791851043701172,
          -6.175913333892822,
          3.4368810653686523,
          7.512815952301025,
          0.46424171328544617,
          -2.8976004123687744,
          14.596803665161133,
          -16.97210693359375,
          -4.930478572845459,
          3.2996609210968018,
          -3.2760238647460938,
          2.5449094772338867,
          -2.576190233230591,
          -4.110280990600586,
          -2.3852739334106445,
          -22.717775344848633
         ],
         "y": [
          11.7568998336792,
          -0.9434995055198669,
          10.415245056152344,
          -0.4610280394554138,
          8.433049201965332,
          10.788922309875488,
          21.577959060668945,
          16.381969451904297,
          16.388988494873047,
          4.156623840332031,
          10.260129928588867,
          7.641532897949219,
          17.59804344177246,
          19.294326782226562,
          17.295795440673828,
          16.306703567504883,
          6.942111968994141,
          3.0155789852142334,
          11.07164192199707,
          8.187684059143066,
          5.537612438201904,
          -2.383430242538452,
          17.24408721923828,
          6.153307914733887,
          2.886890172958374,
          1.1271089315414429,
          -0.8637909293174744,
          5.031905174255371,
          -1.606203317642212,
          -2.8296403884887695,
          19.772804260253906,
          13.205686569213867,
          17.801111221313477,
          11.0649995803833,
          13.737107276916504,
          17.477384567260742,
          5.932557106018066,
          -0.5303328037261963,
          9.298873901367188,
          0.5395799875259399,
          9.748536109924316,
          8.720582008361816,
          19.44928741455078,
          -0.27808231115341187,
          5.743574142456055,
          14.37729263305664,
          13.8358736038208,
          2.217372179031372,
          10.569236755371094,
          6.101550579071045,
          -1.7586513757705688,
          8.706620216369629,
          9.332188606262207,
          18.23011016845703,
          12.878405570983887,
          1.549613118171692,
          8.546429634094238,
          21.21255874633789,
          20.769193649291992,
          21.800750732421875,
          10.47056770324707,
          0.03929874300956726,
          1.56898033618927,
          0.620893120765686,
          8.097192764282227,
          6.393595218658447,
          10.708588600158691,
          19.511526107788086,
          2.562758445739746,
          1.9726625680923462,
          12.622090339660645,
          26.68631935119629,
          7.072401523590088,
          2.1509671211242676,
          20.4796199798584
         ]
        }
       ],
       "layout": {
        "template": {
         "data": {
          "bar": [
           {
            "error_x": {
             "color": "#2a3f5f"
            },
            "error_y": {
             "color": "#2a3f5f"
            },
            "marker": {
             "line": {
              "color": "#E5ECF6",
              "width": 0.5
             }
            },
            "type": "bar"
           }
          ],
          "barpolar": [
           {
            "marker": {
             "line": {
              "color": "#E5ECF6",
              "width": 0.5
             }
            },
            "type": "barpolar"
           }
          ],
          "carpet": [
           {
            "aaxis": {
             "endlinecolor": "#2a3f5f",
             "gridcolor": "white",
             "linecolor": "white",
             "minorgridcolor": "white",
             "startlinecolor": "#2a3f5f"
            },
            "baxis": {
             "endlinecolor": "#2a3f5f",
             "gridcolor": "white",
             "linecolor": "white",
             "minorgridcolor": "white",
             "startlinecolor": "#2a3f5f"
            },
            "type": "carpet"
           }
          ],
          "choropleth": [
           {
            "colorbar": {
             "outlinewidth": 0,
             "ticks": ""
            },
            "type": "choropleth"
           }
          ],
          "contour": [
           {
            "colorbar": {
             "outlinewidth": 0,
             "ticks": ""
            },
            "colorscale": [
             [
              0,
              "#0d0887"
             ],
             [
              0.1111111111111111,
              "#46039f"
             ],
             [
              0.2222222222222222,
              "#7201a8"
             ],
             [
              0.3333333333333333,
              "#9c179e"
             ],
             [
              0.4444444444444444,
              "#bd3786"
             ],
             [
              0.5555555555555556,
              "#d8576b"
             ],
             [
              0.6666666666666666,
              "#ed7953"
             ],
             [
              0.7777777777777778,
              "#fb9f3a"
             ],
             [
              0.8888888888888888,
              "#fdca26"
             ],
             [
              1,
              "#f0f921"
             ]
            ],
            "type": "contour"
           }
          ],
          "contourcarpet": [
           {
            "colorbar": {
             "outlinewidth": 0,
             "ticks": ""
            },
            "type": "contourcarpet"
           }
          ],
          "heatmap": [
           {
            "colorbar": {
             "outlinewidth": 0,
             "ticks": ""
            },
            "colorscale": [
             [
              0,
              "#0d0887"
             ],
             [
              0.1111111111111111,
              "#46039f"
             ],
             [
              0.2222222222222222,
              "#7201a8"
             ],
             [
              0.3333333333333333,
              "#9c179e"
             ],
             [
              0.4444444444444444,
              "#bd3786"
             ],
             [
              0.5555555555555556,
              "#d8576b"
             ],
             [
              0.6666666666666666,
              "#ed7953"
             ],
             [
              0.7777777777777778,
              "#fb9f3a"
             ],
             [
              0.8888888888888888,
              "#fdca26"
             ],
             [
              1,
              "#f0f921"
             ]
            ],
            "type": "heatmap"
           }
          ],
          "heatmapgl": [
           {
            "colorbar": {
             "outlinewidth": 0,
             "ticks": ""
            },
            "colorscale": [
             [
              0,
              "#0d0887"
             ],
             [
              0.1111111111111111,
              "#46039f"
             ],
             [
              0.2222222222222222,
              "#7201a8"
             ],
             [
              0.3333333333333333,
              "#9c179e"
             ],
             [
              0.4444444444444444,
              "#bd3786"
             ],
             [
              0.5555555555555556,
              "#d8576b"
             ],
             [
              0.6666666666666666,
              "#ed7953"
             ],
             [
              0.7777777777777778,
              "#fb9f3a"
             ],
             [
              0.8888888888888888,
              "#fdca26"
             ],
             [
              1,
              "#f0f921"
             ]
            ],
            "type": "heatmapgl"
           }
          ],
          "histogram": [
           {
            "marker": {
             "colorbar": {
              "outlinewidth": 0,
              "ticks": ""
             }
            },
            "type": "histogram"
           }
          ],
          "histogram2d": [
           {
            "colorbar": {
             "outlinewidth": 0,
             "ticks": ""
            },
            "colorscale": [
             [
              0,
              "#0d0887"
             ],
             [
              0.1111111111111111,
              "#46039f"
             ],
             [
              0.2222222222222222,
              "#7201a8"
             ],
             [
              0.3333333333333333,
              "#9c179e"
             ],
             [
              0.4444444444444444,
              "#bd3786"
             ],
             [
              0.5555555555555556,
              "#d8576b"
             ],
             [
              0.6666666666666666,
              "#ed7953"
             ],
             [
              0.7777777777777778,
              "#fb9f3a"
             ],
             [
              0.8888888888888888,
              "#fdca26"
             ],
             [
              1,
              "#f0f921"
             ]
            ],
            "type": "histogram2d"
           }
          ],
          "histogram2dcontour": [
           {
            "colorbar": {
             "outlinewidth": 0,
             "ticks": ""
            },
            "colorscale": [
             [
              0,
              "#0d0887"
             ],
             [
              0.1111111111111111,
              "#46039f"
             ],
             [
              0.2222222222222222,
              "#7201a8"
             ],
             [
              0.3333333333333333,
              "#9c179e"
             ],
             [
              0.4444444444444444,
              "#bd3786"
             ],
             [
              0.5555555555555556,
              "#d8576b"
             ],
             [
              0.6666666666666666,
              "#ed7953"
             ],
             [
              0.7777777777777778,
              "#fb9f3a"
             ],
             [
              0.8888888888888888,
              "#fdca26"
             ],
             [
              1,
              "#f0f921"
             ]
            ],
            "type": "histogram2dcontour"
           }
          ],
          "mesh3d": [
           {
            "colorbar": {
             "outlinewidth": 0,
             "ticks": ""
            },
            "type": "mesh3d"
           }
          ],
          "parcoords": [
           {
            "line": {
             "colorbar": {
              "outlinewidth": 0,
              "ticks": ""
             }
            },
            "type": "parcoords"
           }
          ],
          "pie": [
           {
            "automargin": true,
            "type": "pie"
           }
          ],
          "scatter": [
           {
            "marker": {
             "colorbar": {
              "outlinewidth": 0,
              "ticks": ""
             }
            },
            "type": "scatter"
           }
          ],
          "scatter3d": [
           {
            "line": {
             "colorbar": {
              "outlinewidth": 0,
              "ticks": ""
             }
            },
            "marker": {
             "colorbar": {
              "outlinewidth": 0,
              "ticks": ""
             }
            },
            "type": "scatter3d"
           }
          ],
          "scattercarpet": [
           {
            "marker": {
             "colorbar": {
              "outlinewidth": 0,
              "ticks": ""
             }
            },
            "type": "scattercarpet"
           }
          ],
          "scattergeo": [
           {
            "marker": {
             "colorbar": {
              "outlinewidth": 0,
              "ticks": ""
             }
            },
            "type": "scattergeo"
           }
          ],
          "scattergl": [
           {
            "marker": {
             "colorbar": {
              "outlinewidth": 0,
              "ticks": ""
             }
            },
            "type": "scattergl"
           }
          ],
          "scattermapbox": [
           {
            "marker": {
             "colorbar": {
              "outlinewidth": 0,
              "ticks": ""
             }
            },
            "type": "scattermapbox"
           }
          ],
          "scatterpolar": [
           {
            "marker": {
             "colorbar": {
              "outlinewidth": 0,
              "ticks": ""
             }
            },
            "type": "scatterpolar"
           }
          ],
          "scatterpolargl": [
           {
            "marker": {
             "colorbar": {
              "outlinewidth": 0,
              "ticks": ""
             }
            },
            "type": "scatterpolargl"
           }
          ],
          "scatterternary": [
           {
            "marker": {
             "colorbar": {
              "outlinewidth": 0,
              "ticks": ""
             }
            },
            "type": "scatterternary"
           }
          ],
          "surface": [
           {
            "colorbar": {
             "outlinewidth": 0,
             "ticks": ""
            },
            "colorscale": [
             [
              0,
              "#0d0887"
             ],
             [
              0.1111111111111111,
              "#46039f"
             ],
             [
              0.2222222222222222,
              "#7201a8"
             ],
             [
              0.3333333333333333,
              "#9c179e"
             ],
             [
              0.4444444444444444,
              "#bd3786"
             ],
             [
              0.5555555555555556,
              "#d8576b"
             ],
             [
              0.6666666666666666,
              "#ed7953"
             ],
             [
              0.7777777777777778,
              "#fb9f3a"
             ],
             [
              0.8888888888888888,
              "#fdca26"
             ],
             [
              1,
              "#f0f921"
             ]
            ],
            "type": "surface"
           }
          ],
          "table": [
           {
            "cells": {
             "fill": {
              "color": "#EBF0F8"
             },
             "line": {
              "color": "white"
             }
            },
            "header": {
             "fill": {
              "color": "#C8D4E3"
             },
             "line": {
              "color": "white"
             }
            },
            "type": "table"
           }
          ]
         },
         "layout": {
          "annotationdefaults": {
           "arrowcolor": "#2a3f5f",
           "arrowhead": 0,
           "arrowwidth": 1
          },
          "coloraxis": {
           "colorbar": {
            "outlinewidth": 0,
            "ticks": ""
           }
          },
          "colorscale": {
           "diverging": [
            [
             0,
             "#8e0152"
            ],
            [
             0.1,
             "#c51b7d"
            ],
            [
             0.2,
             "#de77ae"
            ],
            [
             0.3,
             "#f1b6da"
            ],
            [
             0.4,
             "#fde0ef"
            ],
            [
             0.5,
             "#f7f7f7"
            ],
            [
             0.6,
             "#e6f5d0"
            ],
            [
             0.7,
             "#b8e186"
            ],
            [
             0.8,
             "#7fbc41"
            ],
            [
             0.9,
             "#4d9221"
            ],
            [
             1,
             "#276419"
            ]
           ],
           "sequential": [
            [
             0,
             "#0d0887"
            ],
            [
             0.1111111111111111,
             "#46039f"
            ],
            [
             0.2222222222222222,
             "#7201a8"
            ],
            [
             0.3333333333333333,
             "#9c179e"
            ],
            [
             0.4444444444444444,
             "#bd3786"
            ],
            [
             0.5555555555555556,
             "#d8576b"
            ],
            [
             0.6666666666666666,
             "#ed7953"
            ],
            [
             0.7777777777777778,
             "#fb9f3a"
            ],
            [
             0.8888888888888888,
             "#fdca26"
            ],
            [
             1,
             "#f0f921"
            ]
           ],
           "sequentialminus": [
            [
             0,
             "#0d0887"
            ],
            [
             0.1111111111111111,
             "#46039f"
            ],
            [
             0.2222222222222222,
             "#7201a8"
            ],
            [
             0.3333333333333333,
             "#9c179e"
            ],
            [
             0.4444444444444444,
             "#bd3786"
            ],
            [
             0.5555555555555556,
             "#d8576b"
            ],
            [
             0.6666666666666666,
             "#ed7953"
            ],
            [
             0.7777777777777778,
             "#fb9f3a"
            ],
            [
             0.8888888888888888,
             "#fdca26"
            ],
            [
             1,
             "#f0f921"
            ]
           ]
          },
          "colorway": [
           "#636efa",
           "#EF553B",
           "#00cc96",
           "#ab63fa",
           "#FFA15A",
           "#19d3f3",
           "#FF6692",
           "#B6E880",
           "#FF97FF",
           "#FECB52"
          ],
          "font": {
           "color": "#2a3f5f"
          },
          "geo": {
           "bgcolor": "white",
           "lakecolor": "white",
           "landcolor": "#E5ECF6",
           "showlakes": true,
           "showland": true,
           "subunitcolor": "white"
          },
          "hoverlabel": {
           "align": "left"
          },
          "hovermode": "closest",
          "mapbox": {
           "style": "light"
          },
          "paper_bgcolor": "white",
          "plot_bgcolor": "#E5ECF6",
          "polar": {
           "angularaxis": {
            "gridcolor": "white",
            "linecolor": "white",
            "ticks": ""
           },
           "bgcolor": "#E5ECF6",
           "radialaxis": {
            "gridcolor": "white",
            "linecolor": "white",
            "ticks": ""
           }
          },
          "scene": {
           "xaxis": {
            "backgroundcolor": "#E5ECF6",
            "gridcolor": "white",
            "gridwidth": 2,
            "linecolor": "white",
            "showbackground": true,
            "ticks": "",
            "zerolinecolor": "white"
           },
           "yaxis": {
            "backgroundcolor": "#E5ECF6",
            "gridcolor": "white",
            "gridwidth": 2,
            "linecolor": "white",
            "showbackground": true,
            "ticks": "",
            "zerolinecolor": "white"
           },
           "zaxis": {
            "backgroundcolor": "#E5ECF6",
            "gridcolor": "white",
            "gridwidth": 2,
            "linecolor": "white",
            "showbackground": true,
            "ticks": "",
            "zerolinecolor": "white"
           }
          },
          "shapedefaults": {
           "line": {
            "color": "#2a3f5f"
           }
          },
          "ternary": {
           "aaxis": {
            "gridcolor": "white",
            "linecolor": "white",
            "ticks": ""
           },
           "baxis": {
            "gridcolor": "white",
            "linecolor": "white",
            "ticks": ""
           },
           "bgcolor": "#E5ECF6",
           "caxis": {
            "gridcolor": "white",
            "linecolor": "white",
            "ticks": ""
           }
          },
          "title": {
           "x": 0.05
          },
          "xaxis": {
           "automargin": true,
           "gridcolor": "white",
           "linecolor": "white",
           "ticks": "",
           "title": {
            "standoff": 15
           },
           "zerolinecolor": "white",
           "zerolinewidth": 2
          },
          "yaxis": {
           "automargin": true,
           "gridcolor": "white",
           "linecolor": "white",
           "ticks": "",
           "title": {
            "standoff": 15
           },
           "zerolinecolor": "white",
           "zerolinewidth": 2
          }
         }
        },
        "title": {
         "text": "Visualizing Clusters in Two Dimensions Using T-SNE (perplexity=10)"
        },
        "xaxis": {
         "ticklen": 5,
         "title": {
          "text": "TC1"
         },
         "zeroline": false
        },
        "yaxis": {
         "ticklen": 5,
         "title": {
          "text": "TC2"
         },
         "zeroline": false
        }
       }
      },
      "text/html": [
       "<div>\n",
       "        \n",
       "        \n",
       "            <div id=\"4b6b380f-a694-4725-affd-9e3680c09385\" class=\"plotly-graph-div\" style=\"height:525px; width:100%;\"></div>\n",
       "            <script type=\"text/javascript\">\n",
       "                require([\"plotly\"], function(Plotly) {\n",
       "                    window.PLOTLYENV=window.PLOTLYENV || {};\n",
       "                    \n",
       "                if (document.getElementById(\"4b6b380f-a694-4725-affd-9e3680c09385\")) {\n",
       "                    Plotly.newPlot(\n",
       "                        '4b6b380f-a694-4725-affd-9e3680c09385',\n",
       "                        [{\"marker\": {\"color\": \"rgba(255, 128, 255, 0.8)\"}, \"mode\": \"markers\", \"name\": \"Cluster: 0\", \"text\": [\"Sierra Leone\", \"Kenya\", \"Liechtenstein\", \"Ethiopia\", \"Sudan\", \"Benin\", \"West Bank and Gaza\", \"India\", \"Somalia\", \"Honduras\", \"Equatorial Guinea\", \"Bolivia\", \"Guinea-Bissau\", \"Zambia\", \"Bangladesh\", \"Indonesia\", \"Jamaica\", \"South Africa\", \"Angola\", \"Cote d'Ivoire\", \"Timor-Leste\", \"Kosovo\", \"Mali\", \"Gabon\", \"Malawi\", \"Mauritania\", \"Mozambique\", \"Haiti\", \"Guyana\", \"Philippines\", \"Ghana\", \"Madagascar\", \"Central African Republic\", \"Namibia\", \"Guatemala\", \"Cambodia\", \"Burundi\", \"Tanzania\", \"Zimbabwe\", \"Sao Tome and Principe\", \"Burkina Faso\", \"Senegal\", \"Papua New Guinea\", \"Guinea\", \"Rwanda\", \"Chad\", \"Niger\", \"Bhutan\", \"Cabo Verde\", \"Cameroon\", \"Pakistan\"], \"type\": \"scatter\", \"x\": [19.886560440063477, 19.983091354370117, 5.216983795166016, 22.698854446411133, 11.140215873718262, 19.43366813659668, 7.932979106903076, -2.085869550704956, 14.957618713378906, 5.110111236572266, 19.775798797607422, 2.8422138690948486, 18.972103118896484, 13.113924980163574, 26.25531578063965, 0.9745873212814331, 6.334615230560303, 9.64905834197998, 18.25221824645996, 18.485746383666992, 19.337268829345703, 5.525513172149658, 18.972352981567383, 9.66119384765625, 22.21780014038086, 15.81878662109375, 14.074646949768066, 13.424010276794434, 8.883870124816895, 2.5201566219329834, 17.37036895751953, 14.923697471618652, 22.829450607299805, 11.31305980682373, 3.3735995292663574, 10.14593505859375, 22.890443801879883, 19.24300193786621, 20.2373104095459, 9.06246566772461, 20.490001678466797, 17.784969329833984, 18.945892333984375, 20.21807861328125, 22.092180252075195, 23.589855194091797, 25.187082290649414, 8.527841567993164, 9.32240104675293, 26.054492950439453, 25.849599838256836], \"y\": [-16.829437255859375, -13.153520584106445, -23.239370346069336, -18.6674747467041, -9.11577320098877, -19.58031463623047, -16.71435546875, 26.96369743347168, -25.007936477661133, 7.318883419036865, -24.95661735534668, -1.807179570198059, -17.281532287597656, -16.126005172729492, -17.233966827392578, -5.442018032073975, -2.414097547531128, -15.769574165344238, -22.453121185302734, -18.72452163696289, -6.803464412689209, -23.728727340698242, -20.842655181884766, -14.144396781921387, -15.398707389831543, -18.292497634887695, -23.132192611694336, -19.098766326904297, 0.5685914754867554, -4.8561320304870605, -13.57705020904541, -22.900819778442383, -24.42374038696289, -15.45732593536377, -3.335684061050415, -2.3921563625335693, -14.460672378540039, -13.0118989944458, -10.786235809326172, -9.441970825195312, -18.422212600708008, -19.893648147583008, -6.055469989776611, -22.475841522216797, -13.166460037231445, -24.057445526123047, -22.605613708496094, -3.5987472534179688, -8.659453392028809, -19.957782745361328, -18.329566955566406]}, {\"marker\": {\"color\": \"rgba(255, 128, 2, 0.8)\"}, \"mode\": \"markers\", \"name\": \"Cluster: 1\", \"text\": [\"United States\"], \"type\": \"scatter\", \"x\": [-29.931577682495117], \"y\": [12.495492935180664]}, {\"marker\": {\"color\": \"rgba(0, 255, 200, 0.8)\"}, \"mode\": \"markers\", \"name\": \"Cluster: 2\", \"text\": [\"Slovenia\", \"Fiji\", \"Malta\", \"Paraguay\", \"Croatia\", \"Mongolia\", \"Denmark\", \"Ukraine\", \"Germany\", \"Algeria\", \"Azerbaijan\", \"Cyprus\", \"Bahrain\", \"Belgium\", \"Singapore\", \"Japan\", \"Andorra\", \"Morocco\", \"Spain\", \"Chile\", \"Brazil\", \"Kazakhstan\", \"Monaco\", \"Dominican Republic\", \"Mexico\", \"Mauritius\", \"Nicaragua\", \"Tunisia\", \"Uzbekistan\", \"Lebanon\", \"Finland\", \"Georgia\", \"Saudi Arabia\", \"Italy\", \"United Kingdom\", \"United Arab Emirates\", \"Albania\", \"Peru\", \"Suriname\", \"Moldova\", \"Lithuania\", \"Israel\", \"Netherlands\", \"Maldives\", \"Greece\", \"Serbia\", \"Turkey\", \"Antigua and Barbuda\", \"Estonia\", \"Cuba\", \"Ecuador\", \"Belarus\", \"Latvia\", \"Austria\", \"France\", \"Grenada\", \"Portugal\", \"Luxembourg\", \"Sweden\", \"Iceland\", \"San Marino\", \"El Salvador\", \"Belize\", \"Panama\", \"Costa Rica\", \"Dominica\", \"Hungary\", \"Qatar\", \"Oman\", \"Trinidad and Tobago\", \"Armenia\", \"China\", \"Uruguay\", \"Thailand\", \"Norway\"], \"type\": \"scatter\", \"x\": [-15.902440071105957, -4.052733898162842, -10.827033996582031, -0.0404651053249836, -13.360628128051758, 6.441608905792236, -23.97263526916504, 2.637758731842041, -24.773805618286133, 7.308760166168213, 4.689133644104004, -9.7677640914917, -5.621435165405273, -28.056171417236328, -9.680109024047852, -23.020193099975586, 14.62684154510498, 7.363613128662109, -28.098682403564453, -4.616469860076904, 0.9729086756706238, -8.056802749633789, -11.219219207763672, -1.6417335271835327, 0.4824637472629547, -8.158106803894043, 7.109989643096924, 8.63303279876709, -5.879378795623779, -0.287568598985672, -23.9061279296875, 2.069119930267334, -4.782445907592773, -27.32838249206543, -27.180578231811523, -7.232099533081055, -9.656829833984375, 2.084432363510132, 5.0145111083984375, -9.239643096923828, -16.03952980041504, -6.349831581115723, -27.318801879882812, -7.405686378479004, -11.682523727416992, 3.2366321086883545, 5.220765113830566, -6.241940498352051, -14.686314582824707, -6.665879726409912, 1.54862642288208, -17.681825637817383, -14.36844253540039, -23.86967658996582, -27.424209594726562, -5.889612674713135, -11.822990417480469, -20.973983764648438, -24.728809356689453, -22.791851043701172, -6.175913333892822, 3.4368810653686523, 7.512815952301025, 0.46424171328544617, -2.8976004123687744, 14.596803665161133, -16.97210693359375, -4.930478572845459, 3.2996609210968018, -3.2760238647460938, 2.5449094772338867, -2.576190233230591, -4.110280990600586, -2.3852739334106445, -22.717775344848633], \"y\": [11.7568998336792, -0.9434995055198669, 10.415245056152344, -0.4610280394554138, 8.433049201965332, 10.788922309875488, 21.577959060668945, 16.381969451904297, 16.388988494873047, 4.156623840332031, 10.260129928588867, 7.641532897949219, 17.59804344177246, 19.294326782226562, 17.295795440673828, 16.306703567504883, 6.942111968994141, 3.0155789852142334, 11.07164192199707, 8.187684059143066, 5.537612438201904, -2.383430242538452, 17.24408721923828, 6.153307914733887, 2.886890172958374, 1.1271089315414429, -0.8637909293174744, 5.031905174255371, -1.606203317642212, -2.8296403884887695, 19.772804260253906, 13.205686569213867, 17.801111221313477, 11.0649995803833, 13.737107276916504, 17.477384567260742, 5.932557106018066, -0.5303328037261963, 9.298873901367188, 0.5395799875259399, 9.748536109924316, 8.720582008361816, 19.44928741455078, -0.27808231115341187, 5.743574142456055, 14.37729263305664, 13.8358736038208, 2.217372179031372, 10.569236755371094, 6.101550579071045, -1.7586513757705688, 8.706620216369629, 9.332188606262207, 18.23011016845703, 12.878405570983887, 1.549613118171692, 8.546429634094238, 21.21255874633789, 20.769193649291992, 21.800750732421875, 10.47056770324707, 0.03929874300956726, 1.56898033618927, 0.620893120765686, 8.097192764282227, 6.393595218658447, 10.708588600158691, 19.511526107788086, 2.562758445739746, 1.9726625680923462, 12.622090339660645, 26.68631935119629, 7.072401523590088, 2.1509671211242676, 20.4796199798584]}],\n",
       "                        {\"template\": {\"data\": {\"bar\": [{\"error_x\": {\"color\": \"#2a3f5f\"}, \"error_y\": {\"color\": \"#2a3f5f\"}, \"marker\": {\"line\": {\"color\": \"#E5ECF6\", \"width\": 0.5}}, \"type\": \"bar\"}], \"barpolar\": [{\"marker\": {\"line\": {\"color\": \"#E5ECF6\", \"width\": 0.5}}, \"type\": \"barpolar\"}], \"carpet\": [{\"aaxis\": {\"endlinecolor\": \"#2a3f5f\", \"gridcolor\": \"white\", \"linecolor\": \"white\", \"minorgridcolor\": \"white\", \"startlinecolor\": \"#2a3f5f\"}, \"baxis\": {\"endlinecolor\": \"#2a3f5f\", \"gridcolor\": \"white\", \"linecolor\": \"white\", \"minorgridcolor\": \"white\", \"startlinecolor\": \"#2a3f5f\"}, \"type\": \"carpet\"}], \"choropleth\": [{\"colorbar\": {\"outlinewidth\": 0, \"ticks\": \"\"}, \"type\": \"choropleth\"}], \"contour\": [{\"colorbar\": {\"outlinewidth\": 0, \"ticks\": \"\"}, \"colorscale\": [[0.0, \"#0d0887\"], [0.1111111111111111, \"#46039f\"], [0.2222222222222222, \"#7201a8\"], [0.3333333333333333, \"#9c179e\"], [0.4444444444444444, \"#bd3786\"], [0.5555555555555556, \"#d8576b\"], [0.6666666666666666, \"#ed7953\"], [0.7777777777777778, \"#fb9f3a\"], [0.8888888888888888, \"#fdca26\"], [1.0, \"#f0f921\"]], \"type\": \"contour\"}], \"contourcarpet\": [{\"colorbar\": {\"outlinewidth\": 0, \"ticks\": \"\"}, \"type\": \"contourcarpet\"}], \"heatmap\": [{\"colorbar\": {\"outlinewidth\": 0, \"ticks\": \"\"}, \"colorscale\": [[0.0, \"#0d0887\"], [0.1111111111111111, \"#46039f\"], [0.2222222222222222, \"#7201a8\"], [0.3333333333333333, \"#9c179e\"], [0.4444444444444444, \"#bd3786\"], [0.5555555555555556, \"#d8576b\"], [0.6666666666666666, \"#ed7953\"], [0.7777777777777778, \"#fb9f3a\"], [0.8888888888888888, \"#fdca26\"], [1.0, \"#f0f921\"]], \"type\": \"heatmap\"}], \"heatmapgl\": [{\"colorbar\": {\"outlinewidth\": 0, \"ticks\": \"\"}, \"colorscale\": [[0.0, \"#0d0887\"], [0.1111111111111111, \"#46039f\"], [0.2222222222222222, \"#7201a8\"], [0.3333333333333333, \"#9c179e\"], [0.4444444444444444, \"#bd3786\"], [0.5555555555555556, \"#d8576b\"], [0.6666666666666666, \"#ed7953\"], [0.7777777777777778, \"#fb9f3a\"], [0.8888888888888888, \"#fdca26\"], [1.0, \"#f0f921\"]], \"type\": \"heatmapgl\"}], \"histogram\": [{\"marker\": {\"colorbar\": {\"outlinewidth\": 0, \"ticks\": \"\"}}, \"type\": \"histogram\"}], \"histogram2d\": [{\"colorbar\": {\"outlinewidth\": 0, \"ticks\": \"\"}, \"colorscale\": [[0.0, \"#0d0887\"], [0.1111111111111111, \"#46039f\"], [0.2222222222222222, \"#7201a8\"], [0.3333333333333333, \"#9c179e\"], [0.4444444444444444, \"#bd3786\"], [0.5555555555555556, \"#d8576b\"], [0.6666666666666666, \"#ed7953\"], [0.7777777777777778, \"#fb9f3a\"], [0.8888888888888888, \"#fdca26\"], [1.0, \"#f0f921\"]], \"type\": \"histogram2d\"}], \"histogram2dcontour\": [{\"colorbar\": {\"outlinewidth\": 0, \"ticks\": \"\"}, \"colorscale\": [[0.0, \"#0d0887\"], [0.1111111111111111, \"#46039f\"], [0.2222222222222222, \"#7201a8\"], [0.3333333333333333, \"#9c179e\"], [0.4444444444444444, \"#bd3786\"], [0.5555555555555556, \"#d8576b\"], [0.6666666666666666, \"#ed7953\"], [0.7777777777777778, \"#fb9f3a\"], [0.8888888888888888, \"#fdca26\"], [1.0, \"#f0f921\"]], \"type\": \"histogram2dcontour\"}], \"mesh3d\": [{\"colorbar\": {\"outlinewidth\": 0, \"ticks\": \"\"}, \"type\": \"mesh3d\"}], \"parcoords\": [{\"line\": {\"colorbar\": {\"outlinewidth\": 0, \"ticks\": \"\"}}, \"type\": \"parcoords\"}], \"pie\": [{\"automargin\": true, \"type\": \"pie\"}], \"scatter\": [{\"marker\": {\"colorbar\": {\"outlinewidth\": 0, \"ticks\": \"\"}}, \"type\": \"scatter\"}], \"scatter3d\": [{\"line\": {\"colorbar\": {\"outlinewidth\": 0, \"ticks\": \"\"}}, \"marker\": {\"colorbar\": {\"outlinewidth\": 0, \"ticks\": \"\"}}, \"type\": \"scatter3d\"}], \"scattercarpet\": [{\"marker\": {\"colorbar\": {\"outlinewidth\": 0, \"ticks\": \"\"}}, \"type\": \"scattercarpet\"}], \"scattergeo\": [{\"marker\": {\"colorbar\": {\"outlinewidth\": 0, \"ticks\": \"\"}}, \"type\": \"scattergeo\"}], \"scattergl\": [{\"marker\": {\"colorbar\": {\"outlinewidth\": 0, \"ticks\": \"\"}}, \"type\": \"scattergl\"}], \"scattermapbox\": [{\"marker\": {\"colorbar\": {\"outlinewidth\": 0, \"ticks\": \"\"}}, \"type\": \"scattermapbox\"}], \"scatterpolar\": [{\"marker\": {\"colorbar\": {\"outlinewidth\": 0, \"ticks\": \"\"}}, \"type\": \"scatterpolar\"}], \"scatterpolargl\": [{\"marker\": {\"colorbar\": {\"outlinewidth\": 0, \"ticks\": \"\"}}, \"type\": \"scatterpolargl\"}], \"scatterternary\": [{\"marker\": {\"colorbar\": {\"outlinewidth\": 0, \"ticks\": \"\"}}, \"type\": \"scatterternary\"}], \"surface\": [{\"colorbar\": {\"outlinewidth\": 0, \"ticks\": \"\"}, \"colorscale\": [[0.0, \"#0d0887\"], [0.1111111111111111, \"#46039f\"], [0.2222222222222222, \"#7201a8\"], [0.3333333333333333, \"#9c179e\"], [0.4444444444444444, \"#bd3786\"], [0.5555555555555556, \"#d8576b\"], [0.6666666666666666, \"#ed7953\"], [0.7777777777777778, \"#fb9f3a\"], [0.8888888888888888, \"#fdca26\"], [1.0, \"#f0f921\"]], \"type\": \"surface\"}], \"table\": [{\"cells\": {\"fill\": {\"color\": \"#EBF0F8\"}, \"line\": {\"color\": \"white\"}}, \"header\": {\"fill\": {\"color\": \"#C8D4E3\"}, \"line\": {\"color\": \"white\"}}, \"type\": \"table\"}]}, \"layout\": {\"annotationdefaults\": {\"arrowcolor\": \"#2a3f5f\", \"arrowhead\": 0, \"arrowwidth\": 1}, \"coloraxis\": {\"colorbar\": {\"outlinewidth\": 0, \"ticks\": \"\"}}, \"colorscale\": {\"diverging\": [[0, \"#8e0152\"], [0.1, \"#c51b7d\"], [0.2, \"#de77ae\"], [0.3, \"#f1b6da\"], [0.4, \"#fde0ef\"], [0.5, \"#f7f7f7\"], [0.6, \"#e6f5d0\"], [0.7, \"#b8e186\"], [0.8, \"#7fbc41\"], [0.9, \"#4d9221\"], [1, \"#276419\"]], \"sequential\": [[0.0, \"#0d0887\"], [0.1111111111111111, \"#46039f\"], [0.2222222222222222, \"#7201a8\"], [0.3333333333333333, \"#9c179e\"], [0.4444444444444444, \"#bd3786\"], [0.5555555555555556, \"#d8576b\"], [0.6666666666666666, \"#ed7953\"], [0.7777777777777778, \"#fb9f3a\"], [0.8888888888888888, \"#fdca26\"], [1.0, \"#f0f921\"]], \"sequentialminus\": [[0.0, \"#0d0887\"], [0.1111111111111111, \"#46039f\"], [0.2222222222222222, \"#7201a8\"], [0.3333333333333333, \"#9c179e\"], [0.4444444444444444, \"#bd3786\"], [0.5555555555555556, \"#d8576b\"], [0.6666666666666666, \"#ed7953\"], [0.7777777777777778, \"#fb9f3a\"], [0.8888888888888888, \"#fdca26\"], [1.0, \"#f0f921\"]]}, \"colorway\": [\"#636efa\", \"#EF553B\", \"#00cc96\", \"#ab63fa\", \"#FFA15A\", \"#19d3f3\", \"#FF6692\", \"#B6E880\", \"#FF97FF\", \"#FECB52\"], \"font\": {\"color\": \"#2a3f5f\"}, \"geo\": {\"bgcolor\": \"white\", \"lakecolor\": \"white\", \"landcolor\": \"#E5ECF6\", \"showlakes\": true, \"showland\": true, \"subunitcolor\": \"white\"}, \"hoverlabel\": {\"align\": \"left\"}, \"hovermode\": \"closest\", \"mapbox\": {\"style\": \"light\"}, \"paper_bgcolor\": \"white\", \"plot_bgcolor\": \"#E5ECF6\", \"polar\": {\"angularaxis\": {\"gridcolor\": \"white\", \"linecolor\": \"white\", \"ticks\": \"\"}, \"bgcolor\": \"#E5ECF6\", \"radialaxis\": {\"gridcolor\": \"white\", \"linecolor\": \"white\", \"ticks\": \"\"}}, \"scene\": {\"xaxis\": {\"backgroundcolor\": \"#E5ECF6\", \"gridcolor\": \"white\", \"gridwidth\": 2, \"linecolor\": \"white\", \"showbackground\": true, \"ticks\": \"\", \"zerolinecolor\": \"white\"}, \"yaxis\": {\"backgroundcolor\": \"#E5ECF6\", \"gridcolor\": \"white\", \"gridwidth\": 2, \"linecolor\": \"white\", \"showbackground\": true, \"ticks\": \"\", \"zerolinecolor\": \"white\"}, \"zaxis\": {\"backgroundcolor\": \"#E5ECF6\", \"gridcolor\": \"white\", \"gridwidth\": 2, \"linecolor\": \"white\", \"showbackground\": true, \"ticks\": \"\", \"zerolinecolor\": \"white\"}}, \"shapedefaults\": {\"line\": {\"color\": \"#2a3f5f\"}}, \"ternary\": {\"aaxis\": {\"gridcolor\": \"white\", \"linecolor\": \"white\", \"ticks\": \"\"}, \"baxis\": {\"gridcolor\": \"white\", \"linecolor\": \"white\", \"ticks\": \"\"}, \"bgcolor\": \"#E5ECF6\", \"caxis\": {\"gridcolor\": \"white\", \"linecolor\": \"white\", \"ticks\": \"\"}}, \"title\": {\"x\": 0.05}, \"xaxis\": {\"automargin\": true, \"gridcolor\": \"white\", \"linecolor\": \"white\", \"ticks\": \"\", \"title\": {\"standoff\": 15}, \"zerolinecolor\": \"white\", \"zerolinewidth\": 2}, \"yaxis\": {\"automargin\": true, \"gridcolor\": \"white\", \"linecolor\": \"white\", \"ticks\": \"\", \"title\": {\"standoff\": 15}, \"zerolinecolor\": \"white\", \"zerolinewidth\": 2}}}, \"title\": {\"text\": \"Visualizing Clusters in Two Dimensions Using T-SNE (perplexity=10)\"}, \"xaxis\": {\"ticklen\": 5, \"title\": {\"text\": \"TC1\"}, \"zeroline\": false}, \"yaxis\": {\"ticklen\": 5, \"title\": {\"text\": \"TC2\"}, \"zeroline\": false}},\n",
       "                        {\"responsive\": true}\n",
       "                    ).then(function(){\n",
       "                            \n",
       "var gd = document.getElementById('4b6b380f-a694-4725-affd-9e3680c09385');\n",
       "var x = new MutationObserver(function (mutations, observer) {{\n",
       "        var display = window.getComputedStyle(gd).display;\n",
       "        if (!display || display === 'none') {{\n",
       "            console.log([gd, 'removed!']);\n",
       "            Plotly.purge(gd);\n",
       "            observer.disconnect();\n",
       "        }}\n",
       "}});\n",
       "\n",
       "// Listen for the removal of the full notebook cells\n",
       "var notebookContainer = gd.closest('#notebook-container');\n",
       "if (notebookContainer) {{\n",
       "    x.observe(notebookContainer, {childList: true});\n",
       "}}\n",
       "\n",
       "// Listen for the clearing of the current output cell\n",
       "var outputEl = gd.closest('.output');\n",
       "if (outputEl) {{\n",
       "    x.observe(outputEl, {childList: true});\n",
       "}}\n",
       "\n",
       "                        })\n",
       "                };\n",
       "                });\n",
       "            </script>\n",
       "        </div>"
      ]
     },
     "metadata": {},
     "output_type": "display_data"
    },
    {
     "data": {
      "application/vnd.plotly.v1+json": {
       "config": {
        "linkText": "Export to plot.ly",
        "plotlyServerURL": "https://plot.ly",
        "showLink": false
       },
       "data": [
        {
         "marker": {
          "color": "rgba(255, 128, 255, 0.8)"
         },
         "mode": "markers",
         "name": "Cluster: 0",
         "text": [
          "Sierra Leone",
          "Kenya",
          "Liechtenstein",
          "Ethiopia",
          "Sudan",
          "Benin",
          "West Bank and Gaza",
          "India",
          "Somalia",
          "Honduras",
          "Equatorial Guinea",
          "Bolivia",
          "Guinea-Bissau",
          "Zambia",
          "Bangladesh",
          "Indonesia",
          "Jamaica",
          "South Africa",
          "Angola",
          "Cote d'Ivoire",
          "Timor-Leste",
          "Kosovo",
          "Mali",
          "Gabon",
          "Malawi",
          "Mauritania",
          "Mozambique",
          "Haiti",
          "Guyana",
          "Philippines",
          "Ghana",
          "Madagascar",
          "Central African Republic",
          "Namibia",
          "Guatemala",
          "Cambodia",
          "Burundi",
          "Tanzania",
          "Zimbabwe",
          "Sao Tome and Principe",
          "Burkina Faso",
          "Senegal",
          "Papua New Guinea",
          "Guinea",
          "Rwanda",
          "Chad",
          "Niger",
          "Bhutan",
          "Cabo Verde",
          "Cameroon",
          "Pakistan"
         ],
         "type": "scatter",
         "x": [
          -12.591863632202148,
          -11.239462852478027,
          -7.139189720153809,
          -13.560561180114746,
          -7.922126293182373,
          -13.368890762329102,
          -9.61742115020752,
          -2.5379934310913086,
          -16.334468841552734,
          -1.5239925384521484,
          -13.930123329162598,
          -2.1579747200012207,
          -13.44554328918457,
          -10.473481178283691,
          -12.877427101135254,
          -2.884575605392456,
          -3.5985445976257324,
          -9.0415620803833,
          -13.181412696838379,
          -12.646147727966309,
          -6.05971097946167,
          -7.140418529510498,
          -13.154412269592285,
          -8.219754219055176,
          -10.44174575805664,
          -11.863530158996582,
          -15.184514999389648,
          -11.345502853393555,
          -2.6458704471588135,
          -3.382986068725586,
          -10.410935401916504,
          -14.88752269744873,
          -16.161436080932617,
          -9.112292289733887,
          -3.0911076068878174,
          -4.429390907287598,
          -11.102935791015625,
          -10.912054061889648,
          -9.372293472290039,
          -6.925674915313721,
          -12.612286567687988,
          -11.9485445022583,
          -6.0556840896606445,
          -14.249070167541504,
          -11.810301780700684,
          -16.327417373657227,
          -15.730340957641602,
          -4.9977803230285645,
          -6.565386772155762,
          -14.384991645812988,
          -13.487313270568848
         ],
         "y": [
          -1.980654001235962,
          -2.8957629203796387,
          -8.466127395629883,
          -3.509511709213257,
          0.06427844613790512,
          -1.1820183992385864,
          4.974490165710449,
          7.570766448974609,
          0.03383030742406845,
          -2.590484380722046,
          2.3422486782073975,
          1.7640410661697388,
          -2.1039624214172363,
          0.5454254746437073,
          -5.474240779876709,
          3.6922881603240967,
          0.17762665450572968,
          3.8065338134765625,
          0.8136374950408936,
          -1.1893590688705444,
          -5.13664436340332,
          -8.46574878692627,
          -0.3777511417865753,
          3.509444236755371,
          -4.424775123596191,
          0.31825777888298035,
          -0.8402057886123657,
          1.9567406177520752,
          -1.6973429918289185,
          2.5033397674560547,
          -1.5942018032073975,
          -1.2333872318267822,
          -2.9066872596740723,
          2.7479300498962402,
          1.4307807683944702,
          -2.140434980392456,
          -4.612895965576172,
          -2.720264434814453,
          -3.6472766399383545,
          1.1372507810592651,
          -2.5808849334716797,
          -0.9351572394371033,
          -5.347553253173828,
          0.7244884967803955,
          -4.068336009979248,
          -3.2867348194122314,
          -4.605013370513916,
          -0.9149774312973022,
          0.9201822876930237,
          -5.414357662200928,
          -5.094566345214844
         ]
        },
        {
         "marker": {
          "color": "rgba(255, 128, 2, 0.8)"
         },
         "mode": "markers",
         "name": "Cluster: 1",
         "text": [
          "United States"
         ],
         "type": "scatter",
         "x": [
          14.570963859558105
         ],
         "y": [
          1.068009614944458
         ]
        },
        {
         "marker": {
          "color": "rgba(0, 255, 200, 0.8)"
         },
         "mode": "markers",
         "name": "Cluster: 2",
         "text": [
          "Slovenia",
          "Fiji",
          "Malta",
          "Paraguay",
          "Croatia",
          "Mongolia",
          "Denmark",
          "Ukraine",
          "Germany",
          "Algeria",
          "Azerbaijan",
          "Cyprus",
          "Bahrain",
          "Belgium",
          "Singapore",
          "Japan",
          "Andorra",
          "Morocco",
          "Spain",
          "Chile",
          "Brazil",
          "Kazakhstan",
          "Monaco",
          "Dominican Republic",
          "Mexico",
          "Mauritius",
          "Nicaragua",
          "Tunisia",
          "Uzbekistan",
          "Lebanon",
          "Finland",
          "Georgia",
          "Saudi Arabia",
          "Italy",
          "United Kingdom",
          "United Arab Emirates",
          "Albania",
          "Peru",
          "Suriname",
          "Moldova",
          "Lithuania",
          "Israel",
          "Netherlands",
          "Maldives",
          "Greece",
          "Serbia",
          "Turkey",
          "Antigua and Barbuda",
          "Estonia",
          "Cuba",
          "Ecuador",
          "Belarus",
          "Latvia",
          "Austria",
          "France",
          "Grenada",
          "Portugal",
          "Luxembourg",
          "Sweden",
          "Iceland",
          "San Marino",
          "El Salvador",
          "Belize",
          "Panama",
          "Costa Rica",
          "Dominica",
          "Hungary",
          "Qatar",
          "Oman",
          "Trinidad and Tobago",
          "Armenia",
          "China",
          "Uruguay",
          "Thailand",
          "Norway"
         ],
         "type": "scatter",
         "x": [
          9.599406242370605,
          1.3686994314193726,
          6.831395149230957,
          -0.34113267064094543,
          7.563108444213867,
          4.307606220245361,
          13.884306907653809,
          8.2822265625,
          11.337306022644043,
          0.02648688480257988,
          4.270412445068359,
          5.718111515045166,
          2.0656991004943848,
          11.984685897827148,
          5.739439010620117,
          10.727921485900879,
          -0.5232576727867126,
          -0.5463090538978577,
          15.88444995880127,
          3.1867072582244873,
          -2.181452989578247,
          4.123223304748535,
          6.57052755355835,
          1.203635573387146,
          0.05463191121816635,
          3.920616626739502,
          -2.6711015701293945,
          0.2564164698123932,
          2.678602457046509,
          -0.7612645030021667,
          13.006938934326172,
          6.305454730987549,
          1.7047889232635498,
          15.898306846618652,
          15.00728988647461,
          3.0354039669036865,
          5.54258918762207,
          -1.1995768547058105,
          3.8533337116241455,
          4.694559574127197,
          9.283635139465332,
          4.5165605545043945,
          12.159253120422363,
          3.6192030906677246,
          6.851525783538818,
          7.03496789932251,
          6.383603572845459,
          2.373586416244507,
          8.682379722595215,
          4.3167853355407715,
          -1.5923678874969482,
          9.646581649780273,
          8.297964096069336,
          12.10925006866455,
          15.17856216430664,
          2.4411003589630127,
          6.931128978729248,
          13.483797073364258,
          13.641170501708984,
          13.945474624633789,
          4.255247592926025,
          -1.2448945045471191,
          -1.337723731994629,
          0.026582561433315277,
          2.3925442695617676,
          -0.5317022204399109,
          9.913783073425293,
          1.9747843742370605,
          0.5813879370689392,
          1.984674334526062,
          6.180213928222656,
          11.36339282989502,
          3.1203179359436035,
          1.391465187072754,
          13.268831253051758
         ],
         "y": [
          3.075105905532837,
          -0.5844959616661072,
          3.6748642921447754,
          0.7351202368736267,
          1.777610182762146,
          -5.330648899078369,
          6.837242603302002,
          -3.383683919906616,
          6.379571437835693,
          -1.5863149166107178,
          -3.9559528827667236,
          1.9548505544662476,
          8.010283470153809,
          4.678605556488037,
          7.790011405944824,
          7.2684197425842285,
          -6.460539817810059,
          -1.2737935781478882,
          2.0396382808685303,
          2.8580498695373535,
          4.979401588439941,
          0.13190864026546478,
          7.868381023406982,
          3.031309127807617,
          2.67895245552063,
          -1.0494924783706665,
          -0.6453909873962402,
          -2.760143756866455,
          -0.6222977638244629,
          3.863194465637207,
          6.7379045486450195,
          -3.508481740951538,
          8.195709228515625,
          2.0616989135742188,
          3.258424997329712,
          7.789805889129639,
          0.5312415957450867,
          2.3053219318389893,
          -4.316314697265625,
          -1.5924992561340332,
          2.0435714721679688,
          3.486694812774658,
          4.939371585845947,
          -1.9077037572860718,
          0.4496326446533203,
          -4.155837535858154,
          -5.690723896026611,
          -2.064373016357422,
          2.8263156414031982,
          1.902794361114502,
          1.611795425415039,
          0.6937376856803894,
          2.2298481464385986,
          7.007542133331299,
          2.8512673377990723,
          -1.6158833503723145,
          2.3961222171783447,
          8.565627098083496,
          6.396268367767334,
          7.444839954376221,
          4.794673442840576,
          0.8706950545310974,
          -1.1393184661865234,
          1.5040028095245361,
          2.551337957382202,
          -6.454098224639893,
          2.2880818843841553,
          9.184456825256348,
          5.957822322845459,
          0.6378341913223267,
          -3.6957826614379883,
          -1.4377038478851318,
          3.5060672760009766,
          0.750579297542572,
          7.479278087615967
         ]
        }
       ],
       "layout": {
        "template": {
         "data": {
          "bar": [
           {
            "error_x": {
             "color": "#2a3f5f"
            },
            "error_y": {
             "color": "#2a3f5f"
            },
            "marker": {
             "line": {
              "color": "#E5ECF6",
              "width": 0.5
             }
            },
            "type": "bar"
           }
          ],
          "barpolar": [
           {
            "marker": {
             "line": {
              "color": "#E5ECF6",
              "width": 0.5
             }
            },
            "type": "barpolar"
           }
          ],
          "carpet": [
           {
            "aaxis": {
             "endlinecolor": "#2a3f5f",
             "gridcolor": "white",
             "linecolor": "white",
             "minorgridcolor": "white",
             "startlinecolor": "#2a3f5f"
            },
            "baxis": {
             "endlinecolor": "#2a3f5f",
             "gridcolor": "white",
             "linecolor": "white",
             "minorgridcolor": "white",
             "startlinecolor": "#2a3f5f"
            },
            "type": "carpet"
           }
          ],
          "choropleth": [
           {
            "colorbar": {
             "outlinewidth": 0,
             "ticks": ""
            },
            "type": "choropleth"
           }
          ],
          "contour": [
           {
            "colorbar": {
             "outlinewidth": 0,
             "ticks": ""
            },
            "colorscale": [
             [
              0,
              "#0d0887"
             ],
             [
              0.1111111111111111,
              "#46039f"
             ],
             [
              0.2222222222222222,
              "#7201a8"
             ],
             [
              0.3333333333333333,
              "#9c179e"
             ],
             [
              0.4444444444444444,
              "#bd3786"
             ],
             [
              0.5555555555555556,
              "#d8576b"
             ],
             [
              0.6666666666666666,
              "#ed7953"
             ],
             [
              0.7777777777777778,
              "#fb9f3a"
             ],
             [
              0.8888888888888888,
              "#fdca26"
             ],
             [
              1,
              "#f0f921"
             ]
            ],
            "type": "contour"
           }
          ],
          "contourcarpet": [
           {
            "colorbar": {
             "outlinewidth": 0,
             "ticks": ""
            },
            "type": "contourcarpet"
           }
          ],
          "heatmap": [
           {
            "colorbar": {
             "outlinewidth": 0,
             "ticks": ""
            },
            "colorscale": [
             [
              0,
              "#0d0887"
             ],
             [
              0.1111111111111111,
              "#46039f"
             ],
             [
              0.2222222222222222,
              "#7201a8"
             ],
             [
              0.3333333333333333,
              "#9c179e"
             ],
             [
              0.4444444444444444,
              "#bd3786"
             ],
             [
              0.5555555555555556,
              "#d8576b"
             ],
             [
              0.6666666666666666,
              "#ed7953"
             ],
             [
              0.7777777777777778,
              "#fb9f3a"
             ],
             [
              0.8888888888888888,
              "#fdca26"
             ],
             [
              1,
              "#f0f921"
             ]
            ],
            "type": "heatmap"
           }
          ],
          "heatmapgl": [
           {
            "colorbar": {
             "outlinewidth": 0,
             "ticks": ""
            },
            "colorscale": [
             [
              0,
              "#0d0887"
             ],
             [
              0.1111111111111111,
              "#46039f"
             ],
             [
              0.2222222222222222,
              "#7201a8"
             ],
             [
              0.3333333333333333,
              "#9c179e"
             ],
             [
              0.4444444444444444,
              "#bd3786"
             ],
             [
              0.5555555555555556,
              "#d8576b"
             ],
             [
              0.6666666666666666,
              "#ed7953"
             ],
             [
              0.7777777777777778,
              "#fb9f3a"
             ],
             [
              0.8888888888888888,
              "#fdca26"
             ],
             [
              1,
              "#f0f921"
             ]
            ],
            "type": "heatmapgl"
           }
          ],
          "histogram": [
           {
            "marker": {
             "colorbar": {
              "outlinewidth": 0,
              "ticks": ""
             }
            },
            "type": "histogram"
           }
          ],
          "histogram2d": [
           {
            "colorbar": {
             "outlinewidth": 0,
             "ticks": ""
            },
            "colorscale": [
             [
              0,
              "#0d0887"
             ],
             [
              0.1111111111111111,
              "#46039f"
             ],
             [
              0.2222222222222222,
              "#7201a8"
             ],
             [
              0.3333333333333333,
              "#9c179e"
             ],
             [
              0.4444444444444444,
              "#bd3786"
             ],
             [
              0.5555555555555556,
              "#d8576b"
             ],
             [
              0.6666666666666666,
              "#ed7953"
             ],
             [
              0.7777777777777778,
              "#fb9f3a"
             ],
             [
              0.8888888888888888,
              "#fdca26"
             ],
             [
              1,
              "#f0f921"
             ]
            ],
            "type": "histogram2d"
           }
          ],
          "histogram2dcontour": [
           {
            "colorbar": {
             "outlinewidth": 0,
             "ticks": ""
            },
            "colorscale": [
             [
              0,
              "#0d0887"
             ],
             [
              0.1111111111111111,
              "#46039f"
             ],
             [
              0.2222222222222222,
              "#7201a8"
             ],
             [
              0.3333333333333333,
              "#9c179e"
             ],
             [
              0.4444444444444444,
              "#bd3786"
             ],
             [
              0.5555555555555556,
              "#d8576b"
             ],
             [
              0.6666666666666666,
              "#ed7953"
             ],
             [
              0.7777777777777778,
              "#fb9f3a"
             ],
             [
              0.8888888888888888,
              "#fdca26"
             ],
             [
              1,
              "#f0f921"
             ]
            ],
            "type": "histogram2dcontour"
           }
          ],
          "mesh3d": [
           {
            "colorbar": {
             "outlinewidth": 0,
             "ticks": ""
            },
            "type": "mesh3d"
           }
          ],
          "parcoords": [
           {
            "line": {
             "colorbar": {
              "outlinewidth": 0,
              "ticks": ""
             }
            },
            "type": "parcoords"
           }
          ],
          "pie": [
           {
            "automargin": true,
            "type": "pie"
           }
          ],
          "scatter": [
           {
            "marker": {
             "colorbar": {
              "outlinewidth": 0,
              "ticks": ""
             }
            },
            "type": "scatter"
           }
          ],
          "scatter3d": [
           {
            "line": {
             "colorbar": {
              "outlinewidth": 0,
              "ticks": ""
             }
            },
            "marker": {
             "colorbar": {
              "outlinewidth": 0,
              "ticks": ""
             }
            },
            "type": "scatter3d"
           }
          ],
          "scattercarpet": [
           {
            "marker": {
             "colorbar": {
              "outlinewidth": 0,
              "ticks": ""
             }
            },
            "type": "scattercarpet"
           }
          ],
          "scattergeo": [
           {
            "marker": {
             "colorbar": {
              "outlinewidth": 0,
              "ticks": ""
             }
            },
            "type": "scattergeo"
           }
          ],
          "scattergl": [
           {
            "marker": {
             "colorbar": {
              "outlinewidth": 0,
              "ticks": ""
             }
            },
            "type": "scattergl"
           }
          ],
          "scattermapbox": [
           {
            "marker": {
             "colorbar": {
              "outlinewidth": 0,
              "ticks": ""
             }
            },
            "type": "scattermapbox"
           }
          ],
          "scatterpolar": [
           {
            "marker": {
             "colorbar": {
              "outlinewidth": 0,
              "ticks": ""
             }
            },
            "type": "scatterpolar"
           }
          ],
          "scatterpolargl": [
           {
            "marker": {
             "colorbar": {
              "outlinewidth": 0,
              "ticks": ""
             }
            },
            "type": "scatterpolargl"
           }
          ],
          "scatterternary": [
           {
            "marker": {
             "colorbar": {
              "outlinewidth": 0,
              "ticks": ""
             }
            },
            "type": "scatterternary"
           }
          ],
          "surface": [
           {
            "colorbar": {
             "outlinewidth": 0,
             "ticks": ""
            },
            "colorscale": [
             [
              0,
              "#0d0887"
             ],
             [
              0.1111111111111111,
              "#46039f"
             ],
             [
              0.2222222222222222,
              "#7201a8"
             ],
             [
              0.3333333333333333,
              "#9c179e"
             ],
             [
              0.4444444444444444,
              "#bd3786"
             ],
             [
              0.5555555555555556,
              "#d8576b"
             ],
             [
              0.6666666666666666,
              "#ed7953"
             ],
             [
              0.7777777777777778,
              "#fb9f3a"
             ],
             [
              0.8888888888888888,
              "#fdca26"
             ],
             [
              1,
              "#f0f921"
             ]
            ],
            "type": "surface"
           }
          ],
          "table": [
           {
            "cells": {
             "fill": {
              "color": "#EBF0F8"
             },
             "line": {
              "color": "white"
             }
            },
            "header": {
             "fill": {
              "color": "#C8D4E3"
             },
             "line": {
              "color": "white"
             }
            },
            "type": "table"
           }
          ]
         },
         "layout": {
          "annotationdefaults": {
           "arrowcolor": "#2a3f5f",
           "arrowhead": 0,
           "arrowwidth": 1
          },
          "coloraxis": {
           "colorbar": {
            "outlinewidth": 0,
            "ticks": ""
           }
          },
          "colorscale": {
           "diverging": [
            [
             0,
             "#8e0152"
            ],
            [
             0.1,
             "#c51b7d"
            ],
            [
             0.2,
             "#de77ae"
            ],
            [
             0.3,
             "#f1b6da"
            ],
            [
             0.4,
             "#fde0ef"
            ],
            [
             0.5,
             "#f7f7f7"
            ],
            [
             0.6,
             "#e6f5d0"
            ],
            [
             0.7,
             "#b8e186"
            ],
            [
             0.8,
             "#7fbc41"
            ],
            [
             0.9,
             "#4d9221"
            ],
            [
             1,
             "#276419"
            ]
           ],
           "sequential": [
            [
             0,
             "#0d0887"
            ],
            [
             0.1111111111111111,
             "#46039f"
            ],
            [
             0.2222222222222222,
             "#7201a8"
            ],
            [
             0.3333333333333333,
             "#9c179e"
            ],
            [
             0.4444444444444444,
             "#bd3786"
            ],
            [
             0.5555555555555556,
             "#d8576b"
            ],
            [
             0.6666666666666666,
             "#ed7953"
            ],
            [
             0.7777777777777778,
             "#fb9f3a"
            ],
            [
             0.8888888888888888,
             "#fdca26"
            ],
            [
             1,
             "#f0f921"
            ]
           ],
           "sequentialminus": [
            [
             0,
             "#0d0887"
            ],
            [
             0.1111111111111111,
             "#46039f"
            ],
            [
             0.2222222222222222,
             "#7201a8"
            ],
            [
             0.3333333333333333,
             "#9c179e"
            ],
            [
             0.4444444444444444,
             "#bd3786"
            ],
            [
             0.5555555555555556,
             "#d8576b"
            ],
            [
             0.6666666666666666,
             "#ed7953"
            ],
            [
             0.7777777777777778,
             "#fb9f3a"
            ],
            [
             0.8888888888888888,
             "#fdca26"
            ],
            [
             1,
             "#f0f921"
            ]
           ]
          },
          "colorway": [
           "#636efa",
           "#EF553B",
           "#00cc96",
           "#ab63fa",
           "#FFA15A",
           "#19d3f3",
           "#FF6692",
           "#B6E880",
           "#FF97FF",
           "#FECB52"
          ],
          "font": {
           "color": "#2a3f5f"
          },
          "geo": {
           "bgcolor": "white",
           "lakecolor": "white",
           "landcolor": "#E5ECF6",
           "showlakes": true,
           "showland": true,
           "subunitcolor": "white"
          },
          "hoverlabel": {
           "align": "left"
          },
          "hovermode": "closest",
          "mapbox": {
           "style": "light"
          },
          "paper_bgcolor": "white",
          "plot_bgcolor": "#E5ECF6",
          "polar": {
           "angularaxis": {
            "gridcolor": "white",
            "linecolor": "white",
            "ticks": ""
           },
           "bgcolor": "#E5ECF6",
           "radialaxis": {
            "gridcolor": "white",
            "linecolor": "white",
            "ticks": ""
           }
          },
          "scene": {
           "xaxis": {
            "backgroundcolor": "#E5ECF6",
            "gridcolor": "white",
            "gridwidth": 2,
            "linecolor": "white",
            "showbackground": true,
            "ticks": "",
            "zerolinecolor": "white"
           },
           "yaxis": {
            "backgroundcolor": "#E5ECF6",
            "gridcolor": "white",
            "gridwidth": 2,
            "linecolor": "white",
            "showbackground": true,
            "ticks": "",
            "zerolinecolor": "white"
           },
           "zaxis": {
            "backgroundcolor": "#E5ECF6",
            "gridcolor": "white",
            "gridwidth": 2,
            "linecolor": "white",
            "showbackground": true,
            "ticks": "",
            "zerolinecolor": "white"
           }
          },
          "shapedefaults": {
           "line": {
            "color": "#2a3f5f"
           }
          },
          "ternary": {
           "aaxis": {
            "gridcolor": "white",
            "linecolor": "white",
            "ticks": ""
           },
           "baxis": {
            "gridcolor": "white",
            "linecolor": "white",
            "ticks": ""
           },
           "bgcolor": "#E5ECF6",
           "caxis": {
            "gridcolor": "white",
            "linecolor": "white",
            "ticks": ""
           }
          },
          "title": {
           "x": 0.05
          },
          "xaxis": {
           "automargin": true,
           "gridcolor": "white",
           "linecolor": "white",
           "ticks": "",
           "title": {
            "standoff": 15
           },
           "zerolinecolor": "white",
           "zerolinewidth": 2
          },
          "yaxis": {
           "automargin": true,
           "gridcolor": "white",
           "linecolor": "white",
           "ticks": "",
           "title": {
            "standoff": 15
           },
           "zerolinecolor": "white",
           "zerolinewidth": 2
          }
         }
        },
        "title": {
         "text": "Visualizing Clusters in Two Dimensions Using T-SNE (perplexity=20)"
        },
        "xaxis": {
         "ticklen": 5,
         "title": {
          "text": "TC1"
         },
         "zeroline": false
        },
        "yaxis": {
         "ticklen": 5,
         "title": {
          "text": "TC2"
         },
         "zeroline": false
        }
       }
      },
      "text/html": [
       "<div>\n",
       "        \n",
       "        \n",
       "            <div id=\"9f88a9b8-3a2e-4cda-841d-e1e4c16eb2fd\" class=\"plotly-graph-div\" style=\"height:525px; width:100%;\"></div>\n",
       "            <script type=\"text/javascript\">\n",
       "                require([\"plotly\"], function(Plotly) {\n",
       "                    window.PLOTLYENV=window.PLOTLYENV || {};\n",
       "                    \n",
       "                if (document.getElementById(\"9f88a9b8-3a2e-4cda-841d-e1e4c16eb2fd\")) {\n",
       "                    Plotly.newPlot(\n",
       "                        '9f88a9b8-3a2e-4cda-841d-e1e4c16eb2fd',\n",
       "                        [{\"marker\": {\"color\": \"rgba(255, 128, 255, 0.8)\"}, \"mode\": \"markers\", \"name\": \"Cluster: 0\", \"text\": [\"Sierra Leone\", \"Kenya\", \"Liechtenstein\", \"Ethiopia\", \"Sudan\", \"Benin\", \"West Bank and Gaza\", \"India\", \"Somalia\", \"Honduras\", \"Equatorial Guinea\", \"Bolivia\", \"Guinea-Bissau\", \"Zambia\", \"Bangladesh\", \"Indonesia\", \"Jamaica\", \"South Africa\", \"Angola\", \"Cote d'Ivoire\", \"Timor-Leste\", \"Kosovo\", \"Mali\", \"Gabon\", \"Malawi\", \"Mauritania\", \"Mozambique\", \"Haiti\", \"Guyana\", \"Philippines\", \"Ghana\", \"Madagascar\", \"Central African Republic\", \"Namibia\", \"Guatemala\", \"Cambodia\", \"Burundi\", \"Tanzania\", \"Zimbabwe\", \"Sao Tome and Principe\", \"Burkina Faso\", \"Senegal\", \"Papua New Guinea\", \"Guinea\", \"Rwanda\", \"Chad\", \"Niger\", \"Bhutan\", \"Cabo Verde\", \"Cameroon\", \"Pakistan\"], \"type\": \"scatter\", \"x\": [-12.591863632202148, -11.239462852478027, -7.139189720153809, -13.560561180114746, -7.922126293182373, -13.368890762329102, -9.61742115020752, -2.5379934310913086, -16.334468841552734, -1.5239925384521484, -13.930123329162598, -2.1579747200012207, -13.44554328918457, -10.473481178283691, -12.877427101135254, -2.884575605392456, -3.5985445976257324, -9.0415620803833, -13.181412696838379, -12.646147727966309, -6.05971097946167, -7.140418529510498, -13.154412269592285, -8.219754219055176, -10.44174575805664, -11.863530158996582, -15.184514999389648, -11.345502853393555, -2.6458704471588135, -3.382986068725586, -10.410935401916504, -14.88752269744873, -16.161436080932617, -9.112292289733887, -3.0911076068878174, -4.429390907287598, -11.102935791015625, -10.912054061889648, -9.372293472290039, -6.925674915313721, -12.612286567687988, -11.9485445022583, -6.0556840896606445, -14.249070167541504, -11.810301780700684, -16.327417373657227, -15.730340957641602, -4.9977803230285645, -6.565386772155762, -14.384991645812988, -13.487313270568848], \"y\": [-1.980654001235962, -2.8957629203796387, -8.466127395629883, -3.509511709213257, 0.06427844613790512, -1.1820183992385864, 4.974490165710449, 7.570766448974609, 0.03383030742406845, -2.590484380722046, 2.3422486782073975, 1.7640410661697388, -2.1039624214172363, 0.5454254746437073, -5.474240779876709, 3.6922881603240967, 0.17762665450572968, 3.8065338134765625, 0.8136374950408936, -1.1893590688705444, -5.13664436340332, -8.46574878692627, -0.3777511417865753, 3.509444236755371, -4.424775123596191, 0.31825777888298035, -0.8402057886123657, 1.9567406177520752, -1.6973429918289185, 2.5033397674560547, -1.5942018032073975, -1.2333872318267822, -2.9066872596740723, 2.7479300498962402, 1.4307807683944702, -2.140434980392456, -4.612895965576172, -2.720264434814453, -3.6472766399383545, 1.1372507810592651, -2.5808849334716797, -0.9351572394371033, -5.347553253173828, 0.7244884967803955, -4.068336009979248, -3.2867348194122314, -4.605013370513916, -0.9149774312973022, 0.9201822876930237, -5.414357662200928, -5.094566345214844]}, {\"marker\": {\"color\": \"rgba(255, 128, 2, 0.8)\"}, \"mode\": \"markers\", \"name\": \"Cluster: 1\", \"text\": [\"United States\"], \"type\": \"scatter\", \"x\": [14.570963859558105], \"y\": [1.068009614944458]}, {\"marker\": {\"color\": \"rgba(0, 255, 200, 0.8)\"}, \"mode\": \"markers\", \"name\": \"Cluster: 2\", \"text\": [\"Slovenia\", \"Fiji\", \"Malta\", \"Paraguay\", \"Croatia\", \"Mongolia\", \"Denmark\", \"Ukraine\", \"Germany\", \"Algeria\", \"Azerbaijan\", \"Cyprus\", \"Bahrain\", \"Belgium\", \"Singapore\", \"Japan\", \"Andorra\", \"Morocco\", \"Spain\", \"Chile\", \"Brazil\", \"Kazakhstan\", \"Monaco\", \"Dominican Republic\", \"Mexico\", \"Mauritius\", \"Nicaragua\", \"Tunisia\", \"Uzbekistan\", \"Lebanon\", \"Finland\", \"Georgia\", \"Saudi Arabia\", \"Italy\", \"United Kingdom\", \"United Arab Emirates\", \"Albania\", \"Peru\", \"Suriname\", \"Moldova\", \"Lithuania\", \"Israel\", \"Netherlands\", \"Maldives\", \"Greece\", \"Serbia\", \"Turkey\", \"Antigua and Barbuda\", \"Estonia\", \"Cuba\", \"Ecuador\", \"Belarus\", \"Latvia\", \"Austria\", \"France\", \"Grenada\", \"Portugal\", \"Luxembourg\", \"Sweden\", \"Iceland\", \"San Marino\", \"El Salvador\", \"Belize\", \"Panama\", \"Costa Rica\", \"Dominica\", \"Hungary\", \"Qatar\", \"Oman\", \"Trinidad and Tobago\", \"Armenia\", \"China\", \"Uruguay\", \"Thailand\", \"Norway\"], \"type\": \"scatter\", \"x\": [9.599406242370605, 1.3686994314193726, 6.831395149230957, -0.34113267064094543, 7.563108444213867, 4.307606220245361, 13.884306907653809, 8.2822265625, 11.337306022644043, 0.02648688480257988, 4.270412445068359, 5.718111515045166, 2.0656991004943848, 11.984685897827148, 5.739439010620117, 10.727921485900879, -0.5232576727867126, -0.5463090538978577, 15.88444995880127, 3.1867072582244873, -2.181452989578247, 4.123223304748535, 6.57052755355835, 1.203635573387146, 0.05463191121816635, 3.920616626739502, -2.6711015701293945, 0.2564164698123932, 2.678602457046509, -0.7612645030021667, 13.006938934326172, 6.305454730987549, 1.7047889232635498, 15.898306846618652, 15.00728988647461, 3.0354039669036865, 5.54258918762207, -1.1995768547058105, 3.8533337116241455, 4.694559574127197, 9.283635139465332, 4.5165605545043945, 12.159253120422363, 3.6192030906677246, 6.851525783538818, 7.03496789932251, 6.383603572845459, 2.373586416244507, 8.682379722595215, 4.3167853355407715, -1.5923678874969482, 9.646581649780273, 8.297964096069336, 12.10925006866455, 15.17856216430664, 2.4411003589630127, 6.931128978729248, 13.483797073364258, 13.641170501708984, 13.945474624633789, 4.255247592926025, -1.2448945045471191, -1.337723731994629, 0.026582561433315277, 2.3925442695617676, -0.5317022204399109, 9.913783073425293, 1.9747843742370605, 0.5813879370689392, 1.984674334526062, 6.180213928222656, 11.36339282989502, 3.1203179359436035, 1.391465187072754, 13.268831253051758], \"y\": [3.075105905532837, -0.5844959616661072, 3.6748642921447754, 0.7351202368736267, 1.777610182762146, -5.330648899078369, 6.837242603302002, -3.383683919906616, 6.379571437835693, -1.5863149166107178, -3.9559528827667236, 1.9548505544662476, 8.010283470153809, 4.678605556488037, 7.790011405944824, 7.2684197425842285, -6.460539817810059, -1.2737935781478882, 2.0396382808685303, 2.8580498695373535, 4.979401588439941, 0.13190864026546478, 7.868381023406982, 3.031309127807617, 2.67895245552063, -1.0494924783706665, -0.6453909873962402, -2.760143756866455, -0.6222977638244629, 3.863194465637207, 6.7379045486450195, -3.508481740951538, 8.195709228515625, 2.0616989135742188, 3.258424997329712, 7.789805889129639, 0.5312415957450867, 2.3053219318389893, -4.316314697265625, -1.5924992561340332, 2.0435714721679688, 3.486694812774658, 4.939371585845947, -1.9077037572860718, 0.4496326446533203, -4.155837535858154, -5.690723896026611, -2.064373016357422, 2.8263156414031982, 1.902794361114502, 1.611795425415039, 0.6937376856803894, 2.2298481464385986, 7.007542133331299, 2.8512673377990723, -1.6158833503723145, 2.3961222171783447, 8.565627098083496, 6.396268367767334, 7.444839954376221, 4.794673442840576, 0.8706950545310974, -1.1393184661865234, 1.5040028095245361, 2.551337957382202, -6.454098224639893, 2.2880818843841553, 9.184456825256348, 5.957822322845459, 0.6378341913223267, -3.6957826614379883, -1.4377038478851318, 3.5060672760009766, 0.750579297542572, 7.479278087615967]}],\n",
       "                        {\"template\": {\"data\": {\"bar\": [{\"error_x\": {\"color\": \"#2a3f5f\"}, \"error_y\": {\"color\": \"#2a3f5f\"}, \"marker\": {\"line\": {\"color\": \"#E5ECF6\", \"width\": 0.5}}, \"type\": \"bar\"}], \"barpolar\": [{\"marker\": {\"line\": {\"color\": \"#E5ECF6\", \"width\": 0.5}}, \"type\": \"barpolar\"}], \"carpet\": [{\"aaxis\": {\"endlinecolor\": \"#2a3f5f\", \"gridcolor\": \"white\", \"linecolor\": \"white\", \"minorgridcolor\": \"white\", \"startlinecolor\": \"#2a3f5f\"}, \"baxis\": {\"endlinecolor\": \"#2a3f5f\", \"gridcolor\": \"white\", \"linecolor\": \"white\", \"minorgridcolor\": \"white\", \"startlinecolor\": \"#2a3f5f\"}, \"type\": \"carpet\"}], \"choropleth\": [{\"colorbar\": {\"outlinewidth\": 0, \"ticks\": \"\"}, \"type\": \"choropleth\"}], \"contour\": [{\"colorbar\": {\"outlinewidth\": 0, \"ticks\": \"\"}, \"colorscale\": [[0.0, \"#0d0887\"], [0.1111111111111111, \"#46039f\"], [0.2222222222222222, \"#7201a8\"], [0.3333333333333333, \"#9c179e\"], [0.4444444444444444, \"#bd3786\"], [0.5555555555555556, \"#d8576b\"], [0.6666666666666666, \"#ed7953\"], [0.7777777777777778, \"#fb9f3a\"], [0.8888888888888888, \"#fdca26\"], [1.0, \"#f0f921\"]], \"type\": \"contour\"}], \"contourcarpet\": [{\"colorbar\": {\"outlinewidth\": 0, \"ticks\": \"\"}, \"type\": \"contourcarpet\"}], \"heatmap\": [{\"colorbar\": {\"outlinewidth\": 0, \"ticks\": \"\"}, \"colorscale\": [[0.0, \"#0d0887\"], [0.1111111111111111, \"#46039f\"], [0.2222222222222222, \"#7201a8\"], [0.3333333333333333, \"#9c179e\"], [0.4444444444444444, \"#bd3786\"], [0.5555555555555556, \"#d8576b\"], [0.6666666666666666, \"#ed7953\"], [0.7777777777777778, \"#fb9f3a\"], [0.8888888888888888, \"#fdca26\"], [1.0, \"#f0f921\"]], \"type\": \"heatmap\"}], \"heatmapgl\": [{\"colorbar\": {\"outlinewidth\": 0, \"ticks\": \"\"}, \"colorscale\": [[0.0, \"#0d0887\"], [0.1111111111111111, \"#46039f\"], [0.2222222222222222, \"#7201a8\"], [0.3333333333333333, \"#9c179e\"], [0.4444444444444444, \"#bd3786\"], [0.5555555555555556, \"#d8576b\"], [0.6666666666666666, \"#ed7953\"], [0.7777777777777778, \"#fb9f3a\"], [0.8888888888888888, \"#fdca26\"], [1.0, \"#f0f921\"]], \"type\": \"heatmapgl\"}], \"histogram\": [{\"marker\": {\"colorbar\": {\"outlinewidth\": 0, \"ticks\": \"\"}}, \"type\": \"histogram\"}], \"histogram2d\": [{\"colorbar\": {\"outlinewidth\": 0, \"ticks\": \"\"}, \"colorscale\": [[0.0, \"#0d0887\"], [0.1111111111111111, \"#46039f\"], [0.2222222222222222, \"#7201a8\"], [0.3333333333333333, \"#9c179e\"], [0.4444444444444444, \"#bd3786\"], [0.5555555555555556, \"#d8576b\"], [0.6666666666666666, \"#ed7953\"], [0.7777777777777778, \"#fb9f3a\"], [0.8888888888888888, \"#fdca26\"], [1.0, \"#f0f921\"]], \"type\": \"histogram2d\"}], \"histogram2dcontour\": [{\"colorbar\": {\"outlinewidth\": 0, \"ticks\": \"\"}, \"colorscale\": [[0.0, \"#0d0887\"], [0.1111111111111111, \"#46039f\"], [0.2222222222222222, \"#7201a8\"], [0.3333333333333333, \"#9c179e\"], [0.4444444444444444, \"#bd3786\"], [0.5555555555555556, \"#d8576b\"], [0.6666666666666666, \"#ed7953\"], [0.7777777777777778, \"#fb9f3a\"], [0.8888888888888888, \"#fdca26\"], [1.0, \"#f0f921\"]], \"type\": \"histogram2dcontour\"}], \"mesh3d\": [{\"colorbar\": {\"outlinewidth\": 0, \"ticks\": \"\"}, \"type\": \"mesh3d\"}], \"parcoords\": [{\"line\": {\"colorbar\": {\"outlinewidth\": 0, \"ticks\": \"\"}}, \"type\": \"parcoords\"}], \"pie\": [{\"automargin\": true, \"type\": \"pie\"}], \"scatter\": [{\"marker\": {\"colorbar\": {\"outlinewidth\": 0, \"ticks\": \"\"}}, \"type\": \"scatter\"}], \"scatter3d\": [{\"line\": {\"colorbar\": {\"outlinewidth\": 0, \"ticks\": \"\"}}, \"marker\": {\"colorbar\": {\"outlinewidth\": 0, \"ticks\": \"\"}}, \"type\": \"scatter3d\"}], \"scattercarpet\": [{\"marker\": {\"colorbar\": {\"outlinewidth\": 0, \"ticks\": \"\"}}, \"type\": \"scattercarpet\"}], \"scattergeo\": [{\"marker\": {\"colorbar\": {\"outlinewidth\": 0, \"ticks\": \"\"}}, \"type\": \"scattergeo\"}], \"scattergl\": [{\"marker\": {\"colorbar\": {\"outlinewidth\": 0, \"ticks\": \"\"}}, \"type\": \"scattergl\"}], \"scattermapbox\": [{\"marker\": {\"colorbar\": {\"outlinewidth\": 0, \"ticks\": \"\"}}, \"type\": \"scattermapbox\"}], \"scatterpolar\": [{\"marker\": {\"colorbar\": {\"outlinewidth\": 0, \"ticks\": \"\"}}, \"type\": \"scatterpolar\"}], \"scatterpolargl\": [{\"marker\": {\"colorbar\": {\"outlinewidth\": 0, \"ticks\": \"\"}}, \"type\": \"scatterpolargl\"}], \"scatterternary\": [{\"marker\": {\"colorbar\": {\"outlinewidth\": 0, \"ticks\": \"\"}}, \"type\": \"scatterternary\"}], \"surface\": [{\"colorbar\": {\"outlinewidth\": 0, \"ticks\": \"\"}, \"colorscale\": [[0.0, \"#0d0887\"], [0.1111111111111111, \"#46039f\"], [0.2222222222222222, \"#7201a8\"], [0.3333333333333333, \"#9c179e\"], [0.4444444444444444, \"#bd3786\"], [0.5555555555555556, \"#d8576b\"], [0.6666666666666666, \"#ed7953\"], [0.7777777777777778, \"#fb9f3a\"], [0.8888888888888888, \"#fdca26\"], [1.0, \"#f0f921\"]], \"type\": \"surface\"}], \"table\": [{\"cells\": {\"fill\": {\"color\": \"#EBF0F8\"}, \"line\": {\"color\": \"white\"}}, \"header\": {\"fill\": {\"color\": \"#C8D4E3\"}, \"line\": {\"color\": \"white\"}}, \"type\": \"table\"}]}, \"layout\": {\"annotationdefaults\": {\"arrowcolor\": \"#2a3f5f\", \"arrowhead\": 0, \"arrowwidth\": 1}, \"coloraxis\": {\"colorbar\": {\"outlinewidth\": 0, \"ticks\": \"\"}}, \"colorscale\": {\"diverging\": [[0, \"#8e0152\"], [0.1, \"#c51b7d\"], [0.2, \"#de77ae\"], [0.3, \"#f1b6da\"], [0.4, \"#fde0ef\"], [0.5, \"#f7f7f7\"], [0.6, \"#e6f5d0\"], [0.7, \"#b8e186\"], [0.8, \"#7fbc41\"], [0.9, \"#4d9221\"], [1, \"#276419\"]], \"sequential\": [[0.0, \"#0d0887\"], [0.1111111111111111, \"#46039f\"], [0.2222222222222222, \"#7201a8\"], [0.3333333333333333, \"#9c179e\"], [0.4444444444444444, \"#bd3786\"], [0.5555555555555556, \"#d8576b\"], [0.6666666666666666, \"#ed7953\"], [0.7777777777777778, \"#fb9f3a\"], [0.8888888888888888, \"#fdca26\"], [1.0, \"#f0f921\"]], \"sequentialminus\": [[0.0, \"#0d0887\"], [0.1111111111111111, \"#46039f\"], [0.2222222222222222, \"#7201a8\"], [0.3333333333333333, \"#9c179e\"], [0.4444444444444444, \"#bd3786\"], [0.5555555555555556, \"#d8576b\"], [0.6666666666666666, \"#ed7953\"], [0.7777777777777778, \"#fb9f3a\"], [0.8888888888888888, \"#fdca26\"], [1.0, \"#f0f921\"]]}, \"colorway\": [\"#636efa\", \"#EF553B\", \"#00cc96\", \"#ab63fa\", \"#FFA15A\", \"#19d3f3\", \"#FF6692\", \"#B6E880\", \"#FF97FF\", \"#FECB52\"], \"font\": {\"color\": \"#2a3f5f\"}, \"geo\": {\"bgcolor\": \"white\", \"lakecolor\": \"white\", \"landcolor\": \"#E5ECF6\", \"showlakes\": true, \"showland\": true, \"subunitcolor\": \"white\"}, \"hoverlabel\": {\"align\": \"left\"}, \"hovermode\": \"closest\", \"mapbox\": {\"style\": \"light\"}, \"paper_bgcolor\": \"white\", \"plot_bgcolor\": \"#E5ECF6\", \"polar\": {\"angularaxis\": {\"gridcolor\": \"white\", \"linecolor\": \"white\", \"ticks\": \"\"}, \"bgcolor\": \"#E5ECF6\", \"radialaxis\": {\"gridcolor\": \"white\", \"linecolor\": \"white\", \"ticks\": \"\"}}, \"scene\": {\"xaxis\": {\"backgroundcolor\": \"#E5ECF6\", \"gridcolor\": \"white\", \"gridwidth\": 2, \"linecolor\": \"white\", \"showbackground\": true, \"ticks\": \"\", \"zerolinecolor\": \"white\"}, \"yaxis\": {\"backgroundcolor\": \"#E5ECF6\", \"gridcolor\": \"white\", \"gridwidth\": 2, \"linecolor\": \"white\", \"showbackground\": true, \"ticks\": \"\", \"zerolinecolor\": \"white\"}, \"zaxis\": {\"backgroundcolor\": \"#E5ECF6\", \"gridcolor\": \"white\", \"gridwidth\": 2, \"linecolor\": \"white\", \"showbackground\": true, \"ticks\": \"\", \"zerolinecolor\": \"white\"}}, \"shapedefaults\": {\"line\": {\"color\": \"#2a3f5f\"}}, \"ternary\": {\"aaxis\": {\"gridcolor\": \"white\", \"linecolor\": \"white\", \"ticks\": \"\"}, \"baxis\": {\"gridcolor\": \"white\", \"linecolor\": \"white\", \"ticks\": \"\"}, \"bgcolor\": \"#E5ECF6\", \"caxis\": {\"gridcolor\": \"white\", \"linecolor\": \"white\", \"ticks\": \"\"}}, \"title\": {\"x\": 0.05}, \"xaxis\": {\"automargin\": true, \"gridcolor\": \"white\", \"linecolor\": \"white\", \"ticks\": \"\", \"title\": {\"standoff\": 15}, \"zerolinecolor\": \"white\", \"zerolinewidth\": 2}, \"yaxis\": {\"automargin\": true, \"gridcolor\": \"white\", \"linecolor\": \"white\", \"ticks\": \"\", \"title\": {\"standoff\": 15}, \"zerolinecolor\": \"white\", \"zerolinewidth\": 2}}}, \"title\": {\"text\": \"Visualizing Clusters in Two Dimensions Using T-SNE (perplexity=20)\"}, \"xaxis\": {\"ticklen\": 5, \"title\": {\"text\": \"TC1\"}, \"zeroline\": false}, \"yaxis\": {\"ticklen\": 5, \"title\": {\"text\": \"TC2\"}, \"zeroline\": false}},\n",
       "                        {\"responsive\": true}\n",
       "                    ).then(function(){\n",
       "                            \n",
       "var gd = document.getElementById('9f88a9b8-3a2e-4cda-841d-e1e4c16eb2fd');\n",
       "var x = new MutationObserver(function (mutations, observer) {{\n",
       "        var display = window.getComputedStyle(gd).display;\n",
       "        if (!display || display === 'none') {{\n",
       "            console.log([gd, 'removed!']);\n",
       "            Plotly.purge(gd);\n",
       "            observer.disconnect();\n",
       "        }}\n",
       "}});\n",
       "\n",
       "// Listen for the removal of the full notebook cells\n",
       "var notebookContainer = gd.closest('#notebook-container');\n",
       "if (notebookContainer) {{\n",
       "    x.observe(notebookContainer, {childList: true});\n",
       "}}\n",
       "\n",
       "// Listen for the clearing of the current output cell\n",
       "var outputEl = gd.closest('.output');\n",
       "if (outputEl) {{\n",
       "    x.observe(outputEl, {childList: true});\n",
       "}}\n",
       "\n",
       "                        })\n",
       "                };\n",
       "                });\n",
       "            </script>\n",
       "        </div>"
      ]
     },
     "metadata": {},
     "output_type": "display_data"
    },
    {
     "data": {
      "application/vnd.plotly.v1+json": {
       "config": {
        "linkText": "Export to plot.ly",
        "plotlyServerURL": "https://plot.ly",
        "showLink": false
       },
       "data": [
        {
         "marker": {
          "color": "rgba(255, 128, 255, 0.8)"
         },
         "mode": "markers",
         "name": "Cluster: 0",
         "text": [
          "Sierra Leone",
          "Kenya",
          "Liechtenstein",
          "Ethiopia",
          "Sudan",
          "Benin",
          "West Bank and Gaza",
          "India",
          "Somalia",
          "Honduras",
          "Equatorial Guinea",
          "Bolivia",
          "Guinea-Bissau",
          "Zambia",
          "Bangladesh",
          "Indonesia",
          "Jamaica",
          "South Africa",
          "Angola",
          "Cote d'Ivoire",
          "Timor-Leste",
          "Kosovo",
          "Mali",
          "Gabon",
          "Malawi",
          "Mauritania",
          "Mozambique",
          "Haiti",
          "Guyana",
          "Philippines",
          "Ghana",
          "Madagascar",
          "Central African Republic",
          "Namibia",
          "Guatemala",
          "Cambodia",
          "Burundi",
          "Tanzania",
          "Zimbabwe",
          "Sao Tome and Principe",
          "Burkina Faso",
          "Senegal",
          "Papua New Guinea",
          "Guinea",
          "Rwanda",
          "Chad",
          "Niger",
          "Bhutan",
          "Cabo Verde",
          "Cameroon",
          "Pakistan"
         ],
         "type": "scatter",
         "x": [
          -6.918619155883789,
          -6.446810722351074,
          -3.509869337081909,
          -6.246899604797363,
          -4.6777424812316895,
          -7.4275922775268555,
          -5.762121677398682,
          0.5188427567481995,
          -9.044256210327148,
          -0.49413251876831055,
          -8.597679138183594,
          -0.40841561555862427,
          -7.277447700500488,
          -6.040486812591553,
          -4.979775428771973,
          -0.5805050730705261,
          -1.690300703048706,
          -5.092705249786377,
          -7.617214202880859,
          -7.13500452041626,
          -2.5164668560028076,
          -3.5088083744049072,
          -7.407866477966309,
          -4.824154853820801,
          -5.298101902008057,
          -6.766056060791016,
          -8.064247131347656,
          -6.3063554763793945,
          -1.5358823537826538,
          -1.1508902311325073,
          -6.932281017303467,
          -7.78352165222168,
          -9.153648376464844,
          -5.042437553405762,
          -1.2499669790267944,
          -2.665888547897339,
          -5.360034942626953,
          -6.382082939147949,
          -4.521009922027588,
          -3.841033935546875,
          -6.5639472007751465,
          -6.654212951660156,
          -2.6228957176208496,
          -8.170162200927734,
          -5.466381072998047,
          -9.41960620880127,
          -9.572027206420898,
          -3.086092472076416,
          -3.4500949382781982,
          -8.500311851501465,
          -5.521223068237305
         ],
         "y": [
          -3.504265308380127,
          -4.441897869110107,
          -7.296262264251709,
          -3.4510724544525146,
          -1.0213364362716675,
          -2.846198797225952,
          2.654541015625,
          -7.777124881744385,
          -5.072558879852295,
          -0.810831606388092,
          -0.5144819021224976,
          -2.0569746494293213,
          -3.676917552947998,
          -1.2613654136657715,
          -2.7103188037872314,
          -3.322086811065674,
          -1.1636430025100708,
          1.9393713474273682,
          -1.5757755041122437,
          -3.0432169437408447,
          1.7893850803375244,
          -7.297030925750732,
          -2.348024368286133,
          1.7308752536773682,
          -4.367817401885986,
          -1.6315135955810547,
          -4.527294635772705,
          -0.2882886826992035,
          0.07711277157068253,
          -2.8180174827575684,
          -5.270325183868408,
          -4.62623405456543,
          -1.7160794734954834,
          1.1509182453155518,
          -2.193176746368408,
          -3.0205259323120117,
          -4.188638210296631,
          -4.5520453453063965,
          -4.066432476043701,
          -0.4580659866333008,
          -2.981844425201416,
          -2.426175832748413,
          1.7551168203353882,
          -1.503177285194397,
          -3.690239191055298,
          -1.8612436056137085,
          -2.9590351581573486,
          -2.371095657348633,
          -0.5823152661323547,
          -2.9284234046936035,
          -2.617542028427124
         ]
        },
        {
         "marker": {
          "color": "rgba(255, 128, 2, 0.8)"
         },
         "mode": "markers",
         "name": "Cluster: 1",
         "text": [
          "United States"
         ],
         "type": "scatter",
         "x": [
          10.548256874084473
         ],
         "y": [
          -3.3688230514526367
         ]
        },
        {
         "marker": {
          "color": "rgba(0, 255, 200, 0.8)"
         },
         "mode": "markers",
         "name": "Cluster: 2",
         "text": [
          "Slovenia",
          "Fiji",
          "Malta",
          "Paraguay",
          "Croatia",
          "Mongolia",
          "Denmark",
          "Ukraine",
          "Germany",
          "Algeria",
          "Azerbaijan",
          "Cyprus",
          "Bahrain",
          "Belgium",
          "Singapore",
          "Japan",
          "Andorra",
          "Morocco",
          "Spain",
          "Chile",
          "Brazil",
          "Kazakhstan",
          "Monaco",
          "Dominican Republic",
          "Mexico",
          "Mauritius",
          "Nicaragua",
          "Tunisia",
          "Uzbekistan",
          "Lebanon",
          "Finland",
          "Georgia",
          "Saudi Arabia",
          "Italy",
          "United Kingdom",
          "United Arab Emirates",
          "Albania",
          "Peru",
          "Suriname",
          "Moldova",
          "Lithuania",
          "Israel",
          "Netherlands",
          "Maldives",
          "Greece",
          "Serbia",
          "Turkey",
          "Antigua and Barbuda",
          "Estonia",
          "Cuba",
          "Ecuador",
          "Belarus",
          "Latvia",
          "Austria",
          "France",
          "Grenada",
          "Portugal",
          "Luxembourg",
          "Sweden",
          "Iceland",
          "San Marino",
          "El Salvador",
          "Belize",
          "Panama",
          "Costa Rica",
          "Dominica",
          "Hungary",
          "Qatar",
          "Oman",
          "Trinidad and Tobago",
          "Armenia",
          "China",
          "Uruguay",
          "Thailand",
          "Norway"
         ],
         "type": "scatter",
         "x": [
          6.569126129150391,
          1.2523152828216553,
          5.799861431121826,
          0.5040784478187561,
          5.053956031799316,
          2.404360294342041,
          7.952577114105225,
          2.725146770477295,
          9.886475563049316,
          -0.1472463458776474,
          2.154592275619507,
          4.313630104064941,
          3.07354736328125,
          8.399731636047363,
          8.327300071716309,
          9.912605285644531,
          5.988372802734375,
          -0.11272032558917999,
          11.243719100952148,
          3.125948190689087,
          -1.0999680757522583,
          3.5561509132385254,
          8.666407585144043,
          1.3253322839736938,
          1.8926492929458618,
          2.5120151042938232,
          -1.1365081071853638,
          -0.2086794227361679,
          1.6645922660827637,
          0.7136739492416382,
          8.344192504882812,
          0.8995524644851685,
          3.036336660385132,
          11.24105167388916,
          10.510637283325195,
          3.2381324768066406,
          1.3687728643417358,
          0.3837127387523651,
          1.7883931398391724,
          2.8469512462615967,
          6.010335922241211,
          4.4002485275268555,
          8.394901275634766,
          2.183420419692993,
          4.241692066192627,
          1.5468345880508423,
          -0.31802135705947876,
          2.616830348968506,
          6.062321662902832,
          4.224560737609863,
          -0.10726700723171234,
          5.369256019592285,
          5.654913425445557,
          8.856398582458496,
          10.722843170166016,
          2.5275678634643555,
          5.221117973327637,
          7.950311660766602,
          8.184560775756836,
          7.838846683502197,
          4.499894618988037,
          0.37256091833114624,
          -0.29641255736351013,
          1.115262508392334,
          0.7203325033187866,
          5.9790778160095215,
          6.311415672302246,
          3.52591609954834,
          1.89089834690094,
          2.1991004943847656,
          0.7007033228874207,
          0.5509531497955322,
          3.663360357284546,
          1.9580289125442505,
          8.227823257446289
         ],
         "y": [
          2.528142213821411,
          -0.03340929001569748,
          0.4661477506160736,
          -0.9483345150947571,
          1.6334809064865112,
          3.564544200897217,
          -0.5698005557060242,
          4.75855827331543,
          -0.48454466462135315,
          0.9167697429656982,
          2.7499969005584717,
          0.5526117086410522,
          -4.732208728790283,
          1.253767967224121,
          3.347059488296509,
          0.3363915681838989,
          -3.728010892868042,
          0.3238511383533478,
          -2.513476848602295,
          -1.1713858842849731,
          2.9106075763702393,
          0.956921398639679,
          3.7819457054138184,
          -1.8494209051132202,
          -2.069376230239868,
          1.0373713970184326,
          -0.806405782699585,
          1.6401300430297852,
          0.5051961541175842,
          -2.9582107067108154,
          -0.36019352078437805,
          3.3259365558624268,
          -4.99033260345459,
          -2.5033998489379883,
          -1.9112895727157593,
          -4.1657867431640625,
          1.625968337059021,
          -2.139526128768921,
          2.800290584564209,
          1.790055274963379,
          2.583338737487793,
          -1.0477609634399414,
          1.0582568645477295,
          1.2302534580230713,
          2.256568670272827,
          4.082304000854492,
          -5.25356912612915,
          0.29921093583106995,
          1.9713077545166016,
          -0.2850513160228729,
          -1.8072679042816162,
          3.5951595306396484,
          1.9094908237457275,
          0.06566551327705383,
          -2.0785999298095703,
          0.22944730520248413,
          1.012171983718872,
          -1.552246332168579,
          -0.5376700162887573,
          -0.866517961025238,
          -2.099971055984497,
          -1.516875147819519,
          -0.12077945470809937,
          -1.2148151397705078,
          1.025808334350586,
          -3.7345669269561768,
          2.8331446647644043,
          -5.297184944152832,
          -3.7464466094970703,
          -0.5708640813827515,
          3.3934638500213623,
          -7.7748637199401855,
          -1.11897611618042,
          -0.9629750847816467,
          -0.8461203575134277
         ]
        }
       ],
       "layout": {
        "template": {
         "data": {
          "bar": [
           {
            "error_x": {
             "color": "#2a3f5f"
            },
            "error_y": {
             "color": "#2a3f5f"
            },
            "marker": {
             "line": {
              "color": "#E5ECF6",
              "width": 0.5
             }
            },
            "type": "bar"
           }
          ],
          "barpolar": [
           {
            "marker": {
             "line": {
              "color": "#E5ECF6",
              "width": 0.5
             }
            },
            "type": "barpolar"
           }
          ],
          "carpet": [
           {
            "aaxis": {
             "endlinecolor": "#2a3f5f",
             "gridcolor": "white",
             "linecolor": "white",
             "minorgridcolor": "white",
             "startlinecolor": "#2a3f5f"
            },
            "baxis": {
             "endlinecolor": "#2a3f5f",
             "gridcolor": "white",
             "linecolor": "white",
             "minorgridcolor": "white",
             "startlinecolor": "#2a3f5f"
            },
            "type": "carpet"
           }
          ],
          "choropleth": [
           {
            "colorbar": {
             "outlinewidth": 0,
             "ticks": ""
            },
            "type": "choropleth"
           }
          ],
          "contour": [
           {
            "colorbar": {
             "outlinewidth": 0,
             "ticks": ""
            },
            "colorscale": [
             [
              0,
              "#0d0887"
             ],
             [
              0.1111111111111111,
              "#46039f"
             ],
             [
              0.2222222222222222,
              "#7201a8"
             ],
             [
              0.3333333333333333,
              "#9c179e"
             ],
             [
              0.4444444444444444,
              "#bd3786"
             ],
             [
              0.5555555555555556,
              "#d8576b"
             ],
             [
              0.6666666666666666,
              "#ed7953"
             ],
             [
              0.7777777777777778,
              "#fb9f3a"
             ],
             [
              0.8888888888888888,
              "#fdca26"
             ],
             [
              1,
              "#f0f921"
             ]
            ],
            "type": "contour"
           }
          ],
          "contourcarpet": [
           {
            "colorbar": {
             "outlinewidth": 0,
             "ticks": ""
            },
            "type": "contourcarpet"
           }
          ],
          "heatmap": [
           {
            "colorbar": {
             "outlinewidth": 0,
             "ticks": ""
            },
            "colorscale": [
             [
              0,
              "#0d0887"
             ],
             [
              0.1111111111111111,
              "#46039f"
             ],
             [
              0.2222222222222222,
              "#7201a8"
             ],
             [
              0.3333333333333333,
              "#9c179e"
             ],
             [
              0.4444444444444444,
              "#bd3786"
             ],
             [
              0.5555555555555556,
              "#d8576b"
             ],
             [
              0.6666666666666666,
              "#ed7953"
             ],
             [
              0.7777777777777778,
              "#fb9f3a"
             ],
             [
              0.8888888888888888,
              "#fdca26"
             ],
             [
              1,
              "#f0f921"
             ]
            ],
            "type": "heatmap"
           }
          ],
          "heatmapgl": [
           {
            "colorbar": {
             "outlinewidth": 0,
             "ticks": ""
            },
            "colorscale": [
             [
              0,
              "#0d0887"
             ],
             [
              0.1111111111111111,
              "#46039f"
             ],
             [
              0.2222222222222222,
              "#7201a8"
             ],
             [
              0.3333333333333333,
              "#9c179e"
             ],
             [
              0.4444444444444444,
              "#bd3786"
             ],
             [
              0.5555555555555556,
              "#d8576b"
             ],
             [
              0.6666666666666666,
              "#ed7953"
             ],
             [
              0.7777777777777778,
              "#fb9f3a"
             ],
             [
              0.8888888888888888,
              "#fdca26"
             ],
             [
              1,
              "#f0f921"
             ]
            ],
            "type": "heatmapgl"
           }
          ],
          "histogram": [
           {
            "marker": {
             "colorbar": {
              "outlinewidth": 0,
              "ticks": ""
             }
            },
            "type": "histogram"
           }
          ],
          "histogram2d": [
           {
            "colorbar": {
             "outlinewidth": 0,
             "ticks": ""
            },
            "colorscale": [
             [
              0,
              "#0d0887"
             ],
             [
              0.1111111111111111,
              "#46039f"
             ],
             [
              0.2222222222222222,
              "#7201a8"
             ],
             [
              0.3333333333333333,
              "#9c179e"
             ],
             [
              0.4444444444444444,
              "#bd3786"
             ],
             [
              0.5555555555555556,
              "#d8576b"
             ],
             [
              0.6666666666666666,
              "#ed7953"
             ],
             [
              0.7777777777777778,
              "#fb9f3a"
             ],
             [
              0.8888888888888888,
              "#fdca26"
             ],
             [
              1,
              "#f0f921"
             ]
            ],
            "type": "histogram2d"
           }
          ],
          "histogram2dcontour": [
           {
            "colorbar": {
             "outlinewidth": 0,
             "ticks": ""
            },
            "colorscale": [
             [
              0,
              "#0d0887"
             ],
             [
              0.1111111111111111,
              "#46039f"
             ],
             [
              0.2222222222222222,
              "#7201a8"
             ],
             [
              0.3333333333333333,
              "#9c179e"
             ],
             [
              0.4444444444444444,
              "#bd3786"
             ],
             [
              0.5555555555555556,
              "#d8576b"
             ],
             [
              0.6666666666666666,
              "#ed7953"
             ],
             [
              0.7777777777777778,
              "#fb9f3a"
             ],
             [
              0.8888888888888888,
              "#fdca26"
             ],
             [
              1,
              "#f0f921"
             ]
            ],
            "type": "histogram2dcontour"
           }
          ],
          "mesh3d": [
           {
            "colorbar": {
             "outlinewidth": 0,
             "ticks": ""
            },
            "type": "mesh3d"
           }
          ],
          "parcoords": [
           {
            "line": {
             "colorbar": {
              "outlinewidth": 0,
              "ticks": ""
             }
            },
            "type": "parcoords"
           }
          ],
          "pie": [
           {
            "automargin": true,
            "type": "pie"
           }
          ],
          "scatter": [
           {
            "marker": {
             "colorbar": {
              "outlinewidth": 0,
              "ticks": ""
             }
            },
            "type": "scatter"
           }
          ],
          "scatter3d": [
           {
            "line": {
             "colorbar": {
              "outlinewidth": 0,
              "ticks": ""
             }
            },
            "marker": {
             "colorbar": {
              "outlinewidth": 0,
              "ticks": ""
             }
            },
            "type": "scatter3d"
           }
          ],
          "scattercarpet": [
           {
            "marker": {
             "colorbar": {
              "outlinewidth": 0,
              "ticks": ""
             }
            },
            "type": "scattercarpet"
           }
          ],
          "scattergeo": [
           {
            "marker": {
             "colorbar": {
              "outlinewidth": 0,
              "ticks": ""
             }
            },
            "type": "scattergeo"
           }
          ],
          "scattergl": [
           {
            "marker": {
             "colorbar": {
              "outlinewidth": 0,
              "ticks": ""
             }
            },
            "type": "scattergl"
           }
          ],
          "scattermapbox": [
           {
            "marker": {
             "colorbar": {
              "outlinewidth": 0,
              "ticks": ""
             }
            },
            "type": "scattermapbox"
           }
          ],
          "scatterpolar": [
           {
            "marker": {
             "colorbar": {
              "outlinewidth": 0,
              "ticks": ""
             }
            },
            "type": "scatterpolar"
           }
          ],
          "scatterpolargl": [
           {
            "marker": {
             "colorbar": {
              "outlinewidth": 0,
              "ticks": ""
             }
            },
            "type": "scatterpolargl"
           }
          ],
          "scatterternary": [
           {
            "marker": {
             "colorbar": {
              "outlinewidth": 0,
              "ticks": ""
             }
            },
            "type": "scatterternary"
           }
          ],
          "surface": [
           {
            "colorbar": {
             "outlinewidth": 0,
             "ticks": ""
            },
            "colorscale": [
             [
              0,
              "#0d0887"
             ],
             [
              0.1111111111111111,
              "#46039f"
             ],
             [
              0.2222222222222222,
              "#7201a8"
             ],
             [
              0.3333333333333333,
              "#9c179e"
             ],
             [
              0.4444444444444444,
              "#bd3786"
             ],
             [
              0.5555555555555556,
              "#d8576b"
             ],
             [
              0.6666666666666666,
              "#ed7953"
             ],
             [
              0.7777777777777778,
              "#fb9f3a"
             ],
             [
              0.8888888888888888,
              "#fdca26"
             ],
             [
              1,
              "#f0f921"
             ]
            ],
            "type": "surface"
           }
          ],
          "table": [
           {
            "cells": {
             "fill": {
              "color": "#EBF0F8"
             },
             "line": {
              "color": "white"
             }
            },
            "header": {
             "fill": {
              "color": "#C8D4E3"
             },
             "line": {
              "color": "white"
             }
            },
            "type": "table"
           }
          ]
         },
         "layout": {
          "annotationdefaults": {
           "arrowcolor": "#2a3f5f",
           "arrowhead": 0,
           "arrowwidth": 1
          },
          "coloraxis": {
           "colorbar": {
            "outlinewidth": 0,
            "ticks": ""
           }
          },
          "colorscale": {
           "diverging": [
            [
             0,
             "#8e0152"
            ],
            [
             0.1,
             "#c51b7d"
            ],
            [
             0.2,
             "#de77ae"
            ],
            [
             0.3,
             "#f1b6da"
            ],
            [
             0.4,
             "#fde0ef"
            ],
            [
             0.5,
             "#f7f7f7"
            ],
            [
             0.6,
             "#e6f5d0"
            ],
            [
             0.7,
             "#b8e186"
            ],
            [
             0.8,
             "#7fbc41"
            ],
            [
             0.9,
             "#4d9221"
            ],
            [
             1,
             "#276419"
            ]
           ],
           "sequential": [
            [
             0,
             "#0d0887"
            ],
            [
             0.1111111111111111,
             "#46039f"
            ],
            [
             0.2222222222222222,
             "#7201a8"
            ],
            [
             0.3333333333333333,
             "#9c179e"
            ],
            [
             0.4444444444444444,
             "#bd3786"
            ],
            [
             0.5555555555555556,
             "#d8576b"
            ],
            [
             0.6666666666666666,
             "#ed7953"
            ],
            [
             0.7777777777777778,
             "#fb9f3a"
            ],
            [
             0.8888888888888888,
             "#fdca26"
            ],
            [
             1,
             "#f0f921"
            ]
           ],
           "sequentialminus": [
            [
             0,
             "#0d0887"
            ],
            [
             0.1111111111111111,
             "#46039f"
            ],
            [
             0.2222222222222222,
             "#7201a8"
            ],
            [
             0.3333333333333333,
             "#9c179e"
            ],
            [
             0.4444444444444444,
             "#bd3786"
            ],
            [
             0.5555555555555556,
             "#d8576b"
            ],
            [
             0.6666666666666666,
             "#ed7953"
            ],
            [
             0.7777777777777778,
             "#fb9f3a"
            ],
            [
             0.8888888888888888,
             "#fdca26"
            ],
            [
             1,
             "#f0f921"
            ]
           ]
          },
          "colorway": [
           "#636efa",
           "#EF553B",
           "#00cc96",
           "#ab63fa",
           "#FFA15A",
           "#19d3f3",
           "#FF6692",
           "#B6E880",
           "#FF97FF",
           "#FECB52"
          ],
          "font": {
           "color": "#2a3f5f"
          },
          "geo": {
           "bgcolor": "white",
           "lakecolor": "white",
           "landcolor": "#E5ECF6",
           "showlakes": true,
           "showland": true,
           "subunitcolor": "white"
          },
          "hoverlabel": {
           "align": "left"
          },
          "hovermode": "closest",
          "mapbox": {
           "style": "light"
          },
          "paper_bgcolor": "white",
          "plot_bgcolor": "#E5ECF6",
          "polar": {
           "angularaxis": {
            "gridcolor": "white",
            "linecolor": "white",
            "ticks": ""
           },
           "bgcolor": "#E5ECF6",
           "radialaxis": {
            "gridcolor": "white",
            "linecolor": "white",
            "ticks": ""
           }
          },
          "scene": {
           "xaxis": {
            "backgroundcolor": "#E5ECF6",
            "gridcolor": "white",
            "gridwidth": 2,
            "linecolor": "white",
            "showbackground": true,
            "ticks": "",
            "zerolinecolor": "white"
           },
           "yaxis": {
            "backgroundcolor": "#E5ECF6",
            "gridcolor": "white",
            "gridwidth": 2,
            "linecolor": "white",
            "showbackground": true,
            "ticks": "",
            "zerolinecolor": "white"
           },
           "zaxis": {
            "backgroundcolor": "#E5ECF6",
            "gridcolor": "white",
            "gridwidth": 2,
            "linecolor": "white",
            "showbackground": true,
            "ticks": "",
            "zerolinecolor": "white"
           }
          },
          "shapedefaults": {
           "line": {
            "color": "#2a3f5f"
           }
          },
          "ternary": {
           "aaxis": {
            "gridcolor": "white",
            "linecolor": "white",
            "ticks": ""
           },
           "baxis": {
            "gridcolor": "white",
            "linecolor": "white",
            "ticks": ""
           },
           "bgcolor": "#E5ECF6",
           "caxis": {
            "gridcolor": "white",
            "linecolor": "white",
            "ticks": ""
           }
          },
          "title": {
           "x": 0.05
          },
          "xaxis": {
           "automargin": true,
           "gridcolor": "white",
           "linecolor": "white",
           "ticks": "",
           "title": {
            "standoff": 15
           },
           "zerolinecolor": "white",
           "zerolinewidth": 2
          },
          "yaxis": {
           "automargin": true,
           "gridcolor": "white",
           "linecolor": "white",
           "ticks": "",
           "title": {
            "standoff": 15
           },
           "zerolinecolor": "white",
           "zerolinewidth": 2
          }
         }
        },
        "title": {
         "text": "Visualizing Clusters in Two Dimensions Using T-SNE (perplexity=30)"
        },
        "xaxis": {
         "ticklen": 5,
         "title": {
          "text": "TC1"
         },
         "zeroline": false
        },
        "yaxis": {
         "ticklen": 5,
         "title": {
          "text": "TC2"
         },
         "zeroline": false
        }
       }
      },
      "text/html": [
       "<div>\n",
       "        \n",
       "        \n",
       "            <div id=\"66a6440c-f1f7-4923-b319-8bad9eba74e4\" class=\"plotly-graph-div\" style=\"height:525px; width:100%;\"></div>\n",
       "            <script type=\"text/javascript\">\n",
       "                require([\"plotly\"], function(Plotly) {\n",
       "                    window.PLOTLYENV=window.PLOTLYENV || {};\n",
       "                    \n",
       "                if (document.getElementById(\"66a6440c-f1f7-4923-b319-8bad9eba74e4\")) {\n",
       "                    Plotly.newPlot(\n",
       "                        '66a6440c-f1f7-4923-b319-8bad9eba74e4',\n",
       "                        [{\"marker\": {\"color\": \"rgba(255, 128, 255, 0.8)\"}, \"mode\": \"markers\", \"name\": \"Cluster: 0\", \"text\": [\"Sierra Leone\", \"Kenya\", \"Liechtenstein\", \"Ethiopia\", \"Sudan\", \"Benin\", \"West Bank and Gaza\", \"India\", \"Somalia\", \"Honduras\", \"Equatorial Guinea\", \"Bolivia\", \"Guinea-Bissau\", \"Zambia\", \"Bangladesh\", \"Indonesia\", \"Jamaica\", \"South Africa\", \"Angola\", \"Cote d'Ivoire\", \"Timor-Leste\", \"Kosovo\", \"Mali\", \"Gabon\", \"Malawi\", \"Mauritania\", \"Mozambique\", \"Haiti\", \"Guyana\", \"Philippines\", \"Ghana\", \"Madagascar\", \"Central African Republic\", \"Namibia\", \"Guatemala\", \"Cambodia\", \"Burundi\", \"Tanzania\", \"Zimbabwe\", \"Sao Tome and Principe\", \"Burkina Faso\", \"Senegal\", \"Papua New Guinea\", \"Guinea\", \"Rwanda\", \"Chad\", \"Niger\", \"Bhutan\", \"Cabo Verde\", \"Cameroon\", \"Pakistan\"], \"type\": \"scatter\", \"x\": [-6.918619155883789, -6.446810722351074, -3.509869337081909, -6.246899604797363, -4.6777424812316895, -7.4275922775268555, -5.762121677398682, 0.5188427567481995, -9.044256210327148, -0.49413251876831055, -8.597679138183594, -0.40841561555862427, -7.277447700500488, -6.040486812591553, -4.979775428771973, -0.5805050730705261, -1.690300703048706, -5.092705249786377, -7.617214202880859, -7.13500452041626, -2.5164668560028076, -3.5088083744049072, -7.407866477966309, -4.824154853820801, -5.298101902008057, -6.766056060791016, -8.064247131347656, -6.3063554763793945, -1.5358823537826538, -1.1508902311325073, -6.932281017303467, -7.78352165222168, -9.153648376464844, -5.042437553405762, -1.2499669790267944, -2.665888547897339, -5.360034942626953, -6.382082939147949, -4.521009922027588, -3.841033935546875, -6.5639472007751465, -6.654212951660156, -2.6228957176208496, -8.170162200927734, -5.466381072998047, -9.41960620880127, -9.572027206420898, -3.086092472076416, -3.4500949382781982, -8.500311851501465, -5.521223068237305], \"y\": [-3.504265308380127, -4.441897869110107, -7.296262264251709, -3.4510724544525146, -1.0213364362716675, -2.846198797225952, 2.654541015625, -7.777124881744385, -5.072558879852295, -0.810831606388092, -0.5144819021224976, -2.0569746494293213, -3.676917552947998, -1.2613654136657715, -2.7103188037872314, -3.322086811065674, -1.1636430025100708, 1.9393713474273682, -1.5757755041122437, -3.0432169437408447, 1.7893850803375244, -7.297030925750732, -2.348024368286133, 1.7308752536773682, -4.367817401885986, -1.6315135955810547, -4.527294635772705, -0.2882886826992035, 0.07711277157068253, -2.8180174827575684, -5.270325183868408, -4.62623405456543, -1.7160794734954834, 1.1509182453155518, -2.193176746368408, -3.0205259323120117, -4.188638210296631, -4.5520453453063965, -4.066432476043701, -0.4580659866333008, -2.981844425201416, -2.426175832748413, 1.7551168203353882, -1.503177285194397, -3.690239191055298, -1.8612436056137085, -2.9590351581573486, -2.371095657348633, -0.5823152661323547, -2.9284234046936035, -2.617542028427124]}, {\"marker\": {\"color\": \"rgba(255, 128, 2, 0.8)\"}, \"mode\": \"markers\", \"name\": \"Cluster: 1\", \"text\": [\"United States\"], \"type\": \"scatter\", \"x\": [10.548256874084473], \"y\": [-3.3688230514526367]}, {\"marker\": {\"color\": \"rgba(0, 255, 200, 0.8)\"}, \"mode\": \"markers\", \"name\": \"Cluster: 2\", \"text\": [\"Slovenia\", \"Fiji\", \"Malta\", \"Paraguay\", \"Croatia\", \"Mongolia\", \"Denmark\", \"Ukraine\", \"Germany\", \"Algeria\", \"Azerbaijan\", \"Cyprus\", \"Bahrain\", \"Belgium\", \"Singapore\", \"Japan\", \"Andorra\", \"Morocco\", \"Spain\", \"Chile\", \"Brazil\", \"Kazakhstan\", \"Monaco\", \"Dominican Republic\", \"Mexico\", \"Mauritius\", \"Nicaragua\", \"Tunisia\", \"Uzbekistan\", \"Lebanon\", \"Finland\", \"Georgia\", \"Saudi Arabia\", \"Italy\", \"United Kingdom\", \"United Arab Emirates\", \"Albania\", \"Peru\", \"Suriname\", \"Moldova\", \"Lithuania\", \"Israel\", \"Netherlands\", \"Maldives\", \"Greece\", \"Serbia\", \"Turkey\", \"Antigua and Barbuda\", \"Estonia\", \"Cuba\", \"Ecuador\", \"Belarus\", \"Latvia\", \"Austria\", \"France\", \"Grenada\", \"Portugal\", \"Luxembourg\", \"Sweden\", \"Iceland\", \"San Marino\", \"El Salvador\", \"Belize\", \"Panama\", \"Costa Rica\", \"Dominica\", \"Hungary\", \"Qatar\", \"Oman\", \"Trinidad and Tobago\", \"Armenia\", \"China\", \"Uruguay\", \"Thailand\", \"Norway\"], \"type\": \"scatter\", \"x\": [6.569126129150391, 1.2523152828216553, 5.799861431121826, 0.5040784478187561, 5.053956031799316, 2.404360294342041, 7.952577114105225, 2.725146770477295, 9.886475563049316, -0.1472463458776474, 2.154592275619507, 4.313630104064941, 3.07354736328125, 8.399731636047363, 8.327300071716309, 9.912605285644531, 5.988372802734375, -0.11272032558917999, 11.243719100952148, 3.125948190689087, -1.0999680757522583, 3.5561509132385254, 8.666407585144043, 1.3253322839736938, 1.8926492929458618, 2.5120151042938232, -1.1365081071853638, -0.2086794227361679, 1.6645922660827637, 0.7136739492416382, 8.344192504882812, 0.8995524644851685, 3.036336660385132, 11.24105167388916, 10.510637283325195, 3.2381324768066406, 1.3687728643417358, 0.3837127387523651, 1.7883931398391724, 2.8469512462615967, 6.010335922241211, 4.4002485275268555, 8.394901275634766, 2.183420419692993, 4.241692066192627, 1.5468345880508423, -0.31802135705947876, 2.616830348968506, 6.062321662902832, 4.224560737609863, -0.10726700723171234, 5.369256019592285, 5.654913425445557, 8.856398582458496, 10.722843170166016, 2.5275678634643555, 5.221117973327637, 7.950311660766602, 8.184560775756836, 7.838846683502197, 4.499894618988037, 0.37256091833114624, -0.29641255736351013, 1.115262508392334, 0.7203325033187866, 5.9790778160095215, 6.311415672302246, 3.52591609954834, 1.89089834690094, 2.1991004943847656, 0.7007033228874207, 0.5509531497955322, 3.663360357284546, 1.9580289125442505, 8.227823257446289], \"y\": [2.528142213821411, -0.03340929001569748, 0.4661477506160736, -0.9483345150947571, 1.6334809064865112, 3.564544200897217, -0.5698005557060242, 4.75855827331543, -0.48454466462135315, 0.9167697429656982, 2.7499969005584717, 0.5526117086410522, -4.732208728790283, 1.253767967224121, 3.347059488296509, 0.3363915681838989, -3.728010892868042, 0.3238511383533478, -2.513476848602295, -1.1713858842849731, 2.9106075763702393, 0.956921398639679, 3.7819457054138184, -1.8494209051132202, -2.069376230239868, 1.0373713970184326, -0.806405782699585, 1.6401300430297852, 0.5051961541175842, -2.9582107067108154, -0.36019352078437805, 3.3259365558624268, -4.99033260345459, -2.5033998489379883, -1.9112895727157593, -4.1657867431640625, 1.625968337059021, -2.139526128768921, 2.800290584564209, 1.790055274963379, 2.583338737487793, -1.0477609634399414, 1.0582568645477295, 1.2302534580230713, 2.256568670272827, 4.082304000854492, -5.25356912612915, 0.29921093583106995, 1.9713077545166016, -0.2850513160228729, -1.8072679042816162, 3.5951595306396484, 1.9094908237457275, 0.06566551327705383, -2.0785999298095703, 0.22944730520248413, 1.012171983718872, -1.552246332168579, -0.5376700162887573, -0.866517961025238, -2.099971055984497, -1.516875147819519, -0.12077945470809937, -1.2148151397705078, 1.025808334350586, -3.7345669269561768, 2.8331446647644043, -5.297184944152832, -3.7464466094970703, -0.5708640813827515, 3.3934638500213623, -7.7748637199401855, -1.11897611618042, -0.9629750847816467, -0.8461203575134277]}],\n",
       "                        {\"template\": {\"data\": {\"bar\": [{\"error_x\": {\"color\": \"#2a3f5f\"}, \"error_y\": {\"color\": \"#2a3f5f\"}, \"marker\": {\"line\": {\"color\": \"#E5ECF6\", \"width\": 0.5}}, \"type\": \"bar\"}], \"barpolar\": [{\"marker\": {\"line\": {\"color\": \"#E5ECF6\", \"width\": 0.5}}, \"type\": \"barpolar\"}], \"carpet\": [{\"aaxis\": {\"endlinecolor\": \"#2a3f5f\", \"gridcolor\": \"white\", \"linecolor\": \"white\", \"minorgridcolor\": \"white\", \"startlinecolor\": \"#2a3f5f\"}, \"baxis\": {\"endlinecolor\": \"#2a3f5f\", \"gridcolor\": \"white\", \"linecolor\": \"white\", \"minorgridcolor\": \"white\", \"startlinecolor\": \"#2a3f5f\"}, \"type\": \"carpet\"}], \"choropleth\": [{\"colorbar\": {\"outlinewidth\": 0, \"ticks\": \"\"}, \"type\": \"choropleth\"}], \"contour\": [{\"colorbar\": {\"outlinewidth\": 0, \"ticks\": \"\"}, \"colorscale\": [[0.0, \"#0d0887\"], [0.1111111111111111, \"#46039f\"], [0.2222222222222222, \"#7201a8\"], [0.3333333333333333, \"#9c179e\"], [0.4444444444444444, \"#bd3786\"], [0.5555555555555556, \"#d8576b\"], [0.6666666666666666, \"#ed7953\"], [0.7777777777777778, \"#fb9f3a\"], [0.8888888888888888, \"#fdca26\"], [1.0, \"#f0f921\"]], \"type\": \"contour\"}], \"contourcarpet\": [{\"colorbar\": {\"outlinewidth\": 0, \"ticks\": \"\"}, \"type\": \"contourcarpet\"}], \"heatmap\": [{\"colorbar\": {\"outlinewidth\": 0, \"ticks\": \"\"}, \"colorscale\": [[0.0, \"#0d0887\"], [0.1111111111111111, \"#46039f\"], [0.2222222222222222, \"#7201a8\"], [0.3333333333333333, \"#9c179e\"], [0.4444444444444444, \"#bd3786\"], [0.5555555555555556, \"#d8576b\"], [0.6666666666666666, \"#ed7953\"], [0.7777777777777778, \"#fb9f3a\"], [0.8888888888888888, \"#fdca26\"], [1.0, \"#f0f921\"]], \"type\": \"heatmap\"}], \"heatmapgl\": [{\"colorbar\": {\"outlinewidth\": 0, \"ticks\": \"\"}, \"colorscale\": [[0.0, \"#0d0887\"], [0.1111111111111111, \"#46039f\"], [0.2222222222222222, \"#7201a8\"], [0.3333333333333333, \"#9c179e\"], [0.4444444444444444, \"#bd3786\"], [0.5555555555555556, \"#d8576b\"], [0.6666666666666666, \"#ed7953\"], [0.7777777777777778, \"#fb9f3a\"], [0.8888888888888888, \"#fdca26\"], [1.0, \"#f0f921\"]], \"type\": \"heatmapgl\"}], \"histogram\": [{\"marker\": {\"colorbar\": {\"outlinewidth\": 0, \"ticks\": \"\"}}, \"type\": \"histogram\"}], \"histogram2d\": [{\"colorbar\": {\"outlinewidth\": 0, \"ticks\": \"\"}, \"colorscale\": [[0.0, \"#0d0887\"], [0.1111111111111111, \"#46039f\"], [0.2222222222222222, \"#7201a8\"], [0.3333333333333333, \"#9c179e\"], [0.4444444444444444, \"#bd3786\"], [0.5555555555555556, \"#d8576b\"], [0.6666666666666666, \"#ed7953\"], [0.7777777777777778, \"#fb9f3a\"], [0.8888888888888888, \"#fdca26\"], [1.0, \"#f0f921\"]], \"type\": \"histogram2d\"}], \"histogram2dcontour\": [{\"colorbar\": {\"outlinewidth\": 0, \"ticks\": \"\"}, \"colorscale\": [[0.0, \"#0d0887\"], [0.1111111111111111, \"#46039f\"], [0.2222222222222222, \"#7201a8\"], [0.3333333333333333, \"#9c179e\"], [0.4444444444444444, \"#bd3786\"], [0.5555555555555556, \"#d8576b\"], [0.6666666666666666, \"#ed7953\"], [0.7777777777777778, \"#fb9f3a\"], [0.8888888888888888, \"#fdca26\"], [1.0, \"#f0f921\"]], \"type\": \"histogram2dcontour\"}], \"mesh3d\": [{\"colorbar\": {\"outlinewidth\": 0, \"ticks\": \"\"}, \"type\": \"mesh3d\"}], \"parcoords\": [{\"line\": {\"colorbar\": {\"outlinewidth\": 0, \"ticks\": \"\"}}, \"type\": \"parcoords\"}], \"pie\": [{\"automargin\": true, \"type\": \"pie\"}], \"scatter\": [{\"marker\": {\"colorbar\": {\"outlinewidth\": 0, \"ticks\": \"\"}}, \"type\": \"scatter\"}], \"scatter3d\": [{\"line\": {\"colorbar\": {\"outlinewidth\": 0, \"ticks\": \"\"}}, \"marker\": {\"colorbar\": {\"outlinewidth\": 0, \"ticks\": \"\"}}, \"type\": \"scatter3d\"}], \"scattercarpet\": [{\"marker\": {\"colorbar\": {\"outlinewidth\": 0, \"ticks\": \"\"}}, \"type\": \"scattercarpet\"}], \"scattergeo\": [{\"marker\": {\"colorbar\": {\"outlinewidth\": 0, \"ticks\": \"\"}}, \"type\": \"scattergeo\"}], \"scattergl\": [{\"marker\": {\"colorbar\": {\"outlinewidth\": 0, \"ticks\": \"\"}}, \"type\": \"scattergl\"}], \"scattermapbox\": [{\"marker\": {\"colorbar\": {\"outlinewidth\": 0, \"ticks\": \"\"}}, \"type\": \"scattermapbox\"}], \"scatterpolar\": [{\"marker\": {\"colorbar\": {\"outlinewidth\": 0, \"ticks\": \"\"}}, \"type\": \"scatterpolar\"}], \"scatterpolargl\": [{\"marker\": {\"colorbar\": {\"outlinewidth\": 0, \"ticks\": \"\"}}, \"type\": \"scatterpolargl\"}], \"scatterternary\": [{\"marker\": {\"colorbar\": {\"outlinewidth\": 0, \"ticks\": \"\"}}, \"type\": \"scatterternary\"}], \"surface\": [{\"colorbar\": {\"outlinewidth\": 0, \"ticks\": \"\"}, \"colorscale\": [[0.0, \"#0d0887\"], [0.1111111111111111, \"#46039f\"], [0.2222222222222222, \"#7201a8\"], [0.3333333333333333, \"#9c179e\"], [0.4444444444444444, \"#bd3786\"], [0.5555555555555556, \"#d8576b\"], [0.6666666666666666, \"#ed7953\"], [0.7777777777777778, \"#fb9f3a\"], [0.8888888888888888, \"#fdca26\"], [1.0, \"#f0f921\"]], \"type\": \"surface\"}], \"table\": [{\"cells\": {\"fill\": {\"color\": \"#EBF0F8\"}, \"line\": {\"color\": \"white\"}}, \"header\": {\"fill\": {\"color\": \"#C8D4E3\"}, \"line\": {\"color\": \"white\"}}, \"type\": \"table\"}]}, \"layout\": {\"annotationdefaults\": {\"arrowcolor\": \"#2a3f5f\", \"arrowhead\": 0, \"arrowwidth\": 1}, \"coloraxis\": {\"colorbar\": {\"outlinewidth\": 0, \"ticks\": \"\"}}, \"colorscale\": {\"diverging\": [[0, \"#8e0152\"], [0.1, \"#c51b7d\"], [0.2, \"#de77ae\"], [0.3, \"#f1b6da\"], [0.4, \"#fde0ef\"], [0.5, \"#f7f7f7\"], [0.6, \"#e6f5d0\"], [0.7, \"#b8e186\"], [0.8, \"#7fbc41\"], [0.9, \"#4d9221\"], [1, \"#276419\"]], \"sequential\": [[0.0, \"#0d0887\"], [0.1111111111111111, \"#46039f\"], [0.2222222222222222, \"#7201a8\"], [0.3333333333333333, \"#9c179e\"], [0.4444444444444444, \"#bd3786\"], [0.5555555555555556, \"#d8576b\"], [0.6666666666666666, \"#ed7953\"], [0.7777777777777778, \"#fb9f3a\"], [0.8888888888888888, \"#fdca26\"], [1.0, \"#f0f921\"]], \"sequentialminus\": [[0.0, \"#0d0887\"], [0.1111111111111111, \"#46039f\"], [0.2222222222222222, \"#7201a8\"], [0.3333333333333333, \"#9c179e\"], [0.4444444444444444, \"#bd3786\"], [0.5555555555555556, \"#d8576b\"], [0.6666666666666666, \"#ed7953\"], [0.7777777777777778, \"#fb9f3a\"], [0.8888888888888888, \"#fdca26\"], [1.0, \"#f0f921\"]]}, \"colorway\": [\"#636efa\", \"#EF553B\", \"#00cc96\", \"#ab63fa\", \"#FFA15A\", \"#19d3f3\", \"#FF6692\", \"#B6E880\", \"#FF97FF\", \"#FECB52\"], \"font\": {\"color\": \"#2a3f5f\"}, \"geo\": {\"bgcolor\": \"white\", \"lakecolor\": \"white\", \"landcolor\": \"#E5ECF6\", \"showlakes\": true, \"showland\": true, \"subunitcolor\": \"white\"}, \"hoverlabel\": {\"align\": \"left\"}, \"hovermode\": \"closest\", \"mapbox\": {\"style\": \"light\"}, \"paper_bgcolor\": \"white\", \"plot_bgcolor\": \"#E5ECF6\", \"polar\": {\"angularaxis\": {\"gridcolor\": \"white\", \"linecolor\": \"white\", \"ticks\": \"\"}, \"bgcolor\": \"#E5ECF6\", \"radialaxis\": {\"gridcolor\": \"white\", \"linecolor\": \"white\", \"ticks\": \"\"}}, \"scene\": {\"xaxis\": {\"backgroundcolor\": \"#E5ECF6\", \"gridcolor\": \"white\", \"gridwidth\": 2, \"linecolor\": \"white\", \"showbackground\": true, \"ticks\": \"\", \"zerolinecolor\": \"white\"}, \"yaxis\": {\"backgroundcolor\": \"#E5ECF6\", \"gridcolor\": \"white\", \"gridwidth\": 2, \"linecolor\": \"white\", \"showbackground\": true, \"ticks\": \"\", \"zerolinecolor\": \"white\"}, \"zaxis\": {\"backgroundcolor\": \"#E5ECF6\", \"gridcolor\": \"white\", \"gridwidth\": 2, \"linecolor\": \"white\", \"showbackground\": true, \"ticks\": \"\", \"zerolinecolor\": \"white\"}}, \"shapedefaults\": {\"line\": {\"color\": \"#2a3f5f\"}}, \"ternary\": {\"aaxis\": {\"gridcolor\": \"white\", \"linecolor\": \"white\", \"ticks\": \"\"}, \"baxis\": {\"gridcolor\": \"white\", \"linecolor\": \"white\", \"ticks\": \"\"}, \"bgcolor\": \"#E5ECF6\", \"caxis\": {\"gridcolor\": \"white\", \"linecolor\": \"white\", \"ticks\": \"\"}}, \"title\": {\"x\": 0.05}, \"xaxis\": {\"automargin\": true, \"gridcolor\": \"white\", \"linecolor\": \"white\", \"ticks\": \"\", \"title\": {\"standoff\": 15}, \"zerolinecolor\": \"white\", \"zerolinewidth\": 2}, \"yaxis\": {\"automargin\": true, \"gridcolor\": \"white\", \"linecolor\": \"white\", \"ticks\": \"\", \"title\": {\"standoff\": 15}, \"zerolinecolor\": \"white\", \"zerolinewidth\": 2}}}, \"title\": {\"text\": \"Visualizing Clusters in Two Dimensions Using T-SNE (perplexity=30)\"}, \"xaxis\": {\"ticklen\": 5, \"title\": {\"text\": \"TC1\"}, \"zeroline\": false}, \"yaxis\": {\"ticklen\": 5, \"title\": {\"text\": \"TC2\"}, \"zeroline\": false}},\n",
       "                        {\"responsive\": true}\n",
       "                    ).then(function(){\n",
       "                            \n",
       "var gd = document.getElementById('66a6440c-f1f7-4923-b319-8bad9eba74e4');\n",
       "var x = new MutationObserver(function (mutations, observer) {{\n",
       "        var display = window.getComputedStyle(gd).display;\n",
       "        if (!display || display === 'none') {{\n",
       "            console.log([gd, 'removed!']);\n",
       "            Plotly.purge(gd);\n",
       "            observer.disconnect();\n",
       "        }}\n",
       "}});\n",
       "\n",
       "// Listen for the removal of the full notebook cells\n",
       "var notebookContainer = gd.closest('#notebook-container');\n",
       "if (notebookContainer) {{\n",
       "    x.observe(notebookContainer, {childList: true});\n",
       "}}\n",
       "\n",
       "// Listen for the clearing of the current output cell\n",
       "var outputEl = gd.closest('.output');\n",
       "if (outputEl) {{\n",
       "    x.observe(outputEl, {childList: true});\n",
       "}}\n",
       "\n",
       "                        })\n",
       "                };\n",
       "                });\n",
       "            </script>\n",
       "        </div>"
      ]
     },
     "metadata": {},
     "output_type": "display_data"
    },
    {
     "data": {
      "application/vnd.plotly.v1+json": {
       "config": {
        "linkText": "Export to plot.ly",
        "plotlyServerURL": "https://plot.ly",
        "showLink": false
       },
       "data": [
        {
         "marker": {
          "color": "rgba(255, 128, 255, 0.8)"
         },
         "mode": "markers",
         "name": "Cluster: 0",
         "text": [
          "Sierra Leone",
          "Kenya",
          "Liechtenstein",
          "Ethiopia",
          "Sudan",
          "Benin",
          "West Bank and Gaza",
          "India",
          "Somalia",
          "Honduras",
          "Equatorial Guinea",
          "Bolivia",
          "Guinea-Bissau",
          "Zambia",
          "Bangladesh",
          "Indonesia",
          "Jamaica",
          "South Africa",
          "Angola",
          "Cote d'Ivoire",
          "Timor-Leste",
          "Kosovo",
          "Mali",
          "Gabon",
          "Malawi",
          "Mauritania",
          "Mozambique",
          "Haiti",
          "Guyana",
          "Philippines",
          "Ghana",
          "Madagascar",
          "Central African Republic",
          "Namibia",
          "Guatemala",
          "Cambodia",
          "Burundi",
          "Tanzania",
          "Zimbabwe",
          "Sao Tome and Principe",
          "Burkina Faso",
          "Senegal",
          "Papua New Guinea",
          "Guinea",
          "Rwanda",
          "Chad",
          "Niger",
          "Bhutan",
          "Cabo Verde",
          "Cameroon",
          "Pakistan"
         ],
         "type": "scatter",
         "x": [
          1.5269571542739868,
          1.073331594467163,
          -2.2442708015441895,
          0.4425504803657532,
          2.88669753074646,
          1.1031100749969482,
          -1.727562665939331,
          4.044623374938965,
          2.394965648651123,
          2.971022844314575,
          0.6173291206359863,
          1.7270885705947876,
          1.4065511226654053,
          2.346182107925415,
          -0.13860800862312317,
          0.6536122560501099,
          2.350128650665283,
          4.570666313171387,
          1.3521357774734497,
          1.4115229845046997,
          -0.14665815234184265,
          -2.245516300201416,
          1.1342744827270508,
          4.489260673522949,
          0.9425939917564392,
          2.0870821475982666,
          2.110640525817871,
          2.9607951641082764,
          2.9603841304779053,
          1.1019335985183716,
          1.7750717401504517,
          1.9961507320404053,
          0.2358638495206833,
          4.1856770515441895,
          1.545708179473877,
          2.1874780654907227,
          0.43381208181381226,
          1.0856499671936035,
          0.6888623237609863,
          3.1088223457336426,
          1.0799230337142944,
          1.1097002029418945,
          -0.2576298713684082,
          0.8423101305961609,
          0.5186887979507446,
          0.019338391721248627,
          -0.4848077893257141,
          1.85716712474823,
          2.9866504669189453,
          -0.26917192339897156,
          -0.081080861389637
         ],
         "y": [
          -4.529276371002197,
          -4.036835193634033,
          -2.8055450916290283,
          -4.853301048278809,
          -3.640126943588257,
          -5.024509906768799,
          -1.1561460494995117,
          -1.8794127702713013,
          -6.347740650177002,
          -0.6007252335548401,
          -6.578031063079834,
          -0.8197776079177856,
          -4.8179731369018555,
          -4.189352512359619,
          -4.037535190582275,
          -0.5745061635971069,
          -1.1884956359863281,
          -3.3252551555633545,
          -5.647781848907471,
          -4.680631160736084,
          -1.9239455461502075,
          -2.7757346630096436,
          -5.209161281585693,
          -3.355403184890747,
          -3.6240804195404053,
          -4.809440612792969,
          -5.483781337738037,
          -4.4314775466918945,
          -1.304710865020752,
          -1.3814953565597534,
          -3.892552614212036,
          -5.380074977874756,
          -5.997631072998047,
          -3.422020673751831,
          -1.447121024131775,
          -2.1366758346557617,
          -3.790876626968384,
          -3.928772449493408,
          -3.037569046020508,
          -3.0071394443511963,
          -4.623392581939697,
          -4.554536819458008,
          -1.9959266185760498,
          -5.879761695861816,
          -3.83363676071167,
          -6.0156660079956055,
          -5.456686973571777,
          -2.416700839996338,
          -2.5607547760009766,
          -4.740180969238281,
          -4.473654270172119
         ]
        },
        {
         "marker": {
          "color": "rgba(255, 128, 2, 0.8)"
         },
         "mode": "markers",
         "name": "Cluster: 1",
         "text": [
          "United States"
         ],
         "type": "scatter",
         "x": [
          -1.3347947597503662
         ],
         "y": [
          4.972742080688477
         ]
        },
        {
         "marker": {
          "color": "rgba(0, 255, 200, 0.8)"
         },
         "mode": "markers",
         "name": "Cluster: 2",
         "text": [
          "Slovenia",
          "Fiji",
          "Malta",
          "Paraguay",
          "Croatia",
          "Mongolia",
          "Denmark",
          "Ukraine",
          "Germany",
          "Algeria",
          "Azerbaijan",
          "Cyprus",
          "Bahrain",
          "Belgium",
          "Singapore",
          "Japan",
          "Andorra",
          "Morocco",
          "Spain",
          "Chile",
          "Brazil",
          "Kazakhstan",
          "Monaco",
          "Dominican Republic",
          "Mexico",
          "Mauritius",
          "Nicaragua",
          "Tunisia",
          "Uzbekistan",
          "Lebanon",
          "Finland",
          "Georgia",
          "Saudi Arabia",
          "Italy",
          "United Kingdom",
          "United Arab Emirates",
          "Albania",
          "Peru",
          "Suriname",
          "Moldova",
          "Lithuania",
          "Israel",
          "Netherlands",
          "Maldives",
          "Greece",
          "Serbia",
          "Turkey",
          "Antigua and Barbuda",
          "Estonia",
          "Cuba",
          "Ecuador",
          "Belarus",
          "Latvia",
          "Austria",
          "France",
          "Grenada",
          "Portugal",
          "Luxembourg",
          "Sweden",
          "Iceland",
          "San Marino",
          "El Salvador",
          "Belize",
          "Panama",
          "Costa Rica",
          "Dominica",
          "Hungary",
          "Qatar",
          "Oman",
          "Trinidad and Tobago",
          "Armenia",
          "China",
          "Uruguay",
          "Thailand",
          "Norway"
         ],
         "type": "scatter",
         "x": [
          3.548147678375244,
          2.8901374340057373,
          2.249972105026245,
          2.1788830757141113,
          2.8954029083251953,
          4.9199113845825195,
          1.7182704210281372,
          0.803027331829071,
          0.7036926746368408,
          1.9893128871917725,
          4.230052471160889,
          2.4850752353668213,
          5.48715353012085,
          2.9055490493774414,
          5.095484256744385,
          1.0975139141082764,
          5.683422565460205,
          2.589296340942383,
          -0.8582717180252075,
          1.6739050149917603,
          0.29124897718429565,
          3.1475398540496826,
          5.330124855041504,
          1.425551176071167,
          1.4165327548980713,
          3.1103174686431885,
          2.679405927658081,
          2.152235269546509,
          2.9016191959381104,
          1.2133978605270386,
          1.7043062448501587,
          4.561248302459717,
          -0.1662040650844574,
          -0.8534674644470215,
          -0.3594428300857544,
          5.48471212387085,
          2.447451591491699,
          1.6202462911605835,
          4.223730087280273,
          3.5519628524780273,
          3.3686227798461914,
          1.5659599304199219,
          2.7486860752105713,
          3.5252861976623535,
          1.9937536716461182,
          4.96782112121582,
          5.769528865814209,
          3.2553014755249023,
          3.1267149448394775,
          1.9002348184585571,
          1.7922559976577759,
          3.910480260848999,
          3.0274109840393066,
          1.9642691612243652,
          -0.5563345551490784,
          3.1283726692199707,
          2.466144561767578,
          1.9468650817871094,
          1.648966670036316,
          1.70993971824646,
          0.544337809085846,
          2.045025110244751,
          2.8025543689727783,
          2.047865152359009,
          1.668296217918396,
          5.65446662902832,
          3.53916335105896,
          6.057532787322998,
          3.8157122135162354,
          2.936150550842285,
          4.719943046569824,
          -0.6071990728378296,
          1.3868696689605713,
          3.169527292251587,
          1.7029932737350464
         ],
         "y": [
          4.386752605438232,
          0.6685906052589417,
          3.8795833587646484,
          0.00274524069391191,
          3.384357452392578,
          0.5445072650909424,
          5.510039806365967,
          3.5136406421661377,
          6.017972469329834,
          0.758660078048706,
          0.9361517429351807,
          2.6575727462768555,
          3.214538097381592,
          5.795822620391846,
          4.9405198097229,
          6.52389669418335,
          -0.788701057434082,
          0.1174529567360878,
          5.220832347869873,
          1.6481584310531616,
          0.6109012961387634,
          2.4476637840270996,
          5.200938701629639,
          0.6358561515808105,
          0.5638251900672913,
          1.7359551191329956,
          -0.9305903315544128,
          1.2649126052856445,
          1.1442668437957764,
          -0.21036045253276825,
          5.562562465667725,
          1.5997153520584106,
          1.7804237604141235,
          5.230348110198975,
          5.463016986846924,
          3.469662666320801,
          2.0938966274261475,
          -0.27946797013282776,
          0.6048252582550049,
          2.029883623123169,
          4.2131805419921875,
          2.4836926460266113,
          5.783889293670654,
          1.4058711528778076,
          3.2708864212036133,
          1.6631065607070923,
          1.0117542743682861,
          1.4348113536834717,
          4.049544811248779,
          2.5220062732696533,
          -0.5039204955101013,
          3.909518003463745,
          3.8311262130737305,
          5.864310264587402,
          5.407214164733887,
          1.3523929119110107,
          3.458000421524048,
          6.167551517486572,
          5.512053489685059,
          5.517274856567383,
          2.3650429248809814,
          -0.20373684167861938,
          -0.29539981484413147,
          0.3338785469532013,
          1.314180612564087,
          -0.78803551197052,
          4.389422416687012,
          3.2560975551605225,
          -0.6280159950256348,
          0.9517792463302612,
          1.432671308517456,
          -0.06319285929203033,
          2.0503649711608887,
          0.2920941114425659,
          5.642001628875732
         ]
        }
       ],
       "layout": {
        "template": {
         "data": {
          "bar": [
           {
            "error_x": {
             "color": "#2a3f5f"
            },
            "error_y": {
             "color": "#2a3f5f"
            },
            "marker": {
             "line": {
              "color": "#E5ECF6",
              "width": 0.5
             }
            },
            "type": "bar"
           }
          ],
          "barpolar": [
           {
            "marker": {
             "line": {
              "color": "#E5ECF6",
              "width": 0.5
             }
            },
            "type": "barpolar"
           }
          ],
          "carpet": [
           {
            "aaxis": {
             "endlinecolor": "#2a3f5f",
             "gridcolor": "white",
             "linecolor": "white",
             "minorgridcolor": "white",
             "startlinecolor": "#2a3f5f"
            },
            "baxis": {
             "endlinecolor": "#2a3f5f",
             "gridcolor": "white",
             "linecolor": "white",
             "minorgridcolor": "white",
             "startlinecolor": "#2a3f5f"
            },
            "type": "carpet"
           }
          ],
          "choropleth": [
           {
            "colorbar": {
             "outlinewidth": 0,
             "ticks": ""
            },
            "type": "choropleth"
           }
          ],
          "contour": [
           {
            "colorbar": {
             "outlinewidth": 0,
             "ticks": ""
            },
            "colorscale": [
             [
              0,
              "#0d0887"
             ],
             [
              0.1111111111111111,
              "#46039f"
             ],
             [
              0.2222222222222222,
              "#7201a8"
             ],
             [
              0.3333333333333333,
              "#9c179e"
             ],
             [
              0.4444444444444444,
              "#bd3786"
             ],
             [
              0.5555555555555556,
              "#d8576b"
             ],
             [
              0.6666666666666666,
              "#ed7953"
             ],
             [
              0.7777777777777778,
              "#fb9f3a"
             ],
             [
              0.8888888888888888,
              "#fdca26"
             ],
             [
              1,
              "#f0f921"
             ]
            ],
            "type": "contour"
           }
          ],
          "contourcarpet": [
           {
            "colorbar": {
             "outlinewidth": 0,
             "ticks": ""
            },
            "type": "contourcarpet"
           }
          ],
          "heatmap": [
           {
            "colorbar": {
             "outlinewidth": 0,
             "ticks": ""
            },
            "colorscale": [
             [
              0,
              "#0d0887"
             ],
             [
              0.1111111111111111,
              "#46039f"
             ],
             [
              0.2222222222222222,
              "#7201a8"
             ],
             [
              0.3333333333333333,
              "#9c179e"
             ],
             [
              0.4444444444444444,
              "#bd3786"
             ],
             [
              0.5555555555555556,
              "#d8576b"
             ],
             [
              0.6666666666666666,
              "#ed7953"
             ],
             [
              0.7777777777777778,
              "#fb9f3a"
             ],
             [
              0.8888888888888888,
              "#fdca26"
             ],
             [
              1,
              "#f0f921"
             ]
            ],
            "type": "heatmap"
           }
          ],
          "heatmapgl": [
           {
            "colorbar": {
             "outlinewidth": 0,
             "ticks": ""
            },
            "colorscale": [
             [
              0,
              "#0d0887"
             ],
             [
              0.1111111111111111,
              "#46039f"
             ],
             [
              0.2222222222222222,
              "#7201a8"
             ],
             [
              0.3333333333333333,
              "#9c179e"
             ],
             [
              0.4444444444444444,
              "#bd3786"
             ],
             [
              0.5555555555555556,
              "#d8576b"
             ],
             [
              0.6666666666666666,
              "#ed7953"
             ],
             [
              0.7777777777777778,
              "#fb9f3a"
             ],
             [
              0.8888888888888888,
              "#fdca26"
             ],
             [
              1,
              "#f0f921"
             ]
            ],
            "type": "heatmapgl"
           }
          ],
          "histogram": [
           {
            "marker": {
             "colorbar": {
              "outlinewidth": 0,
              "ticks": ""
             }
            },
            "type": "histogram"
           }
          ],
          "histogram2d": [
           {
            "colorbar": {
             "outlinewidth": 0,
             "ticks": ""
            },
            "colorscale": [
             [
              0,
              "#0d0887"
             ],
             [
              0.1111111111111111,
              "#46039f"
             ],
             [
              0.2222222222222222,
              "#7201a8"
             ],
             [
              0.3333333333333333,
              "#9c179e"
             ],
             [
              0.4444444444444444,
              "#bd3786"
             ],
             [
              0.5555555555555556,
              "#d8576b"
             ],
             [
              0.6666666666666666,
              "#ed7953"
             ],
             [
              0.7777777777777778,
              "#fb9f3a"
             ],
             [
              0.8888888888888888,
              "#fdca26"
             ],
             [
              1,
              "#f0f921"
             ]
            ],
            "type": "histogram2d"
           }
          ],
          "histogram2dcontour": [
           {
            "colorbar": {
             "outlinewidth": 0,
             "ticks": ""
            },
            "colorscale": [
             [
              0,
              "#0d0887"
             ],
             [
              0.1111111111111111,
              "#46039f"
             ],
             [
              0.2222222222222222,
              "#7201a8"
             ],
             [
              0.3333333333333333,
              "#9c179e"
             ],
             [
              0.4444444444444444,
              "#bd3786"
             ],
             [
              0.5555555555555556,
              "#d8576b"
             ],
             [
              0.6666666666666666,
              "#ed7953"
             ],
             [
              0.7777777777777778,
              "#fb9f3a"
             ],
             [
              0.8888888888888888,
              "#fdca26"
             ],
             [
              1,
              "#f0f921"
             ]
            ],
            "type": "histogram2dcontour"
           }
          ],
          "mesh3d": [
           {
            "colorbar": {
             "outlinewidth": 0,
             "ticks": ""
            },
            "type": "mesh3d"
           }
          ],
          "parcoords": [
           {
            "line": {
             "colorbar": {
              "outlinewidth": 0,
              "ticks": ""
             }
            },
            "type": "parcoords"
           }
          ],
          "pie": [
           {
            "automargin": true,
            "type": "pie"
           }
          ],
          "scatter": [
           {
            "marker": {
             "colorbar": {
              "outlinewidth": 0,
              "ticks": ""
             }
            },
            "type": "scatter"
           }
          ],
          "scatter3d": [
           {
            "line": {
             "colorbar": {
              "outlinewidth": 0,
              "ticks": ""
             }
            },
            "marker": {
             "colorbar": {
              "outlinewidth": 0,
              "ticks": ""
             }
            },
            "type": "scatter3d"
           }
          ],
          "scattercarpet": [
           {
            "marker": {
             "colorbar": {
              "outlinewidth": 0,
              "ticks": ""
             }
            },
            "type": "scattercarpet"
           }
          ],
          "scattergeo": [
           {
            "marker": {
             "colorbar": {
              "outlinewidth": 0,
              "ticks": ""
             }
            },
            "type": "scattergeo"
           }
          ],
          "scattergl": [
           {
            "marker": {
             "colorbar": {
              "outlinewidth": 0,
              "ticks": ""
             }
            },
            "type": "scattergl"
           }
          ],
          "scattermapbox": [
           {
            "marker": {
             "colorbar": {
              "outlinewidth": 0,
              "ticks": ""
             }
            },
            "type": "scattermapbox"
           }
          ],
          "scatterpolar": [
           {
            "marker": {
             "colorbar": {
              "outlinewidth": 0,
              "ticks": ""
             }
            },
            "type": "scatterpolar"
           }
          ],
          "scatterpolargl": [
           {
            "marker": {
             "colorbar": {
              "outlinewidth": 0,
              "ticks": ""
             }
            },
            "type": "scatterpolargl"
           }
          ],
          "scatterternary": [
           {
            "marker": {
             "colorbar": {
              "outlinewidth": 0,
              "ticks": ""
             }
            },
            "type": "scatterternary"
           }
          ],
          "surface": [
           {
            "colorbar": {
             "outlinewidth": 0,
             "ticks": ""
            },
            "colorscale": [
             [
              0,
              "#0d0887"
             ],
             [
              0.1111111111111111,
              "#46039f"
             ],
             [
              0.2222222222222222,
              "#7201a8"
             ],
             [
              0.3333333333333333,
              "#9c179e"
             ],
             [
              0.4444444444444444,
              "#bd3786"
             ],
             [
              0.5555555555555556,
              "#d8576b"
             ],
             [
              0.6666666666666666,
              "#ed7953"
             ],
             [
              0.7777777777777778,
              "#fb9f3a"
             ],
             [
              0.8888888888888888,
              "#fdca26"
             ],
             [
              1,
              "#f0f921"
             ]
            ],
            "type": "surface"
           }
          ],
          "table": [
           {
            "cells": {
             "fill": {
              "color": "#EBF0F8"
             },
             "line": {
              "color": "white"
             }
            },
            "header": {
             "fill": {
              "color": "#C8D4E3"
             },
             "line": {
              "color": "white"
             }
            },
            "type": "table"
           }
          ]
         },
         "layout": {
          "annotationdefaults": {
           "arrowcolor": "#2a3f5f",
           "arrowhead": 0,
           "arrowwidth": 1
          },
          "coloraxis": {
           "colorbar": {
            "outlinewidth": 0,
            "ticks": ""
           }
          },
          "colorscale": {
           "diverging": [
            [
             0,
             "#8e0152"
            ],
            [
             0.1,
             "#c51b7d"
            ],
            [
             0.2,
             "#de77ae"
            ],
            [
             0.3,
             "#f1b6da"
            ],
            [
             0.4,
             "#fde0ef"
            ],
            [
             0.5,
             "#f7f7f7"
            ],
            [
             0.6,
             "#e6f5d0"
            ],
            [
             0.7,
             "#b8e186"
            ],
            [
             0.8,
             "#7fbc41"
            ],
            [
             0.9,
             "#4d9221"
            ],
            [
             1,
             "#276419"
            ]
           ],
           "sequential": [
            [
             0,
             "#0d0887"
            ],
            [
             0.1111111111111111,
             "#46039f"
            ],
            [
             0.2222222222222222,
             "#7201a8"
            ],
            [
             0.3333333333333333,
             "#9c179e"
            ],
            [
             0.4444444444444444,
             "#bd3786"
            ],
            [
             0.5555555555555556,
             "#d8576b"
            ],
            [
             0.6666666666666666,
             "#ed7953"
            ],
            [
             0.7777777777777778,
             "#fb9f3a"
            ],
            [
             0.8888888888888888,
             "#fdca26"
            ],
            [
             1,
             "#f0f921"
            ]
           ],
           "sequentialminus": [
            [
             0,
             "#0d0887"
            ],
            [
             0.1111111111111111,
             "#46039f"
            ],
            [
             0.2222222222222222,
             "#7201a8"
            ],
            [
             0.3333333333333333,
             "#9c179e"
            ],
            [
             0.4444444444444444,
             "#bd3786"
            ],
            [
             0.5555555555555556,
             "#d8576b"
            ],
            [
             0.6666666666666666,
             "#ed7953"
            ],
            [
             0.7777777777777778,
             "#fb9f3a"
            ],
            [
             0.8888888888888888,
             "#fdca26"
            ],
            [
             1,
             "#f0f921"
            ]
           ]
          },
          "colorway": [
           "#636efa",
           "#EF553B",
           "#00cc96",
           "#ab63fa",
           "#FFA15A",
           "#19d3f3",
           "#FF6692",
           "#B6E880",
           "#FF97FF",
           "#FECB52"
          ],
          "font": {
           "color": "#2a3f5f"
          },
          "geo": {
           "bgcolor": "white",
           "lakecolor": "white",
           "landcolor": "#E5ECF6",
           "showlakes": true,
           "showland": true,
           "subunitcolor": "white"
          },
          "hoverlabel": {
           "align": "left"
          },
          "hovermode": "closest",
          "mapbox": {
           "style": "light"
          },
          "paper_bgcolor": "white",
          "plot_bgcolor": "#E5ECF6",
          "polar": {
           "angularaxis": {
            "gridcolor": "white",
            "linecolor": "white",
            "ticks": ""
           },
           "bgcolor": "#E5ECF6",
           "radialaxis": {
            "gridcolor": "white",
            "linecolor": "white",
            "ticks": ""
           }
          },
          "scene": {
           "xaxis": {
            "backgroundcolor": "#E5ECF6",
            "gridcolor": "white",
            "gridwidth": 2,
            "linecolor": "white",
            "showbackground": true,
            "ticks": "",
            "zerolinecolor": "white"
           },
           "yaxis": {
            "backgroundcolor": "#E5ECF6",
            "gridcolor": "white",
            "gridwidth": 2,
            "linecolor": "white",
            "showbackground": true,
            "ticks": "",
            "zerolinecolor": "white"
           },
           "zaxis": {
            "backgroundcolor": "#E5ECF6",
            "gridcolor": "white",
            "gridwidth": 2,
            "linecolor": "white",
            "showbackground": true,
            "ticks": "",
            "zerolinecolor": "white"
           }
          },
          "shapedefaults": {
           "line": {
            "color": "#2a3f5f"
           }
          },
          "ternary": {
           "aaxis": {
            "gridcolor": "white",
            "linecolor": "white",
            "ticks": ""
           },
           "baxis": {
            "gridcolor": "white",
            "linecolor": "white",
            "ticks": ""
           },
           "bgcolor": "#E5ECF6",
           "caxis": {
            "gridcolor": "white",
            "linecolor": "white",
            "ticks": ""
           }
          },
          "title": {
           "x": 0.05
          },
          "xaxis": {
           "automargin": true,
           "gridcolor": "white",
           "linecolor": "white",
           "ticks": "",
           "title": {
            "standoff": 15
           },
           "zerolinecolor": "white",
           "zerolinewidth": 2
          },
          "yaxis": {
           "automargin": true,
           "gridcolor": "white",
           "linecolor": "white",
           "ticks": "",
           "title": {
            "standoff": 15
           },
           "zerolinecolor": "white",
           "zerolinewidth": 2
          }
         }
        },
        "title": {
         "text": "Visualizing Clusters in Two Dimensions Using T-SNE (perplexity=40)"
        },
        "xaxis": {
         "ticklen": 5,
         "title": {
          "text": "TC1"
         },
         "zeroline": false
        },
        "yaxis": {
         "ticklen": 5,
         "title": {
          "text": "TC2"
         },
         "zeroline": false
        }
       }
      },
      "text/html": [
       "<div>\n",
       "        \n",
       "        \n",
       "            <div id=\"e7c8aeb5-ef3c-4283-a4d7-39d7d59b127e\" class=\"plotly-graph-div\" style=\"height:525px; width:100%;\"></div>\n",
       "            <script type=\"text/javascript\">\n",
       "                require([\"plotly\"], function(Plotly) {\n",
       "                    window.PLOTLYENV=window.PLOTLYENV || {};\n",
       "                    \n",
       "                if (document.getElementById(\"e7c8aeb5-ef3c-4283-a4d7-39d7d59b127e\")) {\n",
       "                    Plotly.newPlot(\n",
       "                        'e7c8aeb5-ef3c-4283-a4d7-39d7d59b127e',\n",
       "                        [{\"marker\": {\"color\": \"rgba(255, 128, 255, 0.8)\"}, \"mode\": \"markers\", \"name\": \"Cluster: 0\", \"text\": [\"Sierra Leone\", \"Kenya\", \"Liechtenstein\", \"Ethiopia\", \"Sudan\", \"Benin\", \"West Bank and Gaza\", \"India\", \"Somalia\", \"Honduras\", \"Equatorial Guinea\", \"Bolivia\", \"Guinea-Bissau\", \"Zambia\", \"Bangladesh\", \"Indonesia\", \"Jamaica\", \"South Africa\", \"Angola\", \"Cote d'Ivoire\", \"Timor-Leste\", \"Kosovo\", \"Mali\", \"Gabon\", \"Malawi\", \"Mauritania\", \"Mozambique\", \"Haiti\", \"Guyana\", \"Philippines\", \"Ghana\", \"Madagascar\", \"Central African Republic\", \"Namibia\", \"Guatemala\", \"Cambodia\", \"Burundi\", \"Tanzania\", \"Zimbabwe\", \"Sao Tome and Principe\", \"Burkina Faso\", \"Senegal\", \"Papua New Guinea\", \"Guinea\", \"Rwanda\", \"Chad\", \"Niger\", \"Bhutan\", \"Cabo Verde\", \"Cameroon\", \"Pakistan\"], \"type\": \"scatter\", \"x\": [1.5269571542739868, 1.073331594467163, -2.2442708015441895, 0.4425504803657532, 2.88669753074646, 1.1031100749969482, -1.727562665939331, 4.044623374938965, 2.394965648651123, 2.971022844314575, 0.6173291206359863, 1.7270885705947876, 1.4065511226654053, 2.346182107925415, -0.13860800862312317, 0.6536122560501099, 2.350128650665283, 4.570666313171387, 1.3521357774734497, 1.4115229845046997, -0.14665815234184265, -2.245516300201416, 1.1342744827270508, 4.489260673522949, 0.9425939917564392, 2.0870821475982666, 2.110640525817871, 2.9607951641082764, 2.9603841304779053, 1.1019335985183716, 1.7750717401504517, 1.9961507320404053, 0.2358638495206833, 4.1856770515441895, 1.545708179473877, 2.1874780654907227, 0.43381208181381226, 1.0856499671936035, 0.6888623237609863, 3.1088223457336426, 1.0799230337142944, 1.1097002029418945, -0.2576298713684082, 0.8423101305961609, 0.5186887979507446, 0.019338391721248627, -0.4848077893257141, 1.85716712474823, 2.9866504669189453, -0.26917192339897156, -0.081080861389637], \"y\": [-4.529276371002197, -4.036835193634033, -2.8055450916290283, -4.853301048278809, -3.640126943588257, -5.024509906768799, -1.1561460494995117, -1.8794127702713013, -6.347740650177002, -0.6007252335548401, -6.578031063079834, -0.8197776079177856, -4.8179731369018555, -4.189352512359619, -4.037535190582275, -0.5745061635971069, -1.1884956359863281, -3.3252551555633545, -5.647781848907471, -4.680631160736084, -1.9239455461502075, -2.7757346630096436, -5.209161281585693, -3.355403184890747, -3.6240804195404053, -4.809440612792969, -5.483781337738037, -4.4314775466918945, -1.304710865020752, -1.3814953565597534, -3.892552614212036, -5.380074977874756, -5.997631072998047, -3.422020673751831, -1.447121024131775, -2.1366758346557617, -3.790876626968384, -3.928772449493408, -3.037569046020508, -3.0071394443511963, -4.623392581939697, -4.554536819458008, -1.9959266185760498, -5.879761695861816, -3.83363676071167, -6.0156660079956055, -5.456686973571777, -2.416700839996338, -2.5607547760009766, -4.740180969238281, -4.473654270172119]}, {\"marker\": {\"color\": \"rgba(255, 128, 2, 0.8)\"}, \"mode\": \"markers\", \"name\": \"Cluster: 1\", \"text\": [\"United States\"], \"type\": \"scatter\", \"x\": [-1.3347947597503662], \"y\": [4.972742080688477]}, {\"marker\": {\"color\": \"rgba(0, 255, 200, 0.8)\"}, \"mode\": \"markers\", \"name\": \"Cluster: 2\", \"text\": [\"Slovenia\", \"Fiji\", \"Malta\", \"Paraguay\", \"Croatia\", \"Mongolia\", \"Denmark\", \"Ukraine\", \"Germany\", \"Algeria\", \"Azerbaijan\", \"Cyprus\", \"Bahrain\", \"Belgium\", \"Singapore\", \"Japan\", \"Andorra\", \"Morocco\", \"Spain\", \"Chile\", \"Brazil\", \"Kazakhstan\", \"Monaco\", \"Dominican Republic\", \"Mexico\", \"Mauritius\", \"Nicaragua\", \"Tunisia\", \"Uzbekistan\", \"Lebanon\", \"Finland\", \"Georgia\", \"Saudi Arabia\", \"Italy\", \"United Kingdom\", \"United Arab Emirates\", \"Albania\", \"Peru\", \"Suriname\", \"Moldova\", \"Lithuania\", \"Israel\", \"Netherlands\", \"Maldives\", \"Greece\", \"Serbia\", \"Turkey\", \"Antigua and Barbuda\", \"Estonia\", \"Cuba\", \"Ecuador\", \"Belarus\", \"Latvia\", \"Austria\", \"France\", \"Grenada\", \"Portugal\", \"Luxembourg\", \"Sweden\", \"Iceland\", \"San Marino\", \"El Salvador\", \"Belize\", \"Panama\", \"Costa Rica\", \"Dominica\", \"Hungary\", \"Qatar\", \"Oman\", \"Trinidad and Tobago\", \"Armenia\", \"China\", \"Uruguay\", \"Thailand\", \"Norway\"], \"type\": \"scatter\", \"x\": [3.548147678375244, 2.8901374340057373, 2.249972105026245, 2.1788830757141113, 2.8954029083251953, 4.9199113845825195, 1.7182704210281372, 0.803027331829071, 0.7036926746368408, 1.9893128871917725, 4.230052471160889, 2.4850752353668213, 5.48715353012085, 2.9055490493774414, 5.095484256744385, 1.0975139141082764, 5.683422565460205, 2.589296340942383, -0.8582717180252075, 1.6739050149917603, 0.29124897718429565, 3.1475398540496826, 5.330124855041504, 1.425551176071167, 1.4165327548980713, 3.1103174686431885, 2.679405927658081, 2.152235269546509, 2.9016191959381104, 1.2133978605270386, 1.7043062448501587, 4.561248302459717, -0.1662040650844574, -0.8534674644470215, -0.3594428300857544, 5.48471212387085, 2.447451591491699, 1.6202462911605835, 4.223730087280273, 3.5519628524780273, 3.3686227798461914, 1.5659599304199219, 2.7486860752105713, 3.5252861976623535, 1.9937536716461182, 4.96782112121582, 5.769528865814209, 3.2553014755249023, 3.1267149448394775, 1.9002348184585571, 1.7922559976577759, 3.910480260848999, 3.0274109840393066, 1.9642691612243652, -0.5563345551490784, 3.1283726692199707, 2.466144561767578, 1.9468650817871094, 1.648966670036316, 1.70993971824646, 0.544337809085846, 2.045025110244751, 2.8025543689727783, 2.047865152359009, 1.668296217918396, 5.65446662902832, 3.53916335105896, 6.057532787322998, 3.8157122135162354, 2.936150550842285, 4.719943046569824, -0.6071990728378296, 1.3868696689605713, 3.169527292251587, 1.7029932737350464], \"y\": [4.386752605438232, 0.6685906052589417, 3.8795833587646484, 0.00274524069391191, 3.384357452392578, 0.5445072650909424, 5.510039806365967, 3.5136406421661377, 6.017972469329834, 0.758660078048706, 0.9361517429351807, 2.6575727462768555, 3.214538097381592, 5.795822620391846, 4.9405198097229, 6.52389669418335, -0.788701057434082, 0.1174529567360878, 5.220832347869873, 1.6481584310531616, 0.6109012961387634, 2.4476637840270996, 5.200938701629639, 0.6358561515808105, 0.5638251900672913, 1.7359551191329956, -0.9305903315544128, 1.2649126052856445, 1.1442668437957764, -0.21036045253276825, 5.562562465667725, 1.5997153520584106, 1.7804237604141235, 5.230348110198975, 5.463016986846924, 3.469662666320801, 2.0938966274261475, -0.27946797013282776, 0.6048252582550049, 2.029883623123169, 4.2131805419921875, 2.4836926460266113, 5.783889293670654, 1.4058711528778076, 3.2708864212036133, 1.6631065607070923, 1.0117542743682861, 1.4348113536834717, 4.049544811248779, 2.5220062732696533, -0.5039204955101013, 3.909518003463745, 3.8311262130737305, 5.864310264587402, 5.407214164733887, 1.3523929119110107, 3.458000421524048, 6.167551517486572, 5.512053489685059, 5.517274856567383, 2.3650429248809814, -0.20373684167861938, -0.29539981484413147, 0.3338785469532013, 1.314180612564087, -0.78803551197052, 4.389422416687012, 3.2560975551605225, -0.6280159950256348, 0.9517792463302612, 1.432671308517456, -0.06319285929203033, 2.0503649711608887, 0.2920941114425659, 5.642001628875732]}],\n",
       "                        {\"template\": {\"data\": {\"bar\": [{\"error_x\": {\"color\": \"#2a3f5f\"}, \"error_y\": {\"color\": \"#2a3f5f\"}, \"marker\": {\"line\": {\"color\": \"#E5ECF6\", \"width\": 0.5}}, \"type\": \"bar\"}], \"barpolar\": [{\"marker\": {\"line\": {\"color\": \"#E5ECF6\", \"width\": 0.5}}, \"type\": \"barpolar\"}], \"carpet\": [{\"aaxis\": {\"endlinecolor\": \"#2a3f5f\", \"gridcolor\": \"white\", \"linecolor\": \"white\", \"minorgridcolor\": \"white\", \"startlinecolor\": \"#2a3f5f\"}, \"baxis\": {\"endlinecolor\": \"#2a3f5f\", \"gridcolor\": \"white\", \"linecolor\": \"white\", \"minorgridcolor\": \"white\", \"startlinecolor\": \"#2a3f5f\"}, \"type\": \"carpet\"}], \"choropleth\": [{\"colorbar\": {\"outlinewidth\": 0, \"ticks\": \"\"}, \"type\": \"choropleth\"}], \"contour\": [{\"colorbar\": {\"outlinewidth\": 0, \"ticks\": \"\"}, \"colorscale\": [[0.0, \"#0d0887\"], [0.1111111111111111, \"#46039f\"], [0.2222222222222222, \"#7201a8\"], [0.3333333333333333, \"#9c179e\"], [0.4444444444444444, \"#bd3786\"], [0.5555555555555556, \"#d8576b\"], [0.6666666666666666, \"#ed7953\"], [0.7777777777777778, \"#fb9f3a\"], [0.8888888888888888, \"#fdca26\"], [1.0, \"#f0f921\"]], \"type\": \"contour\"}], \"contourcarpet\": [{\"colorbar\": {\"outlinewidth\": 0, \"ticks\": \"\"}, \"type\": \"contourcarpet\"}], \"heatmap\": [{\"colorbar\": {\"outlinewidth\": 0, \"ticks\": \"\"}, \"colorscale\": [[0.0, \"#0d0887\"], [0.1111111111111111, \"#46039f\"], [0.2222222222222222, \"#7201a8\"], [0.3333333333333333, \"#9c179e\"], [0.4444444444444444, \"#bd3786\"], [0.5555555555555556, \"#d8576b\"], [0.6666666666666666, \"#ed7953\"], [0.7777777777777778, \"#fb9f3a\"], [0.8888888888888888, \"#fdca26\"], [1.0, \"#f0f921\"]], \"type\": \"heatmap\"}], \"heatmapgl\": [{\"colorbar\": {\"outlinewidth\": 0, \"ticks\": \"\"}, \"colorscale\": [[0.0, \"#0d0887\"], [0.1111111111111111, \"#46039f\"], [0.2222222222222222, \"#7201a8\"], [0.3333333333333333, \"#9c179e\"], [0.4444444444444444, \"#bd3786\"], [0.5555555555555556, \"#d8576b\"], [0.6666666666666666, \"#ed7953\"], [0.7777777777777778, \"#fb9f3a\"], [0.8888888888888888, \"#fdca26\"], [1.0, \"#f0f921\"]], \"type\": \"heatmapgl\"}], \"histogram\": [{\"marker\": {\"colorbar\": {\"outlinewidth\": 0, \"ticks\": \"\"}}, \"type\": \"histogram\"}], \"histogram2d\": [{\"colorbar\": {\"outlinewidth\": 0, \"ticks\": \"\"}, \"colorscale\": [[0.0, \"#0d0887\"], [0.1111111111111111, \"#46039f\"], [0.2222222222222222, \"#7201a8\"], [0.3333333333333333, \"#9c179e\"], [0.4444444444444444, \"#bd3786\"], [0.5555555555555556, \"#d8576b\"], [0.6666666666666666, \"#ed7953\"], [0.7777777777777778, \"#fb9f3a\"], [0.8888888888888888, \"#fdca26\"], [1.0, \"#f0f921\"]], \"type\": \"histogram2d\"}], \"histogram2dcontour\": [{\"colorbar\": {\"outlinewidth\": 0, \"ticks\": \"\"}, \"colorscale\": [[0.0, \"#0d0887\"], [0.1111111111111111, \"#46039f\"], [0.2222222222222222, \"#7201a8\"], [0.3333333333333333, \"#9c179e\"], [0.4444444444444444, \"#bd3786\"], [0.5555555555555556, \"#d8576b\"], [0.6666666666666666, \"#ed7953\"], [0.7777777777777778, \"#fb9f3a\"], [0.8888888888888888, \"#fdca26\"], [1.0, \"#f0f921\"]], \"type\": \"histogram2dcontour\"}], \"mesh3d\": [{\"colorbar\": {\"outlinewidth\": 0, \"ticks\": \"\"}, \"type\": \"mesh3d\"}], \"parcoords\": [{\"line\": {\"colorbar\": {\"outlinewidth\": 0, \"ticks\": \"\"}}, \"type\": \"parcoords\"}], \"pie\": [{\"automargin\": true, \"type\": \"pie\"}], \"scatter\": [{\"marker\": {\"colorbar\": {\"outlinewidth\": 0, \"ticks\": \"\"}}, \"type\": \"scatter\"}], \"scatter3d\": [{\"line\": {\"colorbar\": {\"outlinewidth\": 0, \"ticks\": \"\"}}, \"marker\": {\"colorbar\": {\"outlinewidth\": 0, \"ticks\": \"\"}}, \"type\": \"scatter3d\"}], \"scattercarpet\": [{\"marker\": {\"colorbar\": {\"outlinewidth\": 0, \"ticks\": \"\"}}, \"type\": \"scattercarpet\"}], \"scattergeo\": [{\"marker\": {\"colorbar\": {\"outlinewidth\": 0, \"ticks\": \"\"}}, \"type\": \"scattergeo\"}], \"scattergl\": [{\"marker\": {\"colorbar\": {\"outlinewidth\": 0, \"ticks\": \"\"}}, \"type\": \"scattergl\"}], \"scattermapbox\": [{\"marker\": {\"colorbar\": {\"outlinewidth\": 0, \"ticks\": \"\"}}, \"type\": \"scattermapbox\"}], \"scatterpolar\": [{\"marker\": {\"colorbar\": {\"outlinewidth\": 0, \"ticks\": \"\"}}, \"type\": \"scatterpolar\"}], \"scatterpolargl\": [{\"marker\": {\"colorbar\": {\"outlinewidth\": 0, \"ticks\": \"\"}}, \"type\": \"scatterpolargl\"}], \"scatterternary\": [{\"marker\": {\"colorbar\": {\"outlinewidth\": 0, \"ticks\": \"\"}}, \"type\": \"scatterternary\"}], \"surface\": [{\"colorbar\": {\"outlinewidth\": 0, \"ticks\": \"\"}, \"colorscale\": [[0.0, \"#0d0887\"], [0.1111111111111111, \"#46039f\"], [0.2222222222222222, \"#7201a8\"], [0.3333333333333333, \"#9c179e\"], [0.4444444444444444, \"#bd3786\"], [0.5555555555555556, \"#d8576b\"], [0.6666666666666666, \"#ed7953\"], [0.7777777777777778, \"#fb9f3a\"], [0.8888888888888888, \"#fdca26\"], [1.0, \"#f0f921\"]], \"type\": \"surface\"}], \"table\": [{\"cells\": {\"fill\": {\"color\": \"#EBF0F8\"}, \"line\": {\"color\": \"white\"}}, \"header\": {\"fill\": {\"color\": \"#C8D4E3\"}, \"line\": {\"color\": \"white\"}}, \"type\": \"table\"}]}, \"layout\": {\"annotationdefaults\": {\"arrowcolor\": \"#2a3f5f\", \"arrowhead\": 0, \"arrowwidth\": 1}, \"coloraxis\": {\"colorbar\": {\"outlinewidth\": 0, \"ticks\": \"\"}}, \"colorscale\": {\"diverging\": [[0, \"#8e0152\"], [0.1, \"#c51b7d\"], [0.2, \"#de77ae\"], [0.3, \"#f1b6da\"], [0.4, \"#fde0ef\"], [0.5, \"#f7f7f7\"], [0.6, \"#e6f5d0\"], [0.7, \"#b8e186\"], [0.8, \"#7fbc41\"], [0.9, \"#4d9221\"], [1, \"#276419\"]], \"sequential\": [[0.0, \"#0d0887\"], [0.1111111111111111, \"#46039f\"], [0.2222222222222222, \"#7201a8\"], [0.3333333333333333, \"#9c179e\"], [0.4444444444444444, \"#bd3786\"], [0.5555555555555556, \"#d8576b\"], [0.6666666666666666, \"#ed7953\"], [0.7777777777777778, \"#fb9f3a\"], [0.8888888888888888, \"#fdca26\"], [1.0, \"#f0f921\"]], \"sequentialminus\": [[0.0, \"#0d0887\"], [0.1111111111111111, \"#46039f\"], [0.2222222222222222, \"#7201a8\"], [0.3333333333333333, \"#9c179e\"], [0.4444444444444444, \"#bd3786\"], [0.5555555555555556, \"#d8576b\"], [0.6666666666666666, \"#ed7953\"], [0.7777777777777778, \"#fb9f3a\"], [0.8888888888888888, \"#fdca26\"], [1.0, \"#f0f921\"]]}, \"colorway\": [\"#636efa\", \"#EF553B\", \"#00cc96\", \"#ab63fa\", \"#FFA15A\", \"#19d3f3\", \"#FF6692\", \"#B6E880\", \"#FF97FF\", \"#FECB52\"], \"font\": {\"color\": \"#2a3f5f\"}, \"geo\": {\"bgcolor\": \"white\", \"lakecolor\": \"white\", \"landcolor\": \"#E5ECF6\", \"showlakes\": true, \"showland\": true, \"subunitcolor\": \"white\"}, \"hoverlabel\": {\"align\": \"left\"}, \"hovermode\": \"closest\", \"mapbox\": {\"style\": \"light\"}, \"paper_bgcolor\": \"white\", \"plot_bgcolor\": \"#E5ECF6\", \"polar\": {\"angularaxis\": {\"gridcolor\": \"white\", \"linecolor\": \"white\", \"ticks\": \"\"}, \"bgcolor\": \"#E5ECF6\", \"radialaxis\": {\"gridcolor\": \"white\", \"linecolor\": \"white\", \"ticks\": \"\"}}, \"scene\": {\"xaxis\": {\"backgroundcolor\": \"#E5ECF6\", \"gridcolor\": \"white\", \"gridwidth\": 2, \"linecolor\": \"white\", \"showbackground\": true, \"ticks\": \"\", \"zerolinecolor\": \"white\"}, \"yaxis\": {\"backgroundcolor\": \"#E5ECF6\", \"gridcolor\": \"white\", \"gridwidth\": 2, \"linecolor\": \"white\", \"showbackground\": true, \"ticks\": \"\", \"zerolinecolor\": \"white\"}, \"zaxis\": {\"backgroundcolor\": \"#E5ECF6\", \"gridcolor\": \"white\", \"gridwidth\": 2, \"linecolor\": \"white\", \"showbackground\": true, \"ticks\": \"\", \"zerolinecolor\": \"white\"}}, \"shapedefaults\": {\"line\": {\"color\": \"#2a3f5f\"}}, \"ternary\": {\"aaxis\": {\"gridcolor\": \"white\", \"linecolor\": \"white\", \"ticks\": \"\"}, \"baxis\": {\"gridcolor\": \"white\", \"linecolor\": \"white\", \"ticks\": \"\"}, \"bgcolor\": \"#E5ECF6\", \"caxis\": {\"gridcolor\": \"white\", \"linecolor\": \"white\", \"ticks\": \"\"}}, \"title\": {\"x\": 0.05}, \"xaxis\": {\"automargin\": true, \"gridcolor\": \"white\", \"linecolor\": \"white\", \"ticks\": \"\", \"title\": {\"standoff\": 15}, \"zerolinecolor\": \"white\", \"zerolinewidth\": 2}, \"yaxis\": {\"automargin\": true, \"gridcolor\": \"white\", \"linecolor\": \"white\", \"ticks\": \"\", \"title\": {\"standoff\": 15}, \"zerolinecolor\": \"white\", \"zerolinewidth\": 2}}}, \"title\": {\"text\": \"Visualizing Clusters in Two Dimensions Using T-SNE (perplexity=40)\"}, \"xaxis\": {\"ticklen\": 5, \"title\": {\"text\": \"TC1\"}, \"zeroline\": false}, \"yaxis\": {\"ticklen\": 5, \"title\": {\"text\": \"TC2\"}, \"zeroline\": false}},\n",
       "                        {\"responsive\": true}\n",
       "                    ).then(function(){\n",
       "                            \n",
       "var gd = document.getElementById('e7c8aeb5-ef3c-4283-a4d7-39d7d59b127e');\n",
       "var x = new MutationObserver(function (mutations, observer) {{\n",
       "        var display = window.getComputedStyle(gd).display;\n",
       "        if (!display || display === 'none') {{\n",
       "            console.log([gd, 'removed!']);\n",
       "            Plotly.purge(gd);\n",
       "            observer.disconnect();\n",
       "        }}\n",
       "}});\n",
       "\n",
       "// Listen for the removal of the full notebook cells\n",
       "var notebookContainer = gd.closest('#notebook-container');\n",
       "if (notebookContainer) {{\n",
       "    x.observe(notebookContainer, {childList: true});\n",
       "}}\n",
       "\n",
       "// Listen for the clearing of the current output cell\n",
       "var outputEl = gd.closest('.output');\n",
       "if (outputEl) {{\n",
       "    x.observe(outputEl, {childList: true});\n",
       "}}\n",
       "\n",
       "                        })\n",
       "                };\n",
       "                });\n",
       "            </script>\n",
       "        </div>"
      ]
     },
     "metadata": {},
     "output_type": "display_data"
    },
    {
     "data": {
      "application/vnd.plotly.v1+json": {
       "config": {
        "linkText": "Export to plot.ly",
        "plotlyServerURL": "https://plot.ly",
        "showLink": false
       },
       "data": [
        {
         "marker": {
          "color": "rgba(255, 128, 255, 0.8)"
         },
         "mode": "markers",
         "name": "Cluster: 0",
         "text": [
          "Sierra Leone",
          "Kenya",
          "Liechtenstein",
          "Ethiopia",
          "Sudan",
          "Benin",
          "West Bank and Gaza",
          "India",
          "Somalia",
          "Honduras",
          "Equatorial Guinea",
          "Bolivia",
          "Guinea-Bissau",
          "Zambia",
          "Bangladesh",
          "Indonesia",
          "Jamaica",
          "South Africa",
          "Angola",
          "Cote d'Ivoire",
          "Timor-Leste",
          "Kosovo",
          "Mali",
          "Gabon",
          "Malawi",
          "Mauritania",
          "Mozambique",
          "Haiti",
          "Guyana",
          "Philippines",
          "Ghana",
          "Madagascar",
          "Central African Republic",
          "Namibia",
          "Guatemala",
          "Cambodia",
          "Burundi",
          "Tanzania",
          "Zimbabwe",
          "Sao Tome and Principe",
          "Burkina Faso",
          "Senegal",
          "Papua New Guinea",
          "Guinea",
          "Rwanda",
          "Chad",
          "Niger",
          "Bhutan",
          "Cabo Verde",
          "Cameroon",
          "Pakistan"
         ],
         "type": "scatter",
         "x": [
          -10.785661697387695,
          -10.685906410217285,
          -11.484108924865723,
          -11.437154769897461,
          -10.004454612731934,
          -11.193963050842285,
          -10.231616973876953,
          -6.974842071533203,
          -11.681196212768555,
          -7.9195637702941895,
          -12.497769355773926,
          -8.284811019897461,
          -11.047313690185547,
          -10.118806838989258,
          -10.88948917388916,
          -8.154350280761719,
          -8.352888107299805,
          -9.929927825927734,
          -11.45631217956543,
          -10.755595207214355,
          -8.865638732910156,
          -11.494330406188965,
          -11.313250541687012,
          -8.714022636413574,
          -10.575104713439941,
          -10.735830307006836,
          -11.1675386428833,
          -9.913713455200195,
          -8.55029010772705,
          -8.940804481506348,
          -10.127453804016113,
          -11.072805404663086,
          -12.248388290405273,
          -9.0158109664917,
          -8.887280464172363,
          -9.404747009277344,
          -10.89552116394043,
          -10.526878356933594,
          -10.06046199798584,
          -9.150360107421875,
          -10.997172355651855,
          -10.594253540039062,
          -9.148488998413086,
          -11.9215087890625,
          -10.658764839172363,
          -12.386470794677734,
          -12.232208251953125,
          -9.494890213012695,
          -8.855086326599121,
          -11.6106538772583,
          -11.326781272888184
         ],
         "y": [
          7.130405902862549,
          6.698998928070068,
          3.871077060699463,
          6.6029229164123535,
          8.334406852722168,
          7.094823360443115,
          3.7660930156707764,
          9.924530982971191,
          8.641135215759277,
          6.545883655548096,
          7.4731292724609375,
          6.348021030426025,
          7.179965019226074,
          7.522034168243408,
          5.860371112823486,
          7.019615650177002,
          6.470818042755127,
          4.32694673538208,
          7.563162326812744,
          7.134929180145264,
          4.468569755554199,
          3.873823881149292,
          7.21612548828125,
          8.514049530029297,
          6.329415321350098,
          7.688070774078369,
          7.973084926605225,
          7.890873908996582,
          5.5206618309021,
          6.176869869232178,
          7.174895763397217,
          7.822190284729004,
          6.993402004241943,
          8.203001022338867,
          6.312064170837402,
          5.483232498168945,
          6.104979038238525,
          6.646044731140137,
          6.096925258636475,
          7.723843097686768,
          6.95078182220459,
          6.967884540557861,
          4.514649868011475,
          7.248056411743164,
          6.190901279449463,
          6.837202548980713,
          6.257343769073486,
          6.234084606170654,
          7.3821282386779785,
          6.080101013183594,
          6.118855953216553
         ]
        },
        {
         "marker": {
          "color": "rgba(255, 128, 2, 0.8)"
         },
         "mode": "markers",
         "name": "Cluster: 1",
         "text": [
          "United States"
         ],
         "type": "scatter",
         "x": [
          -2.2498562335968018
         ],
         "y": [
          7.132094860076904
         ]
        },
        {
         "marker": {
          "color": "rgba(0, 255, 200, 0.8)"
         },
         "mode": "markers",
         "name": "Cluster: 2",
         "text": [
          "Slovenia",
          "Fiji",
          "Malta",
          "Paraguay",
          "Croatia",
          "Mongolia",
          "Denmark",
          "Ukraine",
          "Germany",
          "Algeria",
          "Azerbaijan",
          "Cyprus",
          "Bahrain",
          "Belgium",
          "Singapore",
          "Japan",
          "Andorra",
          "Morocco",
          "Spain",
          "Chile",
          "Brazil",
          "Kazakhstan",
          "Monaco",
          "Dominican Republic",
          "Mexico",
          "Mauritius",
          "Nicaragua",
          "Tunisia",
          "Uzbekistan",
          "Lebanon",
          "Finland",
          "Georgia",
          "Saudi Arabia",
          "Italy",
          "United Kingdom",
          "United Arab Emirates",
          "Albania",
          "Peru",
          "Suriname",
          "Moldova",
          "Lithuania",
          "Israel",
          "Netherlands",
          "Maldives",
          "Greece",
          "Serbia",
          "Turkey",
          "Antigua and Barbuda",
          "Estonia",
          "Cuba",
          "Ecuador",
          "Belarus",
          "Latvia",
          "Austria",
          "France",
          "Grenada",
          "Portugal",
          "Luxembourg",
          "Sweden",
          "Iceland",
          "San Marino",
          "El Salvador",
          "Belize",
          "Panama",
          "Costa Rica",
          "Dominica",
          "Hungary",
          "Qatar",
          "Oman",
          "Trinidad and Tobago",
          "Armenia",
          "China",
          "Uruguay",
          "Thailand",
          "Norway"
         ],
         "type": "scatter",
         "x": [
          -4.772278308868408,
          -7.138949871063232,
          -4.833116054534912,
          -7.570809364318848,
          -5.337995529174805,
          -6.466786861419678,
          -3.5446324348449707,
          -5.887945175170898,
          -2.5959200859069824,
          -6.975690841674805,
          -6.460102558135986,
          -5.765415668487549,
          -7.342218399047852,
          -3.4699020385742188,
          -5.022165775299072,
          -2.589900016784668,
          -4.482739448547363,
          -7.328517436981201,
          -2.36702823638916,
          -6.239822864532471,
          -7.091197490692139,
          -6.249326229095459,
          -4.951789379119873,
          -7.012279033660889,
          -7.071754455566406,
          -6.646719932556152,
          -8.23530101776123,
          -6.38647985458374,
          -7.112520217895508,
          -7.515721321105957,
          -3.495292901992798,
          -5.963578701019287,
          -7.5214924812316895,
          -2.3655073642730713,
          -2.490490436553955,
          -6.934877872467041,
          -6.076242446899414,
          -7.769829750061035,
          -6.6294145584106445,
          -6.46883487701416,
          -4.81242036819458,
          -5.544999599456787,
          -3.464928150177002,
          -7.031663417816162,
          -5.084277629852295,
          -5.725961208343506,
          -6.063607215881348,
          -7.452719688415527,
          -4.918414115905762,
          -5.995787143707275,
          -7.961341381072998,
          -5.111992359161377,
          -5.04395055770874,
          -3.3584742546081543,
          -2.3990976810455322,
          -7.337214469909668,
          -5.152359962463379,
          -3.31128191947937,
          -3.491490125656128,
          -3.5601301193237305,
          -4.869675636291504,
          -7.728445529937744,
          -7.978473663330078,
          -7.308530330657959,
          -6.426376819610596,
          -4.5202317237854,
          -4.719951629638672,
          -7.43924617767334,
          -7.757357597351074,
          -6.998899936676025,
          -6.064271450042725,
          -6.9462738037109375,
          -5.677822589874268,
          -7.630990505218506,
          -3.4659624099731445
         ],
         "y": [
          3.803889274597168,
          5.434167861938477,
          4.862239837646484,
          5.947195529937744,
          4.620462894439697,
          7.680312156677246,
          5.126982688903809,
          3.4581544399261475,
          5.18234920501709,
          6.238520622253418,
          6.846723556518555,
          5.131257057189941,
          2.8320422172546387,
          4.041567325592041,
          2.3892085552215576,
          4.510095596313477,
          7.311247825622559,
          6.073367118835449,
          6.735687255859375,
          5.808342933654785,
          7.88928747177124,
          4.514639854431152,
          2.1539933681488037,
          6.521709442138672,
          6.044483184814453,
          5.06309175491333,
          5.926706314086914,
          6.208593845367432,
          5.029122829437256,
          7.14968729019165,
          5.030953884124756,
          6.804236888885498,
          2.7788426876068115,
          6.727266311645508,
          6.284421443939209,
          2.817495822906494,
          5.593639373779297,
          6.303563594818115,
          6.896094799041748,
          4.722245693206787,
          3.975133180618286,
          5.474504470825195,
          4.197931289672852,
          4.733978748321533,
          5.531262397766113,
          7.238915920257568,
          8.21225643157959,
          4.48425817489624,
          4.230678081512451,
          4.830252170562744,
          6.208006381988525,
          3.582756280899048,
          4.374814987182617,
          4.644189357757568,
          6.447959899902344,
          4.655200481414795,
          4.917901039123535,
          5.051206111907959,
          5.145400047302246,
          5.204881191253662,
          6.284226894378662,
          5.876384735107422,
          5.534761905670166,
          5.765942573547363,
          6.148958683013916,
          7.304537296295166,
          3.7819666862487793,
          2.50799560546875,
          7.11898136138916,
          5.113755702972412,
          7.051440715789795,
          9.915145874023438,
          5.934964179992676,
          5.057682037353516,
          5.108229637145996
         ]
        }
       ],
       "layout": {
        "template": {
         "data": {
          "bar": [
           {
            "error_x": {
             "color": "#2a3f5f"
            },
            "error_y": {
             "color": "#2a3f5f"
            },
            "marker": {
             "line": {
              "color": "#E5ECF6",
              "width": 0.5
             }
            },
            "type": "bar"
           }
          ],
          "barpolar": [
           {
            "marker": {
             "line": {
              "color": "#E5ECF6",
              "width": 0.5
             }
            },
            "type": "barpolar"
           }
          ],
          "carpet": [
           {
            "aaxis": {
             "endlinecolor": "#2a3f5f",
             "gridcolor": "white",
             "linecolor": "white",
             "minorgridcolor": "white",
             "startlinecolor": "#2a3f5f"
            },
            "baxis": {
             "endlinecolor": "#2a3f5f",
             "gridcolor": "white",
             "linecolor": "white",
             "minorgridcolor": "white",
             "startlinecolor": "#2a3f5f"
            },
            "type": "carpet"
           }
          ],
          "choropleth": [
           {
            "colorbar": {
             "outlinewidth": 0,
             "ticks": ""
            },
            "type": "choropleth"
           }
          ],
          "contour": [
           {
            "colorbar": {
             "outlinewidth": 0,
             "ticks": ""
            },
            "colorscale": [
             [
              0,
              "#0d0887"
             ],
             [
              0.1111111111111111,
              "#46039f"
             ],
             [
              0.2222222222222222,
              "#7201a8"
             ],
             [
              0.3333333333333333,
              "#9c179e"
             ],
             [
              0.4444444444444444,
              "#bd3786"
             ],
             [
              0.5555555555555556,
              "#d8576b"
             ],
             [
              0.6666666666666666,
              "#ed7953"
             ],
             [
              0.7777777777777778,
              "#fb9f3a"
             ],
             [
              0.8888888888888888,
              "#fdca26"
             ],
             [
              1,
              "#f0f921"
             ]
            ],
            "type": "contour"
           }
          ],
          "contourcarpet": [
           {
            "colorbar": {
             "outlinewidth": 0,
             "ticks": ""
            },
            "type": "contourcarpet"
           }
          ],
          "heatmap": [
           {
            "colorbar": {
             "outlinewidth": 0,
             "ticks": ""
            },
            "colorscale": [
             [
              0,
              "#0d0887"
             ],
             [
              0.1111111111111111,
              "#46039f"
             ],
             [
              0.2222222222222222,
              "#7201a8"
             ],
             [
              0.3333333333333333,
              "#9c179e"
             ],
             [
              0.4444444444444444,
              "#bd3786"
             ],
             [
              0.5555555555555556,
              "#d8576b"
             ],
             [
              0.6666666666666666,
              "#ed7953"
             ],
             [
              0.7777777777777778,
              "#fb9f3a"
             ],
             [
              0.8888888888888888,
              "#fdca26"
             ],
             [
              1,
              "#f0f921"
             ]
            ],
            "type": "heatmap"
           }
          ],
          "heatmapgl": [
           {
            "colorbar": {
             "outlinewidth": 0,
             "ticks": ""
            },
            "colorscale": [
             [
              0,
              "#0d0887"
             ],
             [
              0.1111111111111111,
              "#46039f"
             ],
             [
              0.2222222222222222,
              "#7201a8"
             ],
             [
              0.3333333333333333,
              "#9c179e"
             ],
             [
              0.4444444444444444,
              "#bd3786"
             ],
             [
              0.5555555555555556,
              "#d8576b"
             ],
             [
              0.6666666666666666,
              "#ed7953"
             ],
             [
              0.7777777777777778,
              "#fb9f3a"
             ],
             [
              0.8888888888888888,
              "#fdca26"
             ],
             [
              1,
              "#f0f921"
             ]
            ],
            "type": "heatmapgl"
           }
          ],
          "histogram": [
           {
            "marker": {
             "colorbar": {
              "outlinewidth": 0,
              "ticks": ""
             }
            },
            "type": "histogram"
           }
          ],
          "histogram2d": [
           {
            "colorbar": {
             "outlinewidth": 0,
             "ticks": ""
            },
            "colorscale": [
             [
              0,
              "#0d0887"
             ],
             [
              0.1111111111111111,
              "#46039f"
             ],
             [
              0.2222222222222222,
              "#7201a8"
             ],
             [
              0.3333333333333333,
              "#9c179e"
             ],
             [
              0.4444444444444444,
              "#bd3786"
             ],
             [
              0.5555555555555556,
              "#d8576b"
             ],
             [
              0.6666666666666666,
              "#ed7953"
             ],
             [
              0.7777777777777778,
              "#fb9f3a"
             ],
             [
              0.8888888888888888,
              "#fdca26"
             ],
             [
              1,
              "#f0f921"
             ]
            ],
            "type": "histogram2d"
           }
          ],
          "histogram2dcontour": [
           {
            "colorbar": {
             "outlinewidth": 0,
             "ticks": ""
            },
            "colorscale": [
             [
              0,
              "#0d0887"
             ],
             [
              0.1111111111111111,
              "#46039f"
             ],
             [
              0.2222222222222222,
              "#7201a8"
             ],
             [
              0.3333333333333333,
              "#9c179e"
             ],
             [
              0.4444444444444444,
              "#bd3786"
             ],
             [
              0.5555555555555556,
              "#d8576b"
             ],
             [
              0.6666666666666666,
              "#ed7953"
             ],
             [
              0.7777777777777778,
              "#fb9f3a"
             ],
             [
              0.8888888888888888,
              "#fdca26"
             ],
             [
              1,
              "#f0f921"
             ]
            ],
            "type": "histogram2dcontour"
           }
          ],
          "mesh3d": [
           {
            "colorbar": {
             "outlinewidth": 0,
             "ticks": ""
            },
            "type": "mesh3d"
           }
          ],
          "parcoords": [
           {
            "line": {
             "colorbar": {
              "outlinewidth": 0,
              "ticks": ""
             }
            },
            "type": "parcoords"
           }
          ],
          "pie": [
           {
            "automargin": true,
            "type": "pie"
           }
          ],
          "scatter": [
           {
            "marker": {
             "colorbar": {
              "outlinewidth": 0,
              "ticks": ""
             }
            },
            "type": "scatter"
           }
          ],
          "scatter3d": [
           {
            "line": {
             "colorbar": {
              "outlinewidth": 0,
              "ticks": ""
             }
            },
            "marker": {
             "colorbar": {
              "outlinewidth": 0,
              "ticks": ""
             }
            },
            "type": "scatter3d"
           }
          ],
          "scattercarpet": [
           {
            "marker": {
             "colorbar": {
              "outlinewidth": 0,
              "ticks": ""
             }
            },
            "type": "scattercarpet"
           }
          ],
          "scattergeo": [
           {
            "marker": {
             "colorbar": {
              "outlinewidth": 0,
              "ticks": ""
             }
            },
            "type": "scattergeo"
           }
          ],
          "scattergl": [
           {
            "marker": {
             "colorbar": {
              "outlinewidth": 0,
              "ticks": ""
             }
            },
            "type": "scattergl"
           }
          ],
          "scattermapbox": [
           {
            "marker": {
             "colorbar": {
              "outlinewidth": 0,
              "ticks": ""
             }
            },
            "type": "scattermapbox"
           }
          ],
          "scatterpolar": [
           {
            "marker": {
             "colorbar": {
              "outlinewidth": 0,
              "ticks": ""
             }
            },
            "type": "scatterpolar"
           }
          ],
          "scatterpolargl": [
           {
            "marker": {
             "colorbar": {
              "outlinewidth": 0,
              "ticks": ""
             }
            },
            "type": "scatterpolargl"
           }
          ],
          "scatterternary": [
           {
            "marker": {
             "colorbar": {
              "outlinewidth": 0,
              "ticks": ""
             }
            },
            "type": "scatterternary"
           }
          ],
          "surface": [
           {
            "colorbar": {
             "outlinewidth": 0,
             "ticks": ""
            },
            "colorscale": [
             [
              0,
              "#0d0887"
             ],
             [
              0.1111111111111111,
              "#46039f"
             ],
             [
              0.2222222222222222,
              "#7201a8"
             ],
             [
              0.3333333333333333,
              "#9c179e"
             ],
             [
              0.4444444444444444,
              "#bd3786"
             ],
             [
              0.5555555555555556,
              "#d8576b"
             ],
             [
              0.6666666666666666,
              "#ed7953"
             ],
             [
              0.7777777777777778,
              "#fb9f3a"
             ],
             [
              0.8888888888888888,
              "#fdca26"
             ],
             [
              1,
              "#f0f921"
             ]
            ],
            "type": "surface"
           }
          ],
          "table": [
           {
            "cells": {
             "fill": {
              "color": "#EBF0F8"
             },
             "line": {
              "color": "white"
             }
            },
            "header": {
             "fill": {
              "color": "#C8D4E3"
             },
             "line": {
              "color": "white"
             }
            },
            "type": "table"
           }
          ]
         },
         "layout": {
          "annotationdefaults": {
           "arrowcolor": "#2a3f5f",
           "arrowhead": 0,
           "arrowwidth": 1
          },
          "coloraxis": {
           "colorbar": {
            "outlinewidth": 0,
            "ticks": ""
           }
          },
          "colorscale": {
           "diverging": [
            [
             0,
             "#8e0152"
            ],
            [
             0.1,
             "#c51b7d"
            ],
            [
             0.2,
             "#de77ae"
            ],
            [
             0.3,
             "#f1b6da"
            ],
            [
             0.4,
             "#fde0ef"
            ],
            [
             0.5,
             "#f7f7f7"
            ],
            [
             0.6,
             "#e6f5d0"
            ],
            [
             0.7,
             "#b8e186"
            ],
            [
             0.8,
             "#7fbc41"
            ],
            [
             0.9,
             "#4d9221"
            ],
            [
             1,
             "#276419"
            ]
           ],
           "sequential": [
            [
             0,
             "#0d0887"
            ],
            [
             0.1111111111111111,
             "#46039f"
            ],
            [
             0.2222222222222222,
             "#7201a8"
            ],
            [
             0.3333333333333333,
             "#9c179e"
            ],
            [
             0.4444444444444444,
             "#bd3786"
            ],
            [
             0.5555555555555556,
             "#d8576b"
            ],
            [
             0.6666666666666666,
             "#ed7953"
            ],
            [
             0.7777777777777778,
             "#fb9f3a"
            ],
            [
             0.8888888888888888,
             "#fdca26"
            ],
            [
             1,
             "#f0f921"
            ]
           ],
           "sequentialminus": [
            [
             0,
             "#0d0887"
            ],
            [
             0.1111111111111111,
             "#46039f"
            ],
            [
             0.2222222222222222,
             "#7201a8"
            ],
            [
             0.3333333333333333,
             "#9c179e"
            ],
            [
             0.4444444444444444,
             "#bd3786"
            ],
            [
             0.5555555555555556,
             "#d8576b"
            ],
            [
             0.6666666666666666,
             "#ed7953"
            ],
            [
             0.7777777777777778,
             "#fb9f3a"
            ],
            [
             0.8888888888888888,
             "#fdca26"
            ],
            [
             1,
             "#f0f921"
            ]
           ]
          },
          "colorway": [
           "#636efa",
           "#EF553B",
           "#00cc96",
           "#ab63fa",
           "#FFA15A",
           "#19d3f3",
           "#FF6692",
           "#B6E880",
           "#FF97FF",
           "#FECB52"
          ],
          "font": {
           "color": "#2a3f5f"
          },
          "geo": {
           "bgcolor": "white",
           "lakecolor": "white",
           "landcolor": "#E5ECF6",
           "showlakes": true,
           "showland": true,
           "subunitcolor": "white"
          },
          "hoverlabel": {
           "align": "left"
          },
          "hovermode": "closest",
          "mapbox": {
           "style": "light"
          },
          "paper_bgcolor": "white",
          "plot_bgcolor": "#E5ECF6",
          "polar": {
           "angularaxis": {
            "gridcolor": "white",
            "linecolor": "white",
            "ticks": ""
           },
           "bgcolor": "#E5ECF6",
           "radialaxis": {
            "gridcolor": "white",
            "linecolor": "white",
            "ticks": ""
           }
          },
          "scene": {
           "xaxis": {
            "backgroundcolor": "#E5ECF6",
            "gridcolor": "white",
            "gridwidth": 2,
            "linecolor": "white",
            "showbackground": true,
            "ticks": "",
            "zerolinecolor": "white"
           },
           "yaxis": {
            "backgroundcolor": "#E5ECF6",
            "gridcolor": "white",
            "gridwidth": 2,
            "linecolor": "white",
            "showbackground": true,
            "ticks": "",
            "zerolinecolor": "white"
           },
           "zaxis": {
            "backgroundcolor": "#E5ECF6",
            "gridcolor": "white",
            "gridwidth": 2,
            "linecolor": "white",
            "showbackground": true,
            "ticks": "",
            "zerolinecolor": "white"
           }
          },
          "shapedefaults": {
           "line": {
            "color": "#2a3f5f"
           }
          },
          "ternary": {
           "aaxis": {
            "gridcolor": "white",
            "linecolor": "white",
            "ticks": ""
           },
           "baxis": {
            "gridcolor": "white",
            "linecolor": "white",
            "ticks": ""
           },
           "bgcolor": "#E5ECF6",
           "caxis": {
            "gridcolor": "white",
            "linecolor": "white",
            "ticks": ""
           }
          },
          "title": {
           "x": 0.05
          },
          "xaxis": {
           "automargin": true,
           "gridcolor": "white",
           "linecolor": "white",
           "ticks": "",
           "title": {
            "standoff": 15
           },
           "zerolinecolor": "white",
           "zerolinewidth": 2
          },
          "yaxis": {
           "automargin": true,
           "gridcolor": "white",
           "linecolor": "white",
           "ticks": "",
           "title": {
            "standoff": 15
           },
           "zerolinecolor": "white",
           "zerolinewidth": 2
          }
         }
        },
        "title": {
         "text": "Visualizing Clusters in Two Dimensions Using T-SNE (perplexity=50)"
        },
        "xaxis": {
         "ticklen": 5,
         "title": {
          "text": "TC1"
         },
         "zeroline": false
        },
        "yaxis": {
         "ticklen": 5,
         "title": {
          "text": "TC2"
         },
         "zeroline": false
        }
       }
      },
      "text/html": [
       "<div>\n",
       "        \n",
       "        \n",
       "            <div id=\"6714fe72-89d2-4e04-b1a2-0a6083089b79\" class=\"plotly-graph-div\" style=\"height:525px; width:100%;\"></div>\n",
       "            <script type=\"text/javascript\">\n",
       "                require([\"plotly\"], function(Plotly) {\n",
       "                    window.PLOTLYENV=window.PLOTLYENV || {};\n",
       "                    \n",
       "                if (document.getElementById(\"6714fe72-89d2-4e04-b1a2-0a6083089b79\")) {\n",
       "                    Plotly.newPlot(\n",
       "                        '6714fe72-89d2-4e04-b1a2-0a6083089b79',\n",
       "                        [{\"marker\": {\"color\": \"rgba(255, 128, 255, 0.8)\"}, \"mode\": \"markers\", \"name\": \"Cluster: 0\", \"text\": [\"Sierra Leone\", \"Kenya\", \"Liechtenstein\", \"Ethiopia\", \"Sudan\", \"Benin\", \"West Bank and Gaza\", \"India\", \"Somalia\", \"Honduras\", \"Equatorial Guinea\", \"Bolivia\", \"Guinea-Bissau\", \"Zambia\", \"Bangladesh\", \"Indonesia\", \"Jamaica\", \"South Africa\", \"Angola\", \"Cote d'Ivoire\", \"Timor-Leste\", \"Kosovo\", \"Mali\", \"Gabon\", \"Malawi\", \"Mauritania\", \"Mozambique\", \"Haiti\", \"Guyana\", \"Philippines\", \"Ghana\", \"Madagascar\", \"Central African Republic\", \"Namibia\", \"Guatemala\", \"Cambodia\", \"Burundi\", \"Tanzania\", \"Zimbabwe\", \"Sao Tome and Principe\", \"Burkina Faso\", \"Senegal\", \"Papua New Guinea\", \"Guinea\", \"Rwanda\", \"Chad\", \"Niger\", \"Bhutan\", \"Cabo Verde\", \"Cameroon\", \"Pakistan\"], \"type\": \"scatter\", \"x\": [-10.785661697387695, -10.685906410217285, -11.484108924865723, -11.437154769897461, -10.004454612731934, -11.193963050842285, -10.231616973876953, -6.974842071533203, -11.681196212768555, -7.9195637702941895, -12.497769355773926, -8.284811019897461, -11.047313690185547, -10.118806838989258, -10.88948917388916, -8.154350280761719, -8.352888107299805, -9.929927825927734, -11.45631217956543, -10.755595207214355, -8.865638732910156, -11.494330406188965, -11.313250541687012, -8.714022636413574, -10.575104713439941, -10.735830307006836, -11.1675386428833, -9.913713455200195, -8.55029010772705, -8.940804481506348, -10.127453804016113, -11.072805404663086, -12.248388290405273, -9.0158109664917, -8.887280464172363, -9.404747009277344, -10.89552116394043, -10.526878356933594, -10.06046199798584, -9.150360107421875, -10.997172355651855, -10.594253540039062, -9.148488998413086, -11.9215087890625, -10.658764839172363, -12.386470794677734, -12.232208251953125, -9.494890213012695, -8.855086326599121, -11.6106538772583, -11.326781272888184], \"y\": [7.130405902862549, 6.698998928070068, 3.871077060699463, 6.6029229164123535, 8.334406852722168, 7.094823360443115, 3.7660930156707764, 9.924530982971191, 8.641135215759277, 6.545883655548096, 7.4731292724609375, 6.348021030426025, 7.179965019226074, 7.522034168243408, 5.860371112823486, 7.019615650177002, 6.470818042755127, 4.32694673538208, 7.563162326812744, 7.134929180145264, 4.468569755554199, 3.873823881149292, 7.21612548828125, 8.514049530029297, 6.329415321350098, 7.688070774078369, 7.973084926605225, 7.890873908996582, 5.5206618309021, 6.176869869232178, 7.174895763397217, 7.822190284729004, 6.993402004241943, 8.203001022338867, 6.312064170837402, 5.483232498168945, 6.104979038238525, 6.646044731140137, 6.096925258636475, 7.723843097686768, 6.95078182220459, 6.967884540557861, 4.514649868011475, 7.248056411743164, 6.190901279449463, 6.837202548980713, 6.257343769073486, 6.234084606170654, 7.3821282386779785, 6.080101013183594, 6.118855953216553]}, {\"marker\": {\"color\": \"rgba(255, 128, 2, 0.8)\"}, \"mode\": \"markers\", \"name\": \"Cluster: 1\", \"text\": [\"United States\"], \"type\": \"scatter\", \"x\": [-2.2498562335968018], \"y\": [7.132094860076904]}, {\"marker\": {\"color\": \"rgba(0, 255, 200, 0.8)\"}, \"mode\": \"markers\", \"name\": \"Cluster: 2\", \"text\": [\"Slovenia\", \"Fiji\", \"Malta\", \"Paraguay\", \"Croatia\", \"Mongolia\", \"Denmark\", \"Ukraine\", \"Germany\", \"Algeria\", \"Azerbaijan\", \"Cyprus\", \"Bahrain\", \"Belgium\", \"Singapore\", \"Japan\", \"Andorra\", \"Morocco\", \"Spain\", \"Chile\", \"Brazil\", \"Kazakhstan\", \"Monaco\", \"Dominican Republic\", \"Mexico\", \"Mauritius\", \"Nicaragua\", \"Tunisia\", \"Uzbekistan\", \"Lebanon\", \"Finland\", \"Georgia\", \"Saudi Arabia\", \"Italy\", \"United Kingdom\", \"United Arab Emirates\", \"Albania\", \"Peru\", \"Suriname\", \"Moldova\", \"Lithuania\", \"Israel\", \"Netherlands\", \"Maldives\", \"Greece\", \"Serbia\", \"Turkey\", \"Antigua and Barbuda\", \"Estonia\", \"Cuba\", \"Ecuador\", \"Belarus\", \"Latvia\", \"Austria\", \"France\", \"Grenada\", \"Portugal\", \"Luxembourg\", \"Sweden\", \"Iceland\", \"San Marino\", \"El Salvador\", \"Belize\", \"Panama\", \"Costa Rica\", \"Dominica\", \"Hungary\", \"Qatar\", \"Oman\", \"Trinidad and Tobago\", \"Armenia\", \"China\", \"Uruguay\", \"Thailand\", \"Norway\"], \"type\": \"scatter\", \"x\": [-4.772278308868408, -7.138949871063232, -4.833116054534912, -7.570809364318848, -5.337995529174805, -6.466786861419678, -3.5446324348449707, -5.887945175170898, -2.5959200859069824, -6.975690841674805, -6.460102558135986, -5.765415668487549, -7.342218399047852, -3.4699020385742188, -5.022165775299072, -2.589900016784668, -4.482739448547363, -7.328517436981201, -2.36702823638916, -6.239822864532471, -7.091197490692139, -6.249326229095459, -4.951789379119873, -7.012279033660889, -7.071754455566406, -6.646719932556152, -8.23530101776123, -6.38647985458374, -7.112520217895508, -7.515721321105957, -3.495292901992798, -5.963578701019287, -7.5214924812316895, -2.3655073642730713, -2.490490436553955, -6.934877872467041, -6.076242446899414, -7.769829750061035, -6.6294145584106445, -6.46883487701416, -4.81242036819458, -5.544999599456787, -3.464928150177002, -7.031663417816162, -5.084277629852295, -5.725961208343506, -6.063607215881348, -7.452719688415527, -4.918414115905762, -5.995787143707275, -7.961341381072998, -5.111992359161377, -5.04395055770874, -3.3584742546081543, -2.3990976810455322, -7.337214469909668, -5.152359962463379, -3.31128191947937, -3.491490125656128, -3.5601301193237305, -4.869675636291504, -7.728445529937744, -7.978473663330078, -7.308530330657959, -6.426376819610596, -4.5202317237854, -4.719951629638672, -7.43924617767334, -7.757357597351074, -6.998899936676025, -6.064271450042725, -6.9462738037109375, -5.677822589874268, -7.630990505218506, -3.4659624099731445], \"y\": [3.803889274597168, 5.434167861938477, 4.862239837646484, 5.947195529937744, 4.620462894439697, 7.680312156677246, 5.126982688903809, 3.4581544399261475, 5.18234920501709, 6.238520622253418, 6.846723556518555, 5.131257057189941, 2.8320422172546387, 4.041567325592041, 2.3892085552215576, 4.510095596313477, 7.311247825622559, 6.073367118835449, 6.735687255859375, 5.808342933654785, 7.88928747177124, 4.514639854431152, 2.1539933681488037, 6.521709442138672, 6.044483184814453, 5.06309175491333, 5.926706314086914, 6.208593845367432, 5.029122829437256, 7.14968729019165, 5.030953884124756, 6.804236888885498, 2.7788426876068115, 6.727266311645508, 6.284421443939209, 2.817495822906494, 5.593639373779297, 6.303563594818115, 6.896094799041748, 4.722245693206787, 3.975133180618286, 5.474504470825195, 4.197931289672852, 4.733978748321533, 5.531262397766113, 7.238915920257568, 8.21225643157959, 4.48425817489624, 4.230678081512451, 4.830252170562744, 6.208006381988525, 3.582756280899048, 4.374814987182617, 4.644189357757568, 6.447959899902344, 4.655200481414795, 4.917901039123535, 5.051206111907959, 5.145400047302246, 5.204881191253662, 6.284226894378662, 5.876384735107422, 5.534761905670166, 5.765942573547363, 6.148958683013916, 7.304537296295166, 3.7819666862487793, 2.50799560546875, 7.11898136138916, 5.113755702972412, 7.051440715789795, 9.915145874023438, 5.934964179992676, 5.057682037353516, 5.108229637145996]}],\n",
       "                        {\"template\": {\"data\": {\"bar\": [{\"error_x\": {\"color\": \"#2a3f5f\"}, \"error_y\": {\"color\": \"#2a3f5f\"}, \"marker\": {\"line\": {\"color\": \"#E5ECF6\", \"width\": 0.5}}, \"type\": \"bar\"}], \"barpolar\": [{\"marker\": {\"line\": {\"color\": \"#E5ECF6\", \"width\": 0.5}}, \"type\": \"barpolar\"}], \"carpet\": [{\"aaxis\": {\"endlinecolor\": \"#2a3f5f\", \"gridcolor\": \"white\", \"linecolor\": \"white\", \"minorgridcolor\": \"white\", \"startlinecolor\": \"#2a3f5f\"}, \"baxis\": {\"endlinecolor\": \"#2a3f5f\", \"gridcolor\": \"white\", \"linecolor\": \"white\", \"minorgridcolor\": \"white\", \"startlinecolor\": \"#2a3f5f\"}, \"type\": \"carpet\"}], \"choropleth\": [{\"colorbar\": {\"outlinewidth\": 0, \"ticks\": \"\"}, \"type\": \"choropleth\"}], \"contour\": [{\"colorbar\": {\"outlinewidth\": 0, \"ticks\": \"\"}, \"colorscale\": [[0.0, \"#0d0887\"], [0.1111111111111111, \"#46039f\"], [0.2222222222222222, \"#7201a8\"], [0.3333333333333333, \"#9c179e\"], [0.4444444444444444, \"#bd3786\"], [0.5555555555555556, \"#d8576b\"], [0.6666666666666666, \"#ed7953\"], [0.7777777777777778, \"#fb9f3a\"], [0.8888888888888888, \"#fdca26\"], [1.0, \"#f0f921\"]], \"type\": \"contour\"}], \"contourcarpet\": [{\"colorbar\": {\"outlinewidth\": 0, \"ticks\": \"\"}, \"type\": \"contourcarpet\"}], \"heatmap\": [{\"colorbar\": {\"outlinewidth\": 0, \"ticks\": \"\"}, \"colorscale\": [[0.0, \"#0d0887\"], [0.1111111111111111, \"#46039f\"], [0.2222222222222222, \"#7201a8\"], [0.3333333333333333, \"#9c179e\"], [0.4444444444444444, \"#bd3786\"], [0.5555555555555556, \"#d8576b\"], [0.6666666666666666, \"#ed7953\"], [0.7777777777777778, \"#fb9f3a\"], [0.8888888888888888, \"#fdca26\"], [1.0, \"#f0f921\"]], \"type\": \"heatmap\"}], \"heatmapgl\": [{\"colorbar\": {\"outlinewidth\": 0, \"ticks\": \"\"}, \"colorscale\": [[0.0, \"#0d0887\"], [0.1111111111111111, \"#46039f\"], [0.2222222222222222, \"#7201a8\"], [0.3333333333333333, \"#9c179e\"], [0.4444444444444444, \"#bd3786\"], [0.5555555555555556, \"#d8576b\"], [0.6666666666666666, \"#ed7953\"], [0.7777777777777778, \"#fb9f3a\"], [0.8888888888888888, \"#fdca26\"], [1.0, \"#f0f921\"]], \"type\": \"heatmapgl\"}], \"histogram\": [{\"marker\": {\"colorbar\": {\"outlinewidth\": 0, \"ticks\": \"\"}}, \"type\": \"histogram\"}], \"histogram2d\": [{\"colorbar\": {\"outlinewidth\": 0, \"ticks\": \"\"}, \"colorscale\": [[0.0, \"#0d0887\"], [0.1111111111111111, \"#46039f\"], [0.2222222222222222, \"#7201a8\"], [0.3333333333333333, \"#9c179e\"], [0.4444444444444444, \"#bd3786\"], [0.5555555555555556, \"#d8576b\"], [0.6666666666666666, \"#ed7953\"], [0.7777777777777778, \"#fb9f3a\"], [0.8888888888888888, \"#fdca26\"], [1.0, \"#f0f921\"]], \"type\": \"histogram2d\"}], \"histogram2dcontour\": [{\"colorbar\": {\"outlinewidth\": 0, \"ticks\": \"\"}, \"colorscale\": [[0.0, \"#0d0887\"], [0.1111111111111111, \"#46039f\"], [0.2222222222222222, \"#7201a8\"], [0.3333333333333333, \"#9c179e\"], [0.4444444444444444, \"#bd3786\"], [0.5555555555555556, \"#d8576b\"], [0.6666666666666666, \"#ed7953\"], [0.7777777777777778, \"#fb9f3a\"], [0.8888888888888888, \"#fdca26\"], [1.0, \"#f0f921\"]], \"type\": \"histogram2dcontour\"}], \"mesh3d\": [{\"colorbar\": {\"outlinewidth\": 0, \"ticks\": \"\"}, \"type\": \"mesh3d\"}], \"parcoords\": [{\"line\": {\"colorbar\": {\"outlinewidth\": 0, \"ticks\": \"\"}}, \"type\": \"parcoords\"}], \"pie\": [{\"automargin\": true, \"type\": \"pie\"}], \"scatter\": [{\"marker\": {\"colorbar\": {\"outlinewidth\": 0, \"ticks\": \"\"}}, \"type\": \"scatter\"}], \"scatter3d\": [{\"line\": {\"colorbar\": {\"outlinewidth\": 0, \"ticks\": \"\"}}, \"marker\": {\"colorbar\": {\"outlinewidth\": 0, \"ticks\": \"\"}}, \"type\": \"scatter3d\"}], \"scattercarpet\": [{\"marker\": {\"colorbar\": {\"outlinewidth\": 0, \"ticks\": \"\"}}, \"type\": \"scattercarpet\"}], \"scattergeo\": [{\"marker\": {\"colorbar\": {\"outlinewidth\": 0, \"ticks\": \"\"}}, \"type\": \"scattergeo\"}], \"scattergl\": [{\"marker\": {\"colorbar\": {\"outlinewidth\": 0, \"ticks\": \"\"}}, \"type\": \"scattergl\"}], \"scattermapbox\": [{\"marker\": {\"colorbar\": {\"outlinewidth\": 0, \"ticks\": \"\"}}, \"type\": \"scattermapbox\"}], \"scatterpolar\": [{\"marker\": {\"colorbar\": {\"outlinewidth\": 0, \"ticks\": \"\"}}, \"type\": \"scatterpolar\"}], \"scatterpolargl\": [{\"marker\": {\"colorbar\": {\"outlinewidth\": 0, \"ticks\": \"\"}}, \"type\": \"scatterpolargl\"}], \"scatterternary\": [{\"marker\": {\"colorbar\": {\"outlinewidth\": 0, \"ticks\": \"\"}}, \"type\": \"scatterternary\"}], \"surface\": [{\"colorbar\": {\"outlinewidth\": 0, \"ticks\": \"\"}, \"colorscale\": [[0.0, \"#0d0887\"], [0.1111111111111111, \"#46039f\"], [0.2222222222222222, \"#7201a8\"], [0.3333333333333333, \"#9c179e\"], [0.4444444444444444, \"#bd3786\"], [0.5555555555555556, \"#d8576b\"], [0.6666666666666666, \"#ed7953\"], [0.7777777777777778, \"#fb9f3a\"], [0.8888888888888888, \"#fdca26\"], [1.0, \"#f0f921\"]], \"type\": \"surface\"}], \"table\": [{\"cells\": {\"fill\": {\"color\": \"#EBF0F8\"}, \"line\": {\"color\": \"white\"}}, \"header\": {\"fill\": {\"color\": \"#C8D4E3\"}, \"line\": {\"color\": \"white\"}}, \"type\": \"table\"}]}, \"layout\": {\"annotationdefaults\": {\"arrowcolor\": \"#2a3f5f\", \"arrowhead\": 0, \"arrowwidth\": 1}, \"coloraxis\": {\"colorbar\": {\"outlinewidth\": 0, \"ticks\": \"\"}}, \"colorscale\": {\"diverging\": [[0, \"#8e0152\"], [0.1, \"#c51b7d\"], [0.2, \"#de77ae\"], [0.3, \"#f1b6da\"], [0.4, \"#fde0ef\"], [0.5, \"#f7f7f7\"], [0.6, \"#e6f5d0\"], [0.7, \"#b8e186\"], [0.8, \"#7fbc41\"], [0.9, \"#4d9221\"], [1, \"#276419\"]], \"sequential\": [[0.0, \"#0d0887\"], [0.1111111111111111, \"#46039f\"], [0.2222222222222222, \"#7201a8\"], [0.3333333333333333, \"#9c179e\"], [0.4444444444444444, \"#bd3786\"], [0.5555555555555556, \"#d8576b\"], [0.6666666666666666, \"#ed7953\"], [0.7777777777777778, \"#fb9f3a\"], [0.8888888888888888, \"#fdca26\"], [1.0, \"#f0f921\"]], \"sequentialminus\": [[0.0, \"#0d0887\"], [0.1111111111111111, \"#46039f\"], [0.2222222222222222, \"#7201a8\"], [0.3333333333333333, \"#9c179e\"], [0.4444444444444444, \"#bd3786\"], [0.5555555555555556, \"#d8576b\"], [0.6666666666666666, \"#ed7953\"], [0.7777777777777778, \"#fb9f3a\"], [0.8888888888888888, \"#fdca26\"], [1.0, \"#f0f921\"]]}, \"colorway\": [\"#636efa\", \"#EF553B\", \"#00cc96\", \"#ab63fa\", \"#FFA15A\", \"#19d3f3\", \"#FF6692\", \"#B6E880\", \"#FF97FF\", \"#FECB52\"], \"font\": {\"color\": \"#2a3f5f\"}, \"geo\": {\"bgcolor\": \"white\", \"lakecolor\": \"white\", \"landcolor\": \"#E5ECF6\", \"showlakes\": true, \"showland\": true, \"subunitcolor\": \"white\"}, \"hoverlabel\": {\"align\": \"left\"}, \"hovermode\": \"closest\", \"mapbox\": {\"style\": \"light\"}, \"paper_bgcolor\": \"white\", \"plot_bgcolor\": \"#E5ECF6\", \"polar\": {\"angularaxis\": {\"gridcolor\": \"white\", \"linecolor\": \"white\", \"ticks\": \"\"}, \"bgcolor\": \"#E5ECF6\", \"radialaxis\": {\"gridcolor\": \"white\", \"linecolor\": \"white\", \"ticks\": \"\"}}, \"scene\": {\"xaxis\": {\"backgroundcolor\": \"#E5ECF6\", \"gridcolor\": \"white\", \"gridwidth\": 2, \"linecolor\": \"white\", \"showbackground\": true, \"ticks\": \"\", \"zerolinecolor\": \"white\"}, \"yaxis\": {\"backgroundcolor\": \"#E5ECF6\", \"gridcolor\": \"white\", \"gridwidth\": 2, \"linecolor\": \"white\", \"showbackground\": true, \"ticks\": \"\", \"zerolinecolor\": \"white\"}, \"zaxis\": {\"backgroundcolor\": \"#E5ECF6\", \"gridcolor\": \"white\", \"gridwidth\": 2, \"linecolor\": \"white\", \"showbackground\": true, \"ticks\": \"\", \"zerolinecolor\": \"white\"}}, \"shapedefaults\": {\"line\": {\"color\": \"#2a3f5f\"}}, \"ternary\": {\"aaxis\": {\"gridcolor\": \"white\", \"linecolor\": \"white\", \"ticks\": \"\"}, \"baxis\": {\"gridcolor\": \"white\", \"linecolor\": \"white\", \"ticks\": \"\"}, \"bgcolor\": \"#E5ECF6\", \"caxis\": {\"gridcolor\": \"white\", \"linecolor\": \"white\", \"ticks\": \"\"}}, \"title\": {\"x\": 0.05}, \"xaxis\": {\"automargin\": true, \"gridcolor\": \"white\", \"linecolor\": \"white\", \"ticks\": \"\", \"title\": {\"standoff\": 15}, \"zerolinecolor\": \"white\", \"zerolinewidth\": 2}, \"yaxis\": {\"automargin\": true, \"gridcolor\": \"white\", \"linecolor\": \"white\", \"ticks\": \"\", \"title\": {\"standoff\": 15}, \"zerolinecolor\": \"white\", \"zerolinewidth\": 2}}}, \"title\": {\"text\": \"Visualizing Clusters in Two Dimensions Using T-SNE (perplexity=50)\"}, \"xaxis\": {\"ticklen\": 5, \"title\": {\"text\": \"TC1\"}, \"zeroline\": false}, \"yaxis\": {\"ticklen\": 5, \"title\": {\"text\": \"TC2\"}, \"zeroline\": false}},\n",
       "                        {\"responsive\": true}\n",
       "                    ).then(function(){\n",
       "                            \n",
       "var gd = document.getElementById('6714fe72-89d2-4e04-b1a2-0a6083089b79');\n",
       "var x = new MutationObserver(function (mutations, observer) {{\n",
       "        var display = window.getComputedStyle(gd).display;\n",
       "        if (!display || display === 'none') {{\n",
       "            console.log([gd, 'removed!']);\n",
       "            Plotly.purge(gd);\n",
       "            observer.disconnect();\n",
       "        }}\n",
       "}});\n",
       "\n",
       "// Listen for the removal of the full notebook cells\n",
       "var notebookContainer = gd.closest('#notebook-container');\n",
       "if (notebookContainer) {{\n",
       "    x.observe(notebookContainer, {childList: true});\n",
       "}}\n",
       "\n",
       "// Listen for the clearing of the current output cell\n",
       "var outputEl = gd.closest('.output');\n",
       "if (outputEl) {{\n",
       "    x.observe(outputEl, {childList: true});\n",
       "}}\n",
       "\n",
       "                        })\n",
       "                };\n",
       "                });\n",
       "            </script>\n",
       "        </div>"
      ]
     },
     "metadata": {},
     "output_type": "display_data"
    },
    {
     "data": {
      "application/vnd.plotly.v1+json": {
       "config": {
        "linkText": "Export to plot.ly",
        "plotlyServerURL": "https://plot.ly",
        "showLink": false
       },
       "data": [
        {
         "marker": {
          "color": "rgba(255, 128, 255, 0.8)"
         },
         "mode": "markers",
         "name": "Cluster: 0",
         "text": [
          "Sierra Leone",
          "Kenya",
          "Liechtenstein",
          "Ethiopia",
          "Sudan",
          "Benin",
          "West Bank and Gaza",
          "India",
          "Somalia",
          "Honduras",
          "Equatorial Guinea",
          "Bolivia",
          "Guinea-Bissau",
          "Zambia",
          "Bangladesh",
          "Indonesia",
          "Jamaica",
          "South Africa",
          "Angola",
          "Cote d'Ivoire",
          "Timor-Leste",
          "Kosovo",
          "Mali",
          "Gabon",
          "Malawi",
          "Mauritania",
          "Mozambique",
          "Haiti",
          "Guyana",
          "Philippines",
          "Ghana",
          "Madagascar",
          "Central African Republic",
          "Namibia",
          "Guatemala",
          "Cambodia",
          "Burundi",
          "Tanzania",
          "Zimbabwe",
          "Sao Tome and Principe",
          "Burkina Faso",
          "Senegal",
          "Papua New Guinea",
          "Guinea",
          "Rwanda",
          "Chad",
          "Niger",
          "Bhutan",
          "Cabo Verde",
          "Cameroon",
          "Pakistan"
         ],
         "type": "scatter",
         "x": [
          -4.526003360748291,
          -4.308411598205566,
          -6.758986473083496,
          -4.2752685546875,
          -3.3750603199005127,
          -4.596195697784424,
          -1.8160454034805298,
          -0.6058019995689392,
          -5.88244104385376,
          -4.303721904754639,
          -5.023391246795654,
          -3.90448260307312,
          -4.614080905914307,
          -4.751840591430664,
          -3.676081895828247,
          -3.149533271789551,
          -4.189614295959473,
          -2.0932695865631104,
          -4.976988315582275,
          -4.566227912902832,
          -2.66398549079895,
          -6.760514259338379,
          -4.670987129211426,
          -2.2590255737304688,
          -3.9260056018829346,
          -4.863813877105713,
          -5.256165504455566,
          -5.098110675811768,
          -4.000618934631348,
          -3.622366189956665,
          -4.859402656555176,
          -5.134201526641846,
          -4.668073654174805,
          -5.147422790527344,
          -3.879758834838867,
          -3.500235080718994,
          -3.820368766784668,
          -4.240270614624023,
          -3.7452075481414795,
          -4.883988380432129,
          -4.398392200469971,
          -4.402976036071777,
          -2.7676150798797607,
          -4.977696895599365,
          -3.8985161781311035,
          -4.624758720397949,
          -4.112283229827881,
          -3.9994101524353027,
          -4.6360602378845215,
          -3.895078420639038,
          -3.848045587539673
         ],
         "y": [
          -5.444645881652832,
          -5.437489986419678,
          -4.813418865203857,
          -5.97692346572876,
          -5.982828617095947,
          -5.673239231109619,
          -5.325814247131348,
          -3.9637067317962646,
          -6.040733337402344,
          -3.341367483139038,
          -6.693575859069824,
          -3.612825632095337,
          -5.653607368469238,
          -4.920291423797607,
          -5.419312953948975,
          -3.7556159496307373,
          -3.5633907318115234,
          -4.972896575927734,
          -5.777415752410889,
          -5.315799713134766,
          -4.075906753540039,
          -4.811802864074707,
          -5.808546543121338,
          -5.0351243019104,
          -5.452619552612305,
          -5.499121189117432,
          -5.613901615142822,
          -4.746919631958008,
          -3.768331527709961,
          -4.131014347076416,
          -4.9297356605529785,
          -5.506310939788818,
          -6.55191707611084,
          -4.106756210327148,
          -4.058308124542236,
          -4.482205867767334,
          -5.680305004119873,
          -5.279493808746338,
          -4.885650157928467,
          -4.2428879737854,
          -5.653482913970947,
          -5.203841209411621,
          -4.329958438873291,
          -6.160839557647705,
          -5.374945640563965,
          -6.685362339019775,
          -6.673769474029541,
          -4.481431484222412,
          -3.943603038787842,
          -6.133262634277344,
          -5.810537338256836
         ]
        },
        {
         "marker": {
          "color": "rgba(255, 128, 2, 0.8)"
         },
         "mode": "markers",
         "name": "Cluster: 1",
         "text": [
          "United States"
         ],
         "type": "scatter",
         "x": [
          -0.1444799154996872
         ],
         "y": [
          -1.522223711013794
         ]
        },
        {
         "marker": {
          "color": "rgba(0, 255, 200, 0.8)"
         },
         "mode": "markers",
         "name": "Cluster: 2",
         "text": [
          "Slovenia",
          "Fiji",
          "Malta",
          "Paraguay",
          "Croatia",
          "Mongolia",
          "Denmark",
          "Ukraine",
          "Germany",
          "Algeria",
          "Azerbaijan",
          "Cyprus",
          "Bahrain",
          "Belgium",
          "Singapore",
          "Japan",
          "Andorra",
          "Morocco",
          "Spain",
          "Chile",
          "Brazil",
          "Kazakhstan",
          "Monaco",
          "Dominican Republic",
          "Mexico",
          "Mauritius",
          "Nicaragua",
          "Tunisia",
          "Uzbekistan",
          "Lebanon",
          "Finland",
          "Georgia",
          "Saudi Arabia",
          "Italy",
          "United Kingdom",
          "United Arab Emirates",
          "Albania",
          "Peru",
          "Suriname",
          "Moldova",
          "Lithuania",
          "Israel",
          "Netherlands",
          "Maldives",
          "Greece",
          "Serbia",
          "Turkey",
          "Antigua and Barbuda",
          "Estonia",
          "Cuba",
          "Ecuador",
          "Belarus",
          "Latvia",
          "Austria",
          "France",
          "Grenada",
          "Portugal",
          "Luxembourg",
          "Sweden",
          "Iceland",
          "San Marino",
          "El Salvador",
          "Belize",
          "Panama",
          "Costa Rica",
          "Dominica",
          "Hungary",
          "Qatar",
          "Oman",
          "Trinidad and Tobago",
          "Armenia",
          "China",
          "Uruguay",
          "Thailand",
          "Norway"
         ],
         "type": "scatter",
         "x": [
          -3.2649567127227783,
          -3.401951551437378,
          -2.905491352081299,
          -3.6622073650360107,
          -3.051952362060547,
          -5.181845664978027,
          -1.9260708093643188,
          -2.054269790649414,
          -1.1969451904296875,
          -4.104211807250977,
          -4.27183198928833,
          -3.2515525817871094,
          -5.432462692260742,
          -2.325106143951416,
          -4.10186767578125,
          -1.4207035303115845,
          -1.717044472694397,
          -3.9913489818573,
          -0.3984247148036957,
          -3.637164354324341,
          -2.2657101154327393,
          -2.771324872970581,
          -4.115857124328613,
          -4.014106273651123,
          -3.6018290519714355,
          -3.2045810222625732,
          -4.061624526977539,
          -4.359774589538574,
          -3.121392011642456,
          -4.663728713989258,
          -1.9239028692245483,
          -4.30768346786499,
          -5.593680381774902,
          -0.3935495913028717,
          -0.6829558610916138,
          -5.173638343811035,
          -3.5893566608428955,
          -3.7861881256103516,
          -4.469196319580078,
          -3.082383632659912,
          -3.1238386631011963,
          -3.3092615604400635,
          -2.243640661239624,
          -2.984266519546509,
          -3.474581003189087,
          -4.498659610748291,
          -5.7791523933410645,
          -2.7160093784332275,
          -3.0938618183135986,
          -2.693793535232544,
          -3.736867666244507,
          -3.365487813949585,
          -3.083817481994629,
          -1.9805371761322021,
          -0.5391524434089661,
          -2.850130796432495,
          -2.9551217555999756,
          -1.858892798423767,
          -1.883941650390625,
          -1.9178000688552856,
          -4.270611763000488,
          -3.691610336303711,
          -3.5893118381500244,
          -3.5475244522094727,
          -3.8931221961975098,
          -1.7928392887115479,
          -3.189603090286255,
          -5.693248748779297,
          -5.0641093254089355,
          -3.3055500984191895,
          -4.555831432342529,
          -0.5841366648674011,
          -3.628753662109375,
          -3.1902010440826416,
          -1.883499264717102
         ],
         "y": [
          -0.3325922191143036,
          -2.680924415588379,
          -0.8970252871513367,
          -3.0635998249053955,
          -1.1685539484024048,
          -2.333411931991577,
          -0.4122486412525177,
          -1.6979628801345825,
          -0.32399559020996094,
          -2.7268388271331787,
          -2.192495584487915,
          -1.5880910158157349,
          -1.0508654117584229,
          0.2309240698814392,
          0.4734291136264801,
          0.18695412576198578,
          -2.677915573120117,
          -2.9352645874023438,
          -1.2188876867294312,
          -2.043290615081787,
          -3.394864797592163,
          -1.8777024745941162,
          0.6941695809364319,
          -2.6658074855804443,
          -2.660775661468506,
          -2.2375025749206543,
          -3.459301710128784,
          -2.216222047805786,
          -2.664252996444702,
          -3.05879282951355,
          -0.38162440061569214,
          -1.8528831005096436,
          -1.1430144309997559,
          -1.213504672050476,
          -0.927056074142456,
          -0.7512235641479492,
          -1.8512978553771973,
          -3.2572531700134277,
          -2.363349676132202,
          -2.048915386199951,
          -0.4549792408943176,
          -1.5527946949005127,
          0.11420765519142151,
          -2.5584959983825684,
          -1.1396172046661377,
          -1.509413719177246,
          -2.337352991104126,
          -2.8169398307800293,
          -0.6893103718757629,
          -1.87432062625885,
          -3.3601579666137695,
          -0.2935716211795807,
          -0.8394065499305725,
          -0.19493550062179565,
          -1.0138344764709473,
          -2.7564008235931396,
          -1.171608805656433,
          -0.05162499099969864,
          -0.4239030182361603,
          -0.44984811544418335,
          -0.8398535251617432,
          -3.1363635063171387,
          -3.3418548107147217,
          -2.8210766315460205,
          -2.2464396953582764,
          -2.730808973312378,
          -0.27035579085350037,
          -0.8281295895576477,
          -2.839473247528076,
          -2.4248340129852295,
          -2.003075122833252,
          -3.895655870437622,
          -1.6610374450683594,
          -2.8718137741088867,
          -0.3748079836368561
         ]
        }
       ],
       "layout": {
        "template": {
         "data": {
          "bar": [
           {
            "error_x": {
             "color": "#2a3f5f"
            },
            "error_y": {
             "color": "#2a3f5f"
            },
            "marker": {
             "line": {
              "color": "#E5ECF6",
              "width": 0.5
             }
            },
            "type": "bar"
           }
          ],
          "barpolar": [
           {
            "marker": {
             "line": {
              "color": "#E5ECF6",
              "width": 0.5
             }
            },
            "type": "barpolar"
           }
          ],
          "carpet": [
           {
            "aaxis": {
             "endlinecolor": "#2a3f5f",
             "gridcolor": "white",
             "linecolor": "white",
             "minorgridcolor": "white",
             "startlinecolor": "#2a3f5f"
            },
            "baxis": {
             "endlinecolor": "#2a3f5f",
             "gridcolor": "white",
             "linecolor": "white",
             "minorgridcolor": "white",
             "startlinecolor": "#2a3f5f"
            },
            "type": "carpet"
           }
          ],
          "choropleth": [
           {
            "colorbar": {
             "outlinewidth": 0,
             "ticks": ""
            },
            "type": "choropleth"
           }
          ],
          "contour": [
           {
            "colorbar": {
             "outlinewidth": 0,
             "ticks": ""
            },
            "colorscale": [
             [
              0,
              "#0d0887"
             ],
             [
              0.1111111111111111,
              "#46039f"
             ],
             [
              0.2222222222222222,
              "#7201a8"
             ],
             [
              0.3333333333333333,
              "#9c179e"
             ],
             [
              0.4444444444444444,
              "#bd3786"
             ],
             [
              0.5555555555555556,
              "#d8576b"
             ],
             [
              0.6666666666666666,
              "#ed7953"
             ],
             [
              0.7777777777777778,
              "#fb9f3a"
             ],
             [
              0.8888888888888888,
              "#fdca26"
             ],
             [
              1,
              "#f0f921"
             ]
            ],
            "type": "contour"
           }
          ],
          "contourcarpet": [
           {
            "colorbar": {
             "outlinewidth": 0,
             "ticks": ""
            },
            "type": "contourcarpet"
           }
          ],
          "heatmap": [
           {
            "colorbar": {
             "outlinewidth": 0,
             "ticks": ""
            },
            "colorscale": [
             [
              0,
              "#0d0887"
             ],
             [
              0.1111111111111111,
              "#46039f"
             ],
             [
              0.2222222222222222,
              "#7201a8"
             ],
             [
              0.3333333333333333,
              "#9c179e"
             ],
             [
              0.4444444444444444,
              "#bd3786"
             ],
             [
              0.5555555555555556,
              "#d8576b"
             ],
             [
              0.6666666666666666,
              "#ed7953"
             ],
             [
              0.7777777777777778,
              "#fb9f3a"
             ],
             [
              0.8888888888888888,
              "#fdca26"
             ],
             [
              1,
              "#f0f921"
             ]
            ],
            "type": "heatmap"
           }
          ],
          "heatmapgl": [
           {
            "colorbar": {
             "outlinewidth": 0,
             "ticks": ""
            },
            "colorscale": [
             [
              0,
              "#0d0887"
             ],
             [
              0.1111111111111111,
              "#46039f"
             ],
             [
              0.2222222222222222,
              "#7201a8"
             ],
             [
              0.3333333333333333,
              "#9c179e"
             ],
             [
              0.4444444444444444,
              "#bd3786"
             ],
             [
              0.5555555555555556,
              "#d8576b"
             ],
             [
              0.6666666666666666,
              "#ed7953"
             ],
             [
              0.7777777777777778,
              "#fb9f3a"
             ],
             [
              0.8888888888888888,
              "#fdca26"
             ],
             [
              1,
              "#f0f921"
             ]
            ],
            "type": "heatmapgl"
           }
          ],
          "histogram": [
           {
            "marker": {
             "colorbar": {
              "outlinewidth": 0,
              "ticks": ""
             }
            },
            "type": "histogram"
           }
          ],
          "histogram2d": [
           {
            "colorbar": {
             "outlinewidth": 0,
             "ticks": ""
            },
            "colorscale": [
             [
              0,
              "#0d0887"
             ],
             [
              0.1111111111111111,
              "#46039f"
             ],
             [
              0.2222222222222222,
              "#7201a8"
             ],
             [
              0.3333333333333333,
              "#9c179e"
             ],
             [
              0.4444444444444444,
              "#bd3786"
             ],
             [
              0.5555555555555556,
              "#d8576b"
             ],
             [
              0.6666666666666666,
              "#ed7953"
             ],
             [
              0.7777777777777778,
              "#fb9f3a"
             ],
             [
              0.8888888888888888,
              "#fdca26"
             ],
             [
              1,
              "#f0f921"
             ]
            ],
            "type": "histogram2d"
           }
          ],
          "histogram2dcontour": [
           {
            "colorbar": {
             "outlinewidth": 0,
             "ticks": ""
            },
            "colorscale": [
             [
              0,
              "#0d0887"
             ],
             [
              0.1111111111111111,
              "#46039f"
             ],
             [
              0.2222222222222222,
              "#7201a8"
             ],
             [
              0.3333333333333333,
              "#9c179e"
             ],
             [
              0.4444444444444444,
              "#bd3786"
             ],
             [
              0.5555555555555556,
              "#d8576b"
             ],
             [
              0.6666666666666666,
              "#ed7953"
             ],
             [
              0.7777777777777778,
              "#fb9f3a"
             ],
             [
              0.8888888888888888,
              "#fdca26"
             ],
             [
              1,
              "#f0f921"
             ]
            ],
            "type": "histogram2dcontour"
           }
          ],
          "mesh3d": [
           {
            "colorbar": {
             "outlinewidth": 0,
             "ticks": ""
            },
            "type": "mesh3d"
           }
          ],
          "parcoords": [
           {
            "line": {
             "colorbar": {
              "outlinewidth": 0,
              "ticks": ""
             }
            },
            "type": "parcoords"
           }
          ],
          "pie": [
           {
            "automargin": true,
            "type": "pie"
           }
          ],
          "scatter": [
           {
            "marker": {
             "colorbar": {
              "outlinewidth": 0,
              "ticks": ""
             }
            },
            "type": "scatter"
           }
          ],
          "scatter3d": [
           {
            "line": {
             "colorbar": {
              "outlinewidth": 0,
              "ticks": ""
             }
            },
            "marker": {
             "colorbar": {
              "outlinewidth": 0,
              "ticks": ""
             }
            },
            "type": "scatter3d"
           }
          ],
          "scattercarpet": [
           {
            "marker": {
             "colorbar": {
              "outlinewidth": 0,
              "ticks": ""
             }
            },
            "type": "scattercarpet"
           }
          ],
          "scattergeo": [
           {
            "marker": {
             "colorbar": {
              "outlinewidth": 0,
              "ticks": ""
             }
            },
            "type": "scattergeo"
           }
          ],
          "scattergl": [
           {
            "marker": {
             "colorbar": {
              "outlinewidth": 0,
              "ticks": ""
             }
            },
            "type": "scattergl"
           }
          ],
          "scattermapbox": [
           {
            "marker": {
             "colorbar": {
              "outlinewidth": 0,
              "ticks": ""
             }
            },
            "type": "scattermapbox"
           }
          ],
          "scatterpolar": [
           {
            "marker": {
             "colorbar": {
              "outlinewidth": 0,
              "ticks": ""
             }
            },
            "type": "scatterpolar"
           }
          ],
          "scatterpolargl": [
           {
            "marker": {
             "colorbar": {
              "outlinewidth": 0,
              "ticks": ""
             }
            },
            "type": "scatterpolargl"
           }
          ],
          "scatterternary": [
           {
            "marker": {
             "colorbar": {
              "outlinewidth": 0,
              "ticks": ""
             }
            },
            "type": "scatterternary"
           }
          ],
          "surface": [
           {
            "colorbar": {
             "outlinewidth": 0,
             "ticks": ""
            },
            "colorscale": [
             [
              0,
              "#0d0887"
             ],
             [
              0.1111111111111111,
              "#46039f"
             ],
             [
              0.2222222222222222,
              "#7201a8"
             ],
             [
              0.3333333333333333,
              "#9c179e"
             ],
             [
              0.4444444444444444,
              "#bd3786"
             ],
             [
              0.5555555555555556,
              "#d8576b"
             ],
             [
              0.6666666666666666,
              "#ed7953"
             ],
             [
              0.7777777777777778,
              "#fb9f3a"
             ],
             [
              0.8888888888888888,
              "#fdca26"
             ],
             [
              1,
              "#f0f921"
             ]
            ],
            "type": "surface"
           }
          ],
          "table": [
           {
            "cells": {
             "fill": {
              "color": "#EBF0F8"
             },
             "line": {
              "color": "white"
             }
            },
            "header": {
             "fill": {
              "color": "#C8D4E3"
             },
             "line": {
              "color": "white"
             }
            },
            "type": "table"
           }
          ]
         },
         "layout": {
          "annotationdefaults": {
           "arrowcolor": "#2a3f5f",
           "arrowhead": 0,
           "arrowwidth": 1
          },
          "coloraxis": {
           "colorbar": {
            "outlinewidth": 0,
            "ticks": ""
           }
          },
          "colorscale": {
           "diverging": [
            [
             0,
             "#8e0152"
            ],
            [
             0.1,
             "#c51b7d"
            ],
            [
             0.2,
             "#de77ae"
            ],
            [
             0.3,
             "#f1b6da"
            ],
            [
             0.4,
             "#fde0ef"
            ],
            [
             0.5,
             "#f7f7f7"
            ],
            [
             0.6,
             "#e6f5d0"
            ],
            [
             0.7,
             "#b8e186"
            ],
            [
             0.8,
             "#7fbc41"
            ],
            [
             0.9,
             "#4d9221"
            ],
            [
             1,
             "#276419"
            ]
           ],
           "sequential": [
            [
             0,
             "#0d0887"
            ],
            [
             0.1111111111111111,
             "#46039f"
            ],
            [
             0.2222222222222222,
             "#7201a8"
            ],
            [
             0.3333333333333333,
             "#9c179e"
            ],
            [
             0.4444444444444444,
             "#bd3786"
            ],
            [
             0.5555555555555556,
             "#d8576b"
            ],
            [
             0.6666666666666666,
             "#ed7953"
            ],
            [
             0.7777777777777778,
             "#fb9f3a"
            ],
            [
             0.8888888888888888,
             "#fdca26"
            ],
            [
             1,
             "#f0f921"
            ]
           ],
           "sequentialminus": [
            [
             0,
             "#0d0887"
            ],
            [
             0.1111111111111111,
             "#46039f"
            ],
            [
             0.2222222222222222,
             "#7201a8"
            ],
            [
             0.3333333333333333,
             "#9c179e"
            ],
            [
             0.4444444444444444,
             "#bd3786"
            ],
            [
             0.5555555555555556,
             "#d8576b"
            ],
            [
             0.6666666666666666,
             "#ed7953"
            ],
            [
             0.7777777777777778,
             "#fb9f3a"
            ],
            [
             0.8888888888888888,
             "#fdca26"
            ],
            [
             1,
             "#f0f921"
            ]
           ]
          },
          "colorway": [
           "#636efa",
           "#EF553B",
           "#00cc96",
           "#ab63fa",
           "#FFA15A",
           "#19d3f3",
           "#FF6692",
           "#B6E880",
           "#FF97FF",
           "#FECB52"
          ],
          "font": {
           "color": "#2a3f5f"
          },
          "geo": {
           "bgcolor": "white",
           "lakecolor": "white",
           "landcolor": "#E5ECF6",
           "showlakes": true,
           "showland": true,
           "subunitcolor": "white"
          },
          "hoverlabel": {
           "align": "left"
          },
          "hovermode": "closest",
          "mapbox": {
           "style": "light"
          },
          "paper_bgcolor": "white",
          "plot_bgcolor": "#E5ECF6",
          "polar": {
           "angularaxis": {
            "gridcolor": "white",
            "linecolor": "white",
            "ticks": ""
           },
           "bgcolor": "#E5ECF6",
           "radialaxis": {
            "gridcolor": "white",
            "linecolor": "white",
            "ticks": ""
           }
          },
          "scene": {
           "xaxis": {
            "backgroundcolor": "#E5ECF6",
            "gridcolor": "white",
            "gridwidth": 2,
            "linecolor": "white",
            "showbackground": true,
            "ticks": "",
            "zerolinecolor": "white"
           },
           "yaxis": {
            "backgroundcolor": "#E5ECF6",
            "gridcolor": "white",
            "gridwidth": 2,
            "linecolor": "white",
            "showbackground": true,
            "ticks": "",
            "zerolinecolor": "white"
           },
           "zaxis": {
            "backgroundcolor": "#E5ECF6",
            "gridcolor": "white",
            "gridwidth": 2,
            "linecolor": "white",
            "showbackground": true,
            "ticks": "",
            "zerolinecolor": "white"
           }
          },
          "shapedefaults": {
           "line": {
            "color": "#2a3f5f"
           }
          },
          "ternary": {
           "aaxis": {
            "gridcolor": "white",
            "linecolor": "white",
            "ticks": ""
           },
           "baxis": {
            "gridcolor": "white",
            "linecolor": "white",
            "ticks": ""
           },
           "bgcolor": "#E5ECF6",
           "caxis": {
            "gridcolor": "white",
            "linecolor": "white",
            "ticks": ""
           }
          },
          "title": {
           "x": 0.05
          },
          "xaxis": {
           "automargin": true,
           "gridcolor": "white",
           "linecolor": "white",
           "ticks": "",
           "title": {
            "standoff": 15
           },
           "zerolinecolor": "white",
           "zerolinewidth": 2
          },
          "yaxis": {
           "automargin": true,
           "gridcolor": "white",
           "linecolor": "white",
           "ticks": "",
           "title": {
            "standoff": 15
           },
           "zerolinecolor": "white",
           "zerolinewidth": 2
          }
         }
        },
        "title": {
         "text": "Visualizing Clusters in Two Dimensions Using T-SNE (perplexity=60)"
        },
        "xaxis": {
         "ticklen": 5,
         "title": {
          "text": "TC1"
         },
         "zeroline": false
        },
        "yaxis": {
         "ticklen": 5,
         "title": {
          "text": "TC2"
         },
         "zeroline": false
        }
       }
      },
      "text/html": [
       "<div>\n",
       "        \n",
       "        \n",
       "            <div id=\"6d9fb5a9-2774-498d-b97a-0d3deb890944\" class=\"plotly-graph-div\" style=\"height:525px; width:100%;\"></div>\n",
       "            <script type=\"text/javascript\">\n",
       "                require([\"plotly\"], function(Plotly) {\n",
       "                    window.PLOTLYENV=window.PLOTLYENV || {};\n",
       "                    \n",
       "                if (document.getElementById(\"6d9fb5a9-2774-498d-b97a-0d3deb890944\")) {\n",
       "                    Plotly.newPlot(\n",
       "                        '6d9fb5a9-2774-498d-b97a-0d3deb890944',\n",
       "                        [{\"marker\": {\"color\": \"rgba(255, 128, 255, 0.8)\"}, \"mode\": \"markers\", \"name\": \"Cluster: 0\", \"text\": [\"Sierra Leone\", \"Kenya\", \"Liechtenstein\", \"Ethiopia\", \"Sudan\", \"Benin\", \"West Bank and Gaza\", \"India\", \"Somalia\", \"Honduras\", \"Equatorial Guinea\", \"Bolivia\", \"Guinea-Bissau\", \"Zambia\", \"Bangladesh\", \"Indonesia\", \"Jamaica\", \"South Africa\", \"Angola\", \"Cote d'Ivoire\", \"Timor-Leste\", \"Kosovo\", \"Mali\", \"Gabon\", \"Malawi\", \"Mauritania\", \"Mozambique\", \"Haiti\", \"Guyana\", \"Philippines\", \"Ghana\", \"Madagascar\", \"Central African Republic\", \"Namibia\", \"Guatemala\", \"Cambodia\", \"Burundi\", \"Tanzania\", \"Zimbabwe\", \"Sao Tome and Principe\", \"Burkina Faso\", \"Senegal\", \"Papua New Guinea\", \"Guinea\", \"Rwanda\", \"Chad\", \"Niger\", \"Bhutan\", \"Cabo Verde\", \"Cameroon\", \"Pakistan\"], \"type\": \"scatter\", \"x\": [-4.526003360748291, -4.308411598205566, -6.758986473083496, -4.2752685546875, -3.3750603199005127, -4.596195697784424, -1.8160454034805298, -0.6058019995689392, -5.88244104385376, -4.303721904754639, -5.023391246795654, -3.90448260307312, -4.614080905914307, -4.751840591430664, -3.676081895828247, -3.149533271789551, -4.189614295959473, -2.0932695865631104, -4.976988315582275, -4.566227912902832, -2.66398549079895, -6.760514259338379, -4.670987129211426, -2.2590255737304688, -3.9260056018829346, -4.863813877105713, -5.256165504455566, -5.098110675811768, -4.000618934631348, -3.622366189956665, -4.859402656555176, -5.134201526641846, -4.668073654174805, -5.147422790527344, -3.879758834838867, -3.500235080718994, -3.820368766784668, -4.240270614624023, -3.7452075481414795, -4.883988380432129, -4.398392200469971, -4.402976036071777, -2.7676150798797607, -4.977696895599365, -3.8985161781311035, -4.624758720397949, -4.112283229827881, -3.9994101524353027, -4.6360602378845215, -3.895078420639038, -3.848045587539673], \"y\": [-5.444645881652832, -5.437489986419678, -4.813418865203857, -5.97692346572876, -5.982828617095947, -5.673239231109619, -5.325814247131348, -3.9637067317962646, -6.040733337402344, -3.341367483139038, -6.693575859069824, -3.612825632095337, -5.653607368469238, -4.920291423797607, -5.419312953948975, -3.7556159496307373, -3.5633907318115234, -4.972896575927734, -5.777415752410889, -5.315799713134766, -4.075906753540039, -4.811802864074707, -5.808546543121338, -5.0351243019104, -5.452619552612305, -5.499121189117432, -5.613901615142822, -4.746919631958008, -3.768331527709961, -4.131014347076416, -4.9297356605529785, -5.506310939788818, -6.55191707611084, -4.106756210327148, -4.058308124542236, -4.482205867767334, -5.680305004119873, -5.279493808746338, -4.885650157928467, -4.2428879737854, -5.653482913970947, -5.203841209411621, -4.329958438873291, -6.160839557647705, -5.374945640563965, -6.685362339019775, -6.673769474029541, -4.481431484222412, -3.943603038787842, -6.133262634277344, -5.810537338256836]}, {\"marker\": {\"color\": \"rgba(255, 128, 2, 0.8)\"}, \"mode\": \"markers\", \"name\": \"Cluster: 1\", \"text\": [\"United States\"], \"type\": \"scatter\", \"x\": [-0.1444799154996872], \"y\": [-1.522223711013794]}, {\"marker\": {\"color\": \"rgba(0, 255, 200, 0.8)\"}, \"mode\": \"markers\", \"name\": \"Cluster: 2\", \"text\": [\"Slovenia\", \"Fiji\", \"Malta\", \"Paraguay\", \"Croatia\", \"Mongolia\", \"Denmark\", \"Ukraine\", \"Germany\", \"Algeria\", \"Azerbaijan\", \"Cyprus\", \"Bahrain\", \"Belgium\", \"Singapore\", \"Japan\", \"Andorra\", \"Morocco\", \"Spain\", \"Chile\", \"Brazil\", \"Kazakhstan\", \"Monaco\", \"Dominican Republic\", \"Mexico\", \"Mauritius\", \"Nicaragua\", \"Tunisia\", \"Uzbekistan\", \"Lebanon\", \"Finland\", \"Georgia\", \"Saudi Arabia\", \"Italy\", \"United Kingdom\", \"United Arab Emirates\", \"Albania\", \"Peru\", \"Suriname\", \"Moldova\", \"Lithuania\", \"Israel\", \"Netherlands\", \"Maldives\", \"Greece\", \"Serbia\", \"Turkey\", \"Antigua and Barbuda\", \"Estonia\", \"Cuba\", \"Ecuador\", \"Belarus\", \"Latvia\", \"Austria\", \"France\", \"Grenada\", \"Portugal\", \"Luxembourg\", \"Sweden\", \"Iceland\", \"San Marino\", \"El Salvador\", \"Belize\", \"Panama\", \"Costa Rica\", \"Dominica\", \"Hungary\", \"Qatar\", \"Oman\", \"Trinidad and Tobago\", \"Armenia\", \"China\", \"Uruguay\", \"Thailand\", \"Norway\"], \"type\": \"scatter\", \"x\": [-3.2649567127227783, -3.401951551437378, -2.905491352081299, -3.6622073650360107, -3.051952362060547, -5.181845664978027, -1.9260708093643188, -2.054269790649414, -1.1969451904296875, -4.104211807250977, -4.27183198928833, -3.2515525817871094, -5.432462692260742, -2.325106143951416, -4.10186767578125, -1.4207035303115845, -1.717044472694397, -3.9913489818573, -0.3984247148036957, -3.637164354324341, -2.2657101154327393, -2.771324872970581, -4.115857124328613, -4.014106273651123, -3.6018290519714355, -3.2045810222625732, -4.061624526977539, -4.359774589538574, -3.121392011642456, -4.663728713989258, -1.9239028692245483, -4.30768346786499, -5.593680381774902, -0.3935495913028717, -0.6829558610916138, -5.173638343811035, -3.5893566608428955, -3.7861881256103516, -4.469196319580078, -3.082383632659912, -3.1238386631011963, -3.3092615604400635, -2.243640661239624, -2.984266519546509, -3.474581003189087, -4.498659610748291, -5.7791523933410645, -2.7160093784332275, -3.0938618183135986, -2.693793535232544, -3.736867666244507, -3.365487813949585, -3.083817481994629, -1.9805371761322021, -0.5391524434089661, -2.850130796432495, -2.9551217555999756, -1.858892798423767, -1.883941650390625, -1.9178000688552856, -4.270611763000488, -3.691610336303711, -3.5893118381500244, -3.5475244522094727, -3.8931221961975098, -1.7928392887115479, -3.189603090286255, -5.693248748779297, -5.0641093254089355, -3.3055500984191895, -4.555831432342529, -0.5841366648674011, -3.628753662109375, -3.1902010440826416, -1.883499264717102], \"y\": [-0.3325922191143036, -2.680924415588379, -0.8970252871513367, -3.0635998249053955, -1.1685539484024048, -2.333411931991577, -0.4122486412525177, -1.6979628801345825, -0.32399559020996094, -2.7268388271331787, -2.192495584487915, -1.5880910158157349, -1.0508654117584229, 0.2309240698814392, 0.4734291136264801, 0.18695412576198578, -2.677915573120117, -2.9352645874023438, -1.2188876867294312, -2.043290615081787, -3.394864797592163, -1.8777024745941162, 0.6941695809364319, -2.6658074855804443, -2.660775661468506, -2.2375025749206543, -3.459301710128784, -2.216222047805786, -2.664252996444702, -3.05879282951355, -0.38162440061569214, -1.8528831005096436, -1.1430144309997559, -1.213504672050476, -0.927056074142456, -0.7512235641479492, -1.8512978553771973, -3.2572531700134277, -2.363349676132202, -2.048915386199951, -0.4549792408943176, -1.5527946949005127, 0.11420765519142151, -2.5584959983825684, -1.1396172046661377, -1.509413719177246, -2.337352991104126, -2.8169398307800293, -0.6893103718757629, -1.87432062625885, -3.3601579666137695, -0.2935716211795807, -0.8394065499305725, -0.19493550062179565, -1.0138344764709473, -2.7564008235931396, -1.171608805656433, -0.05162499099969864, -0.4239030182361603, -0.44984811544418335, -0.8398535251617432, -3.1363635063171387, -3.3418548107147217, -2.8210766315460205, -2.2464396953582764, -2.730808973312378, -0.27035579085350037, -0.8281295895576477, -2.839473247528076, -2.4248340129852295, -2.003075122833252, -3.895655870437622, -1.6610374450683594, -2.8718137741088867, -0.3748079836368561]}],\n",
       "                        {\"template\": {\"data\": {\"bar\": [{\"error_x\": {\"color\": \"#2a3f5f\"}, \"error_y\": {\"color\": \"#2a3f5f\"}, \"marker\": {\"line\": {\"color\": \"#E5ECF6\", \"width\": 0.5}}, \"type\": \"bar\"}], \"barpolar\": [{\"marker\": {\"line\": {\"color\": \"#E5ECF6\", \"width\": 0.5}}, \"type\": \"barpolar\"}], \"carpet\": [{\"aaxis\": {\"endlinecolor\": \"#2a3f5f\", \"gridcolor\": \"white\", \"linecolor\": \"white\", \"minorgridcolor\": \"white\", \"startlinecolor\": \"#2a3f5f\"}, \"baxis\": {\"endlinecolor\": \"#2a3f5f\", \"gridcolor\": \"white\", \"linecolor\": \"white\", \"minorgridcolor\": \"white\", \"startlinecolor\": \"#2a3f5f\"}, \"type\": \"carpet\"}], \"choropleth\": [{\"colorbar\": {\"outlinewidth\": 0, \"ticks\": \"\"}, \"type\": \"choropleth\"}], \"contour\": [{\"colorbar\": {\"outlinewidth\": 0, \"ticks\": \"\"}, \"colorscale\": [[0.0, \"#0d0887\"], [0.1111111111111111, \"#46039f\"], [0.2222222222222222, \"#7201a8\"], [0.3333333333333333, \"#9c179e\"], [0.4444444444444444, \"#bd3786\"], [0.5555555555555556, \"#d8576b\"], [0.6666666666666666, \"#ed7953\"], [0.7777777777777778, \"#fb9f3a\"], [0.8888888888888888, \"#fdca26\"], [1.0, \"#f0f921\"]], \"type\": \"contour\"}], \"contourcarpet\": [{\"colorbar\": {\"outlinewidth\": 0, \"ticks\": \"\"}, \"type\": \"contourcarpet\"}], \"heatmap\": [{\"colorbar\": {\"outlinewidth\": 0, \"ticks\": \"\"}, \"colorscale\": [[0.0, \"#0d0887\"], [0.1111111111111111, \"#46039f\"], [0.2222222222222222, \"#7201a8\"], [0.3333333333333333, \"#9c179e\"], [0.4444444444444444, \"#bd3786\"], [0.5555555555555556, \"#d8576b\"], [0.6666666666666666, \"#ed7953\"], [0.7777777777777778, \"#fb9f3a\"], [0.8888888888888888, \"#fdca26\"], [1.0, \"#f0f921\"]], \"type\": \"heatmap\"}], \"heatmapgl\": [{\"colorbar\": {\"outlinewidth\": 0, \"ticks\": \"\"}, \"colorscale\": [[0.0, \"#0d0887\"], [0.1111111111111111, \"#46039f\"], [0.2222222222222222, \"#7201a8\"], [0.3333333333333333, \"#9c179e\"], [0.4444444444444444, \"#bd3786\"], [0.5555555555555556, \"#d8576b\"], [0.6666666666666666, \"#ed7953\"], [0.7777777777777778, \"#fb9f3a\"], [0.8888888888888888, \"#fdca26\"], [1.0, \"#f0f921\"]], \"type\": \"heatmapgl\"}], \"histogram\": [{\"marker\": {\"colorbar\": {\"outlinewidth\": 0, \"ticks\": \"\"}}, \"type\": \"histogram\"}], \"histogram2d\": [{\"colorbar\": {\"outlinewidth\": 0, \"ticks\": \"\"}, \"colorscale\": [[0.0, \"#0d0887\"], [0.1111111111111111, \"#46039f\"], [0.2222222222222222, \"#7201a8\"], [0.3333333333333333, \"#9c179e\"], [0.4444444444444444, \"#bd3786\"], [0.5555555555555556, \"#d8576b\"], [0.6666666666666666, \"#ed7953\"], [0.7777777777777778, \"#fb9f3a\"], [0.8888888888888888, \"#fdca26\"], [1.0, \"#f0f921\"]], \"type\": \"histogram2d\"}], \"histogram2dcontour\": [{\"colorbar\": {\"outlinewidth\": 0, \"ticks\": \"\"}, \"colorscale\": [[0.0, \"#0d0887\"], [0.1111111111111111, \"#46039f\"], [0.2222222222222222, \"#7201a8\"], [0.3333333333333333, \"#9c179e\"], [0.4444444444444444, \"#bd3786\"], [0.5555555555555556, \"#d8576b\"], [0.6666666666666666, \"#ed7953\"], [0.7777777777777778, \"#fb9f3a\"], [0.8888888888888888, \"#fdca26\"], [1.0, \"#f0f921\"]], \"type\": \"histogram2dcontour\"}], \"mesh3d\": [{\"colorbar\": {\"outlinewidth\": 0, \"ticks\": \"\"}, \"type\": \"mesh3d\"}], \"parcoords\": [{\"line\": {\"colorbar\": {\"outlinewidth\": 0, \"ticks\": \"\"}}, \"type\": \"parcoords\"}], \"pie\": [{\"automargin\": true, \"type\": \"pie\"}], \"scatter\": [{\"marker\": {\"colorbar\": {\"outlinewidth\": 0, \"ticks\": \"\"}}, \"type\": \"scatter\"}], \"scatter3d\": [{\"line\": {\"colorbar\": {\"outlinewidth\": 0, \"ticks\": \"\"}}, \"marker\": {\"colorbar\": {\"outlinewidth\": 0, \"ticks\": \"\"}}, \"type\": \"scatter3d\"}], \"scattercarpet\": [{\"marker\": {\"colorbar\": {\"outlinewidth\": 0, \"ticks\": \"\"}}, \"type\": \"scattercarpet\"}], \"scattergeo\": [{\"marker\": {\"colorbar\": {\"outlinewidth\": 0, \"ticks\": \"\"}}, \"type\": \"scattergeo\"}], \"scattergl\": [{\"marker\": {\"colorbar\": {\"outlinewidth\": 0, \"ticks\": \"\"}}, \"type\": \"scattergl\"}], \"scattermapbox\": [{\"marker\": {\"colorbar\": {\"outlinewidth\": 0, \"ticks\": \"\"}}, \"type\": \"scattermapbox\"}], \"scatterpolar\": [{\"marker\": {\"colorbar\": {\"outlinewidth\": 0, \"ticks\": \"\"}}, \"type\": \"scatterpolar\"}], \"scatterpolargl\": [{\"marker\": {\"colorbar\": {\"outlinewidth\": 0, \"ticks\": \"\"}}, \"type\": \"scatterpolargl\"}], \"scatterternary\": [{\"marker\": {\"colorbar\": {\"outlinewidth\": 0, \"ticks\": \"\"}}, \"type\": \"scatterternary\"}], \"surface\": [{\"colorbar\": {\"outlinewidth\": 0, \"ticks\": \"\"}, \"colorscale\": [[0.0, \"#0d0887\"], [0.1111111111111111, \"#46039f\"], [0.2222222222222222, \"#7201a8\"], [0.3333333333333333, \"#9c179e\"], [0.4444444444444444, \"#bd3786\"], [0.5555555555555556, \"#d8576b\"], [0.6666666666666666, \"#ed7953\"], [0.7777777777777778, \"#fb9f3a\"], [0.8888888888888888, \"#fdca26\"], [1.0, \"#f0f921\"]], \"type\": \"surface\"}], \"table\": [{\"cells\": {\"fill\": {\"color\": \"#EBF0F8\"}, \"line\": {\"color\": \"white\"}}, \"header\": {\"fill\": {\"color\": \"#C8D4E3\"}, \"line\": {\"color\": \"white\"}}, \"type\": \"table\"}]}, \"layout\": {\"annotationdefaults\": {\"arrowcolor\": \"#2a3f5f\", \"arrowhead\": 0, \"arrowwidth\": 1}, \"coloraxis\": {\"colorbar\": {\"outlinewidth\": 0, \"ticks\": \"\"}}, \"colorscale\": {\"diverging\": [[0, \"#8e0152\"], [0.1, \"#c51b7d\"], [0.2, \"#de77ae\"], [0.3, \"#f1b6da\"], [0.4, \"#fde0ef\"], [0.5, \"#f7f7f7\"], [0.6, \"#e6f5d0\"], [0.7, \"#b8e186\"], [0.8, \"#7fbc41\"], [0.9, \"#4d9221\"], [1, \"#276419\"]], \"sequential\": [[0.0, \"#0d0887\"], [0.1111111111111111, \"#46039f\"], [0.2222222222222222, \"#7201a8\"], [0.3333333333333333, \"#9c179e\"], [0.4444444444444444, \"#bd3786\"], [0.5555555555555556, \"#d8576b\"], [0.6666666666666666, \"#ed7953\"], [0.7777777777777778, \"#fb9f3a\"], [0.8888888888888888, \"#fdca26\"], [1.0, \"#f0f921\"]], \"sequentialminus\": [[0.0, \"#0d0887\"], [0.1111111111111111, \"#46039f\"], [0.2222222222222222, \"#7201a8\"], [0.3333333333333333, \"#9c179e\"], [0.4444444444444444, \"#bd3786\"], [0.5555555555555556, \"#d8576b\"], [0.6666666666666666, \"#ed7953\"], [0.7777777777777778, \"#fb9f3a\"], [0.8888888888888888, \"#fdca26\"], [1.0, \"#f0f921\"]]}, \"colorway\": [\"#636efa\", \"#EF553B\", \"#00cc96\", \"#ab63fa\", \"#FFA15A\", \"#19d3f3\", \"#FF6692\", \"#B6E880\", \"#FF97FF\", \"#FECB52\"], \"font\": {\"color\": \"#2a3f5f\"}, \"geo\": {\"bgcolor\": \"white\", \"lakecolor\": \"white\", \"landcolor\": \"#E5ECF6\", \"showlakes\": true, \"showland\": true, \"subunitcolor\": \"white\"}, \"hoverlabel\": {\"align\": \"left\"}, \"hovermode\": \"closest\", \"mapbox\": {\"style\": \"light\"}, \"paper_bgcolor\": \"white\", \"plot_bgcolor\": \"#E5ECF6\", \"polar\": {\"angularaxis\": {\"gridcolor\": \"white\", \"linecolor\": \"white\", \"ticks\": \"\"}, \"bgcolor\": \"#E5ECF6\", \"radialaxis\": {\"gridcolor\": \"white\", \"linecolor\": \"white\", \"ticks\": \"\"}}, \"scene\": {\"xaxis\": {\"backgroundcolor\": \"#E5ECF6\", \"gridcolor\": \"white\", \"gridwidth\": 2, \"linecolor\": \"white\", \"showbackground\": true, \"ticks\": \"\", \"zerolinecolor\": \"white\"}, \"yaxis\": {\"backgroundcolor\": \"#E5ECF6\", \"gridcolor\": \"white\", \"gridwidth\": 2, \"linecolor\": \"white\", \"showbackground\": true, \"ticks\": \"\", \"zerolinecolor\": \"white\"}, \"zaxis\": {\"backgroundcolor\": \"#E5ECF6\", \"gridcolor\": \"white\", \"gridwidth\": 2, \"linecolor\": \"white\", \"showbackground\": true, \"ticks\": \"\", \"zerolinecolor\": \"white\"}}, \"shapedefaults\": {\"line\": {\"color\": \"#2a3f5f\"}}, \"ternary\": {\"aaxis\": {\"gridcolor\": \"white\", \"linecolor\": \"white\", \"ticks\": \"\"}, \"baxis\": {\"gridcolor\": \"white\", \"linecolor\": \"white\", \"ticks\": \"\"}, \"bgcolor\": \"#E5ECF6\", \"caxis\": {\"gridcolor\": \"white\", \"linecolor\": \"white\", \"ticks\": \"\"}}, \"title\": {\"x\": 0.05}, \"xaxis\": {\"automargin\": true, \"gridcolor\": \"white\", \"linecolor\": \"white\", \"ticks\": \"\", \"title\": {\"standoff\": 15}, \"zerolinecolor\": \"white\", \"zerolinewidth\": 2}, \"yaxis\": {\"automargin\": true, \"gridcolor\": \"white\", \"linecolor\": \"white\", \"ticks\": \"\", \"title\": {\"standoff\": 15}, \"zerolinecolor\": \"white\", \"zerolinewidth\": 2}}}, \"title\": {\"text\": \"Visualizing Clusters in Two Dimensions Using T-SNE (perplexity=60)\"}, \"xaxis\": {\"ticklen\": 5, \"title\": {\"text\": \"TC1\"}, \"zeroline\": false}, \"yaxis\": {\"ticklen\": 5, \"title\": {\"text\": \"TC2\"}, \"zeroline\": false}},\n",
       "                        {\"responsive\": true}\n",
       "                    ).then(function(){\n",
       "                            \n",
       "var gd = document.getElementById('6d9fb5a9-2774-498d-b97a-0d3deb890944');\n",
       "var x = new MutationObserver(function (mutations, observer) {{\n",
       "        var display = window.getComputedStyle(gd).display;\n",
       "        if (!display || display === 'none') {{\n",
       "            console.log([gd, 'removed!']);\n",
       "            Plotly.purge(gd);\n",
       "            observer.disconnect();\n",
       "        }}\n",
       "}});\n",
       "\n",
       "// Listen for the removal of the full notebook cells\n",
       "var notebookContainer = gd.closest('#notebook-container');\n",
       "if (notebookContainer) {{\n",
       "    x.observe(notebookContainer, {childList: true});\n",
       "}}\n",
       "\n",
       "// Listen for the clearing of the current output cell\n",
       "var outputEl = gd.closest('.output');\n",
       "if (outputEl) {{\n",
       "    x.observe(outputEl, {childList: true});\n",
       "}}\n",
       "\n",
       "                        })\n",
       "                };\n",
       "                });\n",
       "            </script>\n",
       "        </div>"
      ]
     },
     "metadata": {},
     "output_type": "display_data"
    },
    {
     "data": {
      "application/vnd.plotly.v1+json": {
       "config": {
        "linkText": "Export to plot.ly",
        "plotlyServerURL": "https://plot.ly",
        "showLink": false
       },
       "data": [
        {
         "marker": {
          "color": "rgba(255, 128, 255, 0.8)"
         },
         "mode": "markers",
         "name": "Cluster: 0",
         "text": [
          "Sierra Leone",
          "Kenya",
          "Liechtenstein",
          "Ethiopia",
          "Sudan",
          "Benin",
          "West Bank and Gaza",
          "India",
          "Somalia",
          "Honduras",
          "Equatorial Guinea",
          "Bolivia",
          "Guinea-Bissau",
          "Zambia",
          "Bangladesh",
          "Indonesia",
          "Jamaica",
          "South Africa",
          "Angola",
          "Cote d'Ivoire",
          "Timor-Leste",
          "Kosovo",
          "Mali",
          "Gabon",
          "Malawi",
          "Mauritania",
          "Mozambique",
          "Haiti",
          "Guyana",
          "Philippines",
          "Ghana",
          "Madagascar",
          "Central African Republic",
          "Namibia",
          "Guatemala",
          "Cambodia",
          "Burundi",
          "Tanzania",
          "Zimbabwe",
          "Sao Tome and Principe",
          "Burkina Faso",
          "Senegal",
          "Papua New Guinea",
          "Guinea",
          "Rwanda",
          "Chad",
          "Niger",
          "Bhutan",
          "Cabo Verde",
          "Cameroon",
          "Pakistan"
         ],
         "type": "scatter",
         "x": [
          -6.883860111236572,
          -6.699491500854492,
          -8.461315155029297,
          -7.003368854522705,
          -7.2550153732299805,
          -6.968186378479004,
          -7.437044620513916,
          -4.538471698760986,
          -8.2001953125,
          -5.688893795013428,
          -7.9297308921813965,
          -5.601224422454834,
          -7.012414932250977,
          -6.83287239074707,
          -6.212761878967285,
          -5.424740791320801,
          -5.78080415725708,
          -6.90654182434082,
          -7.296131134033203,
          -6.761857986450195,
          -5.187817096710205,
          -8.475480079650879,
          -7.161324977874756,
          -6.9376983642578125,
          -6.574820518493652,
          -7.1456451416015625,
          -7.378771781921387,
          -7.01657772064209,
          -5.947183132171631,
          -5.771243095397949,
          -6.553696155548096,
          -7.1789164543151855,
          -7.6254754066467285,
          -6.7938432693481445,
          -5.807122230529785,
          -5.60640811920166,
          -6.548831462860107,
          -6.540482044219971,
          -6.099269390106201,
          -6.718907356262207,
          -6.919769763946533,
          -6.650163650512695,
          -5.376303672790527,
          -7.558923244476318,
          -6.3889594078063965,
          -7.656565189361572,
          -7.241273403167725,
          -5.981427192687988,
          -6.343045234680176,
          -6.639221668243408,
          -6.524384498596191
         ],
         "y": [
          5.2605791091918945,
          5.546123027801514,
          3.966312885284424,
          5.732398986816406,
          4.42722225189209,
          5.358722686767578,
          2.884124755859375,
          6.920066833496094,
          5.61296272277832,
          4.155786991119385,
          4.922077655792236,
          4.420586585998535,
          5.445336818695068,
          4.658291816711426,
          5.684083938598633,
          4.724234104156494,
          4.135969638824463,
          3.022315502166748,
          5.005162715911865,
          5.156845569610596,
          5.31973934173584,
          3.9637186527252197,
          5.302526473999023,
          3.217194080352783,
          5.596668720245361,
          4.955943584442139,
          5.423535346984863,
          4.351180553436279,
          4.093000411987305,
          4.807761192321777,
          5.008677959442139,
          5.366070747375488,
          5.712159156799316,
          3.5520403385162354,
          4.7057085037231445,
          5.410800933837891,
          5.847748756408691,
          5.481054782867432,
          5.246675491333008,
          4.090061664581299,
          5.444830894470215,
          5.081554412841797,
          5.524694919586182,
          5.202354907989502,
          5.61794900894165,
          5.89410400390625,
          6.273915767669678,
          4.980465412139893,
          4.064704418182373,
          5.994784355163574,
          5.7788543701171875
         ]
        },
        {
         "marker": {
          "color": "rgba(255, 128, 2, 0.8)"
         },
         "mode": "markers",
         "name": "Cluster: 1",
         "text": [
          "United States"
         ],
         "type": "scatter",
         "x": [
          -1.6692333221435547
         ],
         "y": [
          4.248622894287109
         ]
        },
        {
         "marker": {
          "color": "rgba(0, 255, 200, 0.8)"
         },
         "mode": "markers",
         "name": "Cluster: 2",
         "text": [
          "Slovenia",
          "Fiji",
          "Malta",
          "Paraguay",
          "Croatia",
          "Mongolia",
          "Denmark",
          "Ukraine",
          "Germany",
          "Algeria",
          "Azerbaijan",
          "Cyprus",
          "Bahrain",
          "Belgium",
          "Singapore",
          "Japan",
          "Andorra",
          "Morocco",
          "Spain",
          "Chile",
          "Brazil",
          "Kazakhstan",
          "Monaco",
          "Dominican Republic",
          "Mexico",
          "Mauritius",
          "Nicaragua",
          "Tunisia",
          "Uzbekistan",
          "Lebanon",
          "Finland",
          "Georgia",
          "Saudi Arabia",
          "Italy",
          "United Kingdom",
          "United Arab Emirates",
          "Albania",
          "Peru",
          "Suriname",
          "Moldova",
          "Lithuania",
          "Israel",
          "Netherlands",
          "Maldives",
          "Greece",
          "Serbia",
          "Turkey",
          "Antigua and Barbuda",
          "Estonia",
          "Cuba",
          "Ecuador",
          "Belarus",
          "Latvia",
          "Austria",
          "France",
          "Grenada",
          "Portugal",
          "Luxembourg",
          "Sweden",
          "Iceland",
          "San Marino",
          "El Salvador",
          "Belize",
          "Panama",
          "Costa Rica",
          "Dominica",
          "Hungary",
          "Qatar",
          "Oman",
          "Trinidad and Tobago",
          "Armenia",
          "China",
          "Uruguay",
          "Thailand",
          "Norway"
         ],
         "type": "scatter",
         "x": [
          -3.8416123390197754,
          -4.8825812339782715,
          -3.700352430343628,
          -5.20021915435791,
          -4.154696464538574,
          -5.698825359344482,
          -2.949969530105591,
          -5.081685543060303,
          -2.3090407848358154,
          -5.478075981140137,
          -5.177727699279785,
          -4.234774112701416,
          -3.6910181045532227,
          -2.8439018726348877,
          -3.2883005142211914,
          -2.4482054710388184,
          -3.685896158218384,
          -5.388640403747559,
          -1.8112646341323853,
          -4.6518425941467285,
          -5.949005126953125,
          -4.165189743041992,
          -3.2298736572265625,
          -5.2472076416015625,
          -4.779216289520264,
          -4.657994747161865,
          -5.5581254959106445,
          -5.490773677825928,
          -4.751092910766602,
          -5.784000396728516,
          -2.9433000087738037,
          -5.240451335906982,
          -3.7145235538482666,
          -1.804500699043274,
          -2.029357433319092,
          -3.4625871181488037,
          -4.767340660095215,
          -5.290513515472412,
          -5.3314032554626465,
          -4.684812068939209,
          -3.86430025100708,
          -4.007082462310791,
          -2.8644979000091553,
          -4.723006725311279,
          -4.439598083496094,
          -5.131221771240234,
          -4.481433391571045,
          -4.530643463134766,
          -3.8883249759674072,
          -4.096643924713135,
          -5.387677192687988,
          -4.2221455574035645,
          -3.9833319187164307,
          -2.9118995666503906,
          -1.8896082639694214,
          -4.5855712890625,
          -3.979323625564575,
          -2.722215175628662,
          -2.911137580871582,
          -2.9691226482391357,
          -3.550377368927002,
          -5.158234596252441,
          -5.320382118225098,
          -4.939164161682129,
          -5.145375728607178,
          -3.833725929260254,
          -3.7958483695983887,
          -3.3291049003601074,
          -4.60037088394165,
          -4.5933709144592285,
          -5.543066501617432,
          -4.46413516998291,
          -4.584214687347412,
          -4.699685096740723,
          -2.911611557006836
         ],
         "y": [
          2.3357338905334473,
          3.9244847297668457,
          2.9636569023132324,
          4.109959602355957,
          2.8502280712127686,
          2.6297264099121094,
          3.1545047760009766,
          1.9241527318954468,
          3.011814832687378,
          3.6477768421173096,
          3.184622049331665,
          3.3417739868164062,
          5.139762878417969,
          2.48626708984375,
          1.541024088859558,
          2.471893548965454,
          4.441225051879883,
          3.8797178268432617,
          3.9496264457702637,
          3.537428855895996,
          2.980064868927002,
          3.4918301105499268,
          1.3167513608932495,
          3.736971616744995,
          4.085397243499756,
          3.5694305896759033,
          4.250945091247559,
          3.1400883197784424,
          3.9791457653045654,
          3.7069318294525146,
          3.041477918624878,
          2.8212735652923584,
          5.327945709228516,
          3.945920705795288,
          3.6538450717926025,
          4.919117450714111,
          3.174947738647461,
          4.289944171905518,
          3.2537779808044434,
          3.1984946727752686,
          2.390209436416626,
          3.6238231658935547,
          2.6246604919433594,
          3.763331890106201,
          2.5916249752044678,
          2.3277902603149414,
          5.906811237335205,
          4.380824089050293,
          2.6258127689361572,
          3.565901517868042,
          4.2813239097595215,
          2.0390737056732178,
          2.6916580200195312,
          2.814754009246826,
          3.743168592453003,
          4.249660491943359,
          3.0083975791931152,
          3.1376211643218994,
          3.1351685523986816,
          3.254835605621338,
          4.120007514953613,
          4.239756107330322,
          4.301295757293701,
          4.064801216125488,
          3.3850114345550537,
          4.49686336517334,
          2.2723217010498047,
          5.406147480010986,
          4.9315385818481445,
          3.969602346420288,
          2.814401149749756,
          6.902762413024902,
          3.143859624862671,
          4.315772533416748,
          3.1605429649353027
         ]
        }
       ],
       "layout": {
        "template": {
         "data": {
          "bar": [
           {
            "error_x": {
             "color": "#2a3f5f"
            },
            "error_y": {
             "color": "#2a3f5f"
            },
            "marker": {
             "line": {
              "color": "#E5ECF6",
              "width": 0.5
             }
            },
            "type": "bar"
           }
          ],
          "barpolar": [
           {
            "marker": {
             "line": {
              "color": "#E5ECF6",
              "width": 0.5
             }
            },
            "type": "barpolar"
           }
          ],
          "carpet": [
           {
            "aaxis": {
             "endlinecolor": "#2a3f5f",
             "gridcolor": "white",
             "linecolor": "white",
             "minorgridcolor": "white",
             "startlinecolor": "#2a3f5f"
            },
            "baxis": {
             "endlinecolor": "#2a3f5f",
             "gridcolor": "white",
             "linecolor": "white",
             "minorgridcolor": "white",
             "startlinecolor": "#2a3f5f"
            },
            "type": "carpet"
           }
          ],
          "choropleth": [
           {
            "colorbar": {
             "outlinewidth": 0,
             "ticks": ""
            },
            "type": "choropleth"
           }
          ],
          "contour": [
           {
            "colorbar": {
             "outlinewidth": 0,
             "ticks": ""
            },
            "colorscale": [
             [
              0,
              "#0d0887"
             ],
             [
              0.1111111111111111,
              "#46039f"
             ],
             [
              0.2222222222222222,
              "#7201a8"
             ],
             [
              0.3333333333333333,
              "#9c179e"
             ],
             [
              0.4444444444444444,
              "#bd3786"
             ],
             [
              0.5555555555555556,
              "#d8576b"
             ],
             [
              0.6666666666666666,
              "#ed7953"
             ],
             [
              0.7777777777777778,
              "#fb9f3a"
             ],
             [
              0.8888888888888888,
              "#fdca26"
             ],
             [
              1,
              "#f0f921"
             ]
            ],
            "type": "contour"
           }
          ],
          "contourcarpet": [
           {
            "colorbar": {
             "outlinewidth": 0,
             "ticks": ""
            },
            "type": "contourcarpet"
           }
          ],
          "heatmap": [
           {
            "colorbar": {
             "outlinewidth": 0,
             "ticks": ""
            },
            "colorscale": [
             [
              0,
              "#0d0887"
             ],
             [
              0.1111111111111111,
              "#46039f"
             ],
             [
              0.2222222222222222,
              "#7201a8"
             ],
             [
              0.3333333333333333,
              "#9c179e"
             ],
             [
              0.4444444444444444,
              "#bd3786"
             ],
             [
              0.5555555555555556,
              "#d8576b"
             ],
             [
              0.6666666666666666,
              "#ed7953"
             ],
             [
              0.7777777777777778,
              "#fb9f3a"
             ],
             [
              0.8888888888888888,
              "#fdca26"
             ],
             [
              1,
              "#f0f921"
             ]
            ],
            "type": "heatmap"
           }
          ],
          "heatmapgl": [
           {
            "colorbar": {
             "outlinewidth": 0,
             "ticks": ""
            },
            "colorscale": [
             [
              0,
              "#0d0887"
             ],
             [
              0.1111111111111111,
              "#46039f"
             ],
             [
              0.2222222222222222,
              "#7201a8"
             ],
             [
              0.3333333333333333,
              "#9c179e"
             ],
             [
              0.4444444444444444,
              "#bd3786"
             ],
             [
              0.5555555555555556,
              "#d8576b"
             ],
             [
              0.6666666666666666,
              "#ed7953"
             ],
             [
              0.7777777777777778,
              "#fb9f3a"
             ],
             [
              0.8888888888888888,
              "#fdca26"
             ],
             [
              1,
              "#f0f921"
             ]
            ],
            "type": "heatmapgl"
           }
          ],
          "histogram": [
           {
            "marker": {
             "colorbar": {
              "outlinewidth": 0,
              "ticks": ""
             }
            },
            "type": "histogram"
           }
          ],
          "histogram2d": [
           {
            "colorbar": {
             "outlinewidth": 0,
             "ticks": ""
            },
            "colorscale": [
             [
              0,
              "#0d0887"
             ],
             [
              0.1111111111111111,
              "#46039f"
             ],
             [
              0.2222222222222222,
              "#7201a8"
             ],
             [
              0.3333333333333333,
              "#9c179e"
             ],
             [
              0.4444444444444444,
              "#bd3786"
             ],
             [
              0.5555555555555556,
              "#d8576b"
             ],
             [
              0.6666666666666666,
              "#ed7953"
             ],
             [
              0.7777777777777778,
              "#fb9f3a"
             ],
             [
              0.8888888888888888,
              "#fdca26"
             ],
             [
              1,
              "#f0f921"
             ]
            ],
            "type": "histogram2d"
           }
          ],
          "histogram2dcontour": [
           {
            "colorbar": {
             "outlinewidth": 0,
             "ticks": ""
            },
            "colorscale": [
             [
              0,
              "#0d0887"
             ],
             [
              0.1111111111111111,
              "#46039f"
             ],
             [
              0.2222222222222222,
              "#7201a8"
             ],
             [
              0.3333333333333333,
              "#9c179e"
             ],
             [
              0.4444444444444444,
              "#bd3786"
             ],
             [
              0.5555555555555556,
              "#d8576b"
             ],
             [
              0.6666666666666666,
              "#ed7953"
             ],
             [
              0.7777777777777778,
              "#fb9f3a"
             ],
             [
              0.8888888888888888,
              "#fdca26"
             ],
             [
              1,
              "#f0f921"
             ]
            ],
            "type": "histogram2dcontour"
           }
          ],
          "mesh3d": [
           {
            "colorbar": {
             "outlinewidth": 0,
             "ticks": ""
            },
            "type": "mesh3d"
           }
          ],
          "parcoords": [
           {
            "line": {
             "colorbar": {
              "outlinewidth": 0,
              "ticks": ""
             }
            },
            "type": "parcoords"
           }
          ],
          "pie": [
           {
            "automargin": true,
            "type": "pie"
           }
          ],
          "scatter": [
           {
            "marker": {
             "colorbar": {
              "outlinewidth": 0,
              "ticks": ""
             }
            },
            "type": "scatter"
           }
          ],
          "scatter3d": [
           {
            "line": {
             "colorbar": {
              "outlinewidth": 0,
              "ticks": ""
             }
            },
            "marker": {
             "colorbar": {
              "outlinewidth": 0,
              "ticks": ""
             }
            },
            "type": "scatter3d"
           }
          ],
          "scattercarpet": [
           {
            "marker": {
             "colorbar": {
              "outlinewidth": 0,
              "ticks": ""
             }
            },
            "type": "scattercarpet"
           }
          ],
          "scattergeo": [
           {
            "marker": {
             "colorbar": {
              "outlinewidth": 0,
              "ticks": ""
             }
            },
            "type": "scattergeo"
           }
          ],
          "scattergl": [
           {
            "marker": {
             "colorbar": {
              "outlinewidth": 0,
              "ticks": ""
             }
            },
            "type": "scattergl"
           }
          ],
          "scattermapbox": [
           {
            "marker": {
             "colorbar": {
              "outlinewidth": 0,
              "ticks": ""
             }
            },
            "type": "scattermapbox"
           }
          ],
          "scatterpolar": [
           {
            "marker": {
             "colorbar": {
              "outlinewidth": 0,
              "ticks": ""
             }
            },
            "type": "scatterpolar"
           }
          ],
          "scatterpolargl": [
           {
            "marker": {
             "colorbar": {
              "outlinewidth": 0,
              "ticks": ""
             }
            },
            "type": "scatterpolargl"
           }
          ],
          "scatterternary": [
           {
            "marker": {
             "colorbar": {
              "outlinewidth": 0,
              "ticks": ""
             }
            },
            "type": "scatterternary"
           }
          ],
          "surface": [
           {
            "colorbar": {
             "outlinewidth": 0,
             "ticks": ""
            },
            "colorscale": [
             [
              0,
              "#0d0887"
             ],
             [
              0.1111111111111111,
              "#46039f"
             ],
             [
              0.2222222222222222,
              "#7201a8"
             ],
             [
              0.3333333333333333,
              "#9c179e"
             ],
             [
              0.4444444444444444,
              "#bd3786"
             ],
             [
              0.5555555555555556,
              "#d8576b"
             ],
             [
              0.6666666666666666,
              "#ed7953"
             ],
             [
              0.7777777777777778,
              "#fb9f3a"
             ],
             [
              0.8888888888888888,
              "#fdca26"
             ],
             [
              1,
              "#f0f921"
             ]
            ],
            "type": "surface"
           }
          ],
          "table": [
           {
            "cells": {
             "fill": {
              "color": "#EBF0F8"
             },
             "line": {
              "color": "white"
             }
            },
            "header": {
             "fill": {
              "color": "#C8D4E3"
             },
             "line": {
              "color": "white"
             }
            },
            "type": "table"
           }
          ]
         },
         "layout": {
          "annotationdefaults": {
           "arrowcolor": "#2a3f5f",
           "arrowhead": 0,
           "arrowwidth": 1
          },
          "coloraxis": {
           "colorbar": {
            "outlinewidth": 0,
            "ticks": ""
           }
          },
          "colorscale": {
           "diverging": [
            [
             0,
             "#8e0152"
            ],
            [
             0.1,
             "#c51b7d"
            ],
            [
             0.2,
             "#de77ae"
            ],
            [
             0.3,
             "#f1b6da"
            ],
            [
             0.4,
             "#fde0ef"
            ],
            [
             0.5,
             "#f7f7f7"
            ],
            [
             0.6,
             "#e6f5d0"
            ],
            [
             0.7,
             "#b8e186"
            ],
            [
             0.8,
             "#7fbc41"
            ],
            [
             0.9,
             "#4d9221"
            ],
            [
             1,
             "#276419"
            ]
           ],
           "sequential": [
            [
             0,
             "#0d0887"
            ],
            [
             0.1111111111111111,
             "#46039f"
            ],
            [
             0.2222222222222222,
             "#7201a8"
            ],
            [
             0.3333333333333333,
             "#9c179e"
            ],
            [
             0.4444444444444444,
             "#bd3786"
            ],
            [
             0.5555555555555556,
             "#d8576b"
            ],
            [
             0.6666666666666666,
             "#ed7953"
            ],
            [
             0.7777777777777778,
             "#fb9f3a"
            ],
            [
             0.8888888888888888,
             "#fdca26"
            ],
            [
             1,
             "#f0f921"
            ]
           ],
           "sequentialminus": [
            [
             0,
             "#0d0887"
            ],
            [
             0.1111111111111111,
             "#46039f"
            ],
            [
             0.2222222222222222,
             "#7201a8"
            ],
            [
             0.3333333333333333,
             "#9c179e"
            ],
            [
             0.4444444444444444,
             "#bd3786"
            ],
            [
             0.5555555555555556,
             "#d8576b"
            ],
            [
             0.6666666666666666,
             "#ed7953"
            ],
            [
             0.7777777777777778,
             "#fb9f3a"
            ],
            [
             0.8888888888888888,
             "#fdca26"
            ],
            [
             1,
             "#f0f921"
            ]
           ]
          },
          "colorway": [
           "#636efa",
           "#EF553B",
           "#00cc96",
           "#ab63fa",
           "#FFA15A",
           "#19d3f3",
           "#FF6692",
           "#B6E880",
           "#FF97FF",
           "#FECB52"
          ],
          "font": {
           "color": "#2a3f5f"
          },
          "geo": {
           "bgcolor": "white",
           "lakecolor": "white",
           "landcolor": "#E5ECF6",
           "showlakes": true,
           "showland": true,
           "subunitcolor": "white"
          },
          "hoverlabel": {
           "align": "left"
          },
          "hovermode": "closest",
          "mapbox": {
           "style": "light"
          },
          "paper_bgcolor": "white",
          "plot_bgcolor": "#E5ECF6",
          "polar": {
           "angularaxis": {
            "gridcolor": "white",
            "linecolor": "white",
            "ticks": ""
           },
           "bgcolor": "#E5ECF6",
           "radialaxis": {
            "gridcolor": "white",
            "linecolor": "white",
            "ticks": ""
           }
          },
          "scene": {
           "xaxis": {
            "backgroundcolor": "#E5ECF6",
            "gridcolor": "white",
            "gridwidth": 2,
            "linecolor": "white",
            "showbackground": true,
            "ticks": "",
            "zerolinecolor": "white"
           },
           "yaxis": {
            "backgroundcolor": "#E5ECF6",
            "gridcolor": "white",
            "gridwidth": 2,
            "linecolor": "white",
            "showbackground": true,
            "ticks": "",
            "zerolinecolor": "white"
           },
           "zaxis": {
            "backgroundcolor": "#E5ECF6",
            "gridcolor": "white",
            "gridwidth": 2,
            "linecolor": "white",
            "showbackground": true,
            "ticks": "",
            "zerolinecolor": "white"
           }
          },
          "shapedefaults": {
           "line": {
            "color": "#2a3f5f"
           }
          },
          "ternary": {
           "aaxis": {
            "gridcolor": "white",
            "linecolor": "white",
            "ticks": ""
           },
           "baxis": {
            "gridcolor": "white",
            "linecolor": "white",
            "ticks": ""
           },
           "bgcolor": "#E5ECF6",
           "caxis": {
            "gridcolor": "white",
            "linecolor": "white",
            "ticks": ""
           }
          },
          "title": {
           "x": 0.05
          },
          "xaxis": {
           "automargin": true,
           "gridcolor": "white",
           "linecolor": "white",
           "ticks": "",
           "title": {
            "standoff": 15
           },
           "zerolinecolor": "white",
           "zerolinewidth": 2
          },
          "yaxis": {
           "automargin": true,
           "gridcolor": "white",
           "linecolor": "white",
           "ticks": "",
           "title": {
            "standoff": 15
           },
           "zerolinecolor": "white",
           "zerolinewidth": 2
          }
         }
        },
        "title": {
         "text": "Visualizing Clusters in Two Dimensions Using T-SNE (perplexity=70)"
        },
        "xaxis": {
         "ticklen": 5,
         "title": {
          "text": "TC1"
         },
         "zeroline": false
        },
        "yaxis": {
         "ticklen": 5,
         "title": {
          "text": "TC2"
         },
         "zeroline": false
        }
       }
      },
      "text/html": [
       "<div>\n",
       "        \n",
       "        \n",
       "            <div id=\"d47adaf6-18d0-4d55-8a2a-90a8ff4054a8\" class=\"plotly-graph-div\" style=\"height:525px; width:100%;\"></div>\n",
       "            <script type=\"text/javascript\">\n",
       "                require([\"plotly\"], function(Plotly) {\n",
       "                    window.PLOTLYENV=window.PLOTLYENV || {};\n",
       "                    \n",
       "                if (document.getElementById(\"d47adaf6-18d0-4d55-8a2a-90a8ff4054a8\")) {\n",
       "                    Plotly.newPlot(\n",
       "                        'd47adaf6-18d0-4d55-8a2a-90a8ff4054a8',\n",
       "                        [{\"marker\": {\"color\": \"rgba(255, 128, 255, 0.8)\"}, \"mode\": \"markers\", \"name\": \"Cluster: 0\", \"text\": [\"Sierra Leone\", \"Kenya\", \"Liechtenstein\", \"Ethiopia\", \"Sudan\", \"Benin\", \"West Bank and Gaza\", \"India\", \"Somalia\", \"Honduras\", \"Equatorial Guinea\", \"Bolivia\", \"Guinea-Bissau\", \"Zambia\", \"Bangladesh\", \"Indonesia\", \"Jamaica\", \"South Africa\", \"Angola\", \"Cote d'Ivoire\", \"Timor-Leste\", \"Kosovo\", \"Mali\", \"Gabon\", \"Malawi\", \"Mauritania\", \"Mozambique\", \"Haiti\", \"Guyana\", \"Philippines\", \"Ghana\", \"Madagascar\", \"Central African Republic\", \"Namibia\", \"Guatemala\", \"Cambodia\", \"Burundi\", \"Tanzania\", \"Zimbabwe\", \"Sao Tome and Principe\", \"Burkina Faso\", \"Senegal\", \"Papua New Guinea\", \"Guinea\", \"Rwanda\", \"Chad\", \"Niger\", \"Bhutan\", \"Cabo Verde\", \"Cameroon\", \"Pakistan\"], \"type\": \"scatter\", \"x\": [-6.883860111236572, -6.699491500854492, -8.461315155029297, -7.003368854522705, -7.2550153732299805, -6.968186378479004, -7.437044620513916, -4.538471698760986, -8.2001953125, -5.688893795013428, -7.9297308921813965, -5.601224422454834, -7.012414932250977, -6.83287239074707, -6.212761878967285, -5.424740791320801, -5.78080415725708, -6.90654182434082, -7.296131134033203, -6.761857986450195, -5.187817096710205, -8.475480079650879, -7.161324977874756, -6.9376983642578125, -6.574820518493652, -7.1456451416015625, -7.378771781921387, -7.01657772064209, -5.947183132171631, -5.771243095397949, -6.553696155548096, -7.1789164543151855, -7.6254754066467285, -6.7938432693481445, -5.807122230529785, -5.60640811920166, -6.548831462860107, -6.540482044219971, -6.099269390106201, -6.718907356262207, -6.919769763946533, -6.650163650512695, -5.376303672790527, -7.558923244476318, -6.3889594078063965, -7.656565189361572, -7.241273403167725, -5.981427192687988, -6.343045234680176, -6.639221668243408, -6.524384498596191], \"y\": [5.2605791091918945, 5.546123027801514, 3.966312885284424, 5.732398986816406, 4.42722225189209, 5.358722686767578, 2.884124755859375, 6.920066833496094, 5.61296272277832, 4.155786991119385, 4.922077655792236, 4.420586585998535, 5.445336818695068, 4.658291816711426, 5.684083938598633, 4.724234104156494, 4.135969638824463, 3.022315502166748, 5.005162715911865, 5.156845569610596, 5.31973934173584, 3.9637186527252197, 5.302526473999023, 3.217194080352783, 5.596668720245361, 4.955943584442139, 5.423535346984863, 4.351180553436279, 4.093000411987305, 4.807761192321777, 5.008677959442139, 5.366070747375488, 5.712159156799316, 3.5520403385162354, 4.7057085037231445, 5.410800933837891, 5.847748756408691, 5.481054782867432, 5.246675491333008, 4.090061664581299, 5.444830894470215, 5.081554412841797, 5.524694919586182, 5.202354907989502, 5.61794900894165, 5.89410400390625, 6.273915767669678, 4.980465412139893, 4.064704418182373, 5.994784355163574, 5.7788543701171875]}, {\"marker\": {\"color\": \"rgba(255, 128, 2, 0.8)\"}, \"mode\": \"markers\", \"name\": \"Cluster: 1\", \"text\": [\"United States\"], \"type\": \"scatter\", \"x\": [-1.6692333221435547], \"y\": [4.248622894287109]}, {\"marker\": {\"color\": \"rgba(0, 255, 200, 0.8)\"}, \"mode\": \"markers\", \"name\": \"Cluster: 2\", \"text\": [\"Slovenia\", \"Fiji\", \"Malta\", \"Paraguay\", \"Croatia\", \"Mongolia\", \"Denmark\", \"Ukraine\", \"Germany\", \"Algeria\", \"Azerbaijan\", \"Cyprus\", \"Bahrain\", \"Belgium\", \"Singapore\", \"Japan\", \"Andorra\", \"Morocco\", \"Spain\", \"Chile\", \"Brazil\", \"Kazakhstan\", \"Monaco\", \"Dominican Republic\", \"Mexico\", \"Mauritius\", \"Nicaragua\", \"Tunisia\", \"Uzbekistan\", \"Lebanon\", \"Finland\", \"Georgia\", \"Saudi Arabia\", \"Italy\", \"United Kingdom\", \"United Arab Emirates\", \"Albania\", \"Peru\", \"Suriname\", \"Moldova\", \"Lithuania\", \"Israel\", \"Netherlands\", \"Maldives\", \"Greece\", \"Serbia\", \"Turkey\", \"Antigua and Barbuda\", \"Estonia\", \"Cuba\", \"Ecuador\", \"Belarus\", \"Latvia\", \"Austria\", \"France\", \"Grenada\", \"Portugal\", \"Luxembourg\", \"Sweden\", \"Iceland\", \"San Marino\", \"El Salvador\", \"Belize\", \"Panama\", \"Costa Rica\", \"Dominica\", \"Hungary\", \"Qatar\", \"Oman\", \"Trinidad and Tobago\", \"Armenia\", \"China\", \"Uruguay\", \"Thailand\", \"Norway\"], \"type\": \"scatter\", \"x\": [-3.8416123390197754, -4.8825812339782715, -3.700352430343628, -5.20021915435791, -4.154696464538574, -5.698825359344482, -2.949969530105591, -5.081685543060303, -2.3090407848358154, -5.478075981140137, -5.177727699279785, -4.234774112701416, -3.6910181045532227, -2.8439018726348877, -3.2883005142211914, -2.4482054710388184, -3.685896158218384, -5.388640403747559, -1.8112646341323853, -4.6518425941467285, -5.949005126953125, -4.165189743041992, -3.2298736572265625, -5.2472076416015625, -4.779216289520264, -4.657994747161865, -5.5581254959106445, -5.490773677825928, -4.751092910766602, -5.784000396728516, -2.9433000087738037, -5.240451335906982, -3.7145235538482666, -1.804500699043274, -2.029357433319092, -3.4625871181488037, -4.767340660095215, -5.290513515472412, -5.3314032554626465, -4.684812068939209, -3.86430025100708, -4.007082462310791, -2.8644979000091553, -4.723006725311279, -4.439598083496094, -5.131221771240234, -4.481433391571045, -4.530643463134766, -3.8883249759674072, -4.096643924713135, -5.387677192687988, -4.2221455574035645, -3.9833319187164307, -2.9118995666503906, -1.8896082639694214, -4.5855712890625, -3.979323625564575, -2.722215175628662, -2.911137580871582, -2.9691226482391357, -3.550377368927002, -5.158234596252441, -5.320382118225098, -4.939164161682129, -5.145375728607178, -3.833725929260254, -3.7958483695983887, -3.3291049003601074, -4.60037088394165, -4.5933709144592285, -5.543066501617432, -4.46413516998291, -4.584214687347412, -4.699685096740723, -2.911611557006836], \"y\": [2.3357338905334473, 3.9244847297668457, 2.9636569023132324, 4.109959602355957, 2.8502280712127686, 2.6297264099121094, 3.1545047760009766, 1.9241527318954468, 3.011814832687378, 3.6477768421173096, 3.184622049331665, 3.3417739868164062, 5.139762878417969, 2.48626708984375, 1.541024088859558, 2.471893548965454, 4.441225051879883, 3.8797178268432617, 3.9496264457702637, 3.537428855895996, 2.980064868927002, 3.4918301105499268, 1.3167513608932495, 3.736971616744995, 4.085397243499756, 3.5694305896759033, 4.250945091247559, 3.1400883197784424, 3.9791457653045654, 3.7069318294525146, 3.041477918624878, 2.8212735652923584, 5.327945709228516, 3.945920705795288, 3.6538450717926025, 4.919117450714111, 3.174947738647461, 4.289944171905518, 3.2537779808044434, 3.1984946727752686, 2.390209436416626, 3.6238231658935547, 2.6246604919433594, 3.763331890106201, 2.5916249752044678, 2.3277902603149414, 5.906811237335205, 4.380824089050293, 2.6258127689361572, 3.565901517868042, 4.2813239097595215, 2.0390737056732178, 2.6916580200195312, 2.814754009246826, 3.743168592453003, 4.249660491943359, 3.0083975791931152, 3.1376211643218994, 3.1351685523986816, 3.254835605621338, 4.120007514953613, 4.239756107330322, 4.301295757293701, 4.064801216125488, 3.3850114345550537, 4.49686336517334, 2.2723217010498047, 5.406147480010986, 4.9315385818481445, 3.969602346420288, 2.814401149749756, 6.902762413024902, 3.143859624862671, 4.315772533416748, 3.1605429649353027]}],\n",
       "                        {\"template\": {\"data\": {\"bar\": [{\"error_x\": {\"color\": \"#2a3f5f\"}, \"error_y\": {\"color\": \"#2a3f5f\"}, \"marker\": {\"line\": {\"color\": \"#E5ECF6\", \"width\": 0.5}}, \"type\": \"bar\"}], \"barpolar\": [{\"marker\": {\"line\": {\"color\": \"#E5ECF6\", \"width\": 0.5}}, \"type\": \"barpolar\"}], \"carpet\": [{\"aaxis\": {\"endlinecolor\": \"#2a3f5f\", \"gridcolor\": \"white\", \"linecolor\": \"white\", \"minorgridcolor\": \"white\", \"startlinecolor\": \"#2a3f5f\"}, \"baxis\": {\"endlinecolor\": \"#2a3f5f\", \"gridcolor\": \"white\", \"linecolor\": \"white\", \"minorgridcolor\": \"white\", \"startlinecolor\": \"#2a3f5f\"}, \"type\": \"carpet\"}], \"choropleth\": [{\"colorbar\": {\"outlinewidth\": 0, \"ticks\": \"\"}, \"type\": \"choropleth\"}], \"contour\": [{\"colorbar\": {\"outlinewidth\": 0, \"ticks\": \"\"}, \"colorscale\": [[0.0, \"#0d0887\"], [0.1111111111111111, \"#46039f\"], [0.2222222222222222, \"#7201a8\"], [0.3333333333333333, \"#9c179e\"], [0.4444444444444444, \"#bd3786\"], [0.5555555555555556, \"#d8576b\"], [0.6666666666666666, \"#ed7953\"], [0.7777777777777778, \"#fb9f3a\"], [0.8888888888888888, \"#fdca26\"], [1.0, \"#f0f921\"]], \"type\": \"contour\"}], \"contourcarpet\": [{\"colorbar\": {\"outlinewidth\": 0, \"ticks\": \"\"}, \"type\": \"contourcarpet\"}], \"heatmap\": [{\"colorbar\": {\"outlinewidth\": 0, \"ticks\": \"\"}, \"colorscale\": [[0.0, \"#0d0887\"], [0.1111111111111111, \"#46039f\"], [0.2222222222222222, \"#7201a8\"], [0.3333333333333333, \"#9c179e\"], [0.4444444444444444, \"#bd3786\"], [0.5555555555555556, \"#d8576b\"], [0.6666666666666666, \"#ed7953\"], [0.7777777777777778, \"#fb9f3a\"], [0.8888888888888888, \"#fdca26\"], [1.0, \"#f0f921\"]], \"type\": \"heatmap\"}], \"heatmapgl\": [{\"colorbar\": {\"outlinewidth\": 0, \"ticks\": \"\"}, \"colorscale\": [[0.0, \"#0d0887\"], [0.1111111111111111, \"#46039f\"], [0.2222222222222222, \"#7201a8\"], [0.3333333333333333, \"#9c179e\"], [0.4444444444444444, \"#bd3786\"], [0.5555555555555556, \"#d8576b\"], [0.6666666666666666, \"#ed7953\"], [0.7777777777777778, \"#fb9f3a\"], [0.8888888888888888, \"#fdca26\"], [1.0, \"#f0f921\"]], \"type\": \"heatmapgl\"}], \"histogram\": [{\"marker\": {\"colorbar\": {\"outlinewidth\": 0, \"ticks\": \"\"}}, \"type\": \"histogram\"}], \"histogram2d\": [{\"colorbar\": {\"outlinewidth\": 0, \"ticks\": \"\"}, \"colorscale\": [[0.0, \"#0d0887\"], [0.1111111111111111, \"#46039f\"], [0.2222222222222222, \"#7201a8\"], [0.3333333333333333, \"#9c179e\"], [0.4444444444444444, \"#bd3786\"], [0.5555555555555556, \"#d8576b\"], [0.6666666666666666, \"#ed7953\"], [0.7777777777777778, \"#fb9f3a\"], [0.8888888888888888, \"#fdca26\"], [1.0, \"#f0f921\"]], \"type\": \"histogram2d\"}], \"histogram2dcontour\": [{\"colorbar\": {\"outlinewidth\": 0, \"ticks\": \"\"}, \"colorscale\": [[0.0, \"#0d0887\"], [0.1111111111111111, \"#46039f\"], [0.2222222222222222, \"#7201a8\"], [0.3333333333333333, \"#9c179e\"], [0.4444444444444444, \"#bd3786\"], [0.5555555555555556, \"#d8576b\"], [0.6666666666666666, \"#ed7953\"], [0.7777777777777778, \"#fb9f3a\"], [0.8888888888888888, \"#fdca26\"], [1.0, \"#f0f921\"]], \"type\": \"histogram2dcontour\"}], \"mesh3d\": [{\"colorbar\": {\"outlinewidth\": 0, \"ticks\": \"\"}, \"type\": \"mesh3d\"}], \"parcoords\": [{\"line\": {\"colorbar\": {\"outlinewidth\": 0, \"ticks\": \"\"}}, \"type\": \"parcoords\"}], \"pie\": [{\"automargin\": true, \"type\": \"pie\"}], \"scatter\": [{\"marker\": {\"colorbar\": {\"outlinewidth\": 0, \"ticks\": \"\"}}, \"type\": \"scatter\"}], \"scatter3d\": [{\"line\": {\"colorbar\": {\"outlinewidth\": 0, \"ticks\": \"\"}}, \"marker\": {\"colorbar\": {\"outlinewidth\": 0, \"ticks\": \"\"}}, \"type\": \"scatter3d\"}], \"scattercarpet\": [{\"marker\": {\"colorbar\": {\"outlinewidth\": 0, \"ticks\": \"\"}}, \"type\": \"scattercarpet\"}], \"scattergeo\": [{\"marker\": {\"colorbar\": {\"outlinewidth\": 0, \"ticks\": \"\"}}, \"type\": \"scattergeo\"}], \"scattergl\": [{\"marker\": {\"colorbar\": {\"outlinewidth\": 0, \"ticks\": \"\"}}, \"type\": \"scattergl\"}], \"scattermapbox\": [{\"marker\": {\"colorbar\": {\"outlinewidth\": 0, \"ticks\": \"\"}}, \"type\": \"scattermapbox\"}], \"scatterpolar\": [{\"marker\": {\"colorbar\": {\"outlinewidth\": 0, \"ticks\": \"\"}}, \"type\": \"scatterpolar\"}], \"scatterpolargl\": [{\"marker\": {\"colorbar\": {\"outlinewidth\": 0, \"ticks\": \"\"}}, \"type\": \"scatterpolargl\"}], \"scatterternary\": [{\"marker\": {\"colorbar\": {\"outlinewidth\": 0, \"ticks\": \"\"}}, \"type\": \"scatterternary\"}], \"surface\": [{\"colorbar\": {\"outlinewidth\": 0, \"ticks\": \"\"}, \"colorscale\": [[0.0, \"#0d0887\"], [0.1111111111111111, \"#46039f\"], [0.2222222222222222, \"#7201a8\"], [0.3333333333333333, \"#9c179e\"], [0.4444444444444444, \"#bd3786\"], [0.5555555555555556, \"#d8576b\"], [0.6666666666666666, \"#ed7953\"], [0.7777777777777778, \"#fb9f3a\"], [0.8888888888888888, \"#fdca26\"], [1.0, \"#f0f921\"]], \"type\": \"surface\"}], \"table\": [{\"cells\": {\"fill\": {\"color\": \"#EBF0F8\"}, \"line\": {\"color\": \"white\"}}, \"header\": {\"fill\": {\"color\": \"#C8D4E3\"}, \"line\": {\"color\": \"white\"}}, \"type\": \"table\"}]}, \"layout\": {\"annotationdefaults\": {\"arrowcolor\": \"#2a3f5f\", \"arrowhead\": 0, \"arrowwidth\": 1}, \"coloraxis\": {\"colorbar\": {\"outlinewidth\": 0, \"ticks\": \"\"}}, \"colorscale\": {\"diverging\": [[0, \"#8e0152\"], [0.1, \"#c51b7d\"], [0.2, \"#de77ae\"], [0.3, \"#f1b6da\"], [0.4, \"#fde0ef\"], [0.5, \"#f7f7f7\"], [0.6, \"#e6f5d0\"], [0.7, \"#b8e186\"], [0.8, \"#7fbc41\"], [0.9, \"#4d9221\"], [1, \"#276419\"]], \"sequential\": [[0.0, \"#0d0887\"], [0.1111111111111111, \"#46039f\"], [0.2222222222222222, \"#7201a8\"], [0.3333333333333333, \"#9c179e\"], [0.4444444444444444, \"#bd3786\"], [0.5555555555555556, \"#d8576b\"], [0.6666666666666666, \"#ed7953\"], [0.7777777777777778, \"#fb9f3a\"], [0.8888888888888888, \"#fdca26\"], [1.0, \"#f0f921\"]], \"sequentialminus\": [[0.0, \"#0d0887\"], [0.1111111111111111, \"#46039f\"], [0.2222222222222222, \"#7201a8\"], [0.3333333333333333, \"#9c179e\"], [0.4444444444444444, \"#bd3786\"], [0.5555555555555556, \"#d8576b\"], [0.6666666666666666, \"#ed7953\"], [0.7777777777777778, \"#fb9f3a\"], [0.8888888888888888, \"#fdca26\"], [1.0, \"#f0f921\"]]}, \"colorway\": [\"#636efa\", \"#EF553B\", \"#00cc96\", \"#ab63fa\", \"#FFA15A\", \"#19d3f3\", \"#FF6692\", \"#B6E880\", \"#FF97FF\", \"#FECB52\"], \"font\": {\"color\": \"#2a3f5f\"}, \"geo\": {\"bgcolor\": \"white\", \"lakecolor\": \"white\", \"landcolor\": \"#E5ECF6\", \"showlakes\": true, \"showland\": true, \"subunitcolor\": \"white\"}, \"hoverlabel\": {\"align\": \"left\"}, \"hovermode\": \"closest\", \"mapbox\": {\"style\": \"light\"}, \"paper_bgcolor\": \"white\", \"plot_bgcolor\": \"#E5ECF6\", \"polar\": {\"angularaxis\": {\"gridcolor\": \"white\", \"linecolor\": \"white\", \"ticks\": \"\"}, \"bgcolor\": \"#E5ECF6\", \"radialaxis\": {\"gridcolor\": \"white\", \"linecolor\": \"white\", \"ticks\": \"\"}}, \"scene\": {\"xaxis\": {\"backgroundcolor\": \"#E5ECF6\", \"gridcolor\": \"white\", \"gridwidth\": 2, \"linecolor\": \"white\", \"showbackground\": true, \"ticks\": \"\", \"zerolinecolor\": \"white\"}, \"yaxis\": {\"backgroundcolor\": \"#E5ECF6\", \"gridcolor\": \"white\", \"gridwidth\": 2, \"linecolor\": \"white\", \"showbackground\": true, \"ticks\": \"\", \"zerolinecolor\": \"white\"}, \"zaxis\": {\"backgroundcolor\": \"#E5ECF6\", \"gridcolor\": \"white\", \"gridwidth\": 2, \"linecolor\": \"white\", \"showbackground\": true, \"ticks\": \"\", \"zerolinecolor\": \"white\"}}, \"shapedefaults\": {\"line\": {\"color\": \"#2a3f5f\"}}, \"ternary\": {\"aaxis\": {\"gridcolor\": \"white\", \"linecolor\": \"white\", \"ticks\": \"\"}, \"baxis\": {\"gridcolor\": \"white\", \"linecolor\": \"white\", \"ticks\": \"\"}, \"bgcolor\": \"#E5ECF6\", \"caxis\": {\"gridcolor\": \"white\", \"linecolor\": \"white\", \"ticks\": \"\"}}, \"title\": {\"x\": 0.05}, \"xaxis\": {\"automargin\": true, \"gridcolor\": \"white\", \"linecolor\": \"white\", \"ticks\": \"\", \"title\": {\"standoff\": 15}, \"zerolinecolor\": \"white\", \"zerolinewidth\": 2}, \"yaxis\": {\"automargin\": true, \"gridcolor\": \"white\", \"linecolor\": \"white\", \"ticks\": \"\", \"title\": {\"standoff\": 15}, \"zerolinecolor\": \"white\", \"zerolinewidth\": 2}}}, \"title\": {\"text\": \"Visualizing Clusters in Two Dimensions Using T-SNE (perplexity=70)\"}, \"xaxis\": {\"ticklen\": 5, \"title\": {\"text\": \"TC1\"}, \"zeroline\": false}, \"yaxis\": {\"ticklen\": 5, \"title\": {\"text\": \"TC2\"}, \"zeroline\": false}},\n",
       "                        {\"responsive\": true}\n",
       "                    ).then(function(){\n",
       "                            \n",
       "var gd = document.getElementById('d47adaf6-18d0-4d55-8a2a-90a8ff4054a8');\n",
       "var x = new MutationObserver(function (mutations, observer) {{\n",
       "        var display = window.getComputedStyle(gd).display;\n",
       "        if (!display || display === 'none') {{\n",
       "            console.log([gd, 'removed!']);\n",
       "            Plotly.purge(gd);\n",
       "            observer.disconnect();\n",
       "        }}\n",
       "}});\n",
       "\n",
       "// Listen for the removal of the full notebook cells\n",
       "var notebookContainer = gd.closest('#notebook-container');\n",
       "if (notebookContainer) {{\n",
       "    x.observe(notebookContainer, {childList: true});\n",
       "}}\n",
       "\n",
       "// Listen for the clearing of the current output cell\n",
       "var outputEl = gd.closest('.output');\n",
       "if (outputEl) {{\n",
       "    x.observe(outputEl, {childList: true});\n",
       "}}\n",
       "\n",
       "                        })\n",
       "                };\n",
       "                });\n",
       "            </script>\n",
       "        </div>"
      ]
     },
     "metadata": {},
     "output_type": "display_data"
    },
    {
     "data": {
      "application/vnd.plotly.v1+json": {
       "config": {
        "linkText": "Export to plot.ly",
        "plotlyServerURL": "https://plot.ly",
        "showLink": false
       },
       "data": [
        {
         "marker": {
          "color": "rgba(255, 128, 255, 0.8)"
         },
         "mode": "markers",
         "name": "Cluster: 0",
         "text": [
          "Sierra Leone",
          "Kenya",
          "Liechtenstein",
          "Ethiopia",
          "Sudan",
          "Benin",
          "West Bank and Gaza",
          "India",
          "Somalia",
          "Honduras",
          "Equatorial Guinea",
          "Bolivia",
          "Guinea-Bissau",
          "Zambia",
          "Bangladesh",
          "Indonesia",
          "Jamaica",
          "South Africa",
          "Angola",
          "Cote d'Ivoire",
          "Timor-Leste",
          "Kosovo",
          "Mali",
          "Gabon",
          "Malawi",
          "Mauritania",
          "Mozambique",
          "Haiti",
          "Guyana",
          "Philippines",
          "Ghana",
          "Madagascar",
          "Central African Republic",
          "Namibia",
          "Guatemala",
          "Cambodia",
          "Burundi",
          "Tanzania",
          "Zimbabwe",
          "Sao Tome and Principe",
          "Burkina Faso",
          "Senegal",
          "Papua New Guinea",
          "Guinea",
          "Rwanda",
          "Chad",
          "Niger",
          "Bhutan",
          "Cabo Verde",
          "Cameroon",
          "Pakistan"
         ],
         "type": "scatter",
         "x": [
          3.4323787689208984,
          3.4886839389801025,
          3.8027358055114746,
          3.702133893966675,
          3.2691428661346436,
          3.4952526092529297,
          2.6637134552001953,
          2.9041924476623535,
          4.501884937286377,
          2.2080607414245605,
          3.7884252071380615,
          2.2661006450653076,
          3.6086008548736572,
          3.0901193618774414,
          3.1636838912963867,
          2.327923536300659,
          2.1932179927825928,
          2.3389487266540527,
          3.491257667541504,
          3.279693126678467,
          2.4831650257110596,
          3.8147201538085938,
          3.593107223510742,
          2.3959107398986816,
          3.4344189167022705,
          3.416367530822754,
          3.8671529293060303,
          3.014744758605957,
          2.297328472137451,
          2.583106279373169,
          3.161442995071411,
          3.6831884384155273,
          4.021701335906982,
          2.523268938064575,
          2.535964250564575,
          2.8236241340637207,
          3.5312864780426025,
          3.361564874649048,
          2.9516828060150146,
          2.7251954078674316,
          3.542386293411255,
          3.1611838340759277,
          2.7349069118499756,
          3.754096508026123,
          3.3062825202941895,
          4.157137870788574,
          4.190919399261475,
          2.751831293106079,
          2.4593210220336914,
          3.4966952800750732,
          3.3835227489471436
         ],
         "y": [
          6.483065605163574,
          6.168639183044434,
          8.134500503540039,
          6.446683406829834,
          7.246882915496826,
          6.528539657592773,
          8.300394058227539,
          4.297915458679199,
          6.2043046951293945,
          6.318264484405518,
          7.340455055236816,
          6.471968650817871,
          6.429333209991455,
          6.801212787628174,
          6.189048767089844,
          5.977198123931885,
          6.618159770965576,
          7.89552640914917,
          6.872564315795898,
          6.476423263549805,
          5.619359970092773,
          8.13433837890625,
          6.663905620574951,
          7.774206638336182,
          6.261082649230957,
          6.859806060791016,
          6.216026306152344,
          7.120527744293213,
          6.693873882293701,
          6.281101226806641,
          6.0919904708862305,
          6.2146430015563965,
          6.865446090698242,
          7.451999187469482,
          6.3242106437683105,
          5.775455474853516,
          6.1381330490112305,
          6.14280891418457,
          6.16256046295166,
          7.158697128295898,
          6.475642204284668,
          6.560168266296387,
          5.592939853668213,
          6.926316738128662,
          6.124258041381836,
          6.848349571228027,
          6.5134663581848145,
          6.4174909591674805,
          6.998751163482666,
          6.76253604888916,
          6.440253734588623
         ]
        },
        {
         "marker": {
          "color": "rgba(255, 128, 2, 0.8)"
         },
         "mode": "markers",
         "name": "Cluster: 1",
         "text": [
          "United States"
         ],
         "type": "scatter",
         "x": [
          -0.24968436360359192
         ],
         "y": [
          8.146672248840332
         ]
        },
        {
         "marker": {
          "color": "rgba(0, 255, 200, 0.8)"
         },
         "mode": "markers",
         "name": "Cluster: 2",
         "text": [
          "Slovenia",
          "Fiji",
          "Malta",
          "Paraguay",
          "Croatia",
          "Mongolia",
          "Denmark",
          "Ukraine",
          "Germany",
          "Algeria",
          "Azerbaijan",
          "Cyprus",
          "Bahrain",
          "Belgium",
          "Singapore",
          "Japan",
          "Andorra",
          "Morocco",
          "Spain",
          "Chile",
          "Brazil",
          "Kazakhstan",
          "Monaco",
          "Dominican Republic",
          "Mexico",
          "Mauritius",
          "Nicaragua",
          "Tunisia",
          "Uzbekistan",
          "Lebanon",
          "Finland",
          "Georgia",
          "Saudi Arabia",
          "Italy",
          "United Kingdom",
          "United Arab Emirates",
          "Albania",
          "Peru",
          "Suriname",
          "Moldova",
          "Lithuania",
          "Israel",
          "Netherlands",
          "Maldives",
          "Greece",
          "Serbia",
          "Turkey",
          "Antigua and Barbuda",
          "Estonia",
          "Cuba",
          "Ecuador",
          "Belarus",
          "Latvia",
          "Austria",
          "France",
          "Grenada",
          "Portugal",
          "Luxembourg",
          "Sweden",
          "Iceland",
          "San Marino",
          "El Salvador",
          "Belize",
          "Panama",
          "Costa Rica",
          "Dominica",
          "Hungary",
          "Qatar",
          "Oman",
          "Trinidad and Tobago",
          "Armenia",
          "China",
          "Uruguay",
          "Thailand",
          "Norway"
         ],
         "type": "scatter",
         "x": [
          0.23296760022640228,
          1.6345367431640625,
          0.401501327753067,
          1.897100806236267,
          0.6587818264961243,
          1.6323516368865967,
          -0.0678708404302597,
          0.7655938863754272,
          -0.46623435616493225,
          1.7534356117248535,
          1.4862785339355469,
          0.9261865019798279,
          1.1906088590621948,
          -0.4254547357559204,
          -0.43375954031944275,
          -0.6785542964935303,
          1.5358564853668213,
          1.861039161682129,
          -0.14841432869434357,
          1.2517133951187134,
          1.884389877319336,
          0.9811811447143555,
          -0.45738497376441956,
          1.7110140323638916,
          1.5622410774230957,
          1.3241262435913086,
          2.128892660140991,
          1.4615775346755981,
          1.6031432151794434,
          1.9817594289779663,
          -0.10500918328762054,
          1.2495359182357788,
          1.3609161376953125,
          -0.1613510549068451,
          -0.27440959215164185,
          0.33907538652420044,
          1.1590185165405273,
          2.0113580226898193,
          1.5561286211013794,
          1.1999255418777466,
          0.2495853751897812,
          0.8979323506355286,
          -0.3396275043487549,
          1.528220534324646,
          0.6734747290611267,
          0.9131338596343994,
          1.8528616428375244,
          1.71095609664917,
          0.4024330973625183,
          0.9732335805892944,
          2.090846061706543,
          0.24713188409805298,
          0.48106902837753296,
          -0.21979130804538727,
          -0.30105236172676086,
          1.6653008460998535,
          0.6232478618621826,
          -0.4140322208404541,
          -0.07768087089061737,
          -0.046777382493019104,
          0.8616378307342529,
          1.881183385848999,
          2.0748164653778076,
          1.6878349781036377,
          1.438287615776062,
          1.6878687143325806,
          0.14753618836402893,
          0.38733118772506714,
          1.8793736696243286,
          1.4174998998641968,
          1.443320631980896,
          2.838229179382324,
          1.0158171653747559,
          1.636439323425293,
          -0.12254604697227478
         ],
         "y": [
          5.985976696014404,
          6.18605375289917,
          6.395094871520996,
          6.334213733673096,
          6.293173789978027,
          5.361091613769531,
          6.721942901611328,
          5.2204909324646,
          7.023195266723633,
          6.838873863220215,
          5.880521774291992,
          6.431663513183594,
          7.454311847686768,
          6.421083927154541,
          5.3601555824279785,
          6.590153217315674,
          5.202307224273682,
          6.596978187561035,
          7.91730260848999,
          6.564772129058838,
          5.501412868499756,
          6.036942481994629,
          5.06924295425415,
          6.420131683349609,
          6.352656364440918,
          6.226942539215088,
          6.556041240692139,
          7.076369762420654,
          6.193963527679443,
          6.8083600997924805,
          6.701623439788818,
          6.760281562805176,
          7.627121925354004,
          7.929397106170654,
          7.569201469421387,
          5.402523994445801,
          6.630979061126709,
          6.488283157348633,
          6.120601177215576,
          6.009230136871338,
          6.070927143096924,
          6.504996299743652,
          6.466685771942139,
          5.935242176055908,
          6.884556770324707,
          5.576409816741943,
          4.701426982879639,
          5.815744876861572,
          6.193107604980469,
          6.202393054962158,
          6.391488075256348,
          5.737238883972168,
          6.238321781158447,
          6.551932334899902,
          7.7269463539123535,
          5.953755855560303,
          6.482904434204102,
          6.619956016540527,
          6.760335922241211,
          6.692810535430908,
          5.399515151977539,
          6.518581867218018,
          6.308944225311279,
          6.37275505065918,
          6.715193748474121,
          5.323846340179443,
          5.973676681518555,
          4.7569451332092285,
          7.071349143981934,
          6.28964376449585,
          7.012513637542725,
          4.270285606384277,
          6.635605335235596,
          6.174715518951416,
          6.698935508728027
         ]
        }
       ],
       "layout": {
        "template": {
         "data": {
          "bar": [
           {
            "error_x": {
             "color": "#2a3f5f"
            },
            "error_y": {
             "color": "#2a3f5f"
            },
            "marker": {
             "line": {
              "color": "#E5ECF6",
              "width": 0.5
             }
            },
            "type": "bar"
           }
          ],
          "barpolar": [
           {
            "marker": {
             "line": {
              "color": "#E5ECF6",
              "width": 0.5
             }
            },
            "type": "barpolar"
           }
          ],
          "carpet": [
           {
            "aaxis": {
             "endlinecolor": "#2a3f5f",
             "gridcolor": "white",
             "linecolor": "white",
             "minorgridcolor": "white",
             "startlinecolor": "#2a3f5f"
            },
            "baxis": {
             "endlinecolor": "#2a3f5f",
             "gridcolor": "white",
             "linecolor": "white",
             "minorgridcolor": "white",
             "startlinecolor": "#2a3f5f"
            },
            "type": "carpet"
           }
          ],
          "choropleth": [
           {
            "colorbar": {
             "outlinewidth": 0,
             "ticks": ""
            },
            "type": "choropleth"
           }
          ],
          "contour": [
           {
            "colorbar": {
             "outlinewidth": 0,
             "ticks": ""
            },
            "colorscale": [
             [
              0,
              "#0d0887"
             ],
             [
              0.1111111111111111,
              "#46039f"
             ],
             [
              0.2222222222222222,
              "#7201a8"
             ],
             [
              0.3333333333333333,
              "#9c179e"
             ],
             [
              0.4444444444444444,
              "#bd3786"
             ],
             [
              0.5555555555555556,
              "#d8576b"
             ],
             [
              0.6666666666666666,
              "#ed7953"
             ],
             [
              0.7777777777777778,
              "#fb9f3a"
             ],
             [
              0.8888888888888888,
              "#fdca26"
             ],
             [
              1,
              "#f0f921"
             ]
            ],
            "type": "contour"
           }
          ],
          "contourcarpet": [
           {
            "colorbar": {
             "outlinewidth": 0,
             "ticks": ""
            },
            "type": "contourcarpet"
           }
          ],
          "heatmap": [
           {
            "colorbar": {
             "outlinewidth": 0,
             "ticks": ""
            },
            "colorscale": [
             [
              0,
              "#0d0887"
             ],
             [
              0.1111111111111111,
              "#46039f"
             ],
             [
              0.2222222222222222,
              "#7201a8"
             ],
             [
              0.3333333333333333,
              "#9c179e"
             ],
             [
              0.4444444444444444,
              "#bd3786"
             ],
             [
              0.5555555555555556,
              "#d8576b"
             ],
             [
              0.6666666666666666,
              "#ed7953"
             ],
             [
              0.7777777777777778,
              "#fb9f3a"
             ],
             [
              0.8888888888888888,
              "#fdca26"
             ],
             [
              1,
              "#f0f921"
             ]
            ],
            "type": "heatmap"
           }
          ],
          "heatmapgl": [
           {
            "colorbar": {
             "outlinewidth": 0,
             "ticks": ""
            },
            "colorscale": [
             [
              0,
              "#0d0887"
             ],
             [
              0.1111111111111111,
              "#46039f"
             ],
             [
              0.2222222222222222,
              "#7201a8"
             ],
             [
              0.3333333333333333,
              "#9c179e"
             ],
             [
              0.4444444444444444,
              "#bd3786"
             ],
             [
              0.5555555555555556,
              "#d8576b"
             ],
             [
              0.6666666666666666,
              "#ed7953"
             ],
             [
              0.7777777777777778,
              "#fb9f3a"
             ],
             [
              0.8888888888888888,
              "#fdca26"
             ],
             [
              1,
              "#f0f921"
             ]
            ],
            "type": "heatmapgl"
           }
          ],
          "histogram": [
           {
            "marker": {
             "colorbar": {
              "outlinewidth": 0,
              "ticks": ""
             }
            },
            "type": "histogram"
           }
          ],
          "histogram2d": [
           {
            "colorbar": {
             "outlinewidth": 0,
             "ticks": ""
            },
            "colorscale": [
             [
              0,
              "#0d0887"
             ],
             [
              0.1111111111111111,
              "#46039f"
             ],
             [
              0.2222222222222222,
              "#7201a8"
             ],
             [
              0.3333333333333333,
              "#9c179e"
             ],
             [
              0.4444444444444444,
              "#bd3786"
             ],
             [
              0.5555555555555556,
              "#d8576b"
             ],
             [
              0.6666666666666666,
              "#ed7953"
             ],
             [
              0.7777777777777778,
              "#fb9f3a"
             ],
             [
              0.8888888888888888,
              "#fdca26"
             ],
             [
              1,
              "#f0f921"
             ]
            ],
            "type": "histogram2d"
           }
          ],
          "histogram2dcontour": [
           {
            "colorbar": {
             "outlinewidth": 0,
             "ticks": ""
            },
            "colorscale": [
             [
              0,
              "#0d0887"
             ],
             [
              0.1111111111111111,
              "#46039f"
             ],
             [
              0.2222222222222222,
              "#7201a8"
             ],
             [
              0.3333333333333333,
              "#9c179e"
             ],
             [
              0.4444444444444444,
              "#bd3786"
             ],
             [
              0.5555555555555556,
              "#d8576b"
             ],
             [
              0.6666666666666666,
              "#ed7953"
             ],
             [
              0.7777777777777778,
              "#fb9f3a"
             ],
             [
              0.8888888888888888,
              "#fdca26"
             ],
             [
              1,
              "#f0f921"
             ]
            ],
            "type": "histogram2dcontour"
           }
          ],
          "mesh3d": [
           {
            "colorbar": {
             "outlinewidth": 0,
             "ticks": ""
            },
            "type": "mesh3d"
           }
          ],
          "parcoords": [
           {
            "line": {
             "colorbar": {
              "outlinewidth": 0,
              "ticks": ""
             }
            },
            "type": "parcoords"
           }
          ],
          "pie": [
           {
            "automargin": true,
            "type": "pie"
           }
          ],
          "scatter": [
           {
            "marker": {
             "colorbar": {
              "outlinewidth": 0,
              "ticks": ""
             }
            },
            "type": "scatter"
           }
          ],
          "scatter3d": [
           {
            "line": {
             "colorbar": {
              "outlinewidth": 0,
              "ticks": ""
             }
            },
            "marker": {
             "colorbar": {
              "outlinewidth": 0,
              "ticks": ""
             }
            },
            "type": "scatter3d"
           }
          ],
          "scattercarpet": [
           {
            "marker": {
             "colorbar": {
              "outlinewidth": 0,
              "ticks": ""
             }
            },
            "type": "scattercarpet"
           }
          ],
          "scattergeo": [
           {
            "marker": {
             "colorbar": {
              "outlinewidth": 0,
              "ticks": ""
             }
            },
            "type": "scattergeo"
           }
          ],
          "scattergl": [
           {
            "marker": {
             "colorbar": {
              "outlinewidth": 0,
              "ticks": ""
             }
            },
            "type": "scattergl"
           }
          ],
          "scattermapbox": [
           {
            "marker": {
             "colorbar": {
              "outlinewidth": 0,
              "ticks": ""
             }
            },
            "type": "scattermapbox"
           }
          ],
          "scatterpolar": [
           {
            "marker": {
             "colorbar": {
              "outlinewidth": 0,
              "ticks": ""
             }
            },
            "type": "scatterpolar"
           }
          ],
          "scatterpolargl": [
           {
            "marker": {
             "colorbar": {
              "outlinewidth": 0,
              "ticks": ""
             }
            },
            "type": "scatterpolargl"
           }
          ],
          "scatterternary": [
           {
            "marker": {
             "colorbar": {
              "outlinewidth": 0,
              "ticks": ""
             }
            },
            "type": "scatterternary"
           }
          ],
          "surface": [
           {
            "colorbar": {
             "outlinewidth": 0,
             "ticks": ""
            },
            "colorscale": [
             [
              0,
              "#0d0887"
             ],
             [
              0.1111111111111111,
              "#46039f"
             ],
             [
              0.2222222222222222,
              "#7201a8"
             ],
             [
              0.3333333333333333,
              "#9c179e"
             ],
             [
              0.4444444444444444,
              "#bd3786"
             ],
             [
              0.5555555555555556,
              "#d8576b"
             ],
             [
              0.6666666666666666,
              "#ed7953"
             ],
             [
              0.7777777777777778,
              "#fb9f3a"
             ],
             [
              0.8888888888888888,
              "#fdca26"
             ],
             [
              1,
              "#f0f921"
             ]
            ],
            "type": "surface"
           }
          ],
          "table": [
           {
            "cells": {
             "fill": {
              "color": "#EBF0F8"
             },
             "line": {
              "color": "white"
             }
            },
            "header": {
             "fill": {
              "color": "#C8D4E3"
             },
             "line": {
              "color": "white"
             }
            },
            "type": "table"
           }
          ]
         },
         "layout": {
          "annotationdefaults": {
           "arrowcolor": "#2a3f5f",
           "arrowhead": 0,
           "arrowwidth": 1
          },
          "coloraxis": {
           "colorbar": {
            "outlinewidth": 0,
            "ticks": ""
           }
          },
          "colorscale": {
           "diverging": [
            [
             0,
             "#8e0152"
            ],
            [
             0.1,
             "#c51b7d"
            ],
            [
             0.2,
             "#de77ae"
            ],
            [
             0.3,
             "#f1b6da"
            ],
            [
             0.4,
             "#fde0ef"
            ],
            [
             0.5,
             "#f7f7f7"
            ],
            [
             0.6,
             "#e6f5d0"
            ],
            [
             0.7,
             "#b8e186"
            ],
            [
             0.8,
             "#7fbc41"
            ],
            [
             0.9,
             "#4d9221"
            ],
            [
             1,
             "#276419"
            ]
           ],
           "sequential": [
            [
             0,
             "#0d0887"
            ],
            [
             0.1111111111111111,
             "#46039f"
            ],
            [
             0.2222222222222222,
             "#7201a8"
            ],
            [
             0.3333333333333333,
             "#9c179e"
            ],
            [
             0.4444444444444444,
             "#bd3786"
            ],
            [
             0.5555555555555556,
             "#d8576b"
            ],
            [
             0.6666666666666666,
             "#ed7953"
            ],
            [
             0.7777777777777778,
             "#fb9f3a"
            ],
            [
             0.8888888888888888,
             "#fdca26"
            ],
            [
             1,
             "#f0f921"
            ]
           ],
           "sequentialminus": [
            [
             0,
             "#0d0887"
            ],
            [
             0.1111111111111111,
             "#46039f"
            ],
            [
             0.2222222222222222,
             "#7201a8"
            ],
            [
             0.3333333333333333,
             "#9c179e"
            ],
            [
             0.4444444444444444,
             "#bd3786"
            ],
            [
             0.5555555555555556,
             "#d8576b"
            ],
            [
             0.6666666666666666,
             "#ed7953"
            ],
            [
             0.7777777777777778,
             "#fb9f3a"
            ],
            [
             0.8888888888888888,
             "#fdca26"
            ],
            [
             1,
             "#f0f921"
            ]
           ]
          },
          "colorway": [
           "#636efa",
           "#EF553B",
           "#00cc96",
           "#ab63fa",
           "#FFA15A",
           "#19d3f3",
           "#FF6692",
           "#B6E880",
           "#FF97FF",
           "#FECB52"
          ],
          "font": {
           "color": "#2a3f5f"
          },
          "geo": {
           "bgcolor": "white",
           "lakecolor": "white",
           "landcolor": "#E5ECF6",
           "showlakes": true,
           "showland": true,
           "subunitcolor": "white"
          },
          "hoverlabel": {
           "align": "left"
          },
          "hovermode": "closest",
          "mapbox": {
           "style": "light"
          },
          "paper_bgcolor": "white",
          "plot_bgcolor": "#E5ECF6",
          "polar": {
           "angularaxis": {
            "gridcolor": "white",
            "linecolor": "white",
            "ticks": ""
           },
           "bgcolor": "#E5ECF6",
           "radialaxis": {
            "gridcolor": "white",
            "linecolor": "white",
            "ticks": ""
           }
          },
          "scene": {
           "xaxis": {
            "backgroundcolor": "#E5ECF6",
            "gridcolor": "white",
            "gridwidth": 2,
            "linecolor": "white",
            "showbackground": true,
            "ticks": "",
            "zerolinecolor": "white"
           },
           "yaxis": {
            "backgroundcolor": "#E5ECF6",
            "gridcolor": "white",
            "gridwidth": 2,
            "linecolor": "white",
            "showbackground": true,
            "ticks": "",
            "zerolinecolor": "white"
           },
           "zaxis": {
            "backgroundcolor": "#E5ECF6",
            "gridcolor": "white",
            "gridwidth": 2,
            "linecolor": "white",
            "showbackground": true,
            "ticks": "",
            "zerolinecolor": "white"
           }
          },
          "shapedefaults": {
           "line": {
            "color": "#2a3f5f"
           }
          },
          "ternary": {
           "aaxis": {
            "gridcolor": "white",
            "linecolor": "white",
            "ticks": ""
           },
           "baxis": {
            "gridcolor": "white",
            "linecolor": "white",
            "ticks": ""
           },
           "bgcolor": "#E5ECF6",
           "caxis": {
            "gridcolor": "white",
            "linecolor": "white",
            "ticks": ""
           }
          },
          "title": {
           "x": 0.05
          },
          "xaxis": {
           "automargin": true,
           "gridcolor": "white",
           "linecolor": "white",
           "ticks": "",
           "title": {
            "standoff": 15
           },
           "zerolinecolor": "white",
           "zerolinewidth": 2
          },
          "yaxis": {
           "automargin": true,
           "gridcolor": "white",
           "linecolor": "white",
           "ticks": "",
           "title": {
            "standoff": 15
           },
           "zerolinecolor": "white",
           "zerolinewidth": 2
          }
         }
        },
        "title": {
         "text": "Visualizing Clusters in Two Dimensions Using T-SNE (perplexity=80)"
        },
        "xaxis": {
         "ticklen": 5,
         "title": {
          "text": "TC1"
         },
         "zeroline": false
        },
        "yaxis": {
         "ticklen": 5,
         "title": {
          "text": "TC2"
         },
         "zeroline": false
        }
       }
      },
      "text/html": [
       "<div>\n",
       "        \n",
       "        \n",
       "            <div id=\"641c332e-77c3-4053-b661-2194aff95526\" class=\"plotly-graph-div\" style=\"height:525px; width:100%;\"></div>\n",
       "            <script type=\"text/javascript\">\n",
       "                require([\"plotly\"], function(Plotly) {\n",
       "                    window.PLOTLYENV=window.PLOTLYENV || {};\n",
       "                    \n",
       "                if (document.getElementById(\"641c332e-77c3-4053-b661-2194aff95526\")) {\n",
       "                    Plotly.newPlot(\n",
       "                        '641c332e-77c3-4053-b661-2194aff95526',\n",
       "                        [{\"marker\": {\"color\": \"rgba(255, 128, 255, 0.8)\"}, \"mode\": \"markers\", \"name\": \"Cluster: 0\", \"text\": [\"Sierra Leone\", \"Kenya\", \"Liechtenstein\", \"Ethiopia\", \"Sudan\", \"Benin\", \"West Bank and Gaza\", \"India\", \"Somalia\", \"Honduras\", \"Equatorial Guinea\", \"Bolivia\", \"Guinea-Bissau\", \"Zambia\", \"Bangladesh\", \"Indonesia\", \"Jamaica\", \"South Africa\", \"Angola\", \"Cote d'Ivoire\", \"Timor-Leste\", \"Kosovo\", \"Mali\", \"Gabon\", \"Malawi\", \"Mauritania\", \"Mozambique\", \"Haiti\", \"Guyana\", \"Philippines\", \"Ghana\", \"Madagascar\", \"Central African Republic\", \"Namibia\", \"Guatemala\", \"Cambodia\", \"Burundi\", \"Tanzania\", \"Zimbabwe\", \"Sao Tome and Principe\", \"Burkina Faso\", \"Senegal\", \"Papua New Guinea\", \"Guinea\", \"Rwanda\", \"Chad\", \"Niger\", \"Bhutan\", \"Cabo Verde\", \"Cameroon\", \"Pakistan\"], \"type\": \"scatter\", \"x\": [3.4323787689208984, 3.4886839389801025, 3.8027358055114746, 3.702133893966675, 3.2691428661346436, 3.4952526092529297, 2.6637134552001953, 2.9041924476623535, 4.501884937286377, 2.2080607414245605, 3.7884252071380615, 2.2661006450653076, 3.6086008548736572, 3.0901193618774414, 3.1636838912963867, 2.327923536300659, 2.1932179927825928, 2.3389487266540527, 3.491257667541504, 3.279693126678467, 2.4831650257110596, 3.8147201538085938, 3.593107223510742, 2.3959107398986816, 3.4344189167022705, 3.416367530822754, 3.8671529293060303, 3.014744758605957, 2.297328472137451, 2.583106279373169, 3.161442995071411, 3.6831884384155273, 4.021701335906982, 2.523268938064575, 2.535964250564575, 2.8236241340637207, 3.5312864780426025, 3.361564874649048, 2.9516828060150146, 2.7251954078674316, 3.542386293411255, 3.1611838340759277, 2.7349069118499756, 3.754096508026123, 3.3062825202941895, 4.157137870788574, 4.190919399261475, 2.751831293106079, 2.4593210220336914, 3.4966952800750732, 3.3835227489471436], \"y\": [6.483065605163574, 6.168639183044434, 8.134500503540039, 6.446683406829834, 7.246882915496826, 6.528539657592773, 8.300394058227539, 4.297915458679199, 6.2043046951293945, 6.318264484405518, 7.340455055236816, 6.471968650817871, 6.429333209991455, 6.801212787628174, 6.189048767089844, 5.977198123931885, 6.618159770965576, 7.89552640914917, 6.872564315795898, 6.476423263549805, 5.619359970092773, 8.13433837890625, 6.663905620574951, 7.774206638336182, 6.261082649230957, 6.859806060791016, 6.216026306152344, 7.120527744293213, 6.693873882293701, 6.281101226806641, 6.0919904708862305, 6.2146430015563965, 6.865446090698242, 7.451999187469482, 6.3242106437683105, 5.775455474853516, 6.1381330490112305, 6.14280891418457, 6.16256046295166, 7.158697128295898, 6.475642204284668, 6.560168266296387, 5.592939853668213, 6.926316738128662, 6.124258041381836, 6.848349571228027, 6.5134663581848145, 6.4174909591674805, 6.998751163482666, 6.76253604888916, 6.440253734588623]}, {\"marker\": {\"color\": \"rgba(255, 128, 2, 0.8)\"}, \"mode\": \"markers\", \"name\": \"Cluster: 1\", \"text\": [\"United States\"], \"type\": \"scatter\", \"x\": [-0.24968436360359192], \"y\": [8.146672248840332]}, {\"marker\": {\"color\": \"rgba(0, 255, 200, 0.8)\"}, \"mode\": \"markers\", \"name\": \"Cluster: 2\", \"text\": [\"Slovenia\", \"Fiji\", \"Malta\", \"Paraguay\", \"Croatia\", \"Mongolia\", \"Denmark\", \"Ukraine\", \"Germany\", \"Algeria\", \"Azerbaijan\", \"Cyprus\", \"Bahrain\", \"Belgium\", \"Singapore\", \"Japan\", \"Andorra\", \"Morocco\", \"Spain\", \"Chile\", \"Brazil\", \"Kazakhstan\", \"Monaco\", \"Dominican Republic\", \"Mexico\", \"Mauritius\", \"Nicaragua\", \"Tunisia\", \"Uzbekistan\", \"Lebanon\", \"Finland\", \"Georgia\", \"Saudi Arabia\", \"Italy\", \"United Kingdom\", \"United Arab Emirates\", \"Albania\", \"Peru\", \"Suriname\", \"Moldova\", \"Lithuania\", \"Israel\", \"Netherlands\", \"Maldives\", \"Greece\", \"Serbia\", \"Turkey\", \"Antigua and Barbuda\", \"Estonia\", \"Cuba\", \"Ecuador\", \"Belarus\", \"Latvia\", \"Austria\", \"France\", \"Grenada\", \"Portugal\", \"Luxembourg\", \"Sweden\", \"Iceland\", \"San Marino\", \"El Salvador\", \"Belize\", \"Panama\", \"Costa Rica\", \"Dominica\", \"Hungary\", \"Qatar\", \"Oman\", \"Trinidad and Tobago\", \"Armenia\", \"China\", \"Uruguay\", \"Thailand\", \"Norway\"], \"type\": \"scatter\", \"x\": [0.23296760022640228, 1.6345367431640625, 0.401501327753067, 1.897100806236267, 0.6587818264961243, 1.6323516368865967, -0.0678708404302597, 0.7655938863754272, -0.46623435616493225, 1.7534356117248535, 1.4862785339355469, 0.9261865019798279, 1.1906088590621948, -0.4254547357559204, -0.43375954031944275, -0.6785542964935303, 1.5358564853668213, 1.861039161682129, -0.14841432869434357, 1.2517133951187134, 1.884389877319336, 0.9811811447143555, -0.45738497376441956, 1.7110140323638916, 1.5622410774230957, 1.3241262435913086, 2.128892660140991, 1.4615775346755981, 1.6031432151794434, 1.9817594289779663, -0.10500918328762054, 1.2495359182357788, 1.3609161376953125, -0.1613510549068451, -0.27440959215164185, 0.33907538652420044, 1.1590185165405273, 2.0113580226898193, 1.5561286211013794, 1.1999255418777466, 0.2495853751897812, 0.8979323506355286, -0.3396275043487549, 1.528220534324646, 0.6734747290611267, 0.9131338596343994, 1.8528616428375244, 1.71095609664917, 0.4024330973625183, 0.9732335805892944, 2.090846061706543, 0.24713188409805298, 0.48106902837753296, -0.21979130804538727, -0.30105236172676086, 1.6653008460998535, 0.6232478618621826, -0.4140322208404541, -0.07768087089061737, -0.046777382493019104, 0.8616378307342529, 1.881183385848999, 2.0748164653778076, 1.6878349781036377, 1.438287615776062, 1.6878687143325806, 0.14753618836402893, 0.38733118772506714, 1.8793736696243286, 1.4174998998641968, 1.443320631980896, 2.838229179382324, 1.0158171653747559, 1.636439323425293, -0.12254604697227478], \"y\": [5.985976696014404, 6.18605375289917, 6.395094871520996, 6.334213733673096, 6.293173789978027, 5.361091613769531, 6.721942901611328, 5.2204909324646, 7.023195266723633, 6.838873863220215, 5.880521774291992, 6.431663513183594, 7.454311847686768, 6.421083927154541, 5.3601555824279785, 6.590153217315674, 5.202307224273682, 6.596978187561035, 7.91730260848999, 6.564772129058838, 5.501412868499756, 6.036942481994629, 5.06924295425415, 6.420131683349609, 6.352656364440918, 6.226942539215088, 6.556041240692139, 7.076369762420654, 6.193963527679443, 6.8083600997924805, 6.701623439788818, 6.760281562805176, 7.627121925354004, 7.929397106170654, 7.569201469421387, 5.402523994445801, 6.630979061126709, 6.488283157348633, 6.120601177215576, 6.009230136871338, 6.070927143096924, 6.504996299743652, 6.466685771942139, 5.935242176055908, 6.884556770324707, 5.576409816741943, 4.701426982879639, 5.815744876861572, 6.193107604980469, 6.202393054962158, 6.391488075256348, 5.737238883972168, 6.238321781158447, 6.551932334899902, 7.7269463539123535, 5.953755855560303, 6.482904434204102, 6.619956016540527, 6.760335922241211, 6.692810535430908, 5.399515151977539, 6.518581867218018, 6.308944225311279, 6.37275505065918, 6.715193748474121, 5.323846340179443, 5.973676681518555, 4.7569451332092285, 7.071349143981934, 6.28964376449585, 7.012513637542725, 4.270285606384277, 6.635605335235596, 6.174715518951416, 6.698935508728027]}],\n",
       "                        {\"template\": {\"data\": {\"bar\": [{\"error_x\": {\"color\": \"#2a3f5f\"}, \"error_y\": {\"color\": \"#2a3f5f\"}, \"marker\": {\"line\": {\"color\": \"#E5ECF6\", \"width\": 0.5}}, \"type\": \"bar\"}], \"barpolar\": [{\"marker\": {\"line\": {\"color\": \"#E5ECF6\", \"width\": 0.5}}, \"type\": \"barpolar\"}], \"carpet\": [{\"aaxis\": {\"endlinecolor\": \"#2a3f5f\", \"gridcolor\": \"white\", \"linecolor\": \"white\", \"minorgridcolor\": \"white\", \"startlinecolor\": \"#2a3f5f\"}, \"baxis\": {\"endlinecolor\": \"#2a3f5f\", \"gridcolor\": \"white\", \"linecolor\": \"white\", \"minorgridcolor\": \"white\", \"startlinecolor\": \"#2a3f5f\"}, \"type\": \"carpet\"}], \"choropleth\": [{\"colorbar\": {\"outlinewidth\": 0, \"ticks\": \"\"}, \"type\": \"choropleth\"}], \"contour\": [{\"colorbar\": {\"outlinewidth\": 0, \"ticks\": \"\"}, \"colorscale\": [[0.0, \"#0d0887\"], [0.1111111111111111, \"#46039f\"], [0.2222222222222222, \"#7201a8\"], [0.3333333333333333, \"#9c179e\"], [0.4444444444444444, \"#bd3786\"], [0.5555555555555556, \"#d8576b\"], [0.6666666666666666, \"#ed7953\"], [0.7777777777777778, \"#fb9f3a\"], [0.8888888888888888, \"#fdca26\"], [1.0, \"#f0f921\"]], \"type\": \"contour\"}], \"contourcarpet\": [{\"colorbar\": {\"outlinewidth\": 0, \"ticks\": \"\"}, \"type\": \"contourcarpet\"}], \"heatmap\": [{\"colorbar\": {\"outlinewidth\": 0, \"ticks\": \"\"}, \"colorscale\": [[0.0, \"#0d0887\"], [0.1111111111111111, \"#46039f\"], [0.2222222222222222, \"#7201a8\"], [0.3333333333333333, \"#9c179e\"], [0.4444444444444444, \"#bd3786\"], [0.5555555555555556, \"#d8576b\"], [0.6666666666666666, \"#ed7953\"], [0.7777777777777778, \"#fb9f3a\"], [0.8888888888888888, \"#fdca26\"], [1.0, \"#f0f921\"]], \"type\": \"heatmap\"}], \"heatmapgl\": [{\"colorbar\": {\"outlinewidth\": 0, \"ticks\": \"\"}, \"colorscale\": [[0.0, \"#0d0887\"], [0.1111111111111111, \"#46039f\"], [0.2222222222222222, \"#7201a8\"], [0.3333333333333333, \"#9c179e\"], [0.4444444444444444, \"#bd3786\"], [0.5555555555555556, \"#d8576b\"], [0.6666666666666666, \"#ed7953\"], [0.7777777777777778, \"#fb9f3a\"], [0.8888888888888888, \"#fdca26\"], [1.0, \"#f0f921\"]], \"type\": \"heatmapgl\"}], \"histogram\": [{\"marker\": {\"colorbar\": {\"outlinewidth\": 0, \"ticks\": \"\"}}, \"type\": \"histogram\"}], \"histogram2d\": [{\"colorbar\": {\"outlinewidth\": 0, \"ticks\": \"\"}, \"colorscale\": [[0.0, \"#0d0887\"], [0.1111111111111111, \"#46039f\"], [0.2222222222222222, \"#7201a8\"], [0.3333333333333333, \"#9c179e\"], [0.4444444444444444, \"#bd3786\"], [0.5555555555555556, \"#d8576b\"], [0.6666666666666666, \"#ed7953\"], [0.7777777777777778, \"#fb9f3a\"], [0.8888888888888888, \"#fdca26\"], [1.0, \"#f0f921\"]], \"type\": \"histogram2d\"}], \"histogram2dcontour\": [{\"colorbar\": {\"outlinewidth\": 0, \"ticks\": \"\"}, \"colorscale\": [[0.0, \"#0d0887\"], [0.1111111111111111, \"#46039f\"], [0.2222222222222222, \"#7201a8\"], [0.3333333333333333, \"#9c179e\"], [0.4444444444444444, \"#bd3786\"], [0.5555555555555556, \"#d8576b\"], [0.6666666666666666, \"#ed7953\"], [0.7777777777777778, \"#fb9f3a\"], [0.8888888888888888, \"#fdca26\"], [1.0, \"#f0f921\"]], \"type\": \"histogram2dcontour\"}], \"mesh3d\": [{\"colorbar\": {\"outlinewidth\": 0, \"ticks\": \"\"}, \"type\": \"mesh3d\"}], \"parcoords\": [{\"line\": {\"colorbar\": {\"outlinewidth\": 0, \"ticks\": \"\"}}, \"type\": \"parcoords\"}], \"pie\": [{\"automargin\": true, \"type\": \"pie\"}], \"scatter\": [{\"marker\": {\"colorbar\": {\"outlinewidth\": 0, \"ticks\": \"\"}}, \"type\": \"scatter\"}], \"scatter3d\": [{\"line\": {\"colorbar\": {\"outlinewidth\": 0, \"ticks\": \"\"}}, \"marker\": {\"colorbar\": {\"outlinewidth\": 0, \"ticks\": \"\"}}, \"type\": \"scatter3d\"}], \"scattercarpet\": [{\"marker\": {\"colorbar\": {\"outlinewidth\": 0, \"ticks\": \"\"}}, \"type\": \"scattercarpet\"}], \"scattergeo\": [{\"marker\": {\"colorbar\": {\"outlinewidth\": 0, \"ticks\": \"\"}}, \"type\": \"scattergeo\"}], \"scattergl\": [{\"marker\": {\"colorbar\": {\"outlinewidth\": 0, \"ticks\": \"\"}}, \"type\": \"scattergl\"}], \"scattermapbox\": [{\"marker\": {\"colorbar\": {\"outlinewidth\": 0, \"ticks\": \"\"}}, \"type\": \"scattermapbox\"}], \"scatterpolar\": [{\"marker\": {\"colorbar\": {\"outlinewidth\": 0, \"ticks\": \"\"}}, \"type\": \"scatterpolar\"}], \"scatterpolargl\": [{\"marker\": {\"colorbar\": {\"outlinewidth\": 0, \"ticks\": \"\"}}, \"type\": \"scatterpolargl\"}], \"scatterternary\": [{\"marker\": {\"colorbar\": {\"outlinewidth\": 0, \"ticks\": \"\"}}, \"type\": \"scatterternary\"}], \"surface\": [{\"colorbar\": {\"outlinewidth\": 0, \"ticks\": \"\"}, \"colorscale\": [[0.0, \"#0d0887\"], [0.1111111111111111, \"#46039f\"], [0.2222222222222222, \"#7201a8\"], [0.3333333333333333, \"#9c179e\"], [0.4444444444444444, \"#bd3786\"], [0.5555555555555556, \"#d8576b\"], [0.6666666666666666, \"#ed7953\"], [0.7777777777777778, \"#fb9f3a\"], [0.8888888888888888, \"#fdca26\"], [1.0, \"#f0f921\"]], \"type\": \"surface\"}], \"table\": [{\"cells\": {\"fill\": {\"color\": \"#EBF0F8\"}, \"line\": {\"color\": \"white\"}}, \"header\": {\"fill\": {\"color\": \"#C8D4E3\"}, \"line\": {\"color\": \"white\"}}, \"type\": \"table\"}]}, \"layout\": {\"annotationdefaults\": {\"arrowcolor\": \"#2a3f5f\", \"arrowhead\": 0, \"arrowwidth\": 1}, \"coloraxis\": {\"colorbar\": {\"outlinewidth\": 0, \"ticks\": \"\"}}, \"colorscale\": {\"diverging\": [[0, \"#8e0152\"], [0.1, \"#c51b7d\"], [0.2, \"#de77ae\"], [0.3, \"#f1b6da\"], [0.4, \"#fde0ef\"], [0.5, \"#f7f7f7\"], [0.6, \"#e6f5d0\"], [0.7, \"#b8e186\"], [0.8, \"#7fbc41\"], [0.9, \"#4d9221\"], [1, \"#276419\"]], \"sequential\": [[0.0, \"#0d0887\"], [0.1111111111111111, \"#46039f\"], [0.2222222222222222, \"#7201a8\"], [0.3333333333333333, \"#9c179e\"], [0.4444444444444444, \"#bd3786\"], [0.5555555555555556, \"#d8576b\"], [0.6666666666666666, \"#ed7953\"], [0.7777777777777778, \"#fb9f3a\"], [0.8888888888888888, \"#fdca26\"], [1.0, \"#f0f921\"]], \"sequentialminus\": [[0.0, \"#0d0887\"], [0.1111111111111111, \"#46039f\"], [0.2222222222222222, \"#7201a8\"], [0.3333333333333333, \"#9c179e\"], [0.4444444444444444, \"#bd3786\"], [0.5555555555555556, \"#d8576b\"], [0.6666666666666666, \"#ed7953\"], [0.7777777777777778, \"#fb9f3a\"], [0.8888888888888888, \"#fdca26\"], [1.0, \"#f0f921\"]]}, \"colorway\": [\"#636efa\", \"#EF553B\", \"#00cc96\", \"#ab63fa\", \"#FFA15A\", \"#19d3f3\", \"#FF6692\", \"#B6E880\", \"#FF97FF\", \"#FECB52\"], \"font\": {\"color\": \"#2a3f5f\"}, \"geo\": {\"bgcolor\": \"white\", \"lakecolor\": \"white\", \"landcolor\": \"#E5ECF6\", \"showlakes\": true, \"showland\": true, \"subunitcolor\": \"white\"}, \"hoverlabel\": {\"align\": \"left\"}, \"hovermode\": \"closest\", \"mapbox\": {\"style\": \"light\"}, \"paper_bgcolor\": \"white\", \"plot_bgcolor\": \"#E5ECF6\", \"polar\": {\"angularaxis\": {\"gridcolor\": \"white\", \"linecolor\": \"white\", \"ticks\": \"\"}, \"bgcolor\": \"#E5ECF6\", \"radialaxis\": {\"gridcolor\": \"white\", \"linecolor\": \"white\", \"ticks\": \"\"}}, \"scene\": {\"xaxis\": {\"backgroundcolor\": \"#E5ECF6\", \"gridcolor\": \"white\", \"gridwidth\": 2, \"linecolor\": \"white\", \"showbackground\": true, \"ticks\": \"\", \"zerolinecolor\": \"white\"}, \"yaxis\": {\"backgroundcolor\": \"#E5ECF6\", \"gridcolor\": \"white\", \"gridwidth\": 2, \"linecolor\": \"white\", \"showbackground\": true, \"ticks\": \"\", \"zerolinecolor\": \"white\"}, \"zaxis\": {\"backgroundcolor\": \"#E5ECF6\", \"gridcolor\": \"white\", \"gridwidth\": 2, \"linecolor\": \"white\", \"showbackground\": true, \"ticks\": \"\", \"zerolinecolor\": \"white\"}}, \"shapedefaults\": {\"line\": {\"color\": \"#2a3f5f\"}}, \"ternary\": {\"aaxis\": {\"gridcolor\": \"white\", \"linecolor\": \"white\", \"ticks\": \"\"}, \"baxis\": {\"gridcolor\": \"white\", \"linecolor\": \"white\", \"ticks\": \"\"}, \"bgcolor\": \"#E5ECF6\", \"caxis\": {\"gridcolor\": \"white\", \"linecolor\": \"white\", \"ticks\": \"\"}}, \"title\": {\"x\": 0.05}, \"xaxis\": {\"automargin\": true, \"gridcolor\": \"white\", \"linecolor\": \"white\", \"ticks\": \"\", \"title\": {\"standoff\": 15}, \"zerolinecolor\": \"white\", \"zerolinewidth\": 2}, \"yaxis\": {\"automargin\": true, \"gridcolor\": \"white\", \"linecolor\": \"white\", \"ticks\": \"\", \"title\": {\"standoff\": 15}, \"zerolinecolor\": \"white\", \"zerolinewidth\": 2}}}, \"title\": {\"text\": \"Visualizing Clusters in Two Dimensions Using T-SNE (perplexity=80)\"}, \"xaxis\": {\"ticklen\": 5, \"title\": {\"text\": \"TC1\"}, \"zeroline\": false}, \"yaxis\": {\"ticklen\": 5, \"title\": {\"text\": \"TC2\"}, \"zeroline\": false}},\n",
       "                        {\"responsive\": true}\n",
       "                    ).then(function(){\n",
       "                            \n",
       "var gd = document.getElementById('641c332e-77c3-4053-b661-2194aff95526');\n",
       "var x = new MutationObserver(function (mutations, observer) {{\n",
       "        var display = window.getComputedStyle(gd).display;\n",
       "        if (!display || display === 'none') {{\n",
       "            console.log([gd, 'removed!']);\n",
       "            Plotly.purge(gd);\n",
       "            observer.disconnect();\n",
       "        }}\n",
       "}});\n",
       "\n",
       "// Listen for the removal of the full notebook cells\n",
       "var notebookContainer = gd.closest('#notebook-container');\n",
       "if (notebookContainer) {{\n",
       "    x.observe(notebookContainer, {childList: true});\n",
       "}}\n",
       "\n",
       "// Listen for the clearing of the current output cell\n",
       "var outputEl = gd.closest('.output');\n",
       "if (outputEl) {{\n",
       "    x.observe(outputEl, {childList: true});\n",
       "}}\n",
       "\n",
       "                        })\n",
       "                };\n",
       "                });\n",
       "            </script>\n",
       "        </div>"
      ]
     },
     "metadata": {},
     "output_type": "display_data"
    },
    {
     "data": {
      "application/vnd.plotly.v1+json": {
       "config": {
        "linkText": "Export to plot.ly",
        "plotlyServerURL": "https://plot.ly",
        "showLink": false
       },
       "data": [
        {
         "marker": {
          "color": "rgba(255, 128, 255, 0.8)"
         },
         "mode": "markers",
         "name": "Cluster: 0",
         "text": [
          "Sierra Leone",
          "Kenya",
          "Liechtenstein",
          "Ethiopia",
          "Sudan",
          "Benin",
          "West Bank and Gaza",
          "India",
          "Somalia",
          "Honduras",
          "Equatorial Guinea",
          "Bolivia",
          "Guinea-Bissau",
          "Zambia",
          "Bangladesh",
          "Indonesia",
          "Jamaica",
          "South Africa",
          "Angola",
          "Cote d'Ivoire",
          "Timor-Leste",
          "Kosovo",
          "Mali",
          "Gabon",
          "Malawi",
          "Mauritania",
          "Mozambique",
          "Haiti",
          "Guyana",
          "Philippines",
          "Ghana",
          "Madagascar",
          "Central African Republic",
          "Namibia",
          "Guatemala",
          "Cambodia",
          "Burundi",
          "Tanzania",
          "Zimbabwe",
          "Sao Tome and Principe",
          "Burkina Faso",
          "Senegal",
          "Papua New Guinea",
          "Guinea",
          "Rwanda",
          "Chad",
          "Niger",
          "Bhutan",
          "Cabo Verde",
          "Cameroon",
          "Pakistan"
         ],
         "type": "scatter",
         "x": [
          -3.13036847114563,
          -3.0846195220947266,
          -2.7865147590637207,
          -2.90295672416687,
          -3.186288595199585,
          -3.093622922897339,
          -3.753048896789551,
          -3.2971489429473877,
          -2.276862382888794,
          -4.131555080413818,
          -2.8366329669952393,
          -4.053783893585205,
          -2.992109775543213,
          -3.4315545558929443,
          -3.324014902114868,
          -4.04127311706543,
          -4.138550281524658,
          -4.086869239807129,
          -3.1150434017181396,
          -3.2753045558929443,
          -3.875265121459961,
          -2.773162364959717,
          -3.0080580711364746,
          -3.986903667449951,
          -3.105088233947754,
          -3.137002944946289,
          -2.806584596633911,
          -3.4860105514526367,
          -4.070236682891846,
          -3.791360378265381,
          -3.4387166500091553,
          -2.981529712677002,
          -2.5908164978027344,
          -3.891842842102051,
          -3.8541390895843506,
          -3.5927724838256836,
          -3.0328893661499023,
          -3.19929838180542,
          -3.5185043811798096,
          -3.705120325088501,
          -3.0360286235809326,
          -3.3663270473480225,
          -3.630974769592285,
          -2.8798232078552246,
          -3.2293689250946045,
          -2.4619064331054688,
          -2.4853038787841797,
          -3.6664366722106934,
          -3.9040446281433105,
          -3.054116725921631,
          -3.151927947998047
         ],
         "y": [
          -0.09154807776212692,
          -0.22179852426052094,
          1.3136802911758423,
          -0.17845985293388367,
          0.5019955635070801,
          -0.07622531056404114,
          1.5355428457260132,
          -1.976686716079712,
          0.4601636826992035,
          0.014257773756980896,
          0.5951447486877441,
          -0.18653658032417297,
          -0.09799155592918396,
          0.2624482810497284,
          -0.45479974150657654,
          -0.07681940495967865,
          -0.014352052472531796,
          1.1461976766586304,
          0.2617928087711334,
          -0.06522110849618912,
          -0.7839218974113464,
          1.3131834268569946,
          0.0704469084739685,
          0.9837597012519836,
          -0.33535826206207275,
          0.2036169320344925,
          0.0886770486831665,
          0.4835175573825836,
          0.05097093805670738,
          -0.2538115978240967,
          0.11391253769397736,
          0.06634210050106049,
          0.08855142444372177,
          0.736971378326416,
          -0.23777535557746887,
          -0.7486861944198608,
          -0.4540368318557739,
          -0.260185569524765,
          -0.330964595079422,
          0.47838282585144043,
          -0.09970586001873016,
          -0.02308613993227482,
          -0.8064586520195007,
          0.21486859023571014,
          -0.41385698318481445,
          0.030446792021393776,
          -0.328976035118103,
          -0.38609617948532104,
          0.2722359895706177,
          -0.43680718541145325,
          -0.31721848249435425
         ]
        },
        {
         "marker": {
          "color": "rgba(255, 128, 2, 0.8)"
         },
         "mode": "markers",
         "name": "Cluster: 1",
         "text": [
          "United States"
         ],
         "type": "scatter",
         "x": [
          -6.863224029541016
         ],
         "y": [
          0.2886238396167755
         ]
        },
        {
         "marker": {
          "color": "rgba(0, 255, 200, 0.8)"
         },
         "mode": "markers",
         "name": "Cluster: 2",
         "text": [
          "Slovenia",
          "Fiji",
          "Malta",
          "Paraguay",
          "Croatia",
          "Mongolia",
          "Denmark",
          "Ukraine",
          "Germany",
          "Algeria",
          "Azerbaijan",
          "Cyprus",
          "Bahrain",
          "Belgium",
          "Singapore",
          "Japan",
          "Andorra",
          "Morocco",
          "Spain",
          "Chile",
          "Brazil",
          "Kazakhstan",
          "Monaco",
          "Dominican Republic",
          "Mexico",
          "Mauritius",
          "Nicaragua",
          "Tunisia",
          "Uzbekistan",
          "Lebanon",
          "Finland",
          "Georgia",
          "Saudi Arabia",
          "Italy",
          "United Kingdom",
          "United Arab Emirates",
          "Albania",
          "Peru",
          "Suriname",
          "Moldova",
          "Lithuania",
          "Israel",
          "Netherlands",
          "Maldives",
          "Greece",
          "Serbia",
          "Turkey",
          "Antigua and Barbuda",
          "Estonia",
          "Cuba",
          "Ecuador",
          "Belarus",
          "Latvia",
          "Austria",
          "France",
          "Grenada",
          "Portugal",
          "Luxembourg",
          "Sweden",
          "Iceland",
          "San Marino",
          "El Salvador",
          "Belize",
          "Panama",
          "Costa Rica",
          "Dominica",
          "Hungary",
          "Qatar",
          "Oman",
          "Trinidad and Tobago",
          "Armenia",
          "China",
          "Uruguay",
          "Thailand",
          "Norway"
         ],
         "type": "scatter",
         "x": [
          -5.639335632324219,
          -4.563592433929443,
          -5.477186679840088,
          -4.357329368591309,
          -5.348562240600586,
          -4.661011695861816,
          -5.769704341888428,
          -5.379909992218018,
          -6.347971439361572,
          -4.438697338104248,
          -4.735621929168701,
          -5.09347677230835,
          -4.6459431648254395,
          -6.13394832611084,
          -5.675352573394775,
          -6.3505401611328125,
          -4.678741931915283,
          -4.3737568855285645,
          -6.598572254180908,
          -4.853021621704102,
          -4.6635661125183105,
          -5.061199188232422,
          -5.627958297729492,
          -4.507099628448486,
          -4.619081497192383,
          -4.797438621520996,
          -4.18254280090332,
          -4.744988918304443,
          -4.554227352142334,
          -4.303888320922852,
          -5.847109317779541,
          -4.889694690704346,
          -4.441344261169434,
          -6.626962661743164,
          -6.486388206481934,
          -4.977041244506836,
          -4.948263645172119,
          -4.252682685852051,
          -4.667423725128174,
          -4.943023204803467,
          -5.656597137451172,
          -5.072547912597656,
          -6.030279636383057,
          -4.635552883148193,
          -5.41917610168457,
          -5.199289798736572,
          -4.8067851066589355,
          -4.469193935394287,
          -5.5123090744018555,
          -5.034613132476807,
          -4.213196277618408,
          -5.702353477478027,
          -5.469768047332764,
          -5.923336982727051,
          -6.618617534637451,
          -4.504599571228027,
          -5.36118745803833,
          -5.964568614959717,
          -5.820994853973389,
          -5.689308166503906,
          -5.037098407745361,
          -4.354926586151123,
          -4.209316730499268,
          -4.5101637840271,
          -4.715756416320801,
          -4.510439395904541,
          -5.735407829284668,
          -4.751659393310547,
          -4.246982574462891,
          -4.682621002197266,
          -4.745549201965332,
          -3.368596076965332,
          -5.06689453125,
          -4.526802062988281,
          -5.783290386199951
         ],
         "y": [
          -0.21296139061450958,
          -0.31663447618484497,
          -0.528052568435669,
          -0.2126675248146057,
          -0.16066299378871918,
          0.6834105253219604,
          -0.808921754360199,
          0.7846279740333557,
          -0.5106651782989502,
          0.056397706270217896,
          0.19141489267349243,
          -0.3539612293243408,
          -1.3725426197052002,
          -0.7121065258979797,
          -1.7275751829147339,
          -0.770456075668335,
          -1.148690104484558,
          -0.0964139997959137,
          0.22295375168323517,
          -0.23292957246303558,
          0.6699753403663635,
          -0.4524903893470764,
          -1.9187681674957275,
          -0.006389005109667778,
          -0.3501436412334442,
          -0.24926476180553436,
          -0.21286828815937042,
          0.28230008482933044,
          -0.4007633626461029,
          0.24968576431274414,
          -0.7267570495605469,
          0.4106827974319458,
          -1.443575143814087,
          0.21835927665233612,
          -0.16606613993644714,
          -1.4013118743896484,
          -0.011784535832703114,
          -0.2563554346561432,
          0.2122981697320938,
          -0.06541189551353455,
          -0.1639685481786728,
          -0.5729357004165649,
          -0.744156002998352,
          -0.39596664905548096,
          0.1570943146944046,
          0.6172569394111633,
          1.2265293598175049,
          -0.6797815561294556,
          -0.26145461201667786,
          -0.5078306794166565,
          -0.20402352511882782,
          0.20348158478736877,
          -0.2094702273607254,
          -0.6974884867668152,
          -0.02553480677306652,
          -0.584507167339325,
          -0.28410813212394714,
          -1.0638993978500366,
          -0.7451934218406677,
          -0.8854944705963135,
          -1.1458178758621216,
          -0.33996880054473877,
          -0.311879962682724,
          -0.3263310492038727,
          0.09464572370052338,
          -1.049940586090088,
          -0.18184775114059448,
          -1.8621097803115845,
          -0.8482426404953003,
          -0.4506640136241913,
          0.5581578612327576,
          -2.0238547325134277,
          0.003271820954978466,
          -0.5320364236831665,
          -0.8453064560890198
         ]
        }
       ],
       "layout": {
        "template": {
         "data": {
          "bar": [
           {
            "error_x": {
             "color": "#2a3f5f"
            },
            "error_y": {
             "color": "#2a3f5f"
            },
            "marker": {
             "line": {
              "color": "#E5ECF6",
              "width": 0.5
             }
            },
            "type": "bar"
           }
          ],
          "barpolar": [
           {
            "marker": {
             "line": {
              "color": "#E5ECF6",
              "width": 0.5
             }
            },
            "type": "barpolar"
           }
          ],
          "carpet": [
           {
            "aaxis": {
             "endlinecolor": "#2a3f5f",
             "gridcolor": "white",
             "linecolor": "white",
             "minorgridcolor": "white",
             "startlinecolor": "#2a3f5f"
            },
            "baxis": {
             "endlinecolor": "#2a3f5f",
             "gridcolor": "white",
             "linecolor": "white",
             "minorgridcolor": "white",
             "startlinecolor": "#2a3f5f"
            },
            "type": "carpet"
           }
          ],
          "choropleth": [
           {
            "colorbar": {
             "outlinewidth": 0,
             "ticks": ""
            },
            "type": "choropleth"
           }
          ],
          "contour": [
           {
            "colorbar": {
             "outlinewidth": 0,
             "ticks": ""
            },
            "colorscale": [
             [
              0,
              "#0d0887"
             ],
             [
              0.1111111111111111,
              "#46039f"
             ],
             [
              0.2222222222222222,
              "#7201a8"
             ],
             [
              0.3333333333333333,
              "#9c179e"
             ],
             [
              0.4444444444444444,
              "#bd3786"
             ],
             [
              0.5555555555555556,
              "#d8576b"
             ],
             [
              0.6666666666666666,
              "#ed7953"
             ],
             [
              0.7777777777777778,
              "#fb9f3a"
             ],
             [
              0.8888888888888888,
              "#fdca26"
             ],
             [
              1,
              "#f0f921"
             ]
            ],
            "type": "contour"
           }
          ],
          "contourcarpet": [
           {
            "colorbar": {
             "outlinewidth": 0,
             "ticks": ""
            },
            "type": "contourcarpet"
           }
          ],
          "heatmap": [
           {
            "colorbar": {
             "outlinewidth": 0,
             "ticks": ""
            },
            "colorscale": [
             [
              0,
              "#0d0887"
             ],
             [
              0.1111111111111111,
              "#46039f"
             ],
             [
              0.2222222222222222,
              "#7201a8"
             ],
             [
              0.3333333333333333,
              "#9c179e"
             ],
             [
              0.4444444444444444,
              "#bd3786"
             ],
             [
              0.5555555555555556,
              "#d8576b"
             ],
             [
              0.6666666666666666,
              "#ed7953"
             ],
             [
              0.7777777777777778,
              "#fb9f3a"
             ],
             [
              0.8888888888888888,
              "#fdca26"
             ],
             [
              1,
              "#f0f921"
             ]
            ],
            "type": "heatmap"
           }
          ],
          "heatmapgl": [
           {
            "colorbar": {
             "outlinewidth": 0,
             "ticks": ""
            },
            "colorscale": [
             [
              0,
              "#0d0887"
             ],
             [
              0.1111111111111111,
              "#46039f"
             ],
             [
              0.2222222222222222,
              "#7201a8"
             ],
             [
              0.3333333333333333,
              "#9c179e"
             ],
             [
              0.4444444444444444,
              "#bd3786"
             ],
             [
              0.5555555555555556,
              "#d8576b"
             ],
             [
              0.6666666666666666,
              "#ed7953"
             ],
             [
              0.7777777777777778,
              "#fb9f3a"
             ],
             [
              0.8888888888888888,
              "#fdca26"
             ],
             [
              1,
              "#f0f921"
             ]
            ],
            "type": "heatmapgl"
           }
          ],
          "histogram": [
           {
            "marker": {
             "colorbar": {
              "outlinewidth": 0,
              "ticks": ""
             }
            },
            "type": "histogram"
           }
          ],
          "histogram2d": [
           {
            "colorbar": {
             "outlinewidth": 0,
             "ticks": ""
            },
            "colorscale": [
             [
              0,
              "#0d0887"
             ],
             [
              0.1111111111111111,
              "#46039f"
             ],
             [
              0.2222222222222222,
              "#7201a8"
             ],
             [
              0.3333333333333333,
              "#9c179e"
             ],
             [
              0.4444444444444444,
              "#bd3786"
             ],
             [
              0.5555555555555556,
              "#d8576b"
             ],
             [
              0.6666666666666666,
              "#ed7953"
             ],
             [
              0.7777777777777778,
              "#fb9f3a"
             ],
             [
              0.8888888888888888,
              "#fdca26"
             ],
             [
              1,
              "#f0f921"
             ]
            ],
            "type": "histogram2d"
           }
          ],
          "histogram2dcontour": [
           {
            "colorbar": {
             "outlinewidth": 0,
             "ticks": ""
            },
            "colorscale": [
             [
              0,
              "#0d0887"
             ],
             [
              0.1111111111111111,
              "#46039f"
             ],
             [
              0.2222222222222222,
              "#7201a8"
             ],
             [
              0.3333333333333333,
              "#9c179e"
             ],
             [
              0.4444444444444444,
              "#bd3786"
             ],
             [
              0.5555555555555556,
              "#d8576b"
             ],
             [
              0.6666666666666666,
              "#ed7953"
             ],
             [
              0.7777777777777778,
              "#fb9f3a"
             ],
             [
              0.8888888888888888,
              "#fdca26"
             ],
             [
              1,
              "#f0f921"
             ]
            ],
            "type": "histogram2dcontour"
           }
          ],
          "mesh3d": [
           {
            "colorbar": {
             "outlinewidth": 0,
             "ticks": ""
            },
            "type": "mesh3d"
           }
          ],
          "parcoords": [
           {
            "line": {
             "colorbar": {
              "outlinewidth": 0,
              "ticks": ""
             }
            },
            "type": "parcoords"
           }
          ],
          "pie": [
           {
            "automargin": true,
            "type": "pie"
           }
          ],
          "scatter": [
           {
            "marker": {
             "colorbar": {
              "outlinewidth": 0,
              "ticks": ""
             }
            },
            "type": "scatter"
           }
          ],
          "scatter3d": [
           {
            "line": {
             "colorbar": {
              "outlinewidth": 0,
              "ticks": ""
             }
            },
            "marker": {
             "colorbar": {
              "outlinewidth": 0,
              "ticks": ""
             }
            },
            "type": "scatter3d"
           }
          ],
          "scattercarpet": [
           {
            "marker": {
             "colorbar": {
              "outlinewidth": 0,
              "ticks": ""
             }
            },
            "type": "scattercarpet"
           }
          ],
          "scattergeo": [
           {
            "marker": {
             "colorbar": {
              "outlinewidth": 0,
              "ticks": ""
             }
            },
            "type": "scattergeo"
           }
          ],
          "scattergl": [
           {
            "marker": {
             "colorbar": {
              "outlinewidth": 0,
              "ticks": ""
             }
            },
            "type": "scattergl"
           }
          ],
          "scattermapbox": [
           {
            "marker": {
             "colorbar": {
              "outlinewidth": 0,
              "ticks": ""
             }
            },
            "type": "scattermapbox"
           }
          ],
          "scatterpolar": [
           {
            "marker": {
             "colorbar": {
              "outlinewidth": 0,
              "ticks": ""
             }
            },
            "type": "scatterpolar"
           }
          ],
          "scatterpolargl": [
           {
            "marker": {
             "colorbar": {
              "outlinewidth": 0,
              "ticks": ""
             }
            },
            "type": "scatterpolargl"
           }
          ],
          "scatterternary": [
           {
            "marker": {
             "colorbar": {
              "outlinewidth": 0,
              "ticks": ""
             }
            },
            "type": "scatterternary"
           }
          ],
          "surface": [
           {
            "colorbar": {
             "outlinewidth": 0,
             "ticks": ""
            },
            "colorscale": [
             [
              0,
              "#0d0887"
             ],
             [
              0.1111111111111111,
              "#46039f"
             ],
             [
              0.2222222222222222,
              "#7201a8"
             ],
             [
              0.3333333333333333,
              "#9c179e"
             ],
             [
              0.4444444444444444,
              "#bd3786"
             ],
             [
              0.5555555555555556,
              "#d8576b"
             ],
             [
              0.6666666666666666,
              "#ed7953"
             ],
             [
              0.7777777777777778,
              "#fb9f3a"
             ],
             [
              0.8888888888888888,
              "#fdca26"
             ],
             [
              1,
              "#f0f921"
             ]
            ],
            "type": "surface"
           }
          ],
          "table": [
           {
            "cells": {
             "fill": {
              "color": "#EBF0F8"
             },
             "line": {
              "color": "white"
             }
            },
            "header": {
             "fill": {
              "color": "#C8D4E3"
             },
             "line": {
              "color": "white"
             }
            },
            "type": "table"
           }
          ]
         },
         "layout": {
          "annotationdefaults": {
           "arrowcolor": "#2a3f5f",
           "arrowhead": 0,
           "arrowwidth": 1
          },
          "coloraxis": {
           "colorbar": {
            "outlinewidth": 0,
            "ticks": ""
           }
          },
          "colorscale": {
           "diverging": [
            [
             0,
             "#8e0152"
            ],
            [
             0.1,
             "#c51b7d"
            ],
            [
             0.2,
             "#de77ae"
            ],
            [
             0.3,
             "#f1b6da"
            ],
            [
             0.4,
             "#fde0ef"
            ],
            [
             0.5,
             "#f7f7f7"
            ],
            [
             0.6,
             "#e6f5d0"
            ],
            [
             0.7,
             "#b8e186"
            ],
            [
             0.8,
             "#7fbc41"
            ],
            [
             0.9,
             "#4d9221"
            ],
            [
             1,
             "#276419"
            ]
           ],
           "sequential": [
            [
             0,
             "#0d0887"
            ],
            [
             0.1111111111111111,
             "#46039f"
            ],
            [
             0.2222222222222222,
             "#7201a8"
            ],
            [
             0.3333333333333333,
             "#9c179e"
            ],
            [
             0.4444444444444444,
             "#bd3786"
            ],
            [
             0.5555555555555556,
             "#d8576b"
            ],
            [
             0.6666666666666666,
             "#ed7953"
            ],
            [
             0.7777777777777778,
             "#fb9f3a"
            ],
            [
             0.8888888888888888,
             "#fdca26"
            ],
            [
             1,
             "#f0f921"
            ]
           ],
           "sequentialminus": [
            [
             0,
             "#0d0887"
            ],
            [
             0.1111111111111111,
             "#46039f"
            ],
            [
             0.2222222222222222,
             "#7201a8"
            ],
            [
             0.3333333333333333,
             "#9c179e"
            ],
            [
             0.4444444444444444,
             "#bd3786"
            ],
            [
             0.5555555555555556,
             "#d8576b"
            ],
            [
             0.6666666666666666,
             "#ed7953"
            ],
            [
             0.7777777777777778,
             "#fb9f3a"
            ],
            [
             0.8888888888888888,
             "#fdca26"
            ],
            [
             1,
             "#f0f921"
            ]
           ]
          },
          "colorway": [
           "#636efa",
           "#EF553B",
           "#00cc96",
           "#ab63fa",
           "#FFA15A",
           "#19d3f3",
           "#FF6692",
           "#B6E880",
           "#FF97FF",
           "#FECB52"
          ],
          "font": {
           "color": "#2a3f5f"
          },
          "geo": {
           "bgcolor": "white",
           "lakecolor": "white",
           "landcolor": "#E5ECF6",
           "showlakes": true,
           "showland": true,
           "subunitcolor": "white"
          },
          "hoverlabel": {
           "align": "left"
          },
          "hovermode": "closest",
          "mapbox": {
           "style": "light"
          },
          "paper_bgcolor": "white",
          "plot_bgcolor": "#E5ECF6",
          "polar": {
           "angularaxis": {
            "gridcolor": "white",
            "linecolor": "white",
            "ticks": ""
           },
           "bgcolor": "#E5ECF6",
           "radialaxis": {
            "gridcolor": "white",
            "linecolor": "white",
            "ticks": ""
           }
          },
          "scene": {
           "xaxis": {
            "backgroundcolor": "#E5ECF6",
            "gridcolor": "white",
            "gridwidth": 2,
            "linecolor": "white",
            "showbackground": true,
            "ticks": "",
            "zerolinecolor": "white"
           },
           "yaxis": {
            "backgroundcolor": "#E5ECF6",
            "gridcolor": "white",
            "gridwidth": 2,
            "linecolor": "white",
            "showbackground": true,
            "ticks": "",
            "zerolinecolor": "white"
           },
           "zaxis": {
            "backgroundcolor": "#E5ECF6",
            "gridcolor": "white",
            "gridwidth": 2,
            "linecolor": "white",
            "showbackground": true,
            "ticks": "",
            "zerolinecolor": "white"
           }
          },
          "shapedefaults": {
           "line": {
            "color": "#2a3f5f"
           }
          },
          "ternary": {
           "aaxis": {
            "gridcolor": "white",
            "linecolor": "white",
            "ticks": ""
           },
           "baxis": {
            "gridcolor": "white",
            "linecolor": "white",
            "ticks": ""
           },
           "bgcolor": "#E5ECF6",
           "caxis": {
            "gridcolor": "white",
            "linecolor": "white",
            "ticks": ""
           }
          },
          "title": {
           "x": 0.05
          },
          "xaxis": {
           "automargin": true,
           "gridcolor": "white",
           "linecolor": "white",
           "ticks": "",
           "title": {
            "standoff": 15
           },
           "zerolinecolor": "white",
           "zerolinewidth": 2
          },
          "yaxis": {
           "automargin": true,
           "gridcolor": "white",
           "linecolor": "white",
           "ticks": "",
           "title": {
            "standoff": 15
           },
           "zerolinecolor": "white",
           "zerolinewidth": 2
          }
         }
        },
        "title": {
         "text": "Visualizing Clusters in Two Dimensions Using T-SNE (perplexity=90)"
        },
        "xaxis": {
         "ticklen": 5,
         "title": {
          "text": "TC1"
         },
         "zeroline": false
        },
        "yaxis": {
         "ticklen": 5,
         "title": {
          "text": "TC2"
         },
         "zeroline": false
        }
       }
      },
      "text/html": [
       "<div>\n",
       "        \n",
       "        \n",
       "            <div id=\"d9cc97d9-c116-4714-8f42-2ceca99f26b0\" class=\"plotly-graph-div\" style=\"height:525px; width:100%;\"></div>\n",
       "            <script type=\"text/javascript\">\n",
       "                require([\"plotly\"], function(Plotly) {\n",
       "                    window.PLOTLYENV=window.PLOTLYENV || {};\n",
       "                    \n",
       "                if (document.getElementById(\"d9cc97d9-c116-4714-8f42-2ceca99f26b0\")) {\n",
       "                    Plotly.newPlot(\n",
       "                        'd9cc97d9-c116-4714-8f42-2ceca99f26b0',\n",
       "                        [{\"marker\": {\"color\": \"rgba(255, 128, 255, 0.8)\"}, \"mode\": \"markers\", \"name\": \"Cluster: 0\", \"text\": [\"Sierra Leone\", \"Kenya\", \"Liechtenstein\", \"Ethiopia\", \"Sudan\", \"Benin\", \"West Bank and Gaza\", \"India\", \"Somalia\", \"Honduras\", \"Equatorial Guinea\", \"Bolivia\", \"Guinea-Bissau\", \"Zambia\", \"Bangladesh\", \"Indonesia\", \"Jamaica\", \"South Africa\", \"Angola\", \"Cote d'Ivoire\", \"Timor-Leste\", \"Kosovo\", \"Mali\", \"Gabon\", \"Malawi\", \"Mauritania\", \"Mozambique\", \"Haiti\", \"Guyana\", \"Philippines\", \"Ghana\", \"Madagascar\", \"Central African Republic\", \"Namibia\", \"Guatemala\", \"Cambodia\", \"Burundi\", \"Tanzania\", \"Zimbabwe\", \"Sao Tome and Principe\", \"Burkina Faso\", \"Senegal\", \"Papua New Guinea\", \"Guinea\", \"Rwanda\", \"Chad\", \"Niger\", \"Bhutan\", \"Cabo Verde\", \"Cameroon\", \"Pakistan\"], \"type\": \"scatter\", \"x\": [-3.13036847114563, -3.0846195220947266, -2.7865147590637207, -2.90295672416687, -3.186288595199585, -3.093622922897339, -3.753048896789551, -3.2971489429473877, -2.276862382888794, -4.131555080413818, -2.8366329669952393, -4.053783893585205, -2.992109775543213, -3.4315545558929443, -3.324014902114868, -4.04127311706543, -4.138550281524658, -4.086869239807129, -3.1150434017181396, -3.2753045558929443, -3.875265121459961, -2.773162364959717, -3.0080580711364746, -3.986903667449951, -3.105088233947754, -3.137002944946289, -2.806584596633911, -3.4860105514526367, -4.070236682891846, -3.791360378265381, -3.4387166500091553, -2.981529712677002, -2.5908164978027344, -3.891842842102051, -3.8541390895843506, -3.5927724838256836, -3.0328893661499023, -3.19929838180542, -3.5185043811798096, -3.705120325088501, -3.0360286235809326, -3.3663270473480225, -3.630974769592285, -2.8798232078552246, -3.2293689250946045, -2.4619064331054688, -2.4853038787841797, -3.6664366722106934, -3.9040446281433105, -3.054116725921631, -3.151927947998047], \"y\": [-0.09154807776212692, -0.22179852426052094, 1.3136802911758423, -0.17845985293388367, 0.5019955635070801, -0.07622531056404114, 1.5355428457260132, -1.976686716079712, 0.4601636826992035, 0.014257773756980896, 0.5951447486877441, -0.18653658032417297, -0.09799155592918396, 0.2624482810497284, -0.45479974150657654, -0.07681940495967865, -0.014352052472531796, 1.1461976766586304, 0.2617928087711334, -0.06522110849618912, -0.7839218974113464, 1.3131834268569946, 0.0704469084739685, 0.9837597012519836, -0.33535826206207275, 0.2036169320344925, 0.0886770486831665, 0.4835175573825836, 0.05097093805670738, -0.2538115978240967, 0.11391253769397736, 0.06634210050106049, 0.08855142444372177, 0.736971378326416, -0.23777535557746887, -0.7486861944198608, -0.4540368318557739, -0.260185569524765, -0.330964595079422, 0.47838282585144043, -0.09970586001873016, -0.02308613993227482, -0.8064586520195007, 0.21486859023571014, -0.41385698318481445, 0.030446792021393776, -0.328976035118103, -0.38609617948532104, 0.2722359895706177, -0.43680718541145325, -0.31721848249435425]}, {\"marker\": {\"color\": \"rgba(255, 128, 2, 0.8)\"}, \"mode\": \"markers\", \"name\": \"Cluster: 1\", \"text\": [\"United States\"], \"type\": \"scatter\", \"x\": [-6.863224029541016], \"y\": [0.2886238396167755]}, {\"marker\": {\"color\": \"rgba(0, 255, 200, 0.8)\"}, \"mode\": \"markers\", \"name\": \"Cluster: 2\", \"text\": [\"Slovenia\", \"Fiji\", \"Malta\", \"Paraguay\", \"Croatia\", \"Mongolia\", \"Denmark\", \"Ukraine\", \"Germany\", \"Algeria\", \"Azerbaijan\", \"Cyprus\", \"Bahrain\", \"Belgium\", \"Singapore\", \"Japan\", \"Andorra\", \"Morocco\", \"Spain\", \"Chile\", \"Brazil\", \"Kazakhstan\", \"Monaco\", \"Dominican Republic\", \"Mexico\", \"Mauritius\", \"Nicaragua\", \"Tunisia\", \"Uzbekistan\", \"Lebanon\", \"Finland\", \"Georgia\", \"Saudi Arabia\", \"Italy\", \"United Kingdom\", \"United Arab Emirates\", \"Albania\", \"Peru\", \"Suriname\", \"Moldova\", \"Lithuania\", \"Israel\", \"Netherlands\", \"Maldives\", \"Greece\", \"Serbia\", \"Turkey\", \"Antigua and Barbuda\", \"Estonia\", \"Cuba\", \"Ecuador\", \"Belarus\", \"Latvia\", \"Austria\", \"France\", \"Grenada\", \"Portugal\", \"Luxembourg\", \"Sweden\", \"Iceland\", \"San Marino\", \"El Salvador\", \"Belize\", \"Panama\", \"Costa Rica\", \"Dominica\", \"Hungary\", \"Qatar\", \"Oman\", \"Trinidad and Tobago\", \"Armenia\", \"China\", \"Uruguay\", \"Thailand\", \"Norway\"], \"type\": \"scatter\", \"x\": [-5.639335632324219, -4.563592433929443, -5.477186679840088, -4.357329368591309, -5.348562240600586, -4.661011695861816, -5.769704341888428, -5.379909992218018, -6.347971439361572, -4.438697338104248, -4.735621929168701, -5.09347677230835, -4.6459431648254395, -6.13394832611084, -5.675352573394775, -6.3505401611328125, -4.678741931915283, -4.3737568855285645, -6.598572254180908, -4.853021621704102, -4.6635661125183105, -5.061199188232422, -5.627958297729492, -4.507099628448486, -4.619081497192383, -4.797438621520996, -4.18254280090332, -4.744988918304443, -4.554227352142334, -4.303888320922852, -5.847109317779541, -4.889694690704346, -4.441344261169434, -6.626962661743164, -6.486388206481934, -4.977041244506836, -4.948263645172119, -4.252682685852051, -4.667423725128174, -4.943023204803467, -5.656597137451172, -5.072547912597656, -6.030279636383057, -4.635552883148193, -5.41917610168457, -5.199289798736572, -4.8067851066589355, -4.469193935394287, -5.5123090744018555, -5.034613132476807, -4.213196277618408, -5.702353477478027, -5.469768047332764, -5.923336982727051, -6.618617534637451, -4.504599571228027, -5.36118745803833, -5.964568614959717, -5.820994853973389, -5.689308166503906, -5.037098407745361, -4.354926586151123, -4.209316730499268, -4.5101637840271, -4.715756416320801, -4.510439395904541, -5.735407829284668, -4.751659393310547, -4.246982574462891, -4.682621002197266, -4.745549201965332, -3.368596076965332, -5.06689453125, -4.526802062988281, -5.783290386199951], \"y\": [-0.21296139061450958, -0.31663447618484497, -0.528052568435669, -0.2126675248146057, -0.16066299378871918, 0.6834105253219604, -0.808921754360199, 0.7846279740333557, -0.5106651782989502, 0.056397706270217896, 0.19141489267349243, -0.3539612293243408, -1.3725426197052002, -0.7121065258979797, -1.7275751829147339, -0.770456075668335, -1.148690104484558, -0.0964139997959137, 0.22295375168323517, -0.23292957246303558, 0.6699753403663635, -0.4524903893470764, -1.9187681674957275, -0.006389005109667778, -0.3501436412334442, -0.24926476180553436, -0.21286828815937042, 0.28230008482933044, -0.4007633626461029, 0.24968576431274414, -0.7267570495605469, 0.4106827974319458, -1.443575143814087, 0.21835927665233612, -0.16606613993644714, -1.4013118743896484, -0.011784535832703114, -0.2563554346561432, 0.2122981697320938, -0.06541189551353455, -0.1639685481786728, -0.5729357004165649, -0.744156002998352, -0.39596664905548096, 0.1570943146944046, 0.6172569394111633, 1.2265293598175049, -0.6797815561294556, -0.26145461201667786, -0.5078306794166565, -0.20402352511882782, 0.20348158478736877, -0.2094702273607254, -0.6974884867668152, -0.02553480677306652, -0.584507167339325, -0.28410813212394714, -1.0638993978500366, -0.7451934218406677, -0.8854944705963135, -1.1458178758621216, -0.33996880054473877, -0.311879962682724, -0.3263310492038727, 0.09464572370052338, -1.049940586090088, -0.18184775114059448, -1.8621097803115845, -0.8482426404953003, -0.4506640136241913, 0.5581578612327576, -2.0238547325134277, 0.003271820954978466, -0.5320364236831665, -0.8453064560890198]}],\n",
       "                        {\"template\": {\"data\": {\"bar\": [{\"error_x\": {\"color\": \"#2a3f5f\"}, \"error_y\": {\"color\": \"#2a3f5f\"}, \"marker\": {\"line\": {\"color\": \"#E5ECF6\", \"width\": 0.5}}, \"type\": \"bar\"}], \"barpolar\": [{\"marker\": {\"line\": {\"color\": \"#E5ECF6\", \"width\": 0.5}}, \"type\": \"barpolar\"}], \"carpet\": [{\"aaxis\": {\"endlinecolor\": \"#2a3f5f\", \"gridcolor\": \"white\", \"linecolor\": \"white\", \"minorgridcolor\": \"white\", \"startlinecolor\": \"#2a3f5f\"}, \"baxis\": {\"endlinecolor\": \"#2a3f5f\", \"gridcolor\": \"white\", \"linecolor\": \"white\", \"minorgridcolor\": \"white\", \"startlinecolor\": \"#2a3f5f\"}, \"type\": \"carpet\"}], \"choropleth\": [{\"colorbar\": {\"outlinewidth\": 0, \"ticks\": \"\"}, \"type\": \"choropleth\"}], \"contour\": [{\"colorbar\": {\"outlinewidth\": 0, \"ticks\": \"\"}, \"colorscale\": [[0.0, \"#0d0887\"], [0.1111111111111111, \"#46039f\"], [0.2222222222222222, \"#7201a8\"], [0.3333333333333333, \"#9c179e\"], [0.4444444444444444, \"#bd3786\"], [0.5555555555555556, \"#d8576b\"], [0.6666666666666666, \"#ed7953\"], [0.7777777777777778, \"#fb9f3a\"], [0.8888888888888888, \"#fdca26\"], [1.0, \"#f0f921\"]], \"type\": \"contour\"}], \"contourcarpet\": [{\"colorbar\": {\"outlinewidth\": 0, \"ticks\": \"\"}, \"type\": \"contourcarpet\"}], \"heatmap\": [{\"colorbar\": {\"outlinewidth\": 0, \"ticks\": \"\"}, \"colorscale\": [[0.0, \"#0d0887\"], [0.1111111111111111, \"#46039f\"], [0.2222222222222222, \"#7201a8\"], [0.3333333333333333, \"#9c179e\"], [0.4444444444444444, \"#bd3786\"], [0.5555555555555556, \"#d8576b\"], [0.6666666666666666, \"#ed7953\"], [0.7777777777777778, \"#fb9f3a\"], [0.8888888888888888, \"#fdca26\"], [1.0, \"#f0f921\"]], \"type\": \"heatmap\"}], \"heatmapgl\": [{\"colorbar\": {\"outlinewidth\": 0, \"ticks\": \"\"}, \"colorscale\": [[0.0, \"#0d0887\"], [0.1111111111111111, \"#46039f\"], [0.2222222222222222, \"#7201a8\"], [0.3333333333333333, \"#9c179e\"], [0.4444444444444444, \"#bd3786\"], [0.5555555555555556, \"#d8576b\"], [0.6666666666666666, \"#ed7953\"], [0.7777777777777778, \"#fb9f3a\"], [0.8888888888888888, \"#fdca26\"], [1.0, \"#f0f921\"]], \"type\": \"heatmapgl\"}], \"histogram\": [{\"marker\": {\"colorbar\": {\"outlinewidth\": 0, \"ticks\": \"\"}}, \"type\": \"histogram\"}], \"histogram2d\": [{\"colorbar\": {\"outlinewidth\": 0, \"ticks\": \"\"}, \"colorscale\": [[0.0, \"#0d0887\"], [0.1111111111111111, \"#46039f\"], [0.2222222222222222, \"#7201a8\"], [0.3333333333333333, \"#9c179e\"], [0.4444444444444444, \"#bd3786\"], [0.5555555555555556, \"#d8576b\"], [0.6666666666666666, \"#ed7953\"], [0.7777777777777778, \"#fb9f3a\"], [0.8888888888888888, \"#fdca26\"], [1.0, \"#f0f921\"]], \"type\": \"histogram2d\"}], \"histogram2dcontour\": [{\"colorbar\": {\"outlinewidth\": 0, \"ticks\": \"\"}, \"colorscale\": [[0.0, \"#0d0887\"], [0.1111111111111111, \"#46039f\"], [0.2222222222222222, \"#7201a8\"], [0.3333333333333333, \"#9c179e\"], [0.4444444444444444, \"#bd3786\"], [0.5555555555555556, \"#d8576b\"], [0.6666666666666666, \"#ed7953\"], [0.7777777777777778, \"#fb9f3a\"], [0.8888888888888888, \"#fdca26\"], [1.0, \"#f0f921\"]], \"type\": \"histogram2dcontour\"}], \"mesh3d\": [{\"colorbar\": {\"outlinewidth\": 0, \"ticks\": \"\"}, \"type\": \"mesh3d\"}], \"parcoords\": [{\"line\": {\"colorbar\": {\"outlinewidth\": 0, \"ticks\": \"\"}}, \"type\": \"parcoords\"}], \"pie\": [{\"automargin\": true, \"type\": \"pie\"}], \"scatter\": [{\"marker\": {\"colorbar\": {\"outlinewidth\": 0, \"ticks\": \"\"}}, \"type\": \"scatter\"}], \"scatter3d\": [{\"line\": {\"colorbar\": {\"outlinewidth\": 0, \"ticks\": \"\"}}, \"marker\": {\"colorbar\": {\"outlinewidth\": 0, \"ticks\": \"\"}}, \"type\": \"scatter3d\"}], \"scattercarpet\": [{\"marker\": {\"colorbar\": {\"outlinewidth\": 0, \"ticks\": \"\"}}, \"type\": \"scattercarpet\"}], \"scattergeo\": [{\"marker\": {\"colorbar\": {\"outlinewidth\": 0, \"ticks\": \"\"}}, \"type\": \"scattergeo\"}], \"scattergl\": [{\"marker\": {\"colorbar\": {\"outlinewidth\": 0, \"ticks\": \"\"}}, \"type\": \"scattergl\"}], \"scattermapbox\": [{\"marker\": {\"colorbar\": {\"outlinewidth\": 0, \"ticks\": \"\"}}, \"type\": \"scattermapbox\"}], \"scatterpolar\": [{\"marker\": {\"colorbar\": {\"outlinewidth\": 0, \"ticks\": \"\"}}, \"type\": \"scatterpolar\"}], \"scatterpolargl\": [{\"marker\": {\"colorbar\": {\"outlinewidth\": 0, \"ticks\": \"\"}}, \"type\": \"scatterpolargl\"}], \"scatterternary\": [{\"marker\": {\"colorbar\": {\"outlinewidth\": 0, \"ticks\": \"\"}}, \"type\": \"scatterternary\"}], \"surface\": [{\"colorbar\": {\"outlinewidth\": 0, \"ticks\": \"\"}, \"colorscale\": [[0.0, \"#0d0887\"], [0.1111111111111111, \"#46039f\"], [0.2222222222222222, \"#7201a8\"], [0.3333333333333333, \"#9c179e\"], [0.4444444444444444, \"#bd3786\"], [0.5555555555555556, \"#d8576b\"], [0.6666666666666666, \"#ed7953\"], [0.7777777777777778, \"#fb9f3a\"], [0.8888888888888888, \"#fdca26\"], [1.0, \"#f0f921\"]], \"type\": \"surface\"}], \"table\": [{\"cells\": {\"fill\": {\"color\": \"#EBF0F8\"}, \"line\": {\"color\": \"white\"}}, \"header\": {\"fill\": {\"color\": \"#C8D4E3\"}, \"line\": {\"color\": \"white\"}}, \"type\": \"table\"}]}, \"layout\": {\"annotationdefaults\": {\"arrowcolor\": \"#2a3f5f\", \"arrowhead\": 0, \"arrowwidth\": 1}, \"coloraxis\": {\"colorbar\": {\"outlinewidth\": 0, \"ticks\": \"\"}}, \"colorscale\": {\"diverging\": [[0, \"#8e0152\"], [0.1, \"#c51b7d\"], [0.2, \"#de77ae\"], [0.3, \"#f1b6da\"], [0.4, \"#fde0ef\"], [0.5, \"#f7f7f7\"], [0.6, \"#e6f5d0\"], [0.7, \"#b8e186\"], [0.8, \"#7fbc41\"], [0.9, \"#4d9221\"], [1, \"#276419\"]], \"sequential\": [[0.0, \"#0d0887\"], [0.1111111111111111, \"#46039f\"], [0.2222222222222222, \"#7201a8\"], [0.3333333333333333, \"#9c179e\"], [0.4444444444444444, \"#bd3786\"], [0.5555555555555556, \"#d8576b\"], [0.6666666666666666, \"#ed7953\"], [0.7777777777777778, \"#fb9f3a\"], [0.8888888888888888, \"#fdca26\"], [1.0, \"#f0f921\"]], \"sequentialminus\": [[0.0, \"#0d0887\"], [0.1111111111111111, \"#46039f\"], [0.2222222222222222, \"#7201a8\"], [0.3333333333333333, \"#9c179e\"], [0.4444444444444444, \"#bd3786\"], [0.5555555555555556, \"#d8576b\"], [0.6666666666666666, \"#ed7953\"], [0.7777777777777778, \"#fb9f3a\"], [0.8888888888888888, \"#fdca26\"], [1.0, \"#f0f921\"]]}, \"colorway\": [\"#636efa\", \"#EF553B\", \"#00cc96\", \"#ab63fa\", \"#FFA15A\", \"#19d3f3\", \"#FF6692\", \"#B6E880\", \"#FF97FF\", \"#FECB52\"], \"font\": {\"color\": \"#2a3f5f\"}, \"geo\": {\"bgcolor\": \"white\", \"lakecolor\": \"white\", \"landcolor\": \"#E5ECF6\", \"showlakes\": true, \"showland\": true, \"subunitcolor\": \"white\"}, \"hoverlabel\": {\"align\": \"left\"}, \"hovermode\": \"closest\", \"mapbox\": {\"style\": \"light\"}, \"paper_bgcolor\": \"white\", \"plot_bgcolor\": \"#E5ECF6\", \"polar\": {\"angularaxis\": {\"gridcolor\": \"white\", \"linecolor\": \"white\", \"ticks\": \"\"}, \"bgcolor\": \"#E5ECF6\", \"radialaxis\": {\"gridcolor\": \"white\", \"linecolor\": \"white\", \"ticks\": \"\"}}, \"scene\": {\"xaxis\": {\"backgroundcolor\": \"#E5ECF6\", \"gridcolor\": \"white\", \"gridwidth\": 2, \"linecolor\": \"white\", \"showbackground\": true, \"ticks\": \"\", \"zerolinecolor\": \"white\"}, \"yaxis\": {\"backgroundcolor\": \"#E5ECF6\", \"gridcolor\": \"white\", \"gridwidth\": 2, \"linecolor\": \"white\", \"showbackground\": true, \"ticks\": \"\", \"zerolinecolor\": \"white\"}, \"zaxis\": {\"backgroundcolor\": \"#E5ECF6\", \"gridcolor\": \"white\", \"gridwidth\": 2, \"linecolor\": \"white\", \"showbackground\": true, \"ticks\": \"\", \"zerolinecolor\": \"white\"}}, \"shapedefaults\": {\"line\": {\"color\": \"#2a3f5f\"}}, \"ternary\": {\"aaxis\": {\"gridcolor\": \"white\", \"linecolor\": \"white\", \"ticks\": \"\"}, \"baxis\": {\"gridcolor\": \"white\", \"linecolor\": \"white\", \"ticks\": \"\"}, \"bgcolor\": \"#E5ECF6\", \"caxis\": {\"gridcolor\": \"white\", \"linecolor\": \"white\", \"ticks\": \"\"}}, \"title\": {\"x\": 0.05}, \"xaxis\": {\"automargin\": true, \"gridcolor\": \"white\", \"linecolor\": \"white\", \"ticks\": \"\", \"title\": {\"standoff\": 15}, \"zerolinecolor\": \"white\", \"zerolinewidth\": 2}, \"yaxis\": {\"automargin\": true, \"gridcolor\": \"white\", \"linecolor\": \"white\", \"ticks\": \"\", \"title\": {\"standoff\": 15}, \"zerolinecolor\": \"white\", \"zerolinewidth\": 2}}}, \"title\": {\"text\": \"Visualizing Clusters in Two Dimensions Using T-SNE (perplexity=90)\"}, \"xaxis\": {\"ticklen\": 5, \"title\": {\"text\": \"TC1\"}, \"zeroline\": false}, \"yaxis\": {\"ticklen\": 5, \"title\": {\"text\": \"TC2\"}, \"zeroline\": false}},\n",
       "                        {\"responsive\": true}\n",
       "                    ).then(function(){\n",
       "                            \n",
       "var gd = document.getElementById('d9cc97d9-c116-4714-8f42-2ceca99f26b0');\n",
       "var x = new MutationObserver(function (mutations, observer) {{\n",
       "        var display = window.getComputedStyle(gd).display;\n",
       "        if (!display || display === 'none') {{\n",
       "            console.log([gd, 'removed!']);\n",
       "            Plotly.purge(gd);\n",
       "            observer.disconnect();\n",
       "        }}\n",
       "}});\n",
       "\n",
       "// Listen for the removal of the full notebook cells\n",
       "var notebookContainer = gd.closest('#notebook-container');\n",
       "if (notebookContainer) {{\n",
       "    x.observe(notebookContainer, {childList: true});\n",
       "}}\n",
       "\n",
       "// Listen for the clearing of the current output cell\n",
       "var outputEl = gd.closest('.output');\n",
       "if (outputEl) {{\n",
       "    x.observe(outputEl, {childList: true});\n",
       "}}\n",
       "\n",
       "                        })\n",
       "                };\n",
       "                });\n",
       "            </script>\n",
       "        </div>"
      ]
     },
     "metadata": {},
     "output_type": "display_data"
    }
   ],
   "source": [
    "plotX = df_train.copy()\n",
    "\n",
    "def build_sets(perplexity, plotX):\n",
    "    tsne_1d = TSNE(n_components=1, perplexity=perplexity)\n",
    "    tsne_2d = TSNE(n_components=2, perplexity=perplexity)\n",
    "    tsne_3d = TSNE(n_components=3, perplexity=perplexity)\n",
    "\n",
    "    TCs_1d = pd.DataFrame(tsne_1d.fit_transform(plotX.drop([\"cluster\"], axis=1)), index=plotX.index)\n",
    "    TCs_2d = pd.DataFrame(tsne_2d.fit_transform(plotX.drop([\"cluster\"], axis=1)), index=plotX.index)\n",
    "    TCs_3d = pd.DataFrame(tsne_3d.fit_transform(plotX.drop([\"cluster\"], axis=1)), index=plotX.index)\n",
    "\n",
    "    TCs_1d.columns = [\"TC1_1d\"]\n",
    "    PCs_1d.columns = [\"PC1_1d\"]\n",
    "    TCs_2d.columns = [\"TC1_2d\",\"TC2_2d\"]\n",
    "    TCs_3d.columns = [\"TC1_3d\",\"TC2_3d\",\"TC3_3d\"]\n",
    "\n",
    "    plotX = pd.concat([plotX,TCs_1d,TCs_2d,TCs_3d], axis=1, join='inner')\n",
    "    plotX[\"dummy\"] = 0\n",
    "\n",
    "    cluster0 = plotX[plotX[\"cluster\"] == 0]\n",
    "    cluster1 = plotX[plotX[\"cluster\"] == 1]\n",
    "    cluster2 = plotX[plotX[\"cluster\"] == 2]\n",
    "    \n",
    "    return cluster0,cluster1,cluster2\n",
    "\n",
    "init_notebook_mode(connected=True)\n",
    "\n",
    "for i in [10,20,30, 40,50,60, 70,80,90]:\n",
    "    c0,c1,c2 = build_sets(i,plotX)    \n",
    "\n",
    "    data = [\n",
    "        make_scat(0, dict(color = 'rgba(255, 128, 255, 0.8)'), c0),\n",
    "        make_scat(1, dict(color ='rgba(255, 128, 2, 0.8)'), c1),\n",
    "        make_scat(2, dict(color ='rgba(0, 255, 200, 0.8)'), c2),\n",
    "    ]\n",
    "    title = \"Visualizing Clusters in Two Dimensions Using T-SNE (perplexity=\" + str(i) + \")\"\n",
    "    layout = dict(title = title, xaxis= dict(title= 'TC1',ticklen= 5,zeroline= False), yaxis= dict(title= 'TC2',ticklen= 5,zeroline= False))\n",
    "    fig = dict(data = data, layout = layout)\n",
    "    iplot(fig, image_width=400, image_height=300)\n"
   ]
  },
  {
   "cell_type": "markdown",
   "metadata": {},
   "source": [
    "## Need to figure out do I keep causes & deaths as indicators ?  Weigh them?  Add a cases/trending 3,7,14 day rolling avg?"
   ]
  },
  {
   "cell_type": "code",
   "execution_count": null,
   "metadata": {},
   "outputs": [],
   "source": []
  },
  {
   "cell_type": "code",
   "execution_count": null,
   "metadata": {},
   "outputs": [],
   "source": []
  },
  {
   "cell_type": "markdown",
   "metadata": {},
   "source": [
    "# Pop Density vs Case counts"
   ]
  },
  {
   "cell_type": "code",
   "execution_count": 82,
   "metadata": {},
   "outputs": [
    {
     "ename": "NameError",
     "evalue": "name 'df_gmerged2' is not defined",
     "output_type": "error",
     "traceback": [
      "\u001b[1;31m---------------------------------------------------------------------------\u001b[0m",
      "\u001b[1;31mNameError\u001b[0m                                 Traceback (most recent call last)",
      "\u001b[1;32m<ipython-input-82-178285f3ffc1>\u001b[0m in \u001b[0;36m<module>\u001b[1;34m\u001b[0m\n\u001b[0;32m      2\u001b[0m \u001b[0mfig\u001b[0m\u001b[1;33m,\u001b[0m\u001b[0max1\u001b[0m \u001b[1;33m=\u001b[0m \u001b[0mplt\u001b[0m\u001b[1;33m.\u001b[0m\u001b[0msubplots\u001b[0m\u001b[1;33m(\u001b[0m\u001b[0mfigsize\u001b[0m\u001b[1;33m=\u001b[0m\u001b[1;33m(\u001b[0m\u001b[1;36m10\u001b[0m\u001b[1;33m,\u001b[0m \u001b[1;36m8\u001b[0m\u001b[1;33m)\u001b[0m\u001b[1;33m)\u001b[0m\u001b[1;33m\u001b[0m\u001b[1;33m\u001b[0m\u001b[0m\n\u001b[0;32m      3\u001b[0m \u001b[1;33m\u001b[0m\u001b[0m\n\u001b[1;32m----> 4\u001b[1;33m \u001b[0mdf_gmerged_h\u001b[0m \u001b[1;33m=\u001b[0m \u001b[0mdf_gmerged2\u001b[0m\u001b[1;33m[\u001b[0m\u001b[0mdf_gmerged2\u001b[0m\u001b[1;33m[\u001b[0m\u001b[1;34m'Cases'\u001b[0m\u001b[1;33m]\u001b[0m \u001b[1;33m>\u001b[0m \u001b[1;36m1000\u001b[0m\u001b[1;33m]\u001b[0m\u001b[1;33m.\u001b[0m\u001b[0msort_values\u001b[0m\u001b[1;33m(\u001b[0m\u001b[0mby\u001b[0m\u001b[1;33m=\u001b[0m\u001b[1;33m[\u001b[0m\u001b[1;34m'popdensity'\u001b[0m\u001b[1;33m]\u001b[0m\u001b[1;33m,\u001b[0m\u001b[0mascending\u001b[0m\u001b[1;33m=\u001b[0m\u001b[1;32mFalse\u001b[0m\u001b[1;33m)\u001b[0m\u001b[1;33m.\u001b[0m\u001b[0mhead\u001b[0m\u001b[1;33m(\u001b[0m\u001b[0mmax_ctys\u001b[0m\u001b[1;33m)\u001b[0m\u001b[1;33m\u001b[0m\u001b[1;33m\u001b[0m\u001b[0m\n\u001b[0m\u001b[0;32m      5\u001b[0m \u001b[1;33m\u001b[0m\u001b[0m\n\u001b[0;32m      6\u001b[0m \u001b[0max1\u001b[0m\u001b[1;33m.\u001b[0m\u001b[0mset_xlabel\u001b[0m\u001b[1;33m(\u001b[0m\u001b[1;34m'Cases'\u001b[0m\u001b[1;33m)\u001b[0m\u001b[1;33m\u001b[0m\u001b[1;33m\u001b[0m\u001b[0m\n",
      "\u001b[1;31mNameError\u001b[0m: name 'df_gmerged2' is not defined"
     ]
    },
    {
     "data": {
      "image/png": "[encoded data removed]",
      "text/plain": [
       "<Figure size 720x576 with 1 Axes>"
      ]
     },
     "metadata": {
      "needs_background": "light"
     },
     "output_type": "display_data"
    }
   ],
   "source": [
    "max_ctys = 30\n",
    "fig,ax1 = plt.subplots(figsize=(10, 8)) \n",
    "\n",
    "df_gmerged_h = df_gmerged2[df_gmerged2['Cases'] > 1000].sort_values(by=['popdensity'],ascending=False).head(max_ctys)\n",
    "\n",
    "ax1.set_xlabel('Cases')  \n",
    "ax1.set_xscale('linear')\n",
    "ax1.barh(df_gmerged_h['Country/Region'], df_gmerged_h['Cases'], color='xkcd:green')\n",
    "for n,i in enumerate(ax1.patches):\n",
    "    ax1.text(i.get_width()+.02, i.get_y()+.5,'density: '+str(df_gmerged_h['popdensity'].iloc[n:n+1].round(2).item()) + ', pop: '+str(df_gmerged_h['Population'].iloc[n:n+1].div(1000000).round(0).item()) +'M, '+str(df_gmerged_h['% of pop'].iloc[n:n+1].round(2).item())  +'%', color='xkcd:blue')\n",
    "\n",
    "# ax2 = ax1.twiny()\n",
    "# ax2.set_xscale('linear')\n",
    "# ax2.set(xlim=[0, 10])   # get max min +/- buffer\n",
    "# ax2.set_xlabel('Population density', color='xkcd:red')  \n",
    "# ax2.spines['top'].set_color('red')\n",
    "# ax2.tick_params(axis='x', colors='red')\n",
    "# ax2.barh(df_gmerged_h['Country/Region'], df_gmerged_h['popdensity'], color='xkcd:red')\n",
    "# for n,i in enumerate(ax2.patches):\n",
    "#     ax2.text(i.get_width()+.02, i.get_y()+.5,str(df_gmerged_h['popdensity'].iloc[n:n+1].item()), color='xkcd:red')\n",
    "\n",
    "plt.title('Top Population Density Countries > 1000 cases')\n",
    "plt.gca().invert_yaxis()\n",
    "plt.show()"
   ]
  },
  {
   "cell_type": "code",
   "execution_count": null,
   "metadata": {},
   "outputs": [],
   "source": [
    "# read from JSON directly WIP -- would be more optimal than above but scrap for now\n",
    "# EN.ATM.PM25.MC.M3 - polution\n",
    "# able to aggrecate and get last value, not sure what source= is    ?source=2&format=json&mrnev=1&per_page=500\n",
    "#   http://api.worldbank.org/v2/country/all/indicator/EN.ATM.PM25.MC.M3;SH.MED.BEDS.ZS;IS.AIR.DPRT;IS.RRS.TOTL.KM;SP.URB.TOTL.IN.ZS;SP.POP.TOTL;SL.UEM.TOTL.ZS?source=2&format=json&mrnev=1&per_page=5000\n",
    "#jurl = 'http://api.worldbank.org/v2/country/all/indicator/EN.ATM.PM25.MC.M3;SH.MED.BEDS.ZS;IS.AIR.DPRT;IS.RRS.TOTL.KM;SP.URB.TOTL.IN.ZS;SP.POP.TOTL;SL.UEM.TOTL.ZS?source=2&format=json&mrnev=1&per_page=5000'\n",
    "    \n",
    "#r = requests.get(jurl)\n",
    "#display(r.text)\n",
    "#    \n",
    "#pd.read_json(r.text)\n",
    "\n"
   ]
  }
 ],
 "metadata": {
  "kernelspec": {
   "display_name": "Python 3",
   "language": "python",
   "name": "python3"
  },
  "language_info": {
   "codemirror_mode": {
    "name": "ipython",
    "version": 3
   },
   "file_extension": ".py",
   "mimetype": "text/x-python",
   "name": "python",
   "nbconvert_exporter": "python",
   "pygments_lexer": "ipython3",
   "version": "3.7.4"
  }
 },
 "nbformat": 4,
 "nbformat_minor": 2
}
