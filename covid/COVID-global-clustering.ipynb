{
 "cells": [
  {
   "cell_type": "markdown",
   "metadata": {},
   "source": [
    "# COVID Global Clustering Scratchpad \n",
    "\n",
    "Do the same using Global data from John Hopkins University\n",
    "\n",
    "https://github.com/CSSEGISandData/COVID-19   \n",
    "\n",
    "https://raw.githubusercontent.com/CSSEGISandData/COVID-19/master/csse_covid_19_data/csse_covid_19_time_series/time_series_covid19_confirmed_global.csv\n",
    "\n",
    "\n",
    "## Clustering thoughts\n",
    "- Take case + death counts\n",
    "- Trending pattern (?  what is a good single value metric.. rolling 3 day or some momentum value?)\n",
    "- Adding population data\n",
    "- Population density ?\n",
    "- Median age and age distributions\n",
    "\n",
    "Attempt to cluster the countries ?\n"
   ]
  },
  {
   "cell_type": "code",
   "execution_count": 1,
   "metadata": {},
   "outputs": [
    {
     "data": {
      "text/plain": [
       "'cases'"
      ]
     },
     "metadata": {},
     "output_type": "display_data"
    },
    {
     "data": {
      "text/html": [
       "<div>\n",
       "<style scoped>\n",
       "    .dataframe tbody tr th:only-of-type {\n",
       "        vertical-align: middle;\n",
       "    }\n",
       "\n",
       "    .dataframe tbody tr th {\n",
       "        vertical-align: top;\n",
       "    }\n",
       "\n",
       "    .dataframe thead th {\n",
       "        text-align: right;\n",
       "    }\n",
       "</style>\n",
       "<table border=\"1\" class=\"dataframe\">\n",
       "  <thead>\n",
       "    <tr style=\"text-align: right;\">\n",
       "      <th>Country/Region</th>\n",
       "      <th>US</th>\n",
       "      <th>Spain</th>\n",
       "      <th>Italy</th>\n",
       "      <th>France</th>\n",
       "      <th>Germany</th>\n",
       "      <th>United Kingdom</th>\n",
       "      <th>China</th>\n",
       "      <th>Turkey</th>\n",
       "      <th>Iran</th>\n",
       "      <th>Belgium</th>\n",
       "      <th>...</th>\n",
       "      <th>MS Zaandam</th>\n",
       "      <th>Holy See</th>\n",
       "      <th>Papua New Guinea</th>\n",
       "      <th>Mauritania</th>\n",
       "      <th>Western Sahara</th>\n",
       "      <th>Bhutan</th>\n",
       "      <th>Burundi</th>\n",
       "      <th>Sao Tome and Principe</th>\n",
       "      <th>South Sudan</th>\n",
       "      <th>Yemen</th>\n",
       "    </tr>\n",
       "  </thead>\n",
       "  <tbody>\n",
       "    <tr>\n",
       "      <td>2020-04-14</td>\n",
       "      <td>607670</td>\n",
       "      <td>172541</td>\n",
       "      <td>162488</td>\n",
       "      <td>131361</td>\n",
       "      <td>131359</td>\n",
       "      <td>94845</td>\n",
       "      <td>83306</td>\n",
       "      <td>65111</td>\n",
       "      <td>74877</td>\n",
       "      <td>31119</td>\n",
       "      <td>...</td>\n",
       "      <td>9</td>\n",
       "      <td>8</td>\n",
       "      <td>2</td>\n",
       "      <td>7</td>\n",
       "      <td>6</td>\n",
       "      <td>5</td>\n",
       "      <td>5</td>\n",
       "      <td>4</td>\n",
       "      <td>4</td>\n",
       "      <td>1</td>\n",
       "    </tr>\n",
       "    <tr>\n",
       "      <td>2020-04-15</td>\n",
       "      <td>636350</td>\n",
       "      <td>177644</td>\n",
       "      <td>165155</td>\n",
       "      <td>134582</td>\n",
       "      <td>134753</td>\n",
       "      <td>99483</td>\n",
       "      <td>83356</td>\n",
       "      <td>69392</td>\n",
       "      <td>76389</td>\n",
       "      <td>33573</td>\n",
       "      <td>...</td>\n",
       "      <td>9</td>\n",
       "      <td>8</td>\n",
       "      <td>2</td>\n",
       "      <td>7</td>\n",
       "      <td>6</td>\n",
       "      <td>5</td>\n",
       "      <td>5</td>\n",
       "      <td>4</td>\n",
       "      <td>4</td>\n",
       "      <td>1</td>\n",
       "    </tr>\n",
       "    <tr>\n",
       "      <td>2020-04-16</td>\n",
       "      <td>667801</td>\n",
       "      <td>184948</td>\n",
       "      <td>168941</td>\n",
       "      <td>147091</td>\n",
       "      <td>137698</td>\n",
       "      <td>104145</td>\n",
       "      <td>83403</td>\n",
       "      <td>74193</td>\n",
       "      <td>77995</td>\n",
       "      <td>34809</td>\n",
       "      <td>...</td>\n",
       "      <td>9</td>\n",
       "      <td>8</td>\n",
       "      <td>7</td>\n",
       "      <td>7</td>\n",
       "      <td>6</td>\n",
       "      <td>5</td>\n",
       "      <td>5</td>\n",
       "      <td>4</td>\n",
       "      <td>4</td>\n",
       "      <td>1</td>\n",
       "    </tr>\n",
       "    <tr>\n",
       "      <td>2020-04-17</td>\n",
       "      <td>699706</td>\n",
       "      <td>190839</td>\n",
       "      <td>172434</td>\n",
       "      <td>149130</td>\n",
       "      <td>141397</td>\n",
       "      <td>109769</td>\n",
       "      <td>83760</td>\n",
       "      <td>78546</td>\n",
       "      <td>79494</td>\n",
       "      <td>36138</td>\n",
       "      <td>...</td>\n",
       "      <td>9</td>\n",
       "      <td>8</td>\n",
       "      <td>7</td>\n",
       "      <td>7</td>\n",
       "      <td>6</td>\n",
       "      <td>5</td>\n",
       "      <td>5</td>\n",
       "      <td>4</td>\n",
       "      <td>4</td>\n",
       "      <td>1</td>\n",
       "    </tr>\n",
       "    <tr>\n",
       "      <td>2020-04-18</td>\n",
       "      <td>732197</td>\n",
       "      <td>191726</td>\n",
       "      <td>175925</td>\n",
       "      <td>149149</td>\n",
       "      <td>143342</td>\n",
       "      <td>115314</td>\n",
       "      <td>83787</td>\n",
       "      <td>82329</td>\n",
       "      <td>80868</td>\n",
       "      <td>37183</td>\n",
       "      <td>...</td>\n",
       "      <td>9</td>\n",
       "      <td>8</td>\n",
       "      <td>7</td>\n",
       "      <td>7</td>\n",
       "      <td>6</td>\n",
       "      <td>5</td>\n",
       "      <td>5</td>\n",
       "      <td>4</td>\n",
       "      <td>4</td>\n",
       "      <td>1</td>\n",
       "    </tr>\n",
       "  </tbody>\n",
       "</table>\n",
       "<p>5 rows × 185 columns</p>\n",
       "</div>"
      ],
      "text/plain": [
       "Country/Region      US   Spain   Italy  France  Germany  United Kingdom  \\\n",
       "2020-04-14      607670  172541  162488  131361   131359           94845   \n",
       "2020-04-15      636350  177644  165155  134582   134753           99483   \n",
       "2020-04-16      667801  184948  168941  147091   137698          104145   \n",
       "2020-04-17      699706  190839  172434  149130   141397          109769   \n",
       "2020-04-18      732197  191726  175925  149149   143342          115314   \n",
       "\n",
       "Country/Region  China  Turkey   Iran  Belgium  ...  MS Zaandam  Holy See  \\\n",
       "2020-04-14      83306   65111  74877    31119  ...           9         8   \n",
       "2020-04-15      83356   69392  76389    33573  ...           9         8   \n",
       "2020-04-16      83403   74193  77995    34809  ...           9         8   \n",
       "2020-04-17      83760   78546  79494    36138  ...           9         8   \n",
       "2020-04-18      83787   82329  80868    37183  ...           9         8   \n",
       "\n",
       "Country/Region  Papua New Guinea  Mauritania  Western Sahara  Bhutan  Burundi  \\\n",
       "2020-04-14                     2           7               6       5        5   \n",
       "2020-04-15                     2           7               6       5        5   \n",
       "2020-04-16                     7           7               6       5        5   \n",
       "2020-04-17                     7           7               6       5        5   \n",
       "2020-04-18                     7           7               6       5        5   \n",
       "\n",
       "Country/Region  Sao Tome and Principe  South Sudan  Yemen  \n",
       "2020-04-14                          4            4      1  \n",
       "2020-04-15                          4            4      1  \n",
       "2020-04-16                          4            4      1  \n",
       "2020-04-17                          4            4      1  \n",
       "2020-04-18                          4            4      1  \n",
       "\n",
       "[5 rows x 185 columns]"
      ]
     },
     "metadata": {},
     "output_type": "display_data"
    },
    {
     "data": {
      "text/plain": [
       "'chg in cases'"
      ]
     },
     "metadata": {},
     "output_type": "display_data"
    },
    {
     "data": {
      "text/html": [
       "<div>\n",
       "<style scoped>\n",
       "    .dataframe tbody tr th:only-of-type {\n",
       "        vertical-align: middle;\n",
       "    }\n",
       "\n",
       "    .dataframe tbody tr th {\n",
       "        vertical-align: top;\n",
       "    }\n",
       "\n",
       "    .dataframe thead th {\n",
       "        text-align: right;\n",
       "    }\n",
       "</style>\n",
       "<table border=\"1\" class=\"dataframe\">\n",
       "  <thead>\n",
       "    <tr style=\"text-align: right;\">\n",
       "      <th>Country/Region</th>\n",
       "      <th>US</th>\n",
       "      <th>Spain</th>\n",
       "      <th>Italy</th>\n",
       "      <th>France</th>\n",
       "      <th>Germany</th>\n",
       "      <th>United Kingdom</th>\n",
       "      <th>China</th>\n",
       "      <th>Turkey</th>\n",
       "      <th>Iran</th>\n",
       "      <th>Belgium</th>\n",
       "      <th>...</th>\n",
       "      <th>MS Zaandam</th>\n",
       "      <th>Holy See</th>\n",
       "      <th>Papua New Guinea</th>\n",
       "      <th>Mauritania</th>\n",
       "      <th>Western Sahara</th>\n",
       "      <th>Bhutan</th>\n",
       "      <th>Burundi</th>\n",
       "      <th>Sao Tome and Principe</th>\n",
       "      <th>South Sudan</th>\n",
       "      <th>Yemen</th>\n",
       "    </tr>\n",
       "  </thead>\n",
       "  <tbody>\n",
       "    <tr>\n",
       "      <td>2020-04-14</td>\n",
       "      <td>NaN</td>\n",
       "      <td>NaN</td>\n",
       "      <td>NaN</td>\n",
       "      <td>NaN</td>\n",
       "      <td>NaN</td>\n",
       "      <td>NaN</td>\n",
       "      <td>NaN</td>\n",
       "      <td>NaN</td>\n",
       "      <td>NaN</td>\n",
       "      <td>NaN</td>\n",
       "      <td>...</td>\n",
       "      <td>NaN</td>\n",
       "      <td>NaN</td>\n",
       "      <td>NaN</td>\n",
       "      <td>NaN</td>\n",
       "      <td>NaN</td>\n",
       "      <td>NaN</td>\n",
       "      <td>NaN</td>\n",
       "      <td>NaN</td>\n",
       "      <td>NaN</td>\n",
       "      <td>NaN</td>\n",
       "    </tr>\n",
       "    <tr>\n",
       "      <td>2020-04-15</td>\n",
       "      <td>28680.0</td>\n",
       "      <td>5103.0</td>\n",
       "      <td>2667.0</td>\n",
       "      <td>3221.0</td>\n",
       "      <td>3394.0</td>\n",
       "      <td>4638.0</td>\n",
       "      <td>50.0</td>\n",
       "      <td>4281.0</td>\n",
       "      <td>1512.0</td>\n",
       "      <td>2454.0</td>\n",
       "      <td>...</td>\n",
       "      <td>0.0</td>\n",
       "      <td>0.0</td>\n",
       "      <td>0.0</td>\n",
       "      <td>0.0</td>\n",
       "      <td>0.0</td>\n",
       "      <td>0.0</td>\n",
       "      <td>0.0</td>\n",
       "      <td>0.0</td>\n",
       "      <td>0.0</td>\n",
       "      <td>0.0</td>\n",
       "    </tr>\n",
       "    <tr>\n",
       "      <td>2020-04-16</td>\n",
       "      <td>31451.0</td>\n",
       "      <td>7304.0</td>\n",
       "      <td>3786.0</td>\n",
       "      <td>12509.0</td>\n",
       "      <td>2945.0</td>\n",
       "      <td>4662.0</td>\n",
       "      <td>47.0</td>\n",
       "      <td>4801.0</td>\n",
       "      <td>1606.0</td>\n",
       "      <td>1236.0</td>\n",
       "      <td>...</td>\n",
       "      <td>0.0</td>\n",
       "      <td>0.0</td>\n",
       "      <td>5.0</td>\n",
       "      <td>0.0</td>\n",
       "      <td>0.0</td>\n",
       "      <td>0.0</td>\n",
       "      <td>0.0</td>\n",
       "      <td>0.0</td>\n",
       "      <td>0.0</td>\n",
       "      <td>0.0</td>\n",
       "    </tr>\n",
       "    <tr>\n",
       "      <td>2020-04-17</td>\n",
       "      <td>31905.0</td>\n",
       "      <td>5891.0</td>\n",
       "      <td>3493.0</td>\n",
       "      <td>2039.0</td>\n",
       "      <td>3699.0</td>\n",
       "      <td>5624.0</td>\n",
       "      <td>357.0</td>\n",
       "      <td>4353.0</td>\n",
       "      <td>1499.0</td>\n",
       "      <td>1329.0</td>\n",
       "      <td>...</td>\n",
       "      <td>0.0</td>\n",
       "      <td>0.0</td>\n",
       "      <td>0.0</td>\n",
       "      <td>0.0</td>\n",
       "      <td>0.0</td>\n",
       "      <td>0.0</td>\n",
       "      <td>0.0</td>\n",
       "      <td>0.0</td>\n",
       "      <td>0.0</td>\n",
       "      <td>0.0</td>\n",
       "    </tr>\n",
       "    <tr>\n",
       "      <td>2020-04-18</td>\n",
       "      <td>32491.0</td>\n",
       "      <td>887.0</td>\n",
       "      <td>3491.0</td>\n",
       "      <td>19.0</td>\n",
       "      <td>1945.0</td>\n",
       "      <td>5545.0</td>\n",
       "      <td>27.0</td>\n",
       "      <td>3783.0</td>\n",
       "      <td>1374.0</td>\n",
       "      <td>1045.0</td>\n",
       "      <td>...</td>\n",
       "      <td>0.0</td>\n",
       "      <td>0.0</td>\n",
       "      <td>0.0</td>\n",
       "      <td>0.0</td>\n",
       "      <td>0.0</td>\n",
       "      <td>0.0</td>\n",
       "      <td>0.0</td>\n",
       "      <td>0.0</td>\n",
       "      <td>0.0</td>\n",
       "      <td>0.0</td>\n",
       "    </tr>\n",
       "  </tbody>\n",
       "</table>\n",
       "<p>5 rows × 185 columns</p>\n",
       "</div>"
      ],
      "text/plain": [
       "Country/Region       US   Spain   Italy   France  Germany  United Kingdom  \\\n",
       "2020-04-14          NaN     NaN     NaN      NaN      NaN             NaN   \n",
       "2020-04-15      28680.0  5103.0  2667.0   3221.0   3394.0          4638.0   \n",
       "2020-04-16      31451.0  7304.0  3786.0  12509.0   2945.0          4662.0   \n",
       "2020-04-17      31905.0  5891.0  3493.0   2039.0   3699.0          5624.0   \n",
       "2020-04-18      32491.0   887.0  3491.0     19.0   1945.0          5545.0   \n",
       "\n",
       "Country/Region  China  Turkey    Iran  Belgium  ...  MS Zaandam  Holy See  \\\n",
       "2020-04-14        NaN     NaN     NaN      NaN  ...         NaN       NaN   \n",
       "2020-04-15       50.0  4281.0  1512.0   2454.0  ...         0.0       0.0   \n",
       "2020-04-16       47.0  4801.0  1606.0   1236.0  ...         0.0       0.0   \n",
       "2020-04-17      357.0  4353.0  1499.0   1329.0  ...         0.0       0.0   \n",
       "2020-04-18       27.0  3783.0  1374.0   1045.0  ...         0.0       0.0   \n",
       "\n",
       "Country/Region  Papua New Guinea  Mauritania  Western Sahara  Bhutan  Burundi  \\\n",
       "2020-04-14                   NaN         NaN             NaN     NaN      NaN   \n",
       "2020-04-15                   0.0         0.0             0.0     0.0      0.0   \n",
       "2020-04-16                   5.0         0.0             0.0     0.0      0.0   \n",
       "2020-04-17                   0.0         0.0             0.0     0.0      0.0   \n",
       "2020-04-18                   0.0         0.0             0.0     0.0      0.0   \n",
       "\n",
       "Country/Region  Sao Tome and Principe  South Sudan  Yemen  \n",
       "2020-04-14                        NaN          NaN    NaN  \n",
       "2020-04-15                        0.0          0.0    0.0  \n",
       "2020-04-16                        0.0          0.0    0.0  \n",
       "2020-04-17                        0.0          0.0    0.0  \n",
       "2020-04-18                        0.0          0.0    0.0  \n",
       "\n",
       "[5 rows x 185 columns]"
      ]
     },
     "metadata": {},
     "output_type": "display_data"
    },
    {
     "data": {
      "text/plain": [
       "'deaths'"
      ]
     },
     "metadata": {},
     "output_type": "display_data"
    },
    {
     "data": {
      "text/html": [
       "<div>\n",
       "<style scoped>\n",
       "    .dataframe tbody tr th:only-of-type {\n",
       "        vertical-align: middle;\n",
       "    }\n",
       "\n",
       "    .dataframe tbody tr th {\n",
       "        vertical-align: top;\n",
       "    }\n",
       "\n",
       "    .dataframe thead th {\n",
       "        text-align: right;\n",
       "    }\n",
       "</style>\n",
       "<table border=\"1\" class=\"dataframe\">\n",
       "  <thead>\n",
       "    <tr style=\"text-align: right;\">\n",
       "      <th>Country/Region</th>\n",
       "      <th>US</th>\n",
       "      <th>Italy</th>\n",
       "      <th>Spain</th>\n",
       "      <th>France</th>\n",
       "      <th>United Kingdom</th>\n",
       "      <th>Belgium</th>\n",
       "      <th>Iran</th>\n",
       "      <th>China</th>\n",
       "      <th>Germany</th>\n",
       "      <th>Netherlands</th>\n",
       "      <th>...</th>\n",
       "      <th>Central African Republic</th>\n",
       "      <th>Saint Lucia</th>\n",
       "      <th>Chad</th>\n",
       "      <th>Saint Vincent and the Grenadines</th>\n",
       "      <th>South Sudan</th>\n",
       "      <th>Sao Tome and Principe</th>\n",
       "      <th>Dominica</th>\n",
       "      <th>Equatorial Guinea</th>\n",
       "      <th>Eritrea</th>\n",
       "      <th>Seychelles</th>\n",
       "    </tr>\n",
       "  </thead>\n",
       "  <tbody>\n",
       "    <tr>\n",
       "      <td>2020-04-14</td>\n",
       "      <td>25831</td>\n",
       "      <td>21067</td>\n",
       "      <td>18056</td>\n",
       "      <td>15748</td>\n",
       "      <td>12129</td>\n",
       "      <td>4157</td>\n",
       "      <td>4683</td>\n",
       "      <td>3345</td>\n",
       "      <td>3294</td>\n",
       "      <td>2955</td>\n",
       "      <td>...</td>\n",
       "      <td>0</td>\n",
       "      <td>0</td>\n",
       "      <td>0</td>\n",
       "      <td>0</td>\n",
       "      <td>0</td>\n",
       "      <td>0</td>\n",
       "      <td>0</td>\n",
       "      <td>0</td>\n",
       "      <td>0</td>\n",
       "      <td>0</td>\n",
       "    </tr>\n",
       "    <tr>\n",
       "      <td>2020-04-15</td>\n",
       "      <td>28325</td>\n",
       "      <td>21645</td>\n",
       "      <td>18708</td>\n",
       "      <td>17188</td>\n",
       "      <td>12894</td>\n",
       "      <td>4440</td>\n",
       "      <td>4777</td>\n",
       "      <td>3346</td>\n",
       "      <td>3804</td>\n",
       "      <td>3145</td>\n",
       "      <td>...</td>\n",
       "      <td>0</td>\n",
       "      <td>0</td>\n",
       "      <td>0</td>\n",
       "      <td>0</td>\n",
       "      <td>0</td>\n",
       "      <td>0</td>\n",
       "      <td>0</td>\n",
       "      <td>0</td>\n",
       "      <td>0</td>\n",
       "      <td>0</td>\n",
       "    </tr>\n",
       "    <tr>\n",
       "      <td>2020-04-16</td>\n",
       "      <td>32916</td>\n",
       "      <td>22170</td>\n",
       "      <td>19315</td>\n",
       "      <td>17941</td>\n",
       "      <td>13759</td>\n",
       "      <td>4857</td>\n",
       "      <td>4869</td>\n",
       "      <td>3346</td>\n",
       "      <td>4052</td>\n",
       "      <td>3327</td>\n",
       "      <td>...</td>\n",
       "      <td>0</td>\n",
       "      <td>0</td>\n",
       "      <td>0</td>\n",
       "      <td>0</td>\n",
       "      <td>0</td>\n",
       "      <td>0</td>\n",
       "      <td>0</td>\n",
       "      <td>0</td>\n",
       "      <td>0</td>\n",
       "      <td>0</td>\n",
       "    </tr>\n",
       "    <tr>\n",
       "      <td>2020-04-17</td>\n",
       "      <td>36773</td>\n",
       "      <td>22745</td>\n",
       "      <td>20002</td>\n",
       "      <td>18703</td>\n",
       "      <td>14607</td>\n",
       "      <td>5163</td>\n",
       "      <td>4958</td>\n",
       "      <td>4636</td>\n",
       "      <td>4352</td>\n",
       "      <td>3471</td>\n",
       "      <td>...</td>\n",
       "      <td>0</td>\n",
       "      <td>0</td>\n",
       "      <td>0</td>\n",
       "      <td>0</td>\n",
       "      <td>0</td>\n",
       "      <td>0</td>\n",
       "      <td>0</td>\n",
       "      <td>0</td>\n",
       "      <td>0</td>\n",
       "      <td>0</td>\n",
       "    </tr>\n",
       "    <tr>\n",
       "      <td>2020-04-18</td>\n",
       "      <td>38664</td>\n",
       "      <td>23227</td>\n",
       "      <td>20043</td>\n",
       "      <td>19345</td>\n",
       "      <td>15498</td>\n",
       "      <td>5453</td>\n",
       "      <td>5031</td>\n",
       "      <td>4636</td>\n",
       "      <td>4459</td>\n",
       "      <td>3613</td>\n",
       "      <td>...</td>\n",
       "      <td>0</td>\n",
       "      <td>0</td>\n",
       "      <td>0</td>\n",
       "      <td>0</td>\n",
       "      <td>0</td>\n",
       "      <td>0</td>\n",
       "      <td>0</td>\n",
       "      <td>0</td>\n",
       "      <td>0</td>\n",
       "      <td>0</td>\n",
       "    </tr>\n",
       "  </tbody>\n",
       "</table>\n",
       "<p>5 rows × 185 columns</p>\n",
       "</div>"
      ],
      "text/plain": [
       "Country/Region     US  Italy  Spain  France  United Kingdom  Belgium  Iran  \\\n",
       "2020-04-14      25831  21067  18056   15748           12129     4157  4683   \n",
       "2020-04-15      28325  21645  18708   17188           12894     4440  4777   \n",
       "2020-04-16      32916  22170  19315   17941           13759     4857  4869   \n",
       "2020-04-17      36773  22745  20002   18703           14607     5163  4958   \n",
       "2020-04-18      38664  23227  20043   19345           15498     5453  5031   \n",
       "\n",
       "Country/Region  China  Germany  Netherlands  ...  Central African Republic  \\\n",
       "2020-04-14       3345     3294         2955  ...                         0   \n",
       "2020-04-15       3346     3804         3145  ...                         0   \n",
       "2020-04-16       3346     4052         3327  ...                         0   \n",
       "2020-04-17       4636     4352         3471  ...                         0   \n",
       "2020-04-18       4636     4459         3613  ...                         0   \n",
       "\n",
       "Country/Region  Saint Lucia  Chad  Saint Vincent and the Grenadines  \\\n",
       "2020-04-14                0     0                                 0   \n",
       "2020-04-15                0     0                                 0   \n",
       "2020-04-16                0     0                                 0   \n",
       "2020-04-17                0     0                                 0   \n",
       "2020-04-18                0     0                                 0   \n",
       "\n",
       "Country/Region  South Sudan  Sao Tome and Principe  Dominica  \\\n",
       "2020-04-14                0                      0         0   \n",
       "2020-04-15                0                      0         0   \n",
       "2020-04-16                0                      0         0   \n",
       "2020-04-17                0                      0         0   \n",
       "2020-04-18                0                      0         0   \n",
       "\n",
       "Country/Region  Equatorial Guinea  Eritrea  Seychelles  \n",
       "2020-04-14                      0        0           0  \n",
       "2020-04-15                      0        0           0  \n",
       "2020-04-16                      0        0           0  \n",
       "2020-04-17                      0        0           0  \n",
       "2020-04-18                      0        0           0  \n",
       "\n",
       "[5 rows x 185 columns]"
      ]
     },
     "metadata": {},
     "output_type": "display_data"
    },
    {
     "data": {
      "text/plain": [
       "'chg in deaths'"
      ]
     },
     "metadata": {},
     "output_type": "display_data"
    },
    {
     "data": {
      "text/html": [
       "<div>\n",
       "<style scoped>\n",
       "    .dataframe tbody tr th:only-of-type {\n",
       "        vertical-align: middle;\n",
       "    }\n",
       "\n",
       "    .dataframe tbody tr th {\n",
       "        vertical-align: top;\n",
       "    }\n",
       "\n",
       "    .dataframe thead th {\n",
       "        text-align: right;\n",
       "    }\n",
       "</style>\n",
       "<table border=\"1\" class=\"dataframe\">\n",
       "  <thead>\n",
       "    <tr style=\"text-align: right;\">\n",
       "      <th>Country/Region</th>\n",
       "      <th>US</th>\n",
       "      <th>Italy</th>\n",
       "      <th>Spain</th>\n",
       "      <th>France</th>\n",
       "      <th>United Kingdom</th>\n",
       "      <th>Belgium</th>\n",
       "      <th>Iran</th>\n",
       "      <th>China</th>\n",
       "      <th>Germany</th>\n",
       "      <th>Netherlands</th>\n",
       "      <th>...</th>\n",
       "      <th>Central African Republic</th>\n",
       "      <th>Saint Lucia</th>\n",
       "      <th>Chad</th>\n",
       "      <th>Saint Vincent and the Grenadines</th>\n",
       "      <th>South Sudan</th>\n",
       "      <th>Sao Tome and Principe</th>\n",
       "      <th>Dominica</th>\n",
       "      <th>Equatorial Guinea</th>\n",
       "      <th>Eritrea</th>\n",
       "      <th>Seychelles</th>\n",
       "    </tr>\n",
       "  </thead>\n",
       "  <tbody>\n",
       "    <tr>\n",
       "      <td>2020-04-14</td>\n",
       "      <td>NaN</td>\n",
       "      <td>NaN</td>\n",
       "      <td>NaN</td>\n",
       "      <td>NaN</td>\n",
       "      <td>NaN</td>\n",
       "      <td>NaN</td>\n",
       "      <td>NaN</td>\n",
       "      <td>NaN</td>\n",
       "      <td>NaN</td>\n",
       "      <td>NaN</td>\n",
       "      <td>...</td>\n",
       "      <td>NaN</td>\n",
       "      <td>NaN</td>\n",
       "      <td>NaN</td>\n",
       "      <td>NaN</td>\n",
       "      <td>NaN</td>\n",
       "      <td>NaN</td>\n",
       "      <td>NaN</td>\n",
       "      <td>NaN</td>\n",
       "      <td>NaN</td>\n",
       "      <td>NaN</td>\n",
       "    </tr>\n",
       "    <tr>\n",
       "      <td>2020-04-15</td>\n",
       "      <td>2494.0</td>\n",
       "      <td>578.0</td>\n",
       "      <td>652.0</td>\n",
       "      <td>1440.0</td>\n",
       "      <td>765.0</td>\n",
       "      <td>283.0</td>\n",
       "      <td>94.0</td>\n",
       "      <td>1.0</td>\n",
       "      <td>510.0</td>\n",
       "      <td>190.0</td>\n",
       "      <td>...</td>\n",
       "      <td>0.0</td>\n",
       "      <td>0.0</td>\n",
       "      <td>0.0</td>\n",
       "      <td>0.0</td>\n",
       "      <td>0.0</td>\n",
       "      <td>0.0</td>\n",
       "      <td>0.0</td>\n",
       "      <td>0.0</td>\n",
       "      <td>0.0</td>\n",
       "      <td>0.0</td>\n",
       "    </tr>\n",
       "    <tr>\n",
       "      <td>2020-04-16</td>\n",
       "      <td>4591.0</td>\n",
       "      <td>525.0</td>\n",
       "      <td>607.0</td>\n",
       "      <td>753.0</td>\n",
       "      <td>865.0</td>\n",
       "      <td>417.0</td>\n",
       "      <td>92.0</td>\n",
       "      <td>0.0</td>\n",
       "      <td>248.0</td>\n",
       "      <td>182.0</td>\n",
       "      <td>...</td>\n",
       "      <td>0.0</td>\n",
       "      <td>0.0</td>\n",
       "      <td>0.0</td>\n",
       "      <td>0.0</td>\n",
       "      <td>0.0</td>\n",
       "      <td>0.0</td>\n",
       "      <td>0.0</td>\n",
       "      <td>0.0</td>\n",
       "      <td>0.0</td>\n",
       "      <td>0.0</td>\n",
       "    </tr>\n",
       "    <tr>\n",
       "      <td>2020-04-17</td>\n",
       "      <td>3857.0</td>\n",
       "      <td>575.0</td>\n",
       "      <td>687.0</td>\n",
       "      <td>762.0</td>\n",
       "      <td>848.0</td>\n",
       "      <td>306.0</td>\n",
       "      <td>89.0</td>\n",
       "      <td>1290.0</td>\n",
       "      <td>300.0</td>\n",
       "      <td>144.0</td>\n",
       "      <td>...</td>\n",
       "      <td>0.0</td>\n",
       "      <td>0.0</td>\n",
       "      <td>0.0</td>\n",
       "      <td>0.0</td>\n",
       "      <td>0.0</td>\n",
       "      <td>0.0</td>\n",
       "      <td>0.0</td>\n",
       "      <td>0.0</td>\n",
       "      <td>0.0</td>\n",
       "      <td>0.0</td>\n",
       "    </tr>\n",
       "    <tr>\n",
       "      <td>2020-04-18</td>\n",
       "      <td>1891.0</td>\n",
       "      <td>482.0</td>\n",
       "      <td>41.0</td>\n",
       "      <td>642.0</td>\n",
       "      <td>891.0</td>\n",
       "      <td>290.0</td>\n",
       "      <td>73.0</td>\n",
       "      <td>0.0</td>\n",
       "      <td>107.0</td>\n",
       "      <td>142.0</td>\n",
       "      <td>...</td>\n",
       "      <td>0.0</td>\n",
       "      <td>0.0</td>\n",
       "      <td>0.0</td>\n",
       "      <td>0.0</td>\n",
       "      <td>0.0</td>\n",
       "      <td>0.0</td>\n",
       "      <td>0.0</td>\n",
       "      <td>0.0</td>\n",
       "      <td>0.0</td>\n",
       "      <td>0.0</td>\n",
       "    </tr>\n",
       "  </tbody>\n",
       "</table>\n",
       "<p>5 rows × 185 columns</p>\n",
       "</div>"
      ],
      "text/plain": [
       "Country/Region      US  Italy  Spain  France  United Kingdom  Belgium  Iran  \\\n",
       "2020-04-14         NaN    NaN    NaN     NaN             NaN      NaN   NaN   \n",
       "2020-04-15      2494.0  578.0  652.0  1440.0           765.0    283.0  94.0   \n",
       "2020-04-16      4591.0  525.0  607.0   753.0           865.0    417.0  92.0   \n",
       "2020-04-17      3857.0  575.0  687.0   762.0           848.0    306.0  89.0   \n",
       "2020-04-18      1891.0  482.0   41.0   642.0           891.0    290.0  73.0   \n",
       "\n",
       "Country/Region   China  Germany  Netherlands  ...  Central African Republic  \\\n",
       "2020-04-14         NaN      NaN          NaN  ...                       NaN   \n",
       "2020-04-15         1.0    510.0        190.0  ...                       0.0   \n",
       "2020-04-16         0.0    248.0        182.0  ...                       0.0   \n",
       "2020-04-17      1290.0    300.0        144.0  ...                       0.0   \n",
       "2020-04-18         0.0    107.0        142.0  ...                       0.0   \n",
       "\n",
       "Country/Region  Saint Lucia  Chad  Saint Vincent and the Grenadines  \\\n",
       "2020-04-14              NaN   NaN                               NaN   \n",
       "2020-04-15              0.0   0.0                               0.0   \n",
       "2020-04-16              0.0   0.0                               0.0   \n",
       "2020-04-17              0.0   0.0                               0.0   \n",
       "2020-04-18              0.0   0.0                               0.0   \n",
       "\n",
       "Country/Region  South Sudan  Sao Tome and Principe  Dominica  \\\n",
       "2020-04-14              NaN                    NaN       NaN   \n",
       "2020-04-15              0.0                    0.0       0.0   \n",
       "2020-04-16              0.0                    0.0       0.0   \n",
       "2020-04-17              0.0                    0.0       0.0   \n",
       "2020-04-18              0.0                    0.0       0.0   \n",
       "\n",
       "Country/Region  Equatorial Guinea  Eritrea  Seychelles  \n",
       "2020-04-14                    NaN      NaN         NaN  \n",
       "2020-04-15                    0.0      0.0         0.0  \n",
       "2020-04-16                    0.0      0.0         0.0  \n",
       "2020-04-17                    0.0      0.0         0.0  \n",
       "2020-04-18                    0.0      0.0         0.0  \n",
       "\n",
       "[5 rows x 185 columns]"
      ]
     },
     "metadata": {},
     "output_type": "display_data"
    }
   ],
   "source": [
    "import pandas as pd\n",
    "import numpy as np\n",
    "import matplotlib.pyplot as plt\n",
    "from io import StringIO\n",
    "import pandas as pd\n",
    "import requests\n",
    "\n",
    "dfc_graw = pd.read_csv('https://raw.githubusercontent.com/CSSEGISandData/COVID-19/master/csse_covid_19_data/csse_covid_19_time_series/time_series_covid19_confirmed_global.csv')\n",
    "dfd_graw = pd.read_csv('https://raw.githubusercontent.com/CSSEGISandData/COVID-19/master/csse_covid_19_data/csse_covid_19_time_series/time_series_covid19_deaths_global.csv')\n",
    "\n",
    "dfc_g = dfc_graw.drop(columns=['Lat','Long','Province/State']).groupby(['Country/Region']).sum().sort_values(dfc_graw.columns[-1], ascending=False)\n",
    "dfc_g = dfc_g.transpose()  \n",
    "dfc_g.index = pd.to_datetime(dfc_g.index)\n",
    "display('cases',dfc_g.tail())\n",
    "display('chg in cases',dfc_g.tail().diff(axis=0))\n",
    "\n",
    "dfd_g = dfd_graw.drop(columns=['Lat','Long','Province/State']).groupby(['Country/Region']).sum().sort_values(dfd_graw.columns[-1], ascending=False)\n",
    "dfd_g = dfd_g.transpose().tail(40)  # last 40 days ?\n",
    "dfd_g.index = pd.to_datetime(dfd_g.index) \n",
    "display('deaths',dfd_g.tail())\n",
    "display('chg in deaths',dfd_g.tail().diff(axis=0))\n",
    "\n",
    "#display('details of', dfd_g['Sudan'].tail(15), dfc_g['Sudan'].tail(15))\n"
   ]
  },
  {
   "cell_type": "markdown",
   "metadata": {},
   "source": [
    "# Global Population Comparisons"
   ]
  },
  {
   "cell_type": "code",
   "execution_count": 2,
   "metadata": {
    "scrolled": false
   },
   "outputs": [
    {
     "data": {
      "text/html": [
       "<div>\n",
       "<style scoped>\n",
       "    .dataframe tbody tr th:only-of-type {\n",
       "        vertical-align: middle;\n",
       "    }\n",
       "\n",
       "    .dataframe tbody tr th {\n",
       "        vertical-align: top;\n",
       "    }\n",
       "\n",
       "    .dataframe thead th {\n",
       "        text-align: right;\n",
       "    }\n",
       "</style>\n",
       "<table border=\"1\" class=\"dataframe\">\n",
       "  <thead>\n",
       "    <tr style=\"text-align: right;\">\n",
       "      <th></th>\n",
       "      <th>Country/Region</th>\n",
       "      <th>Country Code</th>\n",
       "      <th>Year</th>\n",
       "      <th>Value</th>\n",
       "    </tr>\n",
       "  </thead>\n",
       "  <tbody>\n",
       "    <tr>\n",
       "      <td>2711</td>\n",
       "      <td>World</td>\n",
       "      <td>WLD</td>\n",
       "      <td>2016</td>\n",
       "      <td>7426103221</td>\n",
       "    </tr>\n",
       "    <tr>\n",
       "      <td>1000</td>\n",
       "      <td>IDA &amp; IBRD total</td>\n",
       "      <td>IBT</td>\n",
       "      <td>2016</td>\n",
       "      <td>6256138021</td>\n",
       "    </tr>\n",
       "    <tr>\n",
       "      <td>1531</td>\n",
       "      <td>Low &amp; middle income</td>\n",
       "      <td>LMY</td>\n",
       "      <td>2016</td>\n",
       "      <td>6227752871</td>\n",
       "    </tr>\n",
       "    <tr>\n",
       "      <td>1885</td>\n",
       "      <td>Middle income</td>\n",
       "      <td>MIC</td>\n",
       "      <td>2016</td>\n",
       "      <td>5557635482</td>\n",
       "    </tr>\n",
       "    <tr>\n",
       "      <td>941</td>\n",
       "      <td>IBRD only</td>\n",
       "      <td>IBD</td>\n",
       "      <td>2016</td>\n",
       "      <td>4687686335</td>\n",
       "    </tr>\n",
       "  </tbody>\n",
       "</table>\n",
       "</div>"
      ],
      "text/plain": [
       "           Country/Region Country Code  Year       Value\n",
       "2711                World          WLD  2016  7426103221\n",
       "1000     IDA & IBRD total          IBT  2016  6256138021\n",
       "1531  Low & middle income          LMY  2016  6227752871\n",
       "1885        Middle income          MIC  2016  5557635482\n",
       "941             IBRD only          IBD  2016  4687686335"
      ]
     },
     "metadata": {},
     "output_type": "display_data"
    },
    {
     "data": {
      "text/plain": [
       "2020-04-18    185\n",
       "dtype: int64"
      ]
     },
     "metadata": {},
     "output_type": "display_data"
    },
    {
     "data": {
      "text/html": [
       "<div>\n",
       "<style scoped>\n",
       "    .dataframe tbody tr th:only-of-type {\n",
       "        vertical-align: middle;\n",
       "    }\n",
       "\n",
       "    .dataframe tbody tr th {\n",
       "        vertical-align: top;\n",
       "    }\n",
       "\n",
       "    .dataframe thead th {\n",
       "        text-align: right;\n",
       "    }\n",
       "</style>\n",
       "<table border=\"1\" class=\"dataframe\">\n",
       "  <thead>\n",
       "    <tr style=\"text-align: right;\">\n",
       "      <th></th>\n",
       "      <th>Country/Region</th>\n",
       "      <th>Cases</th>\n",
       "      <th>Country Code</th>\n",
       "      <th>Year</th>\n",
       "      <th>Population</th>\n",
       "    </tr>\n",
       "  </thead>\n",
       "  <tbody>\n",
       "    <tr>\n",
       "      <td>6</td>\n",
       "      <td>China</td>\n",
       "      <td>83787</td>\n",
       "      <td>CHN</td>\n",
       "      <td>2016</td>\n",
       "      <td>1378665000</td>\n",
       "    </tr>\n",
       "    <tr>\n",
       "      <td>14</td>\n",
       "      <td>India</td>\n",
       "      <td>15722</td>\n",
       "      <td>IND</td>\n",
       "      <td>2016</td>\n",
       "      <td>1324509589</td>\n",
       "    </tr>\n",
       "    <tr>\n",
       "      <td>0</td>\n",
       "      <td>United States</td>\n",
       "      <td>732197</td>\n",
       "      <td>USA</td>\n",
       "      <td>2016</td>\n",
       "      <td>322941311</td>\n",
       "    </tr>\n",
       "    <tr>\n",
       "      <td>32</td>\n",
       "      <td>Indonesia</td>\n",
       "      <td>6248</td>\n",
       "      <td>IDN</td>\n",
       "      <td>2016</td>\n",
       "      <td>261554226</td>\n",
       "    </tr>\n",
       "    <tr>\n",
       "      <td>9</td>\n",
       "      <td>Brazil</td>\n",
       "      <td>36658</td>\n",
       "      <td>BRA</td>\n",
       "      <td>2016</td>\n",
       "      <td>206163058</td>\n",
       "    </tr>\n",
       "  </tbody>\n",
       "</table>\n",
       "</div>"
      ],
      "text/plain": [
       "   Country/Region   Cases Country Code  Year  Population\n",
       "6           China   83787          CHN  2016  1378665000\n",
       "14          India   15722          IND  2016  1324509589\n",
       "0   United States  732197          USA  2016   322941311\n",
       "32      Indonesia    6248          IDN  2016   261554226\n",
       "9          Brazil   36658          BRA  2016   206163058"
      ]
     },
     "metadata": {},
     "output_type": "display_data"
    },
    {
     "data": {
      "text/html": [
       "<div>\n",
       "<style scoped>\n",
       "    .dataframe tbody tr th:only-of-type {\n",
       "        vertical-align: middle;\n",
       "    }\n",
       "\n",
       "    .dataframe tbody tr th {\n",
       "        vertical-align: top;\n",
       "    }\n",
       "\n",
       "    .dataframe thead th {\n",
       "        text-align: right;\n",
       "    }\n",
       "</style>\n",
       "<table border=\"1\" class=\"dataframe\">\n",
       "  <thead>\n",
       "    <tr style=\"text-align: right;\">\n",
       "      <th></th>\n",
       "      <th>Country/Region</th>\n",
       "      <th>Deaths</th>\n",
       "      <th>Cases</th>\n",
       "      <th>Country Code</th>\n",
       "      <th>Year</th>\n",
       "      <th>Population</th>\n",
       "    </tr>\n",
       "  </thead>\n",
       "  <tbody>\n",
       "    <tr>\n",
       "      <td>6</td>\n",
       "      <td>China</td>\n",
       "      <td>4636</td>\n",
       "      <td>83787</td>\n",
       "      <td>CHN</td>\n",
       "      <td>2016</td>\n",
       "      <td>1378665000</td>\n",
       "    </tr>\n",
       "    <tr>\n",
       "      <td>18</td>\n",
       "      <td>India</td>\n",
       "      <td>521</td>\n",
       "      <td>15722</td>\n",
       "      <td>IND</td>\n",
       "      <td>2016</td>\n",
       "      <td>1324509589</td>\n",
       "    </tr>\n",
       "    <tr>\n",
       "      <td>0</td>\n",
       "      <td>United States</td>\n",
       "      <td>38664</td>\n",
       "      <td>732197</td>\n",
       "      <td>USA</td>\n",
       "      <td>2016</td>\n",
       "      <td>322941311</td>\n",
       "    </tr>\n",
       "    <tr>\n",
       "      <td>17</td>\n",
       "      <td>Indonesia</td>\n",
       "      <td>535</td>\n",
       "      <td>6248</td>\n",
       "      <td>IDN</td>\n",
       "      <td>2016</td>\n",
       "      <td>261554226</td>\n",
       "    </tr>\n",
       "    <tr>\n",
       "      <td>9</td>\n",
       "      <td>Brazil</td>\n",
       "      <td>2354</td>\n",
       "      <td>36658</td>\n",
       "      <td>BRA</td>\n",
       "      <td>2016</td>\n",
       "      <td>206163058</td>\n",
       "    </tr>\n",
       "  </tbody>\n",
       "</table>\n",
       "</div>"
      ],
      "text/plain": [
       "   Country/Region  Deaths   Cases Country Code  Year  Population\n",
       "6           China    4636   83787          CHN  2016  1378665000\n",
       "18          India     521   15722          IND  2016  1324509589\n",
       "0   United States   38664  732197          USA  2016   322941311\n",
       "17      Indonesia     535    6248          IDN  2016   261554226\n",
       "9          Brazil    2354   36658          BRA  2016   206163058"
      ]
     },
     "metadata": {},
     "output_type": "display_data"
    },
    {
     "data": {
      "text/plain": [
       "158    6\n",
       "dtype: int64"
      ]
     },
     "metadata": {},
     "output_type": "display_data"
    }
   ],
   "source": [
    "# GLobal Population \n",
    "# https://github.com/datasets/population/blob/master/data/population.csv\n",
    "\n",
    "df_gpop = pd.read_csv('https://raw.githubusercontent.com/datasets/population/master/data/population.csv')\n",
    "df_gpop_2016 = df_gpop[df_gpop['Year'] == 2016]\n",
    "df_gpop_2016 = df_gpop_2016.rename(columns={'Country Name': 'Country/Region'})\n",
    "\n",
    "display(df_gpop_2016.sort_values(by=['Value'], ascending=False).head(), dfc_g.tail(1).transpose().count())  #262 countries / n countries\n",
    "df_gmerged = pd.merge(left=dfc_g.rename(columns={'US':'United States'}).tail(1).transpose(), right=df_gpop_2016, on='Country/Region').rename(columns={'Value':'Population'})\n",
    "df_gmerged = df_gmerged.rename(columns={ df_gmerged.columns[1]: \"Cases\" })\n",
    "\n",
    "display(df_gmerged.rename(columns={'US':'United States'}).sort_values(by=['Population'], ascending=False).head())\n",
    "\n",
    "df_gmerged = pd.merge(left=dfd_g.rename(columns={'US':'United States'}).tail(1).transpose(), right=df_gmerged, on='Country/Region')\n",
    "df_gmerged = df_gmerged.rename(columns={ df_gmerged.columns[1]: \"Deaths\" })\n",
    "       \n",
    "display(df_gmerged.sort_values(by=['Population'], ascending=False).head(), df_gmerged.tail(1).transpose().count())\n",
    "\n"
   ]
  },
  {
   "cell_type": "markdown",
   "metadata": {},
   "source": [
    "## Add Population Density from worldbank"
   ]
  },
  {
   "cell_type": "code",
   "execution_count": 3,
   "metadata": {
    "scrolled": false
   },
   "outputs": [],
   "source": [
    "# population density source\n",
    "# http://api.worldbank.org/v2/en/indicator/EN.POP.DNST?downloadformat=csv   \n",
    "from zipfile import ZipFile\n",
    "import requests, zipfile, io\n",
    "import urllib.request\n",
    "\n",
    "def get_zip(url):\n",
    "    urllib.request.urlretrieve(url, \"GDP.zip\")\n",
    "    compressed_file = zipfile.ZipFile('GDP.zip')\n",
    "    files = compressed_file.namelist()\n",
    "    for f in files:\n",
    "        if (f.find('API') == 0):\n",
    "            csv_file = compressed_file.open(f)  # pattern match how?\n",
    "            return pd.read_csv(csv_file, header=2)\n",
    "    return None\n",
    "\n",
    "def isfloat(value):\n",
    "  try:\n",
    "    float(value)\n",
    "    return True\n",
    "  except ValueError:\n",
    "    return False\n",
    "\n",
    "def add_metric(indicator, colname, dfm, year='2019', debug=True):\n",
    "    dfnew = get_zip('http://api.worldbank.org/v2/en/indicator/'+indicator+'?downloadformat=csv')\n",
    "    dfnew = dfnew.fillna(method='ffill', axis=1)[['Country Code', year]].rename(columns={year:colname})\n",
    "\n",
    "    dfm = pd.merge(left=dfm , right=dfnew, on ='Country Code') \n",
    "    display(dfm[dfm['Country/Region'].isin(['Dominica','Japan'])].head()) if debug else None\n",
    "\n",
    "    dfm[colname] = dfm[colname].astype(str).apply(lambda x: float(x) if isfloat(x) else 0.0).round(2)\n",
    "    return dfm\n"
   ]
  },
  {
   "cell_type": "markdown",
   "metadata": {},
   "source": [
    "## Add demographics from worldbank"
   ]
  },
  {
   "cell_type": "code",
   "execution_count": 4,
   "metadata": {
    "scrolled": false
   },
   "outputs": [
    {
     "data": {
      "text/plain": [
       "(159, 20)"
      ]
     },
     "metadata": {},
     "output_type": "display_data"
    },
    {
     "data": {
      "text/html": [
       "<div>\n",
       "<style scoped>\n",
       "    .dataframe tbody tr th:only-of-type {\n",
       "        vertical-align: middle;\n",
       "    }\n",
       "\n",
       "    .dataframe tbody tr th {\n",
       "        vertical-align: top;\n",
       "    }\n",
       "\n",
       "    .dataframe thead th {\n",
       "        text-align: right;\n",
       "    }\n",
       "</style>\n",
       "<table border=\"1\" class=\"dataframe\">\n",
       "  <thead>\n",
       "    <tr style=\"text-align: right;\">\n",
       "      <th></th>\n",
       "      <th>9</th>\n",
       "      <th>18</th>\n",
       "      <th>27</th>\n",
       "    </tr>\n",
       "  </thead>\n",
       "  <tbody>\n",
       "    <tr>\n",
       "      <td>Country/Region</td>\n",
       "      <td>Brazil</td>\n",
       "      <td>India</td>\n",
       "      <td>Japan</td>\n",
       "    </tr>\n",
       "    <tr>\n",
       "      <td>Cases</td>\n",
       "      <td>36658</td>\n",
       "      <td>15722</td>\n",
       "      <td>10296</td>\n",
       "    </tr>\n",
       "    <tr>\n",
       "      <td>flights</td>\n",
       "      <td>832683</td>\n",
       "      <td>1.20011e+06</td>\n",
       "      <td>999594</td>\n",
       "    </tr>\n",
       "    <tr>\n",
       "      <td>railways</td>\n",
       "      <td>32622</td>\n",
       "      <td>68443</td>\n",
       "      <td>16851.7</td>\n",
       "    </tr>\n",
       "    <tr>\n",
       "      <td>hospbeds</td>\n",
       "      <td>2.2</td>\n",
       "      <td>0.7</td>\n",
       "      <td>13.4</td>\n",
       "    </tr>\n",
       "    <tr>\n",
       "      <td>popdensity%</td>\n",
       "      <td>25.06</td>\n",
       "      <td>454.94</td>\n",
       "      <td>347.07</td>\n",
       "    </tr>\n",
       "    <tr>\n",
       "      <td>pop% &gt;= 65</td>\n",
       "      <td>8.92</td>\n",
       "      <td>6.18</td>\n",
       "      <td>27.58</td>\n",
       "    </tr>\n",
       "    <tr>\n",
       "      <td>pollution</td>\n",
       "      <td>12.71</td>\n",
       "      <td>90.87</td>\n",
       "      <td>11.7</td>\n",
       "    </tr>\n",
       "    <tr>\n",
       "      <td>GDP/cap</td>\n",
       "      <td>16096.4</td>\n",
       "      <td>7762.88</td>\n",
       "      <td>42797.5</td>\n",
       "    </tr>\n",
       "    <tr>\n",
       "      <td>COD disease</td>\n",
       "      <td>13.9</td>\n",
       "      <td>26</td>\n",
       "      <td>12.7</td>\n",
       "    </tr>\n",
       "    <tr>\n",
       "      <td>urbanpop%</td>\n",
       "      <td>86.57</td>\n",
       "      <td>34.03</td>\n",
       "      <td>91.62</td>\n",
       "    </tr>\n",
       "    <tr>\n",
       "      <td>unemp%</td>\n",
       "      <td>12.08</td>\n",
       "      <td>5.36</td>\n",
       "      <td>2.29</td>\n",
       "    </tr>\n",
       "  </tbody>\n",
       "</table>\n",
       "</div>"
      ],
      "text/plain": [
       "                     9            18       27\n",
       "Country/Region   Brazil        India    Japan\n",
       "Cases             36658        15722    10296\n",
       "flights          832683  1.20011e+06   999594\n",
       "railways          32622        68443  16851.7\n",
       "hospbeds            2.2          0.7     13.4\n",
       "popdensity%       25.06       454.94   347.07\n",
       "pop% >= 65         8.92         6.18    27.58\n",
       "pollution         12.71        90.87     11.7\n",
       "GDP/cap         16096.4      7762.88  42797.5\n",
       "COD disease        13.9           26     12.7\n",
       "urbanpop%         86.57        34.03    91.62\n",
       "unemp%            12.08         5.36     2.29"
      ]
     },
     "metadata": {},
     "output_type": "display_data"
    }
   ],
   "source": [
    "#  -- all available https://data.worldbank.org/indicator\n",
    "#  API docs https://datahelpdesk.worldbank.org/knowledgebase/articles/898581-api-basic-call-structures\n",
    "#\n",
    "#   Examples:\n",
    "# unemployment data http://api.worldbank.org/v2/en/indicator/SL.UEM.TOTL.ZS?downloadformat=csv\n",
    "# hospital beds http://api.worldbank.org/v2/en/indicator/SH.MED.BEDS.ZS?downloadformat=csv\n",
    "# air flights http://api.worldbank.org/v2/en/indicator/IS.AIR.DPRT?downloadformat=csv\n",
    "# rail lines http://api.worldbank.org/v2/en/indicator/IS.RRS.TOTL.KM?downloadformat=csv\n",
    "# employment F http://api.worldbank.org/v2/en/indicator/SL.TLF.CACT.FE.ZS?downloadformat=csv\n",
    "# employment M http://api.worldbank.org/v2/en/indicator/SL.TLF.CACT.MA.ZS?downloadformat=csv\n",
    "# unemployment http://api.worldbank.org/v2/en/indicator/SL.UEM.TOTL.ZS?downloadformat=csv\n",
    "# urban pop% http://api.worldbank.org/v2/en/indicator/SP.URB.TOTL.IN.ZS?downloadformat=csv\n",
    "# pollution EN.ATM.PM25.MC.M3\n",
    "# slum% indicator/ EN.POP.SLUM.UR.ZS\n",
    "\n",
    "df_gmerged3 = df_gmerged.copy()  # df_gmerged2 no longer needed\n",
    "\n",
    "df_gmerged3 = add_metric('IS.AIR.DPRT', 'flights', df_gmerged3, year='2019', debug=False)\n",
    "df_gmerged3 = add_metric('EN.ATM.PM25.MC.M3', 'pollution', df_gmerged3, year='2019', debug=False)\n",
    "df_gmerged3 = add_metric('SL.UEM.TOTL.ZS', 'unemp%', df_gmerged3, year='2019', debug=False)\n",
    "df_gmerged3 = add_metric('SH.MED.BEDS.ZS', 'hospbeds', df_gmerged3, year='2019', debug=False)\n",
    "df_gmerged3 = add_metric('IS.RRS.TOTL.KM', 'railways', df_gmerged3, year='2019', debug=False)\n",
    "df_gmerged3 = add_metric('SP.URB.TOTL.IN.ZS', 'urbanpop%', df_gmerged3, year='2019', debug=False)\n",
    "df_gmerged3 = add_metric('EN.POP.SLUM.UR.ZS', 'slum%', df_gmerged3, year='2019', debug=False)\n",
    "df_gmerged3 = add_metric('EN.POP.DNST', 'popdensity%', df_gmerged3, year='2019', debug=False)\n",
    "df_gmerged3 = add_metric('NY.GDP.PCAP.PP.CD', 'GDP/cap', df_gmerged3, year='2019', debug=False)\n",
    "df_gmerged3 = add_metric('SE.ADT.LITR.ZS', 'literacy', df_gmerged3, year='2019', debug=False)\n",
    "df_gmerged3 = add_metric('FR.INR.DPST', 'deposit rate', df_gmerged3, year='2019', debug=False)\n",
    "df_gmerged3 = add_metric('SH.DTH.COMM.ZS', 'COD disease', df_gmerged3, year='2019', debug=False)\n",
    "df_gmerged3 = add_metric('SH.IMM.IDPT', 'DTP immunized', df_gmerged3, year='2019', debug=False)\n",
    "df_gmerged3 = add_metric('SP.POP.65UP.TO.ZS', 'pop% >= 65', df_gmerged3, year='2019', debug=False)\n",
    "df_gmerged3 = add_metric('TG.VAL.TOTL.GD.ZS', 'trade%', df_gmerged3, year='2019', debug=False)\n",
    "\n",
    "\n",
    "df_gmerged3 = df_gmerged3.sort_values(by='Cases', ascending=False).drop(columns=['Year'])\n",
    "\n",
    "df_x = pd.concat([df_gmerged3.head(0), df_gmerged3[df_gmerged3['Country/Region'].isin(['Japan','Brazil','India'])]], axis=0)\n",
    "\n",
    "display(df_gmerged3.shape, df_x[['Country/Region','Cases','flights','railways','hospbeds','popdensity%','pop% >= 65','pollution','GDP/cap','COD disease','urbanpop%','unemp%']].transpose())\n"
   ]
  },
  {
   "cell_type": "code",
   "execution_count": 5,
   "metadata": {},
   "outputs": [
    {
     "data": {
      "text/plain": [
       "(159, 20)"
      ]
     },
     "metadata": {},
     "output_type": "display_data"
    },
    {
     "data": {
      "text/html": [
       "<div>\n",
       "<style scoped>\n",
       "    .dataframe tbody tr th:only-of-type {\n",
       "        vertical-align: middle;\n",
       "    }\n",
       "\n",
       "    .dataframe tbody tr th {\n",
       "        vertical-align: top;\n",
       "    }\n",
       "\n",
       "    .dataframe thead th {\n",
       "        text-align: right;\n",
       "    }\n",
       "</style>\n",
       "<table border=\"1\" class=\"dataframe\">\n",
       "  <thead>\n",
       "    <tr style=\"text-align: right;\">\n",
       "      <th></th>\n",
       "      <th>9</th>\n",
       "      <th>18</th>\n",
       "      <th>27</th>\n",
       "    </tr>\n",
       "  </thead>\n",
       "  <tbody>\n",
       "    <tr>\n",
       "      <td>Country/Region</td>\n",
       "      <td>Brazil</td>\n",
       "      <td>India</td>\n",
       "      <td>Japan</td>\n",
       "    </tr>\n",
       "    <tr>\n",
       "      <td>Cases</td>\n",
       "      <td>36658</td>\n",
       "      <td>15722</td>\n",
       "      <td>10296</td>\n",
       "    </tr>\n",
       "    <tr>\n",
       "      <td>flights</td>\n",
       "      <td>832683</td>\n",
       "      <td>1.20011e+06</td>\n",
       "      <td>999594</td>\n",
       "    </tr>\n",
       "    <tr>\n",
       "      <td>railways</td>\n",
       "      <td>32622</td>\n",
       "      <td>68443</td>\n",
       "      <td>16851.7</td>\n",
       "    </tr>\n",
       "    <tr>\n",
       "      <td>hospbeds</td>\n",
       "      <td>2.2</td>\n",
       "      <td>0.7</td>\n",
       "      <td>13.4</td>\n",
       "    </tr>\n",
       "    <tr>\n",
       "      <td>popdensity%</td>\n",
       "      <td>25.06</td>\n",
       "      <td>454.94</td>\n",
       "      <td>347.07</td>\n",
       "    </tr>\n",
       "    <tr>\n",
       "      <td>pop% &gt;= 65</td>\n",
       "      <td>8.92</td>\n",
       "      <td>6.18</td>\n",
       "      <td>27.58</td>\n",
       "    </tr>\n",
       "    <tr>\n",
       "      <td>pollution</td>\n",
       "      <td>12.71</td>\n",
       "      <td>90.87</td>\n",
       "      <td>11.7</td>\n",
       "    </tr>\n",
       "    <tr>\n",
       "      <td>GDP/cap</td>\n",
       "      <td>16096.4</td>\n",
       "      <td>7762.88</td>\n",
       "      <td>42797.5</td>\n",
       "    </tr>\n",
       "    <tr>\n",
       "      <td>COD disease</td>\n",
       "      <td>13.9</td>\n",
       "      <td>26</td>\n",
       "      <td>12.7</td>\n",
       "    </tr>\n",
       "    <tr>\n",
       "      <td>urbanpop%</td>\n",
       "      <td>86.57</td>\n",
       "      <td>34.03</td>\n",
       "      <td>91.62</td>\n",
       "    </tr>\n",
       "    <tr>\n",
       "      <td>unemp%</td>\n",
       "      <td>12.08</td>\n",
       "      <td>5.36</td>\n",
       "      <td>2.29</td>\n",
       "    </tr>\n",
       "  </tbody>\n",
       "</table>\n",
       "</div>"
      ],
      "text/plain": [
       "                     9            18       27\n",
       "Country/Region   Brazil        India    Japan\n",
       "Cases             36658        15722    10296\n",
       "flights          832683  1.20011e+06   999594\n",
       "railways          32622        68443  16851.7\n",
       "hospbeds            2.2          0.7     13.4\n",
       "popdensity%       25.06       454.94   347.07\n",
       "pop% >= 65         8.92         6.18    27.58\n",
       "pollution         12.71        90.87     11.7\n",
       "GDP/cap         16096.4      7762.88  42797.5\n",
       "COD disease        13.9           26     12.7\n",
       "urbanpop%         86.57        34.03    91.62\n",
       "unemp%            12.08         5.36     2.29"
      ]
     },
     "metadata": {},
     "output_type": "display_data"
    }
   ],
   "source": [
    "display(df_gmerged3.shape, df_x[['Country/Region','Cases','flights','railways','hospbeds','popdensity%','pop% >= 65','pollution','GDP/cap','COD disease','urbanpop%','unemp%']].transpose())\n"
   ]
  },
  {
   "cell_type": "code",
   "execution_count": 6,
   "metadata": {},
   "outputs": [
    {
     "data": {
      "text/html": [
       "<div>\n",
       "<style scoped>\n",
       "    .dataframe tbody tr th:only-of-type {\n",
       "        vertical-align: middle;\n",
       "    }\n",
       "\n",
       "    .dataframe tbody tr th {\n",
       "        vertical-align: top;\n",
       "    }\n",
       "\n",
       "    .dataframe thead th {\n",
       "        text-align: right;\n",
       "    }\n",
       "</style>\n",
       "<table border=\"1\" class=\"dataframe\">\n",
       "  <thead>\n",
       "    <tr style=\"text-align: right;\">\n",
       "      <th></th>\n",
       "      <th>0</th>\n",
       "      <th>2</th>\n",
       "      <th>3</th>\n",
       "      <th>18</th>\n",
       "      <th>11</th>\n",
       "      <th>27</th>\n",
       "      <th>25</th>\n",
       "      <th>55</th>\n",
       "      <th>50</th>\n",
       "    </tr>\n",
       "  </thead>\n",
       "  <tbody>\n",
       "    <tr>\n",
       "      <td>Country/Region</td>\n",
       "      <td>United States</td>\n",
       "      <td>Spain</td>\n",
       "      <td>France</td>\n",
       "      <td>India</td>\n",
       "      <td>Sweden</td>\n",
       "      <td>Japan</td>\n",
       "      <td>Poland</td>\n",
       "      <td>Belarus</td>\n",
       "      <td>South Africa</td>\n",
       "    </tr>\n",
       "    <tr>\n",
       "      <td>Deaths</td>\n",
       "      <td>38664</td>\n",
       "      <td>20043</td>\n",
       "      <td>19345</td>\n",
       "      <td>521</td>\n",
       "      <td>1511</td>\n",
       "      <td>222</td>\n",
       "      <td>347</td>\n",
       "      <td>45</td>\n",
       "      <td>52</td>\n",
       "    </tr>\n",
       "    <tr>\n",
       "      <td>Cases</td>\n",
       "      <td>732197</td>\n",
       "      <td>191726</td>\n",
       "      <td>149149</td>\n",
       "      <td>15722</td>\n",
       "      <td>13822</td>\n",
       "      <td>10296</td>\n",
       "      <td>8742</td>\n",
       "      <td>4779</td>\n",
       "      <td>3034</td>\n",
       "    </tr>\n",
       "    <tr>\n",
       "      <td>Country Code</td>\n",
       "      <td>USA</td>\n",
       "      <td>ESP</td>\n",
       "      <td>FRA</td>\n",
       "      <td>IND</td>\n",
       "      <td>SWE</td>\n",
       "      <td>JPN</td>\n",
       "      <td>POL</td>\n",
       "      <td>BLR</td>\n",
       "      <td>ZAF</td>\n",
       "    </tr>\n",
       "    <tr>\n",
       "      <td>Population</td>\n",
       "      <td>322941311</td>\n",
       "      <td>46484062</td>\n",
       "      <td>66721256</td>\n",
       "      <td>1324509589</td>\n",
       "      <td>9923085</td>\n",
       "      <td>126994511</td>\n",
       "      <td>37970087</td>\n",
       "      <td>9501534</td>\n",
       "      <td>56203654</td>\n",
       "    </tr>\n",
       "    <tr>\n",
       "      <td>flights</td>\n",
       "      <td>9.87963e+06</td>\n",
       "      <td>641020</td>\n",
       "      <td>597412</td>\n",
       "      <td>1.20011e+06</td>\n",
       "      <td>190315</td>\n",
       "      <td>999594</td>\n",
       "      <td>123903</td>\n",
       "      <td>31676</td>\n",
       "      <td>180317</td>\n",
       "    </tr>\n",
       "    <tr>\n",
       "      <td>pollution</td>\n",
       "      <td>7.41</td>\n",
       "      <td>9.7</td>\n",
       "      <td>11.81</td>\n",
       "      <td>90.87</td>\n",
       "      <td>6.18</td>\n",
       "      <td>11.7</td>\n",
       "      <td>20.88</td>\n",
       "      <td>18.77</td>\n",
       "      <td>25.1</td>\n",
       "    </tr>\n",
       "    <tr>\n",
       "      <td>unemp%</td>\n",
       "      <td>3.68</td>\n",
       "      <td>13.96</td>\n",
       "      <td>8.43</td>\n",
       "      <td>5.36</td>\n",
       "      <td>6.48</td>\n",
       "      <td>2.29</td>\n",
       "      <td>3.47</td>\n",
       "      <td>4.59</td>\n",
       "      <td>28.18</td>\n",
       "    </tr>\n",
       "    <tr>\n",
       "      <td>hospbeds</td>\n",
       "      <td>2.9</td>\n",
       "      <td>3</td>\n",
       "      <td>6.5</td>\n",
       "      <td>0.7</td>\n",
       "      <td>2.6</td>\n",
       "      <td>13.4</td>\n",
       "      <td>6.5</td>\n",
       "      <td>11</td>\n",
       "      <td>2.8</td>\n",
       "    </tr>\n",
       "    <tr>\n",
       "      <td>railways</td>\n",
       "      <td>150462</td>\n",
       "      <td>15618</td>\n",
       "      <td>28241</td>\n",
       "      <td>68443</td>\n",
       "      <td>9708</td>\n",
       "      <td>16851.7</td>\n",
       "      <td>18536</td>\n",
       "      <td>5459</td>\n",
       "      <td>20953</td>\n",
       "    </tr>\n",
       "    <tr>\n",
       "      <td>urbanpop%</td>\n",
       "      <td>82.26</td>\n",
       "      <td>80.32</td>\n",
       "      <td>80.44</td>\n",
       "      <td>34.03</td>\n",
       "      <td>87.43</td>\n",
       "      <td>91.62</td>\n",
       "      <td>60.06</td>\n",
       "      <td>78.6</td>\n",
       "      <td>66.36</td>\n",
       "    </tr>\n",
       "    <tr>\n",
       "      <td>slum%</td>\n",
       "      <td>0</td>\n",
       "      <td>0</td>\n",
       "      <td>0</td>\n",
       "      <td>24</td>\n",
       "      <td>0</td>\n",
       "      <td>0</td>\n",
       "      <td>0</td>\n",
       "      <td>0</td>\n",
       "      <td>23</td>\n",
       "    </tr>\n",
       "    <tr>\n",
       "      <td>popdensity%</td>\n",
       "      <td>35.77</td>\n",
       "      <td>93.53</td>\n",
       "      <td>122.34</td>\n",
       "      <td>454.94</td>\n",
       "      <td>25</td>\n",
       "      <td>347.07</td>\n",
       "      <td>124.04</td>\n",
       "      <td>46.73</td>\n",
       "      <td>47.63</td>\n",
       "    </tr>\n",
       "    <tr>\n",
       "      <td>GDP/cap</td>\n",
       "      <td>62794.6</td>\n",
       "      <td>39715.4</td>\n",
       "      <td>45342.4</td>\n",
       "      <td>7762.88</td>\n",
       "      <td>53208.9</td>\n",
       "      <td>42797.5</td>\n",
       "      <td>31336.6</td>\n",
       "      <td>19994.8</td>\n",
       "      <td>13686.9</td>\n",
       "    </tr>\n",
       "    <tr>\n",
       "      <td>literacy</td>\n",
       "      <td>0</td>\n",
       "      <td>98.44</td>\n",
       "      <td>0</td>\n",
       "      <td>74.37</td>\n",
       "      <td>0</td>\n",
       "      <td>0</td>\n",
       "      <td>98.74</td>\n",
       "      <td>99.76</td>\n",
       "      <td>87.05</td>\n",
       "    </tr>\n",
       "    <tr>\n",
       "      <td>deposit rate</td>\n",
       "      <td>0</td>\n",
       "      <td>0</td>\n",
       "      <td>0.79</td>\n",
       "      <td>0</td>\n",
       "      <td>1.09</td>\n",
       "      <td>0.32</td>\n",
       "      <td>0</td>\n",
       "      <td>5.92</td>\n",
       "      <td>7</td>\n",
       "    </tr>\n",
       "    <tr>\n",
       "      <td>COD disease</td>\n",
       "      <td>5.2</td>\n",
       "      <td>5.1</td>\n",
       "      <td>6</td>\n",
       "      <td>26</td>\n",
       "      <td>5.2</td>\n",
       "      <td>12.7</td>\n",
       "      <td>5</td>\n",
       "      <td>2.5</td>\n",
       "      <td>39.6</td>\n",
       "    </tr>\n",
       "    <tr>\n",
       "      <td>DTP immunized</td>\n",
       "      <td>94</td>\n",
       "      <td>93</td>\n",
       "      <td>96</td>\n",
       "      <td>89</td>\n",
       "      <td>97</td>\n",
       "      <td>99</td>\n",
       "      <td>95</td>\n",
       "      <td>97</td>\n",
       "      <td>74</td>\n",
       "    </tr>\n",
       "    <tr>\n",
       "      <td>pop% &gt;= 65</td>\n",
       "      <td>15.81</td>\n",
       "      <td>19.38</td>\n",
       "      <td>20.03</td>\n",
       "      <td>6.18</td>\n",
       "      <td>20.1</td>\n",
       "      <td>27.58</td>\n",
       "      <td>17.52</td>\n",
       "      <td>14.85</td>\n",
       "      <td>5.32</td>\n",
       "    </tr>\n",
       "    <tr>\n",
       "      <td>trade%</td>\n",
       "      <td>20.83</td>\n",
       "      <td>51.67</td>\n",
       "      <td>45.16</td>\n",
       "      <td>30.76</td>\n",
       "      <td>60.44</td>\n",
       "      <td>29.91</td>\n",
       "      <td>90</td>\n",
       "      <td>120.86</td>\n",
       "      <td>56.46</td>\n",
       "    </tr>\n",
       "  </tbody>\n",
       "</table>\n",
       "</div>"
      ],
      "text/plain": [
       "                           0         2         3            18       11  \\\n",
       "Country/Region  United States     Spain    France        India   Sweden   \n",
       "Deaths                  38664     20043     19345          521     1511   \n",
       "Cases                  732197    191726    149149        15722    13822   \n",
       "Country Code              USA       ESP       FRA          IND      SWE   \n",
       "Population          322941311  46484062  66721256   1324509589  9923085   \n",
       "flights           9.87963e+06    641020    597412  1.20011e+06   190315   \n",
       "pollution                7.41       9.7     11.81        90.87     6.18   \n",
       "unemp%                   3.68     13.96      8.43         5.36     6.48   \n",
       "hospbeds                  2.9         3       6.5          0.7      2.6   \n",
       "railways               150462     15618     28241        68443     9708   \n",
       "urbanpop%               82.26     80.32     80.44        34.03    87.43   \n",
       "slum%                       0         0         0           24        0   \n",
       "popdensity%             35.77     93.53    122.34       454.94       25   \n",
       "GDP/cap               62794.6   39715.4   45342.4      7762.88  53208.9   \n",
       "literacy                    0     98.44         0        74.37        0   \n",
       "deposit rate                0         0      0.79            0     1.09   \n",
       "COD disease               5.2       5.1         6           26      5.2   \n",
       "DTP immunized              94        93        96           89       97   \n",
       "pop% >= 65              15.81     19.38     20.03         6.18     20.1   \n",
       "trade%                  20.83     51.67     45.16        30.76    60.44   \n",
       "\n",
       "                       27        25       55            50  \n",
       "Country/Region      Japan    Poland  Belarus  South Africa  \n",
       "Deaths                222       347       45            52  \n",
       "Cases               10296      8742     4779          3034  \n",
       "Country Code          JPN       POL      BLR           ZAF  \n",
       "Population      126994511  37970087  9501534      56203654  \n",
       "flights            999594    123903    31676        180317  \n",
       "pollution            11.7     20.88    18.77          25.1  \n",
       "unemp%               2.29      3.47     4.59         28.18  \n",
       "hospbeds             13.4       6.5       11           2.8  \n",
       "railways          16851.7     18536     5459         20953  \n",
       "urbanpop%           91.62     60.06     78.6         66.36  \n",
       "slum%                   0         0        0            23  \n",
       "popdensity%        347.07    124.04    46.73         47.63  \n",
       "GDP/cap           42797.5   31336.6  19994.8       13686.9  \n",
       "literacy                0     98.74    99.76         87.05  \n",
       "deposit rate         0.32         0     5.92             7  \n",
       "COD disease          12.7         5      2.5          39.6  \n",
       "DTP immunized          99        95       97            74  \n",
       "pop% >= 65          27.58     17.52    14.85          5.32  \n",
       "trade%              29.91        90   120.86         56.46  "
      ]
     },
     "execution_count": 6,
     "metadata": {},
     "output_type": "execute_result"
    }
   ],
   "source": [
    "# df_gmerged4 ready to go\n",
    "df_gmerged4 = df_gmerged3.copy()\n",
    "df_gmerged4[df_gmerged4['Country/Region'].isin(['Belarus','Poland','Spain','France','Sweden','India','Korea, South','Japan','United States','South Africa'])].transpose()\n"
   ]
  },
  {
   "cell_type": "markdown",
   "metadata": {},
   "source": [
    "# Correlation Matrix"
   ]
  },
  {
   "cell_type": "code",
   "execution_count": 7,
   "metadata": {},
   "outputs": [
    {
     "data": {
      "text/html": [
       "<div>\n",
       "<style scoped>\n",
       "    .dataframe tbody tr th:only-of-type {\n",
       "        vertical-align: middle;\n",
       "    }\n",
       "\n",
       "    .dataframe tbody tr th {\n",
       "        vertical-align: top;\n",
       "    }\n",
       "\n",
       "    .dataframe thead th {\n",
       "        text-align: right;\n",
       "    }\n",
       "</style>\n",
       "<table border=\"1\" class=\"dataframe\">\n",
       "  <thead>\n",
       "    <tr style=\"text-align: right;\">\n",
       "      <th></th>\n",
       "      <th>Deaths</th>\n",
       "      <th>Cases</th>\n",
       "      <th>Population</th>\n",
       "      <th>flights</th>\n",
       "      <th>pollution</th>\n",
       "      <th>unemp%</th>\n",
       "      <th>hospbeds</th>\n",
       "      <th>railways</th>\n",
       "      <th>urbanpop%</th>\n",
       "      <th>slum%</th>\n",
       "      <th>popdensity%</th>\n",
       "      <th>GDP/cap</th>\n",
       "      <th>literacy</th>\n",
       "      <th>deposit rate</th>\n",
       "      <th>COD disease</th>\n",
       "      <th>DTP immunized</th>\n",
       "      <th>pop% &gt;= 65</th>\n",
       "      <th>trade%</th>\n",
       "    </tr>\n",
       "  </thead>\n",
       "  <tbody>\n",
       "    <tr>\n",
       "      <td>Deaths</td>\n",
       "      <td>1.000000</td>\n",
       "      <td>0.916592</td>\n",
       "      <td>0.180786</td>\n",
       "      <td>0.708174</td>\n",
       "      <td>-0.156732</td>\n",
       "      <td>0.020812</td>\n",
       "      <td>0.088312</td>\n",
       "      <td>0.690539</td>\n",
       "      <td>0.180048</td>\n",
       "      <td>-0.179403</td>\n",
       "      <td>-0.025756</td>\n",
       "      <td>0.248483</td>\n",
       "      <td>-0.198862</td>\n",
       "      <td>-0.118936</td>\n",
       "      <td>-0.161356</td>\n",
       "      <td>0.091262</td>\n",
       "      <td>0.310722</td>\n",
       "      <td>-0.076679</td>\n",
       "    </tr>\n",
       "    <tr>\n",
       "      <td>Cases</td>\n",
       "      <td>0.916592</td>\n",
       "      <td>1.000000</td>\n",
       "      <td>0.226039</td>\n",
       "      <td>0.877728</td>\n",
       "      <td>-0.129420</td>\n",
       "      <td>-0.011756</td>\n",
       "      <td>0.081516</td>\n",
       "      <td>0.823772</td>\n",
       "      <td>0.165759</td>\n",
       "      <td>-0.162459</td>\n",
       "      <td>-0.024583</td>\n",
       "      <td>0.247677</td>\n",
       "      <td>-0.203952</td>\n",
       "      <td>-0.089238</td>\n",
       "      <td>-0.151631</td>\n",
       "      <td>0.083817</td>\n",
       "      <td>0.252883</td>\n",
       "      <td>-0.089975</td>\n",
       "    </tr>\n",
       "    <tr>\n",
       "      <td>Population</td>\n",
       "      <td>0.180786</td>\n",
       "      <td>0.226039</td>\n",
       "      <td>1.000000</td>\n",
       "      <td>0.503798</td>\n",
       "      <td>0.267416</td>\n",
       "      <td>-0.049807</td>\n",
       "      <td>-0.036975</td>\n",
       "      <td>0.612453</td>\n",
       "      <td>-0.060774</td>\n",
       "      <td>0.009955</td>\n",
       "      <td>-0.017312</td>\n",
       "      <td>-0.042647</td>\n",
       "      <td>0.024591</td>\n",
       "      <td>-0.026367</td>\n",
       "      <td>-0.018070</td>\n",
       "      <td>0.029798</td>\n",
       "      <td>0.010736</td>\n",
       "      <td>-0.141224</td>\n",
       "    </tr>\n",
       "    <tr>\n",
       "      <td>flights</td>\n",
       "      <td>0.708174</td>\n",
       "      <td>0.877728</td>\n",
       "      <td>0.503798</td>\n",
       "      <td>1.000000</td>\n",
       "      <td>-0.055782</td>\n",
       "      <td>-0.070206</td>\n",
       "      <td>0.057644</td>\n",
       "      <td>0.910928</td>\n",
       "      <td>0.141160</td>\n",
       "      <td>-0.138750</td>\n",
       "      <td>-0.024821</td>\n",
       "      <td>0.222829</td>\n",
       "      <td>-0.182516</td>\n",
       "      <td>-0.089135</td>\n",
       "      <td>-0.146960</td>\n",
       "      <td>0.089789</td>\n",
       "      <td>0.181807</td>\n",
       "      <td>-0.101634</td>\n",
       "    </tr>\n",
       "    <tr>\n",
       "      <td>pollution</td>\n",
       "      <td>-0.156732</td>\n",
       "      <td>-0.129420</td>\n",
       "      <td>0.267416</td>\n",
       "      <td>-0.055782</td>\n",
       "      <td>1.000000</td>\n",
       "      <td>0.034698</td>\n",
       "      <td>-0.385119</td>\n",
       "      <td>-0.033383</td>\n",
       "      <td>-0.230348</td>\n",
       "      <td>0.477390</td>\n",
       "      <td>-0.100991</td>\n",
       "      <td>-0.172031</td>\n",
       "      <td>0.132855</td>\n",
       "      <td>0.111566</td>\n",
       "      <td>0.416183</td>\n",
       "      <td>-0.111487</td>\n",
       "      <td>-0.466812</td>\n",
       "      <td>-0.100274</td>\n",
       "    </tr>\n",
       "    <tr>\n",
       "      <td>unemp%</td>\n",
       "      <td>0.020812</td>\n",
       "      <td>-0.011756</td>\n",
       "      <td>-0.049807</td>\n",
       "      <td>-0.070206</td>\n",
       "      <td>0.034698</td>\n",
       "      <td>1.000000</td>\n",
       "      <td>-0.002011</td>\n",
       "      <td>-0.011623</td>\n",
       "      <td>0.120080</td>\n",
       "      <td>0.026280</td>\n",
       "      <td>-0.125099</td>\n",
       "      <td>-0.148474</td>\n",
       "      <td>0.237484</td>\n",
       "      <td>0.130979</td>\n",
       "      <td>0.009034</td>\n",
       "      <td>-0.098822</td>\n",
       "      <td>0.062347</td>\n",
       "      <td>-0.019466</td>\n",
       "    </tr>\n",
       "    <tr>\n",
       "      <td>hospbeds</td>\n",
       "      <td>0.088312</td>\n",
       "      <td>0.081516</td>\n",
       "      <td>-0.036975</td>\n",
       "      <td>0.057644</td>\n",
       "      <td>-0.385119</td>\n",
       "      <td>-0.002011</td>\n",
       "      <td>1.000000</td>\n",
       "      <td>0.138858</td>\n",
       "      <td>0.388271</td>\n",
       "      <td>-0.565877</td>\n",
       "      <td>0.332303</td>\n",
       "      <td>0.305930</td>\n",
       "      <td>-0.010130</td>\n",
       "      <td>-0.163978</td>\n",
       "      <td>-0.513351</td>\n",
       "      <td>0.295807</td>\n",
       "      <td>0.601188</td>\n",
       "      <td>0.223852</td>\n",
       "    </tr>\n",
       "    <tr>\n",
       "      <td>railways</td>\n",
       "      <td>0.690539</td>\n",
       "      <td>0.823772</td>\n",
       "      <td>0.612453</td>\n",
       "      <td>0.910928</td>\n",
       "      <td>-0.033383</td>\n",
       "      <td>-0.011623</td>\n",
       "      <td>0.138858</td>\n",
       "      <td>1.000000</td>\n",
       "      <td>0.142949</td>\n",
       "      <td>-0.172386</td>\n",
       "      <td>-0.042580</td>\n",
       "      <td>0.182165</td>\n",
       "      <td>-0.167972</td>\n",
       "      <td>-0.069401</td>\n",
       "      <td>-0.162519</td>\n",
       "      <td>0.078569</td>\n",
       "      <td>0.251617</td>\n",
       "      <td>-0.128805</td>\n",
       "    </tr>\n",
       "    <tr>\n",
       "      <td>urbanpop%</td>\n",
       "      <td>0.180048</td>\n",
       "      <td>0.165759</td>\n",
       "      <td>-0.060774</td>\n",
       "      <td>0.141160</td>\n",
       "      <td>-0.230348</td>\n",
       "      <td>0.120080</td>\n",
       "      <td>0.388271</td>\n",
       "      <td>0.142949</td>\n",
       "      <td>1.000000</td>\n",
       "      <td>-0.478795</td>\n",
       "      <td>0.181979</td>\n",
       "      <td>0.606855</td>\n",
       "      <td>-0.022595</td>\n",
       "      <td>-0.110195</td>\n",
       "      <td>-0.532877</td>\n",
       "      <td>0.334991</td>\n",
       "      <td>0.408456</td>\n",
       "      <td>0.181994</td>\n",
       "    </tr>\n",
       "    <tr>\n",
       "      <td>slum%</td>\n",
       "      <td>-0.179403</td>\n",
       "      <td>-0.162459</td>\n",
       "      <td>0.009955</td>\n",
       "      <td>-0.138750</td>\n",
       "      <td>0.477390</td>\n",
       "      <td>0.026280</td>\n",
       "      <td>-0.565877</td>\n",
       "      <td>-0.172386</td>\n",
       "      <td>-0.478795</td>\n",
       "      <td>1.000000</td>\n",
       "      <td>-0.113728</td>\n",
       "      <td>-0.551982</td>\n",
       "      <td>-0.078594</td>\n",
       "      <td>0.289491</td>\n",
       "      <td>0.799900</td>\n",
       "      <td>-0.276597</td>\n",
       "      <td>-0.605509</td>\n",
       "      <td>-0.244386</td>\n",
       "    </tr>\n",
       "    <tr>\n",
       "      <td>popdensity%</td>\n",
       "      <td>-0.025756</td>\n",
       "      <td>-0.024583</td>\n",
       "      <td>-0.017312</td>\n",
       "      <td>-0.024821</td>\n",
       "      <td>-0.100991</td>\n",
       "      <td>-0.125099</td>\n",
       "      <td>0.332303</td>\n",
       "      <td>-0.042580</td>\n",
       "      <td>0.181979</td>\n",
       "      <td>-0.113728</td>\n",
       "      <td>1.000000</td>\n",
       "      <td>0.052606</td>\n",
       "      <td>-0.101932</td>\n",
       "      <td>-0.097350</td>\n",
       "      <td>-0.100512</td>\n",
       "      <td>0.074506</td>\n",
       "      <td>-0.085263</td>\n",
       "      <td>-0.000087</td>\n",
       "    </tr>\n",
       "    <tr>\n",
       "      <td>GDP/cap</td>\n",
       "      <td>0.248483</td>\n",
       "      <td>0.247677</td>\n",
       "      <td>-0.042647</td>\n",
       "      <td>0.222829</td>\n",
       "      <td>-0.172031</td>\n",
       "      <td>-0.148474</td>\n",
       "      <td>0.305930</td>\n",
       "      <td>0.182165</td>\n",
       "      <td>0.606855</td>\n",
       "      <td>-0.551982</td>\n",
       "      <td>0.052606</td>\n",
       "      <td>1.000000</td>\n",
       "      <td>-0.188607</td>\n",
       "      <td>-0.312460</td>\n",
       "      <td>-0.497036</td>\n",
       "      <td>0.319142</td>\n",
       "      <td>0.488619</td>\n",
       "      <td>0.307387</td>\n",
       "    </tr>\n",
       "    <tr>\n",
       "      <td>literacy</td>\n",
       "      <td>-0.198862</td>\n",
       "      <td>-0.203952</td>\n",
       "      <td>0.024591</td>\n",
       "      <td>-0.182516</td>\n",
       "      <td>0.132855</td>\n",
       "      <td>0.237484</td>\n",
       "      <td>-0.010130</td>\n",
       "      <td>-0.167972</td>\n",
       "      <td>-0.022595</td>\n",
       "      <td>-0.078594</td>\n",
       "      <td>-0.101932</td>\n",
       "      <td>-0.188607</td>\n",
       "      <td>1.000000</td>\n",
       "      <td>0.144148</td>\n",
       "      <td>-0.123136</td>\n",
       "      <td>0.204583</td>\n",
       "      <td>-0.077869</td>\n",
       "      <td>0.221559</td>\n",
       "    </tr>\n",
       "    <tr>\n",
       "      <td>deposit rate</td>\n",
       "      <td>-0.118936</td>\n",
       "      <td>-0.089238</td>\n",
       "      <td>-0.026367</td>\n",
       "      <td>-0.089135</td>\n",
       "      <td>0.111566</td>\n",
       "      <td>0.130979</td>\n",
       "      <td>-0.163978</td>\n",
       "      <td>-0.069401</td>\n",
       "      <td>-0.110195</td>\n",
       "      <td>0.289491</td>\n",
       "      <td>-0.097350</td>\n",
       "      <td>-0.312460</td>\n",
       "      <td>0.144148</td>\n",
       "      <td>1.000000</td>\n",
       "      <td>0.300171</td>\n",
       "      <td>-0.116945</td>\n",
       "      <td>-0.262964</td>\n",
       "      <td>-0.138829</td>\n",
       "    </tr>\n",
       "    <tr>\n",
       "      <td>COD disease</td>\n",
       "      <td>-0.161356</td>\n",
       "      <td>-0.151631</td>\n",
       "      <td>-0.018070</td>\n",
       "      <td>-0.146960</td>\n",
       "      <td>0.416183</td>\n",
       "      <td>0.009034</td>\n",
       "      <td>-0.513351</td>\n",
       "      <td>-0.162519</td>\n",
       "      <td>-0.532877</td>\n",
       "      <td>0.799900</td>\n",
       "      <td>-0.100512</td>\n",
       "      <td>-0.497036</td>\n",
       "      <td>-0.123136</td>\n",
       "      <td>0.300171</td>\n",
       "      <td>1.000000</td>\n",
       "      <td>-0.317593</td>\n",
       "      <td>-0.584033</td>\n",
       "      <td>-0.251678</td>\n",
       "    </tr>\n",
       "    <tr>\n",
       "      <td>DTP immunized</td>\n",
       "      <td>0.091262</td>\n",
       "      <td>0.083817</td>\n",
       "      <td>0.029798</td>\n",
       "      <td>0.089789</td>\n",
       "      <td>-0.111487</td>\n",
       "      <td>-0.098822</td>\n",
       "      <td>0.295807</td>\n",
       "      <td>0.078569</td>\n",
       "      <td>0.334991</td>\n",
       "      <td>-0.276597</td>\n",
       "      <td>0.074506</td>\n",
       "      <td>0.319142</td>\n",
       "      <td>0.204583</td>\n",
       "      <td>-0.116945</td>\n",
       "      <td>-0.317593</td>\n",
       "      <td>1.000000</td>\n",
       "      <td>0.330820</td>\n",
       "      <td>0.299557</td>\n",
       "    </tr>\n",
       "    <tr>\n",
       "      <td>pop% &gt;= 65</td>\n",
       "      <td>0.310722</td>\n",
       "      <td>0.252883</td>\n",
       "      <td>0.010736</td>\n",
       "      <td>0.181807</td>\n",
       "      <td>-0.466812</td>\n",
       "      <td>0.062347</td>\n",
       "      <td>0.601188</td>\n",
       "      <td>0.251617</td>\n",
       "      <td>0.408456</td>\n",
       "      <td>-0.605509</td>\n",
       "      <td>-0.085263</td>\n",
       "      <td>0.488619</td>\n",
       "      <td>-0.077869</td>\n",
       "      <td>-0.262964</td>\n",
       "      <td>-0.584033</td>\n",
       "      <td>0.330820</td>\n",
       "      <td>1.000000</td>\n",
       "      <td>0.296153</td>\n",
       "    </tr>\n",
       "    <tr>\n",
       "      <td>trade%</td>\n",
       "      <td>-0.076679</td>\n",
       "      <td>-0.089975</td>\n",
       "      <td>-0.141224</td>\n",
       "      <td>-0.101634</td>\n",
       "      <td>-0.100274</td>\n",
       "      <td>-0.019466</td>\n",
       "      <td>0.223852</td>\n",
       "      <td>-0.128805</td>\n",
       "      <td>0.181994</td>\n",
       "      <td>-0.244386</td>\n",
       "      <td>-0.000087</td>\n",
       "      <td>0.307387</td>\n",
       "      <td>0.221559</td>\n",
       "      <td>-0.138829</td>\n",
       "      <td>-0.251678</td>\n",
       "      <td>0.299557</td>\n",
       "      <td>0.296153</td>\n",
       "      <td>1.000000</td>\n",
       "    </tr>\n",
       "  </tbody>\n",
       "</table>\n",
       "</div>"
      ],
      "text/plain": [
       "                 Deaths     Cases  Population   flights  pollution    unemp%  \\\n",
       "Deaths         1.000000  0.916592    0.180786  0.708174  -0.156732  0.020812   \n",
       "Cases          0.916592  1.000000    0.226039  0.877728  -0.129420 -0.011756   \n",
       "Population     0.180786  0.226039    1.000000  0.503798   0.267416 -0.049807   \n",
       "flights        0.708174  0.877728    0.503798  1.000000  -0.055782 -0.070206   \n",
       "pollution     -0.156732 -0.129420    0.267416 -0.055782   1.000000  0.034698   \n",
       "unemp%         0.020812 -0.011756   -0.049807 -0.070206   0.034698  1.000000   \n",
       "hospbeds       0.088312  0.081516   -0.036975  0.057644  -0.385119 -0.002011   \n",
       "railways       0.690539  0.823772    0.612453  0.910928  -0.033383 -0.011623   \n",
       "urbanpop%      0.180048  0.165759   -0.060774  0.141160  -0.230348  0.120080   \n",
       "slum%         -0.179403 -0.162459    0.009955 -0.138750   0.477390  0.026280   \n",
       "popdensity%   -0.025756 -0.024583   -0.017312 -0.024821  -0.100991 -0.125099   \n",
       "GDP/cap        0.248483  0.247677   -0.042647  0.222829  -0.172031 -0.148474   \n",
       "literacy      -0.198862 -0.203952    0.024591 -0.182516   0.132855  0.237484   \n",
       "deposit rate  -0.118936 -0.089238   -0.026367 -0.089135   0.111566  0.130979   \n",
       "COD disease   -0.161356 -0.151631   -0.018070 -0.146960   0.416183  0.009034   \n",
       "DTP immunized  0.091262  0.083817    0.029798  0.089789  -0.111487 -0.098822   \n",
       "pop% >= 65     0.310722  0.252883    0.010736  0.181807  -0.466812  0.062347   \n",
       "trade%        -0.076679 -0.089975   -0.141224 -0.101634  -0.100274 -0.019466   \n",
       "\n",
       "               hospbeds  railways  urbanpop%     slum%  popdensity%   GDP/cap  \\\n",
       "Deaths         0.088312  0.690539   0.180048 -0.179403    -0.025756  0.248483   \n",
       "Cases          0.081516  0.823772   0.165759 -0.162459    -0.024583  0.247677   \n",
       "Population    -0.036975  0.612453  -0.060774  0.009955    -0.017312 -0.042647   \n",
       "flights        0.057644  0.910928   0.141160 -0.138750    -0.024821  0.222829   \n",
       "pollution     -0.385119 -0.033383  -0.230348  0.477390    -0.100991 -0.172031   \n",
       "unemp%        -0.002011 -0.011623   0.120080  0.026280    -0.125099 -0.148474   \n",
       "hospbeds       1.000000  0.138858   0.388271 -0.565877     0.332303  0.305930   \n",
       "railways       0.138858  1.000000   0.142949 -0.172386    -0.042580  0.182165   \n",
       "urbanpop%      0.388271  0.142949   1.000000 -0.478795     0.181979  0.606855   \n",
       "slum%         -0.565877 -0.172386  -0.478795  1.000000    -0.113728 -0.551982   \n",
       "popdensity%    0.332303 -0.042580   0.181979 -0.113728     1.000000  0.052606   \n",
       "GDP/cap        0.305930  0.182165   0.606855 -0.551982     0.052606  1.000000   \n",
       "literacy      -0.010130 -0.167972  -0.022595 -0.078594    -0.101932 -0.188607   \n",
       "deposit rate  -0.163978 -0.069401  -0.110195  0.289491    -0.097350 -0.312460   \n",
       "COD disease   -0.513351 -0.162519  -0.532877  0.799900    -0.100512 -0.497036   \n",
       "DTP immunized  0.295807  0.078569   0.334991 -0.276597     0.074506  0.319142   \n",
       "pop% >= 65     0.601188  0.251617   0.408456 -0.605509    -0.085263  0.488619   \n",
       "trade%         0.223852 -0.128805   0.181994 -0.244386    -0.000087  0.307387   \n",
       "\n",
       "               literacy  deposit rate  COD disease  DTP immunized  pop% >= 65  \\\n",
       "Deaths        -0.198862     -0.118936    -0.161356       0.091262    0.310722   \n",
       "Cases         -0.203952     -0.089238    -0.151631       0.083817    0.252883   \n",
       "Population     0.024591     -0.026367    -0.018070       0.029798    0.010736   \n",
       "flights       -0.182516     -0.089135    -0.146960       0.089789    0.181807   \n",
       "pollution      0.132855      0.111566     0.416183      -0.111487   -0.466812   \n",
       "unemp%         0.237484      0.130979     0.009034      -0.098822    0.062347   \n",
       "hospbeds      -0.010130     -0.163978    -0.513351       0.295807    0.601188   \n",
       "railways      -0.167972     -0.069401    -0.162519       0.078569    0.251617   \n",
       "urbanpop%     -0.022595     -0.110195    -0.532877       0.334991    0.408456   \n",
       "slum%         -0.078594      0.289491     0.799900      -0.276597   -0.605509   \n",
       "popdensity%   -0.101932     -0.097350    -0.100512       0.074506   -0.085263   \n",
       "GDP/cap       -0.188607     -0.312460    -0.497036       0.319142    0.488619   \n",
       "literacy       1.000000      0.144148    -0.123136       0.204583   -0.077869   \n",
       "deposit rate   0.144148      1.000000     0.300171      -0.116945   -0.262964   \n",
       "COD disease   -0.123136      0.300171     1.000000      -0.317593   -0.584033   \n",
       "DTP immunized  0.204583     -0.116945    -0.317593       1.000000    0.330820   \n",
       "pop% >= 65    -0.077869     -0.262964    -0.584033       0.330820    1.000000   \n",
       "trade%         0.221559     -0.138829    -0.251678       0.299557    0.296153   \n",
       "\n",
       "                 trade%  \n",
       "Deaths        -0.076679  \n",
       "Cases         -0.089975  \n",
       "Population    -0.141224  \n",
       "flights       -0.101634  \n",
       "pollution     -0.100274  \n",
       "unemp%        -0.019466  \n",
       "hospbeds       0.223852  \n",
       "railways      -0.128805  \n",
       "urbanpop%      0.181994  \n",
       "slum%         -0.244386  \n",
       "popdensity%   -0.000087  \n",
       "GDP/cap        0.307387  \n",
       "literacy       0.221559  \n",
       "deposit rate  -0.138829  \n",
       "COD disease   -0.251678  \n",
       "DTP immunized  0.299557  \n",
       "pop% >= 65     0.296153  \n",
       "trade%         1.000000  "
      ]
     },
     "execution_count": 7,
     "metadata": {},
     "output_type": "execute_result"
    },
    {
     "data": {
      "image/png": "[encoded data removed]",
      "text/plain": [
       "<Figure size 720x576 with 2 Axes>"
      ]
     },
     "metadata": {
      "needs_background": "light"
     },
     "output_type": "display_data"
    },
    {
     "data": {
      "image/png": "[encoded data removed]",
      "text/plain": [
       "<Figure size 792x648 with 2 Axes>"
      ]
     },
     "metadata": {
      "needs_background": "light"
     },
     "output_type": "display_data"
    }
   ],
   "source": [
    "import seaborn as sns\n",
    "\n",
    "df_corr = df_gmerged4.corr()\n",
    "\n",
    "f, ax = plt.subplots(figsize=(10, 8))\n",
    "sns.heatmap(df_corr.iloc[0:2,:], mask=np.zeros_like(df_corr.iloc[0:2,:], dtype=np.bool), cmap=sns.diverging_palette(220, 10, as_cmap=True),\n",
    "            square=True, ax=ax)\n",
    "\n",
    "mask = np.triu(np.ones_like(df_corr, dtype=np.bool))\n",
    "f, ax = plt.subplots(figsize=(11, 9))\n",
    "cmap = sns.diverging_palette(220, 10, as_cmap=True)\n",
    "sns.heatmap(df_corr, mask=mask, cmap=cmap, center=0,\n",
    "            square=True, linewidths=.5, cbar_kws={\"shrink\": .5})\n",
    "\n",
    "df_corr\n"
   ]
  },
  {
   "cell_type": "markdown",
   "metadata": {},
   "source": [
    "## Scaling / Normalization"
   ]
  },
  {
   "cell_type": "code",
   "execution_count": 8,
   "metadata": {},
   "outputs": [
    {
     "data": {
      "text/plain": [
       "'orig'"
      ]
     },
     "metadata": {},
     "output_type": "display_data"
    },
    {
     "data": {
      "text/html": [
       "<div>\n",
       "<style scoped>\n",
       "    .dataframe tbody tr th:only-of-type {\n",
       "        vertical-align: middle;\n",
       "    }\n",
       "\n",
       "    .dataframe tbody tr th {\n",
       "        vertical-align: top;\n",
       "    }\n",
       "\n",
       "    .dataframe thead th {\n",
       "        text-align: right;\n",
       "    }\n",
       "</style>\n",
       "<table border=\"1\" class=\"dataframe\">\n",
       "  <thead>\n",
       "    <tr style=\"text-align: right;\">\n",
       "      <th></th>\n",
       "      <th>Deaths</th>\n",
       "      <th>Cases</th>\n",
       "      <th>Population</th>\n",
       "      <th>flights</th>\n",
       "      <th>pollution</th>\n",
       "      <th>unemp%</th>\n",
       "      <th>hospbeds</th>\n",
       "      <th>railways</th>\n",
       "      <th>urbanpop%</th>\n",
       "      <th>slum%</th>\n",
       "      <th>popdensity%</th>\n",
       "      <th>GDP/cap</th>\n",
       "      <th>literacy</th>\n",
       "      <th>deposit rate</th>\n",
       "      <th>COD disease</th>\n",
       "      <th>DTP immunized</th>\n",
       "      <th>pop% &gt;= 65</th>\n",
       "      <th>trade%</th>\n",
       "    </tr>\n",
       "    <tr>\n",
       "      <th>Country/Region</th>\n",
       "      <th></th>\n",
       "      <th></th>\n",
       "      <th></th>\n",
       "      <th></th>\n",
       "      <th></th>\n",
       "      <th></th>\n",
       "      <th></th>\n",
       "      <th></th>\n",
       "      <th></th>\n",
       "      <th></th>\n",
       "      <th></th>\n",
       "      <th></th>\n",
       "      <th></th>\n",
       "      <th></th>\n",
       "      <th></th>\n",
       "      <th></th>\n",
       "      <th></th>\n",
       "      <th></th>\n",
       "    </tr>\n",
       "  </thead>\n",
       "  <tbody>\n",
       "    <tr>\n",
       "      <td>United States</td>\n",
       "      <td>38664</td>\n",
       "      <td>732197</td>\n",
       "      <td>322941311</td>\n",
       "      <td>9879630.0</td>\n",
       "      <td>7.41</td>\n",
       "      <td>3.68</td>\n",
       "      <td>2.9</td>\n",
       "      <td>150462.3</td>\n",
       "      <td>82.26</td>\n",
       "      <td>0.0</td>\n",
       "      <td>35.77</td>\n",
       "      <td>62794.59</td>\n",
       "      <td>0.00</td>\n",
       "      <td>0.0</td>\n",
       "      <td>5.2</td>\n",
       "      <td>94.0</td>\n",
       "      <td>15.81</td>\n",
       "      <td>20.83</td>\n",
       "    </tr>\n",
       "    <tr>\n",
       "      <td>Spain</td>\n",
       "      <td>20043</td>\n",
       "      <td>191726</td>\n",
       "      <td>46484062</td>\n",
       "      <td>641020.0</td>\n",
       "      <td>9.70</td>\n",
       "      <td>13.96</td>\n",
       "      <td>3.0</td>\n",
       "      <td>15618.0</td>\n",
       "      <td>80.32</td>\n",
       "      <td>0.0</td>\n",
       "      <td>93.53</td>\n",
       "      <td>39715.44</td>\n",
       "      <td>98.44</td>\n",
       "      <td>0.0</td>\n",
       "      <td>5.1</td>\n",
       "      <td>93.0</td>\n",
       "      <td>19.38</td>\n",
       "      <td>51.67</td>\n",
       "    </tr>\n",
       "  </tbody>\n",
       "</table>\n",
       "</div>"
      ],
      "text/plain": [
       "                Deaths   Cases  Population    flights  pollution  unemp%  \\\n",
       "Country/Region                                                             \n",
       "United States    38664  732197   322941311  9879630.0       7.41    3.68   \n",
       "Spain            20043  191726    46484062   641020.0       9.70   13.96   \n",
       "\n",
       "                hospbeds  railways  urbanpop%  slum%  popdensity%   GDP/cap  \\\n",
       "Country/Region                                                                \n",
       "United States        2.9  150462.3      82.26    0.0        35.77  62794.59   \n",
       "Spain                3.0   15618.0      80.32    0.0        93.53  39715.44   \n",
       "\n",
       "                literacy  deposit rate  COD disease  DTP immunized  \\\n",
       "Country/Region                                                       \n",
       "United States       0.00           0.0          5.2           94.0   \n",
       "Spain              98.44           0.0          5.1           93.0   \n",
       "\n",
       "                pop% >= 65  trade%  \n",
       "Country/Region                      \n",
       "United States        15.81   20.83  \n",
       "Spain                19.38   51.67  "
      ]
     },
     "metadata": {},
     "output_type": "display_data"
    },
    {
     "data": {
      "text/plain": [
       "'scale'"
      ]
     },
     "metadata": {},
     "output_type": "display_data"
    },
    {
     "data": {
      "text/html": [
       "<div>\n",
       "<style scoped>\n",
       "    .dataframe tbody tr th:only-of-type {\n",
       "        vertical-align: middle;\n",
       "    }\n",
       "\n",
       "    .dataframe tbody tr th {\n",
       "        vertical-align: top;\n",
       "    }\n",
       "\n",
       "    .dataframe thead th {\n",
       "        text-align: right;\n",
       "    }\n",
       "</style>\n",
       "<table border=\"1\" class=\"dataframe\">\n",
       "  <thead>\n",
       "    <tr style=\"text-align: right;\">\n",
       "      <th></th>\n",
       "      <th>Deaths</th>\n",
       "      <th>Cases</th>\n",
       "      <th>Population</th>\n",
       "      <th>flights</th>\n",
       "      <th>pollution</th>\n",
       "      <th>unemp%</th>\n",
       "      <th>hospbeds</th>\n",
       "      <th>railways</th>\n",
       "      <th>urbanpop%</th>\n",
       "      <th>slum%</th>\n",
       "      <th>popdensity%</th>\n",
       "      <th>GDP/cap</th>\n",
       "      <th>literacy</th>\n",
       "      <th>deposit rate</th>\n",
       "      <th>COD disease</th>\n",
       "      <th>DTP immunized</th>\n",
       "      <th>pop% &gt;= 65</th>\n",
       "      <th>trade%</th>\n",
       "    </tr>\n",
       "    <tr>\n",
       "      <th>Country/Region</th>\n",
       "      <th></th>\n",
       "      <th></th>\n",
       "      <th></th>\n",
       "      <th></th>\n",
       "      <th></th>\n",
       "      <th></th>\n",
       "      <th></th>\n",
       "      <th></th>\n",
       "      <th></th>\n",
       "      <th></th>\n",
       "      <th></th>\n",
       "      <th></th>\n",
       "      <th></th>\n",
       "      <th></th>\n",
       "      <th></th>\n",
       "      <th></th>\n",
       "      <th></th>\n",
       "      <th></th>\n",
       "    </tr>\n",
       "  </thead>\n",
       "  <tbody>\n",
       "    <tr>\n",
       "      <td>United States</td>\n",
       "      <td>8.671486</td>\n",
       "      <td>11.216454</td>\n",
       "      <td>1.809402</td>\n",
       "      <td>10.876939</td>\n",
       "      <td>-1.012400</td>\n",
       "      <td>-0.533644</td>\n",
       "      <td>0.018517</td>\n",
       "      <td>9.518885</td>\n",
       "      <td>0.955201</td>\n",
       "      <td>-0.882278</td>\n",
       "      <td>-0.183451</td>\n",
       "      <td>1.814318</td>\n",
       "      <td>-1.967469</td>\n",
       "      <td>-0.814337</td>\n",
       "      <td>-0.772788</td>\n",
       "      <td>0.406128</td>\n",
       "      <td>1.074007</td>\n",
       "      <td>-1.121848</td>\n",
       "    </tr>\n",
       "    <tr>\n",
       "      <td>Spain</td>\n",
       "      <td>4.388304</td>\n",
       "      <td>2.779336</td>\n",
       "      <td>0.026889</td>\n",
       "      <td>0.472386</td>\n",
       "      <td>-0.894881</td>\n",
       "      <td>1.370712</td>\n",
       "      <td>0.060101</td>\n",
       "      <td>0.686980</td>\n",
       "      <td>0.871687</td>\n",
       "      <td>-0.882278</td>\n",
       "      <td>-0.148344</td>\n",
       "      <td>0.800173</td>\n",
       "      <td>0.798922</td>\n",
       "      <td>-0.814337</td>\n",
       "      <td>-0.777583</td>\n",
       "      <td>0.350364</td>\n",
       "      <td>1.614246</td>\n",
       "      <td>-0.266125</td>\n",
       "    </tr>\n",
       "  </tbody>\n",
       "</table>\n",
       "</div>"
      ],
      "text/plain": [
       "                  Deaths      Cases  Population    flights  pollution  \\\n",
       "Country/Region                                                          \n",
       "United States   8.671486  11.216454    1.809402  10.876939  -1.012400   \n",
       "Spain           4.388304   2.779336    0.026889   0.472386  -0.894881   \n",
       "\n",
       "                  unemp%  hospbeds  railways  urbanpop%     slum%  \\\n",
       "Country/Region                                                      \n",
       "United States  -0.533644  0.018517  9.518885   0.955201 -0.882278   \n",
       "Spain           1.370712  0.060101  0.686980   0.871687 -0.882278   \n",
       "\n",
       "                popdensity%   GDP/cap  literacy  deposit rate  COD disease  \\\n",
       "Country/Region                                                               \n",
       "United States     -0.183451  1.814318 -1.967469     -0.814337    -0.772788   \n",
       "Spain             -0.148344  0.800173  0.798922     -0.814337    -0.777583   \n",
       "\n",
       "                DTP immunized  pop% >= 65    trade%  \n",
       "Country/Region                                       \n",
       "United States        0.406128    1.074007 -1.121848  \n",
       "Spain                0.350364    1.614246 -0.266125  "
      ]
     },
     "metadata": {},
     "output_type": "display_data"
    }
   ],
   "source": [
    "from sklearn.preprocessing import StandardScaler #used for 'Feature Scaling'\n",
    "scaler = StandardScaler()\n",
    "\n",
    "df_sc = df_gmerged4.copy().set_index('Country/Region').drop(columns=['Country Code'])\n",
    "display('orig',df_sc.head(2))\n",
    "\n",
    "df_sc = pd.DataFrame(scaler.fit_transform(df_sc), index=df_sc.index, columns=df_sc.columns)\n",
    "display('scale',df_sc.head(2))\n",
    "\n",
    "# df_sc = pd.DataFrame(scaler.inverse_transform(df_sc), index=df_sc.index, columns=df_sc.columns)\n",
    "# display('inverse',df_sc.head(2))"
   ]
  },
  {
   "cell_type": "markdown",
   "metadata": {},
   "source": [
    "# Misc Clustering Techniques\n",
    "\n",
    "## - KMeans"
   ]
  },
  {
   "cell_type": "code",
   "execution_count": 101,
   "metadata": {
    "scrolled": false
   },
   "outputs": [
    {
     "data": {
      "text/plain": [
       "'train'"
      ]
     },
     "metadata": {},
     "output_type": "display_data"
    },
    {
     "data": {
      "text/plain": [
       "(127, 18)"
      ]
     },
     "metadata": {},
     "output_type": "display_data"
    },
    {
     "data": {
      "text/html": [
       "<div>\n",
       "<style scoped>\n",
       "    .dataframe tbody tr th:only-of-type {\n",
       "        vertical-align: middle;\n",
       "    }\n",
       "\n",
       "    .dataframe tbody tr th {\n",
       "        vertical-align: top;\n",
       "    }\n",
       "\n",
       "    .dataframe thead th {\n",
       "        text-align: right;\n",
       "    }\n",
       "</style>\n",
       "<table border=\"1\" class=\"dataframe\">\n",
       "  <thead>\n",
       "    <tr style=\"text-align: right;\">\n",
       "      <th></th>\n",
       "      <th>Deaths</th>\n",
       "      <th>Cases</th>\n",
       "      <th>Population</th>\n",
       "      <th>flights</th>\n",
       "      <th>pollution</th>\n",
       "      <th>unemp%</th>\n",
       "      <th>hospbeds</th>\n",
       "      <th>railways</th>\n",
       "      <th>urbanpop%</th>\n",
       "      <th>slum%</th>\n",
       "      <th>popdensity%</th>\n",
       "      <th>GDP/cap</th>\n",
       "      <th>literacy</th>\n",
       "      <th>deposit rate</th>\n",
       "      <th>COD disease</th>\n",
       "      <th>DTP immunized</th>\n",
       "      <th>pop% &gt;= 65</th>\n",
       "      <th>trade%</th>\n",
       "    </tr>\n",
       "    <tr>\n",
       "      <th>Country/Region</th>\n",
       "      <th></th>\n",
       "      <th></th>\n",
       "      <th></th>\n",
       "      <th></th>\n",
       "      <th></th>\n",
       "      <th></th>\n",
       "      <th></th>\n",
       "      <th></th>\n",
       "      <th></th>\n",
       "      <th></th>\n",
       "      <th></th>\n",
       "      <th></th>\n",
       "      <th></th>\n",
       "      <th></th>\n",
       "      <th></th>\n",
       "      <th></th>\n",
       "      <th></th>\n",
       "      <th></th>\n",
       "    </tr>\n",
       "  </thead>\n",
       "  <tbody>\n",
       "    <tr>\n",
       "      <td>Denmark</td>\n",
       "      <td>-0.142379</td>\n",
       "      <td>-0.097540</td>\n",
       "      <td>-0.235894</td>\n",
       "      <td>-0.137366</td>\n",
       "      <td>-0.877946</td>\n",
       "      <td>-0.305788</td>\n",
       "      <td>-0.147820</td>\n",
       "      <td>-0.196378</td>\n",
       "      <td>1.196702</td>\n",
       "      <td>-0.882278</td>\n",
       "      <td>-0.121272</td>\n",
       "      <td>1.501300</td>\n",
       "      <td>-1.967469</td>\n",
       "      <td>-0.814337</td>\n",
       "      <td>-0.710447</td>\n",
       "      <td>0.573418</td>\n",
       "      <td>1.679317</td>\n",
       "      <td>-0.052194</td>\n",
       "    </tr>\n",
       "    <tr>\n",
       "      <td>Burkina Faso</td>\n",
       "      <td>-0.213685</td>\n",
       "      <td>-0.204817</td>\n",
       "      <td>-0.152600</td>\n",
       "      <td>-0.244724</td>\n",
       "      <td>0.810945</td>\n",
       "      <td>-0.055703</td>\n",
       "      <td>-1.021087</td>\n",
       "      <td>-0.302025</td>\n",
       "      <td>-1.322054</td>\n",
       "      <td>1.441339</td>\n",
       "      <td>-0.161314</td>\n",
       "      <td>-0.857786</td>\n",
       "      <td>-0.809092</td>\n",
       "      <td>0.658208</td>\n",
       "      <td>1.677676</td>\n",
       "      <td>0.238837</td>\n",
       "      <td>-0.953782</td>\n",
       "      <td>-0.211186</td>\n",
       "    </tr>\n",
       "    <tr>\n",
       "      <td>Poland</td>\n",
       "      <td>-0.142149</td>\n",
       "      <td>-0.077168</td>\n",
       "      <td>-0.028007</td>\n",
       "      <td>-0.109993</td>\n",
       "      <td>-0.321141</td>\n",
       "      <td>-0.572546</td>\n",
       "      <td>1.515545</td>\n",
       "      <td>0.878101</td>\n",
       "      <td>-0.000471</td>\n",
       "      <td>-0.882278</td>\n",
       "      <td>-0.129800</td>\n",
       "      <td>0.431989</td>\n",
       "      <td>0.807353</td>\n",
       "      <td>-0.814337</td>\n",
       "      <td>-0.782378</td>\n",
       "      <td>0.461891</td>\n",
       "      <td>1.332777</td>\n",
       "      <td>0.797424</td>\n",
       "    </tr>\n",
       "  </tbody>\n",
       "</table>\n",
       "</div>"
      ],
      "text/plain": [
       "                  Deaths     Cases  Population   flights  pollution    unemp%  \\\n",
       "Country/Region                                                                  \n",
       "Denmark        -0.142379 -0.097540   -0.235894 -0.137366  -0.877946 -0.305788   \n",
       "Burkina Faso   -0.213685 -0.204817   -0.152600 -0.244724   0.810945 -0.055703   \n",
       "Poland         -0.142149 -0.077168   -0.028007 -0.109993  -0.321141 -0.572546   \n",
       "\n",
       "                hospbeds  railways  urbanpop%     slum%  popdensity%  \\\n",
       "Country/Region                                                         \n",
       "Denmark        -0.147820 -0.196378   1.196702 -0.882278    -0.121272   \n",
       "Burkina Faso   -1.021087 -0.302025  -1.322054  1.441339    -0.161314   \n",
       "Poland          1.515545  0.878101  -0.000471 -0.882278    -0.129800   \n",
       "\n",
       "                 GDP/cap  literacy  deposit rate  COD disease  DTP immunized  \\\n",
       "Country/Region                                                                 \n",
       "Denmark         1.501300 -1.967469     -0.814337    -0.710447       0.573418   \n",
       "Burkina Faso   -0.857786 -0.809092      0.658208     1.677676       0.238837   \n",
       "Poland          0.431989  0.807353     -0.814337    -0.782378       0.461891   \n",
       "\n",
       "                pop% >= 65    trade%  \n",
       "Country/Region                        \n",
       "Denmark           1.679317 -0.052194  \n",
       "Burkina Faso     -0.953782 -0.211186  \n",
       "Poland            1.332777  0.797424  "
      ]
     },
     "metadata": {},
     "output_type": "display_data"
    },
    {
     "data": {
      "text/plain": [
       "'test'"
      ]
     },
     "metadata": {},
     "output_type": "display_data"
    },
    {
     "data": {
      "text/plain": [
       "(32, 18)"
      ]
     },
     "metadata": {},
     "output_type": "display_data"
    },
    {
     "data": {
      "text/html": [
       "<div>\n",
       "<style scoped>\n",
       "    .dataframe tbody tr th:only-of-type {\n",
       "        vertical-align: middle;\n",
       "    }\n",
       "\n",
       "    .dataframe tbody tr th {\n",
       "        vertical-align: top;\n",
       "    }\n",
       "\n",
       "    .dataframe thead th {\n",
       "        text-align: right;\n",
       "    }\n",
       "</style>\n",
       "<table border=\"1\" class=\"dataframe\">\n",
       "  <thead>\n",
       "    <tr style=\"text-align: right;\">\n",
       "      <th></th>\n",
       "      <th>Deaths</th>\n",
       "      <th>Cases</th>\n",
       "      <th>Population</th>\n",
       "      <th>flights</th>\n",
       "      <th>pollution</th>\n",
       "      <th>unemp%</th>\n",
       "      <th>hospbeds</th>\n",
       "      <th>railways</th>\n",
       "      <th>urbanpop%</th>\n",
       "      <th>slum%</th>\n",
       "      <th>popdensity%</th>\n",
       "      <th>GDP/cap</th>\n",
       "      <th>literacy</th>\n",
       "      <th>deposit rate</th>\n",
       "      <th>COD disease</th>\n",
       "      <th>DTP immunized</th>\n",
       "      <th>pop% &gt;= 65</th>\n",
       "      <th>trade%</th>\n",
       "    </tr>\n",
       "    <tr>\n",
       "      <th>Country/Region</th>\n",
       "      <th></th>\n",
       "      <th></th>\n",
       "      <th></th>\n",
       "      <th></th>\n",
       "      <th></th>\n",
       "      <th></th>\n",
       "      <th></th>\n",
       "      <th></th>\n",
       "      <th></th>\n",
       "      <th></th>\n",
       "      <th></th>\n",
       "      <th></th>\n",
       "      <th></th>\n",
       "      <th></th>\n",
       "      <th></th>\n",
       "      <th></th>\n",
       "      <th></th>\n",
       "      <th></th>\n",
       "    </tr>\n",
       "  </thead>\n",
       "  <tbody>\n",
       "    <tr>\n",
       "      <td>Kenya</td>\n",
       "      <td>-0.219205</td>\n",
       "      <td>-0.209547</td>\n",
       "      <td>0.043444</td>\n",
       "      <td>-0.094565</td>\n",
       "      <td>0.074012</td>\n",
       "      <td>-0.726303</td>\n",
       "      <td>-0.605245</td>\n",
       "      <td>-0.210395</td>\n",
       "      <td>-1.422356</td>\n",
       "      <td>1.095268</td>\n",
       "      <td>-0.150307</td>\n",
       "      <td>-0.792634</td>\n",
       "      <td>0.323712</td>\n",
       "      <td>1.066618</td>\n",
       "      <td>2.013355</td>\n",
       "      <td>0.294600</td>\n",
       "      <td>-0.964375</td>\n",
       "      <td>-0.962857</td>\n",
       "    </tr>\n",
       "    <tr>\n",
       "      <td>Seychelles</td>\n",
       "      <td>-0.221965</td>\n",
       "      <td>-0.213465</td>\n",
       "      <td>-0.272216</td>\n",
       "      <td>-0.228506</td>\n",
       "      <td>-0.357064</td>\n",
       "      <td>-1.215359</td>\n",
       "      <td>0.309606</td>\n",
       "      <td>-0.335953</td>\n",
       "      <td>-0.145544</td>\n",
       "      <td>-0.882278</td>\n",
       "      <td>-0.077341</td>\n",
       "      <td>0.397736</td>\n",
       "      <td>0.726699</td>\n",
       "      <td>-0.067854</td>\n",
       "      <td>-0.451494</td>\n",
       "      <td>0.684946</td>\n",
       "      <td>-0.169906</td>\n",
       "      <td>1.540493</td>\n",
       "    </tr>\n",
       "    <tr>\n",
       "      <td>Nepal</td>\n",
       "      <td>-0.221965</td>\n",
       "      <td>-0.213153</td>\n",
       "      <td>-0.097055</td>\n",
       "      <td>-0.168550</td>\n",
       "      <td>3.725320</td>\n",
       "      <td>-0.954159</td>\n",
       "      <td>-1.062671</td>\n",
       "      <td>-0.335953</td>\n",
       "      <td>-1.736179</td>\n",
       "      <td>1.035236</td>\n",
       "      <td>-0.086099</td>\n",
       "      <td>-0.809244</td>\n",
       "      <td>-0.059041</td>\n",
       "      <td>-0.814337</td>\n",
       "      <td>0.176707</td>\n",
       "      <td>0.238837</td>\n",
       "      <td>-0.451375</td>\n",
       "      <td>-0.332996</td>\n",
       "    </tr>\n",
       "  </tbody>\n",
       "</table>\n",
       "</div>"
      ],
      "text/plain": [
       "                  Deaths     Cases  Population   flights  pollution    unemp%  \\\n",
       "Country/Region                                                                  \n",
       "Kenya          -0.219205 -0.209547    0.043444 -0.094565   0.074012 -0.726303   \n",
       "Seychelles     -0.221965 -0.213465   -0.272216 -0.228506  -0.357064 -1.215359   \n",
       "Nepal          -0.221965 -0.213153   -0.097055 -0.168550   3.725320 -0.954159   \n",
       "\n",
       "                hospbeds  railways  urbanpop%     slum%  popdensity%  \\\n",
       "Country/Region                                                         \n",
       "Kenya          -0.605245 -0.210395  -1.422356  1.095268    -0.150307   \n",
       "Seychelles      0.309606 -0.335953  -0.145544 -0.882278    -0.077341   \n",
       "Nepal          -1.062671 -0.335953  -1.736179  1.035236    -0.086099   \n",
       "\n",
       "                 GDP/cap  literacy  deposit rate  COD disease  DTP immunized  \\\n",
       "Country/Region                                                                 \n",
       "Kenya          -0.792634  0.323712      1.066618     2.013355       0.294600   \n",
       "Seychelles      0.397736  0.726699     -0.067854    -0.451494       0.684946   \n",
       "Nepal          -0.809244 -0.059041     -0.814337     0.176707       0.238837   \n",
       "\n",
       "                pop% >= 65    trade%  \n",
       "Country/Region                        \n",
       "Kenya            -0.964375 -0.962857  \n",
       "Seychelles       -0.169906  1.540493  \n",
       "Nepal            -0.451375 -0.332996  "
      ]
     },
     "metadata": {},
     "output_type": "display_data"
    },
    {
     "data": {
      "text/plain": [
       "'kmeans info - inertia: 1426.7811302271853, iters: 7'"
      ]
     },
     "metadata": {},
     "output_type": "display_data"
    },
    {
     "data": {
      "text/plain": [
       "'labels: [2 0 2 2 0 2 2 2 2 2 0 2 0 1 0 0 0 2 2 0 2 0 2 2 0 0 2 2 0 2 2 2 2 2 2 2 2\\n 0 2 2 0 0 2 2 2 2 0 0 0 2 2 2 2 2 0 2 2 1 2 2 0 2 2 0 0 2 0 2 0 0 2 0 2 2\\n 2 0 0 2 0 0 0 0 0 2 2 2 0 2 2 0 2 2 2 2 0 2 2 2 0 0 0 2 2 2 2 2 2 2 2 2 2\\n 0 2 0 0 0 0 2 0 2 2 0 2 0 0 0 0]'"
      ]
     },
     "metadata": {},
     "output_type": "display_data"
    },
    {
     "data": {
      "text/plain": [
       "'score -625.7428204405643'"
      ]
     },
     "metadata": {},
     "output_type": "display_data"
    },
    {
     "data": {
      "text/plain": [
       "'train'"
      ]
     },
     "metadata": {},
     "output_type": "display_data"
    },
    {
     "data": {
      "text/html": [
       "<div>\n",
       "<style scoped>\n",
       "    .dataframe tbody tr th:only-of-type {\n",
       "        vertical-align: middle;\n",
       "    }\n",
       "\n",
       "    .dataframe tbody tr th {\n",
       "        vertical-align: top;\n",
       "    }\n",
       "\n",
       "    .dataframe thead th {\n",
       "        text-align: right;\n",
       "    }\n",
       "</style>\n",
       "<table border=\"1\" class=\"dataframe\">\n",
       "  <thead>\n",
       "    <tr style=\"text-align: right;\">\n",
       "      <th></th>\n",
       "      <th>cluster</th>\n",
       "      <th>Deaths</th>\n",
       "      <th>Cases</th>\n",
       "      <th>Population</th>\n",
       "      <th>flights</th>\n",
       "      <th>pollution</th>\n",
       "      <th>unemp%</th>\n",
       "      <th>hospbeds</th>\n",
       "      <th>railways</th>\n",
       "      <th>urbanpop%</th>\n",
       "      <th>slum%</th>\n",
       "      <th>popdensity%</th>\n",
       "      <th>GDP/cap</th>\n",
       "      <th>literacy</th>\n",
       "      <th>deposit rate</th>\n",
       "      <th>COD disease</th>\n",
       "      <th>DTP immunized</th>\n",
       "      <th>pop% &gt;= 65</th>\n",
       "      <th>trade%</th>\n",
       "    </tr>\n",
       "    <tr>\n",
       "      <th>Country/Region</th>\n",
       "      <th></th>\n",
       "      <th></th>\n",
       "      <th></th>\n",
       "      <th></th>\n",
       "      <th></th>\n",
       "      <th></th>\n",
       "      <th></th>\n",
       "      <th></th>\n",
       "      <th></th>\n",
       "      <th></th>\n",
       "      <th></th>\n",
       "      <th></th>\n",
       "      <th></th>\n",
       "      <th></th>\n",
       "      <th></th>\n",
       "      <th></th>\n",
       "      <th></th>\n",
       "      <th></th>\n",
       "      <th></th>\n",
       "    </tr>\n",
       "  </thead>\n",
       "  <tbody>\n",
       "    <tr>\n",
       "      <td>Denmark</td>\n",
       "      <td>2</td>\n",
       "      <td>-0.142379</td>\n",
       "      <td>-0.097540</td>\n",
       "      <td>-0.235894</td>\n",
       "      <td>-0.137366</td>\n",
       "      <td>-0.877946</td>\n",
       "      <td>-0.305788</td>\n",
       "      <td>-0.147820</td>\n",
       "      <td>-0.196378</td>\n",
       "      <td>1.196702</td>\n",
       "      <td>-0.882278</td>\n",
       "      <td>-0.121272</td>\n",
       "      <td>1.501300</td>\n",
       "      <td>-1.967469</td>\n",
       "      <td>-0.814337</td>\n",
       "      <td>-0.710447</td>\n",
       "      <td>0.573418</td>\n",
       "      <td>1.679317</td>\n",
       "      <td>-0.052194</td>\n",
       "    </tr>\n",
       "    <tr>\n",
       "      <td>Burkina Faso</td>\n",
       "      <td>0</td>\n",
       "      <td>-0.213685</td>\n",
       "      <td>-0.204817</td>\n",
       "      <td>-0.152600</td>\n",
       "      <td>-0.244724</td>\n",
       "      <td>0.810945</td>\n",
       "      <td>-0.055703</td>\n",
       "      <td>-1.021087</td>\n",
       "      <td>-0.302025</td>\n",
       "      <td>-1.322054</td>\n",
       "      <td>1.441339</td>\n",
       "      <td>-0.161314</td>\n",
       "      <td>-0.857786</td>\n",
       "      <td>-0.809092</td>\n",
       "      <td>0.658208</td>\n",
       "      <td>1.677676</td>\n",
       "      <td>0.238837</td>\n",
       "      <td>-0.953782</td>\n",
       "      <td>-0.211186</td>\n",
       "    </tr>\n",
       "    <tr>\n",
       "      <td>Poland</td>\n",
       "      <td>2</td>\n",
       "      <td>-0.142149</td>\n",
       "      <td>-0.077168</td>\n",
       "      <td>-0.028007</td>\n",
       "      <td>-0.109993</td>\n",
       "      <td>-0.321141</td>\n",
       "      <td>-0.572546</td>\n",
       "      <td>1.515545</td>\n",
       "      <td>0.878101</td>\n",
       "      <td>-0.000471</td>\n",
       "      <td>-0.882278</td>\n",
       "      <td>-0.129800</td>\n",
       "      <td>0.431989</td>\n",
       "      <td>0.807353</td>\n",
       "      <td>-0.814337</td>\n",
       "      <td>-0.782378</td>\n",
       "      <td>0.461891</td>\n",
       "      <td>1.332777</td>\n",
       "      <td>0.797424</td>\n",
       "    </tr>\n",
       "    <tr>\n",
       "      <td>Latvia</td>\n",
       "      <td>2</td>\n",
       "      <td>-0.220815</td>\n",
       "      <td>-0.202522</td>\n",
       "      <td>-0.260192</td>\n",
       "      <td>-0.188317</td>\n",
       "      <td>-0.703463</td>\n",
       "      <td>-0.007538</td>\n",
       "      <td>1.224456</td>\n",
       "      <td>-0.214154</td>\n",
       "      <td>0.347359</td>\n",
       "      <td>-0.882278</td>\n",
       "      <td>-0.186362</td>\n",
       "      <td>0.386652</td>\n",
       "      <td>0.839671</td>\n",
       "      <td>-0.814337</td>\n",
       "      <td>-0.892673</td>\n",
       "      <td>0.517655</td>\n",
       "      <td>1.714122</td>\n",
       "      <td>1.114574</td>\n",
       "    </tr>\n",
       "    <tr>\n",
       "      <td>Philippines</td>\n",
       "      <td>0</td>\n",
       "      <td>-0.130648</td>\n",
       "      <td>-0.118615</td>\n",
       "      <td>0.395567</td>\n",
       "      <td>0.079825</td>\n",
       "      <td>-0.465345</td>\n",
       "      <td>-0.817075</td>\n",
       "      <td>-0.771582</td>\n",
       "      <td>-0.302615</td>\n",
       "      <td>-0.566556</td>\n",
       "      <td>0.470223</td>\n",
       "      <td>0.012213</td>\n",
       "      <td>-0.551676</td>\n",
       "      <td>0.791616</td>\n",
       "      <td>-0.106426</td>\n",
       "      <td>0.186298</td>\n",
       "      <td>-1.211018</td>\n",
       "      <td>-0.543685</td>\n",
       "      <td>-0.171785</td>\n",
       "    </tr>\n",
       "  </tbody>\n",
       "</table>\n",
       "</div>"
      ],
      "text/plain": [
       "                cluster    Deaths     Cases  Population   flights  pollution  \\\n",
       "Country/Region                                                                 \n",
       "Denmark               2 -0.142379 -0.097540   -0.235894 -0.137366  -0.877946   \n",
       "Burkina Faso          0 -0.213685 -0.204817   -0.152600 -0.244724   0.810945   \n",
       "Poland                2 -0.142149 -0.077168   -0.028007 -0.109993  -0.321141   \n",
       "Latvia                2 -0.220815 -0.202522   -0.260192 -0.188317  -0.703463   \n",
       "Philippines           0 -0.130648 -0.118615    0.395567  0.079825  -0.465345   \n",
       "\n",
       "                  unemp%  hospbeds  railways  urbanpop%     slum%  \\\n",
       "Country/Region                                                      \n",
       "Denmark        -0.305788 -0.147820 -0.196378   1.196702 -0.882278   \n",
       "Burkina Faso   -0.055703 -1.021087 -0.302025  -1.322054  1.441339   \n",
       "Poland         -0.572546  1.515545  0.878101  -0.000471 -0.882278   \n",
       "Latvia         -0.007538  1.224456 -0.214154   0.347359 -0.882278   \n",
       "Philippines    -0.817075 -0.771582 -0.302615  -0.566556  0.470223   \n",
       "\n",
       "                popdensity%   GDP/cap  literacy  deposit rate  COD disease  \\\n",
       "Country/Region                                                               \n",
       "Denmark           -0.121272  1.501300 -1.967469     -0.814337    -0.710447   \n",
       "Burkina Faso      -0.161314 -0.857786 -0.809092      0.658208     1.677676   \n",
       "Poland            -0.129800  0.431989  0.807353     -0.814337    -0.782378   \n",
       "Latvia            -0.186362  0.386652  0.839671     -0.814337    -0.892673   \n",
       "Philippines        0.012213 -0.551676  0.791616     -0.106426     0.186298   \n",
       "\n",
       "                DTP immunized  pop% >= 65    trade%  \n",
       "Country/Region                                       \n",
       "Denmark              0.573418    1.679317 -0.052194  \n",
       "Burkina Faso         0.238837   -0.953782 -0.211186  \n",
       "Poland               0.461891    1.332777  0.797424  \n",
       "Latvia               0.517655    1.714122  1.114574  \n",
       "Philippines         -1.211018   -0.543685 -0.171785  "
      ]
     },
     "metadata": {},
     "output_type": "display_data"
    },
    {
     "data": {
      "text/plain": [
       "'test'"
      ]
     },
     "metadata": {},
     "output_type": "display_data"
    },
    {
     "data": {
      "text/html": [
       "<div>\n",
       "<style scoped>\n",
       "    .dataframe tbody tr th:only-of-type {\n",
       "        vertical-align: middle;\n",
       "    }\n",
       "\n",
       "    .dataframe tbody tr th {\n",
       "        vertical-align: top;\n",
       "    }\n",
       "\n",
       "    .dataframe thead th {\n",
       "        text-align: right;\n",
       "    }\n",
       "</style>\n",
       "<table border=\"1\" class=\"dataframe\">\n",
       "  <thead>\n",
       "    <tr style=\"text-align: right;\">\n",
       "      <th></th>\n",
       "      <th>cluster</th>\n",
       "      <th>Deaths</th>\n",
       "      <th>Cases</th>\n",
       "      <th>Population</th>\n",
       "      <th>flights</th>\n",
       "      <th>pollution</th>\n",
       "      <th>unemp%</th>\n",
       "      <th>hospbeds</th>\n",
       "      <th>railways</th>\n",
       "      <th>urbanpop%</th>\n",
       "      <th>slum%</th>\n",
       "      <th>popdensity%</th>\n",
       "      <th>GDP/cap</th>\n",
       "      <th>literacy</th>\n",
       "      <th>deposit rate</th>\n",
       "      <th>COD disease</th>\n",
       "      <th>DTP immunized</th>\n",
       "      <th>pop% &gt;= 65</th>\n",
       "      <th>trade%</th>\n",
       "    </tr>\n",
       "    <tr>\n",
       "      <th>Country/Region</th>\n",
       "      <th></th>\n",
       "      <th></th>\n",
       "      <th></th>\n",
       "      <th></th>\n",
       "      <th></th>\n",
       "      <th></th>\n",
       "      <th></th>\n",
       "      <th></th>\n",
       "      <th></th>\n",
       "      <th></th>\n",
       "      <th></th>\n",
       "      <th></th>\n",
       "      <th></th>\n",
       "      <th></th>\n",
       "      <th></th>\n",
       "      <th></th>\n",
       "      <th></th>\n",
       "      <th></th>\n",
       "      <th></th>\n",
       "    </tr>\n",
       "  </thead>\n",
       "  <tbody>\n",
       "    <tr>\n",
       "      <td>Kenya</td>\n",
       "      <td>0</td>\n",
       "      <td>-0.219205</td>\n",
       "      <td>-0.209547</td>\n",
       "      <td>0.043444</td>\n",
       "      <td>-0.094565</td>\n",
       "      <td>0.074012</td>\n",
       "      <td>-0.726303</td>\n",
       "      <td>-0.605245</td>\n",
       "      <td>-0.210395</td>\n",
       "      <td>-1.422356</td>\n",
       "      <td>1.095268</td>\n",
       "      <td>-0.150307</td>\n",
       "      <td>-0.792634</td>\n",
       "      <td>0.323712</td>\n",
       "      <td>1.066618</td>\n",
       "      <td>2.013355</td>\n",
       "      <td>0.294600</td>\n",
       "      <td>-0.964375</td>\n",
       "      <td>-0.962857</td>\n",
       "    </tr>\n",
       "    <tr>\n",
       "      <td>Seychelles</td>\n",
       "      <td>2</td>\n",
       "      <td>-0.221965</td>\n",
       "      <td>-0.213465</td>\n",
       "      <td>-0.272216</td>\n",
       "      <td>-0.228506</td>\n",
       "      <td>-0.357064</td>\n",
       "      <td>-1.215359</td>\n",
       "      <td>0.309606</td>\n",
       "      <td>-0.335953</td>\n",
       "      <td>-0.145544</td>\n",
       "      <td>-0.882278</td>\n",
       "      <td>-0.077341</td>\n",
       "      <td>0.397736</td>\n",
       "      <td>0.726699</td>\n",
       "      <td>-0.067854</td>\n",
       "      <td>-0.451494</td>\n",
       "      <td>0.684946</td>\n",
       "      <td>-0.169906</td>\n",
       "      <td>1.540493</td>\n",
       "    </tr>\n",
       "    <tr>\n",
       "      <td>Nepal</td>\n",
       "      <td>0</td>\n",
       "      <td>-0.221965</td>\n",
       "      <td>-0.213153</td>\n",
       "      <td>-0.097055</td>\n",
       "      <td>-0.168550</td>\n",
       "      <td>3.725320</td>\n",
       "      <td>-0.954159</td>\n",
       "      <td>-1.062671</td>\n",
       "      <td>-0.335953</td>\n",
       "      <td>-1.736179</td>\n",
       "      <td>1.035236</td>\n",
       "      <td>-0.086099</td>\n",
       "      <td>-0.809244</td>\n",
       "      <td>-0.059041</td>\n",
       "      <td>-0.814337</td>\n",
       "      <td>0.176707</td>\n",
       "      <td>0.238837</td>\n",
       "      <td>-0.451375</td>\n",
       "      <td>-0.332996</td>\n",
       "    </tr>\n",
       "    <tr>\n",
       "      <td>Estonia</td>\n",
       "      <td>2</td>\n",
       "      <td>-0.213225</td>\n",
       "      <td>-0.190034</td>\n",
       "      <td>-0.264343</td>\n",
       "      <td>-0.248644</td>\n",
       "      <td>-1.047297</td>\n",
       "      <td>-0.268739</td>\n",
       "      <td>0.891783</td>\n",
       "      <td>-0.268294</td>\n",
       "      <td>0.379215</td>\n",
       "      <td>-0.882278</td>\n",
       "      <td>-0.186720</td>\n",
       "      <td>0.635757</td>\n",
       "      <td>0.839671</td>\n",
       "      <td>-0.814337</td>\n",
       "      <td>-0.887878</td>\n",
       "      <td>0.294600</td>\n",
       "      <td>1.652078</td>\n",
       "      <td>1.562969</td>\n",
       "    </tr>\n",
       "    <tr>\n",
       "      <td>Mauritania</td>\n",
       "      <td>0</td>\n",
       "      <td>-0.221735</td>\n",
       "      <td>-0.213528</td>\n",
       "      <td>-0.245981</td>\n",
       "      <td>-0.243185</td>\n",
       "      <td>1.040851</td>\n",
       "      <td>0.553765</td>\n",
       "      <td>-1.021087</td>\n",
       "      <td>-0.288271</td>\n",
       "      <td>-0.275550</td>\n",
       "      <td>1.939257</td>\n",
       "      <td>-0.202596</td>\n",
       "      <td>-0.762603</td>\n",
       "      <td>-0.463996</td>\n",
       "      <td>0.472155</td>\n",
       "      <td>1.538608</td>\n",
       "      <td>-0.318800</td>\n",
       "      <td>-0.843313</td>\n",
       "      <td>0.690043</td>\n",
       "    </tr>\n",
       "  </tbody>\n",
       "</table>\n",
       "</div>"
      ],
      "text/plain": [
       "                cluster    Deaths     Cases  Population   flights  pollution  \\\n",
       "Country/Region                                                                 \n",
       "Kenya                 0 -0.219205 -0.209547    0.043444 -0.094565   0.074012   \n",
       "Seychelles            2 -0.221965 -0.213465   -0.272216 -0.228506  -0.357064   \n",
       "Nepal                 0 -0.221965 -0.213153   -0.097055 -0.168550   3.725320   \n",
       "Estonia               2 -0.213225 -0.190034   -0.264343 -0.248644  -1.047297   \n",
       "Mauritania            0 -0.221735 -0.213528   -0.245981 -0.243185   1.040851   \n",
       "\n",
       "                  unemp%  hospbeds  railways  urbanpop%     slum%  \\\n",
       "Country/Region                                                      \n",
       "Kenya          -0.726303 -0.605245 -0.210395  -1.422356  1.095268   \n",
       "Seychelles     -1.215359  0.309606 -0.335953  -0.145544 -0.882278   \n",
       "Nepal          -0.954159 -1.062671 -0.335953  -1.736179  1.035236   \n",
       "Estonia        -0.268739  0.891783 -0.268294   0.379215 -0.882278   \n",
       "Mauritania      0.553765 -1.021087 -0.288271  -0.275550  1.939257   \n",
       "\n",
       "                popdensity%   GDP/cap  literacy  deposit rate  COD disease  \\\n",
       "Country/Region                                                               \n",
       "Kenya             -0.150307 -0.792634  0.323712      1.066618     2.013355   \n",
       "Seychelles        -0.077341  0.397736  0.726699     -0.067854    -0.451494   \n",
       "Nepal             -0.086099 -0.809244 -0.059041     -0.814337     0.176707   \n",
       "Estonia           -0.186720  0.635757  0.839671     -0.814337    -0.887878   \n",
       "Mauritania        -0.202596 -0.762603 -0.463996      0.472155     1.538608   \n",
       "\n",
       "                DTP immunized  pop% >= 65    trade%  \n",
       "Country/Region                                       \n",
       "Kenya                0.294600   -0.964375 -0.962857  \n",
       "Seychelles           0.684946   -0.169906  1.540493  \n",
       "Nepal                0.238837   -0.451375 -0.332996  \n",
       "Estonia              0.294600    1.652078  1.562969  \n",
       "Mauritania          -0.318800   -0.843313  0.690043  "
      ]
     },
     "metadata": {},
     "output_type": "display_data"
    },
    {
     "data": {
      "text/html": [
       "<div>\n",
       "<style scoped>\n",
       "    .dataframe tbody tr th:only-of-type {\n",
       "        vertical-align: middle;\n",
       "    }\n",
       "\n",
       "    .dataframe tbody tr th {\n",
       "        vertical-align: top;\n",
       "    }\n",
       "\n",
       "    .dataframe thead th {\n",
       "        text-align: right;\n",
       "    }\n",
       "</style>\n",
       "<table border=\"1\" class=\"dataframe\">\n",
       "  <thead>\n",
       "    <tr style=\"text-align: right;\">\n",
       "      <th></th>\n",
       "      <th>cluster</th>\n",
       "      <th>Deaths</th>\n",
       "      <th>Cases</th>\n",
       "      <th>Population</th>\n",
       "      <th>flights</th>\n",
       "      <th>pollution</th>\n",
       "      <th>unemp%</th>\n",
       "      <th>hospbeds</th>\n",
       "      <th>railways</th>\n",
       "      <th>urbanpop%</th>\n",
       "      <th>slum%</th>\n",
       "      <th>popdensity%</th>\n",
       "      <th>GDP/cap</th>\n",
       "      <th>literacy</th>\n",
       "      <th>deposit rate</th>\n",
       "      <th>COD disease</th>\n",
       "      <th>DTP immunized</th>\n",
       "      <th>pop% &gt;= 65</th>\n",
       "      <th>trade%</th>\n",
       "    </tr>\n",
       "    <tr>\n",
       "      <th>Country/Region</th>\n",
       "      <th></th>\n",
       "      <th></th>\n",
       "      <th></th>\n",
       "      <th></th>\n",
       "      <th></th>\n",
       "      <th></th>\n",
       "      <th></th>\n",
       "      <th></th>\n",
       "      <th></th>\n",
       "      <th></th>\n",
       "      <th></th>\n",
       "      <th></th>\n",
       "      <th></th>\n",
       "      <th></th>\n",
       "      <th></th>\n",
       "      <th></th>\n",
       "      <th></th>\n",
       "      <th></th>\n",
       "      <th></th>\n",
       "    </tr>\n",
       "  </thead>\n",
       "  <tbody>\n",
       "    <tr>\n",
       "      <td>Poland</td>\n",
       "      <td>2</td>\n",
       "      <td>-0.142149</td>\n",
       "      <td>-0.077168</td>\n",
       "      <td>-0.028007</td>\n",
       "      <td>-0.109993</td>\n",
       "      <td>-0.321141</td>\n",
       "      <td>-0.572546</td>\n",
       "      <td>1.515545</td>\n",
       "      <td>0.878101</td>\n",
       "      <td>-0.000471</td>\n",
       "      <td>-0.882278</td>\n",
       "      <td>-0.129800</td>\n",
       "      <td>0.431989</td>\n",
       "      <td>0.807353</td>\n",
       "      <td>-0.814337</td>\n",
       "      <td>-0.782378</td>\n",
       "      <td>0.461891</td>\n",
       "      <td>1.332777</td>\n",
       "      <td>0.797424</td>\n",
       "    </tr>\n",
       "    <tr>\n",
       "      <td>China</td>\n",
       "      <td>1</td>\n",
       "      <td>0.844402</td>\n",
       "      <td>1.094335</td>\n",
       "      <td>8.616390</td>\n",
       "      <td>5.034622</td>\n",
       "      <td>1.309760</td>\n",
       "      <td>-0.415085</td>\n",
       "      <td>0.559110</td>\n",
       "      <td>4.086081</td>\n",
       "      <td>-0.039645</td>\n",
       "      <td>0.007618</td>\n",
       "      <td>-0.115024</td>\n",
       "      <td>-0.143651</td>\n",
       "      <td>0.753958</td>\n",
       "      <td>-0.473995</td>\n",
       "      <td>-0.839924</td>\n",
       "      <td>0.684946</td>\n",
       "      <td>0.334015</td>\n",
       "      <td>-0.757250</td>\n",
       "    </tr>\n",
       "    <tr>\n",
       "      <td>Japan</td>\n",
       "      <td>2</td>\n",
       "      <td>-0.170901</td>\n",
       "      <td>-0.052909</td>\n",
       "      <td>0.545996</td>\n",
       "      <td>0.876213</td>\n",
       "      <td>-0.792244</td>\n",
       "      <td>-0.791140</td>\n",
       "      <td>4.384850</td>\n",
       "      <td>0.767784</td>\n",
       "      <td>1.358133</td>\n",
       "      <td>-0.882278</td>\n",
       "      <td>0.005758</td>\n",
       "      <td>0.935603</td>\n",
       "      <td>-1.967469</td>\n",
       "      <td>-0.741731</td>\n",
       "      <td>-0.413131</td>\n",
       "      <td>0.684946</td>\n",
       "      <td>2.855132</td>\n",
       "      <td>-0.869904</td>\n",
       "    </tr>\n",
       "    <tr>\n",
       "      <td>Spain</td>\n",
       "      <td>2</td>\n",
       "      <td>4.388304</td>\n",
       "      <td>2.779336</td>\n",
       "      <td>0.026889</td>\n",
       "      <td>0.472386</td>\n",
       "      <td>-0.894881</td>\n",
       "      <td>1.370712</td>\n",
       "      <td>0.060101</td>\n",
       "      <td>0.686980</td>\n",
       "      <td>0.871687</td>\n",
       "      <td>-0.882278</td>\n",
       "      <td>-0.148344</td>\n",
       "      <td>0.800173</td>\n",
       "      <td>0.798922</td>\n",
       "      <td>-0.814337</td>\n",
       "      <td>-0.777583</td>\n",
       "      <td>0.350364</td>\n",
       "      <td>1.614246</td>\n",
       "      <td>-0.266125</td>\n",
       "    </tr>\n",
       "    <tr>\n",
       "      <td>India</td>\n",
       "      <td>1</td>\n",
       "      <td>-0.102126</td>\n",
       "      <td>0.031794</td>\n",
       "      <td>8.267212</td>\n",
       "      <td>1.102036</td>\n",
       "      <td>3.270638</td>\n",
       "      <td>-0.222427</td>\n",
       "      <td>-0.896334</td>\n",
       "      <td>4.146863</td>\n",
       "      <td>-1.121018</td>\n",
       "      <td>-0.034758</td>\n",
       "      <td>0.071322</td>\n",
       "      <td>-0.603889</td>\n",
       "      <td>0.122500</td>\n",
       "      <td>-0.814337</td>\n",
       "      <td>0.224661</td>\n",
       "      <td>0.127309</td>\n",
       "      <td>-0.383277</td>\n",
       "      <td>-0.846318</td>\n",
       "    </tr>\n",
       "  </tbody>\n",
       "</table>\n",
       "</div>"
      ],
      "text/plain": [
       "                cluster    Deaths     Cases  Population   flights  pollution  \\\n",
       "Country/Region                                                                 \n",
       "Poland                2 -0.142149 -0.077168   -0.028007 -0.109993  -0.321141   \n",
       "China                 1  0.844402  1.094335    8.616390  5.034622   1.309760   \n",
       "Japan                 2 -0.170901 -0.052909    0.545996  0.876213  -0.792244   \n",
       "Spain                 2  4.388304  2.779336    0.026889  0.472386  -0.894881   \n",
       "India                 1 -0.102126  0.031794    8.267212  1.102036   3.270638   \n",
       "\n",
       "                  unemp%  hospbeds  railways  urbanpop%     slum%  \\\n",
       "Country/Region                                                      \n",
       "Poland         -0.572546  1.515545  0.878101  -0.000471 -0.882278   \n",
       "China          -0.415085  0.559110  4.086081  -0.039645  0.007618   \n",
       "Japan          -0.791140  4.384850  0.767784   1.358133 -0.882278   \n",
       "Spain           1.370712  0.060101  0.686980   0.871687 -0.882278   \n",
       "India          -0.222427 -0.896334  4.146863  -1.121018 -0.034758   \n",
       "\n",
       "                popdensity%   GDP/cap  literacy  deposit rate  COD disease  \\\n",
       "Country/Region                                                               \n",
       "Poland            -0.129800  0.431989  0.807353     -0.814337    -0.782378   \n",
       "China             -0.115024 -0.143651  0.753958     -0.473995    -0.839924   \n",
       "Japan              0.005758  0.935603 -1.967469     -0.741731    -0.413131   \n",
       "Spain             -0.148344  0.800173  0.798922     -0.814337    -0.777583   \n",
       "India              0.071322 -0.603889  0.122500     -0.814337     0.224661   \n",
       "\n",
       "                DTP immunized  pop% >= 65    trade%  \n",
       "Country/Region                                       \n",
       "Poland               0.461891    1.332777  0.797424  \n",
       "China                0.684946    0.334015 -0.757250  \n",
       "Japan                0.684946    2.855132 -0.869904  \n",
       "Spain                0.350364    1.614246 -0.266125  \n",
       "India                0.127309   -0.383277 -0.846318  "
      ]
     },
     "metadata": {},
     "output_type": "display_data"
    },
    {
     "data": {
      "text/html": [
       "<div>\n",
       "<style scoped>\n",
       "    .dataframe tbody tr th:only-of-type {\n",
       "        vertical-align: middle;\n",
       "    }\n",
       "\n",
       "    .dataframe tbody tr th {\n",
       "        vertical-align: top;\n",
       "    }\n",
       "\n",
       "    .dataframe thead th {\n",
       "        text-align: right;\n",
       "    }\n",
       "</style>\n",
       "<table border=\"1\" class=\"dataframe\">\n",
       "  <thead>\n",
       "    <tr style=\"text-align: right;\">\n",
       "      <th></th>\n",
       "      <th>Cases</th>\n",
       "    </tr>\n",
       "    <tr>\n",
       "      <th>cluster</th>\n",
       "      <th></th>\n",
       "    </tr>\n",
       "  </thead>\n",
       "  <tbody>\n",
       "    <tr>\n",
       "      <td>0</td>\n",
       "      <td>50</td>\n",
       "    </tr>\n",
       "    <tr>\n",
       "      <td>1</td>\n",
       "      <td>2</td>\n",
       "    </tr>\n",
       "    <tr>\n",
       "      <td>2</td>\n",
       "      <td>75</td>\n",
       "    </tr>\n",
       "  </tbody>\n",
       "</table>\n",
       "</div>"
      ],
      "text/plain": [
       "         Cases\n",
       "cluster       \n",
       "0           50\n",
       "1            2\n",
       "2           75"
      ]
     },
     "metadata": {},
     "output_type": "display_data"
    },
    {
     "data": {
      "text/html": [
       "<div>\n",
       "<style scoped>\n",
       "    .dataframe tbody tr th:only-of-type {\n",
       "        vertical-align: middle;\n",
       "    }\n",
       "\n",
       "    .dataframe tbody tr th {\n",
       "        vertical-align: top;\n",
       "    }\n",
       "\n",
       "    .dataframe thead th {\n",
       "        text-align: right;\n",
       "    }\n",
       "</style>\n",
       "<table border=\"1\" class=\"dataframe\">\n",
       "  <thead>\n",
       "    <tr style=\"text-align: right;\">\n",
       "      <th></th>\n",
       "      <th>Cases</th>\n",
       "    </tr>\n",
       "    <tr>\n",
       "      <th>cluster</th>\n",
       "      <th></th>\n",
       "    </tr>\n",
       "  </thead>\n",
       "  <tbody>\n",
       "    <tr>\n",
       "      <td>0</td>\n",
       "      <td>14</td>\n",
       "    </tr>\n",
       "    <tr>\n",
       "      <td>1</td>\n",
       "      <td>1</td>\n",
       "    </tr>\n",
       "    <tr>\n",
       "      <td>2</td>\n",
       "      <td>17</td>\n",
       "    </tr>\n",
       "  </tbody>\n",
       "</table>\n",
       "</div>"
      ],
      "text/plain": [
       "         Cases\n",
       "cluster       \n",
       "0           14\n",
       "1            1\n",
       "2           17"
      ]
     },
     "metadata": {},
     "output_type": "display_data"
    }
   ],
   "source": [
    "from sklearn.model_selection import train_test_split\n",
    "\n",
    "df_gm5 = df_sc.copy()\n",
    "df_train,df_test = train_test_split(df_gm5,test_size=0.2)\n",
    "\n",
    "display('train',df_train.shape, df_train.head(3))\n",
    "display('test',df_test.shape, df_test.head(3))\n",
    "\n",
    "kmeans = KMeans(n_clusters=3, random_state=0).fit(df_train) # train on sample rows\n",
    "\n",
    "display(f'kmeans info - inertia: {kmeans.inertia_}, iters: {kmeans.n_iter_}')    # training info \n",
    "display(f'labels: {kmeans.labels_}')                       # k-labels\n",
    "#display('k centers', kmeans.cluster_centers_)                           # k-centers\n",
    "#display(f'kmeans.predict x2: {kmeans.predict(df_test)}')  # evaluate 2 arb points\n",
    "display(f'score {kmeans.score(df_test)}') # score\n",
    "#display(f'transform: {kmeans.transform(df_test)}')  # what does this do, distance of each pt ?\n",
    "\n",
    "def fl_col(df):\n",
    "    return pd.concat([df.iloc[:,0:3],df.iloc[:,-2:]], axis=1)\n",
    "    \n",
    "df_train.insert(0, 'cluster', kmeans.labels_)\n",
    "df_test.insert(0, 'cluster', kmeans.predict(df_test))\n",
    "display('train',(df_train).head())\n",
    "display('test',(df_test).head())\n",
    "display(df_train[df_train.index.isin(['China','Japan','United States','Italy','Spain','India','Poland'])])\n",
    "\n",
    "display(df_train[['cluster','Cases']].groupby(by=['cluster']).count())\n",
    "display(df_test[['cluster','Cases']].groupby(by=['cluster']).count())\n"
   ]
  },
  {
   "cell_type": "markdown",
   "metadata": {},
   "source": [
    "## DBSCAN\n",
    "\n",
    "I saw a presentation by Healy & McInnes on Youtube that basically said KMeans sucks, and we should use DBScan or their upgraded version HDBScan.   https://www.youtube.com/watch?v=ayZQj4llUSU&t=1824s\n"
   ]
  },
  {
   "cell_type": "code",
   "execution_count": 102,
   "metadata": {},
   "outputs": [
    {
     "data": {
      "text/plain": [
       "\"model: DBSCAN(algorithm='auto', eps=3, leaf_size=30, metric='euclidean',\\n       metric_params=None, min_samples=2, n_jobs=None, p=None)\""
      ]
     },
     "metadata": {},
     "output_type": "display_data"
    },
    {
     "data": {
      "text/plain": [
       "array([-1,  0,  0,  1, -1,  1, -1,  2,  3,  3], dtype=int64)"
      ]
     },
     "metadata": {},
     "output_type": "display_data"
    },
    {
     "data": {
      "text/plain": [
       "'core_sample_indices_[0:10]: [ 1  2  3  5  7  8  9 10 11 12]'"
      ]
     },
     "metadata": {},
     "output_type": "display_data"
    },
    {
     "data": {
      "text/plain": [
       "'components_[0]: [ 4.38830368  2.77933577  0.02688869  0.47238554 -0.89488095  1.37071175\\n  0.06010084  0.68698041  0.87168744 -0.88227803 -0.1483439   0.80017278\\n  0.79892219 -0.81433719 -0.77758298  0.35036395  1.61424593 -0.26612507]'"
      ]
     },
     "metadata": {},
     "output_type": "display_data"
    },
    {
     "data": {
      "text/plain": [
       "'labels/fit_predict[0:10]: [-1  0  0  1 -1  1 -1  2  3  3]'"
      ]
     },
     "metadata": {},
     "output_type": "display_data"
    },
    {
     "data": {
      "text/plain": [
       "'train2'"
      ]
     },
     "metadata": {},
     "output_type": "display_data"
    },
    {
     "data": {
      "text/html": [
       "<div>\n",
       "<style scoped>\n",
       "    .dataframe tbody tr th:only-of-type {\n",
       "        vertical-align: middle;\n",
       "    }\n",
       "\n",
       "    .dataframe tbody tr th {\n",
       "        vertical-align: top;\n",
       "    }\n",
       "\n",
       "    .dataframe thead th {\n",
       "        text-align: right;\n",
       "    }\n",
       "</style>\n",
       "<table border=\"1\" class=\"dataframe\">\n",
       "  <thead>\n",
       "    <tr style=\"text-align: right;\">\n",
       "      <th></th>\n",
       "      <th>Deaths</th>\n",
       "      <th>Cases</th>\n",
       "      <th>Population</th>\n",
       "      <th>trade%</th>\n",
       "      <th>cluster</th>\n",
       "    </tr>\n",
       "    <tr>\n",
       "      <th>Country/Region</th>\n",
       "      <th></th>\n",
       "      <th></th>\n",
       "      <th></th>\n",
       "      <th></th>\n",
       "      <th></th>\n",
       "    </tr>\n",
       "  </thead>\n",
       "  <tbody>\n",
       "    <tr>\n",
       "      <td>United States</td>\n",
       "      <td>8.671486</td>\n",
       "      <td>11.216454</td>\n",
       "      <td>1.809402</td>\n",
       "      <td>-1.121848</td>\n",
       "      <td>-1</td>\n",
       "    </tr>\n",
       "    <tr>\n",
       "      <td>Spain</td>\n",
       "      <td>4.388304</td>\n",
       "      <td>2.779336</td>\n",
       "      <td>0.026889</td>\n",
       "      <td>-0.266125</td>\n",
       "      <td>0</td>\n",
       "    </tr>\n",
       "    <tr>\n",
       "      <td>Italy</td>\n",
       "      <td>5.120684</td>\n",
       "      <td>2.532671</td>\n",
       "      <td>0.118081</td>\n",
       "      <td>-0.305249</td>\n",
       "      <td>0</td>\n",
       "    </tr>\n",
       "    <tr>\n",
       "      <td>France</td>\n",
       "      <td>4.227750</td>\n",
       "      <td>2.114680</td>\n",
       "      <td>0.157372</td>\n",
       "      <td>-0.446759</td>\n",
       "      <td>1</td>\n",
       "    </tr>\n",
       "    <tr>\n",
       "      <td>Germany</td>\n",
       "      <td>0.803689</td>\n",
       "      <td>2.024029</td>\n",
       "      <td>0.258133</td>\n",
       "      <td>0.301027</td>\n",
       "      <td>-1</td>\n",
       "    </tr>\n",
       "    <tr>\n",
       "      <td>United States</td>\n",
       "      <td>8.671486</td>\n",
       "      <td>11.216454</td>\n",
       "      <td>1.809402</td>\n",
       "      <td>-1.121848</td>\n",
       "      <td>-1</td>\n",
       "    </tr>\n",
       "    <tr>\n",
       "      <td>Spain</td>\n",
       "      <td>4.388304</td>\n",
       "      <td>2.779336</td>\n",
       "      <td>0.026889</td>\n",
       "      <td>-0.266125</td>\n",
       "      <td>0</td>\n",
       "    </tr>\n",
       "    <tr>\n",
       "      <td>Italy</td>\n",
       "      <td>5.120684</td>\n",
       "      <td>2.532671</td>\n",
       "      <td>0.118081</td>\n",
       "      <td>-0.305249</td>\n",
       "      <td>0</td>\n",
       "    </tr>\n",
       "    <tr>\n",
       "      <td>China</td>\n",
       "      <td>0.844402</td>\n",
       "      <td>1.094335</td>\n",
       "      <td>8.616390</td>\n",
       "      <td>-0.757250</td>\n",
       "      <td>-1</td>\n",
       "    </tr>\n",
       "    <tr>\n",
       "      <td>India</td>\n",
       "      <td>-0.102126</td>\n",
       "      <td>0.031794</td>\n",
       "      <td>8.267212</td>\n",
       "      <td>-0.846318</td>\n",
       "      <td>-1</td>\n",
       "    </tr>\n",
       "    <tr>\n",
       "      <td>Japan</td>\n",
       "      <td>-0.170901</td>\n",
       "      <td>-0.052909</td>\n",
       "      <td>0.545996</td>\n",
       "      <td>-0.869904</td>\n",
       "      <td>-1</td>\n",
       "    </tr>\n",
       "    <tr>\n",
       "      <td>Poland</td>\n",
       "      <td>-0.142149</td>\n",
       "      <td>-0.077168</td>\n",
       "      <td>-0.028007</td>\n",
       "      <td>0.797424</td>\n",
       "      <td>3</td>\n",
       "    </tr>\n",
       "  </tbody>\n",
       "</table>\n",
       "</div>"
      ],
      "text/plain": [
       "                  Deaths      Cases  Population    trade%  cluster\n",
       "Country/Region                                                    \n",
       "United States   8.671486  11.216454    1.809402 -1.121848       -1\n",
       "Spain           4.388304   2.779336    0.026889 -0.266125        0\n",
       "Italy           5.120684   2.532671    0.118081 -0.305249        0\n",
       "France          4.227750   2.114680    0.157372 -0.446759        1\n",
       "Germany         0.803689   2.024029    0.258133  0.301027       -1\n",
       "United States   8.671486  11.216454    1.809402 -1.121848       -1\n",
       "Spain           4.388304   2.779336    0.026889 -0.266125        0\n",
       "Italy           5.120684   2.532671    0.118081 -0.305249        0\n",
       "China           0.844402   1.094335    8.616390 -0.757250       -1\n",
       "India          -0.102126   0.031794    8.267212 -0.846318       -1\n",
       "Japan          -0.170901  -0.052909    0.545996 -0.869904       -1\n",
       "Poland         -0.142149  -0.077168   -0.028007  0.797424        3"
      ]
     },
     "metadata": {},
     "output_type": "display_data"
    }
   ],
   "source": [
    "from sklearn.cluster import DBSCAN\n",
    "import numpy as np\n",
    "\n",
    "df_train = df_gm5\n",
    "clustering = DBSCAN(eps=3, min_samples=2).fit(df_train)\n",
    "components = clustering.components_\n",
    "labels =clustering.labels_\n",
    "core_sample_indices = clustering.core_sample_indices_\n",
    "display(f'model: {clustering}')\n",
    "display(labels[0:10])\n",
    "\n",
    "display(f'core_sample_indices_[0:10]: {core_sample_indices[0:10]}')\n",
    "display(f'components_[0]: {components[0]}')    \n",
    "display(f'labels/fit_predict[0:10]: {labels[0:10]}')                       \n",
    "\n",
    "def fl_col(df):\n",
    "    return pd.concat([df.iloc[:,0:3],df.iloc[:,-2:]], axis=1)\n",
    "    \n",
    "df_train['cluster'] = clustering.labels_\n",
    "display('train2',pd.concat([fl_col(df_train).head(), \n",
    "                            fl_col(df_train[df_train.index.isin(['China','Japan','United States','Italy','Spain','India','Poland'])])]))\n"
   ]
  },
  {
   "cell_type": "markdown",
   "metadata": {},
   "source": [
    "## Dimension Reduction\n",
    "\n",
    "Most research tells us due to \"Curse of Dimensionality\" that you need to reduce dims before you run clustering, so I have this backwards..  will redo after we apply PCA and/or T-SNE.\n"
   ]
  },
  {
   "cell_type": "code",
   "execution_count": 12,
   "metadata": {
    "scrolled": false
   },
   "outputs": [
    {
     "data": {
      "text/html": [
       "<div>\n",
       "<style scoped>\n",
       "    .dataframe tbody tr th:only-of-type {\n",
       "        vertical-align: middle;\n",
       "    }\n",
       "\n",
       "    .dataframe tbody tr th {\n",
       "        vertical-align: top;\n",
       "    }\n",
       "\n",
       "    .dataframe thead th {\n",
       "        text-align: right;\n",
       "    }\n",
       "</style>\n",
       "<table border=\"1\" class=\"dataframe\">\n",
       "  <thead>\n",
       "    <tr style=\"text-align: right;\">\n",
       "      <th></th>\n",
       "      <th>Deaths</th>\n",
       "      <th>Cases</th>\n",
       "      <th>Population</th>\n",
       "      <th>flights</th>\n",
       "      <th>pollution</th>\n",
       "      <th>unemp%</th>\n",
       "      <th>hospbeds</th>\n",
       "      <th>railways</th>\n",
       "      <th>urbanpop%</th>\n",
       "      <th>slum%</th>\n",
       "      <th>...</th>\n",
       "      <th>pop% &gt;= 65</th>\n",
       "      <th>trade%</th>\n",
       "      <th>cluster</th>\n",
       "      <th>PC1_1d</th>\n",
       "      <th>PC1_2d</th>\n",
       "      <th>PC2_2d</th>\n",
       "      <th>PC1_3d</th>\n",
       "      <th>PC2_3d</th>\n",
       "      <th>PC3_3d</th>\n",
       "      <th>dummy</th>\n",
       "    </tr>\n",
       "    <tr>\n",
       "      <th>Country/Region</th>\n",
       "      <th></th>\n",
       "      <th></th>\n",
       "      <th></th>\n",
       "      <th></th>\n",
       "      <th></th>\n",
       "      <th></th>\n",
       "      <th></th>\n",
       "      <th></th>\n",
       "      <th></th>\n",
       "      <th></th>\n",
       "      <th></th>\n",
       "      <th></th>\n",
       "      <th></th>\n",
       "      <th></th>\n",
       "      <th></th>\n",
       "      <th></th>\n",
       "      <th></th>\n",
       "      <th></th>\n",
       "      <th></th>\n",
       "      <th></th>\n",
       "      <th></th>\n",
       "    </tr>\n",
       "  </thead>\n",
       "  <tbody>\n",
       "    <tr>\n",
       "      <td>Barbados</td>\n",
       "      <td>-0.220815</td>\n",
       "      <td>-0.212466</td>\n",
       "      <td>-0.270984</td>\n",
       "      <td>-0.248745</td>\n",
       "      <td>-0.208240</td>\n",
       "      <td>0.698259</td>\n",
       "      <td>1.224456</td>\n",
       "      <td>-0.335953</td>\n",
       "      <td>-1.244997</td>\n",
       "      <td>-0.882278</td>\n",
       "      <td>...</td>\n",
       "      <td>1.072493</td>\n",
       "      <td>-0.604918</td>\n",
       "      <td>2</td>\n",
       "      <td>-1.074543</td>\n",
       "      <td>-1.074543</td>\n",
       "      <td>-0.166616</td>\n",
       "      <td>-1.074543</td>\n",
       "      <td>-0.166616</td>\n",
       "      <td>-0.315102</td>\n",
       "      <td>0</td>\n",
       "    </tr>\n",
       "    <tr>\n",
       "      <td>Colombia</td>\n",
       "      <td>-0.186772</td>\n",
       "      <td>-0.159952</td>\n",
       "      <td>0.037768</td>\n",
       "      <td>0.154601</td>\n",
       "      <td>-0.544376</td>\n",
       "      <td>0.583405</td>\n",
       "      <td>-0.563661</td>\n",
       "      <td>-0.335953</td>\n",
       "      <td>0.891490</td>\n",
       "      <td>-0.419673</td>\n",
       "      <td>...</td>\n",
       "      <td>-0.035224</td>\n",
       "      <td>-0.919848</td>\n",
       "      <td>2</td>\n",
       "      <td>-0.395942</td>\n",
       "      <td>-0.395942</td>\n",
       "      <td>0.033339</td>\n",
       "      <td>-0.395942</td>\n",
       "      <td>0.033339</td>\n",
       "      <td>-0.657520</td>\n",
       "      <td>0</td>\n",
       "    </tr>\n",
       "    <tr>\n",
       "      <td>Grenada</td>\n",
       "      <td>-0.221965</td>\n",
       "      <td>-0.213418</td>\n",
       "      <td>-0.272116</td>\n",
       "      <td>-0.249533</td>\n",
       "      <td>-0.226715</td>\n",
       "      <td>-1.215359</td>\n",
       "      <td>0.351190</td>\n",
       "      <td>-0.335953</td>\n",
       "      <td>-1.024590</td>\n",
       "      <td>-0.670398</td>\n",
       "      <td>...</td>\n",
       "      <td>0.137289</td>\n",
       "      <td>-0.548591</td>\n",
       "      <td>2</td>\n",
       "      <td>-0.346801</td>\n",
       "      <td>-0.346801</td>\n",
       "      <td>-0.331724</td>\n",
       "      <td>-0.346801</td>\n",
       "      <td>-0.331724</td>\n",
       "      <td>0.281922</td>\n",
       "      <td>0</td>\n",
       "    </tr>\n",
       "    <tr>\n",
       "      <td>New Zealand</td>\n",
       "      <td>-0.219435</td>\n",
       "      <td>-0.191439</td>\n",
       "      <td>-0.242566</td>\n",
       "      <td>-0.037975</td>\n",
       "      <td>-1.086812</td>\n",
       "      <td>-0.461397</td>\n",
       "      <td>-0.023067</td>\n",
       "      <td>-0.079990</td>\n",
       "      <td>1.139448</td>\n",
       "      <td>-0.882278</td>\n",
       "      <td>...</td>\n",
       "      <td>1.049794</td>\n",
       "      <td>-0.569124</td>\n",
       "      <td>2</td>\n",
       "      <td>-1.927439</td>\n",
       "      <td>-1.927439</td>\n",
       "      <td>-0.412579</td>\n",
       "      <td>-1.927439</td>\n",
       "      <td>-0.412579</td>\n",
       "      <td>1.786860</td>\n",
       "      <td>0</td>\n",
       "    </tr>\n",
       "    <tr>\n",
       "      <td>Canada</td>\n",
       "      <td>0.099831</td>\n",
       "      <td>0.322668</td>\n",
       "      <td>-0.040003</td>\n",
       "      <td>1.411687</td>\n",
       "      <td>-1.062692</td>\n",
       "      <td>-0.185377</td>\n",
       "      <td>-0.064652</td>\n",
       "      <td>2.787432</td>\n",
       "      <td>0.918610</td>\n",
       "      <td>-0.882278</td>\n",
       "      <td>...</td>\n",
       "      <td>1.288892</td>\n",
       "      <td>-0.211741</td>\n",
       "      <td>2</td>\n",
       "      <td>-2.504237</td>\n",
       "      <td>-2.504237</td>\n",
       "      <td>1.547160</td>\n",
       "      <td>-2.504237</td>\n",
       "      <td>1.547160</td>\n",
       "      <td>2.209163</td>\n",
       "      <td>0</td>\n",
       "    </tr>\n",
       "  </tbody>\n",
       "</table>\n",
       "<p>5 rows × 26 columns</p>\n",
       "</div>"
      ],
      "text/plain": [
       "                  Deaths     Cases  Population   flights  pollution    unemp%  \\\n",
       "Country/Region                                                                  \n",
       "Barbados       -0.220815 -0.212466   -0.270984 -0.248745  -0.208240  0.698259   \n",
       "Colombia       -0.186772 -0.159952    0.037768  0.154601  -0.544376  0.583405   \n",
       "Grenada        -0.221965 -0.213418   -0.272116 -0.249533  -0.226715 -1.215359   \n",
       "New Zealand    -0.219435 -0.191439   -0.242566 -0.037975  -1.086812 -0.461397   \n",
       "Canada          0.099831  0.322668   -0.040003  1.411687  -1.062692 -0.185377   \n",
       "\n",
       "                hospbeds  railways  urbanpop%     slum%  ...  pop% >= 65  \\\n",
       "Country/Region                                           ...               \n",
       "Barbados        1.224456 -0.335953  -1.244997 -0.882278  ...    1.072493   \n",
       "Colombia       -0.563661 -0.335953   0.891490 -0.419673  ...   -0.035224   \n",
       "Grenada         0.351190 -0.335953  -1.024590 -0.670398  ...    0.137289   \n",
       "New Zealand    -0.023067 -0.079990   1.139448 -0.882278  ...    1.049794   \n",
       "Canada         -0.064652  2.787432   0.918610 -0.882278  ...    1.288892   \n",
       "\n",
       "                  trade%  cluster    PC1_1d    PC1_2d    PC2_2d    PC1_3d  \\\n",
       "Country/Region                                                              \n",
       "Barbados       -0.604918        2 -1.074543 -1.074543 -0.166616 -1.074543   \n",
       "Colombia       -0.919848        2 -0.395942 -0.395942  0.033339 -0.395942   \n",
       "Grenada        -0.548591        2 -0.346801 -0.346801 -0.331724 -0.346801   \n",
       "New Zealand    -0.569124        2 -1.927439 -1.927439 -0.412579 -1.927439   \n",
       "Canada         -0.211741        2 -2.504237 -2.504237  1.547160 -2.504237   \n",
       "\n",
       "                  PC2_3d    PC3_3d  dummy  \n",
       "Country/Region                             \n",
       "Barbados       -0.166616 -0.315102      0  \n",
       "Colombia        0.033339 -0.657520      0  \n",
       "Grenada        -0.331724  0.281922      0  \n",
       "New Zealand    -0.412579  1.786860      0  \n",
       "Canada          1.547160  2.209163      0  \n",
       "\n",
       "[5 rows x 26 columns]"
      ]
     },
     "execution_count": 12,
     "metadata": {},
     "output_type": "execute_result"
    }
   ],
   "source": [
    "# method copied from kaggle: https://www.kaggle.com/minc33/visualizing-high-dimensional-clusters\n",
    "#sklearn imports\n",
    "from sklearn.decomposition import PCA #Principal Component Analysis\n",
    "from sklearn.manifold import TSNE #T-Distributed Stochastic Neighbor Embedding\n",
    "from sklearn.cluster import KMeans #K-Means Clustering\n",
    "from sklearn.preprocessing import StandardScaler #used for 'Feature Scaling'\n",
    "\n",
    "plotX = df_train.copy()\n",
    "\n",
    "pca_1d = PCA(n_components=1)\n",
    "pca_2d = PCA(n_components=2)\n",
    "pca_3d = PCA(n_components=3)\n",
    "\n",
    "PCs_1d = pd.DataFrame(pca_1d.fit_transform(plotX.drop([\"cluster\"], axis=1)), index=plotX.index)\n",
    "PCs_2d = pd.DataFrame(pca_2d.fit_transform(plotX.drop([\"cluster\"], axis=1)), index=plotX.index)\n",
    "PCs_3d = pd.DataFrame(pca_3d.fit_transform(plotX.drop([\"cluster\"], axis=1)), index=plotX.index)\n",
    "\n",
    "PCs_1d.columns = [\"PC1_1d\"]\n",
    "PCs_2d.columns = [\"PC1_2d\", \"PC2_2d\"]\n",
    "PCs_3d.columns = [\"PC1_3d\", \"PC2_3d\", \"PC3_3d\"]\n",
    "\n",
    "plotX = pd.concat([plotX,PCs_1d,PCs_2d,PCs_3d], axis=1, join='inner')\n",
    "plotX[\"dummy\"] = 0\n",
    "cluster0 = plotX[plotX[\"cluster\"] == 0]\n",
    "cluster1 = plotX[plotX[\"cluster\"] == 1]\n",
    "cluster2 = plotX[plotX[\"cluster\"] == 2]\n",
    "\n",
    "\n",
    "cluster2.head()\n"
   ]
  },
  {
   "cell_type": "markdown",
   "metadata": {},
   "source": [
    "## Alt Plotting"
   ]
  },
  {
   "cell_type": "code",
   "execution_count": 76,
   "metadata": {
    "scrolled": false
   },
   "outputs": [
    {
     "data": {
      "image/png": "[encoded data removed]",
      "text/plain": [
       "<Figure size 1296x864 with 1 Axes>"
      ]
     },
     "metadata": {},
     "output_type": "display_data"
    },
    {
     "data": {
      "text/html": [
       "<div>\n",
       "<style scoped>\n",
       "    .dataframe tbody tr th:only-of-type {\n",
       "        vertical-align: middle;\n",
       "    }\n",
       "\n",
       "    .dataframe tbody tr th {\n",
       "        vertical-align: top;\n",
       "    }\n",
       "\n",
       "    .dataframe thead th {\n",
       "        text-align: right;\n",
       "    }\n",
       "</style>\n",
       "<table border=\"1\" class=\"dataframe\">\n",
       "  <thead>\n",
       "    <tr style=\"text-align: right;\">\n",
       "      <th></th>\n",
       "      <th>Deaths</th>\n",
       "      <th>Cases</th>\n",
       "      <th>Population</th>\n",
       "      <th>flights</th>\n",
       "      <th>pollution</th>\n",
       "      <th>unemp%</th>\n",
       "      <th>hospbeds</th>\n",
       "      <th>railways</th>\n",
       "      <th>urbanpop%</th>\n",
       "      <th>slum%</th>\n",
       "      <th>popdensity%</th>\n",
       "      <th>GDP/cap</th>\n",
       "      <th>literacy</th>\n",
       "      <th>deposit rate</th>\n",
       "      <th>COD disease</th>\n",
       "      <th>DTP immunized</th>\n",
       "      <th>pop% &gt;= 65</th>\n",
       "      <th>trade%</th>\n",
       "      <th>cluster</th>\n",
       "    </tr>\n",
       "    <tr>\n",
       "      <th>Country/Region</th>\n",
       "      <th></th>\n",
       "      <th></th>\n",
       "      <th></th>\n",
       "      <th></th>\n",
       "      <th></th>\n",
       "      <th></th>\n",
       "      <th></th>\n",
       "      <th></th>\n",
       "      <th></th>\n",
       "      <th></th>\n",
       "      <th></th>\n",
       "      <th></th>\n",
       "      <th></th>\n",
       "      <th></th>\n",
       "      <th></th>\n",
       "      <th></th>\n",
       "      <th></th>\n",
       "      <th></th>\n",
       "      <th></th>\n",
       "    </tr>\n",
       "  </thead>\n",
       "  <tbody>\n",
       "    <tr>\n",
       "      <td>United States</td>\n",
       "      <td>8.671486</td>\n",
       "      <td>11.216454</td>\n",
       "      <td>1.809402</td>\n",
       "      <td>10.876939</td>\n",
       "      <td>-1.012400</td>\n",
       "      <td>-0.533644</td>\n",
       "      <td>0.018517</td>\n",
       "      <td>9.518885</td>\n",
       "      <td>0.955201</td>\n",
       "      <td>-0.882278</td>\n",
       "      <td>-0.183451</td>\n",
       "      <td>1.814318</td>\n",
       "      <td>-1.967469</td>\n",
       "      <td>-0.814337</td>\n",
       "      <td>-0.772788</td>\n",
       "      <td>0.406128</td>\n",
       "      <td>1.074007</td>\n",
       "      <td>-1.121848</td>\n",
       "      <td>-1</td>\n",
       "    </tr>\n",
       "    <tr>\n",
       "      <td>Spain</td>\n",
       "      <td>4.388304</td>\n",
       "      <td>2.779336</td>\n",
       "      <td>0.026889</td>\n",
       "      <td>0.472386</td>\n",
       "      <td>-0.894881</td>\n",
       "      <td>1.370712</td>\n",
       "      <td>0.060101</td>\n",
       "      <td>0.686980</td>\n",
       "      <td>0.871687</td>\n",
       "      <td>-0.882278</td>\n",
       "      <td>-0.148344</td>\n",
       "      <td>0.800173</td>\n",
       "      <td>0.798922</td>\n",
       "      <td>-0.814337</td>\n",
       "      <td>-0.777583</td>\n",
       "      <td>0.350364</td>\n",
       "      <td>1.614246</td>\n",
       "      <td>-0.266125</td>\n",
       "      <td>0</td>\n",
       "    </tr>\n",
       "    <tr>\n",
       "      <td>Italy</td>\n",
       "      <td>5.120684</td>\n",
       "      <td>2.532671</td>\n",
       "      <td>0.118081</td>\n",
       "      <td>0.039446</td>\n",
       "      <td>-0.533086</td>\n",
       "      <td>0.616750</td>\n",
       "      <td>0.226437</td>\n",
       "      <td>0.763632</td>\n",
       "      <td>0.446370</td>\n",
       "      <td>-0.882278</td>\n",
       "      <td>-0.080319</td>\n",
       "      <td>0.893110</td>\n",
       "      <td>0.819156</td>\n",
       "      <td>-0.814337</td>\n",
       "      <td>-0.787174</td>\n",
       "      <td>0.461891</td>\n",
       "      <td>2.124220</td>\n",
       "      <td>-0.305249</td>\n",
       "      <td>0</td>\n",
       "    </tr>\n",
       "    <tr>\n",
       "      <td>China</td>\n",
       "      <td>0.844402</td>\n",
       "      <td>1.094335</td>\n",
       "      <td>8.616390</td>\n",
       "      <td>5.034622</td>\n",
       "      <td>1.309760</td>\n",
       "      <td>-0.415085</td>\n",
       "      <td>0.559110</td>\n",
       "      <td>4.086081</td>\n",
       "      <td>-0.039645</td>\n",
       "      <td>0.007618</td>\n",
       "      <td>-0.115024</td>\n",
       "      <td>-0.143651</td>\n",
       "      <td>0.753958</td>\n",
       "      <td>-0.473995</td>\n",
       "      <td>-0.839924</td>\n",
       "      <td>0.684946</td>\n",
       "      <td>0.334015</td>\n",
       "      <td>-0.757250</td>\n",
       "      <td>-1</td>\n",
       "    </tr>\n",
       "    <tr>\n",
       "      <td>India</td>\n",
       "      <td>-0.102126</td>\n",
       "      <td>0.031794</td>\n",
       "      <td>8.267212</td>\n",
       "      <td>1.102036</td>\n",
       "      <td>3.270638</td>\n",
       "      <td>-0.222427</td>\n",
       "      <td>-0.896334</td>\n",
       "      <td>4.146863</td>\n",
       "      <td>-1.121018</td>\n",
       "      <td>-0.034758</td>\n",
       "      <td>0.071322</td>\n",
       "      <td>-0.603889</td>\n",
       "      <td>0.122500</td>\n",
       "      <td>-0.814337</td>\n",
       "      <td>0.224661</td>\n",
       "      <td>0.127309</td>\n",
       "      <td>-0.383277</td>\n",
       "      <td>-0.846318</td>\n",
       "      <td>-1</td>\n",
       "    </tr>\n",
       "    <tr>\n",
       "      <td>Japan</td>\n",
       "      <td>-0.170901</td>\n",
       "      <td>-0.052909</td>\n",
       "      <td>0.545996</td>\n",
       "      <td>0.876213</td>\n",
       "      <td>-0.792244</td>\n",
       "      <td>-0.791140</td>\n",
       "      <td>4.384850</td>\n",
       "      <td>0.767784</td>\n",
       "      <td>1.358133</td>\n",
       "      <td>-0.882278</td>\n",
       "      <td>0.005758</td>\n",
       "      <td>0.935603</td>\n",
       "      <td>-1.967469</td>\n",
       "      <td>-0.741731</td>\n",
       "      <td>-0.413131</td>\n",
       "      <td>0.684946</td>\n",
       "      <td>2.855132</td>\n",
       "      <td>-0.869904</td>\n",
       "      <td>-1</td>\n",
       "    </tr>\n",
       "    <tr>\n",
       "      <td>Poland</td>\n",
       "      <td>-0.142149</td>\n",
       "      <td>-0.077168</td>\n",
       "      <td>-0.028007</td>\n",
       "      <td>-0.109993</td>\n",
       "      <td>-0.321141</td>\n",
       "      <td>-0.572546</td>\n",
       "      <td>1.515545</td>\n",
       "      <td>0.878101</td>\n",
       "      <td>-0.000471</td>\n",
       "      <td>-0.882278</td>\n",
       "      <td>-0.129800</td>\n",
       "      <td>0.431989</td>\n",
       "      <td>0.807353</td>\n",
       "      <td>-0.814337</td>\n",
       "      <td>-0.782378</td>\n",
       "      <td>0.461891</td>\n",
       "      <td>1.332777</td>\n",
       "      <td>0.797424</td>\n",
       "      <td>3</td>\n",
       "    </tr>\n",
       "  </tbody>\n",
       "</table>\n",
       "</div>"
      ],
      "text/plain": [
       "                  Deaths      Cases  Population    flights  pollution  \\\n",
       "Country/Region                                                          \n",
       "United States   8.671486  11.216454    1.809402  10.876939  -1.012400   \n",
       "Spain           4.388304   2.779336    0.026889   0.472386  -0.894881   \n",
       "Italy           5.120684   2.532671    0.118081   0.039446  -0.533086   \n",
       "China           0.844402   1.094335    8.616390   5.034622   1.309760   \n",
       "India          -0.102126   0.031794    8.267212   1.102036   3.270638   \n",
       "Japan          -0.170901  -0.052909    0.545996   0.876213  -0.792244   \n",
       "Poland         -0.142149  -0.077168   -0.028007  -0.109993  -0.321141   \n",
       "\n",
       "                  unemp%  hospbeds  railways  urbanpop%     slum%  \\\n",
       "Country/Region                                                      \n",
       "United States  -0.533644  0.018517  9.518885   0.955201 -0.882278   \n",
       "Spain           1.370712  0.060101  0.686980   0.871687 -0.882278   \n",
       "Italy           0.616750  0.226437  0.763632   0.446370 -0.882278   \n",
       "China          -0.415085  0.559110  4.086081  -0.039645  0.007618   \n",
       "India          -0.222427 -0.896334  4.146863  -1.121018 -0.034758   \n",
       "Japan          -0.791140  4.384850  0.767784   1.358133 -0.882278   \n",
       "Poland         -0.572546  1.515545  0.878101  -0.000471 -0.882278   \n",
       "\n",
       "                popdensity%   GDP/cap  literacy  deposit rate  COD disease  \\\n",
       "Country/Region                                                               \n",
       "United States     -0.183451  1.814318 -1.967469     -0.814337    -0.772788   \n",
       "Spain             -0.148344  0.800173  0.798922     -0.814337    -0.777583   \n",
       "Italy             -0.080319  0.893110  0.819156     -0.814337    -0.787174   \n",
       "China             -0.115024 -0.143651  0.753958     -0.473995    -0.839924   \n",
       "India              0.071322 -0.603889  0.122500     -0.814337     0.224661   \n",
       "Japan              0.005758  0.935603 -1.967469     -0.741731    -0.413131   \n",
       "Poland            -0.129800  0.431989  0.807353     -0.814337    -0.782378   \n",
       "\n",
       "                DTP immunized  pop% >= 65    trade%  cluster  \n",
       "Country/Region                                                \n",
       "United States        0.406128    1.074007 -1.121848       -1  \n",
       "Spain                0.350364    1.614246 -0.266125        0  \n",
       "Italy                0.461891    2.124220 -0.305249        0  \n",
       "China                0.684946    0.334015 -0.757250       -1  \n",
       "India                0.127309   -0.383277 -0.846318       -1  \n",
       "Japan                0.684946    2.855132 -0.869904       -1  \n",
       "Poland               0.461891    1.332777  0.797424        3  "
      ]
     },
     "metadata": {},
     "output_type": "display_data"
    }
   ],
   "source": [
    "# Black removed and is used for noise instead.\n",
    "core_samples_mask = np.zeros_like(labels, dtype=bool)\n",
    "core_samples_mask[core_sample_indices] = True\n",
    "n_clusters_ = len(set(labels)) - (1 if -1 in labels else 0)\n",
    "n_noise_ = list(labels).count(-1)\n",
    "\n",
    "unique_labels = set(labels)\n",
    "colors = [plt.cm.Spectral(each) for each in np.linspace(0, 1, len(unique_labels))]\n",
    "\n",
    "fig = plt.figure(figsize=(18,12))\n",
    "\n",
    "for k, col in zip(unique_labels, colors):\n",
    "    if k == -1:\n",
    "        # Black used for noise.\n",
    "        col = [0, 0, 0, 1]\n",
    "\n",
    "    class_member_mask = (labels == k)\n",
    "\n",
    "    xy = df_train[class_member_mask & core_samples_mask]\n",
    "    plt.plot(xy['railways'], xy['hospbeds'], 'o', markerfacecolor=tuple(col),\n",
    "             markeredgecolor='k', markersize=14, figure=fig)\n",
    "\n",
    "    xy = df_train[class_member_mask & ~core_samples_mask]\n",
    "    plt.plot(xy['railways'], xy['hospbeds'], 'o', markerfacecolor=tuple(col),\n",
    "             markeredgecolor='k', markersize=6, figure=fig)\n",
    "    \n",
    "plt.title('Estimated number of clusters: %d' % n_clusters_)\n",
    "plt.show()\n",
    "\n",
    "display((df_train[df_train.index.isin(['China','Japan','United States','Italy','Spain','India','Poland'])]))\n",
    "\n"
   ]
  },
  {
   "cell_type": "code",
   "execution_count": 14,
   "metadata": {},
   "outputs": [
    {
     "data": {
      "application/vnd.plotly.v1+json": {
       "config": {
        "linkText": "Export to plot.ly",
        "plotlyServerURL": "https://plot.ly",
        "showLink": false
       },
       "data": [
        {
         "marker": {
          "color": "rgba(255, 128, 255, 0.8)"
         },
         "mode": "markers",
         "name": "Cluster 0",
         "text": [
          "China",
          "India"
         ],
         "type": "scatter",
         "x": [
          -0.7824436323791237,
          1.8251352031578596
         ],
         "y": [
          10.756577012589947,
          9.337832860741905
         ]
        },
        {
         "marker": {
          "color": "rgba(255, 128, 2, 0.8)"
         },
         "mode": "markers",
         "name": "Cluster 1",
         "text": [
          "Nepal",
          "Burkina Faso",
          "Chad",
          "Cabo Verde",
          "Nigeria",
          "Djibouti",
          "Liberia",
          "Cameroon",
          "Equatorial Guinea",
          "Eswatini",
          "Kosovo",
          "Philippines",
          "Indonesia",
          "Guinea-Bissau",
          "Somalia",
          "Ghana",
          "Guinea",
          "Sierra Leone",
          "Guatemala",
          "South Sudan",
          "Mauritania",
          "Cambodia",
          "Papua New Guinea",
          "Bangladesh",
          "Liechtenstein",
          "Senegal",
          "Bolivia",
          "Botswana",
          "Uganda",
          "Burundi",
          "Malawi",
          "South Africa",
          "Iraq",
          "Afghanistan",
          "Mozambique",
          "Angola",
          "Togo",
          "Niger",
          "Madagascar",
          "Cote d'Ivoire",
          "Gabon",
          "Rwanda",
          "Pakistan",
          "Kenya",
          "Sudan",
          "Benin",
          "Guyana"
         ],
         "type": "scatter",
         "x": [
          2.712875832569323,
          2.987604320007734,
          4.41164167229444,
          1.0192659380474913,
          3.61967756636312,
          1.8363032173903806,
          2.3500641171925545,
          2.550156357833384,
          2.547237358037496,
          1.4410469270908857,
          2.2284999136547117,
          1.2271164165471355,
          0.6577486120150624,
          2.93655983990595,
          4.524435999946103,
          2.026865077263237,
          2.6758837280714522,
          2.566437437861221,
          1.2116107831751024,
          4.305519272908026,
          2.6615682487157173,
          1.1746968026434723,
          1.0673929880041655,
          2.132165545421229,
          2.135893162195809,
          2.242621542854536,
          0.687481404693863,
          0.9494459410441348,
          3.160676406532648,
          2.87717663472523,
          2.551685758590985,
          0.6889792938123936,
          1.168883985095913,
          2.9109532072718363,
          3.1556616458019753,
          2.6223701717175456,
          2.3541878753450227,
          4.32433315282282,
          3.019580535113529,
          2.3136915076644176,
          0.5754762663803483,
          2.472962610622203,
          2.51221744776083,
          2.852112225117517,
          2.6997246717052796,
          2.6841100628522474,
          0.6275018473241611
         ],
         "y": [
          0.6315732939960143,
          -0.26875038827404985,
          -0.17226089101842312,
          -0.19977764587128988,
          1.046541186676063,
          -0.1785985878563149,
          -0.6675164653064454,
          0.30361112224875414,
          -0.40101864798139186,
          -0.5767738495561938,
          -0.8966840412233359,
          0.010261898183023224,
          1.37605953753495,
          -0.5377258194618543,
          -0.4541536041163682,
          -0.2166138040152255,
          -0.7560794352586158,
          -0.6174058978611204,
          -0.36241704406997977,
          -0.103807249125346,
          -0.4196471879450955,
          -0.7699884158586118,
          -0.6645488681180151,
          0.9325011134405973,
          -0.887702084081614,
          -0.26204171841802865,
          -0.3583301611670096,
          -0.4302164867910633,
          0.006838749521387623,
          -0.23754331355721447,
          -0.45015247393077945,
          0.5648353371581696,
          0.23646312789098403,
          0.07197055457399863,
          -0.6396853661630895,
          -0.4553210268787098,
          -0.45316359476744467,
          0.32103427694238146,
          -0.5352929273998953,
          -0.474611118553239,
          -0.17499793412068926,
          -0.17468730316288203,
          1.212630628600384,
          -0.07524735628621046,
          0.40584813932942354,
          -0.44012661482763465,
          -0.5091986370465105
         ]
        },
        {
         "marker": {
          "color": "rgba(0, 255, 200, 0.8)"
         },
         "mode": "markers",
         "name": "Cluster 2",
         "text": [
          "Barbados",
          "Colombia",
          "Grenada",
          "New Zealand",
          "Canada",
          "Sweden",
          "Uzbekistan",
          "Dominica",
          "Armenia",
          "Hungary",
          "Belize",
          "Honduras",
          "El Salvador",
          "Mexico",
          "Portugal",
          "Cyprus",
          "United Arab Emirates",
          "Romania",
          "Libya",
          "Trinidad and Tobago",
          "Bahrain",
          "Belgium",
          "Bosnia and Herzegovina",
          "San Marino",
          "Georgia",
          "Belarus",
          "Estonia",
          "Croatia",
          "Suriname",
          "Mongolia",
          "Sri Lanka",
          "Uruguay",
          "Norway",
          "France",
          "Jamaica",
          "Denmark",
          "Japan",
          "Brazil",
          "Jordan",
          "Serbia",
          "Antigua and Barbuda",
          "Kuwait",
          "Maldives",
          "Ukraine",
          "Moldova",
          "Switzerland",
          "Tunisia",
          "Lebanon",
          "Cuba",
          "Peru",
          "Oman",
          "Malta",
          "Andorra",
          "Albania",
          "Dominican Republic",
          "Vietnam",
          "Luxembourg",
          "Slovenia",
          "Panama",
          "Netherlands",
          "Spain",
          "Malaysia",
          "Poland",
          "Austria",
          "Montenegro",
          "Fiji",
          "Chile",
          "North Macedonia",
          "Argentina",
          "Turkey",
          "Thailand",
          "Singapore",
          "Australia",
          "Paraguay",
          "Seychelles",
          "Italy",
          "Israel",
          "Finland"
         ],
         "type": "scatter",
         "x": [
          -1.0745434240462486,
          -0.39594168983596073,
          -0.34680136094605235,
          -1.9274385089682977,
          -2.5042367261557965,
          -2.66590639354564,
          -0.4168397490588478,
          -0.2772591732852305,
          -0.5343235532130653,
          -3.2368439880790394,
          0.27994718803189933,
          0.5855363054643806,
          -0.048647283865720155,
          -0.6988353437353181,
          -2.3004014096768564,
          -1.845471303671683,
          -1.7468024919869818,
          -2.102915473691116,
          -0.13244036980236393,
          -0.798971846683411,
          -0.7967714647801466,
          -3.839058350144711,
          -1.161872233138972,
          -1.649276852318608,
          -0.902713301443001,
          -2.9280238339718854,
          -2.7909364144325024,
          -2.204974625955278,
          -0.5124011029852384,
          -0.1278760350721933,
          0.1870498075475657,
          -1.5508622225952455,
          -2.6110698000044756,
          -3.455737145091153,
          0.4071727331033819,
          -2.5661132958994552,
          -4.120994937986451,
          -0.4545295576561563,
          -0.23497071405215295,
          -1.4977261453220976,
          -0.3306835049398802,
          -1.1851203514712574,
          -0.6108056836971746,
          -1.383094453937241,
          -1.066551459146794,
          -3.0075706581462143,
          -0.7621298504277416,
          0.21144078207682218,
          -1.3588719432372596,
          0.20631461495056166,
          0.03269627503843474,
          -2.8579354573712585,
          -0.6648133409238145,
          -1.2929814847414927,
          -0.25857841319058517,
          -0.08907090911332663,
          -3.441585836201087,
          -2.6579978994886018,
          -0.41787782758580694,
          -3.382814282147444,
          -3.0621123853296255,
          -1.3221016845256535,
          -2.404349844425401,
          -2.822406181187878,
          -1.478552203590037,
          -0.5316388783381519,
          -1.1932920878452424,
          -1.614852382035758,
          -0.28393324125176045,
          -0.06413847993498892,
          -0.5046113673200459,
          -3.621909322996634,
          -2.2634208975026513,
          -0.0008838823364804329,
          -1.2377802706790952,
          -3.160475730109664,
          -1.762349299898534,
          -2.85513098882449
         ],
         "y": [
          -0.16661630877364156,
          0.033339477099738994,
          -0.33172431587405565,
          -0.41257854595455007,
          1.5471599125729962,
          -0.16755640943159958,
          -0.006181117934299246,
          -0.6141260691459542,
          -0.1456961804199945,
          -0.48681461791600844,
          -0.4951608154623435,
          -0.63243192000087,
          -0.43332037969327114,
          0.6724805985783266,
          -0.22303790723022812,
          -0.40297376060961465,
          -0.5225005235241843,
          -0.03034089192034921,
          0.018824198294438054,
          -0.4420316244447848,
          -0.0468206829065898,
          -0.5900180406424451,
          -0.350922850789079,
          -0.5699273563268754,
          -0.30325328538232105,
          -0.4039804530908757,
          -0.7273923962005994,
          -0.2783696239766159,
          -0.6446852500948699,
          -0.3577882827650124,
          -0.29716809106112985,
          -0.3074456533971448,
          -0.37921217446736766,
          1.8998644596751828,
          -0.46618598755335916,
          -0.45619847252670515,
          1.190437498311085,
          2.0036090216342384,
          -0.23477556172810563,
          -0.2291401547552631,
          -0.37243571335929415,
          -0.13739603902002942,
          -0.6218225026971702,
          0.3292961948602672,
          -0.43263592693013203,
          -0.41091121778376455,
          -0.18170874842636678,
          -0.25584826163478774,
          0.09388572759395951,
          -0.09983358292644523,
          -0.4106088351003313,
          -0.4474247337230543,
          -0.6825150873627615,
          -0.28575508777190384,
          -0.41625696089579906,
          -0.4804589899795788,
          -0.6482821734670563,
          -0.8126283102407458,
          -0.4971877087635925,
          -0.5666178249364267,
          1.6346124379665719,
          -0.499360814693013,
          0.3236480825886341,
          -0.4056965471419567,
          -0.3102894738446087,
          -0.6022930178671562,
          -0.14092494661176802,
          -0.4425214837520256,
          0.3276433788373047,
          1.039175866870652,
          0.06636392442370079,
          -1.2831496943137752,
          0.08661266426247634,
          -0.5492556401713367,
          -0.7630348301362392,
          1.7849575555447588,
          -0.18984414666163707,
          -0.3413298722597676
         ]
        }
       ],
       "layout": {
        "template": {
         "data": {
          "bar": [
           {
            "error_x": {
             "color": "#2a3f5f"
            },
            "error_y": {
             "color": "#2a3f5f"
            },
            "marker": {
             "line": {
              "color": "#E5ECF6",
              "width": 0.5
             }
            },
            "type": "bar"
           }
          ],
          "barpolar": [
           {
            "marker": {
             "line": {
              "color": "#E5ECF6",
              "width": 0.5
             }
            },
            "type": "barpolar"
           }
          ],
          "carpet": [
           {
            "aaxis": {
             "endlinecolor": "#2a3f5f",
             "gridcolor": "white",
             "linecolor": "white",
             "minorgridcolor": "white",
             "startlinecolor": "#2a3f5f"
            },
            "baxis": {
             "endlinecolor": "#2a3f5f",
             "gridcolor": "white",
             "linecolor": "white",
             "minorgridcolor": "white",
             "startlinecolor": "#2a3f5f"
            },
            "type": "carpet"
           }
          ],
          "choropleth": [
           {
            "colorbar": {
             "outlinewidth": 0,
             "ticks": ""
            },
            "type": "choropleth"
           }
          ],
          "contour": [
           {
            "colorbar": {
             "outlinewidth": 0,
             "ticks": ""
            },
            "colorscale": [
             [
              0,
              "#0d0887"
             ],
             [
              0.1111111111111111,
              "#46039f"
             ],
             [
              0.2222222222222222,
              "#7201a8"
             ],
             [
              0.3333333333333333,
              "#9c179e"
             ],
             [
              0.4444444444444444,
              "#bd3786"
             ],
             [
              0.5555555555555556,
              "#d8576b"
             ],
             [
              0.6666666666666666,
              "#ed7953"
             ],
             [
              0.7777777777777778,
              "#fb9f3a"
             ],
             [
              0.8888888888888888,
              "#fdca26"
             ],
             [
              1,
              "#f0f921"
             ]
            ],
            "type": "contour"
           }
          ],
          "contourcarpet": [
           {
            "colorbar": {
             "outlinewidth": 0,
             "ticks": ""
            },
            "type": "contourcarpet"
           }
          ],
          "heatmap": [
           {
            "colorbar": {
             "outlinewidth": 0,
             "ticks": ""
            },
            "colorscale": [
             [
              0,
              "#0d0887"
             ],
             [
              0.1111111111111111,
              "#46039f"
             ],
             [
              0.2222222222222222,
              "#7201a8"
             ],
             [
              0.3333333333333333,
              "#9c179e"
             ],
             [
              0.4444444444444444,
              "#bd3786"
             ],
             [
              0.5555555555555556,
              "#d8576b"
             ],
             [
              0.6666666666666666,
              "#ed7953"
             ],
             [
              0.7777777777777778,
              "#fb9f3a"
             ],
             [
              0.8888888888888888,
              "#fdca26"
             ],
             [
              1,
              "#f0f921"
             ]
            ],
            "type": "heatmap"
           }
          ],
          "heatmapgl": [
           {
            "colorbar": {
             "outlinewidth": 0,
             "ticks": ""
            },
            "colorscale": [
             [
              0,
              "#0d0887"
             ],
             [
              0.1111111111111111,
              "#46039f"
             ],
             [
              0.2222222222222222,
              "#7201a8"
             ],
             [
              0.3333333333333333,
              "#9c179e"
             ],
             [
              0.4444444444444444,
              "#bd3786"
             ],
             [
              0.5555555555555556,
              "#d8576b"
             ],
             [
              0.6666666666666666,
              "#ed7953"
             ],
             [
              0.7777777777777778,
              "#fb9f3a"
             ],
             [
              0.8888888888888888,
              "#fdca26"
             ],
             [
              1,
              "#f0f921"
             ]
            ],
            "type": "heatmapgl"
           }
          ],
          "histogram": [
           {
            "marker": {
             "colorbar": {
              "outlinewidth": 0,
              "ticks": ""
             }
            },
            "type": "histogram"
           }
          ],
          "histogram2d": [
           {
            "colorbar": {
             "outlinewidth": 0,
             "ticks": ""
            },
            "colorscale": [
             [
              0,
              "#0d0887"
             ],
             [
              0.1111111111111111,
              "#46039f"
             ],
             [
              0.2222222222222222,
              "#7201a8"
             ],
             [
              0.3333333333333333,
              "#9c179e"
             ],
             [
              0.4444444444444444,
              "#bd3786"
             ],
             [
              0.5555555555555556,
              "#d8576b"
             ],
             [
              0.6666666666666666,
              "#ed7953"
             ],
             [
              0.7777777777777778,
              "#fb9f3a"
             ],
             [
              0.8888888888888888,
              "#fdca26"
             ],
             [
              1,
              "#f0f921"
             ]
            ],
            "type": "histogram2d"
           }
          ],
          "histogram2dcontour": [
           {
            "colorbar": {
             "outlinewidth": 0,
             "ticks": ""
            },
            "colorscale": [
             [
              0,
              "#0d0887"
             ],
             [
              0.1111111111111111,
              "#46039f"
             ],
             [
              0.2222222222222222,
              "#7201a8"
             ],
             [
              0.3333333333333333,
              "#9c179e"
             ],
             [
              0.4444444444444444,
              "#bd3786"
             ],
             [
              0.5555555555555556,
              "#d8576b"
             ],
             [
              0.6666666666666666,
              "#ed7953"
             ],
             [
              0.7777777777777778,
              "#fb9f3a"
             ],
             [
              0.8888888888888888,
              "#fdca26"
             ],
             [
              1,
              "#f0f921"
             ]
            ],
            "type": "histogram2dcontour"
           }
          ],
          "mesh3d": [
           {
            "colorbar": {
             "outlinewidth": 0,
             "ticks": ""
            },
            "type": "mesh3d"
           }
          ],
          "parcoords": [
           {
            "line": {
             "colorbar": {
              "outlinewidth": 0,
              "ticks": ""
             }
            },
            "type": "parcoords"
           }
          ],
          "pie": [
           {
            "automargin": true,
            "type": "pie"
           }
          ],
          "scatter": [
           {
            "marker": {
             "colorbar": {
              "outlinewidth": 0,
              "ticks": ""
             }
            },
            "type": "scatter"
           }
          ],
          "scatter3d": [
           {
            "line": {
             "colorbar": {
              "outlinewidth": 0,
              "ticks": ""
             }
            },
            "marker": {
             "colorbar": {
              "outlinewidth": 0,
              "ticks": ""
             }
            },
            "type": "scatter3d"
           }
          ],
          "scattercarpet": [
           {
            "marker": {
             "colorbar": {
              "outlinewidth": 0,
              "ticks": ""
             }
            },
            "type": "scattercarpet"
           }
          ],
          "scattergeo": [
           {
            "marker": {
             "colorbar": {
              "outlinewidth": 0,
              "ticks": ""
             }
            },
            "type": "scattergeo"
           }
          ],
          "scattergl": [
           {
            "marker": {
             "colorbar": {
              "outlinewidth": 0,
              "ticks": ""
             }
            },
            "type": "scattergl"
           }
          ],
          "scattermapbox": [
           {
            "marker": {
             "colorbar": {
              "outlinewidth": 0,
              "ticks": ""
             }
            },
            "type": "scattermapbox"
           }
          ],
          "scatterpolar": [
           {
            "marker": {
             "colorbar": {
              "outlinewidth": 0,
              "ticks": ""
             }
            },
            "type": "scatterpolar"
           }
          ],
          "scatterpolargl": [
           {
            "marker": {
             "colorbar": {
              "outlinewidth": 0,
              "ticks": ""
             }
            },
            "type": "scatterpolargl"
           }
          ],
          "scatterternary": [
           {
            "marker": {
             "colorbar": {
              "outlinewidth": 0,
              "ticks": ""
             }
            },
            "type": "scatterternary"
           }
          ],
          "surface": [
           {
            "colorbar": {
             "outlinewidth": 0,
             "ticks": ""
            },
            "colorscale": [
             [
              0,
              "#0d0887"
             ],
             [
              0.1111111111111111,
              "#46039f"
             ],
             [
              0.2222222222222222,
              "#7201a8"
             ],
             [
              0.3333333333333333,
              "#9c179e"
             ],
             [
              0.4444444444444444,
              "#bd3786"
             ],
             [
              0.5555555555555556,
              "#d8576b"
             ],
             [
              0.6666666666666666,
              "#ed7953"
             ],
             [
              0.7777777777777778,
              "#fb9f3a"
             ],
             [
              0.8888888888888888,
              "#fdca26"
             ],
             [
              1,
              "#f0f921"
             ]
            ],
            "type": "surface"
           }
          ],
          "table": [
           {
            "cells": {
             "fill": {
              "color": "#EBF0F8"
             },
             "line": {
              "color": "white"
             }
            },
            "header": {
             "fill": {
              "color": "#C8D4E3"
             },
             "line": {
              "color": "white"
             }
            },
            "type": "table"
           }
          ]
         },
         "layout": {
          "annotationdefaults": {
           "arrowcolor": "#2a3f5f",
           "arrowhead": 0,
           "arrowwidth": 1
          },
          "coloraxis": {
           "colorbar": {
            "outlinewidth": 0,
            "ticks": ""
           }
          },
          "colorscale": {
           "diverging": [
            [
             0,
             "#8e0152"
            ],
            [
             0.1,
             "#c51b7d"
            ],
            [
             0.2,
             "#de77ae"
            ],
            [
             0.3,
             "#f1b6da"
            ],
            [
             0.4,
             "#fde0ef"
            ],
            [
             0.5,
             "#f7f7f7"
            ],
            [
             0.6,
             "#e6f5d0"
            ],
            [
             0.7,
             "#b8e186"
            ],
            [
             0.8,
             "#7fbc41"
            ],
            [
             0.9,
             "#4d9221"
            ],
            [
             1,
             "#276419"
            ]
           ],
           "sequential": [
            [
             0,
             "#0d0887"
            ],
            [
             0.1111111111111111,
             "#46039f"
            ],
            [
             0.2222222222222222,
             "#7201a8"
            ],
            [
             0.3333333333333333,
             "#9c179e"
            ],
            [
             0.4444444444444444,
             "#bd3786"
            ],
            [
             0.5555555555555556,
             "#d8576b"
            ],
            [
             0.6666666666666666,
             "#ed7953"
            ],
            [
             0.7777777777777778,
             "#fb9f3a"
            ],
            [
             0.8888888888888888,
             "#fdca26"
            ],
            [
             1,
             "#f0f921"
            ]
           ],
           "sequentialminus": [
            [
             0,
             "#0d0887"
            ],
            [
             0.1111111111111111,
             "#46039f"
            ],
            [
             0.2222222222222222,
             "#7201a8"
            ],
            [
             0.3333333333333333,
             "#9c179e"
            ],
            [
             0.4444444444444444,
             "#bd3786"
            ],
            [
             0.5555555555555556,
             "#d8576b"
            ],
            [
             0.6666666666666666,
             "#ed7953"
            ],
            [
             0.7777777777777778,
             "#fb9f3a"
            ],
            [
             0.8888888888888888,
             "#fdca26"
            ],
            [
             1,
             "#f0f921"
            ]
           ]
          },
          "colorway": [
           "#636efa",
           "#EF553B",
           "#00cc96",
           "#ab63fa",
           "#FFA15A",
           "#19d3f3",
           "#FF6692",
           "#B6E880",
           "#FF97FF",
           "#FECB52"
          ],
          "font": {
           "color": "#2a3f5f"
          },
          "geo": {
           "bgcolor": "white",
           "lakecolor": "white",
           "landcolor": "#E5ECF6",
           "showlakes": true,
           "showland": true,
           "subunitcolor": "white"
          },
          "hoverlabel": {
           "align": "left"
          },
          "hovermode": "closest",
          "mapbox": {
           "style": "light"
          },
          "paper_bgcolor": "white",
          "plot_bgcolor": "#E5ECF6",
          "polar": {
           "angularaxis": {
            "gridcolor": "white",
            "linecolor": "white",
            "ticks": ""
           },
           "bgcolor": "#E5ECF6",
           "radialaxis": {
            "gridcolor": "white",
            "linecolor": "white",
            "ticks": ""
           }
          },
          "scene": {
           "xaxis": {
            "backgroundcolor": "#E5ECF6",
            "gridcolor": "white",
            "gridwidth": 2,
            "linecolor": "white",
            "showbackground": true,
            "ticks": "",
            "zerolinecolor": "white"
           },
           "yaxis": {
            "backgroundcolor": "#E5ECF6",
            "gridcolor": "white",
            "gridwidth": 2,
            "linecolor": "white",
            "showbackground": true,
            "ticks": "",
            "zerolinecolor": "white"
           },
           "zaxis": {
            "backgroundcolor": "#E5ECF6",
            "gridcolor": "white",
            "gridwidth": 2,
            "linecolor": "white",
            "showbackground": true,
            "ticks": "",
            "zerolinecolor": "white"
           }
          },
          "shapedefaults": {
           "line": {
            "color": "#2a3f5f"
           }
          },
          "ternary": {
           "aaxis": {
            "gridcolor": "white",
            "linecolor": "white",
            "ticks": ""
           },
           "baxis": {
            "gridcolor": "white",
            "linecolor": "white",
            "ticks": ""
           },
           "bgcolor": "#E5ECF6",
           "caxis": {
            "gridcolor": "white",
            "linecolor": "white",
            "ticks": ""
           }
          },
          "title": {
           "x": 0.05
          },
          "xaxis": {
           "automargin": true,
           "gridcolor": "white",
           "linecolor": "white",
           "ticks": "",
           "title": {
            "standoff": 15
           },
           "zerolinecolor": "white",
           "zerolinewidth": 2
          },
          "yaxis": {
           "automargin": true,
           "gridcolor": "white",
           "linecolor": "white",
           "ticks": "",
           "title": {
            "standoff": 15
           },
           "zerolinecolor": "white",
           "zerolinewidth": 2
          }
         }
        },
        "title": {
         "text": "Visualizing Clusters in Two Dimensions Using PCA"
        },
        "xaxis": {
         "ticklen": 5,
         "title": {
          "text": "PC1"
         },
         "zeroline": false
        },
        "yaxis": {
         "ticklen": 5,
         "title": {
          "text": "PC2"
         },
         "zeroline": false
        }
       }
      },
      "text/html": [
       "<div>\n",
       "        \n",
       "        \n",
       "            <div id=\"1fbdf8b9-9cde-4065-b648-9956d57b8c2f\" class=\"plotly-graph-div\" style=\"height:525px; width:100%;\"></div>\n",
       "            <script type=\"text/javascript\">\n",
       "                require([\"plotly\"], function(Plotly) {\n",
       "                    window.PLOTLYENV=window.PLOTLYENV || {};\n",
       "                    \n",
       "                if (document.getElementById(\"1fbdf8b9-9cde-4065-b648-9956d57b8c2f\")) {\n",
       "                    Plotly.newPlot(\n",
       "                        '1fbdf8b9-9cde-4065-b648-9956d57b8c2f',\n",
       "                        [{\"marker\": {\"color\": \"rgba(255, 128, 255, 0.8)\"}, \"mode\": \"markers\", \"name\": \"Cluster 0\", \"text\": [\"China\", \"India\"], \"type\": \"scatter\", \"x\": [-0.7824436323791237, 1.8251352031578596], \"y\": [10.756577012589947, 9.337832860741905]}, {\"marker\": {\"color\": \"rgba(255, 128, 2, 0.8)\"}, \"mode\": \"markers\", \"name\": \"Cluster 1\", \"text\": [\"Nepal\", \"Burkina Faso\", \"Chad\", \"Cabo Verde\", \"Nigeria\", \"Djibouti\", \"Liberia\", \"Cameroon\", \"Equatorial Guinea\", \"Eswatini\", \"Kosovo\", \"Philippines\", \"Indonesia\", \"Guinea-Bissau\", \"Somalia\", \"Ghana\", \"Guinea\", \"Sierra Leone\", \"Guatemala\", \"South Sudan\", \"Mauritania\", \"Cambodia\", \"Papua New Guinea\", \"Bangladesh\", \"Liechtenstein\", \"Senegal\", \"Bolivia\", \"Botswana\", \"Uganda\", \"Burundi\", \"Malawi\", \"South Africa\", \"Iraq\", \"Afghanistan\", \"Mozambique\", \"Angola\", \"Togo\", \"Niger\", \"Madagascar\", \"Cote d'Ivoire\", \"Gabon\", \"Rwanda\", \"Pakistan\", \"Kenya\", \"Sudan\", \"Benin\", \"Guyana\"], \"type\": \"scatter\", \"x\": [2.712875832569323, 2.987604320007734, 4.41164167229444, 1.0192659380474913, 3.61967756636312, 1.8363032173903806, 2.3500641171925545, 2.550156357833384, 2.547237358037496, 1.4410469270908857, 2.2284999136547117, 1.2271164165471355, 0.6577486120150624, 2.93655983990595, 4.524435999946103, 2.026865077263237, 2.6758837280714522, 2.566437437861221, 1.2116107831751024, 4.305519272908026, 2.6615682487157173, 1.1746968026434723, 1.0673929880041655, 2.132165545421229, 2.135893162195809, 2.242621542854536, 0.687481404693863, 0.9494459410441348, 3.160676406532648, 2.87717663472523, 2.551685758590985, 0.6889792938123936, 1.168883985095913, 2.9109532072718363, 3.1556616458019753, 2.6223701717175456, 2.3541878753450227, 4.32433315282282, 3.019580535113529, 2.3136915076644176, 0.5754762663803483, 2.472962610622203, 2.51221744776083, 2.852112225117517, 2.6997246717052796, 2.6841100628522474, 0.6275018473241611], \"y\": [0.6315732939960143, -0.26875038827404985, -0.17226089101842312, -0.19977764587128988, 1.046541186676063, -0.1785985878563149, -0.6675164653064454, 0.30361112224875414, -0.40101864798139186, -0.5767738495561938, -0.8966840412233359, 0.010261898183023224, 1.37605953753495, -0.5377258194618543, -0.4541536041163682, -0.2166138040152255, -0.7560794352586158, -0.6174058978611204, -0.36241704406997977, -0.103807249125346, -0.4196471879450955, -0.7699884158586118, -0.6645488681180151, 0.9325011134405973, -0.887702084081614, -0.26204171841802865, -0.3583301611670096, -0.4302164867910633, 0.006838749521387623, -0.23754331355721447, -0.45015247393077945, 0.5648353371581696, 0.23646312789098403, 0.07197055457399863, -0.6396853661630895, -0.4553210268787098, -0.45316359476744467, 0.32103427694238146, -0.5352929273998953, -0.474611118553239, -0.17499793412068926, -0.17468730316288203, 1.212630628600384, -0.07524735628621046, 0.40584813932942354, -0.44012661482763465, -0.5091986370465105]}, {\"marker\": {\"color\": \"rgba(0, 255, 200, 0.8)\"}, \"mode\": \"markers\", \"name\": \"Cluster 2\", \"text\": [\"Barbados\", \"Colombia\", \"Grenada\", \"New Zealand\", \"Canada\", \"Sweden\", \"Uzbekistan\", \"Dominica\", \"Armenia\", \"Hungary\", \"Belize\", \"Honduras\", \"El Salvador\", \"Mexico\", \"Portugal\", \"Cyprus\", \"United Arab Emirates\", \"Romania\", \"Libya\", \"Trinidad and Tobago\", \"Bahrain\", \"Belgium\", \"Bosnia and Herzegovina\", \"San Marino\", \"Georgia\", \"Belarus\", \"Estonia\", \"Croatia\", \"Suriname\", \"Mongolia\", \"Sri Lanka\", \"Uruguay\", \"Norway\", \"France\", \"Jamaica\", \"Denmark\", \"Japan\", \"Brazil\", \"Jordan\", \"Serbia\", \"Antigua and Barbuda\", \"Kuwait\", \"Maldives\", \"Ukraine\", \"Moldova\", \"Switzerland\", \"Tunisia\", \"Lebanon\", \"Cuba\", \"Peru\", \"Oman\", \"Malta\", \"Andorra\", \"Albania\", \"Dominican Republic\", \"Vietnam\", \"Luxembourg\", \"Slovenia\", \"Panama\", \"Netherlands\", \"Spain\", \"Malaysia\", \"Poland\", \"Austria\", \"Montenegro\", \"Fiji\", \"Chile\", \"North Macedonia\", \"Argentina\", \"Turkey\", \"Thailand\", \"Singapore\", \"Australia\", \"Paraguay\", \"Seychelles\", \"Italy\", \"Israel\", \"Finland\"], \"type\": \"scatter\", \"x\": [-1.0745434240462486, -0.39594168983596073, -0.34680136094605235, -1.9274385089682977, -2.5042367261557965, -2.66590639354564, -0.4168397490588478, -0.2772591732852305, -0.5343235532130653, -3.2368439880790394, 0.27994718803189933, 0.5855363054643806, -0.048647283865720155, -0.6988353437353181, -2.3004014096768564, -1.845471303671683, -1.7468024919869818, -2.102915473691116, -0.13244036980236393, -0.798971846683411, -0.7967714647801466, -3.839058350144711, -1.161872233138972, -1.649276852318608, -0.902713301443001, -2.9280238339718854, -2.7909364144325024, -2.204974625955278, -0.5124011029852384, -0.1278760350721933, 0.1870498075475657, -1.5508622225952455, -2.6110698000044756, -3.455737145091153, 0.4071727331033819, -2.5661132958994552, -4.120994937986451, -0.4545295576561563, -0.23497071405215295, -1.4977261453220976, -0.3306835049398802, -1.1851203514712574, -0.6108056836971746, -1.383094453937241, -1.066551459146794, -3.0075706581462143, -0.7621298504277416, 0.21144078207682218, -1.3588719432372596, 0.20631461495056166, 0.03269627503843474, -2.8579354573712585, -0.6648133409238145, -1.2929814847414927, -0.25857841319058517, -0.08907090911332663, -3.441585836201087, -2.6579978994886018, -0.41787782758580694, -3.382814282147444, -3.0621123853296255, -1.3221016845256535, -2.404349844425401, -2.822406181187878, -1.478552203590037, -0.5316388783381519, -1.1932920878452424, -1.614852382035758, -0.28393324125176045, -0.06413847993498892, -0.5046113673200459, -3.621909322996634, -2.2634208975026513, -0.0008838823364804329, -1.2377802706790952, -3.160475730109664, -1.762349299898534, -2.85513098882449], \"y\": [-0.16661630877364156, 0.033339477099738994, -0.33172431587405565, -0.41257854595455007, 1.5471599125729962, -0.16755640943159958, -0.006181117934299246, -0.6141260691459542, -0.1456961804199945, -0.48681461791600844, -0.4951608154623435, -0.63243192000087, -0.43332037969327114, 0.6724805985783266, -0.22303790723022812, -0.40297376060961465, -0.5225005235241843, -0.03034089192034921, 0.018824198294438054, -0.4420316244447848, -0.0468206829065898, -0.5900180406424451, -0.350922850789079, -0.5699273563268754, -0.30325328538232105, -0.4039804530908757, -0.7273923962005994, -0.2783696239766159, -0.6446852500948699, -0.3577882827650124, -0.29716809106112985, -0.3074456533971448, -0.37921217446736766, 1.8998644596751828, -0.46618598755335916, -0.45619847252670515, 1.190437498311085, 2.0036090216342384, -0.23477556172810563, -0.2291401547552631, -0.37243571335929415, -0.13739603902002942, -0.6218225026971702, 0.3292961948602672, -0.43263592693013203, -0.41091121778376455, -0.18170874842636678, -0.25584826163478774, 0.09388572759395951, -0.09983358292644523, -0.4106088351003313, -0.4474247337230543, -0.6825150873627615, -0.28575508777190384, -0.41625696089579906, -0.4804589899795788, -0.6482821734670563, -0.8126283102407458, -0.4971877087635925, -0.5666178249364267, 1.6346124379665719, -0.499360814693013, 0.3236480825886341, -0.4056965471419567, -0.3102894738446087, -0.6022930178671562, -0.14092494661176802, -0.4425214837520256, 0.3276433788373047, 1.039175866870652, 0.06636392442370079, -1.2831496943137752, 0.08661266426247634, -0.5492556401713367, -0.7630348301362392, 1.7849575555447588, -0.18984414666163707, -0.3413298722597676]}],\n",
       "                        {\"template\": {\"data\": {\"bar\": [{\"error_x\": {\"color\": \"#2a3f5f\"}, \"error_y\": {\"color\": \"#2a3f5f\"}, \"marker\": {\"line\": {\"color\": \"#E5ECF6\", \"width\": 0.5}}, \"type\": \"bar\"}], \"barpolar\": [{\"marker\": {\"line\": {\"color\": \"#E5ECF6\", \"width\": 0.5}}, \"type\": \"barpolar\"}], \"carpet\": [{\"aaxis\": {\"endlinecolor\": \"#2a3f5f\", \"gridcolor\": \"white\", \"linecolor\": \"white\", \"minorgridcolor\": \"white\", \"startlinecolor\": \"#2a3f5f\"}, \"baxis\": {\"endlinecolor\": \"#2a3f5f\", \"gridcolor\": \"white\", \"linecolor\": \"white\", \"minorgridcolor\": \"white\", \"startlinecolor\": \"#2a3f5f\"}, \"type\": \"carpet\"}], \"choropleth\": [{\"colorbar\": {\"outlinewidth\": 0, \"ticks\": \"\"}, \"type\": \"choropleth\"}], \"contour\": [{\"colorbar\": {\"outlinewidth\": 0, \"ticks\": \"\"}, \"colorscale\": [[0.0, \"#0d0887\"], [0.1111111111111111, \"#46039f\"], [0.2222222222222222, \"#7201a8\"], [0.3333333333333333, \"#9c179e\"], [0.4444444444444444, \"#bd3786\"], [0.5555555555555556, \"#d8576b\"], [0.6666666666666666, \"#ed7953\"], [0.7777777777777778, \"#fb9f3a\"], [0.8888888888888888, \"#fdca26\"], [1.0, \"#f0f921\"]], \"type\": \"contour\"}], \"contourcarpet\": [{\"colorbar\": {\"outlinewidth\": 0, \"ticks\": \"\"}, \"type\": \"contourcarpet\"}], \"heatmap\": [{\"colorbar\": {\"outlinewidth\": 0, \"ticks\": \"\"}, \"colorscale\": [[0.0, \"#0d0887\"], [0.1111111111111111, \"#46039f\"], [0.2222222222222222, \"#7201a8\"], [0.3333333333333333, \"#9c179e\"], [0.4444444444444444, \"#bd3786\"], [0.5555555555555556, \"#d8576b\"], [0.6666666666666666, \"#ed7953\"], [0.7777777777777778, \"#fb9f3a\"], [0.8888888888888888, \"#fdca26\"], [1.0, \"#f0f921\"]], \"type\": \"heatmap\"}], \"heatmapgl\": [{\"colorbar\": {\"outlinewidth\": 0, \"ticks\": \"\"}, \"colorscale\": [[0.0, \"#0d0887\"], [0.1111111111111111, \"#46039f\"], [0.2222222222222222, \"#7201a8\"], [0.3333333333333333, \"#9c179e\"], [0.4444444444444444, \"#bd3786\"], [0.5555555555555556, \"#d8576b\"], [0.6666666666666666, \"#ed7953\"], [0.7777777777777778, \"#fb9f3a\"], [0.8888888888888888, \"#fdca26\"], [1.0, \"#f0f921\"]], \"type\": \"heatmapgl\"}], \"histogram\": [{\"marker\": {\"colorbar\": {\"outlinewidth\": 0, \"ticks\": \"\"}}, \"type\": \"histogram\"}], \"histogram2d\": [{\"colorbar\": {\"outlinewidth\": 0, \"ticks\": \"\"}, \"colorscale\": [[0.0, \"#0d0887\"], [0.1111111111111111, \"#46039f\"], [0.2222222222222222, \"#7201a8\"], [0.3333333333333333, \"#9c179e\"], [0.4444444444444444, \"#bd3786\"], [0.5555555555555556, \"#d8576b\"], [0.6666666666666666, \"#ed7953\"], [0.7777777777777778, \"#fb9f3a\"], [0.8888888888888888, \"#fdca26\"], [1.0, \"#f0f921\"]], \"type\": \"histogram2d\"}], \"histogram2dcontour\": [{\"colorbar\": {\"outlinewidth\": 0, \"ticks\": \"\"}, \"colorscale\": [[0.0, \"#0d0887\"], [0.1111111111111111, \"#46039f\"], [0.2222222222222222, \"#7201a8\"], [0.3333333333333333, \"#9c179e\"], [0.4444444444444444, \"#bd3786\"], [0.5555555555555556, \"#d8576b\"], [0.6666666666666666, \"#ed7953\"], [0.7777777777777778, \"#fb9f3a\"], [0.8888888888888888, \"#fdca26\"], [1.0, \"#f0f921\"]], \"type\": \"histogram2dcontour\"}], \"mesh3d\": [{\"colorbar\": {\"outlinewidth\": 0, \"ticks\": \"\"}, \"type\": \"mesh3d\"}], \"parcoords\": [{\"line\": {\"colorbar\": {\"outlinewidth\": 0, \"ticks\": \"\"}}, \"type\": \"parcoords\"}], \"pie\": [{\"automargin\": true, \"type\": \"pie\"}], \"scatter\": [{\"marker\": {\"colorbar\": {\"outlinewidth\": 0, \"ticks\": \"\"}}, \"type\": \"scatter\"}], \"scatter3d\": [{\"line\": {\"colorbar\": {\"outlinewidth\": 0, \"ticks\": \"\"}}, \"marker\": {\"colorbar\": {\"outlinewidth\": 0, \"ticks\": \"\"}}, \"type\": \"scatter3d\"}], \"scattercarpet\": [{\"marker\": {\"colorbar\": {\"outlinewidth\": 0, \"ticks\": \"\"}}, \"type\": \"scattercarpet\"}], \"scattergeo\": [{\"marker\": {\"colorbar\": {\"outlinewidth\": 0, \"ticks\": \"\"}}, \"type\": \"scattergeo\"}], \"scattergl\": [{\"marker\": {\"colorbar\": {\"outlinewidth\": 0, \"ticks\": \"\"}}, \"type\": \"scattergl\"}], \"scattermapbox\": [{\"marker\": {\"colorbar\": {\"outlinewidth\": 0, \"ticks\": \"\"}}, \"type\": \"scattermapbox\"}], \"scatterpolar\": [{\"marker\": {\"colorbar\": {\"outlinewidth\": 0, \"ticks\": \"\"}}, \"type\": \"scatterpolar\"}], \"scatterpolargl\": [{\"marker\": {\"colorbar\": {\"outlinewidth\": 0, \"ticks\": \"\"}}, \"type\": \"scatterpolargl\"}], \"scatterternary\": [{\"marker\": {\"colorbar\": {\"outlinewidth\": 0, \"ticks\": \"\"}}, \"type\": \"scatterternary\"}], \"surface\": [{\"colorbar\": {\"outlinewidth\": 0, \"ticks\": \"\"}, \"colorscale\": [[0.0, \"#0d0887\"], [0.1111111111111111, \"#46039f\"], [0.2222222222222222, \"#7201a8\"], [0.3333333333333333, \"#9c179e\"], [0.4444444444444444, \"#bd3786\"], [0.5555555555555556, \"#d8576b\"], [0.6666666666666666, \"#ed7953\"], [0.7777777777777778, \"#fb9f3a\"], [0.8888888888888888, \"#fdca26\"], [1.0, \"#f0f921\"]], \"type\": \"surface\"}], \"table\": [{\"cells\": {\"fill\": {\"color\": \"#EBF0F8\"}, \"line\": {\"color\": \"white\"}}, \"header\": {\"fill\": {\"color\": \"#C8D4E3\"}, \"line\": {\"color\": \"white\"}}, \"type\": \"table\"}]}, \"layout\": {\"annotationdefaults\": {\"arrowcolor\": \"#2a3f5f\", \"arrowhead\": 0, \"arrowwidth\": 1}, \"coloraxis\": {\"colorbar\": {\"outlinewidth\": 0, \"ticks\": \"\"}}, \"colorscale\": {\"diverging\": [[0, \"#8e0152\"], [0.1, \"#c51b7d\"], [0.2, \"#de77ae\"], [0.3, \"#f1b6da\"], [0.4, \"#fde0ef\"], [0.5, \"#f7f7f7\"], [0.6, \"#e6f5d0\"], [0.7, \"#b8e186\"], [0.8, \"#7fbc41\"], [0.9, \"#4d9221\"], [1, \"#276419\"]], \"sequential\": [[0.0, \"#0d0887\"], [0.1111111111111111, \"#46039f\"], [0.2222222222222222, \"#7201a8\"], [0.3333333333333333, \"#9c179e\"], [0.4444444444444444, \"#bd3786\"], [0.5555555555555556, \"#d8576b\"], [0.6666666666666666, \"#ed7953\"], [0.7777777777777778, \"#fb9f3a\"], [0.8888888888888888, \"#fdca26\"], [1.0, \"#f0f921\"]], \"sequentialminus\": [[0.0, \"#0d0887\"], [0.1111111111111111, \"#46039f\"], [0.2222222222222222, \"#7201a8\"], [0.3333333333333333, \"#9c179e\"], [0.4444444444444444, \"#bd3786\"], [0.5555555555555556, \"#d8576b\"], [0.6666666666666666, \"#ed7953\"], [0.7777777777777778, \"#fb9f3a\"], [0.8888888888888888, \"#fdca26\"], [1.0, \"#f0f921\"]]}, \"colorway\": [\"#636efa\", \"#EF553B\", \"#00cc96\", \"#ab63fa\", \"#FFA15A\", \"#19d3f3\", \"#FF6692\", \"#B6E880\", \"#FF97FF\", \"#FECB52\"], \"font\": {\"color\": \"#2a3f5f\"}, \"geo\": {\"bgcolor\": \"white\", \"lakecolor\": \"white\", \"landcolor\": \"#E5ECF6\", \"showlakes\": true, \"showland\": true, \"subunitcolor\": \"white\"}, \"hoverlabel\": {\"align\": \"left\"}, \"hovermode\": \"closest\", \"mapbox\": {\"style\": \"light\"}, \"paper_bgcolor\": \"white\", \"plot_bgcolor\": \"#E5ECF6\", \"polar\": {\"angularaxis\": {\"gridcolor\": \"white\", \"linecolor\": \"white\", \"ticks\": \"\"}, \"bgcolor\": \"#E5ECF6\", \"radialaxis\": {\"gridcolor\": \"white\", \"linecolor\": \"white\", \"ticks\": \"\"}}, \"scene\": {\"xaxis\": {\"backgroundcolor\": \"#E5ECF6\", \"gridcolor\": \"white\", \"gridwidth\": 2, \"linecolor\": \"white\", \"showbackground\": true, \"ticks\": \"\", \"zerolinecolor\": \"white\"}, \"yaxis\": {\"backgroundcolor\": \"#E5ECF6\", \"gridcolor\": \"white\", \"gridwidth\": 2, \"linecolor\": \"white\", \"showbackground\": true, \"ticks\": \"\", \"zerolinecolor\": \"white\"}, \"zaxis\": {\"backgroundcolor\": \"#E5ECF6\", \"gridcolor\": \"white\", \"gridwidth\": 2, \"linecolor\": \"white\", \"showbackground\": true, \"ticks\": \"\", \"zerolinecolor\": \"white\"}}, \"shapedefaults\": {\"line\": {\"color\": \"#2a3f5f\"}}, \"ternary\": {\"aaxis\": {\"gridcolor\": \"white\", \"linecolor\": \"white\", \"ticks\": \"\"}, \"baxis\": {\"gridcolor\": \"white\", \"linecolor\": \"white\", \"ticks\": \"\"}, \"bgcolor\": \"#E5ECF6\", \"caxis\": {\"gridcolor\": \"white\", \"linecolor\": \"white\", \"ticks\": \"\"}}, \"title\": {\"x\": 0.05}, \"xaxis\": {\"automargin\": true, \"gridcolor\": \"white\", \"linecolor\": \"white\", \"ticks\": \"\", \"title\": {\"standoff\": 15}, \"zerolinecolor\": \"white\", \"zerolinewidth\": 2}, \"yaxis\": {\"automargin\": true, \"gridcolor\": \"white\", \"linecolor\": \"white\", \"ticks\": \"\", \"title\": {\"standoff\": 15}, \"zerolinecolor\": \"white\", \"zerolinewidth\": 2}}}, \"title\": {\"text\": \"Visualizing Clusters in Two Dimensions Using PCA\"}, \"xaxis\": {\"ticklen\": 5, \"title\": {\"text\": \"PC1\"}, \"zeroline\": false}, \"yaxis\": {\"ticklen\": 5, \"title\": {\"text\": \"PC2\"}, \"zeroline\": false}},\n",
       "                        {\"responsive\": true}\n",
       "                    ).then(function(){\n",
       "                            \n",
       "var gd = document.getElementById('1fbdf8b9-9cde-4065-b648-9956d57b8c2f');\n",
       "var x = new MutationObserver(function (mutations, observer) {{\n",
       "        var display = window.getComputedStyle(gd).display;\n",
       "        if (!display || display === 'none') {{\n",
       "            console.log([gd, 'removed!']);\n",
       "            Plotly.purge(gd);\n",
       "            observer.disconnect();\n",
       "        }}\n",
       "}});\n",
       "\n",
       "// Listen for the removal of the full notebook cells\n",
       "var notebookContainer = gd.closest('#notebook-container');\n",
       "if (notebookContainer) {{\n",
       "    x.observe(notebookContainer, {childList: true});\n",
       "}}\n",
       "\n",
       "// Listen for the clearing of the current output cell\n",
       "var outputEl = gd.closest('.output');\n",
       "if (outputEl) {{\n",
       "    x.observe(outputEl, {childList: true});\n",
       "}}\n",
       "\n",
       "                        })\n",
       "                };\n",
       "                });\n",
       "            </script>\n",
       "        </div>"
      ]
     },
     "metadata": {},
     "output_type": "display_data"
    }
   ],
   "source": [
    "#Instructions for building the 2-D plot\n",
    "\n",
    "#trace1 is for 'Cluster 0'\n",
    "trace1 = go.Scatter(\n",
    "                    x = cluster0[\"PC1_2d\"],\n",
    "                    y = cluster0[\"PC2_2d\"],\n",
    "                    mode = \"markers\",\n",
    "                    name = \"Cluster 0\",\n",
    "                    marker = dict(color = 'rgba(255, 128, 255, 0.8)'),\n",
    "                    text = cluster0.index)\n",
    "\n",
    "#trace2 is for 'Cluster 1'\n",
    "trace2 = go.Scatter(\n",
    "                    x = cluster1[\"PC1_2d\"],\n",
    "                    y = cluster1[\"PC2_2d\"],\n",
    "                    mode = \"markers\",\n",
    "                    name = \"Cluster 1\",\n",
    "                    marker = dict(color = 'rgba(255, 128, 2, 0.8)'),\n",
    "                    text = cluster1.index)\n",
    "\n",
    "#trace3 is for 'Cluster 2'\n",
    "trace3 = go.Scatter(\n",
    "                    x = cluster2[\"PC1_2d\"],\n",
    "                    y = cluster2[\"PC2_2d\"],\n",
    "                    mode = \"markers\",\n",
    "                    name = \"Cluster 2\",\n",
    "                    marker = dict(color = 'rgba(0, 255, 200, 0.8)'),\n",
    "                    text = cluster2.index)\n",
    "\n",
    "data = [trace1, trace2, trace3]\n",
    "\n",
    "title = \"Visualizing Clusters in Two Dimensions Using PCA\"\n",
    "\n",
    "layout = dict(title = title,\n",
    "              xaxis= dict(title= 'PC1',ticklen= 5,zeroline= False),\n",
    "              yaxis= dict(title= 'PC2',ticklen= 5,zeroline= False)\n",
    "             )\n",
    "\n",
    "fig = dict(data = data, layout = layout)\n",
    "\n",
    "iplot(fig)"
   ]
  },
  {
   "cell_type": "code",
   "execution_count": 15,
   "metadata": {},
   "outputs": [
    {
     "data": {
      "application/vnd.plotly.v1+json": {
       "config": {
        "linkText": "Export to plot.ly",
        "plotlyServerURL": "https://plot.ly",
        "showLink": false
       },
       "data": [
        {
         "marker": {
          "color": "rgba(255, 128, 255, 0.8)"
         },
         "mode": "markers",
         "name": "Cluster 0",
         "text": [
          "China",
          "India"
         ],
         "type": "scatter3d",
         "x": [
          -0.7824436323791237,
          1.8251352031578596
         ],
         "y": [
          10.756577012589947,
          9.337832860741905
         ],
         "z": [
          0.1412207967849421,
          0.354898191488577
         ]
        },
        {
         "marker": {
          "color": "rgba(255, 128, 2, 0.8)"
         },
         "mode": "markers",
         "name": "Cluster 1",
         "text": [
          "Nepal",
          "Burkina Faso",
          "Chad",
          "Cabo Verde",
          "Nigeria",
          "Djibouti",
          "Liberia",
          "Cameroon",
          "Equatorial Guinea",
          "Eswatini",
          "Kosovo",
          "Philippines",
          "Indonesia",
          "Guinea-Bissau",
          "Somalia",
          "Ghana",
          "Guinea",
          "Sierra Leone",
          "Guatemala",
          "South Sudan",
          "Mauritania",
          "Cambodia",
          "Papua New Guinea",
          "Bangladesh",
          "Liechtenstein",
          "Senegal",
          "Bolivia",
          "Botswana",
          "Uganda",
          "Burundi",
          "Malawi",
          "South Africa",
          "Iraq",
          "Afghanistan",
          "Mozambique",
          "Angola",
          "Togo",
          "Niger",
          "Madagascar",
          "Cote d'Ivoire",
          "Gabon",
          "Rwanda",
          "Pakistan",
          "Kenya",
          "Sudan",
          "Benin",
          "Guyana"
         ],
         "type": "scatter3d",
         "x": [
          2.712875832569323,
          2.987604320007734,
          4.41164167229444,
          1.0192659380474913,
          3.61967756636312,
          1.8363032173903806,
          2.3500641171925545,
          2.550156357833384,
          2.547237358037496,
          1.4410469270908857,
          2.2284999136547117,
          1.2271164165471355,
          0.6577486120150624,
          2.93655983990595,
          4.524435999946103,
          2.026865077263237,
          2.6758837280714522,
          2.566437437861221,
          1.2116107831751024,
          4.305519272908026,
          2.6615682487157173,
          1.1746968026434723,
          1.0673929880041655,
          2.132165545421229,
          2.135893162195809,
          2.242621542854536,
          0.687481404693863,
          0.9494459410441348,
          3.160676406532648,
          2.87717663472523,
          2.551685758590985,
          0.6889792938123936,
          1.168883985095913,
          2.9109532072718363,
          3.1556616458019753,
          2.6223701717175456,
          2.3541878753450227,
          4.32433315282282,
          3.019580535113529,
          2.3136915076644176,
          0.5754762663803483,
          2.472962610622203,
          2.51221744776083,
          2.852112225117517,
          2.6997246717052796,
          2.6841100628522474,
          0.6275018473241611
         ],
         "y": [
          0.6315732939960143,
          -0.26875038827404985,
          -0.17226089101842312,
          -0.19977764587128988,
          1.046541186676063,
          -0.1785985878563149,
          -0.6675164653064454,
          0.30361112224875414,
          -0.40101864798139186,
          -0.5767738495561938,
          -0.8966840412233359,
          0.010261898183023224,
          1.37605953753495,
          -0.5377258194618543,
          -0.4541536041163682,
          -0.2166138040152255,
          -0.7560794352586158,
          -0.6174058978611204,
          -0.36241704406997977,
          -0.103807249125346,
          -0.4196471879450955,
          -0.7699884158586118,
          -0.6645488681180151,
          0.9325011134405973,
          -0.887702084081614,
          -0.26204171841802865,
          -0.3583301611670096,
          -0.4302164867910633,
          0.006838749521387623,
          -0.23754331355721447,
          -0.45015247393077945,
          0.5648353371581696,
          0.23646312789098403,
          0.07197055457399863,
          -0.6396853661630895,
          -0.4553210268787098,
          -0.45316359476744467,
          0.32103427694238146,
          -0.5352929273998953,
          -0.474611118553239,
          -0.17499793412068926,
          -0.17468730316288203,
          1.212630628600384,
          -0.07524735628621046,
          0.40584813932942354,
          -0.44012661482763465,
          -0.5091986370465105
         ],
         "z": [
          0.22794291911047962,
          0.14033718491439667,
          1.926202902970986,
          -0.9055981816371779,
          -0.2070360120238671,
          1.1770689279514428,
          0.6711553992210779,
          0.11668621699936645,
          0.4041055012238541,
          -1.4587217293431953,
          4.3525447405173585,
          0.3792905832055474,
          -0.08404665757252097,
          0.46807485052217496,
          -0.18760510095887922,
          -1.0958830439026002,
          1.5820765781566515,
          0.5989792926300183,
          0.12417620604256757,
          1.5282655331115955,
          -0.4702688977314273,
          -0.06606155317190439,
          1.4839309758540349,
          -0.5034201473998083,
          4.326318599192672,
          0.10226574903455823,
          -0.027521560862868076,
          -1.1774258534312947,
          -0.3843526602500281,
          0.910724903328473,
          0.6296787255502002,
          -2.0175836763971717,
          -1.2414531671675584,
          0.739424718310012,
          -0.516170560742363,
          0.09326279401695972,
          0.06250039262151375,
          0.665305858701781,
          -0.31593628737425805,
          0.48856726782541937,
          -1.2844324423760989,
          0.08668932025717833,
          0.422637662411328,
          -0.16097121920986407,
          -0.3761558642563616,
          0.593777205056471,
          -0.5803945027636638
         ]
        },
        {
         "marker": {
          "color": "rgba(0, 255, 200, 0.8)"
         },
         "mode": "markers",
         "name": "Cluster 2",
         "text": [
          "Barbados",
          "Colombia",
          "Grenada",
          "New Zealand",
          "Canada",
          "Sweden",
          "Uzbekistan",
          "Dominica",
          "Armenia",
          "Hungary",
          "Belize",
          "Honduras",
          "El Salvador",
          "Mexico",
          "Portugal",
          "Cyprus",
          "United Arab Emirates",
          "Romania",
          "Libya",
          "Trinidad and Tobago",
          "Bahrain",
          "Belgium",
          "Bosnia and Herzegovina",
          "San Marino",
          "Georgia",
          "Belarus",
          "Estonia",
          "Croatia",
          "Suriname",
          "Mongolia",
          "Sri Lanka",
          "Uruguay",
          "Norway",
          "France",
          "Jamaica",
          "Denmark",
          "Japan",
          "Brazil",
          "Jordan",
          "Serbia",
          "Antigua and Barbuda",
          "Kuwait",
          "Maldives",
          "Ukraine",
          "Moldova",
          "Switzerland",
          "Tunisia",
          "Lebanon",
          "Cuba",
          "Peru",
          "Oman",
          "Malta",
          "Andorra",
          "Albania",
          "Dominican Republic",
          "Vietnam",
          "Luxembourg",
          "Slovenia",
          "Panama",
          "Netherlands",
          "Spain",
          "Malaysia",
          "Poland",
          "Austria",
          "Montenegro",
          "Fiji",
          "Chile",
          "North Macedonia",
          "Argentina",
          "Turkey",
          "Thailand",
          "Singapore",
          "Australia",
          "Paraguay",
          "Seychelles",
          "Italy",
          "Israel",
          "Finland"
         ],
         "type": "scatter3d",
         "x": [
          -1.0745434240462486,
          -0.39594168983596073,
          -0.34680136094605235,
          -1.9274385089682977,
          -2.5042367261557965,
          -2.66590639354564,
          -0.4168397490588478,
          -0.2772591732852305,
          -0.5343235532130653,
          -3.2368439880790394,
          0.27994718803189933,
          0.5855363054643806,
          -0.048647283865720155,
          -0.6988353437353181,
          -2.3004014096768564,
          -1.845471303671683,
          -1.7468024919869818,
          -2.102915473691116,
          -0.13244036980236393,
          -0.798971846683411,
          -0.7967714647801466,
          -3.839058350144711,
          -1.161872233138972,
          -1.649276852318608,
          -0.902713301443001,
          -2.9280238339718854,
          -2.7909364144325024,
          -2.204974625955278,
          -0.5124011029852384,
          -0.1278760350721933,
          0.1870498075475657,
          -1.5508622225952455,
          -2.6110698000044756,
          -3.455737145091153,
          0.4071727331033819,
          -2.5661132958994552,
          -4.120994937986451,
          -0.4545295576561563,
          -0.23497071405215295,
          -1.4977261453220976,
          -0.3306835049398802,
          -1.1851203514712574,
          -0.6108056836971746,
          -1.383094453937241,
          -1.066551459146794,
          -3.0075706581462143,
          -0.7621298504277416,
          0.21144078207682218,
          -1.3588719432372596,
          0.20631461495056166,
          0.03269627503843474,
          -2.8579354573712585,
          -0.6648133409238145,
          -1.2929814847414927,
          -0.25857841319058517,
          -0.08907090911332663,
          -3.441585836201087,
          -2.6579978994886018,
          -0.41787782758580694,
          -3.382814282147444,
          -3.0621123853296255,
          -1.3221016845256535,
          -2.404349844425401,
          -2.822406181187878,
          -1.478552203590037,
          -0.5316388783381519,
          -1.1932920878452424,
          -1.614852382035758,
          -0.28393324125176045,
          -0.06413847993498892,
          -0.5046113673200459,
          -3.621909322996634,
          -2.2634208975026513,
          -0.0008838823364804329,
          -1.2377802706790952,
          -3.160475730109664,
          -1.762349299898534,
          -2.85513098882449
         ],
         "y": [
          -0.16661630877364156,
          0.033339477099738994,
          -0.33172431587405565,
          -0.41257854595455007,
          1.5471599125729962,
          -0.16755640943159958,
          -0.006181117934299246,
          -0.6141260691459542,
          -0.1456961804199945,
          -0.48681461791600844,
          -0.4951608154623435,
          -0.63243192000087,
          -0.43332037969327114,
          0.6724805985783266,
          -0.22303790723022812,
          -0.40297376060961465,
          -0.5225005235241843,
          -0.03034089192034921,
          0.018824198294438054,
          -0.4420316244447848,
          -0.0468206829065898,
          -0.5900180406424451,
          -0.350922850789079,
          -0.5699273563268754,
          -0.30325328538232105,
          -0.4039804530908757,
          -0.7273923962005994,
          -0.2783696239766159,
          -0.6446852500948699,
          -0.3577882827650124,
          -0.29716809106112985,
          -0.3074456533971448,
          -0.37921217446736766,
          1.8998644596751828,
          -0.46618598755335916,
          -0.45619847252670515,
          1.190437498311085,
          2.0036090216342384,
          -0.23477556172810563,
          -0.2291401547552631,
          -0.37243571335929415,
          -0.13739603902002942,
          -0.6218225026971702,
          0.3292961948602672,
          -0.43263592693013203,
          -0.41091121778376455,
          -0.18170874842636678,
          -0.25584826163478774,
          0.09388572759395951,
          -0.09983358292644523,
          -0.4106088351003313,
          -0.4474247337230543,
          -0.6825150873627615,
          -0.28575508777190384,
          -0.41625696089579906,
          -0.4804589899795788,
          -0.6482821734670563,
          -0.8126283102407458,
          -0.4971877087635925,
          -0.5666178249364267,
          1.6346124379665719,
          -0.499360814693013,
          0.3236480825886341,
          -0.4056965471419567,
          -0.3102894738446087,
          -0.6022930178671562,
          -0.14092494661176802,
          -0.4425214837520256,
          0.3276433788373047,
          1.039175866870652,
          0.06636392442370079,
          -1.2831496943137752,
          0.08661266426247634,
          -0.5492556401713367,
          -0.7630348301362392,
          1.7849575555447588,
          -0.18984414666163707,
          -0.3413298722597676
         ],
         "z": [
          -0.315102117560027,
          -0.657519836868341,
          0.2819218888924435,
          1.7868596304659203,
          2.20916298120948,
          1.777845290347264,
          -0.3960857922232868,
          1.7006513685661095,
          -2.05287554208688,
          -0.7016531808201439,
          -0.03446296203653544,
          -0.9526198586338969,
          0.1290822023465616,
          -0.2729020446268722,
          0.0306173295964727,
          -0.23942267268443318,
          -0.4317915849334771,
          0.04272618844180195,
          -1.7623961438473943,
          -0.19056231940723276,
          -0.6066740952977797,
          1.0026656078227043,
          -1.0774192446867372,
          0.751030875476186,
          -1.7452908381734225,
          -1.380893018302988,
          -0.28371696180718675,
          -0.35623094459329396,
          -1.5588070460967258,
          -2.191618270959484,
          -0.49058507556004965,
          -0.604573984768997,
          2.2268642243935535,
          2.0376130948166074,
          -0.45637965983513523,
          1.9448433852845652,
          2.0186310149921565,
          -0.6708337401368166,
          -1.6877365266383215,
          -2.2658935529333544,
          0.47036666369311003,
          -0.4420804894036792,
          -0.5461046638377632,
          -1.1120562242048784,
          -0.6858788510060786,
          1.9637162586088501,
          -1.1249229906044431,
          -0.9478057082605749,
          0.1584961127841104,
          0.00021858679577868548,
          -0.7567255598671303,
          0.07114531058830394,
          1.7647418600987224,
          -0.7844395590162474,
          -0.6974230538661761,
          -0.9756760189812891,
          2.1435097301546278,
          -0.5057563570080323,
          0.056334360423414415,
          1.2508388234688441,
          0.004172936406910402,
          -0.6974480789002985,
          -0.1122779652604409,
          1.993871719184619,
          -1.0889736145803919,
          -0.4717087524097859,
          -0.4944750954320862,
          -1.7581909859574762,
          -2.604648103000279,
          -3.08422999865579,
          -0.09017407964984728,
          -0.8058063364991624,
          1.8923446209617882,
          -0.21903444251060974,
          -0.4142843914597342,
          0.3258661988455969,
          0.12174642684250979,
          1.909212765943276
         ]
        }
       ],
       "layout": {
        "template": {
         "data": {
          "bar": [
           {
            "error_x": {
             "color": "#2a3f5f"
            },
            "error_y": {
             "color": "#2a3f5f"
            },
            "marker": {
             "line": {
              "color": "#E5ECF6",
              "width": 0.5
             }
            },
            "type": "bar"
           }
          ],
          "barpolar": [
           {
            "marker": {
             "line": {
              "color": "#E5ECF6",
              "width": 0.5
             }
            },
            "type": "barpolar"
           }
          ],
          "carpet": [
           {
            "aaxis": {
             "endlinecolor": "#2a3f5f",
             "gridcolor": "white",
             "linecolor": "white",
             "minorgridcolor": "white",
             "startlinecolor": "#2a3f5f"
            },
            "baxis": {
             "endlinecolor": "#2a3f5f",
             "gridcolor": "white",
             "linecolor": "white",
             "minorgridcolor": "white",
             "startlinecolor": "#2a3f5f"
            },
            "type": "carpet"
           }
          ],
          "choropleth": [
           {
            "colorbar": {
             "outlinewidth": 0,
             "ticks": ""
            },
            "type": "choropleth"
           }
          ],
          "contour": [
           {
            "colorbar": {
             "outlinewidth": 0,
             "ticks": ""
            },
            "colorscale": [
             [
              0,
              "#0d0887"
             ],
             [
              0.1111111111111111,
              "#46039f"
             ],
             [
              0.2222222222222222,
              "#7201a8"
             ],
             [
              0.3333333333333333,
              "#9c179e"
             ],
             [
              0.4444444444444444,
              "#bd3786"
             ],
             [
              0.5555555555555556,
              "#d8576b"
             ],
             [
              0.6666666666666666,
              "#ed7953"
             ],
             [
              0.7777777777777778,
              "#fb9f3a"
             ],
             [
              0.8888888888888888,
              "#fdca26"
             ],
             [
              1,
              "#f0f921"
             ]
            ],
            "type": "contour"
           }
          ],
          "contourcarpet": [
           {
            "colorbar": {
             "outlinewidth": 0,
             "ticks": ""
            },
            "type": "contourcarpet"
           }
          ],
          "heatmap": [
           {
            "colorbar": {
             "outlinewidth": 0,
             "ticks": ""
            },
            "colorscale": [
             [
              0,
              "#0d0887"
             ],
             [
              0.1111111111111111,
              "#46039f"
             ],
             [
              0.2222222222222222,
              "#7201a8"
             ],
             [
              0.3333333333333333,
              "#9c179e"
             ],
             [
              0.4444444444444444,
              "#bd3786"
             ],
             [
              0.5555555555555556,
              "#d8576b"
             ],
             [
              0.6666666666666666,
              "#ed7953"
             ],
             [
              0.7777777777777778,
              "#fb9f3a"
             ],
             [
              0.8888888888888888,
              "#fdca26"
             ],
             [
              1,
              "#f0f921"
             ]
            ],
            "type": "heatmap"
           }
          ],
          "heatmapgl": [
           {
            "colorbar": {
             "outlinewidth": 0,
             "ticks": ""
            },
            "colorscale": [
             [
              0,
              "#0d0887"
             ],
             [
              0.1111111111111111,
              "#46039f"
             ],
             [
              0.2222222222222222,
              "#7201a8"
             ],
             [
              0.3333333333333333,
              "#9c179e"
             ],
             [
              0.4444444444444444,
              "#bd3786"
             ],
             [
              0.5555555555555556,
              "#d8576b"
             ],
             [
              0.6666666666666666,
              "#ed7953"
             ],
             [
              0.7777777777777778,
              "#fb9f3a"
             ],
             [
              0.8888888888888888,
              "#fdca26"
             ],
             [
              1,
              "#f0f921"
             ]
            ],
            "type": "heatmapgl"
           }
          ],
          "histogram": [
           {
            "marker": {
             "colorbar": {
              "outlinewidth": 0,
              "ticks": ""
             }
            },
            "type": "histogram"
           }
          ],
          "histogram2d": [
           {
            "colorbar": {
             "outlinewidth": 0,
             "ticks": ""
            },
            "colorscale": [
             [
              0,
              "#0d0887"
             ],
             [
              0.1111111111111111,
              "#46039f"
             ],
             [
              0.2222222222222222,
              "#7201a8"
             ],
             [
              0.3333333333333333,
              "#9c179e"
             ],
             [
              0.4444444444444444,
              "#bd3786"
             ],
             [
              0.5555555555555556,
              "#d8576b"
             ],
             [
              0.6666666666666666,
              "#ed7953"
             ],
             [
              0.7777777777777778,
              "#fb9f3a"
             ],
             [
              0.8888888888888888,
              "#fdca26"
             ],
             [
              1,
              "#f0f921"
             ]
            ],
            "type": "histogram2d"
           }
          ],
          "histogram2dcontour": [
           {
            "colorbar": {
             "outlinewidth": 0,
             "ticks": ""
            },
            "colorscale": [
             [
              0,
              "#0d0887"
             ],
             [
              0.1111111111111111,
              "#46039f"
             ],
             [
              0.2222222222222222,
              "#7201a8"
             ],
             [
              0.3333333333333333,
              "#9c179e"
             ],
             [
              0.4444444444444444,
              "#bd3786"
             ],
             [
              0.5555555555555556,
              "#d8576b"
             ],
             [
              0.6666666666666666,
              "#ed7953"
             ],
             [
              0.7777777777777778,
              "#fb9f3a"
             ],
             [
              0.8888888888888888,
              "#fdca26"
             ],
             [
              1,
              "#f0f921"
             ]
            ],
            "type": "histogram2dcontour"
           }
          ],
          "mesh3d": [
           {
            "colorbar": {
             "outlinewidth": 0,
             "ticks": ""
            },
            "type": "mesh3d"
           }
          ],
          "parcoords": [
           {
            "line": {
             "colorbar": {
              "outlinewidth": 0,
              "ticks": ""
             }
            },
            "type": "parcoords"
           }
          ],
          "pie": [
           {
            "automargin": true,
            "type": "pie"
           }
          ],
          "scatter": [
           {
            "marker": {
             "colorbar": {
              "outlinewidth": 0,
              "ticks": ""
             }
            },
            "type": "scatter"
           }
          ],
          "scatter3d": [
           {
            "line": {
             "colorbar": {
              "outlinewidth": 0,
              "ticks": ""
             }
            },
            "marker": {
             "colorbar": {
              "outlinewidth": 0,
              "ticks": ""
             }
            },
            "type": "scatter3d"
           }
          ],
          "scattercarpet": [
           {
            "marker": {
             "colorbar": {
              "outlinewidth": 0,
              "ticks": ""
             }
            },
            "type": "scattercarpet"
           }
          ],
          "scattergeo": [
           {
            "marker": {
             "colorbar": {
              "outlinewidth": 0,
              "ticks": ""
             }
            },
            "type": "scattergeo"
           }
          ],
          "scattergl": [
           {
            "marker": {
             "colorbar": {
              "outlinewidth": 0,
              "ticks": ""
             }
            },
            "type": "scattergl"
           }
          ],
          "scattermapbox": [
           {
            "marker": {
             "colorbar": {
              "outlinewidth": 0,
              "ticks": ""
             }
            },
            "type": "scattermapbox"
           }
          ],
          "scatterpolar": [
           {
            "marker": {
             "colorbar": {
              "outlinewidth": 0,
              "ticks": ""
             }
            },
            "type": "scatterpolar"
           }
          ],
          "scatterpolargl": [
           {
            "marker": {
             "colorbar": {
              "outlinewidth": 0,
              "ticks": ""
             }
            },
            "type": "scatterpolargl"
           }
          ],
          "scatterternary": [
           {
            "marker": {
             "colorbar": {
              "outlinewidth": 0,
              "ticks": ""
             }
            },
            "type": "scatterternary"
           }
          ],
          "surface": [
           {
            "colorbar": {
             "outlinewidth": 0,
             "ticks": ""
            },
            "colorscale": [
             [
              0,
              "#0d0887"
             ],
             [
              0.1111111111111111,
              "#46039f"
             ],
             [
              0.2222222222222222,
              "#7201a8"
             ],
             [
              0.3333333333333333,
              "#9c179e"
             ],
             [
              0.4444444444444444,
              "#bd3786"
             ],
             [
              0.5555555555555556,
              "#d8576b"
             ],
             [
              0.6666666666666666,
              "#ed7953"
             ],
             [
              0.7777777777777778,
              "#fb9f3a"
             ],
             [
              0.8888888888888888,
              "#fdca26"
             ],
             [
              1,
              "#f0f921"
             ]
            ],
            "type": "surface"
           }
          ],
          "table": [
           {
            "cells": {
             "fill": {
              "color": "#EBF0F8"
             },
             "line": {
              "color": "white"
             }
            },
            "header": {
             "fill": {
              "color": "#C8D4E3"
             },
             "line": {
              "color": "white"
             }
            },
            "type": "table"
           }
          ]
         },
         "layout": {
          "annotationdefaults": {
           "arrowcolor": "#2a3f5f",
           "arrowhead": 0,
           "arrowwidth": 1
          },
          "coloraxis": {
           "colorbar": {
            "outlinewidth": 0,
            "ticks": ""
           }
          },
          "colorscale": {
           "diverging": [
            [
             0,
             "#8e0152"
            ],
            [
             0.1,
             "#c51b7d"
            ],
            [
             0.2,
             "#de77ae"
            ],
            [
             0.3,
             "#f1b6da"
            ],
            [
             0.4,
             "#fde0ef"
            ],
            [
             0.5,
             "#f7f7f7"
            ],
            [
             0.6,
             "#e6f5d0"
            ],
            [
             0.7,
             "#b8e186"
            ],
            [
             0.8,
             "#7fbc41"
            ],
            [
             0.9,
             "#4d9221"
            ],
            [
             1,
             "#276419"
            ]
           ],
           "sequential": [
            [
             0,
             "#0d0887"
            ],
            [
             0.1111111111111111,
             "#46039f"
            ],
            [
             0.2222222222222222,
             "#7201a8"
            ],
            [
             0.3333333333333333,
             "#9c179e"
            ],
            [
             0.4444444444444444,
             "#bd3786"
            ],
            [
             0.5555555555555556,
             "#d8576b"
            ],
            [
             0.6666666666666666,
             "#ed7953"
            ],
            [
             0.7777777777777778,
             "#fb9f3a"
            ],
            [
             0.8888888888888888,
             "#fdca26"
            ],
            [
             1,
             "#f0f921"
            ]
           ],
           "sequentialminus": [
            [
             0,
             "#0d0887"
            ],
            [
             0.1111111111111111,
             "#46039f"
            ],
            [
             0.2222222222222222,
             "#7201a8"
            ],
            [
             0.3333333333333333,
             "#9c179e"
            ],
            [
             0.4444444444444444,
             "#bd3786"
            ],
            [
             0.5555555555555556,
             "#d8576b"
            ],
            [
             0.6666666666666666,
             "#ed7953"
            ],
            [
             0.7777777777777778,
             "#fb9f3a"
            ],
            [
             0.8888888888888888,
             "#fdca26"
            ],
            [
             1,
             "#f0f921"
            ]
           ]
          },
          "colorway": [
           "#636efa",
           "#EF553B",
           "#00cc96",
           "#ab63fa",
           "#FFA15A",
           "#19d3f3",
           "#FF6692",
           "#B6E880",
           "#FF97FF",
           "#FECB52"
          ],
          "font": {
           "color": "#2a3f5f"
          },
          "geo": {
           "bgcolor": "white",
           "lakecolor": "white",
           "landcolor": "#E5ECF6",
           "showlakes": true,
           "showland": true,
           "subunitcolor": "white"
          },
          "hoverlabel": {
           "align": "left"
          },
          "hovermode": "closest",
          "mapbox": {
           "style": "light"
          },
          "paper_bgcolor": "white",
          "plot_bgcolor": "#E5ECF6",
          "polar": {
           "angularaxis": {
            "gridcolor": "white",
            "linecolor": "white",
            "ticks": ""
           },
           "bgcolor": "#E5ECF6",
           "radialaxis": {
            "gridcolor": "white",
            "linecolor": "white",
            "ticks": ""
           }
          },
          "scene": {
           "xaxis": {
            "backgroundcolor": "#E5ECF6",
            "gridcolor": "white",
            "gridwidth": 2,
            "linecolor": "white",
            "showbackground": true,
            "ticks": "",
            "zerolinecolor": "white"
           },
           "yaxis": {
            "backgroundcolor": "#E5ECF6",
            "gridcolor": "white",
            "gridwidth": 2,
            "linecolor": "white",
            "showbackground": true,
            "ticks": "",
            "zerolinecolor": "white"
           },
           "zaxis": {
            "backgroundcolor": "#E5ECF6",
            "gridcolor": "white",
            "gridwidth": 2,
            "linecolor": "white",
            "showbackground": true,
            "ticks": "",
            "zerolinecolor": "white"
           }
          },
          "shapedefaults": {
           "line": {
            "color": "#2a3f5f"
           }
          },
          "ternary": {
           "aaxis": {
            "gridcolor": "white",
            "linecolor": "white",
            "ticks": ""
           },
           "baxis": {
            "gridcolor": "white",
            "linecolor": "white",
            "ticks": ""
           },
           "bgcolor": "#E5ECF6",
           "caxis": {
            "gridcolor": "white",
            "linecolor": "white",
            "ticks": ""
           }
          },
          "title": {
           "x": 0.05
          },
          "xaxis": {
           "automargin": true,
           "gridcolor": "white",
           "linecolor": "white",
           "ticks": "",
           "title": {
            "standoff": 15
           },
           "zerolinecolor": "white",
           "zerolinewidth": 2
          },
          "yaxis": {
           "automargin": true,
           "gridcolor": "white",
           "linecolor": "white",
           "ticks": "",
           "title": {
            "standoff": 15
           },
           "zerolinecolor": "white",
           "zerolinewidth": 2
          }
         }
        },
        "title": {
         "text": "Visualizing Clusters in Three Dimensions Using PCA"
        },
        "xaxis": {
         "ticklen": 5,
         "title": {
          "text": "PC1"
         },
         "zeroline": false
        },
        "yaxis": {
         "ticklen": 5,
         "title": {
          "text": "PC2"
         },
         "zeroline": false
        }
       }
      },
      "text/html": [
       "<div>\n",
       "        \n",
       "        \n",
       "            <div id=\"ced8e7dc-0e3e-4104-a353-2f54cfc63fe1\" class=\"plotly-graph-div\" style=\"height:525px; width:100%;\"></div>\n",
       "            <script type=\"text/javascript\">\n",
       "                require([\"plotly\"], function(Plotly) {\n",
       "                    window.PLOTLYENV=window.PLOTLYENV || {};\n",
       "                    \n",
       "                if (document.getElementById(\"ced8e7dc-0e3e-4104-a353-2f54cfc63fe1\")) {\n",
       "                    Plotly.newPlot(\n",
       "                        'ced8e7dc-0e3e-4104-a353-2f54cfc63fe1',\n",
       "                        [{\"marker\": {\"color\": \"rgba(255, 128, 255, 0.8)\"}, \"mode\": \"markers\", \"name\": \"Cluster 0\", \"text\": [\"China\", \"India\"], \"type\": \"scatter3d\", \"x\": [-0.7824436323791237, 1.8251352031578596], \"y\": [10.756577012589947, 9.337832860741905], \"z\": [0.1412207967849421, 0.354898191488577]}, {\"marker\": {\"color\": \"rgba(255, 128, 2, 0.8)\"}, \"mode\": \"markers\", \"name\": \"Cluster 1\", \"text\": [\"Nepal\", \"Burkina Faso\", \"Chad\", \"Cabo Verde\", \"Nigeria\", \"Djibouti\", \"Liberia\", \"Cameroon\", \"Equatorial Guinea\", \"Eswatini\", \"Kosovo\", \"Philippines\", \"Indonesia\", \"Guinea-Bissau\", \"Somalia\", \"Ghana\", \"Guinea\", \"Sierra Leone\", \"Guatemala\", \"South Sudan\", \"Mauritania\", \"Cambodia\", \"Papua New Guinea\", \"Bangladesh\", \"Liechtenstein\", \"Senegal\", \"Bolivia\", \"Botswana\", \"Uganda\", \"Burundi\", \"Malawi\", \"South Africa\", \"Iraq\", \"Afghanistan\", \"Mozambique\", \"Angola\", \"Togo\", \"Niger\", \"Madagascar\", \"Cote d'Ivoire\", \"Gabon\", \"Rwanda\", \"Pakistan\", \"Kenya\", \"Sudan\", \"Benin\", \"Guyana\"], \"type\": \"scatter3d\", \"x\": [2.712875832569323, 2.987604320007734, 4.41164167229444, 1.0192659380474913, 3.61967756636312, 1.8363032173903806, 2.3500641171925545, 2.550156357833384, 2.547237358037496, 1.4410469270908857, 2.2284999136547117, 1.2271164165471355, 0.6577486120150624, 2.93655983990595, 4.524435999946103, 2.026865077263237, 2.6758837280714522, 2.566437437861221, 1.2116107831751024, 4.305519272908026, 2.6615682487157173, 1.1746968026434723, 1.0673929880041655, 2.132165545421229, 2.135893162195809, 2.242621542854536, 0.687481404693863, 0.9494459410441348, 3.160676406532648, 2.87717663472523, 2.551685758590985, 0.6889792938123936, 1.168883985095913, 2.9109532072718363, 3.1556616458019753, 2.6223701717175456, 2.3541878753450227, 4.32433315282282, 3.019580535113529, 2.3136915076644176, 0.5754762663803483, 2.472962610622203, 2.51221744776083, 2.852112225117517, 2.6997246717052796, 2.6841100628522474, 0.6275018473241611], \"y\": [0.6315732939960143, -0.26875038827404985, -0.17226089101842312, -0.19977764587128988, 1.046541186676063, -0.1785985878563149, -0.6675164653064454, 0.30361112224875414, -0.40101864798139186, -0.5767738495561938, -0.8966840412233359, 0.010261898183023224, 1.37605953753495, -0.5377258194618543, -0.4541536041163682, -0.2166138040152255, -0.7560794352586158, -0.6174058978611204, -0.36241704406997977, -0.103807249125346, -0.4196471879450955, -0.7699884158586118, -0.6645488681180151, 0.9325011134405973, -0.887702084081614, -0.26204171841802865, -0.3583301611670096, -0.4302164867910633, 0.006838749521387623, -0.23754331355721447, -0.45015247393077945, 0.5648353371581696, 0.23646312789098403, 0.07197055457399863, -0.6396853661630895, -0.4553210268787098, -0.45316359476744467, 0.32103427694238146, -0.5352929273998953, -0.474611118553239, -0.17499793412068926, -0.17468730316288203, 1.212630628600384, -0.07524735628621046, 0.40584813932942354, -0.44012661482763465, -0.5091986370465105], \"z\": [0.22794291911047962, 0.14033718491439667, 1.926202902970986, -0.9055981816371779, -0.2070360120238671, 1.1770689279514428, 0.6711553992210779, 0.11668621699936645, 0.4041055012238541, -1.4587217293431953, 4.3525447405173585, 0.3792905832055474, -0.08404665757252097, 0.46807485052217496, -0.18760510095887922, -1.0958830439026002, 1.5820765781566515, 0.5989792926300183, 0.12417620604256757, 1.5282655331115955, -0.4702688977314273, -0.06606155317190439, 1.4839309758540349, -0.5034201473998083, 4.326318599192672, 0.10226574903455823, -0.027521560862868076, -1.1774258534312947, -0.3843526602500281, 0.910724903328473, 0.6296787255502002, -2.0175836763971717, -1.2414531671675584, 0.739424718310012, -0.516170560742363, 0.09326279401695972, 0.06250039262151375, 0.665305858701781, -0.31593628737425805, 0.48856726782541937, -1.2844324423760989, 0.08668932025717833, 0.422637662411328, -0.16097121920986407, -0.3761558642563616, 0.593777205056471, -0.5803945027636638]}, {\"marker\": {\"color\": \"rgba(0, 255, 200, 0.8)\"}, \"mode\": \"markers\", \"name\": \"Cluster 2\", \"text\": [\"Barbados\", \"Colombia\", \"Grenada\", \"New Zealand\", \"Canada\", \"Sweden\", \"Uzbekistan\", \"Dominica\", \"Armenia\", \"Hungary\", \"Belize\", \"Honduras\", \"El Salvador\", \"Mexico\", \"Portugal\", \"Cyprus\", \"United Arab Emirates\", \"Romania\", \"Libya\", \"Trinidad and Tobago\", \"Bahrain\", \"Belgium\", \"Bosnia and Herzegovina\", \"San Marino\", \"Georgia\", \"Belarus\", \"Estonia\", \"Croatia\", \"Suriname\", \"Mongolia\", \"Sri Lanka\", \"Uruguay\", \"Norway\", \"France\", \"Jamaica\", \"Denmark\", \"Japan\", \"Brazil\", \"Jordan\", \"Serbia\", \"Antigua and Barbuda\", \"Kuwait\", \"Maldives\", \"Ukraine\", \"Moldova\", \"Switzerland\", \"Tunisia\", \"Lebanon\", \"Cuba\", \"Peru\", \"Oman\", \"Malta\", \"Andorra\", \"Albania\", \"Dominican Republic\", \"Vietnam\", \"Luxembourg\", \"Slovenia\", \"Panama\", \"Netherlands\", \"Spain\", \"Malaysia\", \"Poland\", \"Austria\", \"Montenegro\", \"Fiji\", \"Chile\", \"North Macedonia\", \"Argentina\", \"Turkey\", \"Thailand\", \"Singapore\", \"Australia\", \"Paraguay\", \"Seychelles\", \"Italy\", \"Israel\", \"Finland\"], \"type\": \"scatter3d\", \"x\": [-1.0745434240462486, -0.39594168983596073, -0.34680136094605235, -1.9274385089682977, -2.5042367261557965, -2.66590639354564, -0.4168397490588478, -0.2772591732852305, -0.5343235532130653, -3.2368439880790394, 0.27994718803189933, 0.5855363054643806, -0.048647283865720155, -0.6988353437353181, -2.3004014096768564, -1.845471303671683, -1.7468024919869818, -2.102915473691116, -0.13244036980236393, -0.798971846683411, -0.7967714647801466, -3.839058350144711, -1.161872233138972, -1.649276852318608, -0.902713301443001, -2.9280238339718854, -2.7909364144325024, -2.204974625955278, -0.5124011029852384, -0.1278760350721933, 0.1870498075475657, -1.5508622225952455, -2.6110698000044756, -3.455737145091153, 0.4071727331033819, -2.5661132958994552, -4.120994937986451, -0.4545295576561563, -0.23497071405215295, -1.4977261453220976, -0.3306835049398802, -1.1851203514712574, -0.6108056836971746, -1.383094453937241, -1.066551459146794, -3.0075706581462143, -0.7621298504277416, 0.21144078207682218, -1.3588719432372596, 0.20631461495056166, 0.03269627503843474, -2.8579354573712585, -0.6648133409238145, -1.2929814847414927, -0.25857841319058517, -0.08907090911332663, -3.441585836201087, -2.6579978994886018, -0.41787782758580694, -3.382814282147444, -3.0621123853296255, -1.3221016845256535, -2.404349844425401, -2.822406181187878, -1.478552203590037, -0.5316388783381519, -1.1932920878452424, -1.614852382035758, -0.28393324125176045, -0.06413847993498892, -0.5046113673200459, -3.621909322996634, -2.2634208975026513, -0.0008838823364804329, -1.2377802706790952, -3.160475730109664, -1.762349299898534, -2.85513098882449], \"y\": [-0.16661630877364156, 0.033339477099738994, -0.33172431587405565, -0.41257854595455007, 1.5471599125729962, -0.16755640943159958, -0.006181117934299246, -0.6141260691459542, -0.1456961804199945, -0.48681461791600844, -0.4951608154623435, -0.63243192000087, -0.43332037969327114, 0.6724805985783266, -0.22303790723022812, -0.40297376060961465, -0.5225005235241843, -0.03034089192034921, 0.018824198294438054, -0.4420316244447848, -0.0468206829065898, -0.5900180406424451, -0.350922850789079, -0.5699273563268754, -0.30325328538232105, -0.4039804530908757, -0.7273923962005994, -0.2783696239766159, -0.6446852500948699, -0.3577882827650124, -0.29716809106112985, -0.3074456533971448, -0.37921217446736766, 1.8998644596751828, -0.46618598755335916, -0.45619847252670515, 1.190437498311085, 2.0036090216342384, -0.23477556172810563, -0.2291401547552631, -0.37243571335929415, -0.13739603902002942, -0.6218225026971702, 0.3292961948602672, -0.43263592693013203, -0.41091121778376455, -0.18170874842636678, -0.25584826163478774, 0.09388572759395951, -0.09983358292644523, -0.4106088351003313, -0.4474247337230543, -0.6825150873627615, -0.28575508777190384, -0.41625696089579906, -0.4804589899795788, -0.6482821734670563, -0.8126283102407458, -0.4971877087635925, -0.5666178249364267, 1.6346124379665719, -0.499360814693013, 0.3236480825886341, -0.4056965471419567, -0.3102894738446087, -0.6022930178671562, -0.14092494661176802, -0.4425214837520256, 0.3276433788373047, 1.039175866870652, 0.06636392442370079, -1.2831496943137752, 0.08661266426247634, -0.5492556401713367, -0.7630348301362392, 1.7849575555447588, -0.18984414666163707, -0.3413298722597676], \"z\": [-0.315102117560027, -0.657519836868341, 0.2819218888924435, 1.7868596304659203, 2.20916298120948, 1.777845290347264, -0.3960857922232868, 1.7006513685661095, -2.05287554208688, -0.7016531808201439, -0.03446296203653544, -0.9526198586338969, 0.1290822023465616, -0.2729020446268722, 0.0306173295964727, -0.23942267268443318, -0.4317915849334771, 0.04272618844180195, -1.7623961438473943, -0.19056231940723276, -0.6066740952977797, 1.0026656078227043, -1.0774192446867372, 0.751030875476186, -1.7452908381734225, -1.380893018302988, -0.28371696180718675, -0.35623094459329396, -1.5588070460967258, -2.191618270959484, -0.49058507556004965, -0.604573984768997, 2.2268642243935535, 2.0376130948166074, -0.45637965983513523, 1.9448433852845652, 2.0186310149921565, -0.6708337401368166, -1.6877365266383215, -2.2658935529333544, 0.47036666369311003, -0.4420804894036792, -0.5461046638377632, -1.1120562242048784, -0.6858788510060786, 1.9637162586088501, -1.1249229906044431, -0.9478057082605749, 0.1584961127841104, 0.00021858679577868548, -0.7567255598671303, 0.07114531058830394, 1.7647418600987224, -0.7844395590162474, -0.6974230538661761, -0.9756760189812891, 2.1435097301546278, -0.5057563570080323, 0.056334360423414415, 1.2508388234688441, 0.004172936406910402, -0.6974480789002985, -0.1122779652604409, 1.993871719184619, -1.0889736145803919, -0.4717087524097859, -0.4944750954320862, -1.7581909859574762, -2.604648103000279, -3.08422999865579, -0.09017407964984728, -0.8058063364991624, 1.8923446209617882, -0.21903444251060974, -0.4142843914597342, 0.3258661988455969, 0.12174642684250979, 1.909212765943276]}],\n",
       "                        {\"template\": {\"data\": {\"bar\": [{\"error_x\": {\"color\": \"#2a3f5f\"}, \"error_y\": {\"color\": \"#2a3f5f\"}, \"marker\": {\"line\": {\"color\": \"#E5ECF6\", \"width\": 0.5}}, \"type\": \"bar\"}], \"barpolar\": [{\"marker\": {\"line\": {\"color\": \"#E5ECF6\", \"width\": 0.5}}, \"type\": \"barpolar\"}], \"carpet\": [{\"aaxis\": {\"endlinecolor\": \"#2a3f5f\", \"gridcolor\": \"white\", \"linecolor\": \"white\", \"minorgridcolor\": \"white\", \"startlinecolor\": \"#2a3f5f\"}, \"baxis\": {\"endlinecolor\": \"#2a3f5f\", \"gridcolor\": \"white\", \"linecolor\": \"white\", \"minorgridcolor\": \"white\", \"startlinecolor\": \"#2a3f5f\"}, \"type\": \"carpet\"}], \"choropleth\": [{\"colorbar\": {\"outlinewidth\": 0, \"ticks\": \"\"}, \"type\": \"choropleth\"}], \"contour\": [{\"colorbar\": {\"outlinewidth\": 0, \"ticks\": \"\"}, \"colorscale\": [[0.0, \"#0d0887\"], [0.1111111111111111, \"#46039f\"], [0.2222222222222222, \"#7201a8\"], [0.3333333333333333, \"#9c179e\"], [0.4444444444444444, \"#bd3786\"], [0.5555555555555556, \"#d8576b\"], [0.6666666666666666, \"#ed7953\"], [0.7777777777777778, \"#fb9f3a\"], [0.8888888888888888, \"#fdca26\"], [1.0, \"#f0f921\"]], \"type\": \"contour\"}], \"contourcarpet\": [{\"colorbar\": {\"outlinewidth\": 0, \"ticks\": \"\"}, \"type\": \"contourcarpet\"}], \"heatmap\": [{\"colorbar\": {\"outlinewidth\": 0, \"ticks\": \"\"}, \"colorscale\": [[0.0, \"#0d0887\"], [0.1111111111111111, \"#46039f\"], [0.2222222222222222, \"#7201a8\"], [0.3333333333333333, \"#9c179e\"], [0.4444444444444444, \"#bd3786\"], [0.5555555555555556, \"#d8576b\"], [0.6666666666666666, \"#ed7953\"], [0.7777777777777778, \"#fb9f3a\"], [0.8888888888888888, \"#fdca26\"], [1.0, \"#f0f921\"]], \"type\": \"heatmap\"}], \"heatmapgl\": [{\"colorbar\": {\"outlinewidth\": 0, \"ticks\": \"\"}, \"colorscale\": [[0.0, \"#0d0887\"], [0.1111111111111111, \"#46039f\"], [0.2222222222222222, \"#7201a8\"], [0.3333333333333333, \"#9c179e\"], [0.4444444444444444, \"#bd3786\"], [0.5555555555555556, \"#d8576b\"], [0.6666666666666666, \"#ed7953\"], [0.7777777777777778, \"#fb9f3a\"], [0.8888888888888888, \"#fdca26\"], [1.0, \"#f0f921\"]], \"type\": \"heatmapgl\"}], \"histogram\": [{\"marker\": {\"colorbar\": {\"outlinewidth\": 0, \"ticks\": \"\"}}, \"type\": \"histogram\"}], \"histogram2d\": [{\"colorbar\": {\"outlinewidth\": 0, \"ticks\": \"\"}, \"colorscale\": [[0.0, \"#0d0887\"], [0.1111111111111111, \"#46039f\"], [0.2222222222222222, \"#7201a8\"], [0.3333333333333333, \"#9c179e\"], [0.4444444444444444, \"#bd3786\"], [0.5555555555555556, \"#d8576b\"], [0.6666666666666666, \"#ed7953\"], [0.7777777777777778, \"#fb9f3a\"], [0.8888888888888888, \"#fdca26\"], [1.0, \"#f0f921\"]], \"type\": \"histogram2d\"}], \"histogram2dcontour\": [{\"colorbar\": {\"outlinewidth\": 0, \"ticks\": \"\"}, \"colorscale\": [[0.0, \"#0d0887\"], [0.1111111111111111, \"#46039f\"], [0.2222222222222222, \"#7201a8\"], [0.3333333333333333, \"#9c179e\"], [0.4444444444444444, \"#bd3786\"], [0.5555555555555556, \"#d8576b\"], [0.6666666666666666, \"#ed7953\"], [0.7777777777777778, \"#fb9f3a\"], [0.8888888888888888, \"#fdca26\"], [1.0, \"#f0f921\"]], \"type\": \"histogram2dcontour\"}], \"mesh3d\": [{\"colorbar\": {\"outlinewidth\": 0, \"ticks\": \"\"}, \"type\": \"mesh3d\"}], \"parcoords\": [{\"line\": {\"colorbar\": {\"outlinewidth\": 0, \"ticks\": \"\"}}, \"type\": \"parcoords\"}], \"pie\": [{\"automargin\": true, \"type\": \"pie\"}], \"scatter\": [{\"marker\": {\"colorbar\": {\"outlinewidth\": 0, \"ticks\": \"\"}}, \"type\": \"scatter\"}], \"scatter3d\": [{\"line\": {\"colorbar\": {\"outlinewidth\": 0, \"ticks\": \"\"}}, \"marker\": {\"colorbar\": {\"outlinewidth\": 0, \"ticks\": \"\"}}, \"type\": \"scatter3d\"}], \"scattercarpet\": [{\"marker\": {\"colorbar\": {\"outlinewidth\": 0, \"ticks\": \"\"}}, \"type\": \"scattercarpet\"}], \"scattergeo\": [{\"marker\": {\"colorbar\": {\"outlinewidth\": 0, \"ticks\": \"\"}}, \"type\": \"scattergeo\"}], \"scattergl\": [{\"marker\": {\"colorbar\": {\"outlinewidth\": 0, \"ticks\": \"\"}}, \"type\": \"scattergl\"}], \"scattermapbox\": [{\"marker\": {\"colorbar\": {\"outlinewidth\": 0, \"ticks\": \"\"}}, \"type\": \"scattermapbox\"}], \"scatterpolar\": [{\"marker\": {\"colorbar\": {\"outlinewidth\": 0, \"ticks\": \"\"}}, \"type\": \"scatterpolar\"}], \"scatterpolargl\": [{\"marker\": {\"colorbar\": {\"outlinewidth\": 0, \"ticks\": \"\"}}, \"type\": \"scatterpolargl\"}], \"scatterternary\": [{\"marker\": {\"colorbar\": {\"outlinewidth\": 0, \"ticks\": \"\"}}, \"type\": \"scatterternary\"}], \"surface\": [{\"colorbar\": {\"outlinewidth\": 0, \"ticks\": \"\"}, \"colorscale\": [[0.0, \"#0d0887\"], [0.1111111111111111, \"#46039f\"], [0.2222222222222222, \"#7201a8\"], [0.3333333333333333, \"#9c179e\"], [0.4444444444444444, \"#bd3786\"], [0.5555555555555556, \"#d8576b\"], [0.6666666666666666, \"#ed7953\"], [0.7777777777777778, \"#fb9f3a\"], [0.8888888888888888, \"#fdca26\"], [1.0, \"#f0f921\"]], \"type\": \"surface\"}], \"table\": [{\"cells\": {\"fill\": {\"color\": \"#EBF0F8\"}, \"line\": {\"color\": \"white\"}}, \"header\": {\"fill\": {\"color\": \"#C8D4E3\"}, \"line\": {\"color\": \"white\"}}, \"type\": \"table\"}]}, \"layout\": {\"annotationdefaults\": {\"arrowcolor\": \"#2a3f5f\", \"arrowhead\": 0, \"arrowwidth\": 1}, \"coloraxis\": {\"colorbar\": {\"outlinewidth\": 0, \"ticks\": \"\"}}, \"colorscale\": {\"diverging\": [[0, \"#8e0152\"], [0.1, \"#c51b7d\"], [0.2, \"#de77ae\"], [0.3, \"#f1b6da\"], [0.4, \"#fde0ef\"], [0.5, \"#f7f7f7\"], [0.6, \"#e6f5d0\"], [0.7, \"#b8e186\"], [0.8, \"#7fbc41\"], [0.9, \"#4d9221\"], [1, \"#276419\"]], \"sequential\": [[0.0, \"#0d0887\"], [0.1111111111111111, \"#46039f\"], [0.2222222222222222, \"#7201a8\"], [0.3333333333333333, \"#9c179e\"], [0.4444444444444444, \"#bd3786\"], [0.5555555555555556, \"#d8576b\"], [0.6666666666666666, \"#ed7953\"], [0.7777777777777778, \"#fb9f3a\"], [0.8888888888888888, \"#fdca26\"], [1.0, \"#f0f921\"]], \"sequentialminus\": [[0.0, \"#0d0887\"], [0.1111111111111111, \"#46039f\"], [0.2222222222222222, \"#7201a8\"], [0.3333333333333333, \"#9c179e\"], [0.4444444444444444, \"#bd3786\"], [0.5555555555555556, \"#d8576b\"], [0.6666666666666666, \"#ed7953\"], [0.7777777777777778, \"#fb9f3a\"], [0.8888888888888888, \"#fdca26\"], [1.0, \"#f0f921\"]]}, \"colorway\": [\"#636efa\", \"#EF553B\", \"#00cc96\", \"#ab63fa\", \"#FFA15A\", \"#19d3f3\", \"#FF6692\", \"#B6E880\", \"#FF97FF\", \"#FECB52\"], \"font\": {\"color\": \"#2a3f5f\"}, \"geo\": {\"bgcolor\": \"white\", \"lakecolor\": \"white\", \"landcolor\": \"#E5ECF6\", \"showlakes\": true, \"showland\": true, \"subunitcolor\": \"white\"}, \"hoverlabel\": {\"align\": \"left\"}, \"hovermode\": \"closest\", \"mapbox\": {\"style\": \"light\"}, \"paper_bgcolor\": \"white\", \"plot_bgcolor\": \"#E5ECF6\", \"polar\": {\"angularaxis\": {\"gridcolor\": \"white\", \"linecolor\": \"white\", \"ticks\": \"\"}, \"bgcolor\": \"#E5ECF6\", \"radialaxis\": {\"gridcolor\": \"white\", \"linecolor\": \"white\", \"ticks\": \"\"}}, \"scene\": {\"xaxis\": {\"backgroundcolor\": \"#E5ECF6\", \"gridcolor\": \"white\", \"gridwidth\": 2, \"linecolor\": \"white\", \"showbackground\": true, \"ticks\": \"\", \"zerolinecolor\": \"white\"}, \"yaxis\": {\"backgroundcolor\": \"#E5ECF6\", \"gridcolor\": \"white\", \"gridwidth\": 2, \"linecolor\": \"white\", \"showbackground\": true, \"ticks\": \"\", \"zerolinecolor\": \"white\"}, \"zaxis\": {\"backgroundcolor\": \"#E5ECF6\", \"gridcolor\": \"white\", \"gridwidth\": 2, \"linecolor\": \"white\", \"showbackground\": true, \"ticks\": \"\", \"zerolinecolor\": \"white\"}}, \"shapedefaults\": {\"line\": {\"color\": \"#2a3f5f\"}}, \"ternary\": {\"aaxis\": {\"gridcolor\": \"white\", \"linecolor\": \"white\", \"ticks\": \"\"}, \"baxis\": {\"gridcolor\": \"white\", \"linecolor\": \"white\", \"ticks\": \"\"}, \"bgcolor\": \"#E5ECF6\", \"caxis\": {\"gridcolor\": \"white\", \"linecolor\": \"white\", \"ticks\": \"\"}}, \"title\": {\"x\": 0.05}, \"xaxis\": {\"automargin\": true, \"gridcolor\": \"white\", \"linecolor\": \"white\", \"ticks\": \"\", \"title\": {\"standoff\": 15}, \"zerolinecolor\": \"white\", \"zerolinewidth\": 2}, \"yaxis\": {\"automargin\": true, \"gridcolor\": \"white\", \"linecolor\": \"white\", \"ticks\": \"\", \"title\": {\"standoff\": 15}, \"zerolinecolor\": \"white\", \"zerolinewidth\": 2}}}, \"title\": {\"text\": \"Visualizing Clusters in Three Dimensions Using PCA\"}, \"xaxis\": {\"ticklen\": 5, \"title\": {\"text\": \"PC1\"}, \"zeroline\": false}, \"yaxis\": {\"ticklen\": 5, \"title\": {\"text\": \"PC2\"}, \"zeroline\": false}},\n",
       "                        {\"responsive\": true}\n",
       "                    ).then(function(){\n",
       "                            \n",
       "var gd = document.getElementById('ced8e7dc-0e3e-4104-a353-2f54cfc63fe1');\n",
       "var x = new MutationObserver(function (mutations, observer) {{\n",
       "        var display = window.getComputedStyle(gd).display;\n",
       "        if (!display || display === 'none') {{\n",
       "            console.log([gd, 'removed!']);\n",
       "            Plotly.purge(gd);\n",
       "            observer.disconnect();\n",
       "        }}\n",
       "}});\n",
       "\n",
       "// Listen for the removal of the full notebook cells\n",
       "var notebookContainer = gd.closest('#notebook-container');\n",
       "if (notebookContainer) {{\n",
       "    x.observe(notebookContainer, {childList: true});\n",
       "}}\n",
       "\n",
       "// Listen for the clearing of the current output cell\n",
       "var outputEl = gd.closest('.output');\n",
       "if (outputEl) {{\n",
       "    x.observe(outputEl, {childList: true});\n",
       "}}\n",
       "\n",
       "                        })\n",
       "                };\n",
       "                });\n",
       "            </script>\n",
       "        </div>"
      ]
     },
     "metadata": {},
     "output_type": "display_data"
    }
   ],
   "source": [
    "#Instructions for building the 3-D plot\n",
    "\n",
    "#trace1 is for 'Cluster 0'\n",
    "trace1 = go.Scatter3d(\n",
    "                    x = cluster0[\"PC1_3d\"],\n",
    "                    y = cluster0[\"PC2_3d\"],\n",
    "                    z = cluster0[\"PC3_3d\"],\n",
    "                    mode = \"markers\",\n",
    "                    name = \"Cluster 0\",\n",
    "                    marker = dict(color = 'rgba(255, 128, 255, 0.8)'),\n",
    "                    text = cluster0.index)\n",
    "\n",
    "#trace2 is for 'Cluster 1'\n",
    "trace2 = go.Scatter3d(\n",
    "                    x = cluster1[\"PC1_3d\"],\n",
    "                    y = cluster1[\"PC2_3d\"],\n",
    "                    z = cluster1[\"PC3_3d\"],\n",
    "                    mode = \"markers\",\n",
    "                    name = \"Cluster 1\",\n",
    "                    marker = dict(color = 'rgba(255, 128, 2, 0.8)'),\n",
    "                    text = cluster1.index)\n",
    "\n",
    "#trace3 is for 'Cluster 2'\n",
    "trace3 = go.Scatter3d(\n",
    "                    x = cluster2[\"PC1_3d\"],\n",
    "                    y = cluster2[\"PC2_3d\"],\n",
    "                    z = cluster2[\"PC3_3d\"],\n",
    "                    mode = \"markers\",\n",
    "                    name = \"Cluster 2\",\n",
    "                    marker = dict(color = 'rgba(0, 255, 200, 0.8)'),\n",
    "                    text = cluster2.index)\n",
    "\n",
    "data = [trace1, trace2, trace3]\n",
    "\n",
    "title = \"Visualizing Clusters in Three Dimensions Using PCA\"\n",
    "\n",
    "layout = dict(title = title,\n",
    "              xaxis= dict(title= 'PC1',ticklen= 5,zeroline= False),\n",
    "              yaxis= dict(title= 'PC2',ticklen= 5,zeroline= False)\n",
    "             )\n",
    "\n",
    "fig = dict(data = data, layout = layout)\n",
    "\n",
    "iplot(fig)\n"
   ]
  },
  {
   "cell_type": "markdown",
   "metadata": {},
   "source": [
    "## T-Distributed Stochastic Neighbor Embedding (T-SNE)"
   ]
  },
  {
   "cell_type": "code",
   "execution_count": 16,
   "metadata": {},
   "outputs": [
    {
     "data": {
      "text/html": [
       "<div>\n",
       "<style scoped>\n",
       "    .dataframe tbody tr th:only-of-type {\n",
       "        vertical-align: middle;\n",
       "    }\n",
       "\n",
       "    .dataframe tbody tr th {\n",
       "        vertical-align: top;\n",
       "    }\n",
       "\n",
       "    .dataframe thead th {\n",
       "        text-align: right;\n",
       "    }\n",
       "</style>\n",
       "<table border=\"1\" class=\"dataframe\">\n",
       "  <thead>\n",
       "    <tr style=\"text-align: right;\">\n",
       "      <th></th>\n",
       "      <th>Deaths</th>\n",
       "      <th>Cases</th>\n",
       "      <th>Population</th>\n",
       "      <th>flights</th>\n",
       "      <th>pollution</th>\n",
       "      <th>unemp%</th>\n",
       "      <th>hospbeds</th>\n",
       "      <th>railways</th>\n",
       "      <th>urbanpop%</th>\n",
       "      <th>slum%</th>\n",
       "      <th>...</th>\n",
       "      <th>pop% &gt;= 65</th>\n",
       "      <th>trade%</th>\n",
       "      <th>cluster</th>\n",
       "      <th>TC1_1d</th>\n",
       "      <th>TC1_2d</th>\n",
       "      <th>TC2_2d</th>\n",
       "      <th>TC1_3d</th>\n",
       "      <th>TC2_3d</th>\n",
       "      <th>TC3_3d</th>\n",
       "      <th>dummy</th>\n",
       "    </tr>\n",
       "    <tr>\n",
       "      <th>Country/Region</th>\n",
       "      <th></th>\n",
       "      <th></th>\n",
       "      <th></th>\n",
       "      <th></th>\n",
       "      <th></th>\n",
       "      <th></th>\n",
       "      <th></th>\n",
       "      <th></th>\n",
       "      <th></th>\n",
       "      <th></th>\n",
       "      <th></th>\n",
       "      <th></th>\n",
       "      <th></th>\n",
       "      <th></th>\n",
       "      <th></th>\n",
       "      <th></th>\n",
       "      <th></th>\n",
       "      <th></th>\n",
       "      <th></th>\n",
       "      <th></th>\n",
       "      <th></th>\n",
       "    </tr>\n",
       "  </thead>\n",
       "  <tbody>\n",
       "    <tr>\n",
       "      <td>Barbados</td>\n",
       "      <td>-0.220815</td>\n",
       "      <td>-0.212466</td>\n",
       "      <td>-0.270984</td>\n",
       "      <td>-0.248745</td>\n",
       "      <td>-0.208240</td>\n",
       "      <td>0.698259</td>\n",
       "      <td>1.224456</td>\n",
       "      <td>-0.335953</td>\n",
       "      <td>-1.244997</td>\n",
       "      <td>-0.882278</td>\n",
       "      <td>...</td>\n",
       "      <td>1.072493</td>\n",
       "      <td>-0.604918</td>\n",
       "      <td>2</td>\n",
       "      <td>-9.023979</td>\n",
       "      <td>-0.990562</td>\n",
       "      <td>0.841882</td>\n",
       "      <td>-80.895805</td>\n",
       "      <td>49.575336</td>\n",
       "      <td>5.172048</td>\n",
       "      <td>0</td>\n",
       "    </tr>\n",
       "    <tr>\n",
       "      <td>Colombia</td>\n",
       "      <td>-0.186772</td>\n",
       "      <td>-0.159952</td>\n",
       "      <td>0.037768</td>\n",
       "      <td>0.154601</td>\n",
       "      <td>-0.544376</td>\n",
       "      <td>0.583405</td>\n",
       "      <td>-0.563661</td>\n",
       "      <td>-0.335953</td>\n",
       "      <td>0.891490</td>\n",
       "      <td>-0.419673</td>\n",
       "      <td>...</td>\n",
       "      <td>-0.035224</td>\n",
       "      <td>-0.919848</td>\n",
       "      <td>2</td>\n",
       "      <td>-8.145858</td>\n",
       "      <td>-2.743311</td>\n",
       "      <td>0.205821</td>\n",
       "      <td>19.696684</td>\n",
       "      <td>23.585077</td>\n",
       "      <td>181.404510</td>\n",
       "      <td>0</td>\n",
       "    </tr>\n",
       "    <tr>\n",
       "      <td>Grenada</td>\n",
       "      <td>-0.221965</td>\n",
       "      <td>-0.213418</td>\n",
       "      <td>-0.272116</td>\n",
       "      <td>-0.249533</td>\n",
       "      <td>-0.226715</td>\n",
       "      <td>-1.215359</td>\n",
       "      <td>0.351190</td>\n",
       "      <td>-0.335953</td>\n",
       "      <td>-1.024590</td>\n",
       "      <td>-0.670398</td>\n",
       "      <td>...</td>\n",
       "      <td>0.137289</td>\n",
       "      <td>-0.548591</td>\n",
       "      <td>2</td>\n",
       "      <td>-8.374548</td>\n",
       "      <td>-2.098660</td>\n",
       "      <td>0.503466</td>\n",
       "      <td>-138.949493</td>\n",
       "      <td>14.092985</td>\n",
       "      <td>-100.514122</td>\n",
       "      <td>0</td>\n",
       "    </tr>\n",
       "    <tr>\n",
       "      <td>New Zealand</td>\n",
       "      <td>-0.219435</td>\n",
       "      <td>-0.191439</td>\n",
       "      <td>-0.242566</td>\n",
       "      <td>-0.037975</td>\n",
       "      <td>-1.086812</td>\n",
       "      <td>-0.461397</td>\n",
       "      <td>-0.023067</td>\n",
       "      <td>-0.079990</td>\n",
       "      <td>1.139448</td>\n",
       "      <td>-0.882278</td>\n",
       "      <td>...</td>\n",
       "      <td>1.049794</td>\n",
       "      <td>-0.569124</td>\n",
       "      <td>2</td>\n",
       "      <td>-4.302923</td>\n",
       "      <td>0.645895</td>\n",
       "      <td>2.382424</td>\n",
       "      <td>18.901241</td>\n",
       "      <td>-96.875618</td>\n",
       "      <td>-37.822323</td>\n",
       "      <td>0</td>\n",
       "    </tr>\n",
       "    <tr>\n",
       "      <td>Canada</td>\n",
       "      <td>0.099831</td>\n",
       "      <td>0.322668</td>\n",
       "      <td>-0.040003</td>\n",
       "      <td>1.411687</td>\n",
       "      <td>-1.062692</td>\n",
       "      <td>-0.185377</td>\n",
       "      <td>-0.064652</td>\n",
       "      <td>2.787432</td>\n",
       "      <td>0.918610</td>\n",
       "      <td>-0.882278</td>\n",
       "      <td>...</td>\n",
       "      <td>1.288892</td>\n",
       "      <td>-0.211741</td>\n",
       "      <td>2</td>\n",
       "      <td>-10.866353</td>\n",
       "      <td>1.252712</td>\n",
       "      <td>2.529962</td>\n",
       "      <td>-83.291824</td>\n",
       "      <td>-172.723679</td>\n",
       "      <td>-30.094980</td>\n",
       "      <td>0</td>\n",
       "    </tr>\n",
       "  </tbody>\n",
       "</table>\n",
       "<p>5 rows × 26 columns</p>\n",
       "</div>"
      ],
      "text/plain": [
       "                  Deaths     Cases  Population   flights  pollution    unemp%  \\\n",
       "Country/Region                                                                  \n",
       "Barbados       -0.220815 -0.212466   -0.270984 -0.248745  -0.208240  0.698259   \n",
       "Colombia       -0.186772 -0.159952    0.037768  0.154601  -0.544376  0.583405   \n",
       "Grenada        -0.221965 -0.213418   -0.272116 -0.249533  -0.226715 -1.215359   \n",
       "New Zealand    -0.219435 -0.191439   -0.242566 -0.037975  -1.086812 -0.461397   \n",
       "Canada          0.099831  0.322668   -0.040003  1.411687  -1.062692 -0.185377   \n",
       "\n",
       "                hospbeds  railways  urbanpop%     slum%  ...  pop% >= 65  \\\n",
       "Country/Region                                           ...               \n",
       "Barbados        1.224456 -0.335953  -1.244997 -0.882278  ...    1.072493   \n",
       "Colombia       -0.563661 -0.335953   0.891490 -0.419673  ...   -0.035224   \n",
       "Grenada         0.351190 -0.335953  -1.024590 -0.670398  ...    0.137289   \n",
       "New Zealand    -0.023067 -0.079990   1.139448 -0.882278  ...    1.049794   \n",
       "Canada         -0.064652  2.787432   0.918610 -0.882278  ...    1.288892   \n",
       "\n",
       "                  trade%  cluster     TC1_1d    TC1_2d    TC2_2d      TC1_3d  \\\n",
       "Country/Region                                                                 \n",
       "Barbados       -0.604918        2  -9.023979 -0.990562  0.841882  -80.895805   \n",
       "Colombia       -0.919848        2  -8.145858 -2.743311  0.205821   19.696684   \n",
       "Grenada        -0.548591        2  -8.374548 -2.098660  0.503466 -138.949493   \n",
       "New Zealand    -0.569124        2  -4.302923  0.645895  2.382424   18.901241   \n",
       "Canada         -0.211741        2 -10.866353  1.252712  2.529962  -83.291824   \n",
       "\n",
       "                    TC2_3d      TC3_3d  dummy  \n",
       "Country/Region                                 \n",
       "Barbados         49.575336    5.172048      0  \n",
       "Colombia         23.585077  181.404510      0  \n",
       "Grenada          14.092985 -100.514122      0  \n",
       "New Zealand     -96.875618  -37.822323      0  \n",
       "Canada         -172.723679  -30.094980      0  \n",
       "\n",
       "[5 rows x 26 columns]"
      ]
     },
     "execution_count": 16,
     "metadata": {},
     "output_type": "execute_result"
    }
   ],
   "source": [
    "plotX = df_train.copy()\n",
    "perplexity = 50\n",
    "\n",
    "tsne_1d = TSNE(n_components=1, perplexity=perplexity)\n",
    "tsne_2d = TSNE(n_components=2, perplexity=perplexity)\n",
    "tsne_3d = TSNE(n_components=3, perplexity=perplexity)\n",
    "\n",
    "TCs_1d = pd.DataFrame(tsne_1d.fit_transform(plotX.drop([\"cluster\"], axis=1)), index=plotX.index)\n",
    "TCs_2d = pd.DataFrame(tsne_2d.fit_transform(plotX.drop([\"cluster\"], axis=1)), index=plotX.index)\n",
    "TCs_3d = pd.DataFrame(tsne_3d.fit_transform(plotX.drop([\"cluster\"], axis=1)), index=plotX.index)\n",
    "\n",
    "TCs_1d.columns = [\"TC1_1d\"]\n",
    "PCs_1d.columns = [\"PC1_1d\"]\n",
    "TCs_2d.columns = [\"TC1_2d\",\"TC2_2d\"]\n",
    "TCs_3d.columns = [\"TC1_3d\",\"TC2_3d\",\"TC3_3d\"]\n",
    "\n",
    "plotX = pd.concat([plotX,TCs_1d,TCs_2d,TCs_3d], axis=1, join='inner')\n",
    "plotX[\"dummy\"] = 0\n",
    "\n",
    "cluster0 = plotX[plotX[\"cluster\"] == 0]\n",
    "cluster1 = plotX[plotX[\"cluster\"] == 1]\n",
    "cluster2 = plotX[plotX[\"cluster\"] == 2]\n",
    "\n",
    "cluster2.head()"
   ]
  },
  {
   "cell_type": "code",
   "execution_count": 18,
   "metadata": {},
   "outputs": [
    {
     "data": {
      "application/vnd.plotly.v1+json": {
       "config": {
        "linkText": "Export to plot.ly",
        "plotlyServerURL": "https://plot.ly",
        "showLink": false
       },
       "data": [
        {
         "marker": {
          "color": "rgba(255, 128, 255, 0.8)"
         },
         "mode": "markers",
         "name": "Cluster: 0",
         "text": [
          "China",
          "India"
         ],
         "type": "scatter",
         "x": [
          -7.054399490356445,
          -7.055252552032471
         ],
         "y": [
          -0.08373649418354034,
          -0.12175671011209488
         ]
        },
        {
         "marker": {
          "color": "rgba(255, 128, 2, 0.8)"
         },
         "mode": "markers",
         "name": "Cluster: 1",
         "text": [
          "Nepal",
          "Burkina Faso",
          "Chad",
          "Cabo Verde",
          "Nigeria",
          "Djibouti",
          "Liberia",
          "Cameroon",
          "Equatorial Guinea",
          "Eswatini",
          "Kosovo",
          "Philippines",
          "Indonesia",
          "Guinea-Bissau",
          "Somalia",
          "Ghana",
          "Guinea",
          "Sierra Leone",
          "Guatemala",
          "South Sudan",
          "Mauritania",
          "Cambodia",
          "Papua New Guinea",
          "Bangladesh",
          "Liechtenstein",
          "Senegal",
          "Bolivia",
          "Botswana",
          "Uganda",
          "Burundi",
          "Malawi",
          "South Africa",
          "Iraq",
          "Afghanistan",
          "Mozambique",
          "Angola",
          "Togo",
          "Niger",
          "Madagascar",
          "Cote d'Ivoire",
          "Gabon",
          "Rwanda",
          "Pakistan",
          "Kenya",
          "Sudan",
          "Benin",
          "Guyana"
         ],
         "type": "scatter",
         "x": [
          -6.362361907958984,
          -4.719579219818115,
          -4.756388187408447,
          -2.550058603286743,
          -5.477589130401611,
          -3.4134938716888428,
          -4.333009243011475,
          -5.708354949951172,
          -4.533879280090332,
          -1.74346125125885,
          -2.2632718086242676,
          -3.8528223037719727,
          -4.087464809417725,
          -4.670215606689453,
          -5.849188804626465,
          -4.989968299865723,
          -4.332291126251221,
          -4.286396503448486,
          -3.739570379257202,
          -4.040556907653809,
          -4.099587917327881,
          -4.847259044647217,
          -3.434398889541626,
          -5.538220405578613,
          -2.26338267326355,
          -4.447983741760254,
          -3.4057860374450684,
          -1.9743080139160156,
          -5.280724048614502,
          -4.7327141761779785,
          -4.091362953186035,
          -1.1171138286590576,
          -2.370556592941284,
          -3.847961902618408,
          -5.168437957763672,
          -4.564675331115723,
          -4.683265686035156,
          -6.110814094543457,
          -5.148397445678711,
          -4.460864067077637,
          -1.2627036571502686,
          -5.0550994873046875,
          -5.525028228759766,
          -4.976682186126709,
          -3.1163711547851562,
          -4.6904706954956055,
          -2.4705727100372314
         ],
         "y": [
          -2.573216199874878,
          -2.8880481719970703,
          -4.234910011291504,
          -1.7913203239440918,
          -3.7440919876098633,
          -3.3109259605407715,
          -2.7572181224823,
          -2.822221279144287,
          -4.531448841094971,
          -2.5593831539154053,
          -4.836269855499268,
          -0.9846478700637817,
          -0.3094937801361084,
          -2.9753222465515137,
          -4.281996726989746,
          -1.8064687252044678,
          -3.835158586502075,
          -2.809998035430908,
          -0.97042316198349,
          -4.214934825897217,
          -3.1982004642486572,
          -0.6609224677085876,
          -1.6211085319519043,
          -2.0805234909057617,
          -4.8361735343933105,
          -2.572053909301758,
          -0.49233174324035645,
          -2.289379835128784,
          -2.4931838512420654,
          -2.2712857723236084,
          -2.5132720470428467,
          -2.3229689598083496,
          -1.8871482610702515,
          -3.623749017715454,
          -3.351780414581299,
          -3.571958541870117,
          -2.439948797225952,
          -3.1692497730255127,
          -3.14780330657959,
          -2.712857484817505,
          -2.274399757385254,
          -2.1748557090759277,
          -2.5584449768066406,
          -2.422091484069824,
          -3.205425977706909,
          -3.0444815158843994,
          -1.0794740915298462
         ]
        },
        {
         "marker": {
          "color": "rgba(0, 255, 200, 0.8)"
         },
         "mode": "markers",
         "name": "Cluster: 2",
         "text": [
          "Barbados",
          "Colombia",
          "Grenada",
          "New Zealand",
          "Canada",
          "Sweden",
          "Uzbekistan",
          "Dominica",
          "Armenia",
          "Hungary",
          "Belize",
          "Honduras",
          "El Salvador",
          "Mexico",
          "Portugal",
          "Cyprus",
          "United Arab Emirates",
          "Romania",
          "Libya",
          "Trinidad and Tobago",
          "Bahrain",
          "Belgium",
          "Bosnia and Herzegovina",
          "San Marino",
          "Georgia",
          "Belarus",
          "Estonia",
          "Croatia",
          "Suriname",
          "Mongolia",
          "Sri Lanka",
          "Uruguay",
          "Norway",
          "France",
          "Jamaica",
          "Denmark",
          "Japan",
          "Brazil",
          "Jordan",
          "Serbia",
          "Antigua and Barbuda",
          "Kuwait",
          "Maldives",
          "Ukraine",
          "Moldova",
          "Switzerland",
          "Tunisia",
          "Lebanon",
          "Cuba",
          "Peru",
          "Oman",
          "Malta",
          "Andorra",
          "Albania",
          "Dominican Republic",
          "Vietnam",
          "Luxembourg",
          "Slovenia",
          "Panama",
          "Netherlands",
          "Spain",
          "Malaysia",
          "Poland",
          "Austria",
          "Montenegro",
          "Fiji",
          "Chile",
          "North Macedonia",
          "Argentina",
          "Turkey",
          "Thailand",
          "Singapore",
          "Australia",
          "Paraguay",
          "Seychelles",
          "Italy",
          "Israel",
          "Finland"
         ],
         "type": "scatter",
         "x": [
          -0.9905622005462646,
          -2.7433114051818848,
          -2.0986597537994385,
          0.6458945274353027,
          1.2527121305465698,
          0.6372871398925781,
          -2.086057186126709,
          0.9240136742591858,
          -0.9656922221183777,
          -1.2980984449386597,
          -2.711580991744995,
          -3.53007435798645,
          -3.039883852005005,
          -3.176652431488037,
          -0.971135139465332,
          -1.529396414756775,
          -3.5932416915893555,
          -1.1580029726028442,
          -1.3941583633422852,
          -2.4626429080963135,
          -3.7911951541900635,
          -0.14579501748085022,
          -0.4453701376914978,
          -2.671513319015503,
          -0.9279484152793884,
          -1.529221773147583,
          -1.1807920932769775,
          -1.0295753479003906,
          -3.367709159851074,
          -4.241235733032227,
          -2.085482358932495,
          -1.9012218713760376,
          0.658806562423706,
          -0.46759381890296936,
          -2.924828052520752,
          0.6017621159553528,
          0.8378352522850037,
          -4.45254373550415,
          -1.6319680213928223,
          -0.4723038375377655,
          -2.017890691757202,
          -3.730459213256836,
          -2.0056803226470947,
          -2.102048397064209,
          -1.5460458993911743,
          0.4581531882286072,
          -1.1327320337295532,
          -3.729219913482666,
          -1.5133787393569946,
          -3.2827796936035156,
          -3.835585355758667,
          -0.8732645511627197,
          0.9622870683670044,
          -1.2160663604736328,
          -3.1397929191589355,
          -4.50352668762207,
          0.9402682185173035,
          -1.4132329225540161,
          -2.815788984298706,
          -0.03266172856092453,
          -0.6237735152244568,
          -3.0508735179901123,
          -1.2022032737731934,
          0.3277725577354431,
          -0.8966140747070312,
          -2.510603427886963,
          -2.2636404037475586,
          -0.4874739944934845,
          -5.601505756378174,
          -5.602636337280273,
          -2.895141124725342,
          -3.0231714248657227,
          0.7207507491111755,
          -2.935300827026367,
          -2.7940268516540527,
          -0.6233054399490356,
          -1.9920599460601807,
          0.5651820302009583
         ],
         "y": [
          0.8418816328048706,
          0.20582091808319092,
          0.5034655928611755,
          2.3824243545532227,
          2.5299620628356934,
          2.671444892883301,
          0.31811416149139404,
          0.744529664516449,
          -0.43090885877609253,
          2.8724255561828613,
          -0.42979896068573,
          -0.1975073367357254,
          0.01080604549497366,
          0.8630138039588928,
          1.7581048011779785,
          1.4004050493240356,
          2.8954107761383057,
          1.9071918725967407,
          -1.5266430377960205,
          1.019665241241455,
          2.8039441108703613,
          3.4987494945526123,
          -0.2930580973625183,
          2.4196605682373047,
          -0.044862158596515656,
          3.0584189891815186,
          2.387784719467163,
          1.6784511804580688,
          0.9841739535331726,
          1.148023009300232,
          -0.2528984844684601,
          1.2989948987960815,
          2.734998941421509,
          4.8595051765441895,
          -0.7597123980522156,
          2.664130210876465,
          3.7660915851593018,
          0.4399786591529846,
          -0.9922921061515808,
          0.33841776847839355,
          0.3946477770805359,
          2.82204008102417,
          0.25943031907081604,
          3.2795822620391846,
          0.8044112324714661,
          2.970410108566284,
          -0.8122653961181641,
          0.18215540051460266,
          1.338525414466858,
          -0.06456751376390457,
          1.4983854293823242,
          2.1382603645324707,
          0.7604811191558838,
          0.46718382835388184,
          0.3710246682167053,
          1.894289493560791,
          3.1143250465393066,
          2.751354932785034,
          0.4387345314025879,
          3.3746767044067383,
          4.991974353790283,
          1.8055686950683594,
          2.1920666694641113,
          3.0879273414611816,
          0.2754381597042084,
          0.445056676864624,
          1.064397931098938,
          -0.27614840865135193,
          1.1529773473739624,
          1.1297526359558105,
          1.1713979244232178,
          3.797006845474243,
          2.550283193588257,
          0.048124101012945175,
          1.6971983909606934,
          4.991614818572998,
          1.7020701169967651,
          2.7288239002227783
         ]
        }
       ],
       "layout": {
        "template": {
         "data": {
          "bar": [
           {
            "error_x": {
             "color": "#2a3f5f"
            },
            "error_y": {
             "color": "#2a3f5f"
            },
            "marker": {
             "line": {
              "color": "#E5ECF6",
              "width": 0.5
             }
            },
            "type": "bar"
           }
          ],
          "barpolar": [
           {
            "marker": {
             "line": {
              "color": "#E5ECF6",
              "width": 0.5
             }
            },
            "type": "barpolar"
           }
          ],
          "carpet": [
           {
            "aaxis": {
             "endlinecolor": "#2a3f5f",
             "gridcolor": "white",
             "linecolor": "white",
             "minorgridcolor": "white",
             "startlinecolor": "#2a3f5f"
            },
            "baxis": {
             "endlinecolor": "#2a3f5f",
             "gridcolor": "white",
             "linecolor": "white",
             "minorgridcolor": "white",
             "startlinecolor": "#2a3f5f"
            },
            "type": "carpet"
           }
          ],
          "choropleth": [
           {
            "colorbar": {
             "outlinewidth": 0,
             "ticks": ""
            },
            "type": "choropleth"
           }
          ],
          "contour": [
           {
            "colorbar": {
             "outlinewidth": 0,
             "ticks": ""
            },
            "colorscale": [
             [
              0,
              "#0d0887"
             ],
             [
              0.1111111111111111,
              "#46039f"
             ],
             [
              0.2222222222222222,
              "#7201a8"
             ],
             [
              0.3333333333333333,
              "#9c179e"
             ],
             [
              0.4444444444444444,
              "#bd3786"
             ],
             [
              0.5555555555555556,
              "#d8576b"
             ],
             [
              0.6666666666666666,
              "#ed7953"
             ],
             [
              0.7777777777777778,
              "#fb9f3a"
             ],
             [
              0.8888888888888888,
              "#fdca26"
             ],
             [
              1,
              "#f0f921"
             ]
            ],
            "type": "contour"
           }
          ],
          "contourcarpet": [
           {
            "colorbar": {
             "outlinewidth": 0,
             "ticks": ""
            },
            "type": "contourcarpet"
           }
          ],
          "heatmap": [
           {
            "colorbar": {
             "outlinewidth": 0,
             "ticks": ""
            },
            "colorscale": [
             [
              0,
              "#0d0887"
             ],
             [
              0.1111111111111111,
              "#46039f"
             ],
             [
              0.2222222222222222,
              "#7201a8"
             ],
             [
              0.3333333333333333,
              "#9c179e"
             ],
             [
              0.4444444444444444,
              "#bd3786"
             ],
             [
              0.5555555555555556,
              "#d8576b"
             ],
             [
              0.6666666666666666,
              "#ed7953"
             ],
             [
              0.7777777777777778,
              "#fb9f3a"
             ],
             [
              0.8888888888888888,
              "#fdca26"
             ],
             [
              1,
              "#f0f921"
             ]
            ],
            "type": "heatmap"
           }
          ],
          "heatmapgl": [
           {
            "colorbar": {
             "outlinewidth": 0,
             "ticks": ""
            },
            "colorscale": [
             [
              0,
              "#0d0887"
             ],
             [
              0.1111111111111111,
              "#46039f"
             ],
             [
              0.2222222222222222,
              "#7201a8"
             ],
             [
              0.3333333333333333,
              "#9c179e"
             ],
             [
              0.4444444444444444,
              "#bd3786"
             ],
             [
              0.5555555555555556,
              "#d8576b"
             ],
             [
              0.6666666666666666,
              "#ed7953"
             ],
             [
              0.7777777777777778,
              "#fb9f3a"
             ],
             [
              0.8888888888888888,
              "#fdca26"
             ],
             [
              1,
              "#f0f921"
             ]
            ],
            "type": "heatmapgl"
           }
          ],
          "histogram": [
           {
            "marker": {
             "colorbar": {
              "outlinewidth": 0,
              "ticks": ""
             }
            },
            "type": "histogram"
           }
          ],
          "histogram2d": [
           {
            "colorbar": {
             "outlinewidth": 0,
             "ticks": ""
            },
            "colorscale": [
             [
              0,
              "#0d0887"
             ],
             [
              0.1111111111111111,
              "#46039f"
             ],
             [
              0.2222222222222222,
              "#7201a8"
             ],
             [
              0.3333333333333333,
              "#9c179e"
             ],
             [
              0.4444444444444444,
              "#bd3786"
             ],
             [
              0.5555555555555556,
              "#d8576b"
             ],
             [
              0.6666666666666666,
              "#ed7953"
             ],
             [
              0.7777777777777778,
              "#fb9f3a"
             ],
             [
              0.8888888888888888,
              "#fdca26"
             ],
             [
              1,
              "#f0f921"
             ]
            ],
            "type": "histogram2d"
           }
          ],
          "histogram2dcontour": [
           {
            "colorbar": {
             "outlinewidth": 0,
             "ticks": ""
            },
            "colorscale": [
             [
              0,
              "#0d0887"
             ],
             [
              0.1111111111111111,
              "#46039f"
             ],
             [
              0.2222222222222222,
              "#7201a8"
             ],
             [
              0.3333333333333333,
              "#9c179e"
             ],
             [
              0.4444444444444444,
              "#bd3786"
             ],
             [
              0.5555555555555556,
              "#d8576b"
             ],
             [
              0.6666666666666666,
              "#ed7953"
             ],
             [
              0.7777777777777778,
              "#fb9f3a"
             ],
             [
              0.8888888888888888,
              "#fdca26"
             ],
             [
              1,
              "#f0f921"
             ]
            ],
            "type": "histogram2dcontour"
           }
          ],
          "mesh3d": [
           {
            "colorbar": {
             "outlinewidth": 0,
             "ticks": ""
            },
            "type": "mesh3d"
           }
          ],
          "parcoords": [
           {
            "line": {
             "colorbar": {
              "outlinewidth": 0,
              "ticks": ""
             }
            },
            "type": "parcoords"
           }
          ],
          "pie": [
           {
            "automargin": true,
            "type": "pie"
           }
          ],
          "scatter": [
           {
            "marker": {
             "colorbar": {
              "outlinewidth": 0,
              "ticks": ""
             }
            },
            "type": "scatter"
           }
          ],
          "scatter3d": [
           {
            "line": {
             "colorbar": {
              "outlinewidth": 0,
              "ticks": ""
             }
            },
            "marker": {
             "colorbar": {
              "outlinewidth": 0,
              "ticks": ""
             }
            },
            "type": "scatter3d"
           }
          ],
          "scattercarpet": [
           {
            "marker": {
             "colorbar": {
              "outlinewidth": 0,
              "ticks": ""
             }
            },
            "type": "scattercarpet"
           }
          ],
          "scattergeo": [
           {
            "marker": {
             "colorbar": {
              "outlinewidth": 0,
              "ticks": ""
             }
            },
            "type": "scattergeo"
           }
          ],
          "scattergl": [
           {
            "marker": {
             "colorbar": {
              "outlinewidth": 0,
              "ticks": ""
             }
            },
            "type": "scattergl"
           }
          ],
          "scattermapbox": [
           {
            "marker": {
             "colorbar": {
              "outlinewidth": 0,
              "ticks": ""
             }
            },
            "type": "scattermapbox"
           }
          ],
          "scatterpolar": [
           {
            "marker": {
             "colorbar": {
              "outlinewidth": 0,
              "ticks": ""
             }
            },
            "type": "scatterpolar"
           }
          ],
          "scatterpolargl": [
           {
            "marker": {
             "colorbar": {
              "outlinewidth": 0,
              "ticks": ""
             }
            },
            "type": "scatterpolargl"
           }
          ],
          "scatterternary": [
           {
            "marker": {
             "colorbar": {
              "outlinewidth": 0,
              "ticks": ""
             }
            },
            "type": "scatterternary"
           }
          ],
          "surface": [
           {
            "colorbar": {
             "outlinewidth": 0,
             "ticks": ""
            },
            "colorscale": [
             [
              0,
              "#0d0887"
             ],
             [
              0.1111111111111111,
              "#46039f"
             ],
             [
              0.2222222222222222,
              "#7201a8"
             ],
             [
              0.3333333333333333,
              "#9c179e"
             ],
             [
              0.4444444444444444,
              "#bd3786"
             ],
             [
              0.5555555555555556,
              "#d8576b"
             ],
             [
              0.6666666666666666,
              "#ed7953"
             ],
             [
              0.7777777777777778,
              "#fb9f3a"
             ],
             [
              0.8888888888888888,
              "#fdca26"
             ],
             [
              1,
              "#f0f921"
             ]
            ],
            "type": "surface"
           }
          ],
          "table": [
           {
            "cells": {
             "fill": {
              "color": "#EBF0F8"
             },
             "line": {
              "color": "white"
             }
            },
            "header": {
             "fill": {
              "color": "#C8D4E3"
             },
             "line": {
              "color": "white"
             }
            },
            "type": "table"
           }
          ]
         },
         "layout": {
          "annotationdefaults": {
           "arrowcolor": "#2a3f5f",
           "arrowhead": 0,
           "arrowwidth": 1
          },
          "coloraxis": {
           "colorbar": {
            "outlinewidth": 0,
            "ticks": ""
           }
          },
          "colorscale": {
           "diverging": [
            [
             0,
             "#8e0152"
            ],
            [
             0.1,
             "#c51b7d"
            ],
            [
             0.2,
             "#de77ae"
            ],
            [
             0.3,
             "#f1b6da"
            ],
            [
             0.4,
             "#fde0ef"
            ],
            [
             0.5,
             "#f7f7f7"
            ],
            [
             0.6,
             "#e6f5d0"
            ],
            [
             0.7,
             "#b8e186"
            ],
            [
             0.8,
             "#7fbc41"
            ],
            [
             0.9,
             "#4d9221"
            ],
            [
             1,
             "#276419"
            ]
           ],
           "sequential": [
            [
             0,
             "#0d0887"
            ],
            [
             0.1111111111111111,
             "#46039f"
            ],
            [
             0.2222222222222222,
             "#7201a8"
            ],
            [
             0.3333333333333333,
             "#9c179e"
            ],
            [
             0.4444444444444444,
             "#bd3786"
            ],
            [
             0.5555555555555556,
             "#d8576b"
            ],
            [
             0.6666666666666666,
             "#ed7953"
            ],
            [
             0.7777777777777778,
             "#fb9f3a"
            ],
            [
             0.8888888888888888,
             "#fdca26"
            ],
            [
             1,
             "#f0f921"
            ]
           ],
           "sequentialminus": [
            [
             0,
             "#0d0887"
            ],
            [
             0.1111111111111111,
             "#46039f"
            ],
            [
             0.2222222222222222,
             "#7201a8"
            ],
            [
             0.3333333333333333,
             "#9c179e"
            ],
            [
             0.4444444444444444,
             "#bd3786"
            ],
            [
             0.5555555555555556,
             "#d8576b"
            ],
            [
             0.6666666666666666,
             "#ed7953"
            ],
            [
             0.7777777777777778,
             "#fb9f3a"
            ],
            [
             0.8888888888888888,
             "#fdca26"
            ],
            [
             1,
             "#f0f921"
            ]
           ]
          },
          "colorway": [
           "#636efa",
           "#EF553B",
           "#00cc96",
           "#ab63fa",
           "#FFA15A",
           "#19d3f3",
           "#FF6692",
           "#B6E880",
           "#FF97FF",
           "#FECB52"
          ],
          "font": {
           "color": "#2a3f5f"
          },
          "geo": {
           "bgcolor": "white",
           "lakecolor": "white",
           "landcolor": "#E5ECF6",
           "showlakes": true,
           "showland": true,
           "subunitcolor": "white"
          },
          "hoverlabel": {
           "align": "left"
          },
          "hovermode": "closest",
          "mapbox": {
           "style": "light"
          },
          "paper_bgcolor": "white",
          "plot_bgcolor": "#E5ECF6",
          "polar": {
           "angularaxis": {
            "gridcolor": "white",
            "linecolor": "white",
            "ticks": ""
           },
           "bgcolor": "#E5ECF6",
           "radialaxis": {
            "gridcolor": "white",
            "linecolor": "white",
            "ticks": ""
           }
          },
          "scene": {
           "xaxis": {
            "backgroundcolor": "#E5ECF6",
            "gridcolor": "white",
            "gridwidth": 2,
            "linecolor": "white",
            "showbackground": true,
            "ticks": "",
            "zerolinecolor": "white"
           },
           "yaxis": {
            "backgroundcolor": "#E5ECF6",
            "gridcolor": "white",
            "gridwidth": 2,
            "linecolor": "white",
            "showbackground": true,
            "ticks": "",
            "zerolinecolor": "white"
           },
           "zaxis": {
            "backgroundcolor": "#E5ECF6",
            "gridcolor": "white",
            "gridwidth": 2,
            "linecolor": "white",
            "showbackground": true,
            "ticks": "",
            "zerolinecolor": "white"
           }
          },
          "shapedefaults": {
           "line": {
            "color": "#2a3f5f"
           }
          },
          "ternary": {
           "aaxis": {
            "gridcolor": "white",
            "linecolor": "white",
            "ticks": ""
           },
           "baxis": {
            "gridcolor": "white",
            "linecolor": "white",
            "ticks": ""
           },
           "bgcolor": "#E5ECF6",
           "caxis": {
            "gridcolor": "white",
            "linecolor": "white",
            "ticks": ""
           }
          },
          "title": {
           "x": 0.05
          },
          "xaxis": {
           "automargin": true,
           "gridcolor": "white",
           "linecolor": "white",
           "ticks": "",
           "title": {
            "standoff": 15
           },
           "zerolinecolor": "white",
           "zerolinewidth": 2
          },
          "yaxis": {
           "automargin": true,
           "gridcolor": "white",
           "linecolor": "white",
           "ticks": "",
           "title": {
            "standoff": 15
           },
           "zerolinecolor": "white",
           "zerolinewidth": 2
          }
         }
        },
        "title": {
         "text": "Visualizing Clusters in Two Dimensions Using T-SNE (perplexity=50)"
        },
        "xaxis": {
         "ticklen": 5,
         "title": {
          "text": "TC1"
         },
         "zeroline": false
        },
        "yaxis": {
         "ticklen": 5,
         "title": {
          "text": "TC2"
         },
         "zeroline": false
        }
       }
      },
      "text/html": [
       "<div>\n",
       "        \n",
       "        \n",
       "            <div id=\"06a892d3-4009-4249-bb17-327f3242481f\" class=\"plotly-graph-div\" style=\"height:525px; width:100%;\"></div>\n",
       "            <script type=\"text/javascript\">\n",
       "                require([\"plotly\"], function(Plotly) {\n",
       "                    window.PLOTLYENV=window.PLOTLYENV || {};\n",
       "                    \n",
       "                if (document.getElementById(\"06a892d3-4009-4249-bb17-327f3242481f\")) {\n",
       "                    Plotly.newPlot(\n",
       "                        '06a892d3-4009-4249-bb17-327f3242481f',\n",
       "                        [{\"marker\": {\"color\": \"rgba(255, 128, 255, 0.8)\"}, \"mode\": \"markers\", \"name\": \"Cluster: 0\", \"text\": [\"China\", \"India\"], \"type\": \"scatter\", \"x\": [-7.054399490356445, -7.055252552032471], \"y\": [-0.08373649418354034, -0.12175671011209488]}, {\"marker\": {\"color\": \"rgba(255, 128, 2, 0.8)\"}, \"mode\": \"markers\", \"name\": \"Cluster: 1\", \"text\": [\"Nepal\", \"Burkina Faso\", \"Chad\", \"Cabo Verde\", \"Nigeria\", \"Djibouti\", \"Liberia\", \"Cameroon\", \"Equatorial Guinea\", \"Eswatini\", \"Kosovo\", \"Philippines\", \"Indonesia\", \"Guinea-Bissau\", \"Somalia\", \"Ghana\", \"Guinea\", \"Sierra Leone\", \"Guatemala\", \"South Sudan\", \"Mauritania\", \"Cambodia\", \"Papua New Guinea\", \"Bangladesh\", \"Liechtenstein\", \"Senegal\", \"Bolivia\", \"Botswana\", \"Uganda\", \"Burundi\", \"Malawi\", \"South Africa\", \"Iraq\", \"Afghanistan\", \"Mozambique\", \"Angola\", \"Togo\", \"Niger\", \"Madagascar\", \"Cote d'Ivoire\", \"Gabon\", \"Rwanda\", \"Pakistan\", \"Kenya\", \"Sudan\", \"Benin\", \"Guyana\"], \"type\": \"scatter\", \"x\": [-6.362361907958984, -4.719579219818115, -4.756388187408447, -2.550058603286743, -5.477589130401611, -3.4134938716888428, -4.333009243011475, -5.708354949951172, -4.533879280090332, -1.74346125125885, -2.2632718086242676, -3.8528223037719727, -4.087464809417725, -4.670215606689453, -5.849188804626465, -4.989968299865723, -4.332291126251221, -4.286396503448486, -3.739570379257202, -4.040556907653809, -4.099587917327881, -4.847259044647217, -3.434398889541626, -5.538220405578613, -2.26338267326355, -4.447983741760254, -3.4057860374450684, -1.9743080139160156, -5.280724048614502, -4.7327141761779785, -4.091362953186035, -1.1171138286590576, -2.370556592941284, -3.847961902618408, -5.168437957763672, -4.564675331115723, -4.683265686035156, -6.110814094543457, -5.148397445678711, -4.460864067077637, -1.2627036571502686, -5.0550994873046875, -5.525028228759766, -4.976682186126709, -3.1163711547851562, -4.6904706954956055, -2.4705727100372314], \"y\": [-2.573216199874878, -2.8880481719970703, -4.234910011291504, -1.7913203239440918, -3.7440919876098633, -3.3109259605407715, -2.7572181224823, -2.822221279144287, -4.531448841094971, -2.5593831539154053, -4.836269855499268, -0.9846478700637817, -0.3094937801361084, -2.9753222465515137, -4.281996726989746, -1.8064687252044678, -3.835158586502075, -2.809998035430908, -0.97042316198349, -4.214934825897217, -3.1982004642486572, -0.6609224677085876, -1.6211085319519043, -2.0805234909057617, -4.8361735343933105, -2.572053909301758, -0.49233174324035645, -2.289379835128784, -2.4931838512420654, -2.2712857723236084, -2.5132720470428467, -2.3229689598083496, -1.8871482610702515, -3.623749017715454, -3.351780414581299, -3.571958541870117, -2.439948797225952, -3.1692497730255127, -3.14780330657959, -2.712857484817505, -2.274399757385254, -2.1748557090759277, -2.5584449768066406, -2.422091484069824, -3.205425977706909, -3.0444815158843994, -1.0794740915298462]}, {\"marker\": {\"color\": \"rgba(0, 255, 200, 0.8)\"}, \"mode\": \"markers\", \"name\": \"Cluster: 2\", \"text\": [\"Barbados\", \"Colombia\", \"Grenada\", \"New Zealand\", \"Canada\", \"Sweden\", \"Uzbekistan\", \"Dominica\", \"Armenia\", \"Hungary\", \"Belize\", \"Honduras\", \"El Salvador\", \"Mexico\", \"Portugal\", \"Cyprus\", \"United Arab Emirates\", \"Romania\", \"Libya\", \"Trinidad and Tobago\", \"Bahrain\", \"Belgium\", \"Bosnia and Herzegovina\", \"San Marino\", \"Georgia\", \"Belarus\", \"Estonia\", \"Croatia\", \"Suriname\", \"Mongolia\", \"Sri Lanka\", \"Uruguay\", \"Norway\", \"France\", \"Jamaica\", \"Denmark\", \"Japan\", \"Brazil\", \"Jordan\", \"Serbia\", \"Antigua and Barbuda\", \"Kuwait\", \"Maldives\", \"Ukraine\", \"Moldova\", \"Switzerland\", \"Tunisia\", \"Lebanon\", \"Cuba\", \"Peru\", \"Oman\", \"Malta\", \"Andorra\", \"Albania\", \"Dominican Republic\", \"Vietnam\", \"Luxembourg\", \"Slovenia\", \"Panama\", \"Netherlands\", \"Spain\", \"Malaysia\", \"Poland\", \"Austria\", \"Montenegro\", \"Fiji\", \"Chile\", \"North Macedonia\", \"Argentina\", \"Turkey\", \"Thailand\", \"Singapore\", \"Australia\", \"Paraguay\", \"Seychelles\", \"Italy\", \"Israel\", \"Finland\"], \"type\": \"scatter\", \"x\": [-0.9905622005462646, -2.7433114051818848, -2.0986597537994385, 0.6458945274353027, 1.2527121305465698, 0.6372871398925781, -2.086057186126709, 0.9240136742591858, -0.9656922221183777, -1.2980984449386597, -2.711580991744995, -3.53007435798645, -3.039883852005005, -3.176652431488037, -0.971135139465332, -1.529396414756775, -3.5932416915893555, -1.1580029726028442, -1.3941583633422852, -2.4626429080963135, -3.7911951541900635, -0.14579501748085022, -0.4453701376914978, -2.671513319015503, -0.9279484152793884, -1.529221773147583, -1.1807920932769775, -1.0295753479003906, -3.367709159851074, -4.241235733032227, -2.085482358932495, -1.9012218713760376, 0.658806562423706, -0.46759381890296936, -2.924828052520752, 0.6017621159553528, 0.8378352522850037, -4.45254373550415, -1.6319680213928223, -0.4723038375377655, -2.017890691757202, -3.730459213256836, -2.0056803226470947, -2.102048397064209, -1.5460458993911743, 0.4581531882286072, -1.1327320337295532, -3.729219913482666, -1.5133787393569946, -3.2827796936035156, -3.835585355758667, -0.8732645511627197, 0.9622870683670044, -1.2160663604736328, -3.1397929191589355, -4.50352668762207, 0.9402682185173035, -1.4132329225540161, -2.815788984298706, -0.03266172856092453, -0.6237735152244568, -3.0508735179901123, -1.2022032737731934, 0.3277725577354431, -0.8966140747070312, -2.510603427886963, -2.2636404037475586, -0.4874739944934845, -5.601505756378174, -5.602636337280273, -2.895141124725342, -3.0231714248657227, 0.7207507491111755, -2.935300827026367, -2.7940268516540527, -0.6233054399490356, -1.9920599460601807, 0.5651820302009583], \"y\": [0.8418816328048706, 0.20582091808319092, 0.5034655928611755, 2.3824243545532227, 2.5299620628356934, 2.671444892883301, 0.31811416149139404, 0.744529664516449, -0.43090885877609253, 2.8724255561828613, -0.42979896068573, -0.1975073367357254, 0.01080604549497366, 0.8630138039588928, 1.7581048011779785, 1.4004050493240356, 2.8954107761383057, 1.9071918725967407, -1.5266430377960205, 1.019665241241455, 2.8039441108703613, 3.4987494945526123, -0.2930580973625183, 2.4196605682373047, -0.044862158596515656, 3.0584189891815186, 2.387784719467163, 1.6784511804580688, 0.9841739535331726, 1.148023009300232, -0.2528984844684601, 1.2989948987960815, 2.734998941421509, 4.8595051765441895, -0.7597123980522156, 2.664130210876465, 3.7660915851593018, 0.4399786591529846, -0.9922921061515808, 0.33841776847839355, 0.3946477770805359, 2.82204008102417, 0.25943031907081604, 3.2795822620391846, 0.8044112324714661, 2.970410108566284, -0.8122653961181641, 0.18215540051460266, 1.338525414466858, -0.06456751376390457, 1.4983854293823242, 2.1382603645324707, 0.7604811191558838, 0.46718382835388184, 0.3710246682167053, 1.894289493560791, 3.1143250465393066, 2.751354932785034, 0.4387345314025879, 3.3746767044067383, 4.991974353790283, 1.8055686950683594, 2.1920666694641113, 3.0879273414611816, 0.2754381597042084, 0.445056676864624, 1.064397931098938, -0.27614840865135193, 1.1529773473739624, 1.1297526359558105, 1.1713979244232178, 3.797006845474243, 2.550283193588257, 0.048124101012945175, 1.6971983909606934, 4.991614818572998, 1.7020701169967651, 2.7288239002227783]}],\n",
       "                        {\"template\": {\"data\": {\"bar\": [{\"error_x\": {\"color\": \"#2a3f5f\"}, \"error_y\": {\"color\": \"#2a3f5f\"}, \"marker\": {\"line\": {\"color\": \"#E5ECF6\", \"width\": 0.5}}, \"type\": \"bar\"}], \"barpolar\": [{\"marker\": {\"line\": {\"color\": \"#E5ECF6\", \"width\": 0.5}}, \"type\": \"barpolar\"}], \"carpet\": [{\"aaxis\": {\"endlinecolor\": \"#2a3f5f\", \"gridcolor\": \"white\", \"linecolor\": \"white\", \"minorgridcolor\": \"white\", \"startlinecolor\": \"#2a3f5f\"}, \"baxis\": {\"endlinecolor\": \"#2a3f5f\", \"gridcolor\": \"white\", \"linecolor\": \"white\", \"minorgridcolor\": \"white\", \"startlinecolor\": \"#2a3f5f\"}, \"type\": \"carpet\"}], \"choropleth\": [{\"colorbar\": {\"outlinewidth\": 0, \"ticks\": \"\"}, \"type\": \"choropleth\"}], \"contour\": [{\"colorbar\": {\"outlinewidth\": 0, \"ticks\": \"\"}, \"colorscale\": [[0.0, \"#0d0887\"], [0.1111111111111111, \"#46039f\"], [0.2222222222222222, \"#7201a8\"], [0.3333333333333333, \"#9c179e\"], [0.4444444444444444, \"#bd3786\"], [0.5555555555555556, \"#d8576b\"], [0.6666666666666666, \"#ed7953\"], [0.7777777777777778, \"#fb9f3a\"], [0.8888888888888888, \"#fdca26\"], [1.0, \"#f0f921\"]], \"type\": \"contour\"}], \"contourcarpet\": [{\"colorbar\": {\"outlinewidth\": 0, \"ticks\": \"\"}, \"type\": \"contourcarpet\"}], \"heatmap\": [{\"colorbar\": {\"outlinewidth\": 0, \"ticks\": \"\"}, \"colorscale\": [[0.0, \"#0d0887\"], [0.1111111111111111, \"#46039f\"], [0.2222222222222222, \"#7201a8\"], [0.3333333333333333, \"#9c179e\"], [0.4444444444444444, \"#bd3786\"], [0.5555555555555556, \"#d8576b\"], [0.6666666666666666, \"#ed7953\"], [0.7777777777777778, \"#fb9f3a\"], [0.8888888888888888, \"#fdca26\"], [1.0, \"#f0f921\"]], \"type\": \"heatmap\"}], \"heatmapgl\": [{\"colorbar\": {\"outlinewidth\": 0, \"ticks\": \"\"}, \"colorscale\": [[0.0, \"#0d0887\"], [0.1111111111111111, \"#46039f\"], [0.2222222222222222, \"#7201a8\"], [0.3333333333333333, \"#9c179e\"], [0.4444444444444444, \"#bd3786\"], [0.5555555555555556, \"#d8576b\"], [0.6666666666666666, \"#ed7953\"], [0.7777777777777778, \"#fb9f3a\"], [0.8888888888888888, \"#fdca26\"], [1.0, \"#f0f921\"]], \"type\": \"heatmapgl\"}], \"histogram\": [{\"marker\": {\"colorbar\": {\"outlinewidth\": 0, \"ticks\": \"\"}}, \"type\": \"histogram\"}], \"histogram2d\": [{\"colorbar\": {\"outlinewidth\": 0, \"ticks\": \"\"}, \"colorscale\": [[0.0, \"#0d0887\"], [0.1111111111111111, \"#46039f\"], [0.2222222222222222, \"#7201a8\"], [0.3333333333333333, \"#9c179e\"], [0.4444444444444444, \"#bd3786\"], [0.5555555555555556, \"#d8576b\"], [0.6666666666666666, \"#ed7953\"], [0.7777777777777778, \"#fb9f3a\"], [0.8888888888888888, \"#fdca26\"], [1.0, \"#f0f921\"]], \"type\": \"histogram2d\"}], \"histogram2dcontour\": [{\"colorbar\": {\"outlinewidth\": 0, \"ticks\": \"\"}, \"colorscale\": [[0.0, \"#0d0887\"], [0.1111111111111111, \"#46039f\"], [0.2222222222222222, \"#7201a8\"], [0.3333333333333333, \"#9c179e\"], [0.4444444444444444, \"#bd3786\"], [0.5555555555555556, \"#d8576b\"], [0.6666666666666666, \"#ed7953\"], [0.7777777777777778, \"#fb9f3a\"], [0.8888888888888888, \"#fdca26\"], [1.0, \"#f0f921\"]], \"type\": \"histogram2dcontour\"}], \"mesh3d\": [{\"colorbar\": {\"outlinewidth\": 0, \"ticks\": \"\"}, \"type\": \"mesh3d\"}], \"parcoords\": [{\"line\": {\"colorbar\": {\"outlinewidth\": 0, \"ticks\": \"\"}}, \"type\": \"parcoords\"}], \"pie\": [{\"automargin\": true, \"type\": \"pie\"}], \"scatter\": [{\"marker\": {\"colorbar\": {\"outlinewidth\": 0, \"ticks\": \"\"}}, \"type\": \"scatter\"}], \"scatter3d\": [{\"line\": {\"colorbar\": {\"outlinewidth\": 0, \"ticks\": \"\"}}, \"marker\": {\"colorbar\": {\"outlinewidth\": 0, \"ticks\": \"\"}}, \"type\": \"scatter3d\"}], \"scattercarpet\": [{\"marker\": {\"colorbar\": {\"outlinewidth\": 0, \"ticks\": \"\"}}, \"type\": \"scattercarpet\"}], \"scattergeo\": [{\"marker\": {\"colorbar\": {\"outlinewidth\": 0, \"ticks\": \"\"}}, \"type\": \"scattergeo\"}], \"scattergl\": [{\"marker\": {\"colorbar\": {\"outlinewidth\": 0, \"ticks\": \"\"}}, \"type\": \"scattergl\"}], \"scattermapbox\": [{\"marker\": {\"colorbar\": {\"outlinewidth\": 0, \"ticks\": \"\"}}, \"type\": \"scattermapbox\"}], \"scatterpolar\": [{\"marker\": {\"colorbar\": {\"outlinewidth\": 0, \"ticks\": \"\"}}, \"type\": \"scatterpolar\"}], \"scatterpolargl\": [{\"marker\": {\"colorbar\": {\"outlinewidth\": 0, \"ticks\": \"\"}}, \"type\": \"scatterpolargl\"}], \"scatterternary\": [{\"marker\": {\"colorbar\": {\"outlinewidth\": 0, \"ticks\": \"\"}}, \"type\": \"scatterternary\"}], \"surface\": [{\"colorbar\": {\"outlinewidth\": 0, \"ticks\": \"\"}, \"colorscale\": [[0.0, \"#0d0887\"], [0.1111111111111111, \"#46039f\"], [0.2222222222222222, \"#7201a8\"], [0.3333333333333333, \"#9c179e\"], [0.4444444444444444, \"#bd3786\"], [0.5555555555555556, \"#d8576b\"], [0.6666666666666666, \"#ed7953\"], [0.7777777777777778, \"#fb9f3a\"], [0.8888888888888888, \"#fdca26\"], [1.0, \"#f0f921\"]], \"type\": \"surface\"}], \"table\": [{\"cells\": {\"fill\": {\"color\": \"#EBF0F8\"}, \"line\": {\"color\": \"white\"}}, \"header\": {\"fill\": {\"color\": \"#C8D4E3\"}, \"line\": {\"color\": \"white\"}}, \"type\": \"table\"}]}, \"layout\": {\"annotationdefaults\": {\"arrowcolor\": \"#2a3f5f\", \"arrowhead\": 0, \"arrowwidth\": 1}, \"coloraxis\": {\"colorbar\": {\"outlinewidth\": 0, \"ticks\": \"\"}}, \"colorscale\": {\"diverging\": [[0, \"#8e0152\"], [0.1, \"#c51b7d\"], [0.2, \"#de77ae\"], [0.3, \"#f1b6da\"], [0.4, \"#fde0ef\"], [0.5, \"#f7f7f7\"], [0.6, \"#e6f5d0\"], [0.7, \"#b8e186\"], [0.8, \"#7fbc41\"], [0.9, \"#4d9221\"], [1, \"#276419\"]], \"sequential\": [[0.0, \"#0d0887\"], [0.1111111111111111, \"#46039f\"], [0.2222222222222222, \"#7201a8\"], [0.3333333333333333, \"#9c179e\"], [0.4444444444444444, \"#bd3786\"], [0.5555555555555556, \"#d8576b\"], [0.6666666666666666, \"#ed7953\"], [0.7777777777777778, \"#fb9f3a\"], [0.8888888888888888, \"#fdca26\"], [1.0, \"#f0f921\"]], \"sequentialminus\": [[0.0, \"#0d0887\"], [0.1111111111111111, \"#46039f\"], [0.2222222222222222, \"#7201a8\"], [0.3333333333333333, \"#9c179e\"], [0.4444444444444444, \"#bd3786\"], [0.5555555555555556, \"#d8576b\"], [0.6666666666666666, \"#ed7953\"], [0.7777777777777778, \"#fb9f3a\"], [0.8888888888888888, \"#fdca26\"], [1.0, \"#f0f921\"]]}, \"colorway\": [\"#636efa\", \"#EF553B\", \"#00cc96\", \"#ab63fa\", \"#FFA15A\", \"#19d3f3\", \"#FF6692\", \"#B6E880\", \"#FF97FF\", \"#FECB52\"], \"font\": {\"color\": \"#2a3f5f\"}, \"geo\": {\"bgcolor\": \"white\", \"lakecolor\": \"white\", \"landcolor\": \"#E5ECF6\", \"showlakes\": true, \"showland\": true, \"subunitcolor\": \"white\"}, \"hoverlabel\": {\"align\": \"left\"}, \"hovermode\": \"closest\", \"mapbox\": {\"style\": \"light\"}, \"paper_bgcolor\": \"white\", \"plot_bgcolor\": \"#E5ECF6\", \"polar\": {\"angularaxis\": {\"gridcolor\": \"white\", \"linecolor\": \"white\", \"ticks\": \"\"}, \"bgcolor\": \"#E5ECF6\", \"radialaxis\": {\"gridcolor\": \"white\", \"linecolor\": \"white\", \"ticks\": \"\"}}, \"scene\": {\"xaxis\": {\"backgroundcolor\": \"#E5ECF6\", \"gridcolor\": \"white\", \"gridwidth\": 2, \"linecolor\": \"white\", \"showbackground\": true, \"ticks\": \"\", \"zerolinecolor\": \"white\"}, \"yaxis\": {\"backgroundcolor\": \"#E5ECF6\", \"gridcolor\": \"white\", \"gridwidth\": 2, \"linecolor\": \"white\", \"showbackground\": true, \"ticks\": \"\", \"zerolinecolor\": \"white\"}, \"zaxis\": {\"backgroundcolor\": \"#E5ECF6\", \"gridcolor\": \"white\", \"gridwidth\": 2, \"linecolor\": \"white\", \"showbackground\": true, \"ticks\": \"\", \"zerolinecolor\": \"white\"}}, \"shapedefaults\": {\"line\": {\"color\": \"#2a3f5f\"}}, \"ternary\": {\"aaxis\": {\"gridcolor\": \"white\", \"linecolor\": \"white\", \"ticks\": \"\"}, \"baxis\": {\"gridcolor\": \"white\", \"linecolor\": \"white\", \"ticks\": \"\"}, \"bgcolor\": \"#E5ECF6\", \"caxis\": {\"gridcolor\": \"white\", \"linecolor\": \"white\", \"ticks\": \"\"}}, \"title\": {\"x\": 0.05}, \"xaxis\": {\"automargin\": true, \"gridcolor\": \"white\", \"linecolor\": \"white\", \"ticks\": \"\", \"title\": {\"standoff\": 15}, \"zerolinecolor\": \"white\", \"zerolinewidth\": 2}, \"yaxis\": {\"automargin\": true, \"gridcolor\": \"white\", \"linecolor\": \"white\", \"ticks\": \"\", \"title\": {\"standoff\": 15}, \"zerolinecolor\": \"white\", \"zerolinewidth\": 2}}}, \"title\": {\"text\": \"Visualizing Clusters in Two Dimensions Using T-SNE (perplexity=50)\"}, \"xaxis\": {\"ticklen\": 5, \"title\": {\"text\": \"TC1\"}, \"zeroline\": false}, \"yaxis\": {\"ticklen\": 5, \"title\": {\"text\": \"TC2\"}, \"zeroline\": false}},\n",
       "                        {\"responsive\": true}\n",
       "                    ).then(function(){\n",
       "                            \n",
       "var gd = document.getElementById('06a892d3-4009-4249-bb17-327f3242481f');\n",
       "var x = new MutationObserver(function (mutations, observer) {{\n",
       "        var display = window.getComputedStyle(gd).display;\n",
       "        if (!display || display === 'none') {{\n",
       "            console.log([gd, 'removed!']);\n",
       "            Plotly.purge(gd);\n",
       "            observer.disconnect();\n",
       "        }}\n",
       "}});\n",
       "\n",
       "// Listen for the removal of the full notebook cells\n",
       "var notebookContainer = gd.closest('#notebook-container');\n",
       "if (notebookContainer) {{\n",
       "    x.observe(notebookContainer, {childList: true});\n",
       "}}\n",
       "\n",
       "// Listen for the clearing of the current output cell\n",
       "var outputEl = gd.closest('.output');\n",
       "if (outputEl) {{\n",
       "    x.observe(outputEl, {childList: true});\n",
       "}}\n",
       "\n",
       "                        })\n",
       "                };\n",
       "                });\n",
       "            </script>\n",
       "        </div>"
      ]
     },
     "metadata": {},
     "output_type": "display_data"
    }
   ],
   "source": [
    "def make_scat(cid, rgb_color, cluster):\n",
    "    return go.Scatter(\n",
    "                x = cluster[\"TC1_2d\"],\n",
    "                y = cluster[\"TC2_2d\"],\n",
    "                mode = \"markers\",\n",
    "                name = \"Cluster: \"+str(cid),\n",
    "                marker =rgb_color,\n",
    "                text = cluster.index)\n",
    "    \n",
    "\n",
    "data = [\n",
    "    make_scat(0, dict(color = 'rgba(255, 128, 255, 0.8)'), cluster0),\n",
    "    make_scat(1, dict(color ='rgba(255, 128, 2, 0.8)'), cluster1),\n",
    "    make_scat(2, dict(color ='rgba(0, 255, 200, 0.8)'), cluster2),\n",
    "]\n",
    "\n",
    "#data = [trace1, trace2, trace3]\n",
    "\n",
    "title = \"Visualizing Clusters in Two Dimensions Using T-SNE (perplexity=\" + str(perplexity) + \")\"\n",
    "\n",
    "layout = dict(title = title,\n",
    "              xaxis= dict(title= 'TC1',ticklen= 5,zeroline= False),\n",
    "              yaxis= dict(title= 'TC2',ticklen= 5,zeroline= False)\n",
    "             )\n",
    "\n",
    "fig = dict(data = data, layout = layout)\n",
    "\n",
    "iplot(fig)"
   ]
  },
  {
   "cell_type": "markdown",
   "metadata": {},
   "source": [
    "## Tuning the Perplexity level in 2D?\n",
    "\n"
   ]
  },
  {
   "cell_type": "code",
   "execution_count": 20,
   "metadata": {
    "scrolled": false
   },
   "outputs": [
    {
     "data": {
      "text/plain": [
       "pandas.core.frame.DataFrame"
      ]
     },
     "metadata": {},
     "output_type": "display_data"
    },
    {
     "data": {
      "text/html": [
       "<div>\n",
       "<style scoped>\n",
       "    .dataframe tbody tr th:only-of-type {\n",
       "        vertical-align: middle;\n",
       "    }\n",
       "\n",
       "    .dataframe tbody tr th {\n",
       "        vertical-align: top;\n",
       "    }\n",
       "\n",
       "    .dataframe thead th {\n",
       "        text-align: right;\n",
       "    }\n",
       "</style>\n",
       "<table border=\"1\" class=\"dataframe\">\n",
       "  <thead>\n",
       "    <tr style=\"text-align: right;\">\n",
       "      <th></th>\n",
       "      <th>Deaths</th>\n",
       "      <th>Cases</th>\n",
       "      <th>Population</th>\n",
       "      <th>flights</th>\n",
       "      <th>pollution</th>\n",
       "      <th>unemp%</th>\n",
       "      <th>hospbeds</th>\n",
       "      <th>railways</th>\n",
       "      <th>urbanpop%</th>\n",
       "      <th>slum%</th>\n",
       "      <th>...</th>\n",
       "      <th>pop% &gt;= 65</th>\n",
       "      <th>trade%</th>\n",
       "      <th>cluster</th>\n",
       "      <th>TC1_1d</th>\n",
       "      <th>TC1_2d</th>\n",
       "      <th>TC2_2d</th>\n",
       "      <th>TC1_3d</th>\n",
       "      <th>TC2_3d</th>\n",
       "      <th>TC3_3d</th>\n",
       "      <th>dummy</th>\n",
       "    </tr>\n",
       "    <tr>\n",
       "      <th>Country/Region</th>\n",
       "      <th></th>\n",
       "      <th></th>\n",
       "      <th></th>\n",
       "      <th></th>\n",
       "      <th></th>\n",
       "      <th></th>\n",
       "      <th></th>\n",
       "      <th></th>\n",
       "      <th></th>\n",
       "      <th></th>\n",
       "      <th></th>\n",
       "      <th></th>\n",
       "      <th></th>\n",
       "      <th></th>\n",
       "      <th></th>\n",
       "      <th></th>\n",
       "      <th></th>\n",
       "      <th></th>\n",
       "      <th></th>\n",
       "      <th></th>\n",
       "      <th></th>\n",
       "    </tr>\n",
       "  </thead>\n",
       "  <tbody>\n",
       "    <tr>\n",
       "      <td>Barbados</td>\n",
       "      <td>-0.220815</td>\n",
       "      <td>-0.212466</td>\n",
       "      <td>-0.270984</td>\n",
       "      <td>-0.248745</td>\n",
       "      <td>-0.208240</td>\n",
       "      <td>0.698259</td>\n",
       "      <td>1.224456</td>\n",
       "      <td>-0.335953</td>\n",
       "      <td>-1.244997</td>\n",
       "      <td>-0.882278</td>\n",
       "      <td>...</td>\n",
       "      <td>1.072493</td>\n",
       "      <td>-0.604918</td>\n",
       "      <td>2</td>\n",
       "      <td>-0.552918</td>\n",
       "      <td>1.759773</td>\n",
       "      <td>-2.692564</td>\n",
       "      <td>-24.383293</td>\n",
       "      <td>111.538467</td>\n",
       "      <td>63.992722</td>\n",
       "      <td>0</td>\n",
       "    </tr>\n",
       "    <tr>\n",
       "      <td>Colombia</td>\n",
       "      <td>-0.186772</td>\n",
       "      <td>-0.159952</td>\n",
       "      <td>0.037768</td>\n",
       "      <td>0.154601</td>\n",
       "      <td>-0.544376</td>\n",
       "      <td>0.583405</td>\n",
       "      <td>-0.563661</td>\n",
       "      <td>-0.335953</td>\n",
       "      <td>0.891490</td>\n",
       "      <td>-0.419673</td>\n",
       "      <td>...</td>\n",
       "      <td>-0.035224</td>\n",
       "      <td>-0.919848</td>\n",
       "      <td>2</td>\n",
       "      <td>-1.486201</td>\n",
       "      <td>0.279921</td>\n",
       "      <td>-1.519649</td>\n",
       "      <td>155.384109</td>\n",
       "      <td>34.612221</td>\n",
       "      <td>-6.866547</td>\n",
       "      <td>0</td>\n",
       "    </tr>\n",
       "    <tr>\n",
       "      <td>Nepal</td>\n",
       "      <td>-0.221965</td>\n",
       "      <td>-0.213153</td>\n",
       "      <td>-0.097055</td>\n",
       "      <td>-0.168550</td>\n",
       "      <td>3.725320</td>\n",
       "      <td>-0.954159</td>\n",
       "      <td>-1.062671</td>\n",
       "      <td>-0.335953</td>\n",
       "      <td>-1.736179</td>\n",
       "      <td>1.035236</td>\n",
       "      <td>...</td>\n",
       "      <td>-0.451375</td>\n",
       "      <td>-0.332996</td>\n",
       "      <td>1</td>\n",
       "      <td>-4.571540</td>\n",
       "      <td>-0.264263</td>\n",
       "      <td>3.906142</td>\n",
       "      <td>-78.772499</td>\n",
       "      <td>-131.528427</td>\n",
       "      <td>114.439049</td>\n",
       "      <td>0</td>\n",
       "    </tr>\n",
       "  </tbody>\n",
       "</table>\n",
       "<p>3 rows × 26 columns</p>\n",
       "</div>"
      ],
      "text/plain": [
       "                  Deaths     Cases  Population   flights  pollution    unemp%  \\\n",
       "Country/Region                                                                  \n",
       "Barbados       -0.220815 -0.212466   -0.270984 -0.248745  -0.208240  0.698259   \n",
       "Colombia       -0.186772 -0.159952    0.037768  0.154601  -0.544376  0.583405   \n",
       "Nepal          -0.221965 -0.213153   -0.097055 -0.168550   3.725320 -0.954159   \n",
       "\n",
       "                hospbeds  railways  urbanpop%     slum%  ...  pop% >= 65  \\\n",
       "Country/Region                                           ...               \n",
       "Barbados        1.224456 -0.335953  -1.244997 -0.882278  ...    1.072493   \n",
       "Colombia       -0.563661 -0.335953   0.891490 -0.419673  ...   -0.035224   \n",
       "Nepal          -1.062671 -0.335953  -1.736179  1.035236  ...   -0.451375   \n",
       "\n",
       "                  trade%  cluster    TC1_1d    TC1_2d    TC2_2d      TC1_3d  \\\n",
       "Country/Region                                                                \n",
       "Barbados       -0.604918        2 -0.552918  1.759773 -2.692564  -24.383293   \n",
       "Colombia       -0.919848        2 -1.486201  0.279921 -1.519649  155.384109   \n",
       "Nepal          -0.332996        1 -4.571540 -0.264263  3.906142  -78.772499   \n",
       "\n",
       "                    TC2_3d      TC3_3d  dummy  \n",
       "Country/Region                                 \n",
       "Barbados        111.538467   63.992722      0  \n",
       "Colombia         34.612221   -6.866547      0  \n",
       "Nepal          -131.528427  114.439049      0  \n",
       "\n",
       "[3 rows x 26 columns]"
      ]
     },
     "metadata": {},
     "output_type": "display_data"
    },
    {
     "data": {
      "text/plain": [
       "<seaborn.axisgrid.FacetGrid at 0x1e733adee48>"
      ]
     },
     "execution_count": 20,
     "metadata": {},
     "output_type": "execute_result"
    },
    {
     "data": {
      "image/png": "[encoded data removed]",
      "text/plain": [
       "<Figure size 648x216 with 3 Axes>"
      ]
     },
     "metadata": {},
     "output_type": "display_data"
    }
   ],
   "source": [
    "plotX = df_train.copy()\n",
    "\n",
    "def build_sets(perplexity, plotX):\n",
    "    tsne_1d = TSNE(n_components=1, perplexity=perplexity)\n",
    "    tsne_2d = TSNE(n_components=2, perplexity=perplexity)\n",
    "    tsne_3d = TSNE(n_components=3, perplexity=perplexity)\n",
    "\n",
    "    TCs_1d = pd.DataFrame(tsne_1d.fit_transform(plotX.drop([\"cluster\"], axis=1)), index=plotX.index)\n",
    "    TCs_2d = pd.DataFrame(tsne_2d.fit_transform(plotX.drop([\"cluster\"], axis=1)), index=plotX.index)\n",
    "    TCs_3d = pd.DataFrame(tsne_3d.fit_transform(plotX.drop([\"cluster\"], axis=1)), index=plotX.index)\n",
    "\n",
    "    TCs_1d.columns = [\"TC1_1d\"]\n",
    "    PCs_1d.columns = [\"PC1_1d\"]\n",
    "    TCs_2d.columns = [\"TC1_2d\",\"TC2_2d\"]\n",
    "    TCs_3d.columns = [\"TC1_3d\",\"TC2_3d\",\"TC3_3d\"]\n",
    "\n",
    "    plotX = pd.concat([plotX,TCs_1d,TCs_2d,TCs_3d], axis=1, join='inner')\n",
    "    plotX[\"dummy\"] = 0\n",
    "\n",
    "    cluster0 = plotX[plotX[\"cluster\"] == 0]\n",
    "    cluster1 = plotX[plotX[\"cluster\"] == 1]\n",
    "    cluster2 = plotX[plotX[\"cluster\"] == 2]\n",
    "    \n",
    "    display(type(cluster0))\n",
    "    return cluster0,cluster1,cluster2, plotX\n",
    "\n",
    "# init_notebook_mode(connected=True)\n",
    "# fig,ax = plt.subplots(1,4,figsize=(8, 12)) \n",
    "\n",
    "import seaborn as sns\n",
    "import matplotlib.pyplot as plt\n",
    "sns.set(style=\"ticks\")\n",
    "\n",
    "c0,c1,c2, plotX2 = build_sets(50,plotX)    \n",
    "\n",
    "display(plotX2.head(3))\n",
    "\n",
    "g = sns.FacetGrid(plotX2, col=\"cluster\", hue=\"Cases\")\n",
    "g.map(plt.scatter, \"TC1_2d\", \"TC2_2d\", alpha=.7)\n",
    "\n",
    "# # for i in [10,20,30, 40,50,60, 70,80,90]:\n",
    "# for i in [10, 40]:\n",
    "#     c0,c1,c2,X2 = build_sets(i,plotX)    \n",
    "\n",
    "#     display(c0.head(3))\n",
    "#     display(c1.head(3))\n",
    "# #     ax[0].scatter(c0['TC1_2d'], c0['TC2_2d'])\n",
    "\n"
   ]
  },
  {
   "cell_type": "code",
   "execution_count": null,
   "metadata": {},
   "outputs": [],
   "source": []
  },
  {
   "cell_type": "markdown",
   "metadata": {},
   "source": [
    "## Need to figure out do I keep causes & deaths as indicators ?  Weigh them?  Add a cases/trending 3,7,14 day rolling avg?"
   ]
  },
  {
   "cell_type": "code",
   "execution_count": null,
   "metadata": {},
   "outputs": [],
   "source": []
  },
  {
   "cell_type": "code",
   "execution_count": null,
   "metadata": {},
   "outputs": [],
   "source": []
  },
  {
   "cell_type": "markdown",
   "metadata": {},
   "source": [
    "# Pop Density vs Case counts"
   ]
  },
  {
   "cell_type": "code",
   "execution_count": null,
   "metadata": {},
   "outputs": [],
   "source": [
    "max_ctys = 30\n",
    "fig,ax1 = plt.subplots(figsize=(10, 8)) \n",
    "\n",
    "df_gmerged_h = df_gmerged2[df_gmerged2['Cases'] > 1000].sort_values(by=['popdensity'],ascending=False).head(max_ctys)\n",
    "\n",
    "ax1.set_xlabel('Cases')  \n",
    "ax1.set_xscale('linear')\n",
    "ax1.barh(df_gmerged_h['Country/Region'], df_gmerged_h['Cases'], color='xkcd:green')\n",
    "for n,i in enumerate(ax1.patches):\n",
    "    ax1.text(i.get_width()+.02, i.get_y()+.5,'density: '+str(df_gmerged_h['popdensity'].iloc[n:n+1].round(2).item()) + ', pop: '+str(df_gmerged_h['Population'].iloc[n:n+1].div(1000000).round(0).item()) +'M, '+str(df_gmerged_h['% of pop'].iloc[n:n+1].round(2).item())  +'%', color='xkcd:blue')\n",
    "\n",
    "# ax2 = ax1.twiny()\n",
    "# ax2.set_xscale('linear')\n",
    "# ax2.set(xlim=[0, 10])   # get max min +/- buffer\n",
    "# ax2.set_xlabel('Population density', color='xkcd:red')  \n",
    "# ax2.spines['top'].set_color('red')\n",
    "# ax2.tick_params(axis='x', colors='red')\n",
    "# ax2.barh(df_gmerged_h['Country/Region'], df_gmerged_h['popdensity'], color='xkcd:red')\n",
    "# for n,i in enumerate(ax2.patches):\n",
    "#     ax2.text(i.get_width()+.02, i.get_y()+.5,str(df_gmerged_h['popdensity'].iloc[n:n+1].item()), color='xkcd:red')\n",
    "\n",
    "plt.title('Top Population Density Countries > 1000 cases')\n",
    "plt.gca().invert_yaxis()\n",
    "plt.show()"
   ]
  },
  {
   "cell_type": "code",
   "execution_count": null,
   "metadata": {},
   "outputs": [],
   "source": [
    "# read from JSON directly WIP -- would be more optimal than above but scrap for now\n",
    "# EN.ATM.PM25.MC.M3 - polution\n",
    "# able to aggrecate and get last value, not sure what source= is    ?source=2&format=json&mrnev=1&per_page=500\n",
    "#   http://api.worldbank.org/v2/country/all/indicator/EN.ATM.PM25.MC.M3;SH.MED.BEDS.ZS;IS.AIR.DPRT;IS.RRS.TOTL.KM;SP.URB.TOTL.IN.ZS;SP.POP.TOTL;SL.UEM.TOTL.ZS?source=2&format=json&mrnev=1&per_page=5000\n",
    "#jurl = 'http://api.worldbank.org/v2/country/all/indicator/EN.ATM.PM25.MC.M3;SH.MED.BEDS.ZS;IS.AIR.DPRT;IS.RRS.TOTL.KM;SP.URB.TOTL.IN.ZS;SP.POP.TOTL;SL.UEM.TOTL.ZS?source=2&format=json&mrnev=1&per_page=5000'\n",
    "    \n",
    "#r = requests.get(jurl)\n",
    "#display(r.text)\n",
    "#    \n",
    "#pd.read_json(r.text)\n",
    "\n"
   ]
  }
 ],
 "metadata": {
  "kernelspec": {
   "display_name": "Python 3",
   "language": "python",
   "name": "python3"
  }
 },
 "nbformat": 4,
 "nbformat_minor": 2
}
